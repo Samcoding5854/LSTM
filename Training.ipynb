{
 "cells": [
  {
   "cell_type": "code",
   "execution_count": 1,
   "metadata": {},
   "outputs": [],
   "source": [
    "from ultralytics import YOLO\n",
    "import numpy as np\n",
    "\n",
    "# Load a model\n",
    "modelpose = YOLO('yolov8n-pose.pt') "
   ]
  },
  {
   "cell_type": "code",
   "execution_count": 2,
   "metadata": {},
   "outputs": [],
   "source": [
    "import os\n",
    "\n",
    "# Path for exported data, numpy arrays\n",
    "DATA_PATH = os.path.join('MP_Data') \n",
    "\n",
    "# Thirty videos worth of data\n",
    "no_sequences = 40\n",
    "\n",
    "\n",
    "# Videos are going to be 30 frames in length\n",
    "sequence_length = 30"
   ]
  },
  {
   "cell_type": "code",
   "execution_count": 3,
   "metadata": {},
   "outputs": [
    {
     "name": "stdout",
     "output_type": "stream",
     "text": [
      "['running' 'standing' 'sitting' 'jumping' 'walking' 'squat']\n"
     ]
    }
   ],
   "source": [
    "# Define path to the main folder containing class subfolders\n",
    "data_path = \"MP_Data\"  # Replace with your actual path\n",
    "\n",
    "# Define actions based on subfolder names (modify as needed)\n",
    "actions = np.array(os.listdir(data_path))  # Get list of subfolders\n",
    "print(actions)"
   ]
  },
  {
   "cell_type": "code",
   "execution_count": 4,
   "metadata": {},
   "outputs": [],
   "source": [
    "\n",
    "# Initialize sequence counter (starts from 0)\n",
    "for action in actions: \n",
    "    for sequence in range(no_sequences):\n",
    "        try: \n",
    "            os.makedirs(os.path.join(DATA_PATH, action, str(sequence)))\n",
    "        except:\n",
    "            pass"
   ]
  },
  {
   "cell_type": "code",
   "execution_count": 5,
   "metadata": {},
   "outputs": [
    {
     "name": "stderr",
     "output_type": "stream",
     "text": [
      "[ WARN:0@12.866] global /croot/opencv-suite_1691620365762/work/modules/videoio/src/cap_gstreamer.cpp (2401) handleMessage OpenCV | GStreamer warning: Embedded video playback halted; module source reported: \"/home/samarth5854/Desktop/LSTM/MP_Data/running/0\" is a directory.\n",
      "[ WARN:0@12.867] global /croot/opencv-suite_1691620365762/work/modules/videoio/src/cap_gstreamer.cpp (1356) open OpenCV | GStreamer warning: unable to start pipeline\n",
      "[ WARN:0@12.867] global /croot/opencv-suite_1691620365762/work/modules/videoio/src/cap_gstreamer.cpp (862) isPipelinePlaying OpenCV | GStreamer warning: GStreamer: pipeline have not been created\n",
      "WARNING ⚠️ 'source' is missing. Using 'source=/home/samarth5854/anaconda3/envs/ModelEnv/lib/python3.10/site-packages/ultralytics/assets'.\n",
      "2024-04-03 15:05:53.933246: E external/local_xla/xla/stream_executor/cuda/cuda_dnn.cc:9261] Unable to register cuDNN factory: Attempting to register factory for plugin cuDNN when one has already been registered\n",
      "2024-04-03 15:05:53.933272: E external/local_xla/xla/stream_executor/cuda/cuda_fft.cc:607] Unable to register cuFFT factory: Attempting to register factory for plugin cuFFT when one has already been registered\n",
      "2024-04-03 15:05:53.960680: E external/local_xla/xla/stream_executor/cuda/cuda_blas.cc:1515] Unable to register cuBLAS factory: Attempting to register factory for plugin cuBLAS when one has already been registered\n",
      "\n",
      "image 1/2 /home/samarth5854/anaconda3/envs/ModelEnv/lib/python3.10/site-packages/ultralytics/assets/bus.jpg: 640x480 4 persons, 91.5ms\n",
      "image 2/2 /home/samarth5854/anaconda3/envs/ModelEnv/lib/python3.10/site-packages/ultralytics/assets/zidane.jpg: 384x640 2 persons, 58.8ms\n",
      "Speed: 3.1ms preprocess, 75.1ms inference, 2.7ms postprocess per image at shape (1, 3, 384, 640)\n",
      "WARNING ⚠️ 'source' is missing. Using 'source=/home/samarth5854/anaconda3/envs/ModelEnv/lib/python3.10/site-packages/ultralytics/assets'.\n",
      "\n",
      "image 1/2 /home/samarth5854/anaconda3/envs/ModelEnv/lib/python3.10/site-packages/ultralytics/assets/bus.jpg: 640x480 4 persons, 46.3ms\n",
      "image 2/2 /home/samarth5854/anaconda3/envs/ModelEnv/lib/python3.10/site-packages/ultralytics/assets/zidane.jpg: 384x640 2 persons, 40.5ms\n",
      "Speed: 1.4ms preprocess, 43.4ms inference, 1.0ms postprocess per image at shape (1, 3, 384, 640)\n",
      "WARNING ⚠️ 'source' is missing. Using 'source=/home/samarth5854/anaconda3/envs/ModelEnv/lib/python3.10/site-packages/ultralytics/assets'.\n",
      "\n",
      "image 1/2 /home/samarth5854/anaconda3/envs/ModelEnv/lib/python3.10/site-packages/ultralytics/assets/bus.jpg: 640x480 4 persons, 41.3ms\n"
     ]
    },
    {
     "name": "stdout",
     "output_type": "stream",
     "text": [
      "Keypoints shape before flattening: torch.Size([4, 17, 2])\n",
      "Keypoints shape after flattening: (34,)\n",
      "saved to MP_Data/running/0/0.npy\n",
      "Keypoints shape before flattening: torch.Size([4, 17, 2])\n",
      "Keypoints shape after flattening: (34,)\n",
      "saved to MP_Data/running/0/1.npy\n"
     ]
    },
    {
     "name": "stderr",
     "output_type": "stream",
     "text": [
      "image 2/2 /home/samarth5854/anaconda3/envs/ModelEnv/lib/python3.10/site-packages/ultralytics/assets/zidane.jpg: 384x640 2 persons, 37.5ms\n",
      "Speed: 1.9ms preprocess, 39.4ms inference, 0.7ms postprocess per image at shape (1, 3, 384, 640)\n",
      "WARNING ⚠️ 'source' is missing. Using 'source=/home/samarth5854/anaconda3/envs/ModelEnv/lib/python3.10/site-packages/ultralytics/assets'.\n",
      "\n",
      "image 1/2 /home/samarth5854/anaconda3/envs/ModelEnv/lib/python3.10/site-packages/ultralytics/assets/bus.jpg: 640x480 4 persons, 41.7ms\n",
      "image 2/2 /home/samarth5854/anaconda3/envs/ModelEnv/lib/python3.10/site-packages/ultralytics/assets/zidane.jpg: 384x640 2 persons, 33.9ms\n",
      "Speed: 1.5ms preprocess, 37.8ms inference, 0.8ms postprocess per image at shape (1, 3, 384, 640)\n",
      "WARNING ⚠️ 'source' is missing. Using 'source=/home/samarth5854/anaconda3/envs/ModelEnv/lib/python3.10/site-packages/ultralytics/assets'.\n",
      "\n",
      "image 1/2 /home/samarth5854/anaconda3/envs/ModelEnv/lib/python3.10/site-packages/ultralytics/assets/bus.jpg: 640x480 4 persons, 49.6ms\n"
     ]
    },
    {
     "name": "stdout",
     "output_type": "stream",
     "text": [
      "Keypoints shape before flattening: torch.Size([4, 17, 2])\n",
      "Keypoints shape after flattening: (34,)\n",
      "saved to MP_Data/running/0/2.npy\n",
      "Keypoints shape before flattening: torch.Size([4, 17, 2])\n",
      "Keypoints shape after flattening: (34,)\n",
      "saved to MP_Data/running/0/3.npy\n"
     ]
    },
    {
     "name": "stderr",
     "output_type": "stream",
     "text": [
      "image 2/2 /home/samarth5854/anaconda3/envs/ModelEnv/lib/python3.10/site-packages/ultralytics/assets/zidane.jpg: 384x640 2 persons, 46.5ms\n",
      "Speed: 1.4ms preprocess, 48.1ms inference, 0.6ms postprocess per image at shape (1, 3, 384, 640)\n",
      "WARNING ⚠️ 'source' is missing. Using 'source=/home/samarth5854/anaconda3/envs/ModelEnv/lib/python3.10/site-packages/ultralytics/assets'.\n",
      "\n",
      "image 1/2 /home/samarth5854/anaconda3/envs/ModelEnv/lib/python3.10/site-packages/ultralytics/assets/bus.jpg: 640x480 4 persons, 57.5ms\n",
      "image 2/2 /home/samarth5854/anaconda3/envs/ModelEnv/lib/python3.10/site-packages/ultralytics/assets/zidane.jpg: 384x640 2 persons, 48.0ms\n",
      "Speed: 1.6ms preprocess, 52.8ms inference, 0.7ms postprocess per image at shape (1, 3, 384, 640)\n",
      "WARNING ⚠️ 'source' is missing. Using 'source=/home/samarth5854/anaconda3/envs/ModelEnv/lib/python3.10/site-packages/ultralytics/assets'.\n",
      "\n"
     ]
    },
    {
     "name": "stdout",
     "output_type": "stream",
     "text": [
      "Keypoints shape before flattening: torch.Size([4, 17, 2])\n",
      "Keypoints shape after flattening: (34,)\n",
      "saved to MP_Data/running/0/4.npy\n",
      "Keypoints shape before flattening: torch.Size([4, 17, 2])\n",
      "Keypoints shape after flattening: (34,)\n",
      "saved to MP_Data/running/0/5.npy\n"
     ]
    },
    {
     "name": "stderr",
     "output_type": "stream",
     "text": [
      "image 1/2 /home/samarth5854/anaconda3/envs/ModelEnv/lib/python3.10/site-packages/ultralytics/assets/bus.jpg: 640x480 4 persons, 58.3ms\n",
      "image 2/2 /home/samarth5854/anaconda3/envs/ModelEnv/lib/python3.10/site-packages/ultralytics/assets/zidane.jpg: 384x640 2 persons, 52.4ms\n",
      "Speed: 1.7ms preprocess, 55.3ms inference, 0.7ms postprocess per image at shape (1, 3, 384, 640)\n",
      "WARNING ⚠️ 'source' is missing. Using 'source=/home/samarth5854/anaconda3/envs/ModelEnv/lib/python3.10/site-packages/ultralytics/assets'.\n",
      "\n",
      "image 1/2 /home/samarth5854/anaconda3/envs/ModelEnv/lib/python3.10/site-packages/ultralytics/assets/bus.jpg: 640x480 4 persons, 64.7ms\n",
      "image 2/2 /home/samarth5854/anaconda3/envs/ModelEnv/lib/python3.10/site-packages/ultralytics/assets/zidane.jpg: 384x640 2 persons, 52.2ms\n",
      "Speed: 1.4ms preprocess, 58.4ms inference, 0.8ms postprocess per image at shape (1, 3, 384, 640)\n",
      "WARNING ⚠️ 'source' is missing. Using 'source=/home/samarth5854/anaconda3/envs/ModelEnv/lib/python3.10/site-packages/ultralytics/assets'.\n",
      "\n",
      "image 1/2 /home/samarth5854/anaconda3/envs/ModelEnv/lib/python3.10/site-packages/ultralytics/assets/bus.jpg: 640x480 4 persons, 39.2ms\n"
     ]
    },
    {
     "name": "stdout",
     "output_type": "stream",
     "text": [
      "Keypoints shape before flattening: torch.Size([4, 17, 2])\n",
      "Keypoints shape after flattening: (34,)\n",
      "saved to MP_Data/running/0/6.npy\n",
      "Keypoints shape before flattening: torch.Size([4, 17, 2])\n",
      "Keypoints shape after flattening: (34,)\n",
      "saved to MP_Data/running/0/7.npy\n"
     ]
    },
    {
     "name": "stderr",
     "output_type": "stream",
     "text": [
      "image 2/2 /home/samarth5854/anaconda3/envs/ModelEnv/lib/python3.10/site-packages/ultralytics/assets/zidane.jpg: 384x640 2 persons, 36.4ms\n",
      "Speed: 1.3ms preprocess, 37.8ms inference, 0.7ms postprocess per image at shape (1, 3, 384, 640)\n",
      "WARNING ⚠️ 'source' is missing. Using 'source=/home/samarth5854/anaconda3/envs/ModelEnv/lib/python3.10/site-packages/ultralytics/assets'.\n",
      "\n",
      "image 1/2 /home/samarth5854/anaconda3/envs/ModelEnv/lib/python3.10/site-packages/ultralytics/assets/bus.jpg: 640x480 4 persons, 59.3ms\n",
      "image 2/2 /home/samarth5854/anaconda3/envs/ModelEnv/lib/python3.10/site-packages/ultralytics/assets/zidane.jpg: 384x640 2 persons, 47.7ms\n",
      "Speed: 1.6ms preprocess, 53.5ms inference, 0.7ms postprocess per image at shape (1, 3, 384, 640)\n",
      "WARNING ⚠️ 'source' is missing. Using 'source=/home/samarth5854/anaconda3/envs/ModelEnv/lib/python3.10/site-packages/ultralytics/assets'.\n",
      "\n",
      "image 1/2 /home/samarth5854/anaconda3/envs/ModelEnv/lib/python3.10/site-packages/ultralytics/assets/bus.jpg: 640x480 4 persons, 40.5ms\n"
     ]
    },
    {
     "name": "stdout",
     "output_type": "stream",
     "text": [
      "Keypoints shape before flattening: torch.Size([4, 17, 2])\n",
      "Keypoints shape after flattening: (34,)\n",
      "saved to MP_Data/running/0/8.npy\n",
      "Keypoints shape before flattening: torch.Size([4, 17, 2])\n",
      "Keypoints shape after flattening: (34,)\n",
      "saved to MP_Data/running/0/9.npy\n"
     ]
    },
    {
     "name": "stderr",
     "output_type": "stream",
     "text": [
      "image 2/2 /home/samarth5854/anaconda3/envs/ModelEnv/lib/python3.10/site-packages/ultralytics/assets/zidane.jpg: 384x640 2 persons, 51.4ms\n",
      "Speed: 1.5ms preprocess, 45.9ms inference, 0.8ms postprocess per image at shape (1, 3, 384, 640)\n",
      "WARNING ⚠️ 'source' is missing. Using 'source=/home/samarth5854/anaconda3/envs/ModelEnv/lib/python3.10/site-packages/ultralytics/assets'.\n",
      "\n",
      "image 1/2 /home/samarth5854/anaconda3/envs/ModelEnv/lib/python3.10/site-packages/ultralytics/assets/bus.jpg: 640x480 4 persons, 59.8ms\n",
      "image 2/2 /home/samarth5854/anaconda3/envs/ModelEnv/lib/python3.10/site-packages/ultralytics/assets/zidane.jpg: 384x640 2 persons, 51.5ms\n",
      "Speed: 1.4ms preprocess, 55.7ms inference, 0.8ms postprocess per image at shape (1, 3, 384, 640)\n",
      "WARNING ⚠️ 'source' is missing. Using 'source=/home/samarth5854/anaconda3/envs/ModelEnv/lib/python3.10/site-packages/ultralytics/assets'.\n",
      "\n"
     ]
    },
    {
     "name": "stdout",
     "output_type": "stream",
     "text": [
      "Keypoints shape before flattening: torch.Size([4, 17, 2])\n",
      "Keypoints shape after flattening: (34,)\n",
      "saved to MP_Data/running/0/10.npy\n",
      "Keypoints shape before flattening: torch.Size([4, 17, 2])\n",
      "Keypoints shape after flattening: (34,)\n",
      "saved to MP_Data/running/0/11.npy\n"
     ]
    },
    {
     "name": "stderr",
     "output_type": "stream",
     "text": [
      "image 1/2 /home/samarth5854/anaconda3/envs/ModelEnv/lib/python3.10/site-packages/ultralytics/assets/bus.jpg: 640x480 4 persons, 61.5ms\n",
      "image 2/2 /home/samarth5854/anaconda3/envs/ModelEnv/lib/python3.10/site-packages/ultralytics/assets/zidane.jpg: 384x640 2 persons, 50.9ms\n",
      "Speed: 1.6ms preprocess, 56.2ms inference, 0.8ms postprocess per image at shape (1, 3, 384, 640)\n",
      "WARNING ⚠️ 'source' is missing. Using 'source=/home/samarth5854/anaconda3/envs/ModelEnv/lib/python3.10/site-packages/ultralytics/assets'.\n",
      "\n",
      "image 1/2 /home/samarth5854/anaconda3/envs/ModelEnv/lib/python3.10/site-packages/ultralytics/assets/bus.jpg: 640x480 4 persons, 59.9ms\n",
      "image 2/2 /home/samarth5854/anaconda3/envs/ModelEnv/lib/python3.10/site-packages/ultralytics/assets/zidane.jpg: 384x640 2 persons, 46.8ms\n",
      "Speed: 1.7ms preprocess, 53.3ms inference, 0.6ms postprocess per image at shape (1, 3, 384, 640)\n",
      "WARNING ⚠️ 'source' is missing. Using 'source=/home/samarth5854/anaconda3/envs/ModelEnv/lib/python3.10/site-packages/ultralytics/assets'.\n",
      "\n"
     ]
    },
    {
     "name": "stdout",
     "output_type": "stream",
     "text": [
      "Keypoints shape before flattening: torch.Size([4, 17, 2])\n",
      "Keypoints shape after flattening: (34,)\n",
      "saved to MP_Data/running/0/12.npy\n",
      "Keypoints shape before flattening: torch.Size([4, 17, 2])\n",
      "Keypoints shape after flattening: (34,)\n",
      "saved to MP_Data/running/0/13.npy\n"
     ]
    },
    {
     "name": "stderr",
     "output_type": "stream",
     "text": [
      "image 1/2 /home/samarth5854/anaconda3/envs/ModelEnv/lib/python3.10/site-packages/ultralytics/assets/bus.jpg: 640x480 4 persons, 54.8ms\n",
      "image 2/2 /home/samarth5854/anaconda3/envs/ModelEnv/lib/python3.10/site-packages/ultralytics/assets/zidane.jpg: 384x640 2 persons, 50.4ms\n",
      "Speed: 1.6ms preprocess, 52.6ms inference, 0.9ms postprocess per image at shape (1, 3, 384, 640)\n",
      "WARNING ⚠️ 'source' is missing. Using 'source=/home/samarth5854/anaconda3/envs/ModelEnv/lib/python3.10/site-packages/ultralytics/assets'.\n",
      "\n",
      "image 1/2 /home/samarth5854/anaconda3/envs/ModelEnv/lib/python3.10/site-packages/ultralytics/assets/bus.jpg: 640x480 4 persons, 59.7ms\n",
      "image 2/2 /home/samarth5854/anaconda3/envs/ModelEnv/lib/python3.10/site-packages/ultralytics/assets/zidane.jpg: 384x640 2 persons, 44.9ms\n",
      "Speed: 2.0ms preprocess, 52.3ms inference, 0.8ms postprocess per image at shape (1, 3, 384, 640)\n",
      "WARNING ⚠️ 'source' is missing. Using 'source=/home/samarth5854/anaconda3/envs/ModelEnv/lib/python3.10/site-packages/ultralytics/assets'.\n",
      "\n"
     ]
    },
    {
     "name": "stdout",
     "output_type": "stream",
     "text": [
      "Keypoints shape before flattening: torch.Size([4, 17, 2])\n",
      "Keypoints shape after flattening: (34,)\n",
      "saved to MP_Data/running/0/14.npy\n",
      "Keypoints shape before flattening: torch.Size([4, 17, 2])\n",
      "Keypoints shape after flattening: (34,)\n",
      "saved to MP_Data/running/0/15.npy\n"
     ]
    },
    {
     "name": "stderr",
     "output_type": "stream",
     "text": [
      "image 1/2 /home/samarth5854/anaconda3/envs/ModelEnv/lib/python3.10/site-packages/ultralytics/assets/bus.jpg: 640x480 4 persons, 76.8ms\n",
      "image 2/2 /home/samarth5854/anaconda3/envs/ModelEnv/lib/python3.10/site-packages/ultralytics/assets/zidane.jpg: 384x640 2 persons, 39.6ms\n",
      "Speed: 8.5ms preprocess, 58.2ms inference, 0.6ms postprocess per image at shape (1, 3, 384, 640)\n",
      "WARNING ⚠️ 'source' is missing. Using 'source=/home/samarth5854/anaconda3/envs/ModelEnv/lib/python3.10/site-packages/ultralytics/assets'.\n",
      "\n",
      "image 1/2 /home/samarth5854/anaconda3/envs/ModelEnv/lib/python3.10/site-packages/ultralytics/assets/bus.jpg: 640x480 4 persons, 44.2ms\n",
      "image 2/2 /home/samarth5854/anaconda3/envs/ModelEnv/lib/python3.10/site-packages/ultralytics/assets/zidane.jpg: 384x640 2 persons, 33.4ms\n",
      "Speed: 1.5ms preprocess, 38.8ms inference, 0.6ms postprocess per image at shape (1, 3, 384, 640)\n",
      "WARNING ⚠️ 'source' is missing. Using 'source=/home/samarth5854/anaconda3/envs/ModelEnv/lib/python3.10/site-packages/ultralytics/assets'.\n",
      "\n",
      "image 1/2 /home/samarth5854/anaconda3/envs/ModelEnv/lib/python3.10/site-packages/ultralytics/assets/bus.jpg: 640x480 4 persons, 40.0ms\n"
     ]
    },
    {
     "name": "stdout",
     "output_type": "stream",
     "text": [
      "Keypoints shape before flattening: torch.Size([4, 17, 2])\n",
      "Keypoints shape after flattening: (34,)\n",
      "saved to MP_Data/running/0/16.npy\n",
      "Keypoints shape before flattening: torch.Size([4, 17, 2])\n",
      "Keypoints shape after flattening: (34,)\n",
      "saved to MP_Data/running/0/17.npy\n"
     ]
    },
    {
     "name": "stderr",
     "output_type": "stream",
     "text": [
      "image 2/2 /home/samarth5854/anaconda3/envs/ModelEnv/lib/python3.10/site-packages/ultralytics/assets/zidane.jpg: 384x640 2 persons, 34.0ms\n",
      "Speed: 1.7ms preprocess, 37.0ms inference, 0.7ms postprocess per image at shape (1, 3, 384, 640)\n",
      "WARNING ⚠️ 'source' is missing. Using 'source=/home/samarth5854/anaconda3/envs/ModelEnv/lib/python3.10/site-packages/ultralytics/assets'.\n",
      "\n",
      "image 1/2 /home/samarth5854/anaconda3/envs/ModelEnv/lib/python3.10/site-packages/ultralytics/assets/bus.jpg: 640x480 4 persons, 61.9ms\n",
      "image 2/2 /home/samarth5854/anaconda3/envs/ModelEnv/lib/python3.10/site-packages/ultralytics/assets/zidane.jpg: 384x640 2 persons, 50.4ms\n",
      "Speed: 1.5ms preprocess, 56.1ms inference, 0.7ms postprocess per image at shape (1, 3, 384, 640)\n",
      "WARNING ⚠️ 'source' is missing. Using 'source=/home/samarth5854/anaconda3/envs/ModelEnv/lib/python3.10/site-packages/ultralytics/assets'.\n",
      "\n"
     ]
    },
    {
     "name": "stdout",
     "output_type": "stream",
     "text": [
      "Keypoints shape before flattening: torch.Size([4, 17, 2])\n",
      "Keypoints shape after flattening: (34,)\n",
      "saved to MP_Data/running/0/18.npy\n",
      "Keypoints shape before flattening: torch.Size([4, 17, 2])\n",
      "Keypoints shape after flattening: (34,)\n",
      "saved to MP_Data/running/0/19.npy\n"
     ]
    },
    {
     "name": "stderr",
     "output_type": "stream",
     "text": [
      "image 1/2 /home/samarth5854/anaconda3/envs/ModelEnv/lib/python3.10/site-packages/ultralytics/assets/bus.jpg: 640x480 4 persons, 61.0ms\n",
      "image 2/2 /home/samarth5854/anaconda3/envs/ModelEnv/lib/python3.10/site-packages/ultralytics/assets/zidane.jpg: 384x640 2 persons, 65.4ms\n",
      "Speed: 11.6ms preprocess, 63.2ms inference, 0.7ms postprocess per image at shape (1, 3, 384, 640)\n",
      "WARNING ⚠️ 'source' is missing. Using 'source=/home/samarth5854/anaconda3/envs/ModelEnv/lib/python3.10/site-packages/ultralytics/assets'.\n",
      "\n",
      "image 1/2 /home/samarth5854/anaconda3/envs/ModelEnv/lib/python3.10/site-packages/ultralytics/assets/bus.jpg: 640x480 4 persons, 61.8ms\n",
      "image 2/2 /home/samarth5854/anaconda3/envs/ModelEnv/lib/python3.10/site-packages/ultralytics/assets/zidane.jpg: 384x640 2 persons, 43.9ms\n",
      "Speed: 4.3ms preprocess, 52.8ms inference, 0.7ms postprocess per image at shape (1, 3, 384, 640)\n",
      "WARNING ⚠️ 'source' is missing. Using 'source=/home/samarth5854/anaconda3/envs/ModelEnv/lib/python3.10/site-packages/ultralytics/assets'.\n",
      "\n"
     ]
    },
    {
     "name": "stdout",
     "output_type": "stream",
     "text": [
      "Keypoints shape before flattening: torch.Size([4, 17, 2])\n",
      "Keypoints shape after flattening: (34,)\n",
      "saved to MP_Data/running/0/20.npy\n",
      "Keypoints shape before flattening: torch.Size([4, 17, 2])\n",
      "Keypoints shape after flattening: (34,)\n",
      "saved to MP_Data/running/0/21.npy\n"
     ]
    },
    {
     "name": "stderr",
     "output_type": "stream",
     "text": [
      "image 1/2 /home/samarth5854/anaconda3/envs/ModelEnv/lib/python3.10/site-packages/ultralytics/assets/bus.jpg: 640x480 4 persons, 61.0ms\n",
      "image 2/2 /home/samarth5854/anaconda3/envs/ModelEnv/lib/python3.10/site-packages/ultralytics/assets/zidane.jpg: 384x640 2 persons, 49.6ms\n",
      "Speed: 1.4ms preprocess, 55.3ms inference, 0.8ms postprocess per image at shape (1, 3, 384, 640)\n",
      "WARNING ⚠️ 'source' is missing. Using 'source=/home/samarth5854/anaconda3/envs/ModelEnv/lib/python3.10/site-packages/ultralytics/assets'.\n",
      "\n",
      "image 1/2 /home/samarth5854/anaconda3/envs/ModelEnv/lib/python3.10/site-packages/ultralytics/assets/bus.jpg: 640x480 4 persons, 60.0ms\n",
      "image 2/2 /home/samarth5854/anaconda3/envs/ModelEnv/lib/python3.10/site-packages/ultralytics/assets/zidane.jpg: 384x640 2 persons, 46.8ms\n",
      "Speed: 1.7ms preprocess, 53.4ms inference, 0.7ms postprocess per image at shape (1, 3, 384, 640)\n",
      "WARNING ⚠️ 'source' is missing. Using 'source=/home/samarth5854/anaconda3/envs/ModelEnv/lib/python3.10/site-packages/ultralytics/assets'.\n",
      "\n"
     ]
    },
    {
     "name": "stdout",
     "output_type": "stream",
     "text": [
      "Keypoints shape before flattening: torch.Size([4, 17, 2])\n",
      "Keypoints shape after flattening: (34,)\n",
      "saved to MP_Data/running/0/22.npy\n",
      "Keypoints shape before flattening: torch.Size([4, 17, 2])\n",
      "Keypoints shape after flattening: (34,)\n",
      "saved to MP_Data/running/0/23.npy\n"
     ]
    },
    {
     "name": "stderr",
     "output_type": "stream",
     "text": [
      "image 1/2 /home/samarth5854/anaconda3/envs/ModelEnv/lib/python3.10/site-packages/ultralytics/assets/bus.jpg: 640x480 4 persons, 53.6ms\n",
      "image 2/2 /home/samarth5854/anaconda3/envs/ModelEnv/lib/python3.10/site-packages/ultralytics/assets/zidane.jpg: 384x640 2 persons, 46.5ms\n",
      "Speed: 1.4ms preprocess, 50.0ms inference, 0.9ms postprocess per image at shape (1, 3, 384, 640)\n",
      "WARNING ⚠️ 'source' is missing. Using 'source=/home/samarth5854/anaconda3/envs/ModelEnv/lib/python3.10/site-packages/ultralytics/assets'.\n",
      "\n",
      "image 1/2 /home/samarth5854/anaconda3/envs/ModelEnv/lib/python3.10/site-packages/ultralytics/assets/bus.jpg: 640x480 4 persons, 57.2ms\n",
      "image 2/2 /home/samarth5854/anaconda3/envs/ModelEnv/lib/python3.10/site-packages/ultralytics/assets/zidane.jpg: 384x640 2 persons, 49.0ms\n",
      "Speed: 1.5ms preprocess, 53.1ms inference, 0.7ms postprocess per image at shape (1, 3, 384, 640)\n",
      "WARNING ⚠️ 'source' is missing. Using 'source=/home/samarth5854/anaconda3/envs/ModelEnv/lib/python3.10/site-packages/ultralytics/assets'.\n",
      "\n"
     ]
    },
    {
     "name": "stdout",
     "output_type": "stream",
     "text": [
      "Keypoints shape before flattening: torch.Size([4, 17, 2])\n",
      "Keypoints shape after flattening: (34,)\n",
      "saved to MP_Data/running/0/24.npy\n",
      "Keypoints shape before flattening: torch.Size([4, 17, 2])\n",
      "Keypoints shape after flattening: (34,)\n",
      "saved to MP_Data/running/0/25.npy\n"
     ]
    },
    {
     "name": "stderr",
     "output_type": "stream",
     "text": [
      "image 1/2 /home/samarth5854/anaconda3/envs/ModelEnv/lib/python3.10/site-packages/ultralytics/assets/bus.jpg: 640x480 4 persons, 57.2ms\n",
      "image 2/2 /home/samarth5854/anaconda3/envs/ModelEnv/lib/python3.10/site-packages/ultralytics/assets/zidane.jpg: 384x640 2 persons, 50.5ms\n",
      "Speed: 1.8ms preprocess, 53.8ms inference, 0.8ms postprocess per image at shape (1, 3, 384, 640)\n",
      "WARNING ⚠️ 'source' is missing. Using 'source=/home/samarth5854/anaconda3/envs/ModelEnv/lib/python3.10/site-packages/ultralytics/assets'.\n",
      "\n",
      "image 1/2 /home/samarth5854/anaconda3/envs/ModelEnv/lib/python3.10/site-packages/ultralytics/assets/bus.jpg: 640x480 4 persons, 57.3ms\n",
      "image 2/2 /home/samarth5854/anaconda3/envs/ModelEnv/lib/python3.10/site-packages/ultralytics/assets/zidane.jpg: 384x640 2 persons, 52.4ms\n",
      "Speed: 1.8ms preprocess, 54.8ms inference, 0.8ms postprocess per image at shape (1, 3, 384, 640)\n",
      "WARNING ⚠️ 'source' is missing. Using 'source=/home/samarth5854/anaconda3/envs/ModelEnv/lib/python3.10/site-packages/ultralytics/assets'.\n",
      "\n"
     ]
    },
    {
     "name": "stdout",
     "output_type": "stream",
     "text": [
      "Keypoints shape before flattening: torch.Size([4, 17, 2])\n",
      "Keypoints shape after flattening: (34,)\n",
      "saved to MP_Data/running/0/26.npy\n",
      "Keypoints shape before flattening: torch.Size([4, 17, 2])\n",
      "Keypoints shape after flattening: (34,)\n",
      "saved to MP_Data/running/0/27.npy\n"
     ]
    },
    {
     "name": "stderr",
     "output_type": "stream",
     "text": [
      "image 1/2 /home/samarth5854/anaconda3/envs/ModelEnv/lib/python3.10/site-packages/ultralytics/assets/bus.jpg: 640x480 4 persons, 49.9ms\n",
      "image 2/2 /home/samarth5854/anaconda3/envs/ModelEnv/lib/python3.10/site-packages/ultralytics/assets/zidane.jpg: 384x640 2 persons, 33.1ms\n",
      "Speed: 2.1ms preprocess, 41.5ms inference, 0.6ms postprocess per image at shape (1, 3, 384, 640)\n",
      "WARNING ⚠️ 'source' is missing. Using 'source=/home/samarth5854/anaconda3/envs/ModelEnv/lib/python3.10/site-packages/ultralytics/assets'.\n",
      "\n",
      "image 1/2 /home/samarth5854/anaconda3/envs/ModelEnv/lib/python3.10/site-packages/ultralytics/assets/bus.jpg: 640x480 4 persons, 57.9ms\n",
      "image 2/2 /home/samarth5854/anaconda3/envs/ModelEnv/lib/python3.10/site-packages/ultralytics/assets/zidane.jpg: 384x640 2 persons, 51.0ms\n",
      "Speed: 1.4ms preprocess, 54.5ms inference, 0.7ms postprocess per image at shape (1, 3, 384, 640)\n",
      "[ WARN:0@20.674] global /croot/opencv-suite_1691620365762/work/modules/videoio/src/cap_gstreamer.cpp (2401) handleMessage OpenCV | GStreamer warning: Embedded video playback halted; module source reported: \"/home/samarth5854/Desktop/LSTM/MP_Data/running/16\" is a directory.\n",
      "[ WARN:0@20.675] global /croot/opencv-suite_1691620365762/work/modules/videoio/src/cap_gstreamer.cpp (1356) open OpenCV | GStreamer warning: unable to start pipeline\n",
      "[ WARN:0@20.675] global /croot/opencv-suite_1691620365762/work/modules/videoio/src/cap_gstreamer.cpp (862) isPipelinePlaying OpenCV | GStreamer warning: GStreamer: pipeline have not been created\n",
      "WARNING ⚠️ 'source' is missing. Using 'source=/home/samarth5854/anaconda3/envs/ModelEnv/lib/python3.10/site-packages/ultralytics/assets'.\n",
      "\n"
     ]
    },
    {
     "name": "stdout",
     "output_type": "stream",
     "text": [
      "Keypoints shape before flattening: torch.Size([4, 17, 2])\n",
      "Keypoints shape after flattening: (34,)\n",
      "saved to MP_Data/running/0/28.npy\n",
      "Keypoints shape before flattening: torch.Size([4, 17, 2])\n",
      "Keypoints shape after flattening: (34,)\n",
      "saved to MP_Data/running/0/29.npy\n"
     ]
    },
    {
     "name": "stderr",
     "output_type": "stream",
     "text": [
      "image 1/2 /home/samarth5854/anaconda3/envs/ModelEnv/lib/python3.10/site-packages/ultralytics/assets/bus.jpg: 640x480 4 persons, 58.1ms\n",
      "image 2/2 /home/samarth5854/anaconda3/envs/ModelEnv/lib/python3.10/site-packages/ultralytics/assets/zidane.jpg: 384x640 2 persons, 49.5ms\n",
      "Speed: 1.7ms preprocess, 53.8ms inference, 0.8ms postprocess per image at shape (1, 3, 384, 640)\n",
      "WARNING ⚠️ 'source' is missing. Using 'source=/home/samarth5854/anaconda3/envs/ModelEnv/lib/python3.10/site-packages/ultralytics/assets'.\n",
      "\n",
      "image 1/2 /home/samarth5854/anaconda3/envs/ModelEnv/lib/python3.10/site-packages/ultralytics/assets/bus.jpg: 640x480 4 persons, 59.3ms\n",
      "image 2/2 /home/samarth5854/anaconda3/envs/ModelEnv/lib/python3.10/site-packages/ultralytics/assets/zidane.jpg: 384x640 2 persons, 50.3ms\n",
      "Speed: 1.7ms preprocess, 54.8ms inference, 0.7ms postprocess per image at shape (1, 3, 384, 640)\n",
      "WARNING ⚠️ 'source' is missing. Using 'source=/home/samarth5854/anaconda3/envs/ModelEnv/lib/python3.10/site-packages/ultralytics/assets'.\n",
      "\n"
     ]
    },
    {
     "name": "stdout",
     "output_type": "stream",
     "text": [
      "Keypoints shape before flattening: torch.Size([4, 17, 2])\n",
      "Keypoints shape after flattening: (34,)\n",
      "saved to MP_Data/running/1/0.npy\n",
      "Keypoints shape before flattening: torch.Size([4, 17, 2])\n",
      "Keypoints shape after flattening: (34,)\n",
      "saved to MP_Data/running/1/1.npy\n"
     ]
    },
    {
     "name": "stderr",
     "output_type": "stream",
     "text": [
      "image 1/2 /home/samarth5854/anaconda3/envs/ModelEnv/lib/python3.10/site-packages/ultralytics/assets/bus.jpg: 640x480 4 persons, 58.3ms\n",
      "image 2/2 /home/samarth5854/anaconda3/envs/ModelEnv/lib/python3.10/site-packages/ultralytics/assets/zidane.jpg: 384x640 2 persons, 55.0ms\n",
      "Speed: 1.7ms preprocess, 56.7ms inference, 0.8ms postprocess per image at shape (1, 3, 384, 640)\n",
      "WARNING ⚠️ 'source' is missing. Using 'source=/home/samarth5854/anaconda3/envs/ModelEnv/lib/python3.10/site-packages/ultralytics/assets'.\n",
      "\n",
      "image 1/2 /home/samarth5854/anaconda3/envs/ModelEnv/lib/python3.10/site-packages/ultralytics/assets/bus.jpg: 640x480 4 persons, 63.0ms\n",
      "image 2/2 /home/samarth5854/anaconda3/envs/ModelEnv/lib/python3.10/site-packages/ultralytics/assets/zidane.jpg: 384x640 2 persons, 51.3ms\n",
      "Speed: 1.4ms preprocess, 57.1ms inference, 0.8ms postprocess per image at shape (1, 3, 384, 640)\n",
      "WARNING ⚠️ 'source' is missing. Using 'source=/home/samarth5854/anaconda3/envs/ModelEnv/lib/python3.10/site-packages/ultralytics/assets'.\n",
      "\n"
     ]
    },
    {
     "name": "stdout",
     "output_type": "stream",
     "text": [
      "Keypoints shape before flattening: torch.Size([4, 17, 2])\n",
      "Keypoints shape after flattening: (34,)\n",
      "saved to MP_Data/running/1/2.npy\n",
      "Keypoints shape before flattening: torch.Size([4, 17, 2])\n",
      "Keypoints shape after flattening: (34,)\n",
      "saved to MP_Data/running/1/3.npy\n"
     ]
    },
    {
     "name": "stderr",
     "output_type": "stream",
     "text": [
      "image 1/2 /home/samarth5854/anaconda3/envs/ModelEnv/lib/python3.10/site-packages/ultralytics/assets/bus.jpg: 640x480 4 persons, 64.8ms\n",
      "image 2/2 /home/samarth5854/anaconda3/envs/ModelEnv/lib/python3.10/site-packages/ultralytics/assets/zidane.jpg: 384x640 2 persons, 52.8ms\n",
      "Speed: 1.6ms preprocess, 58.8ms inference, 0.8ms postprocess per image at shape (1, 3, 384, 640)\n",
      "WARNING ⚠️ 'source' is missing. Using 'source=/home/samarth5854/anaconda3/envs/ModelEnv/lib/python3.10/site-packages/ultralytics/assets'.\n",
      "\n",
      "image 1/2 /home/samarth5854/anaconda3/envs/ModelEnv/lib/python3.10/site-packages/ultralytics/assets/bus.jpg: 640x480 4 persons, 61.7ms\n",
      "image 2/2 /home/samarth5854/anaconda3/envs/ModelEnv/lib/python3.10/site-packages/ultralytics/assets/zidane.jpg: 384x640 2 persons, 50.9ms\n",
      "Speed: 1.5ms preprocess, 56.3ms inference, 0.8ms postprocess per image at shape (1, 3, 384, 640)\n",
      "WARNING ⚠️ 'source' is missing. Using 'source=/home/samarth5854/anaconda3/envs/ModelEnv/lib/python3.10/site-packages/ultralytics/assets'.\n",
      "\n",
      "image 1/2 /home/samarth5854/anaconda3/envs/ModelEnv/lib/python3.10/site-packages/ultralytics/assets/bus.jpg: 640x480 4 persons, 39.9ms\n"
     ]
    },
    {
     "name": "stdout",
     "output_type": "stream",
     "text": [
      "Keypoints shape before flattening: torch.Size([4, 17, 2])\n",
      "Keypoints shape after flattening: (34,)\n",
      "saved to MP_Data/running/1/4.npy\n",
      "Keypoints shape before flattening: torch.Size([4, 17, 2])\n",
      "Keypoints shape after flattening: (34,)\n",
      "saved to MP_Data/running/1/5.npy\n"
     ]
    },
    {
     "name": "stderr",
     "output_type": "stream",
     "text": [
      "image 2/2 /home/samarth5854/anaconda3/envs/ModelEnv/lib/python3.10/site-packages/ultralytics/assets/zidane.jpg: 384x640 2 persons, 36.1ms\n",
      "Speed: 1.5ms preprocess, 38.0ms inference, 0.6ms postprocess per image at shape (1, 3, 384, 640)\n",
      "WARNING ⚠️ 'source' is missing. Using 'source=/home/samarth5854/anaconda3/envs/ModelEnv/lib/python3.10/site-packages/ultralytics/assets'.\n",
      "\n",
      "image 1/2 /home/samarth5854/anaconda3/envs/ModelEnv/lib/python3.10/site-packages/ultralytics/assets/bus.jpg: 640x480 4 persons, 50.7ms\n",
      "image 2/2 /home/samarth5854/anaconda3/envs/ModelEnv/lib/python3.10/site-packages/ultralytics/assets/zidane.jpg: 384x640 2 persons, 33.4ms\n",
      "Speed: 1.8ms preprocess, 42.0ms inference, 0.7ms postprocess per image at shape (1, 3, 384, 640)\n",
      "WARNING ⚠️ 'source' is missing. Using 'source=/home/samarth5854/anaconda3/envs/ModelEnv/lib/python3.10/site-packages/ultralytics/assets'.\n",
      "\n",
      "image 1/2 /home/samarth5854/anaconda3/envs/ModelEnv/lib/python3.10/site-packages/ultralytics/assets/bus.jpg: 640x480 4 persons, 43.6ms\n"
     ]
    },
    {
     "name": "stdout",
     "output_type": "stream",
     "text": [
      "Keypoints shape before flattening: torch.Size([4, 17, 2])\n",
      "Keypoints shape after flattening: (34,)\n",
      "saved to MP_Data/running/1/6.npy\n",
      "Keypoints shape before flattening: torch.Size([4, 17, 2])\n",
      "Keypoints shape after flattening: (34,)\n",
      "saved to MP_Data/running/1/7.npy\n"
     ]
    },
    {
     "name": "stderr",
     "output_type": "stream",
     "text": [
      "image 2/2 /home/samarth5854/anaconda3/envs/ModelEnv/lib/python3.10/site-packages/ultralytics/assets/zidane.jpg: 384x640 2 persons, 34.1ms\n",
      "Speed: 1.5ms preprocess, 38.8ms inference, 0.8ms postprocess per image at shape (1, 3, 384, 640)\n",
      "WARNING ⚠️ 'source' is missing. Using 'source=/home/samarth5854/anaconda3/envs/ModelEnv/lib/python3.10/site-packages/ultralytics/assets'.\n",
      "\n",
      "image 1/2 /home/samarth5854/anaconda3/envs/ModelEnv/lib/python3.10/site-packages/ultralytics/assets/bus.jpg: 640x480 4 persons, 50.6ms\n",
      "image 2/2 /home/samarth5854/anaconda3/envs/ModelEnv/lib/python3.10/site-packages/ultralytics/assets/zidane.jpg: 384x640 2 persons, 33.8ms\n",
      "Speed: 19.7ms preprocess, 42.2ms inference, 0.7ms postprocess per image at shape (1, 3, 384, 640)\n",
      "WARNING ⚠️ 'source' is missing. Using 'source=/home/samarth5854/anaconda3/envs/ModelEnv/lib/python3.10/site-packages/ultralytics/assets'.\n",
      "\n"
     ]
    },
    {
     "name": "stdout",
     "output_type": "stream",
     "text": [
      "Keypoints shape before flattening: torch.Size([4, 17, 2])\n",
      "Keypoints shape after flattening: (34,)\n",
      "saved to MP_Data/running/1/8.npy\n",
      "Keypoints shape before flattening: torch.Size([4, 17, 2])\n",
      "Keypoints shape after flattening: (34,)\n",
      "saved to MP_Data/running/1/9.npy\n"
     ]
    },
    {
     "name": "stderr",
     "output_type": "stream",
     "text": [
      "image 1/2 /home/samarth5854/anaconda3/envs/ModelEnv/lib/python3.10/site-packages/ultralytics/assets/bus.jpg: 640x480 4 persons, 58.1ms\n",
      "image 2/2 /home/samarth5854/anaconda3/envs/ModelEnv/lib/python3.10/site-packages/ultralytics/assets/zidane.jpg: 384x640 2 persons, 51.9ms\n",
      "Speed: 1.4ms preprocess, 55.0ms inference, 0.8ms postprocess per image at shape (1, 3, 384, 640)\n",
      "WARNING ⚠️ 'source' is missing. Using 'source=/home/samarth5854/anaconda3/envs/ModelEnv/lib/python3.10/site-packages/ultralytics/assets'.\n",
      "\n",
      "image 1/2 /home/samarth5854/anaconda3/envs/ModelEnv/lib/python3.10/site-packages/ultralytics/assets/bus.jpg: 640x480 4 persons, 61.6ms\n",
      "image 2/2 /home/samarth5854/anaconda3/envs/ModelEnv/lib/python3.10/site-packages/ultralytics/assets/zidane.jpg: 384x640 2 persons, 52.2ms\n",
      "Speed: 1.4ms preprocess, 56.9ms inference, 0.8ms postprocess per image at shape (1, 3, 384, 640)\n",
      "WARNING ⚠️ 'source' is missing. Using 'source=/home/samarth5854/anaconda3/envs/ModelEnv/lib/python3.10/site-packages/ultralytics/assets'.\n",
      "\n"
     ]
    },
    {
     "name": "stdout",
     "output_type": "stream",
     "text": [
      "Keypoints shape before flattening: torch.Size([4, 17, 2])\n",
      "Keypoints shape after flattening: (34,)\n",
      "saved to MP_Data/running/1/10.npy\n",
      "Keypoints shape before flattening: torch.Size([4, 17, 2])\n",
      "Keypoints shape after flattening: (34,)\n",
      "saved to MP_Data/running/1/11.npy\n"
     ]
    },
    {
     "name": "stderr",
     "output_type": "stream",
     "text": [
      "image 1/2 /home/samarth5854/anaconda3/envs/ModelEnv/lib/python3.10/site-packages/ultralytics/assets/bus.jpg: 640x480 4 persons, 57.0ms\n",
      "image 2/2 /home/samarth5854/anaconda3/envs/ModelEnv/lib/python3.10/site-packages/ultralytics/assets/zidane.jpg: 384x640 2 persons, 51.9ms\n",
      "Speed: 1.7ms preprocess, 54.4ms inference, 0.8ms postprocess per image at shape (1, 3, 384, 640)\n",
      "WARNING ⚠️ 'source' is missing. Using 'source=/home/samarth5854/anaconda3/envs/ModelEnv/lib/python3.10/site-packages/ultralytics/assets'.\n",
      "\n",
      "image 1/2 /home/samarth5854/anaconda3/envs/ModelEnv/lib/python3.10/site-packages/ultralytics/assets/bus.jpg: 640x480 4 persons, 61.6ms\n",
      "image 2/2 /home/samarth5854/anaconda3/envs/ModelEnv/lib/python3.10/site-packages/ultralytics/assets/zidane.jpg: 384x640 2 persons, 47.0ms\n",
      "Speed: 1.6ms preprocess, 54.3ms inference, 0.6ms postprocess per image at shape (1, 3, 384, 640)\n",
      "WARNING ⚠️ 'source' is missing. Using 'source=/home/samarth5854/anaconda3/envs/ModelEnv/lib/python3.10/site-packages/ultralytics/assets'.\n",
      "\n",
      "image 1/2 /home/samarth5854/anaconda3/envs/ModelEnv/lib/python3.10/site-packages/ultralytics/assets/bus.jpg: 640x480 4 persons, 42.6ms\n"
     ]
    },
    {
     "name": "stdout",
     "output_type": "stream",
     "text": [
      "Keypoints shape before flattening: torch.Size([4, 17, 2])\n",
      "Keypoints shape after flattening: (34,)\n",
      "saved to MP_Data/running/1/12.npy\n",
      "Keypoints shape before flattening: torch.Size([4, 17, 2])\n",
      "Keypoints shape after flattening: (34,)\n",
      "saved to MP_Data/running/1/13.npy\n"
     ]
    },
    {
     "name": "stderr",
     "output_type": "stream",
     "text": [
      "image 2/2 /home/samarth5854/anaconda3/envs/ModelEnv/lib/python3.10/site-packages/ultralytics/assets/zidane.jpg: 384x640 2 persons, 54.3ms\n",
      "Speed: 1.6ms preprocess, 48.5ms inference, 0.7ms postprocess per image at shape (1, 3, 384, 640)\n",
      "WARNING ⚠️ 'source' is missing. Using 'source=/home/samarth5854/anaconda3/envs/ModelEnv/lib/python3.10/site-packages/ultralytics/assets'.\n",
      "\n",
      "image 1/2 /home/samarth5854/anaconda3/envs/ModelEnv/lib/python3.10/site-packages/ultralytics/assets/bus.jpg: 640x480 4 persons, 58.6ms\n",
      "image 2/2 /home/samarth5854/anaconda3/envs/ModelEnv/lib/python3.10/site-packages/ultralytics/assets/zidane.jpg: 384x640 2 persons, 48.8ms\n",
      "Speed: 1.5ms preprocess, 53.7ms inference, 0.6ms postprocess per image at shape (1, 3, 384, 640)\n",
      "WARNING ⚠️ 'source' is missing. Using 'source=/home/samarth5854/anaconda3/envs/ModelEnv/lib/python3.10/site-packages/ultralytics/assets'.\n",
      "\n"
     ]
    },
    {
     "name": "stdout",
     "output_type": "stream",
     "text": [
      "Keypoints shape before flattening: torch.Size([4, 17, 2])\n",
      "Keypoints shape after flattening: (34,)\n",
      "saved to MP_Data/running/1/14.npy\n",
      "Keypoints shape before flattening: torch.Size([4, 17, 2])\n",
      "Keypoints shape after flattening: (34,)\n",
      "saved to MP_Data/running/1/15.npy\n"
     ]
    },
    {
     "name": "stderr",
     "output_type": "stream",
     "text": [
      "image 1/2 /home/samarth5854/anaconda3/envs/ModelEnv/lib/python3.10/site-packages/ultralytics/assets/bus.jpg: 640x480 4 persons, 61.0ms\n",
      "image 2/2 /home/samarth5854/anaconda3/envs/ModelEnv/lib/python3.10/site-packages/ultralytics/assets/zidane.jpg: 384x640 2 persons, 50.4ms\n",
      "Speed: 1.7ms preprocess, 55.7ms inference, 0.6ms postprocess per image at shape (1, 3, 384, 640)\n",
      "WARNING ⚠️ 'source' is missing. Using 'source=/home/samarth5854/anaconda3/envs/ModelEnv/lib/python3.10/site-packages/ultralytics/assets'.\n",
      "\n",
      "image 1/2 /home/samarth5854/anaconda3/envs/ModelEnv/lib/python3.10/site-packages/ultralytics/assets/bus.jpg: 640x480 4 persons, 60.4ms\n",
      "image 2/2 /home/samarth5854/anaconda3/envs/ModelEnv/lib/python3.10/site-packages/ultralytics/assets/zidane.jpg: 384x640 2 persons, 48.4ms\n",
      "Speed: 1.8ms preprocess, 54.4ms inference, 0.7ms postprocess per image at shape (1, 3, 384, 640)\n",
      "WARNING ⚠️ 'source' is missing. Using 'source=/home/samarth5854/anaconda3/envs/ModelEnv/lib/python3.10/site-packages/ultralytics/assets'.\n",
      "\n"
     ]
    },
    {
     "name": "stdout",
     "output_type": "stream",
     "text": [
      "Keypoints shape before flattening: torch.Size([4, 17, 2])\n",
      "Keypoints shape after flattening: (34,)\n",
      "saved to MP_Data/running/1/16.npy\n",
      "Keypoints shape before flattening: torch.Size([4, 17, 2])\n",
      "Keypoints shape after flattening: (34,)\n",
      "saved to MP_Data/running/1/17.npy\n"
     ]
    },
    {
     "name": "stderr",
     "output_type": "stream",
     "text": [
      "image 1/2 /home/samarth5854/anaconda3/envs/ModelEnv/lib/python3.10/site-packages/ultralytics/assets/bus.jpg: 640x480 4 persons, 58.2ms\n",
      "image 2/2 /home/samarth5854/anaconda3/envs/ModelEnv/lib/python3.10/site-packages/ultralytics/assets/zidane.jpg: 384x640 2 persons, 49.3ms\n",
      "Speed: 1.5ms preprocess, 53.8ms inference, 0.7ms postprocess per image at shape (1, 3, 384, 640)\n",
      "WARNING ⚠️ 'source' is missing. Using 'source=/home/samarth5854/anaconda3/envs/ModelEnv/lib/python3.10/site-packages/ultralytics/assets'.\n",
      "\n",
      "image 1/2 /home/samarth5854/anaconda3/envs/ModelEnv/lib/python3.10/site-packages/ultralytics/assets/bus.jpg: 640x480 4 persons, 61.6ms\n",
      "image 2/2 /home/samarth5854/anaconda3/envs/ModelEnv/lib/python3.10/site-packages/ultralytics/assets/zidane.jpg: 384x640 2 persons, 49.5ms\n",
      "Speed: 1.7ms preprocess, 55.6ms inference, 0.6ms postprocess per image at shape (1, 3, 384, 640)\n",
      "WARNING ⚠️ 'source' is missing. Using 'source=/home/samarth5854/anaconda3/envs/ModelEnv/lib/python3.10/site-packages/ultralytics/assets'.\n",
      "\n"
     ]
    },
    {
     "name": "stdout",
     "output_type": "stream",
     "text": [
      "Keypoints shape before flattening: torch.Size([4, 17, 2])\n",
      "Keypoints shape after flattening: (34,)\n",
      "saved to MP_Data/running/1/18.npy\n",
      "Keypoints shape before flattening: torch.Size([4, 17, 2])\n",
      "Keypoints shape after flattening: (34,)\n",
      "saved to MP_Data/running/1/19.npy\n"
     ]
    },
    {
     "name": "stderr",
     "output_type": "stream",
     "text": [
      "image 1/2 /home/samarth5854/anaconda3/envs/ModelEnv/lib/python3.10/site-packages/ultralytics/assets/bus.jpg: 640x480 4 persons, 58.3ms\n",
      "image 2/2 /home/samarth5854/anaconda3/envs/ModelEnv/lib/python3.10/site-packages/ultralytics/assets/zidane.jpg: 384x640 2 persons, 50.4ms\n",
      "Speed: 1.8ms preprocess, 54.3ms inference, 0.6ms postprocess per image at shape (1, 3, 384, 640)\n",
      "WARNING ⚠️ 'source' is missing. Using 'source=/home/samarth5854/anaconda3/envs/ModelEnv/lib/python3.10/site-packages/ultralytics/assets'.\n",
      "\n",
      "image 1/2 /home/samarth5854/anaconda3/envs/ModelEnv/lib/python3.10/site-packages/ultralytics/assets/bus.jpg: 640x480 4 persons, 56.7ms\n",
      "image 2/2 /home/samarth5854/anaconda3/envs/ModelEnv/lib/python3.10/site-packages/ultralytics/assets/zidane.jpg: 384x640 2 persons, 48.1ms\n",
      "Speed: 1.4ms preprocess, 52.4ms inference, 0.6ms postprocess per image at shape (1, 3, 384, 640)\n",
      "WARNING ⚠️ 'source' is missing. Using 'source=/home/samarth5854/anaconda3/envs/ModelEnv/lib/python3.10/site-packages/ultralytics/assets'.\n",
      "\n",
      "image 1/2 /home/samarth5854/anaconda3/envs/ModelEnv/lib/python3.10/site-packages/ultralytics/assets/bus.jpg: 640x480 4 persons, 46.2ms\n"
     ]
    },
    {
     "name": "stdout",
     "output_type": "stream",
     "text": [
      "Keypoints shape before flattening: torch.Size([4, 17, 2])\n",
      "Keypoints shape after flattening: (34,)\n",
      "saved to MP_Data/running/1/20.npy\n",
      "Keypoints shape before flattening: torch.Size([4, 17, 2])\n",
      "Keypoints shape after flattening: (34,)\n",
      "saved to MP_Data/running/1/21.npy\n"
     ]
    },
    {
     "name": "stderr",
     "output_type": "stream",
     "text": [
      "image 2/2 /home/samarth5854/anaconda3/envs/ModelEnv/lib/python3.10/site-packages/ultralytics/assets/zidane.jpg: 384x640 2 persons, 38.7ms\n",
      "Speed: 1.8ms preprocess, 42.5ms inference, 0.9ms postprocess per image at shape (1, 3, 384, 640)\n",
      "WARNING ⚠️ 'source' is missing. Using 'source=/home/samarth5854/anaconda3/envs/ModelEnv/lib/python3.10/site-packages/ultralytics/assets'.\n",
      "\n",
      "image 1/2 /home/samarth5854/anaconda3/envs/ModelEnv/lib/python3.10/site-packages/ultralytics/assets/bus.jpg: 640x480 4 persons, 42.8ms\n",
      "image 2/2 /home/samarth5854/anaconda3/envs/ModelEnv/lib/python3.10/site-packages/ultralytics/assets/zidane.jpg: 384x640 2 persons, 33.5ms\n",
      "Speed: 4.4ms preprocess, 38.2ms inference, 0.7ms postprocess per image at shape (1, 3, 384, 640)\n",
      "WARNING ⚠️ 'source' is missing. Using 'source=/home/samarth5854/anaconda3/envs/ModelEnv/lib/python3.10/site-packages/ultralytics/assets'.\n",
      "\n",
      "image 1/2 /home/samarth5854/anaconda3/envs/ModelEnv/lib/python3.10/site-packages/ultralytics/assets/bus.jpg: 640x480 4 persons, 58.9ms\n"
     ]
    },
    {
     "name": "stdout",
     "output_type": "stream",
     "text": [
      "Keypoints shape before flattening: torch.Size([4, 17, 2])\n",
      "Keypoints shape after flattening: (34,)\n",
      "saved to MP_Data/running/1/22.npy\n",
      "Keypoints shape before flattening: torch.Size([4, 17, 2])\n",
      "Keypoints shape after flattening: (34,)\n",
      "saved to MP_Data/running/1/23.npy\n"
     ]
    },
    {
     "name": "stderr",
     "output_type": "stream",
     "text": [
      "image 2/2 /home/samarth5854/anaconda3/envs/ModelEnv/lib/python3.10/site-packages/ultralytics/assets/zidane.jpg: 384x640 2 persons, 50.8ms\n",
      "Speed: 1.9ms preprocess, 54.9ms inference, 0.6ms postprocess per image at shape (1, 3, 384, 640)\n",
      "WARNING ⚠️ 'source' is missing. Using 'source=/home/samarth5854/anaconda3/envs/ModelEnv/lib/python3.10/site-packages/ultralytics/assets'.\n",
      "\n",
      "image 1/2 /home/samarth5854/anaconda3/envs/ModelEnv/lib/python3.10/site-packages/ultralytics/assets/bus.jpg: 640x480 4 persons, 61.5ms\n",
      "image 2/2 /home/samarth5854/anaconda3/envs/ModelEnv/lib/python3.10/site-packages/ultralytics/assets/zidane.jpg: 384x640 2 persons, 53.2ms\n",
      "Speed: 1.8ms preprocess, 57.3ms inference, 0.8ms postprocess per image at shape (1, 3, 384, 640)\n",
      "WARNING ⚠️ 'source' is missing. Using 'source=/home/samarth5854/anaconda3/envs/ModelEnv/lib/python3.10/site-packages/ultralytics/assets'.\n",
      "\n"
     ]
    },
    {
     "name": "stdout",
     "output_type": "stream",
     "text": [
      "Keypoints shape before flattening: torch.Size([4, 17, 2])\n",
      "Keypoints shape after flattening: (34,)\n",
      "saved to MP_Data/running/1/24.npy\n",
      "Keypoints shape before flattening: torch.Size([4, 17, 2])\n",
      "Keypoints shape after flattening: (34,)\n",
      "saved to MP_Data/running/1/25.npy\n"
     ]
    },
    {
     "name": "stderr",
     "output_type": "stream",
     "text": [
      "image 1/2 /home/samarth5854/anaconda3/envs/ModelEnv/lib/python3.10/site-packages/ultralytics/assets/bus.jpg: 640x480 4 persons, 64.9ms\n",
      "image 2/2 /home/samarth5854/anaconda3/envs/ModelEnv/lib/python3.10/site-packages/ultralytics/assets/zidane.jpg: 384x640 2 persons, 36.9ms\n",
      "Speed: 2.1ms preprocess, 50.9ms inference, 0.6ms postprocess per image at shape (1, 3, 384, 640)\n",
      "WARNING ⚠️ 'source' is missing. Using 'source=/home/samarth5854/anaconda3/envs/ModelEnv/lib/python3.10/site-packages/ultralytics/assets'.\n",
      "\n",
      "image 1/2 /home/samarth5854/anaconda3/envs/ModelEnv/lib/python3.10/site-packages/ultralytics/assets/bus.jpg: 640x480 4 persons, 40.6ms\n",
      "image 2/2 /home/samarth5854/anaconda3/envs/ModelEnv/lib/python3.10/site-packages/ultralytics/assets/zidane.jpg: 384x640 2 persons, 34.8ms\n",
      "Speed: 1.5ms preprocess, 37.7ms inference, 0.7ms postprocess per image at shape (1, 3, 384, 640)\n",
      "WARNING ⚠️ 'source' is missing. Using 'source=/home/samarth5854/anaconda3/envs/ModelEnv/lib/python3.10/site-packages/ultralytics/assets'.\n",
      "\n",
      "image 1/2 /home/samarth5854/anaconda3/envs/ModelEnv/lib/python3.10/site-packages/ultralytics/assets/bus.jpg: 640x480 4 persons, 41.4ms\n"
     ]
    },
    {
     "name": "stdout",
     "output_type": "stream",
     "text": [
      "Keypoints shape before flattening: torch.Size([4, 17, 2])\n",
      "Keypoints shape after flattening: (34,)\n",
      "saved to MP_Data/running/1/26.npy\n",
      "Keypoints shape before flattening: torch.Size([4, 17, 2])\n",
      "Keypoints shape after flattening: (34,)\n",
      "saved to MP_Data/running/1/27.npy\n"
     ]
    },
    {
     "name": "stderr",
     "output_type": "stream",
     "text": [
      "image 2/2 /home/samarth5854/anaconda3/envs/ModelEnv/lib/python3.10/site-packages/ultralytics/assets/zidane.jpg: 384x640 2 persons, 37.2ms\n",
      "Speed: 1.6ms preprocess, 39.3ms inference, 0.7ms postprocess per image at shape (1, 3, 384, 640)\n",
      "WARNING ⚠️ 'source' is missing. Using 'source=/home/samarth5854/anaconda3/envs/ModelEnv/lib/python3.10/site-packages/ultralytics/assets'.\n",
      "\n",
      "image 1/2 /home/samarth5854/anaconda3/envs/ModelEnv/lib/python3.10/site-packages/ultralytics/assets/bus.jpg: 640x480 4 persons, 59.4ms\n",
      "image 2/2 /home/samarth5854/anaconda3/envs/ModelEnv/lib/python3.10/site-packages/ultralytics/assets/zidane.jpg: 384x640 2 persons, 50.5ms\n",
      "Speed: 1.6ms preprocess, 54.9ms inference, 0.8ms postprocess per image at shape (1, 3, 384, 640)\n",
      "[ WARN:0@24.674] global /croot/opencv-suite_1691620365762/work/modules/videoio/src/cap_gstreamer.cpp (2401) handleMessage OpenCV | GStreamer warning: Embedded video playback halted; module source reported: \"/home/samarth5854/Desktop/LSTM/MP_Data/running/38\" is a directory.\n",
      "[ WARN:0@24.674] global /croot/opencv-suite_1691620365762/work/modules/videoio/src/cap_gstreamer.cpp (1356) open OpenCV | GStreamer warning: unable to start pipeline\n",
      "[ WARN:0@24.674] global /croot/opencv-suite_1691620365762/work/modules/videoio/src/cap_gstreamer.cpp (862) isPipelinePlaying OpenCV | GStreamer warning: GStreamer: pipeline have not been created\n",
      "WARNING ⚠️ 'source' is missing. Using 'source=/home/samarth5854/anaconda3/envs/ModelEnv/lib/python3.10/site-packages/ultralytics/assets'.\n",
      "\n"
     ]
    },
    {
     "name": "stdout",
     "output_type": "stream",
     "text": [
      "Keypoints shape before flattening: torch.Size([4, 17, 2])\n",
      "Keypoints shape after flattening: (34,)\n",
      "saved to MP_Data/running/1/28.npy\n",
      "Keypoints shape before flattening: torch.Size([4, 17, 2])\n",
      "Keypoints shape after flattening: (34,)\n",
      "saved to MP_Data/running/1/29.npy\n"
     ]
    },
    {
     "name": "stderr",
     "output_type": "stream",
     "text": [
      "image 1/2 /home/samarth5854/anaconda3/envs/ModelEnv/lib/python3.10/site-packages/ultralytics/assets/bus.jpg: 640x480 4 persons, 66.6ms\n",
      "image 2/2 /home/samarth5854/anaconda3/envs/ModelEnv/lib/python3.10/site-packages/ultralytics/assets/zidane.jpg: 384x640 2 persons, 52.5ms\n",
      "Speed: 1.5ms preprocess, 59.5ms inference, 0.7ms postprocess per image at shape (1, 3, 384, 640)\n",
      "WARNING ⚠️ 'source' is missing. Using 'source=/home/samarth5854/anaconda3/envs/ModelEnv/lib/python3.10/site-packages/ultralytics/assets'.\n",
      "\n",
      "image 1/2 /home/samarth5854/anaconda3/envs/ModelEnv/lib/python3.10/site-packages/ultralytics/assets/bus.jpg: 640x480 4 persons, 59.4ms\n",
      "image 2/2 /home/samarth5854/anaconda3/envs/ModelEnv/lib/python3.10/site-packages/ultralytics/assets/zidane.jpg: 384x640 2 persons, 52.4ms\n",
      "Speed: 1.5ms preprocess, 55.9ms inference, 0.8ms postprocess per image at shape (1, 3, 384, 640)\n",
      "WARNING ⚠️ 'source' is missing. Using 'source=/home/samarth5854/anaconda3/envs/ModelEnv/lib/python3.10/site-packages/ultralytics/assets'.\n",
      "\n"
     ]
    },
    {
     "name": "stdout",
     "output_type": "stream",
     "text": [
      "Keypoints shape before flattening: torch.Size([4, 17, 2])\n",
      "Keypoints shape after flattening: (34,)\n",
      "saved to MP_Data/running/2/0.npy\n",
      "Keypoints shape before flattening: torch.Size([4, 17, 2])\n",
      "Keypoints shape after flattening: (34,)\n",
      "saved to MP_Data/running/2/1.npy\n"
     ]
    },
    {
     "name": "stderr",
     "output_type": "stream",
     "text": [
      "image 1/2 /home/samarth5854/anaconda3/envs/ModelEnv/lib/python3.10/site-packages/ultralytics/assets/bus.jpg: 640x480 4 persons, 59.3ms\n",
      "image 2/2 /home/samarth5854/anaconda3/envs/ModelEnv/lib/python3.10/site-packages/ultralytics/assets/zidane.jpg: 384x640 2 persons, 53.0ms\n",
      "Speed: 1.4ms preprocess, 56.2ms inference, 0.8ms postprocess per image at shape (1, 3, 384, 640)\n",
      "WARNING ⚠️ 'source' is missing. Using 'source=/home/samarth5854/anaconda3/envs/ModelEnv/lib/python3.10/site-packages/ultralytics/assets'.\n",
      "\n",
      "image 1/2 /home/samarth5854/anaconda3/envs/ModelEnv/lib/python3.10/site-packages/ultralytics/assets/bus.jpg: 640x480 4 persons, 43.0ms\n",
      "image 2/2 /home/samarth5854/anaconda3/envs/ModelEnv/lib/python3.10/site-packages/ultralytics/assets/zidane.jpg: 384x640 2 persons, 36.7ms\n",
      "Speed: 1.8ms preprocess, 39.9ms inference, 0.7ms postprocess per image at shape (1, 3, 384, 640)\n",
      "WARNING ⚠️ 'source' is missing. Using 'source=/home/samarth5854/anaconda3/envs/ModelEnv/lib/python3.10/site-packages/ultralytics/assets'.\n",
      "\n",
      "image 1/2 /home/samarth5854/anaconda3/envs/ModelEnv/lib/python3.10/site-packages/ultralytics/assets/bus.jpg: 640x480 4 persons, 59.7ms\n"
     ]
    },
    {
     "name": "stdout",
     "output_type": "stream",
     "text": [
      "Keypoints shape before flattening: torch.Size([4, 17, 2])\n",
      "Keypoints shape after flattening: (34,)\n",
      "saved to MP_Data/running/2/2.npy\n",
      "Keypoints shape before flattening: torch.Size([4, 17, 2])\n",
      "Keypoints shape after flattening: (34,)\n",
      "saved to MP_Data/running/2/3.npy\n"
     ]
    },
    {
     "name": "stderr",
     "output_type": "stream",
     "text": [
      "image 2/2 /home/samarth5854/anaconda3/envs/ModelEnv/lib/python3.10/site-packages/ultralytics/assets/zidane.jpg: 384x640 2 persons, 52.7ms\n",
      "Speed: 1.4ms preprocess, 56.2ms inference, 0.8ms postprocess per image at shape (1, 3, 384, 640)\n",
      "WARNING ⚠️ 'source' is missing. Using 'source=/home/samarth5854/anaconda3/envs/ModelEnv/lib/python3.10/site-packages/ultralytics/assets'.\n",
      "\n",
      "image 1/2 /home/samarth5854/anaconda3/envs/ModelEnv/lib/python3.10/site-packages/ultralytics/assets/bus.jpg: 640x480 4 persons, 40.4ms\n",
      "image 2/2 /home/samarth5854/anaconda3/envs/ModelEnv/lib/python3.10/site-packages/ultralytics/assets/zidane.jpg: 384x640 2 persons, 35.9ms\n",
      "Speed: 1.6ms preprocess, 38.2ms inference, 0.7ms postprocess per image at shape (1, 3, 384, 640)\n",
      "WARNING ⚠️ 'source' is missing. Using 'source=/home/samarth5854/anaconda3/envs/ModelEnv/lib/python3.10/site-packages/ultralytics/assets'.\n",
      "\n",
      "image 1/2 /home/samarth5854/anaconda3/envs/ModelEnv/lib/python3.10/site-packages/ultralytics/assets/bus.jpg: 640x480 4 persons, 43.9ms\n"
     ]
    },
    {
     "name": "stdout",
     "output_type": "stream",
     "text": [
      "Keypoints shape before flattening: torch.Size([4, 17, 2])\n",
      "Keypoints shape after flattening: (34,)\n",
      "saved to MP_Data/running/2/4.npy\n",
      "Keypoints shape before flattening: torch.Size([4, 17, 2])\n",
      "Keypoints shape after flattening: (34,)\n",
      "saved to MP_Data/running/2/5.npy\n"
     ]
    },
    {
     "name": "stderr",
     "output_type": "stream",
     "text": [
      "image 2/2 /home/samarth5854/anaconda3/envs/ModelEnv/lib/python3.10/site-packages/ultralytics/assets/zidane.jpg: 384x640 2 persons, 35.3ms\n",
      "Speed: 1.6ms preprocess, 39.6ms inference, 0.7ms postprocess per image at shape (1, 3, 384, 640)\n",
      "WARNING ⚠️ 'source' is missing. Using 'source=/home/samarth5854/anaconda3/envs/ModelEnv/lib/python3.10/site-packages/ultralytics/assets'.\n",
      "\n",
      "image 1/2 /home/samarth5854/anaconda3/envs/ModelEnv/lib/python3.10/site-packages/ultralytics/assets/bus.jpg: 640x480 4 persons, 59.4ms\n",
      "image 2/2 /home/samarth5854/anaconda3/envs/ModelEnv/lib/python3.10/site-packages/ultralytics/assets/zidane.jpg: 384x640 2 persons, 47.9ms\n",
      "Speed: 1.7ms preprocess, 53.6ms inference, 0.7ms postprocess per image at shape (1, 3, 384, 640)\n",
      "WARNING ⚠️ 'source' is missing. Using 'source=/home/samarth5854/anaconda3/envs/ModelEnv/lib/python3.10/site-packages/ultralytics/assets'.\n",
      "\n"
     ]
    },
    {
     "name": "stdout",
     "output_type": "stream",
     "text": [
      "Keypoints shape before flattening: torch.Size([4, 17, 2])\n",
      "Keypoints shape after flattening: (34,)\n",
      "saved to MP_Data/running/2/6.npy\n",
      "Keypoints shape before flattening: torch.Size([4, 17, 2])\n",
      "Keypoints shape after flattening: (34,)\n",
      "saved to MP_Data/running/2/7.npy\n"
     ]
    },
    {
     "name": "stderr",
     "output_type": "stream",
     "text": [
      "image 1/2 /home/samarth5854/anaconda3/envs/ModelEnv/lib/python3.10/site-packages/ultralytics/assets/bus.jpg: 640x480 4 persons, 67.6ms\n",
      "image 2/2 /home/samarth5854/anaconda3/envs/ModelEnv/lib/python3.10/site-packages/ultralytics/assets/zidane.jpg: 384x640 2 persons, 61.1ms\n",
      "Speed: 1.9ms preprocess, 64.4ms inference, 0.8ms postprocess per image at shape (1, 3, 384, 640)\n",
      "WARNING ⚠️ 'source' is missing. Using 'source=/home/samarth5854/anaconda3/envs/ModelEnv/lib/python3.10/site-packages/ultralytics/assets'.\n",
      "\n",
      "image 1/2 /home/samarth5854/anaconda3/envs/ModelEnv/lib/python3.10/site-packages/ultralytics/assets/bus.jpg: 640x480 4 persons, 64.5ms\n",
      "image 2/2 /home/samarth5854/anaconda3/envs/ModelEnv/lib/python3.10/site-packages/ultralytics/assets/zidane.jpg: 384x640 2 persons, 50.4ms\n",
      "Speed: 1.5ms preprocess, 57.5ms inference, 0.7ms postprocess per image at shape (1, 3, 384, 640)\n",
      "WARNING ⚠️ 'source' is missing. Using 'source=/home/samarth5854/anaconda3/envs/ModelEnv/lib/python3.10/site-packages/ultralytics/assets'.\n",
      "\n"
     ]
    },
    {
     "name": "stdout",
     "output_type": "stream",
     "text": [
      "Keypoints shape before flattening: torch.Size([4, 17, 2])\n",
      "Keypoints shape after flattening: (34,)\n",
      "saved to MP_Data/running/2/8.npy\n",
      "Keypoints shape before flattening: torch.Size([4, 17, 2])\n",
      "Keypoints shape after flattening: (34,)\n",
      "saved to MP_Data/running/2/9.npy\n"
     ]
    },
    {
     "name": "stderr",
     "output_type": "stream",
     "text": [
      "image 1/2 /home/samarth5854/anaconda3/envs/ModelEnv/lib/python3.10/site-packages/ultralytics/assets/bus.jpg: 640x480 4 persons, 59.6ms\n",
      "image 2/2 /home/samarth5854/anaconda3/envs/ModelEnv/lib/python3.10/site-packages/ultralytics/assets/zidane.jpg: 384x640 2 persons, 52.1ms\n",
      "Speed: 1.4ms preprocess, 55.8ms inference, 0.9ms postprocess per image at shape (1, 3, 384, 640)\n",
      "WARNING ⚠️ 'source' is missing. Using 'source=/home/samarth5854/anaconda3/envs/ModelEnv/lib/python3.10/site-packages/ultralytics/assets'.\n",
      "\n",
      "image 1/2 /home/samarth5854/anaconda3/envs/ModelEnv/lib/python3.10/site-packages/ultralytics/assets/bus.jpg: 640x480 4 persons, 48.7ms\n",
      "image 2/2 /home/samarth5854/anaconda3/envs/ModelEnv/lib/python3.10/site-packages/ultralytics/assets/zidane.jpg: 384x640 2 persons, 35.6ms\n",
      "Speed: 1.6ms preprocess, 42.2ms inference, 0.6ms postprocess per image at shape (1, 3, 384, 640)\n",
      "WARNING ⚠️ 'source' is missing. Using 'source=/home/samarth5854/anaconda3/envs/ModelEnv/lib/python3.10/site-packages/ultralytics/assets'.\n",
      "\n",
      "image 1/2 /home/samarth5854/anaconda3/envs/ModelEnv/lib/python3.10/site-packages/ultralytics/assets/bus.jpg: 640x480 4 persons, 42.3ms\n"
     ]
    },
    {
     "name": "stdout",
     "output_type": "stream",
     "text": [
      "Keypoints shape before flattening: torch.Size([4, 17, 2])\n",
      "Keypoints shape after flattening: (34,)\n",
      "saved to MP_Data/running/2/10.npy\n",
      "Keypoints shape before flattening: torch.Size([4, 17, 2])\n",
      "Keypoints shape after flattening: (34,)\n",
      "saved to MP_Data/running/2/11.npy\n"
     ]
    },
    {
     "name": "stderr",
     "output_type": "stream",
     "text": [
      "image 2/2 /home/samarth5854/anaconda3/envs/ModelEnv/lib/python3.10/site-packages/ultralytics/assets/zidane.jpg: 384x640 2 persons, 46.0ms\n",
      "Speed: 1.5ms preprocess, 44.2ms inference, 0.7ms postprocess per image at shape (1, 3, 384, 640)\n",
      "WARNING ⚠️ 'source' is missing. Using 'source=/home/samarth5854/anaconda3/envs/ModelEnv/lib/python3.10/site-packages/ultralytics/assets'.\n",
      "\n",
      "image 1/2 /home/samarth5854/anaconda3/envs/ModelEnv/lib/python3.10/site-packages/ultralytics/assets/bus.jpg: 640x480 4 persons, 45.6ms\n",
      "image 2/2 /home/samarth5854/anaconda3/envs/ModelEnv/lib/python3.10/site-packages/ultralytics/assets/zidane.jpg: 384x640 2 persons, 36.6ms\n",
      "Speed: 1.8ms preprocess, 41.1ms inference, 0.8ms postprocess per image at shape (1, 3, 384, 640)\n",
      "WARNING ⚠️ 'source' is missing. Using 'source=/home/samarth5854/anaconda3/envs/ModelEnv/lib/python3.10/site-packages/ultralytics/assets'.\n",
      "\n",
      "image 1/2 /home/samarth5854/anaconda3/envs/ModelEnv/lib/python3.10/site-packages/ultralytics/assets/bus.jpg: 640x480 4 persons, 39.2ms\n"
     ]
    },
    {
     "name": "stdout",
     "output_type": "stream",
     "text": [
      "Keypoints shape before flattening: torch.Size([4, 17, 2])\n",
      "Keypoints shape after flattening: (34,)\n",
      "saved to MP_Data/running/2/12.npy\n",
      "Keypoints shape before flattening: torch.Size([4, 17, 2])\n",
      "Keypoints shape after flattening: (34,)\n",
      "saved to MP_Data/running/2/13.npy\n"
     ]
    },
    {
     "name": "stderr",
     "output_type": "stream",
     "text": [
      "image 2/2 /home/samarth5854/anaconda3/envs/ModelEnv/lib/python3.10/site-packages/ultralytics/assets/zidane.jpg: 384x640 2 persons, 34.8ms\n",
      "Speed: 1.6ms preprocess, 37.0ms inference, 0.8ms postprocess per image at shape (1, 3, 384, 640)\n",
      "WARNING ⚠️ 'source' is missing. Using 'source=/home/samarth5854/anaconda3/envs/ModelEnv/lib/python3.10/site-packages/ultralytics/assets'.\n",
      "\n",
      "image 1/2 /home/samarth5854/anaconda3/envs/ModelEnv/lib/python3.10/site-packages/ultralytics/assets/bus.jpg: 640x480 4 persons, 64.2ms\n",
      "image 2/2 /home/samarth5854/anaconda3/envs/ModelEnv/lib/python3.10/site-packages/ultralytics/assets/zidane.jpg: 384x640 2 persons, 53.3ms\n",
      "Speed: 1.5ms preprocess, 58.8ms inference, 0.8ms postprocess per image at shape (1, 3, 384, 640)\n",
      "WARNING ⚠️ 'source' is missing. Using 'source=/home/samarth5854/anaconda3/envs/ModelEnv/lib/python3.10/site-packages/ultralytics/assets'.\n",
      "\n"
     ]
    },
    {
     "name": "stdout",
     "output_type": "stream",
     "text": [
      "Keypoints shape before flattening: torch.Size([4, 17, 2])\n",
      "Keypoints shape after flattening: (34,)\n",
      "saved to MP_Data/running/2/14.npy\n",
      "Keypoints shape before flattening: torch.Size([4, 17, 2])\n",
      "Keypoints shape after flattening: (34,)\n",
      "saved to MP_Data/running/2/15.npy\n"
     ]
    },
    {
     "name": "stderr",
     "output_type": "stream",
     "text": [
      "image 1/2 /home/samarth5854/anaconda3/envs/ModelEnv/lib/python3.10/site-packages/ultralytics/assets/bus.jpg: 640x480 4 persons, 64.8ms\n",
      "image 2/2 /home/samarth5854/anaconda3/envs/ModelEnv/lib/python3.10/site-packages/ultralytics/assets/zidane.jpg: 384x640 2 persons, 52.3ms\n",
      "Speed: 1.5ms preprocess, 58.5ms inference, 0.8ms postprocess per image at shape (1, 3, 384, 640)\n",
      "WARNING ⚠️ 'source' is missing. Using 'source=/home/samarth5854/anaconda3/envs/ModelEnv/lib/python3.10/site-packages/ultralytics/assets'.\n",
      "\n",
      "image 1/2 /home/samarth5854/anaconda3/envs/ModelEnv/lib/python3.10/site-packages/ultralytics/assets/bus.jpg: 640x480 4 persons, 63.0ms\n",
      "image 2/2 /home/samarth5854/anaconda3/envs/ModelEnv/lib/python3.10/site-packages/ultralytics/assets/zidane.jpg: 384x640 2 persons, 51.3ms\n",
      "Speed: 1.4ms preprocess, 57.2ms inference, 0.8ms postprocess per image at shape (1, 3, 384, 640)\n",
      "WARNING ⚠️ 'source' is missing. Using 'source=/home/samarth5854/anaconda3/envs/ModelEnv/lib/python3.10/site-packages/ultralytics/assets'.\n",
      "\n"
     ]
    },
    {
     "name": "stdout",
     "output_type": "stream",
     "text": [
      "Keypoints shape before flattening: torch.Size([4, 17, 2])\n",
      "Keypoints shape after flattening: (34,)\n",
      "saved to MP_Data/running/2/16.npy\n",
      "Keypoints shape before flattening: torch.Size([4, 17, 2])\n",
      "Keypoints shape after flattening: (34,)\n",
      "saved to MP_Data/running/2/17.npy\n"
     ]
    },
    {
     "name": "stderr",
     "output_type": "stream",
     "text": [
      "image 1/2 /home/samarth5854/anaconda3/envs/ModelEnv/lib/python3.10/site-packages/ultralytics/assets/bus.jpg: 640x480 4 persons, 62.8ms\n",
      "image 2/2 /home/samarth5854/anaconda3/envs/ModelEnv/lib/python3.10/site-packages/ultralytics/assets/zidane.jpg: 384x640 2 persons, 52.9ms\n",
      "Speed: 1.6ms preprocess, 57.8ms inference, 0.8ms postprocess per image at shape (1, 3, 384, 640)\n",
      "WARNING ⚠️ 'source' is missing. Using 'source=/home/samarth5854/anaconda3/envs/ModelEnv/lib/python3.10/site-packages/ultralytics/assets'.\n",
      "\n",
      "image 1/2 /home/samarth5854/anaconda3/envs/ModelEnv/lib/python3.10/site-packages/ultralytics/assets/bus.jpg: 640x480 4 persons, 65.2ms\n",
      "image 2/2 /home/samarth5854/anaconda3/envs/ModelEnv/lib/python3.10/site-packages/ultralytics/assets/zidane.jpg: 384x640 2 persons, 53.6ms\n",
      "Speed: 1.6ms preprocess, 59.4ms inference, 0.8ms postprocess per image at shape (1, 3, 384, 640)\n",
      "WARNING ⚠️ 'source' is missing. Using 'source=/home/samarth5854/anaconda3/envs/ModelEnv/lib/python3.10/site-packages/ultralytics/assets'.\n",
      "\n"
     ]
    },
    {
     "name": "stdout",
     "output_type": "stream",
     "text": [
      "Keypoints shape before flattening: torch.Size([4, 17, 2])\n",
      "Keypoints shape after flattening: (34,)\n",
      "saved to MP_Data/running/2/18.npy\n",
      "Keypoints shape before flattening: torch.Size([4, 17, 2])\n",
      "Keypoints shape after flattening: (34,)\n",
      "saved to MP_Data/running/2/19.npy\n"
     ]
    },
    {
     "name": "stderr",
     "output_type": "stream",
     "text": [
      "image 1/2 /home/samarth5854/anaconda3/envs/ModelEnv/lib/python3.10/site-packages/ultralytics/assets/bus.jpg: 640x480 4 persons, 61.2ms\n",
      "image 2/2 /home/samarth5854/anaconda3/envs/ModelEnv/lib/python3.10/site-packages/ultralytics/assets/zidane.jpg: 384x640 2 persons, 53.1ms\n",
      "Speed: 1.7ms preprocess, 57.2ms inference, 0.6ms postprocess per image at shape (1, 3, 384, 640)\n",
      "WARNING ⚠️ 'source' is missing. Using 'source=/home/samarth5854/anaconda3/envs/ModelEnv/lib/python3.10/site-packages/ultralytics/assets'.\n",
      "\n",
      "image 1/2 /home/samarth5854/anaconda3/envs/ModelEnv/lib/python3.10/site-packages/ultralytics/assets/bus.jpg: 640x480 4 persons, 63.1ms\n",
      "image 2/2 /home/samarth5854/anaconda3/envs/ModelEnv/lib/python3.10/site-packages/ultralytics/assets/zidane.jpg: 384x640 2 persons, 50.3ms\n",
      "Speed: 2.1ms preprocess, 56.7ms inference, 0.7ms postprocess per image at shape (1, 3, 384, 640)\n",
      "WARNING ⚠️ 'source' is missing. Using 'source=/home/samarth5854/anaconda3/envs/ModelEnv/lib/python3.10/site-packages/ultralytics/assets'.\n",
      "\n"
     ]
    },
    {
     "name": "stdout",
     "output_type": "stream",
     "text": [
      "Keypoints shape before flattening: torch.Size([4, 17, 2])\n",
      "Keypoints shape after flattening: (34,)\n",
      "saved to MP_Data/running/2/20.npy\n",
      "Keypoints shape before flattening: torch.Size([4, 17, 2])\n",
      "Keypoints shape after flattening: (34,)\n",
      "saved to MP_Data/running/2/21.npy\n"
     ]
    },
    {
     "name": "stderr",
     "output_type": "stream",
     "text": [
      "image 1/2 /home/samarth5854/anaconda3/envs/ModelEnv/lib/python3.10/site-packages/ultralytics/assets/bus.jpg: 640x480 4 persons, 60.4ms\n",
      "image 2/2 /home/samarth5854/anaconda3/envs/ModelEnv/lib/python3.10/site-packages/ultralytics/assets/zidane.jpg: 384x640 2 persons, 54.6ms\n",
      "Speed: 1.9ms preprocess, 57.5ms inference, 1.0ms postprocess per image at shape (1, 3, 384, 640)\n",
      "WARNING ⚠️ 'source' is missing. Using 'source=/home/samarth5854/anaconda3/envs/ModelEnv/lib/python3.10/site-packages/ultralytics/assets'.\n",
      "\n",
      "image 1/2 /home/samarth5854/anaconda3/envs/ModelEnv/lib/python3.10/site-packages/ultralytics/assets/bus.jpg: 640x480 4 persons, 58.5ms\n",
      "image 2/2 /home/samarth5854/anaconda3/envs/ModelEnv/lib/python3.10/site-packages/ultralytics/assets/zidane.jpg: 384x640 2 persons, 48.9ms\n",
      "Speed: 1.6ms preprocess, 53.7ms inference, 0.7ms postprocess per image at shape (1, 3, 384, 640)\n",
      "WARNING ⚠️ 'source' is missing. Using 'source=/home/samarth5854/anaconda3/envs/ModelEnv/lib/python3.10/site-packages/ultralytics/assets'.\n",
      "\n"
     ]
    },
    {
     "name": "stdout",
     "output_type": "stream",
     "text": [
      "Keypoints shape before flattening: torch.Size([4, 17, 2])\n",
      "Keypoints shape after flattening: (34,)\n",
      "saved to MP_Data/running/2/22.npy\n",
      "Keypoints shape before flattening: torch.Size([4, 17, 2])\n",
      "Keypoints shape after flattening: (34,)\n",
      "saved to MP_Data/running/2/23.npy\n"
     ]
    },
    {
     "name": "stderr",
     "output_type": "stream",
     "text": [
      "image 1/2 /home/samarth5854/anaconda3/envs/ModelEnv/lib/python3.10/site-packages/ultralytics/assets/bus.jpg: 640x480 4 persons, 57.4ms\n",
      "image 2/2 /home/samarth5854/anaconda3/envs/ModelEnv/lib/python3.10/site-packages/ultralytics/assets/zidane.jpg: 384x640 2 persons, 49.2ms\n",
      "Speed: 1.6ms preprocess, 53.3ms inference, 0.7ms postprocess per image at shape (1, 3, 384, 640)\n",
      "WARNING ⚠️ 'source' is missing. Using 'source=/home/samarth5854/anaconda3/envs/ModelEnv/lib/python3.10/site-packages/ultralytics/assets'.\n",
      "\n",
      "image 1/2 /home/samarth5854/anaconda3/envs/ModelEnv/lib/python3.10/site-packages/ultralytics/assets/bus.jpg: 640x480 4 persons, 57.3ms\n",
      "image 2/2 /home/samarth5854/anaconda3/envs/ModelEnv/lib/python3.10/site-packages/ultralytics/assets/zidane.jpg: 384x640 2 persons, 48.6ms\n",
      "Speed: 1.6ms preprocess, 52.9ms inference, 0.7ms postprocess per image at shape (1, 3, 384, 640)\n",
      "WARNING ⚠️ 'source' is missing. Using 'source=/home/samarth5854/anaconda3/envs/ModelEnv/lib/python3.10/site-packages/ultralytics/assets'.\n",
      "\n"
     ]
    },
    {
     "name": "stdout",
     "output_type": "stream",
     "text": [
      "Keypoints shape before flattening: torch.Size([4, 17, 2])\n",
      "Keypoints shape after flattening: (34,)\n",
      "saved to MP_Data/running/2/24.npy\n",
      "Keypoints shape before flattening: torch.Size([4, 17, 2])\n",
      "Keypoints shape after flattening: (34,)\n",
      "saved to MP_Data/running/2/25.npy\n"
     ]
    },
    {
     "name": "stderr",
     "output_type": "stream",
     "text": [
      "image 1/2 /home/samarth5854/anaconda3/envs/ModelEnv/lib/python3.10/site-packages/ultralytics/assets/bus.jpg: 640x480 4 persons, 59.3ms\n",
      "image 2/2 /home/samarth5854/anaconda3/envs/ModelEnv/lib/python3.10/site-packages/ultralytics/assets/zidane.jpg: 384x640 2 persons, 53.3ms\n",
      "Speed: 1.6ms preprocess, 56.3ms inference, 0.9ms postprocess per image at shape (1, 3, 384, 640)\n",
      "WARNING ⚠️ 'source' is missing. Using 'source=/home/samarth5854/anaconda3/envs/ModelEnv/lib/python3.10/site-packages/ultralytics/assets'.\n",
      "\n",
      "image 1/2 /home/samarth5854/anaconda3/envs/ModelEnv/lib/python3.10/site-packages/ultralytics/assets/bus.jpg: 640x480 4 persons, 79.4ms\n",
      "image 2/2 /home/samarth5854/anaconda3/envs/ModelEnv/lib/python3.10/site-packages/ultralytics/assets/zidane.jpg: 384x640 2 persons, 52.2ms\n",
      "Speed: 2.4ms preprocess, 65.8ms inference, 0.9ms postprocess per image at shape (1, 3, 384, 640)\n",
      "WARNING ⚠️ 'source' is missing. Using 'source=/home/samarth5854/anaconda3/envs/ModelEnv/lib/python3.10/site-packages/ultralytics/assets'.\n",
      "\n"
     ]
    },
    {
     "name": "stdout",
     "output_type": "stream",
     "text": [
      "Keypoints shape before flattening: torch.Size([4, 17, 2])\n",
      "Keypoints shape after flattening: (34,)\n",
      "saved to MP_Data/running/2/26.npy\n",
      "Keypoints shape before flattening: torch.Size([4, 17, 2])\n",
      "Keypoints shape after flattening: (34,)\n",
      "saved to MP_Data/running/2/27.npy\n"
     ]
    },
    {
     "name": "stderr",
     "output_type": "stream",
     "text": [
      "image 1/2 /home/samarth5854/anaconda3/envs/ModelEnv/lib/python3.10/site-packages/ultralytics/assets/bus.jpg: 640x480 4 persons, 64.4ms\n",
      "image 2/2 /home/samarth5854/anaconda3/envs/ModelEnv/lib/python3.10/site-packages/ultralytics/assets/zidane.jpg: 384x640 2 persons, 51.2ms\n",
      "Speed: 2.3ms preprocess, 57.8ms inference, 0.7ms postprocess per image at shape (1, 3, 384, 640)\n",
      "WARNING ⚠️ 'source' is missing. Using 'source=/home/samarth5854/anaconda3/envs/ModelEnv/lib/python3.10/site-packages/ultralytics/assets'.\n",
      "\n",
      "image 1/2 /home/samarth5854/anaconda3/envs/ModelEnv/lib/python3.10/site-packages/ultralytics/assets/bus.jpg: 640x480 4 persons, 58.2ms\n",
      "image 2/2 /home/samarth5854/anaconda3/envs/ModelEnv/lib/python3.10/site-packages/ultralytics/assets/zidane.jpg: 384x640 2 persons, 48.1ms\n",
      "Speed: 1.6ms preprocess, 53.2ms inference, 0.7ms postprocess per image at shape (1, 3, 384, 640)\n",
      "[ WARN:0@28.792] global /croot/opencv-suite_1691620365762/work/modules/videoio/src/cap_gstreamer.cpp (2401) handleMessage OpenCV | GStreamer warning: Embedded video playback halted; module source reported: \"/home/samarth5854/Desktop/LSTM/MP_Data/running/13\" is a directory.\n",
      "WARNING ⚠️ 'source' is missing. Using 'source=/home/samarth5854/anaconda3/envs/ModelEnv/lib/python3.10/site-packages/ultralytics/assets'.\n",
      "[ WARN:0@28.792] global /croot/opencv-suite_1691620365762/work/modules/videoio/src/cap_gstreamer.cpp (1356) open OpenCV | GStreamer warning: unable to start pipeline\n",
      "[ WARN:0@28.792] global /croot/opencv-suite_1691620365762/work/modules/videoio/src/cap_gstreamer.cpp (862) isPipelinePlaying OpenCV | GStreamer warning: GStreamer: pipeline have not been created\n",
      "\n"
     ]
    },
    {
     "name": "stdout",
     "output_type": "stream",
     "text": [
      "Keypoints shape before flattening: torch.Size([4, 17, 2])\n",
      "Keypoints shape after flattening: (34,)\n",
      "saved to MP_Data/running/2/28.npy\n",
      "Keypoints shape before flattening: torch.Size([4, 17, 2])\n",
      "Keypoints shape after flattening: (34,)\n",
      "saved to MP_Data/running/2/29.npy\n"
     ]
    },
    {
     "name": "stderr",
     "output_type": "stream",
     "text": [
      "image 1/2 /home/samarth5854/anaconda3/envs/ModelEnv/lib/python3.10/site-packages/ultralytics/assets/bus.jpg: 640x480 4 persons, 64.6ms\n",
      "image 2/2 /home/samarth5854/anaconda3/envs/ModelEnv/lib/python3.10/site-packages/ultralytics/assets/zidane.jpg: 384x640 2 persons, 53.9ms\n",
      "Speed: 3.1ms preprocess, 59.2ms inference, 0.9ms postprocess per image at shape (1, 3, 384, 640)\n",
      "WARNING ⚠️ 'source' is missing. Using 'source=/home/samarth5854/anaconda3/envs/ModelEnv/lib/python3.10/site-packages/ultralytics/assets'.\n",
      "\n",
      "image 1/2 /home/samarth5854/anaconda3/envs/ModelEnv/lib/python3.10/site-packages/ultralytics/assets/bus.jpg: 640x480 4 persons, 59.7ms\n",
      "image 2/2 /home/samarth5854/anaconda3/envs/ModelEnv/lib/python3.10/site-packages/ultralytics/assets/zidane.jpg: 384x640 2 persons, 50.6ms\n",
      "Speed: 1.4ms preprocess, 55.1ms inference, 0.8ms postprocess per image at shape (1, 3, 384, 640)\n",
      "WARNING ⚠️ 'source' is missing. Using 'source=/home/samarth5854/anaconda3/envs/ModelEnv/lib/python3.10/site-packages/ultralytics/assets'.\n",
      "\n"
     ]
    },
    {
     "name": "stdout",
     "output_type": "stream",
     "text": [
      "Keypoints shape before flattening: torch.Size([4, 17, 2])\n",
      "Keypoints shape after flattening: (34,)\n",
      "saved to MP_Data/running/3/0.npy\n",
      "Keypoints shape before flattening: torch.Size([4, 17, 2])\n",
      "Keypoints shape after flattening: (34,)\n",
      "saved to MP_Data/running/3/1.npy\n"
     ]
    },
    {
     "name": "stderr",
     "output_type": "stream",
     "text": [
      "image 1/2 /home/samarth5854/anaconda3/envs/ModelEnv/lib/python3.10/site-packages/ultralytics/assets/bus.jpg: 640x480 4 persons, 65.6ms\n",
      "image 2/2 /home/samarth5854/anaconda3/envs/ModelEnv/lib/python3.10/site-packages/ultralytics/assets/zidane.jpg: 384x640 2 persons, 54.5ms\n",
      "Speed: 2.4ms preprocess, 60.1ms inference, 0.9ms postprocess per image at shape (1, 3, 384, 640)\n",
      "WARNING ⚠️ 'source' is missing. Using 'source=/home/samarth5854/anaconda3/envs/ModelEnv/lib/python3.10/site-packages/ultralytics/assets'.\n",
      "\n",
      "image 1/2 /home/samarth5854/anaconda3/envs/ModelEnv/lib/python3.10/site-packages/ultralytics/assets/bus.jpg: 640x480 4 persons, 59.6ms\n",
      "image 2/2 /home/samarth5854/anaconda3/envs/ModelEnv/lib/python3.10/site-packages/ultralytics/assets/zidane.jpg: 384x640 2 persons, 54.9ms\n",
      "Speed: 1.6ms preprocess, 57.2ms inference, 0.8ms postprocess per image at shape (1, 3, 384, 640)\n",
      "WARNING ⚠️ 'source' is missing. Using 'source=/home/samarth5854/anaconda3/envs/ModelEnv/lib/python3.10/site-packages/ultralytics/assets'.\n",
      "\n"
     ]
    },
    {
     "name": "stdout",
     "output_type": "stream",
     "text": [
      "Keypoints shape before flattening: torch.Size([4, 17, 2])\n",
      "Keypoints shape after flattening: (34,)\n",
      "saved to MP_Data/running/3/2.npy\n",
      "Keypoints shape before flattening: torch.Size([4, 17, 2])\n",
      "Keypoints shape after flattening: (34,)\n",
      "saved to MP_Data/running/3/3.npy\n"
     ]
    },
    {
     "name": "stderr",
     "output_type": "stream",
     "text": [
      "image 1/2 /home/samarth5854/anaconda3/envs/ModelEnv/lib/python3.10/site-packages/ultralytics/assets/bus.jpg: 640x480 4 persons, 73.0ms\n",
      "image 2/2 /home/samarth5854/anaconda3/envs/ModelEnv/lib/python3.10/site-packages/ultralytics/assets/zidane.jpg: 384x640 2 persons, 56.8ms\n",
      "Speed: 2.2ms preprocess, 64.9ms inference, 0.9ms postprocess per image at shape (1, 3, 384, 640)\n",
      "WARNING ⚠️ 'source' is missing. Using 'source=/home/samarth5854/anaconda3/envs/ModelEnv/lib/python3.10/site-packages/ultralytics/assets'.\n",
      "\n",
      "image 1/2 /home/samarth5854/anaconda3/envs/ModelEnv/lib/python3.10/site-packages/ultralytics/assets/bus.jpg: 640x480 4 persons, 58.1ms\n",
      "image 2/2 /home/samarth5854/anaconda3/envs/ModelEnv/lib/python3.10/site-packages/ultralytics/assets/zidane.jpg: 384x640 2 persons, 47.9ms\n",
      "Speed: 1.4ms preprocess, 53.0ms inference, 0.7ms postprocess per image at shape (1, 3, 384, 640)\n",
      "WARNING ⚠️ 'source' is missing. Using 'source=/home/samarth5854/anaconda3/envs/ModelEnv/lib/python3.10/site-packages/ultralytics/assets'.\n",
      "\n"
     ]
    },
    {
     "name": "stdout",
     "output_type": "stream",
     "text": [
      "Keypoints shape before flattening: torch.Size([4, 17, 2])\n",
      "Keypoints shape after flattening: (34,)\n",
      "saved to MP_Data/running/3/4.npy\n",
      "Keypoints shape before flattening: torch.Size([4, 17, 2])\n",
      "Keypoints shape after flattening: (34,)\n",
      "saved to MP_Data/running/3/5.npy\n"
     ]
    },
    {
     "name": "stderr",
     "output_type": "stream",
     "text": [
      "image 1/2 /home/samarth5854/anaconda3/envs/ModelEnv/lib/python3.10/site-packages/ultralytics/assets/bus.jpg: 640x480 4 persons, 63.9ms\n",
      "image 2/2 /home/samarth5854/anaconda3/envs/ModelEnv/lib/python3.10/site-packages/ultralytics/assets/zidane.jpg: 384x640 2 persons, 52.7ms\n",
      "Speed: 1.9ms preprocess, 58.3ms inference, 0.7ms postprocess per image at shape (1, 3, 384, 640)\n",
      "WARNING ⚠️ 'source' is missing. Using 'source=/home/samarth5854/anaconda3/envs/ModelEnv/lib/python3.10/site-packages/ultralytics/assets'.\n",
      "\n",
      "image 1/2 /home/samarth5854/anaconda3/envs/ModelEnv/lib/python3.10/site-packages/ultralytics/assets/bus.jpg: 640x480 4 persons, 58.2ms\n",
      "image 2/2 /home/samarth5854/anaconda3/envs/ModelEnv/lib/python3.10/site-packages/ultralytics/assets/zidane.jpg: 384x640 2 persons, 49.2ms\n",
      "Speed: 1.4ms preprocess, 53.7ms inference, 0.7ms postprocess per image at shape (1, 3, 384, 640)\n",
      "WARNING ⚠️ 'source' is missing. Using 'source=/home/samarth5854/anaconda3/envs/ModelEnv/lib/python3.10/site-packages/ultralytics/assets'.\n",
      "\n"
     ]
    },
    {
     "name": "stdout",
     "output_type": "stream",
     "text": [
      "Keypoints shape before flattening: torch.Size([4, 17, 2])\n",
      "Keypoints shape after flattening: (34,)\n",
      "saved to MP_Data/running/3/6.npy\n",
      "Keypoints shape before flattening: torch.Size([4, 17, 2])\n",
      "Keypoints shape after flattening: (34,)\n",
      "saved to MP_Data/running/3/7.npy\n"
     ]
    },
    {
     "name": "stderr",
     "output_type": "stream",
     "text": [
      "image 1/2 /home/samarth5854/anaconda3/envs/ModelEnv/lib/python3.10/site-packages/ultralytics/assets/bus.jpg: 640x480 4 persons, 61.1ms\n",
      "image 2/2 /home/samarth5854/anaconda3/envs/ModelEnv/lib/python3.10/site-packages/ultralytics/assets/zidane.jpg: 384x640 2 persons, 47.9ms\n",
      "Speed: 1.5ms preprocess, 54.5ms inference, 0.7ms postprocess per image at shape (1, 3, 384, 640)\n",
      "WARNING ⚠️ 'source' is missing. Using 'source=/home/samarth5854/anaconda3/envs/ModelEnv/lib/python3.10/site-packages/ultralytics/assets'.\n",
      "\n",
      "image 1/2 /home/samarth5854/anaconda3/envs/ModelEnv/lib/python3.10/site-packages/ultralytics/assets/bus.jpg: 640x480 4 persons, 65.7ms\n",
      "image 2/2 /home/samarth5854/anaconda3/envs/ModelEnv/lib/python3.10/site-packages/ultralytics/assets/zidane.jpg: 384x640 2 persons, 56.3ms\n",
      "Speed: 1.5ms preprocess, 61.0ms inference, 0.9ms postprocess per image at shape (1, 3, 384, 640)\n",
      "WARNING ⚠️ 'source' is missing. Using 'source=/home/samarth5854/anaconda3/envs/ModelEnv/lib/python3.10/site-packages/ultralytics/assets'.\n",
      "\n"
     ]
    },
    {
     "name": "stdout",
     "output_type": "stream",
     "text": [
      "Keypoints shape before flattening: torch.Size([4, 17, 2])\n",
      "Keypoints shape after flattening: (34,)\n",
      "saved to MP_Data/running/3/8.npy\n",
      "Keypoints shape before flattening: torch.Size([4, 17, 2])\n",
      "Keypoints shape after flattening: (34,)\n",
      "saved to MP_Data/running/3/9.npy\n"
     ]
    },
    {
     "name": "stderr",
     "output_type": "stream",
     "text": [
      "image 1/2 /home/samarth5854/anaconda3/envs/ModelEnv/lib/python3.10/site-packages/ultralytics/assets/bus.jpg: 640x480 4 persons, 91.9ms\n",
      "image 2/2 /home/samarth5854/anaconda3/envs/ModelEnv/lib/python3.10/site-packages/ultralytics/assets/zidane.jpg: 384x640 2 persons, 57.5ms\n",
      "Speed: 2.1ms preprocess, 74.7ms inference, 0.8ms postprocess per image at shape (1, 3, 384, 640)\n",
      "WARNING ⚠️ 'source' is missing. Using 'source=/home/samarth5854/anaconda3/envs/ModelEnv/lib/python3.10/site-packages/ultralytics/assets'.\n",
      "\n",
      "image 1/2 /home/samarth5854/anaconda3/envs/ModelEnv/lib/python3.10/site-packages/ultralytics/assets/bus.jpg: 640x480 4 persons, 72.0ms\n",
      "image 2/2 /home/samarth5854/anaconda3/envs/ModelEnv/lib/python3.10/site-packages/ultralytics/assets/zidane.jpg: 384x640 2 persons, 61.7ms\n",
      "Speed: 1.8ms preprocess, 66.9ms inference, 0.9ms postprocess per image at shape (1, 3, 384, 640)\n",
      "WARNING ⚠️ 'source' is missing. Using 'source=/home/samarth5854/anaconda3/envs/ModelEnv/lib/python3.10/site-packages/ultralytics/assets'.\n",
      "\n"
     ]
    },
    {
     "name": "stdout",
     "output_type": "stream",
     "text": [
      "Keypoints shape before flattening: torch.Size([4, 17, 2])\n",
      "Keypoints shape after flattening: (34,)\n",
      "saved to MP_Data/running/3/10.npy\n",
      "Keypoints shape before flattening: torch.Size([4, 17, 2])\n",
      "Keypoints shape after flattening: (34,)\n",
      "saved to MP_Data/running/3/11.npy\n"
     ]
    },
    {
     "name": "stderr",
     "output_type": "stream",
     "text": [
      "image 1/2 /home/samarth5854/anaconda3/envs/ModelEnv/lib/python3.10/site-packages/ultralytics/assets/bus.jpg: 640x480 4 persons, 78.3ms\n",
      "image 2/2 /home/samarth5854/anaconda3/envs/ModelEnv/lib/python3.10/site-packages/ultralytics/assets/zidane.jpg: 384x640 2 persons, 69.1ms\n",
      "Speed: 1.8ms preprocess, 73.7ms inference, 1.1ms postprocess per image at shape (1, 3, 384, 640)\n",
      "WARNING ⚠️ 'source' is missing. Using 'source=/home/samarth5854/anaconda3/envs/ModelEnv/lib/python3.10/site-packages/ultralytics/assets'.\n",
      "\n",
      "image 1/2 /home/samarth5854/anaconda3/envs/ModelEnv/lib/python3.10/site-packages/ultralytics/assets/bus.jpg: 640x480 4 persons, 79.2ms\n",
      "image 2/2 /home/samarth5854/anaconda3/envs/ModelEnv/lib/python3.10/site-packages/ultralytics/assets/zidane.jpg: 384x640 2 persons, 66.4ms\n",
      "Speed: 2.0ms preprocess, 72.8ms inference, 0.9ms postprocess per image at shape (1, 3, 384, 640)\n",
      "WARNING ⚠️ 'source' is missing. Using 'source=/home/samarth5854/anaconda3/envs/ModelEnv/lib/python3.10/site-packages/ultralytics/assets'.\n",
      "\n"
     ]
    },
    {
     "name": "stdout",
     "output_type": "stream",
     "text": [
      "Keypoints shape before flattening: torch.Size([4, 17, 2])\n",
      "Keypoints shape after flattening: (34,)\n",
      "saved to MP_Data/running/3/12.npy\n",
      "Keypoints shape before flattening: torch.Size([4, 17, 2])\n",
      "Keypoints shape after flattening: (34,)\n",
      "saved to MP_Data/running/3/13.npy\n"
     ]
    },
    {
     "name": "stderr",
     "output_type": "stream",
     "text": [
      "image 1/2 /home/samarth5854/anaconda3/envs/ModelEnv/lib/python3.10/site-packages/ultralytics/assets/bus.jpg: 640x480 4 persons, 84.2ms\n",
      "image 2/2 /home/samarth5854/anaconda3/envs/ModelEnv/lib/python3.10/site-packages/ultralytics/assets/zidane.jpg: 384x640 2 persons, 48.2ms\n",
      "Speed: 2.0ms preprocess, 66.2ms inference, 0.9ms postprocess per image at shape (1, 3, 384, 640)\n",
      "WARNING ⚠️ 'source' is missing. Using 'source=/home/samarth5854/anaconda3/envs/ModelEnv/lib/python3.10/site-packages/ultralytics/assets'.\n",
      "\n",
      "image 1/2 /home/samarth5854/anaconda3/envs/ModelEnv/lib/python3.10/site-packages/ultralytics/assets/bus.jpg: 640x480 4 persons, 57.7ms\n",
      "image 2/2 /home/samarth5854/anaconda3/envs/ModelEnv/lib/python3.10/site-packages/ultralytics/assets/zidane.jpg: 384x640 2 persons, 51.2ms\n",
      "Speed: 1.9ms preprocess, 54.5ms inference, 1.2ms postprocess per image at shape (1, 3, 384, 640)\n",
      "WARNING ⚠️ 'source' is missing. Using 'source=/home/samarth5854/anaconda3/envs/ModelEnv/lib/python3.10/site-packages/ultralytics/assets'.\n",
      "\n"
     ]
    },
    {
     "name": "stdout",
     "output_type": "stream",
     "text": [
      "Keypoints shape before flattening: torch.Size([4, 17, 2])\n",
      "Keypoints shape after flattening: (34,)\n",
      "saved to MP_Data/running/3/14.npy\n",
      "Keypoints shape before flattening: torch.Size([4, 17, 2])\n",
      "Keypoints shape after flattening: (34,)\n",
      "saved to MP_Data/running/3/15.npy\n"
     ]
    },
    {
     "name": "stderr",
     "output_type": "stream",
     "text": [
      "image 1/2 /home/samarth5854/anaconda3/envs/ModelEnv/lib/python3.10/site-packages/ultralytics/assets/bus.jpg: 640x480 4 persons, 86.2ms\n",
      "image 2/2 /home/samarth5854/anaconda3/envs/ModelEnv/lib/python3.10/site-packages/ultralytics/assets/zidane.jpg: 384x640 2 persons, 75.1ms\n",
      "Speed: 2.4ms preprocess, 80.6ms inference, 1.0ms postprocess per image at shape (1, 3, 384, 640)\n",
      "WARNING ⚠️ 'source' is missing. Using 'source=/home/samarth5854/anaconda3/envs/ModelEnv/lib/python3.10/site-packages/ultralytics/assets'.\n",
      "\n",
      "image 1/2 /home/samarth5854/anaconda3/envs/ModelEnv/lib/python3.10/site-packages/ultralytics/assets/bus.jpg: 640x480 4 persons, 81.1ms\n",
      "image 2/2 /home/samarth5854/anaconda3/envs/ModelEnv/lib/python3.10/site-packages/ultralytics/assets/zidane.jpg: 384x640 2 persons, 67.9ms\n",
      "Speed: 1.8ms preprocess, 74.5ms inference, 0.9ms postprocess per image at shape (1, 3, 384, 640)\n",
      "WARNING ⚠️ 'source' is missing. Using 'source=/home/samarth5854/anaconda3/envs/ModelEnv/lib/python3.10/site-packages/ultralytics/assets'.\n",
      "\n"
     ]
    },
    {
     "name": "stdout",
     "output_type": "stream",
     "text": [
      "Keypoints shape before flattening: torch.Size([4, 17, 2])\n",
      "Keypoints shape after flattening: (34,)\n",
      "saved to MP_Data/running/3/16.npy\n",
      "Keypoints shape before flattening: torch.Size([4, 17, 2])\n",
      "Keypoints shape after flattening: (34,)\n",
      "saved to MP_Data/running/3/17.npy\n"
     ]
    },
    {
     "name": "stderr",
     "output_type": "stream",
     "text": [
      "image 1/2 /home/samarth5854/anaconda3/envs/ModelEnv/lib/python3.10/site-packages/ultralytics/assets/bus.jpg: 640x480 4 persons, 84.7ms\n",
      "image 2/2 /home/samarth5854/anaconda3/envs/ModelEnv/lib/python3.10/site-packages/ultralytics/assets/zidane.jpg: 384x640 2 persons, 72.1ms\n",
      "Speed: 2.1ms preprocess, 78.4ms inference, 1.1ms postprocess per image at shape (1, 3, 384, 640)\n",
      "WARNING ⚠️ 'source' is missing. Using 'source=/home/samarth5854/anaconda3/envs/ModelEnv/lib/python3.10/site-packages/ultralytics/assets'.\n",
      "\n",
      "image 1/2 /home/samarth5854/anaconda3/envs/ModelEnv/lib/python3.10/site-packages/ultralytics/assets/bus.jpg: 640x480 4 persons, 83.6ms\n",
      "image 2/2 /home/samarth5854/anaconda3/envs/ModelEnv/lib/python3.10/site-packages/ultralytics/assets/zidane.jpg: 384x640 2 persons, 72.3ms\n",
      "Speed: 2.1ms preprocess, 78.0ms inference, 1.0ms postprocess per image at shape (1, 3, 384, 640)\n",
      "WARNING ⚠️ 'source' is missing. Using 'source=/home/samarth5854/anaconda3/envs/ModelEnv/lib/python3.10/site-packages/ultralytics/assets'.\n",
      "\n"
     ]
    },
    {
     "name": "stdout",
     "output_type": "stream",
     "text": [
      "Keypoints shape before flattening: torch.Size([4, 17, 2])\n",
      "Keypoints shape after flattening: (34,)\n",
      "saved to MP_Data/running/3/18.npy\n",
      "Keypoints shape before flattening: torch.Size([4, 17, 2])\n",
      "Keypoints shape after flattening: (34,)\n",
      "saved to MP_Data/running/3/19.npy\n"
     ]
    },
    {
     "name": "stderr",
     "output_type": "stream",
     "text": [
      "image 1/2 /home/samarth5854/anaconda3/envs/ModelEnv/lib/python3.10/site-packages/ultralytics/assets/bus.jpg: 640x480 4 persons, 83.5ms\n",
      "image 2/2 /home/samarth5854/anaconda3/envs/ModelEnv/lib/python3.10/site-packages/ultralytics/assets/zidane.jpg: 384x640 2 persons, 67.0ms\n",
      "Speed: 4.5ms preprocess, 75.2ms inference, 1.0ms postprocess per image at shape (1, 3, 384, 640)\n",
      "WARNING ⚠️ 'source' is missing. Using 'source=/home/samarth5854/anaconda3/envs/ModelEnv/lib/python3.10/site-packages/ultralytics/assets'.\n",
      "\n",
      "image 1/2 /home/samarth5854/anaconda3/envs/ModelEnv/lib/python3.10/site-packages/ultralytics/assets/bus.jpg: 640x480 4 persons, 86.9ms\n",
      "image 2/2 /home/samarth5854/anaconda3/envs/ModelEnv/lib/python3.10/site-packages/ultralytics/assets/zidane.jpg: 384x640 2 persons, 73.3ms\n"
     ]
    },
    {
     "name": "stdout",
     "output_type": "stream",
     "text": [
      "Keypoints shape before flattening: torch.Size([4, 17, 2])\n",
      "Keypoints shape after flattening: (34,)\n",
      "saved to MP_Data/running/3/20.npy\n"
     ]
    },
    {
     "name": "stderr",
     "output_type": "stream",
     "text": [
      "Speed: 2.3ms preprocess, 80.1ms inference, 1.0ms postprocess per image at shape (1, 3, 384, 640)\n",
      "WARNING ⚠️ 'source' is missing. Using 'source=/home/samarth5854/anaconda3/envs/ModelEnv/lib/python3.10/site-packages/ultralytics/assets'.\n",
      "\n",
      "image 1/2 /home/samarth5854/anaconda3/envs/ModelEnv/lib/python3.10/site-packages/ultralytics/assets/bus.jpg: 640x480 4 persons, 82.0ms\n",
      "image 2/2 /home/samarth5854/anaconda3/envs/ModelEnv/lib/python3.10/site-packages/ultralytics/assets/zidane.jpg: 384x640 2 persons, 48.4ms\n",
      "Speed: 2.1ms preprocess, 65.2ms inference, 0.8ms postprocess per image at shape (1, 3, 384, 640)\n",
      "WARNING ⚠️ 'source' is missing. Using 'source=/home/samarth5854/anaconda3/envs/ModelEnv/lib/python3.10/site-packages/ultralytics/assets'.\n",
      "\n"
     ]
    },
    {
     "name": "stdout",
     "output_type": "stream",
     "text": [
      "Keypoints shape before flattening: torch.Size([4, 17, 2])\n",
      "Keypoints shape after flattening: (34,)\n",
      "saved to MP_Data/running/3/21.npy\n",
      "Keypoints shape before flattening: torch.Size([4, 17, 2])\n",
      "Keypoints shape after flattening: (34,)\n",
      "saved to MP_Data/running/3/22.npy\n"
     ]
    },
    {
     "name": "stderr",
     "output_type": "stream",
     "text": [
      "image 1/2 /home/samarth5854/anaconda3/envs/ModelEnv/lib/python3.10/site-packages/ultralytics/assets/bus.jpg: 640x480 4 persons, 57.1ms\n",
      "image 2/2 /home/samarth5854/anaconda3/envs/ModelEnv/lib/python3.10/site-packages/ultralytics/assets/zidane.jpg: 384x640 2 persons, 59.7ms\n",
      "Speed: 2.0ms preprocess, 58.4ms inference, 0.9ms postprocess per image at shape (1, 3, 384, 640)\n",
      "WARNING ⚠️ 'source' is missing. Using 'source=/home/samarth5854/anaconda3/envs/ModelEnv/lib/python3.10/site-packages/ultralytics/assets'.\n",
      "\n",
      "image 1/2 /home/samarth5854/anaconda3/envs/ModelEnv/lib/python3.10/site-packages/ultralytics/assets/bus.jpg: 640x480 4 persons, 85.2ms\n",
      "image 2/2 /home/samarth5854/anaconda3/envs/ModelEnv/lib/python3.10/site-packages/ultralytics/assets/zidane.jpg: 384x640 2 persons, 70.3ms\n",
      "Speed: 2.1ms preprocess, 77.8ms inference, 0.9ms postprocess per image at shape (1, 3, 384, 640)\n"
     ]
    },
    {
     "name": "stdout",
     "output_type": "stream",
     "text": [
      "Keypoints shape before flattening: torch.Size([4, 17, 2])\n",
      "Keypoints shape after flattening: (34,)\n",
      "saved to MP_Data/running/3/23.npy\n"
     ]
    },
    {
     "name": "stderr",
     "output_type": "stream",
     "text": [
      "WARNING ⚠️ 'source' is missing. Using 'source=/home/samarth5854/anaconda3/envs/ModelEnv/lib/python3.10/site-packages/ultralytics/assets'.\n",
      "\n",
      "image 1/2 /home/samarth5854/anaconda3/envs/ModelEnv/lib/python3.10/site-packages/ultralytics/assets/bus.jpg: 640x480 4 persons, 97.5ms\n"
     ]
    },
    {
     "name": "stdout",
     "output_type": "stream",
     "text": [
      "Keypoints shape before flattening: torch.Size([4, 17, 2])\n",
      "Keypoints shape after flattening: (34,)\n",
      "saved to MP_Data/running/3/24.npy\n"
     ]
    },
    {
     "name": "stderr",
     "output_type": "stream",
     "text": [
      "image 2/2 /home/samarth5854/anaconda3/envs/ModelEnv/lib/python3.10/site-packages/ultralytics/assets/zidane.jpg: 384x640 2 persons, 67.5ms\n",
      "Speed: 3.6ms preprocess, 82.5ms inference, 1.0ms postprocess per image at shape (1, 3, 384, 640)\n",
      "WARNING ⚠️ 'source' is missing. Using 'source=/home/samarth5854/anaconda3/envs/ModelEnv/lib/python3.10/site-packages/ultralytics/assets'.\n",
      "\n",
      "image 1/2 /home/samarth5854/anaconda3/envs/ModelEnv/lib/python3.10/site-packages/ultralytics/assets/bus.jpg: 640x480 4 persons, 90.5ms\n",
      "image 2/2 /home/samarth5854/anaconda3/envs/ModelEnv/lib/python3.10/site-packages/ultralytics/assets/zidane.jpg: 384x640 2 persons, 70.0ms\n",
      "Speed: 2.1ms preprocess, 80.2ms inference, 1.0ms postprocess per image at shape (1, 3, 384, 640)\n"
     ]
    },
    {
     "name": "stdout",
     "output_type": "stream",
     "text": [
      "Keypoints shape before flattening: torch.Size([4, 17, 2])\n",
      "Keypoints shape after flattening: (34,)\n",
      "saved to MP_Data/running/3/25.npy\n"
     ]
    },
    {
     "name": "stderr",
     "output_type": "stream",
     "text": [
      "WARNING ⚠️ 'source' is missing. Using 'source=/home/samarth5854/anaconda3/envs/ModelEnv/lib/python3.10/site-packages/ultralytics/assets'.\n",
      "\n",
      "image 1/2 /home/samarth5854/anaconda3/envs/ModelEnv/lib/python3.10/site-packages/ultralytics/assets/bus.jpg: 640x480 4 persons, 82.3ms\n",
      "image 2/2 /home/samarth5854/anaconda3/envs/ModelEnv/lib/python3.10/site-packages/ultralytics/assets/zidane.jpg: 384x640 2 persons, 64.9ms\n",
      "Speed: 2.0ms preprocess, 73.6ms inference, 0.9ms postprocess per image at shape (1, 3, 384, 640)\n",
      "WARNING ⚠️ 'source' is missing. Using 'source=/home/samarth5854/anaconda3/envs/ModelEnv/lib/python3.10/site-packages/ultralytics/assets'.\n",
      "\n"
     ]
    },
    {
     "name": "stdout",
     "output_type": "stream",
     "text": [
      "Keypoints shape before flattening: torch.Size([4, 17, 2])\n",
      "Keypoints shape after flattening: (34,)\n",
      "saved to MP_Data/running/3/26.npy\n",
      "Keypoints shape before flattening: torch.Size([4, 17, 2])\n",
      "Keypoints shape after flattening: (34,)\n",
      "saved to MP_Data/running/3/27.npy\n"
     ]
    },
    {
     "name": "stderr",
     "output_type": "stream",
     "text": [
      "image 1/2 /home/samarth5854/anaconda3/envs/ModelEnv/lib/python3.10/site-packages/ultralytics/assets/bus.jpg: 640x480 4 persons, 83.4ms\n",
      "image 2/2 /home/samarth5854/anaconda3/envs/ModelEnv/lib/python3.10/site-packages/ultralytics/assets/zidane.jpg: 384x640 2 persons, 68.4ms\n",
      "Speed: 1.9ms preprocess, 75.9ms inference, 0.9ms postprocess per image at shape (1, 3, 384, 640)\n",
      "WARNING ⚠️ 'source' is missing. Using 'source=/home/samarth5854/anaconda3/envs/ModelEnv/lib/python3.10/site-packages/ultralytics/assets'.\n",
      "\n",
      "image 1/2 /home/samarth5854/anaconda3/envs/ModelEnv/lib/python3.10/site-packages/ultralytics/assets/bus.jpg: 640x480 4 persons, 84.5ms\n",
      "image 2/2 /home/samarth5854/anaconda3/envs/ModelEnv/lib/python3.10/site-packages/ultralytics/assets/zidane.jpg: 384x640 2 persons, 69.7ms\n",
      "Speed: 2.4ms preprocess, 77.1ms inference, 1.0ms postprocess per image at shape (1, 3, 384, 640)\n",
      "[ WARN:0@34.023] global /croot/opencv-suite_1691620365762/work/modules/videoio/src/cap_gstreamer.cpp (2401) handleMessage OpenCV | GStreamer warning: Embedded video playback halted; module source reported: \"/home/samarth5854/Desktop/LSTM/MP_Data/running/14\" is a directory.\n",
      "WARNING ⚠️ 'source' is missing. Using 'source=/home/samarth5854/anaconda3/envs/ModelEnv/lib/python3.10/site-packages/ultralytics/assets'.\n",
      "[ WARN:0@34.023] global /croot/opencv-suite_1691620365762/work/modules/videoio/src/cap_gstreamer.cpp (1356) open OpenCV | GStreamer warning: unable to start pipeline\n",
      "[ WARN:0@34.023] global /croot/opencv-suite_1691620365762/work/modules/videoio/src/cap_gstreamer.cpp (862) isPipelinePlaying OpenCV | GStreamer warning: GStreamer: pipeline have not been created\n"
     ]
    },
    {
     "name": "stdout",
     "output_type": "stream",
     "text": [
      "Keypoints shape before flattening: torch.Size([4, 17, 2])\n",
      "Keypoints shape after flattening: (34,)\n",
      "saved to MP_Data/running/3/28.npy\n",
      "Keypoints shape before flattening: torch.Size([4, 17, 2])\n",
      "Keypoints shape after flattening: (34,)\n",
      "saved to MP_Data/running/3/29.npy\n"
     ]
    },
    {
     "name": "stderr",
     "output_type": "stream",
     "text": [
      "\n",
      "image 1/2 /home/samarth5854/anaconda3/envs/ModelEnv/lib/python3.10/site-packages/ultralytics/assets/bus.jpg: 640x480 4 persons, 79.5ms\n",
      "image 2/2 /home/samarth5854/anaconda3/envs/ModelEnv/lib/python3.10/site-packages/ultralytics/assets/zidane.jpg: 384x640 2 persons, 47.3ms\n",
      "Speed: 2.3ms preprocess, 63.4ms inference, 0.8ms postprocess per image at shape (1, 3, 384, 640)\n",
      "WARNING ⚠️ 'source' is missing. Using 'source=/home/samarth5854/anaconda3/envs/ModelEnv/lib/python3.10/site-packages/ultralytics/assets'.\n",
      "\n",
      "image 1/2 /home/samarth5854/anaconda3/envs/ModelEnv/lib/python3.10/site-packages/ultralytics/assets/bus.jpg: 640x480 4 persons, 80.6ms\n",
      "image 2/2 /home/samarth5854/anaconda3/envs/ModelEnv/lib/python3.10/site-packages/ultralytics/assets/zidane.jpg: 384x640 2 persons, 73.2ms\n"
     ]
    },
    {
     "name": "stdout",
     "output_type": "stream",
     "text": [
      "Keypoints shape before flattening: torch.Size([4, 17, 2])\n",
      "Keypoints shape after flattening: (34,)\n",
      "saved to MP_Data/running/4/0.npy\n"
     ]
    },
    {
     "name": "stderr",
     "output_type": "stream",
     "text": [
      "Speed: 1.9ms preprocess, 76.9ms inference, 1.0ms postprocess per image at shape (1, 3, 384, 640)\n",
      "WARNING ⚠️ 'source' is missing. Using 'source=/home/samarth5854/anaconda3/envs/ModelEnv/lib/python3.10/site-packages/ultralytics/assets'.\n",
      "\n",
      "image 1/2 /home/samarth5854/anaconda3/envs/ModelEnv/lib/python3.10/site-packages/ultralytics/assets/bus.jpg: 640x480 4 persons, 83.2ms\n",
      "image 2/2 /home/samarth5854/anaconda3/envs/ModelEnv/lib/python3.10/site-packages/ultralytics/assets/zidane.jpg: 384x640 2 persons, 66.8ms\n",
      "Speed: 2.0ms preprocess, 75.0ms inference, 1.0ms postprocess per image at shape (1, 3, 384, 640)\n",
      "WARNING ⚠️ 'source' is missing. Using 'source=/home/samarth5854/anaconda3/envs/ModelEnv/lib/python3.10/site-packages/ultralytics/assets'.\n",
      "\n"
     ]
    },
    {
     "name": "stdout",
     "output_type": "stream",
     "text": [
      "Keypoints shape before flattening: torch.Size([4, 17, 2])\n",
      "Keypoints shape after flattening: (34,)\n",
      "saved to MP_Data/running/4/1.npy\n",
      "Keypoints shape before flattening: torch.Size([4, 17, 2])\n",
      "Keypoints shape after flattening: (34,)\n",
      "saved to MP_Data/running/4/2.npy\n"
     ]
    },
    {
     "name": "stderr",
     "output_type": "stream",
     "text": [
      "image 1/2 /home/samarth5854/anaconda3/envs/ModelEnv/lib/python3.10/site-packages/ultralytics/assets/bus.jpg: 640x480 4 persons, 78.6ms\n",
      "image 2/2 /home/samarth5854/anaconda3/envs/ModelEnv/lib/python3.10/site-packages/ultralytics/assets/zidane.jpg: 384x640 2 persons, 67.1ms\n",
      "Speed: 2.1ms preprocess, 72.8ms inference, 0.8ms postprocess per image at shape (1, 3, 384, 640)\n",
      "WARNING ⚠️ 'source' is missing. Using 'source=/home/samarth5854/anaconda3/envs/ModelEnv/lib/python3.10/site-packages/ultralytics/assets'.\n",
      "\n",
      "image 1/2 /home/samarth5854/anaconda3/envs/ModelEnv/lib/python3.10/site-packages/ultralytics/assets/bus.jpg: 640x480 4 persons, 90.7ms\n"
     ]
    },
    {
     "name": "stdout",
     "output_type": "stream",
     "text": [
      "Keypoints shape before flattening: torch.Size([4, 17, 2])\n",
      "Keypoints shape after flattening: (34,)\n",
      "saved to MP_Data/running/4/3.npy\n"
     ]
    },
    {
     "name": "stderr",
     "output_type": "stream",
     "text": [
      "image 2/2 /home/samarth5854/anaconda3/envs/ModelEnv/lib/python3.10/site-packages/ultralytics/assets/zidane.jpg: 384x640 2 persons, 70.9ms\n",
      "Speed: 2.1ms preprocess, 80.8ms inference, 1.0ms postprocess per image at shape (1, 3, 384, 640)\n",
      "WARNING ⚠️ 'source' is missing. Using 'source=/home/samarth5854/anaconda3/envs/ModelEnv/lib/python3.10/site-packages/ultralytics/assets'.\n",
      "\n",
      "image 1/2 /home/samarth5854/anaconda3/envs/ModelEnv/lib/python3.10/site-packages/ultralytics/assets/bus.jpg: 640x480 4 persons, 56.9ms\n",
      "image 2/2 /home/samarth5854/anaconda3/envs/ModelEnv/lib/python3.10/site-packages/ultralytics/assets/zidane.jpg: 384x640 2 persons, 42.7ms\n",
      "Speed: 1.8ms preprocess, 49.8ms inference, 1.0ms postprocess per image at shape (1, 3, 384, 640)\n",
      "WARNING ⚠️ 'source' is missing. Using 'source=/home/samarth5854/anaconda3/envs/ModelEnv/lib/python3.10/site-packages/ultralytics/assets'.\n",
      "\n"
     ]
    },
    {
     "name": "stdout",
     "output_type": "stream",
     "text": [
      "Keypoints shape before flattening: torch.Size([4, 17, 2])\n",
      "Keypoints shape after flattening: (34,)\n",
      "saved to MP_Data/running/4/4.npy\n",
      "Keypoints shape before flattening: torch.Size([4, 17, 2])\n",
      "Keypoints shape after flattening: (34,)\n",
      "saved to MP_Data/running/4/5.npy\n"
     ]
    },
    {
     "name": "stderr",
     "output_type": "stream",
     "text": [
      "image 1/2 /home/samarth5854/anaconda3/envs/ModelEnv/lib/python3.10/site-packages/ultralytics/assets/bus.jpg: 640x480 4 persons, 53.5ms\n",
      "image 2/2 /home/samarth5854/anaconda3/envs/ModelEnv/lib/python3.10/site-packages/ultralytics/assets/zidane.jpg: 384x640 2 persons, 76.2ms\n",
      "Speed: 2.1ms preprocess, 64.9ms inference, 1.1ms postprocess per image at shape (1, 3, 384, 640)\n",
      "WARNING ⚠️ 'source' is missing. Using 'source=/home/samarth5854/anaconda3/envs/ModelEnv/lib/python3.10/site-packages/ultralytics/assets'.\n",
      "\n",
      "image 1/2 /home/samarth5854/anaconda3/envs/ModelEnv/lib/python3.10/site-packages/ultralytics/assets/bus.jpg: 640x480 4 persons, 71.1ms\n",
      "image 2/2 /home/samarth5854/anaconda3/envs/ModelEnv/lib/python3.10/site-packages/ultralytics/assets/zidane.jpg: 384x640 2 persons, 46.4ms\n",
      "Speed: 3.9ms preprocess, 58.7ms inference, 1.0ms postprocess per image at shape (1, 3, 384, 640)\n",
      "WARNING ⚠️ 'source' is missing. Using 'source=/home/samarth5854/anaconda3/envs/ModelEnv/lib/python3.10/site-packages/ultralytics/assets'.\n",
      "\n"
     ]
    },
    {
     "name": "stdout",
     "output_type": "stream",
     "text": [
      "Keypoints shape before flattening: torch.Size([4, 17, 2])\n",
      "Keypoints shape after flattening: (34,)\n",
      "saved to MP_Data/running/4/6.npy\n",
      "Keypoints shape before flattening: torch.Size([4, 17, 2])\n",
      "Keypoints shape after flattening: (34,)\n",
      "saved to MP_Data/running/4/7.npy\n"
     ]
    },
    {
     "name": "stderr",
     "output_type": "stream",
     "text": [
      "image 1/2 /home/samarth5854/anaconda3/envs/ModelEnv/lib/python3.10/site-packages/ultralytics/assets/bus.jpg: 640x480 4 persons, 56.4ms\n",
      "image 2/2 /home/samarth5854/anaconda3/envs/ModelEnv/lib/python3.10/site-packages/ultralytics/assets/zidane.jpg: 384x640 2 persons, 61.8ms\n",
      "Speed: 1.9ms preprocess, 59.1ms inference, 1.0ms postprocess per image at shape (1, 3, 384, 640)\n",
      "WARNING ⚠️ 'source' is missing. Using 'source=/home/samarth5854/anaconda3/envs/ModelEnv/lib/python3.10/site-packages/ultralytics/assets'.\n",
      "\n",
      "image 1/2 /home/samarth5854/anaconda3/envs/ModelEnv/lib/python3.10/site-packages/ultralytics/assets/bus.jpg: 640x480 4 persons, 88.7ms\n",
      "image 2/2 /home/samarth5854/anaconda3/envs/ModelEnv/lib/python3.10/site-packages/ultralytics/assets/zidane.jpg: 384x640 2 persons, 66.5ms\n",
      "Speed: 2.2ms preprocess, 77.6ms inference, 0.9ms postprocess per image at shape (1, 3, 384, 640)\n",
      "WARNING ⚠️ 'source' is missing. Using 'source=/home/samarth5854/anaconda3/envs/ModelEnv/lib/python3.10/site-packages/ultralytics/assets'.\n",
      "\n"
     ]
    },
    {
     "name": "stdout",
     "output_type": "stream",
     "text": [
      "Keypoints shape before flattening: torch.Size([4, 17, 2])\n",
      "Keypoints shape after flattening: (34,)\n",
      "saved to MP_Data/running/4/8.npy\n",
      "Keypoints shape before flattening: torch.Size([4, 17, 2])\n",
      "Keypoints shape after flattening: (34,)\n",
      "saved to MP_Data/running/4/9.npy\n"
     ]
    },
    {
     "name": "stderr",
     "output_type": "stream",
     "text": [
      "image 1/2 /home/samarth5854/anaconda3/envs/ModelEnv/lib/python3.10/site-packages/ultralytics/assets/bus.jpg: 640x480 4 persons, 85.7ms\n",
      "image 2/2 /home/samarth5854/anaconda3/envs/ModelEnv/lib/python3.10/site-packages/ultralytics/assets/zidane.jpg: 384x640 2 persons, 67.8ms\n",
      "Speed: 2.3ms preprocess, 76.8ms inference, 0.9ms postprocess per image at shape (1, 3, 384, 640)\n",
      "WARNING ⚠️ 'source' is missing. Using 'source=/home/samarth5854/anaconda3/envs/ModelEnv/lib/python3.10/site-packages/ultralytics/assets'.\n",
      "\n",
      "image 1/2 /home/samarth5854/anaconda3/envs/ModelEnv/lib/python3.10/site-packages/ultralytics/assets/bus.jpg: 640x480 4 persons, 79.1ms\n",
      "image 2/2 /home/samarth5854/anaconda3/envs/ModelEnv/lib/python3.10/site-packages/ultralytics/assets/zidane.jpg: 384x640 2 persons, 66.6ms\n",
      "Speed: 1.8ms preprocess, 72.9ms inference, 0.9ms postprocess per image at shape (1, 3, 384, 640)\n",
      "WARNING ⚠️ 'source' is missing. Using 'source=/home/samarth5854/anaconda3/envs/ModelEnv/lib/python3.10/site-packages/ultralytics/assets'.\n",
      "\n"
     ]
    },
    {
     "name": "stdout",
     "output_type": "stream",
     "text": [
      "Keypoints shape before flattening: torch.Size([4, 17, 2])\n",
      "Keypoints shape after flattening: (34,)\n",
      "saved to MP_Data/running/4/10.npy\n",
      "Keypoints shape before flattening: torch.Size([4, 17, 2])\n",
      "Keypoints shape after flattening: (34,)\n",
      "saved to MP_Data/running/4/11.npy\n"
     ]
    },
    {
     "name": "stderr",
     "output_type": "stream",
     "text": [
      "image 1/2 /home/samarth5854/anaconda3/envs/ModelEnv/lib/python3.10/site-packages/ultralytics/assets/bus.jpg: 640x480 4 persons, 80.4ms\n",
      "image 2/2 /home/samarth5854/anaconda3/envs/ModelEnv/lib/python3.10/site-packages/ultralytics/assets/zidane.jpg: 384x640 2 persons, 69.0ms\n",
      "Speed: 1.9ms preprocess, 74.7ms inference, 0.9ms postprocess per image at shape (1, 3, 384, 640)\n",
      "WARNING ⚠️ 'source' is missing. Using 'source=/home/samarth5854/anaconda3/envs/ModelEnv/lib/python3.10/site-packages/ultralytics/assets'.\n",
      "\n",
      "image 1/2 /home/samarth5854/anaconda3/envs/ModelEnv/lib/python3.10/site-packages/ultralytics/assets/bus.jpg: 640x480 4 persons, 78.6ms\n",
      "image 2/2 /home/samarth5854/anaconda3/envs/ModelEnv/lib/python3.10/site-packages/ultralytics/assets/zidane.jpg: 384x640 2 persons, 71.8ms\n",
      "Speed: 1.8ms preprocess, 75.2ms inference, 1.1ms postprocess per image at shape (1, 3, 384, 640)\n",
      "WARNING ⚠️ 'source' is missing. Using 'source=/home/samarth5854/anaconda3/envs/ModelEnv/lib/python3.10/site-packages/ultralytics/assets'.\n",
      "\n"
     ]
    },
    {
     "name": "stdout",
     "output_type": "stream",
     "text": [
      "Keypoints shape before flattening: torch.Size([4, 17, 2])\n",
      "Keypoints shape after flattening: (34,)\n",
      "saved to MP_Data/running/4/12.npy\n",
      "Keypoints shape before flattening: torch.Size([4, 17, 2])\n",
      "Keypoints shape after flattening: (34,)\n",
      "saved to MP_Data/running/4/13.npy\n"
     ]
    },
    {
     "name": "stderr",
     "output_type": "stream",
     "text": [
      "image 1/2 /home/samarth5854/anaconda3/envs/ModelEnv/lib/python3.10/site-packages/ultralytics/assets/bus.jpg: 640x480 4 persons, 82.0ms\n",
      "image 2/2 /home/samarth5854/anaconda3/envs/ModelEnv/lib/python3.10/site-packages/ultralytics/assets/zidane.jpg: 384x640 2 persons, 72.4ms\n",
      "Speed: 2.2ms preprocess, 77.2ms inference, 0.9ms postprocess per image at shape (1, 3, 384, 640)\n",
      "WARNING ⚠️ 'source' is missing. Using 'source=/home/samarth5854/anaconda3/envs/ModelEnv/lib/python3.10/site-packages/ultralytics/assets'.\n",
      "\n",
      "image 1/2 /home/samarth5854/anaconda3/envs/ModelEnv/lib/python3.10/site-packages/ultralytics/assets/bus.jpg: 640x480 4 persons, 54.2ms\n",
      "image 2/2 /home/samarth5854/anaconda3/envs/ModelEnv/lib/python3.10/site-packages/ultralytics/assets/zidane.jpg: 384x640 2 persons, 45.6ms\n",
      "Speed: 2.4ms preprocess, 49.9ms inference, 0.8ms postprocess per image at shape (1, 3, 384, 640)\n",
      "WARNING ⚠️ 'source' is missing. Using 'source=/home/samarth5854/anaconda3/envs/ModelEnv/lib/python3.10/site-packages/ultralytics/assets'.\n",
      "\n"
     ]
    },
    {
     "name": "stdout",
     "output_type": "stream",
     "text": [
      "Keypoints shape before flattening: torch.Size([4, 17, 2])\n",
      "Keypoints shape after flattening: (34,)\n",
      "saved to MP_Data/running/4/14.npy\n",
      "Keypoints shape before flattening: torch.Size([4, 17, 2])\n",
      "Keypoints shape after flattening: (34,)\n",
      "saved to MP_Data/running/4/15.npy\n"
     ]
    },
    {
     "name": "stderr",
     "output_type": "stream",
     "text": [
      "image 1/2 /home/samarth5854/anaconda3/envs/ModelEnv/lib/python3.10/site-packages/ultralytics/assets/bus.jpg: 640x480 4 persons, 84.4ms\n",
      "image 2/2 /home/samarth5854/anaconda3/envs/ModelEnv/lib/python3.10/site-packages/ultralytics/assets/zidane.jpg: 384x640 2 persons, 67.5ms\n",
      "Speed: 2.5ms preprocess, 76.0ms inference, 0.8ms postprocess per image at shape (1, 3, 384, 640)\n",
      "WARNING ⚠️ 'source' is missing. Using 'source=/home/samarth5854/anaconda3/envs/ModelEnv/lib/python3.10/site-packages/ultralytics/assets'.\n",
      "\n",
      "image 1/2 /home/samarth5854/anaconda3/envs/ModelEnv/lib/python3.10/site-packages/ultralytics/assets/bus.jpg: 640x480 4 persons, 76.9ms\n",
      "image 2/2 /home/samarth5854/anaconda3/envs/ModelEnv/lib/python3.10/site-packages/ultralytics/assets/zidane.jpg: 384x640 2 persons, 67.1ms\n",
      "Speed: 2.0ms preprocess, 72.0ms inference, 0.8ms postprocess per image at shape (1, 3, 384, 640)\n",
      "WARNING ⚠️ 'source' is missing. Using 'source=/home/samarth5854/anaconda3/envs/ModelEnv/lib/python3.10/site-packages/ultralytics/assets'.\n",
      "\n"
     ]
    },
    {
     "name": "stdout",
     "output_type": "stream",
     "text": [
      "Keypoints shape before flattening: torch.Size([4, 17, 2])\n",
      "Keypoints shape after flattening: (34,)\n",
      "saved to MP_Data/running/4/16.npy\n",
      "Keypoints shape before flattening: torch.Size([4, 17, 2])\n",
      "Keypoints shape after flattening: (34,)\n",
      "saved to MP_Data/running/4/17.npy\n"
     ]
    },
    {
     "name": "stderr",
     "output_type": "stream",
     "text": [
      "image 1/2 /home/samarth5854/anaconda3/envs/ModelEnv/lib/python3.10/site-packages/ultralytics/assets/bus.jpg: 640x480 4 persons, 83.8ms\n",
      "image 2/2 /home/samarth5854/anaconda3/envs/ModelEnv/lib/python3.10/site-packages/ultralytics/assets/zidane.jpg: 384x640 2 persons, 68.3ms\n",
      "Speed: 2.3ms preprocess, 76.1ms inference, 1.0ms postprocess per image at shape (1, 3, 384, 640)\n",
      "WARNING ⚠️ 'source' is missing. Using 'source=/home/samarth5854/anaconda3/envs/ModelEnv/lib/python3.10/site-packages/ultralytics/assets'.\n",
      "\n",
      "image 1/2 /home/samarth5854/anaconda3/envs/ModelEnv/lib/python3.10/site-packages/ultralytics/assets/bus.jpg: 640x480 4 persons, 87.2ms\n",
      "image 2/2 /home/samarth5854/anaconda3/envs/ModelEnv/lib/python3.10/site-packages/ultralytics/assets/zidane.jpg: 384x640 2 persons, 71.4ms\n"
     ]
    },
    {
     "name": "stdout",
     "output_type": "stream",
     "text": [
      "Keypoints shape before flattening: torch.Size([4, 17, 2])\n",
      "Keypoints shape after flattening: (34,)\n",
      "saved to MP_Data/running/4/18.npy\n"
     ]
    },
    {
     "name": "stderr",
     "output_type": "stream",
     "text": [
      "Speed: 2.2ms preprocess, 79.3ms inference, 1.0ms postprocess per image at shape (1, 3, 384, 640)\n",
      "WARNING ⚠️ 'source' is missing. Using 'source=/home/samarth5854/anaconda3/envs/ModelEnv/lib/python3.10/site-packages/ultralytics/assets'.\n",
      "\n",
      "image 1/2 /home/samarth5854/anaconda3/envs/ModelEnv/lib/python3.10/site-packages/ultralytics/assets/bus.jpg: 640x480 4 persons, 82.6ms\n",
      "image 2/2 /home/samarth5854/anaconda3/envs/ModelEnv/lib/python3.10/site-packages/ultralytics/assets/zidane.jpg: 384x640 2 persons, 70.5ms\n",
      "Speed: 1.9ms preprocess, 76.5ms inference, 0.9ms postprocess per image at shape (1, 3, 384, 640)\n",
      "WARNING ⚠️ 'source' is missing. Using 'source=/home/samarth5854/anaconda3/envs/ModelEnv/lib/python3.10/site-packages/ultralytics/assets'.\n",
      "\n"
     ]
    },
    {
     "name": "stdout",
     "output_type": "stream",
     "text": [
      "Keypoints shape before flattening: torch.Size([4, 17, 2])\n",
      "Keypoints shape after flattening: (34,)\n",
      "saved to MP_Data/running/4/19.npy\n",
      "Keypoints shape before flattening: torch.Size([4, 17, 2])\n",
      "Keypoints shape after flattening: (34,)\n",
      "saved to MP_Data/running/4/20.npy\n"
     ]
    },
    {
     "name": "stderr",
     "output_type": "stream",
     "text": [
      "image 1/2 /home/samarth5854/anaconda3/envs/ModelEnv/lib/python3.10/site-packages/ultralytics/assets/bus.jpg: 640x480 4 persons, 86.2ms\n",
      "image 2/2 /home/samarth5854/anaconda3/envs/ModelEnv/lib/python3.10/site-packages/ultralytics/assets/zidane.jpg: 384x640 2 persons, 76.9ms\n",
      "Speed: 2.1ms preprocess, 81.5ms inference, 0.9ms postprocess per image at shape (1, 3, 384, 640)\n",
      "WARNING ⚠️ 'source' is missing. Using 'source=/home/samarth5854/anaconda3/envs/ModelEnv/lib/python3.10/site-packages/ultralytics/assets'.\n",
      "\n",
      "image 1/2 /home/samarth5854/anaconda3/envs/ModelEnv/lib/python3.10/site-packages/ultralytics/assets/bus.jpg: 640x480 4 persons, 79.7ms\n",
      "image 2/2 /home/samarth5854/anaconda3/envs/ModelEnv/lib/python3.10/site-packages/ultralytics/assets/zidane.jpg: 384x640 2 persons, 66.3ms\n",
      "Speed: 1.9ms preprocess, 73.0ms inference, 0.9ms postprocess per image at shape (1, 3, 384, 640)\n",
      "WARNING ⚠️ 'source' is missing. Using 'source=/home/samarth5854/anaconda3/envs/ModelEnv/lib/python3.10/site-packages/ultralytics/assets'.\n",
      "\n"
     ]
    },
    {
     "name": "stdout",
     "output_type": "stream",
     "text": [
      "Keypoints shape before flattening: torch.Size([4, 17, 2])\n",
      "Keypoints shape after flattening: (34,)\n",
      "saved to MP_Data/running/4/21.npy\n",
      "Keypoints shape before flattening: torch.Size([4, 17, 2])\n",
      "Keypoints shape after flattening: (34,)\n",
      "saved to MP_Data/running/4/22.npy\n"
     ]
    },
    {
     "name": "stderr",
     "output_type": "stream",
     "text": [
      "image 1/2 /home/samarth5854/anaconda3/envs/ModelEnv/lib/python3.10/site-packages/ultralytics/assets/bus.jpg: 640x480 4 persons, 80.5ms\n",
      "image 2/2 /home/samarth5854/anaconda3/envs/ModelEnv/lib/python3.10/site-packages/ultralytics/assets/zidane.jpg: 384x640 2 persons, 67.5ms\n",
      "Speed: 2.2ms preprocess, 74.0ms inference, 0.8ms postprocess per image at shape (1, 3, 384, 640)\n",
      "WARNING ⚠️ 'source' is missing. Using 'source=/home/samarth5854/anaconda3/envs/ModelEnv/lib/python3.10/site-packages/ultralytics/assets'.\n",
      "\n",
      "image 1/2 /home/samarth5854/anaconda3/envs/ModelEnv/lib/python3.10/site-packages/ultralytics/assets/bus.jpg: 640x480 4 persons, 75.0ms\n",
      "image 2/2 /home/samarth5854/anaconda3/envs/ModelEnv/lib/python3.10/site-packages/ultralytics/assets/zidane.jpg: 384x640 2 persons, 51.1ms\n",
      "Speed: 2.0ms preprocess, 63.0ms inference, 0.8ms postprocess per image at shape (1, 3, 384, 640)\n",
      "WARNING ⚠️ 'source' is missing. Using 'source=/home/samarth5854/anaconda3/envs/ModelEnv/lib/python3.10/site-packages/ultralytics/assets'.\n",
      "\n"
     ]
    },
    {
     "name": "stdout",
     "output_type": "stream",
     "text": [
      "Keypoints shape before flattening: torch.Size([4, 17, 2])\n",
      "Keypoints shape after flattening: (34,)\n",
      "saved to MP_Data/running/4/23.npy\n",
      "Keypoints shape before flattening: torch.Size([4, 17, 2])\n",
      "Keypoints shape after flattening: (34,)\n",
      "saved to MP_Data/running/4/24.npy\n"
     ]
    },
    {
     "name": "stderr",
     "output_type": "stream",
     "text": [
      "image 1/2 /home/samarth5854/anaconda3/envs/ModelEnv/lib/python3.10/site-packages/ultralytics/assets/bus.jpg: 640x480 4 persons, 86.5ms\n",
      "image 2/2 /home/samarth5854/anaconda3/envs/ModelEnv/lib/python3.10/site-packages/ultralytics/assets/zidane.jpg: 384x640 2 persons, 68.6ms\n",
      "Speed: 2.2ms preprocess, 77.5ms inference, 1.0ms postprocess per image at shape (1, 3, 384, 640)\n",
      "WARNING ⚠️ 'source' is missing. Using 'source=/home/samarth5854/anaconda3/envs/ModelEnv/lib/python3.10/site-packages/ultralytics/assets'.\n",
      "\n",
      "image 1/2 /home/samarth5854/anaconda3/envs/ModelEnv/lib/python3.10/site-packages/ultralytics/assets/bus.jpg: 640x480 4 persons, 80.2ms\n",
      "image 2/2 /home/samarth5854/anaconda3/envs/ModelEnv/lib/python3.10/site-packages/ultralytics/assets/zidane.jpg: 384x640 2 persons, 81.0ms\n",
      "Speed: 1.9ms preprocess, 80.6ms inference, 1.0ms postprocess per image at shape (1, 3, 384, 640)\n",
      "WARNING ⚠️ 'source' is missing. Using 'source=/home/samarth5854/anaconda3/envs/ModelEnv/lib/python3.10/site-packages/ultralytics/assets'.\n"
     ]
    },
    {
     "name": "stdout",
     "output_type": "stream",
     "text": [
      "Keypoints shape before flattening: torch.Size([4, 17, 2])\n",
      "Keypoints shape after flattening: (34,)\n",
      "saved to MP_Data/running/4/25.npy\n",
      "Keypoints shape before flattening: torch.Size([4, 17, 2])\n",
      "Keypoints shape after flattening: (34,)\n",
      "saved to MP_Data/running/4/26.npy\n"
     ]
    },
    {
     "name": "stderr",
     "output_type": "stream",
     "text": [
      "\n",
      "image 1/2 /home/samarth5854/anaconda3/envs/ModelEnv/lib/python3.10/site-packages/ultralytics/assets/bus.jpg: 640x480 4 persons, 94.7ms\n",
      "image 2/2 /home/samarth5854/anaconda3/envs/ModelEnv/lib/python3.10/site-packages/ultralytics/assets/zidane.jpg: 384x640 2 persons, 68.6ms\n",
      "Speed: 3.2ms preprocess, 81.6ms inference, 0.8ms postprocess per image at shape (1, 3, 384, 640)\n",
      "WARNING ⚠️ 'source' is missing. Using 'source=/home/samarth5854/anaconda3/envs/ModelEnv/lib/python3.10/site-packages/ultralytics/assets'.\n",
      "\n",
      "image 1/2 /home/samarth5854/anaconda3/envs/ModelEnv/lib/python3.10/site-packages/ultralytics/assets/bus.jpg: 640x480 4 persons, 84.6ms\n"
     ]
    },
    {
     "name": "stdout",
     "output_type": "stream",
     "text": [
      "Keypoints shape before flattening: torch.Size([4, 17, 2])\n",
      "Keypoints shape after flattening: (34,)\n",
      "saved to MP_Data/running/4/27.npy\n"
     ]
    },
    {
     "name": "stderr",
     "output_type": "stream",
     "text": [
      "image 2/2 /home/samarth5854/anaconda3/envs/ModelEnv/lib/python3.10/site-packages/ultralytics/assets/zidane.jpg: 384x640 2 persons, 70.5ms\n",
      "Speed: 2.0ms preprocess, 77.6ms inference, 1.3ms postprocess per image at shape (1, 3, 384, 640)\n",
      "WARNING ⚠️ 'source' is missing. Using 'source=/home/samarth5854/anaconda3/envs/ModelEnv/lib/python3.10/site-packages/ultralytics/assets'.\n",
      "\n",
      "image 1/2 /home/samarth5854/anaconda3/envs/ModelEnv/lib/python3.10/site-packages/ultralytics/assets/bus.jpg: 640x480 4 persons, 101.6ms\n"
     ]
    },
    {
     "name": "stdout",
     "output_type": "stream",
     "text": [
      "Keypoints shape before flattening: torch.Size([4, 17, 2])\n",
      "Keypoints shape after flattening: (34,)\n",
      "saved to MP_Data/running/4/28.npy\n"
     ]
    },
    {
     "name": "stderr",
     "output_type": "stream",
     "text": [
      "image 2/2 /home/samarth5854/anaconda3/envs/ModelEnv/lib/python3.10/site-packages/ultralytics/assets/zidane.jpg: 384x640 2 persons, 71.3ms\n",
      "Speed: 6.0ms preprocess, 86.5ms inference, 1.1ms postprocess per image at shape (1, 3, 384, 640)\n",
      "[ WARN:0@39.635] global /croot/opencv-suite_1691620365762/work/modules/videoio/src/cap_gstreamer.cpp (2401) handleMessage OpenCV | GStreamer warning: Embedded video playback halted; module source reported: \"/home/samarth5854/Desktop/LSTM/MP_Data/running/21\" is a directory.\n",
      "[ WARN:0@39.635] global /croot/opencv-suite_1691620365762/work/modules/videoio/src/cap_gstreamer.cpp (1356) open OpenCV | GStreamer warning: unable to start pipeline\n",
      "WARNING ⚠️ 'source' is missing. Using 'source=/home/samarth5854/anaconda3/envs/ModelEnv/lib/python3.10/site-packages/ultralytics/assets'.\n",
      "[ WARN:0@39.635] global /croot/opencv-suite_1691620365762/work/modules/videoio/src/cap_gstreamer.cpp (862) isPipelinePlaying OpenCV | GStreamer warning: GStreamer: pipeline have not been created\n",
      "\n",
      "image 1/2 /home/samarth5854/anaconda3/envs/ModelEnv/lib/python3.10/site-packages/ultralytics/assets/bus.jpg: 640x480 4 persons, 79.3ms\n",
      "image 2/2 /home/samarth5854/anaconda3/envs/ModelEnv/lib/python3.10/site-packages/ultralytics/assets/zidane.jpg: 384x640 2 persons, 54.6ms\n",
      "Speed: 2.6ms preprocess, 67.0ms inference, 1.0ms postprocess per image at shape (1, 3, 384, 640)\n",
      "WARNING ⚠️ 'source' is missing. Using 'source=/home/samarth5854/anaconda3/envs/ModelEnv/lib/python3.10/site-packages/ultralytics/assets'.\n",
      "\n"
     ]
    },
    {
     "name": "stdout",
     "output_type": "stream",
     "text": [
      "Keypoints shape before flattening: torch.Size([4, 17, 2])\n",
      "Keypoints shape after flattening: (34,)\n",
      "saved to MP_Data/running/4/29.npy\n",
      "Keypoints shape before flattening: torch.Size([4, 17, 2])\n",
      "Keypoints shape after flattening: (34,)\n",
      "saved to MP_Data/running/5/0.npy\n"
     ]
    },
    {
     "name": "stderr",
     "output_type": "stream",
     "text": [
      "image 1/2 /home/samarth5854/anaconda3/envs/ModelEnv/lib/python3.10/site-packages/ultralytics/assets/bus.jpg: 640x480 4 persons, 85.6ms\n",
      "image 2/2 /home/samarth5854/anaconda3/envs/ModelEnv/lib/python3.10/site-packages/ultralytics/assets/zidane.jpg: 384x640 2 persons, 52.8ms\n",
      "Speed: 2.7ms preprocess, 69.2ms inference, 0.8ms postprocess per image at shape (1, 3, 384, 640)\n",
      "WARNING ⚠️ 'source' is missing. Using 'source=/home/samarth5854/anaconda3/envs/ModelEnv/lib/python3.10/site-packages/ultralytics/assets'.\n",
      "\n",
      "image 1/2 /home/samarth5854/anaconda3/envs/ModelEnv/lib/python3.10/site-packages/ultralytics/assets/bus.jpg: 640x480 4 persons, 82.4ms\n",
      "image 2/2 /home/samarth5854/anaconda3/envs/ModelEnv/lib/python3.10/site-packages/ultralytics/assets/zidane.jpg: 384x640 2 persons, 67.7ms\n",
      "Speed: 2.0ms preprocess, 75.0ms inference, 1.0ms postprocess per image at shape (1, 3, 384, 640)\n",
      "WARNING ⚠️ 'source' is missing. Using 'source=/home/samarth5854/anaconda3/envs/ModelEnv/lib/python3.10/site-packages/ultralytics/assets'.\n",
      "\n"
     ]
    },
    {
     "name": "stdout",
     "output_type": "stream",
     "text": [
      "Keypoints shape before flattening: torch.Size([4, 17, 2])\n",
      "Keypoints shape after flattening: (34,)\n",
      "saved to MP_Data/running/5/1.npy\n",
      "Keypoints shape before flattening: torch.Size([4, 17, 2])\n",
      "Keypoints shape after flattening: (34,)\n",
      "saved to MP_Data/running/5/2.npy\n"
     ]
    },
    {
     "name": "stderr",
     "output_type": "stream",
     "text": [
      "image 1/2 /home/samarth5854/anaconda3/envs/ModelEnv/lib/python3.10/site-packages/ultralytics/assets/bus.jpg: 640x480 4 persons, 80.1ms\n",
      "image 2/2 /home/samarth5854/anaconda3/envs/ModelEnv/lib/python3.10/site-packages/ultralytics/assets/zidane.jpg: 384x640 2 persons, 69.2ms\n",
      "Speed: 2.0ms preprocess, 74.6ms inference, 1.0ms postprocess per image at shape (1, 3, 384, 640)\n",
      "WARNING ⚠️ 'source' is missing. Using 'source=/home/samarth5854/anaconda3/envs/ModelEnv/lib/python3.10/site-packages/ultralytics/assets'.\n",
      "\n",
      "image 1/2 /home/samarth5854/anaconda3/envs/ModelEnv/lib/python3.10/site-packages/ultralytics/assets/bus.jpg: 640x480 4 persons, 81.1ms\n",
      "image 2/2 /home/samarth5854/anaconda3/envs/ModelEnv/lib/python3.10/site-packages/ultralytics/assets/zidane.jpg: 384x640 2 persons, 66.6ms\n",
      "Speed: 1.9ms preprocess, 73.8ms inference, 0.9ms postprocess per image at shape (1, 3, 384, 640)\n",
      "WARNING ⚠️ 'source' is missing. Using 'source=/home/samarth5854/anaconda3/envs/ModelEnv/lib/python3.10/site-packages/ultralytics/assets'.\n",
      "\n"
     ]
    },
    {
     "name": "stdout",
     "output_type": "stream",
     "text": [
      "Keypoints shape before flattening: torch.Size([4, 17, 2])\n",
      "Keypoints shape after flattening: (34,)\n",
      "saved to MP_Data/running/5/3.npy\n",
      "Keypoints shape before flattening: torch.Size([4, 17, 2])\n",
      "Keypoints shape after flattening: (34,)\n",
      "saved to MP_Data/running/5/4.npy\n"
     ]
    },
    {
     "name": "stderr",
     "output_type": "stream",
     "text": [
      "image 1/2 /home/samarth5854/anaconda3/envs/ModelEnv/lib/python3.10/site-packages/ultralytics/assets/bus.jpg: 640x480 4 persons, 80.4ms\n",
      "image 2/2 /home/samarth5854/anaconda3/envs/ModelEnv/lib/python3.10/site-packages/ultralytics/assets/zidane.jpg: 384x640 2 persons, 115.9ms\n",
      "Speed: 2.0ms preprocess, 98.1ms inference, 0.9ms postprocess per image at shape (1, 3, 384, 640)\n",
      "WARNING ⚠️ 'source' is missing. Using 'source=/home/samarth5854/anaconda3/envs/ModelEnv/lib/python3.10/site-packages/ultralytics/assets'.\n",
      "\n",
      "image 1/2 /home/samarth5854/anaconda3/envs/ModelEnv/lib/python3.10/site-packages/ultralytics/assets/bus.jpg: 640x480 4 persons, 54.8ms\n",
      "image 2/2 /home/samarth5854/anaconda3/envs/ModelEnv/lib/python3.10/site-packages/ultralytics/assets/zidane.jpg: 384x640 2 persons, 58.6ms\n",
      "Speed: 2.0ms preprocess, 56.7ms inference, 1.1ms postprocess per image at shape (1, 3, 384, 640)\n",
      "WARNING ⚠️ 'source' is missing. Using 'source=/home/samarth5854/anaconda3/envs/ModelEnv/lib/python3.10/site-packages/ultralytics/assets'.\n",
      "\n"
     ]
    },
    {
     "name": "stdout",
     "output_type": "stream",
     "text": [
      "Keypoints shape before flattening: torch.Size([4, 17, 2])\n",
      "Keypoints shape after flattening: (34,)\n",
      "saved to MP_Data/running/5/5.npy\n",
      "Keypoints shape before flattening: torch.Size([4, 17, 2])\n",
      "Keypoints shape after flattening: (34,)\n",
      "saved to MP_Data/running/5/6.npy\n"
     ]
    },
    {
     "name": "stderr",
     "output_type": "stream",
     "text": [
      "image 1/2 /home/samarth5854/anaconda3/envs/ModelEnv/lib/python3.10/site-packages/ultralytics/assets/bus.jpg: 640x480 4 persons, 84.8ms\n",
      "image 2/2 /home/samarth5854/anaconda3/envs/ModelEnv/lib/python3.10/site-packages/ultralytics/assets/zidane.jpg: 384x640 2 persons, 68.0ms\n",
      "Speed: 1.9ms preprocess, 76.4ms inference, 0.9ms postprocess per image at shape (1, 3, 384, 640)\n",
      "WARNING ⚠️ 'source' is missing. Using 'source=/home/samarth5854/anaconda3/envs/ModelEnv/lib/python3.10/site-packages/ultralytics/assets'.\n",
      "\n",
      "image 1/2 /home/samarth5854/anaconda3/envs/ModelEnv/lib/python3.10/site-packages/ultralytics/assets/bus.jpg: 640x480 4 persons, 89.5ms\n",
      "image 2/2 /home/samarth5854/anaconda3/envs/ModelEnv/lib/python3.10/site-packages/ultralytics/assets/zidane.jpg: 384x640 2 persons, 68.4ms\n",
      "Speed: 2.1ms preprocess, 79.0ms inference, 0.9ms postprocess per image at shape (1, 3, 384, 640)\n",
      "WARNING ⚠️ 'source' is missing. Using 'source=/home/samarth5854/anaconda3/envs/ModelEnv/lib/python3.10/site-packages/ultralytics/assets'.\n"
     ]
    },
    {
     "name": "stdout",
     "output_type": "stream",
     "text": [
      "Keypoints shape before flattening: torch.Size([4, 17, 2])\n",
      "Keypoints shape after flattening: (34,)\n",
      "saved to MP_Data/running/5/7.npy\n",
      "Keypoints shape before flattening: torch.Size([4, 17, 2])\n",
      "Keypoints shape after flattening: (34,)\n",
      "saved to MP_Data/running/5/8.npy\n"
     ]
    },
    {
     "name": "stderr",
     "output_type": "stream",
     "text": [
      "\n",
      "image 1/2 /home/samarth5854/anaconda3/envs/ModelEnv/lib/python3.10/site-packages/ultralytics/assets/bus.jpg: 640x480 4 persons, 77.3ms\n",
      "image 2/2 /home/samarth5854/anaconda3/envs/ModelEnv/lib/python3.10/site-packages/ultralytics/assets/zidane.jpg: 384x640 2 persons, 47.4ms\n",
      "Speed: 1.9ms preprocess, 62.4ms inference, 1.0ms postprocess per image at shape (1, 3, 384, 640)\n",
      "WARNING ⚠️ 'source' is missing. Using 'source=/home/samarth5854/anaconda3/envs/ModelEnv/lib/python3.10/site-packages/ultralytics/assets'.\n",
      "\n",
      "image 1/2 /home/samarth5854/anaconda3/envs/ModelEnv/lib/python3.10/site-packages/ultralytics/assets/bus.jpg: 640x480 4 persons, 66.6ms\n",
      "image 2/2 /home/samarth5854/anaconda3/envs/ModelEnv/lib/python3.10/site-packages/ultralytics/assets/zidane.jpg: 384x640 2 persons, 57.0ms\n",
      "Speed: 2.2ms preprocess, 61.8ms inference, 1.2ms postprocess per image at shape (1, 3, 384, 640)\n",
      "WARNING ⚠️ 'source' is missing. Using 'source=/home/samarth5854/anaconda3/envs/ModelEnv/lib/python3.10/site-packages/ultralytics/assets'.\n",
      "\n"
     ]
    },
    {
     "name": "stdout",
     "output_type": "stream",
     "text": [
      "Keypoints shape before flattening: torch.Size([4, 17, 2])\n",
      "Keypoints shape after flattening: (34,)\n",
      "saved to MP_Data/running/5/9.npy\n",
      "Keypoints shape before flattening: torch.Size([4, 17, 2])\n",
      "Keypoints shape after flattening: (34,)\n",
      "saved to MP_Data/running/5/10.npy\n"
     ]
    },
    {
     "name": "stderr",
     "output_type": "stream",
     "text": [
      "image 1/2 /home/samarth5854/anaconda3/envs/ModelEnv/lib/python3.10/site-packages/ultralytics/assets/bus.jpg: 640x480 4 persons, 81.0ms\n",
      "image 2/2 /home/samarth5854/anaconda3/envs/ModelEnv/lib/python3.10/site-packages/ultralytics/assets/zidane.jpg: 384x640 2 persons, 66.9ms\n",
      "Speed: 1.9ms preprocess, 74.0ms inference, 0.9ms postprocess per image at shape (1, 3, 384, 640)\n",
      "WARNING ⚠️ 'source' is missing. Using 'source=/home/samarth5854/anaconda3/envs/ModelEnv/lib/python3.10/site-packages/ultralytics/assets'.\n",
      "\n",
      "image 1/2 /home/samarth5854/anaconda3/envs/ModelEnv/lib/python3.10/site-packages/ultralytics/assets/bus.jpg: 640x480 4 persons, 79.0ms\n",
      "image 2/2 /home/samarth5854/anaconda3/envs/ModelEnv/lib/python3.10/site-packages/ultralytics/assets/zidane.jpg: 384x640 2 persons, 72.1ms\n",
      "Speed: 2.0ms preprocess, 75.6ms inference, 0.9ms postprocess per image at shape (1, 3, 384, 640)\n",
      "WARNING ⚠️ 'source' is missing. Using 'source=/home/samarth5854/anaconda3/envs/ModelEnv/lib/python3.10/site-packages/ultralytics/assets'.\n",
      "\n"
     ]
    },
    {
     "name": "stdout",
     "output_type": "stream",
     "text": [
      "Keypoints shape before flattening: torch.Size([4, 17, 2])\n",
      "Keypoints shape after flattening: (34,)\n",
      "saved to MP_Data/running/5/11.npy\n",
      "Keypoints shape before flattening: torch.Size([4, 17, 2])\n",
      "Keypoints shape after flattening: (34,)\n",
      "saved to MP_Data/running/5/12.npy\n"
     ]
    },
    {
     "name": "stderr",
     "output_type": "stream",
     "text": [
      "image 1/2 /home/samarth5854/anaconda3/envs/ModelEnv/lib/python3.10/site-packages/ultralytics/assets/bus.jpg: 640x480 4 persons, 60.8ms\n",
      "image 2/2 /home/samarth5854/anaconda3/envs/ModelEnv/lib/python3.10/site-packages/ultralytics/assets/zidane.jpg: 384x640 2 persons, 71.1ms\n",
      "Speed: 1.7ms preprocess, 65.9ms inference, 0.9ms postprocess per image at shape (1, 3, 384, 640)\n",
      "WARNING ⚠️ 'source' is missing. Using 'source=/home/samarth5854/anaconda3/envs/ModelEnv/lib/python3.10/site-packages/ultralytics/assets'.\n",
      "\n",
      "image 1/2 /home/samarth5854/anaconda3/envs/ModelEnv/lib/python3.10/site-packages/ultralytics/assets/bus.jpg: 640x480 4 persons, 78.2ms\n",
      "image 2/2 /home/samarth5854/anaconda3/envs/ModelEnv/lib/python3.10/site-packages/ultralytics/assets/zidane.jpg: 384x640 2 persons, 68.5ms\n",
      "Speed: 1.9ms preprocess, 73.4ms inference, 0.9ms postprocess per image at shape (1, 3, 384, 640)\n",
      "WARNING ⚠️ 'source' is missing. Using 'source=/home/samarth5854/anaconda3/envs/ModelEnv/lib/python3.10/site-packages/ultralytics/assets'.\n",
      "\n"
     ]
    },
    {
     "name": "stdout",
     "output_type": "stream",
     "text": [
      "Keypoints shape before flattening: torch.Size([4, 17, 2])\n",
      "Keypoints shape after flattening: (34,)\n",
      "saved to MP_Data/running/5/13.npy\n",
      "Keypoints shape before flattening: torch.Size([4, 17, 2])\n",
      "Keypoints shape after flattening: (34,)\n",
      "saved to MP_Data/running/5/14.npy\n"
     ]
    },
    {
     "name": "stderr",
     "output_type": "stream",
     "text": [
      "image 1/2 /home/samarth5854/anaconda3/envs/ModelEnv/lib/python3.10/site-packages/ultralytics/assets/bus.jpg: 640x480 4 persons, 58.0ms\n",
      "image 2/2 /home/samarth5854/anaconda3/envs/ModelEnv/lib/python3.10/site-packages/ultralytics/assets/zidane.jpg: 384x640 2 persons, 46.4ms\n",
      "Speed: 2.0ms preprocess, 52.2ms inference, 1.0ms postprocess per image at shape (1, 3, 384, 640)\n",
      "WARNING ⚠️ 'source' is missing. Using 'source=/home/samarth5854/anaconda3/envs/ModelEnv/lib/python3.10/site-packages/ultralytics/assets'.\n",
      "\n",
      "image 1/2 /home/samarth5854/anaconda3/envs/ModelEnv/lib/python3.10/site-packages/ultralytics/assets/bus.jpg: 640x480 4 persons, 79.1ms\n",
      "image 2/2 /home/samarth5854/anaconda3/envs/ModelEnv/lib/python3.10/site-packages/ultralytics/assets/zidane.jpg: 384x640 2 persons, 68.2ms\n",
      "Speed: 2.0ms preprocess, 73.7ms inference, 0.9ms postprocess per image at shape (1, 3, 384, 640)\n",
      "WARNING ⚠️ 'source' is missing. Using 'source=/home/samarth5854/anaconda3/envs/ModelEnv/lib/python3.10/site-packages/ultralytics/assets'.\n",
      "\n"
     ]
    },
    {
     "name": "stdout",
     "output_type": "stream",
     "text": [
      "Keypoints shape before flattening: torch.Size([4, 17, 2])\n",
      "Keypoints shape after flattening: (34,)\n",
      "saved to MP_Data/running/5/15.npy\n",
      "Keypoints shape before flattening: torch.Size([4, 17, 2])\n",
      "Keypoints shape after flattening: (34,)\n",
      "saved to MP_Data/running/5/16.npy\n"
     ]
    },
    {
     "name": "stderr",
     "output_type": "stream",
     "text": [
      "image 1/2 /home/samarth5854/anaconda3/envs/ModelEnv/lib/python3.10/site-packages/ultralytics/assets/bus.jpg: 640x480 4 persons, 88.1ms\n",
      "image 2/2 /home/samarth5854/anaconda3/envs/ModelEnv/lib/python3.10/site-packages/ultralytics/assets/zidane.jpg: 384x640 2 persons, 72.5ms\n",
      "Speed: 2.2ms preprocess, 80.3ms inference, 1.1ms postprocess per image at shape (1, 3, 384, 640)\n",
      "WARNING ⚠️ 'source' is missing. Using 'source=/home/samarth5854/anaconda3/envs/ModelEnv/lib/python3.10/site-packages/ultralytics/assets'.\n",
      "\n",
      "image 1/2 /home/samarth5854/anaconda3/envs/ModelEnv/lib/python3.10/site-packages/ultralytics/assets/bus.jpg: 640x480 4 persons, 89.8ms\n",
      "image 2/2 /home/samarth5854/anaconda3/envs/ModelEnv/lib/python3.10/site-packages/ultralytics/assets/zidane.jpg: 384x640 2 persons, 69.7ms\n",
      "Speed: 1.9ms preprocess, 79.8ms inference, 1.0ms postprocess per image at shape (1, 3, 384, 640)\n",
      "WARNING ⚠️ 'source' is missing. Using 'source=/home/samarth5854/anaconda3/envs/ModelEnv/lib/python3.10/site-packages/ultralytics/assets'.\n",
      "\n"
     ]
    },
    {
     "name": "stdout",
     "output_type": "stream",
     "text": [
      "Keypoints shape before flattening: torch.Size([4, 17, 2])\n",
      "Keypoints shape after flattening: (34,)\n",
      "saved to MP_Data/running/5/17.npy\n",
      "Keypoints shape before flattening: torch.Size([4, 17, 2])\n",
      "Keypoints shape after flattening: (34,)\n",
      "saved to MP_Data/running/5/18.npy\n"
     ]
    },
    {
     "name": "stderr",
     "output_type": "stream",
     "text": [
      "image 1/2 /home/samarth5854/anaconda3/envs/ModelEnv/lib/python3.10/site-packages/ultralytics/assets/bus.jpg: 640x480 4 persons, 92.9ms\n",
      "image 2/2 /home/samarth5854/anaconda3/envs/ModelEnv/lib/python3.10/site-packages/ultralytics/assets/zidane.jpg: 384x640 2 persons, 69.8ms\n",
      "Speed: 2.0ms preprocess, 81.4ms inference, 1.0ms postprocess per image at shape (1, 3, 384, 640)\n",
      "WARNING ⚠️ 'source' is missing. Using 'source=/home/samarth5854/anaconda3/envs/ModelEnv/lib/python3.10/site-packages/ultralytics/assets'.\n",
      "\n",
      "image 1/2 /home/samarth5854/anaconda3/envs/ModelEnv/lib/python3.10/site-packages/ultralytics/assets/bus.jpg: 640x480 4 persons, 82.2ms\n",
      "image 2/2 /home/samarth5854/anaconda3/envs/ModelEnv/lib/python3.10/site-packages/ultralytics/assets/zidane.jpg: 384x640 2 persons, 67.4ms\n",
      "Speed: 2.0ms preprocess, 74.8ms inference, 1.0ms postprocess per image at shape (1, 3, 384, 640)\n",
      "WARNING ⚠️ 'source' is missing. Using 'source=/home/samarth5854/anaconda3/envs/ModelEnv/lib/python3.10/site-packages/ultralytics/assets'.\n",
      "\n"
     ]
    },
    {
     "name": "stdout",
     "output_type": "stream",
     "text": [
      "Keypoints shape before flattening: torch.Size([4, 17, 2])\n",
      "Keypoints shape after flattening: (34,)\n",
      "saved to MP_Data/running/5/19.npy\n",
      "Keypoints shape before flattening: torch.Size([4, 17, 2])\n",
      "Keypoints shape after flattening: (34,)\n",
      "saved to MP_Data/running/5/20.npy\n"
     ]
    },
    {
     "name": "stderr",
     "output_type": "stream",
     "text": [
      "image 1/2 /home/samarth5854/anaconda3/envs/ModelEnv/lib/python3.10/site-packages/ultralytics/assets/bus.jpg: 640x480 4 persons, 80.4ms\n",
      "image 2/2 /home/samarth5854/anaconda3/envs/ModelEnv/lib/python3.10/site-packages/ultralytics/assets/zidane.jpg: 384x640 2 persons, 66.2ms\n",
      "Speed: 1.9ms preprocess, 73.3ms inference, 1.0ms postprocess per image at shape (1, 3, 384, 640)\n",
      "WARNING ⚠️ 'source' is missing. Using 'source=/home/samarth5854/anaconda3/envs/ModelEnv/lib/python3.10/site-packages/ultralytics/assets'.\n",
      "\n",
      "image 1/2 /home/samarth5854/anaconda3/envs/ModelEnv/lib/python3.10/site-packages/ultralytics/assets/bus.jpg: 640x480 4 persons, 82.9ms\n",
      "image 2/2 /home/samarth5854/anaconda3/envs/ModelEnv/lib/python3.10/site-packages/ultralytics/assets/zidane.jpg: 384x640 2 persons, 76.5ms\n",
      "Speed: 1.9ms preprocess, 79.7ms inference, 0.9ms postprocess per image at shape (1, 3, 384, 640)\n",
      "WARNING ⚠️ 'source' is missing. Using 'source=/home/samarth5854/anaconda3/envs/ModelEnv/lib/python3.10/site-packages/ultralytics/assets'.\n"
     ]
    },
    {
     "name": "stdout",
     "output_type": "stream",
     "text": [
      "Keypoints shape before flattening: torch.Size([4, 17, 2])\n",
      "Keypoints shape after flattening: (34,)\n",
      "saved to MP_Data/running/5/21.npy\n",
      "Keypoints shape before flattening: torch.Size([4, 17, 2])\n",
      "Keypoints shape after flattening: (34,)\n",
      "saved to MP_Data/running/5/22.npy\n"
     ]
    },
    {
     "name": "stderr",
     "output_type": "stream",
     "text": [
      "\n",
      "image 1/2 /home/samarth5854/anaconda3/envs/ModelEnv/lib/python3.10/site-packages/ultralytics/assets/bus.jpg: 640x480 4 persons, 89.0ms\n",
      "image 2/2 /home/samarth5854/anaconda3/envs/ModelEnv/lib/python3.10/site-packages/ultralytics/assets/zidane.jpg: 384x640 2 persons, 68.8ms\n",
      "Speed: 2.0ms preprocess, 78.9ms inference, 1.0ms postprocess per image at shape (1, 3, 384, 640)\n",
      "WARNING ⚠️ 'source' is missing. Using 'source=/home/samarth5854/anaconda3/envs/ModelEnv/lib/python3.10/site-packages/ultralytics/assets'.\n",
      "\n",
      "image 1/2 /home/samarth5854/anaconda3/envs/ModelEnv/lib/python3.10/site-packages/ultralytics/assets/bus.jpg: 640x480 4 persons, 78.5ms\n",
      "image 2/2 /home/samarth5854/anaconda3/envs/ModelEnv/lib/python3.10/site-packages/ultralytics/assets/zidane.jpg: 384x640 2 persons, 64.0ms\n",
      "Speed: 2.5ms preprocess, 71.2ms inference, 0.9ms postprocess per image at shape (1, 3, 384, 640)\n",
      "WARNING ⚠️ 'source' is missing. Using 'source=/home/samarth5854/anaconda3/envs/ModelEnv/lib/python3.10/site-packages/ultralytics/assets'.\n",
      "\n"
     ]
    },
    {
     "name": "stdout",
     "output_type": "stream",
     "text": [
      "Keypoints shape before flattening: torch.Size([4, 17, 2])\n",
      "Keypoints shape after flattening: (34,)\n",
      "saved to MP_Data/running/5/23.npy\n",
      "Keypoints shape before flattening: torch.Size([4, 17, 2])\n",
      "Keypoints shape after flattening: (34,)\n",
      "saved to MP_Data/running/5/24.npy\n"
     ]
    },
    {
     "name": "stderr",
     "output_type": "stream",
     "text": [
      "image 1/2 /home/samarth5854/anaconda3/envs/ModelEnv/lib/python3.10/site-packages/ultralytics/assets/bus.jpg: 640x480 4 persons, 85.4ms\n",
      "image 2/2 /home/samarth5854/anaconda3/envs/ModelEnv/lib/python3.10/site-packages/ultralytics/assets/zidane.jpg: 384x640 2 persons, 68.1ms\n",
      "Speed: 2.2ms preprocess, 76.8ms inference, 0.8ms postprocess per image at shape (1, 3, 384, 640)\n",
      "WARNING ⚠️ 'source' is missing. Using 'source=/home/samarth5854/anaconda3/envs/ModelEnv/lib/python3.10/site-packages/ultralytics/assets'.\n",
      "\n",
      "image 1/2 /home/samarth5854/anaconda3/envs/ModelEnv/lib/python3.10/site-packages/ultralytics/assets/bus.jpg: 640x480 4 persons, 77.6ms\n",
      "image 2/2 /home/samarth5854/anaconda3/envs/ModelEnv/lib/python3.10/site-packages/ultralytics/assets/zidane.jpg: 384x640 2 persons, 63.3ms\n",
      "Speed: 2.0ms preprocess, 70.4ms inference, 0.8ms postprocess per image at shape (1, 3, 384, 640)\n",
      "WARNING ⚠️ 'source' is missing. Using 'source=/home/samarth5854/anaconda3/envs/ModelEnv/lib/python3.10/site-packages/ultralytics/assets'.\n",
      "\n"
     ]
    },
    {
     "name": "stdout",
     "output_type": "stream",
     "text": [
      "Keypoints shape before flattening: torch.Size([4, 17, 2])\n",
      "Keypoints shape after flattening: (34,)\n",
      "saved to MP_Data/running/5/25.npy\n",
      "Keypoints shape before flattening: torch.Size([4, 17, 2])\n",
      "Keypoints shape after flattening: (34,)\n",
      "saved to MP_Data/running/5/26.npy\n"
     ]
    },
    {
     "name": "stderr",
     "output_type": "stream",
     "text": [
      "image 1/2 /home/samarth5854/anaconda3/envs/ModelEnv/lib/python3.10/site-packages/ultralytics/assets/bus.jpg: 640x480 4 persons, 81.6ms\n",
      "image 2/2 /home/samarth5854/anaconda3/envs/ModelEnv/lib/python3.10/site-packages/ultralytics/assets/zidane.jpg: 384x640 2 persons, 67.5ms\n",
      "Speed: 2.1ms preprocess, 74.5ms inference, 0.9ms postprocess per image at shape (1, 3, 384, 640)\n",
      "WARNING ⚠️ 'source' is missing. Using 'source=/home/samarth5854/anaconda3/envs/ModelEnv/lib/python3.10/site-packages/ultralytics/assets'.\n",
      "\n",
      "image 1/2 /home/samarth5854/anaconda3/envs/ModelEnv/lib/python3.10/site-packages/ultralytics/assets/bus.jpg: 640x480 4 persons, 80.9ms\n",
      "image 2/2 /home/samarth5854/anaconda3/envs/ModelEnv/lib/python3.10/site-packages/ultralytics/assets/zidane.jpg: 384x640 2 persons, 77.4ms\n",
      "Speed: 2.3ms preprocess, 79.2ms inference, 1.0ms postprocess per image at shape (1, 3, 384, 640)\n",
      "WARNING ⚠️ 'source' is missing. Using 'source=/home/samarth5854/anaconda3/envs/ModelEnv/lib/python3.10/site-packages/ultralytics/assets'.\n",
      "\n"
     ]
    },
    {
     "name": "stdout",
     "output_type": "stream",
     "text": [
      "Keypoints shape before flattening: torch.Size([4, 17, 2])\n",
      "Keypoints shape after flattening: (34,)\n",
      "saved to MP_Data/running/5/27.npy\n",
      "Keypoints shape before flattening: torch.Size([4, 17, 2])\n",
      "Keypoints shape after flattening: (34,)\n",
      "saved to MP_Data/running/5/28.npy\n"
     ]
    },
    {
     "name": "stderr",
     "output_type": "stream",
     "text": [
      "image 1/2 /home/samarth5854/anaconda3/envs/ModelEnv/lib/python3.10/site-packages/ultralytics/assets/bus.jpg: 640x480 4 persons, 89.4ms\n",
      "image 2/2 /home/samarth5854/anaconda3/envs/ModelEnv/lib/python3.10/site-packages/ultralytics/assets/zidane.jpg: 384x640 2 persons, 66.5ms\n",
      "Speed: 3.6ms preprocess, 78.0ms inference, 0.8ms postprocess per image at shape (1, 3, 384, 640)\n",
      "[ WARN:0@45.260] global /croot/opencv-suite_1691620365762/work/modules/videoio/src/cap_gstreamer.cpp (2401) handleMessage OpenCV | GStreamer warning: Embedded video playback halted; module source reported: \"/home/samarth5854/Desktop/LSTM/MP_Data/running/39\" is a directory.\n",
      "[ WARN:0@45.260] global /croot/opencv-suite_1691620365762/work/modules/videoio/src/cap_gstreamer.cpp (1356) open OpenCV | GStreamer warning: unable to start pipeline\n",
      "[ WARN:0@45.260] global /croot/opencv-suite_1691620365762/work/modules/videoio/src/cap_gstreamer.cpp (862) isPipelinePlaying OpenCV | GStreamer warning: GStreamer: pipeline have not been created\n",
      "WARNING ⚠️ 'source' is missing. Using 'source=/home/samarth5854/anaconda3/envs/ModelEnv/lib/python3.10/site-packages/ultralytics/assets'.\n",
      "\n",
      "image 1/2 /home/samarth5854/anaconda3/envs/ModelEnv/lib/python3.10/site-packages/ultralytics/assets/bus.jpg: 640x480 4 persons, 77.0ms\n",
      "image 2/2 /home/samarth5854/anaconda3/envs/ModelEnv/lib/python3.10/site-packages/ultralytics/assets/zidane.jpg: 384x640 2 persons, 69.6ms\n",
      "Speed: 2.1ms preprocess, 73.3ms inference, 0.9ms postprocess per image at shape (1, 3, 384, 640)\n",
      "WARNING ⚠️ 'source' is missing. Using 'source=/home/samarth5854/anaconda3/envs/ModelEnv/lib/python3.10/site-packages/ultralytics/assets'.\n",
      "\n"
     ]
    },
    {
     "name": "stdout",
     "output_type": "stream",
     "text": [
      "Keypoints shape before flattening: torch.Size([4, 17, 2])\n",
      "Keypoints shape after flattening: (34,)\n",
      "saved to MP_Data/running/5/29.npy\n",
      "Keypoints shape before flattening: torch.Size([4, 17, 2])\n",
      "Keypoints shape after flattening: (34,)\n",
      "saved to MP_Data/running/6/0.npy\n"
     ]
    },
    {
     "name": "stderr",
     "output_type": "stream",
     "text": [
      "image 1/2 /home/samarth5854/anaconda3/envs/ModelEnv/lib/python3.10/site-packages/ultralytics/assets/bus.jpg: 640x480 4 persons, 81.3ms\n",
      "image 2/2 /home/samarth5854/anaconda3/envs/ModelEnv/lib/python3.10/site-packages/ultralytics/assets/zidane.jpg: 384x640 2 persons, 66.8ms\n",
      "Speed: 1.9ms preprocess, 74.1ms inference, 0.9ms postprocess per image at shape (1, 3, 384, 640)\n",
      "WARNING ⚠️ 'source' is missing. Using 'source=/home/samarth5854/anaconda3/envs/ModelEnv/lib/python3.10/site-packages/ultralytics/assets'.\n",
      "\n",
      "image 1/2 /home/samarth5854/anaconda3/envs/ModelEnv/lib/python3.10/site-packages/ultralytics/assets/bus.jpg: 640x480 4 persons, 84.7ms\n"
     ]
    },
    {
     "name": "stdout",
     "output_type": "stream",
     "text": [
      "Keypoints shape before flattening: torch.Size([4, 17, 2])\n",
      "Keypoints shape after flattening: (34,)\n",
      "saved to MP_Data/running/6/1.npy\n"
     ]
    },
    {
     "name": "stderr",
     "output_type": "stream",
     "text": [
      "image 2/2 /home/samarth5854/anaconda3/envs/ModelEnv/lib/python3.10/site-packages/ultralytics/assets/zidane.jpg: 384x640 2 persons, 76.2ms\n",
      "Speed: 2.2ms preprocess, 80.5ms inference, 1.0ms postprocess per image at shape (1, 3, 384, 640)\n",
      "WARNING ⚠️ 'source' is missing. Using 'source=/home/samarth5854/anaconda3/envs/ModelEnv/lib/python3.10/site-packages/ultralytics/assets'.\n",
      "\n",
      "image 1/2 /home/samarth5854/anaconda3/envs/ModelEnv/lib/python3.10/site-packages/ultralytics/assets/bus.jpg: 640x480 4 persons, 96.3ms\n"
     ]
    },
    {
     "name": "stdout",
     "output_type": "stream",
     "text": [
      "Keypoints shape before flattening: torch.Size([4, 17, 2])\n",
      "Keypoints shape after flattening: (34,)\n",
      "saved to MP_Data/running/6/2.npy\n"
     ]
    },
    {
     "name": "stderr",
     "output_type": "stream",
     "text": [
      "image 2/2 /home/samarth5854/anaconda3/envs/ModelEnv/lib/python3.10/site-packages/ultralytics/assets/zidane.jpg: 384x640 2 persons, 78.5ms\n",
      "Speed: 2.4ms preprocess, 87.4ms inference, 1.0ms postprocess per image at shape (1, 3, 384, 640)\n",
      "WARNING ⚠️ 'source' is missing. Using 'source=/home/samarth5854/anaconda3/envs/ModelEnv/lib/python3.10/site-packages/ultralytics/assets'.\n",
      "\n",
      "image 1/2 /home/samarth5854/anaconda3/envs/ModelEnv/lib/python3.10/site-packages/ultralytics/assets/bus.jpg: 640x480 4 persons, 63.4ms\n",
      "image 2/2 /home/samarth5854/anaconda3/envs/ModelEnv/lib/python3.10/site-packages/ultralytics/assets/zidane.jpg: 384x640 2 persons, 47.4ms\n",
      "Speed: 2.0ms preprocess, 55.4ms inference, 1.0ms postprocess per image at shape (1, 3, 384, 640)\n",
      "WARNING ⚠️ 'source' is missing. Using 'source=/home/samarth5854/anaconda3/envs/ModelEnv/lib/python3.10/site-packages/ultralytics/assets'.\n",
      "\n"
     ]
    },
    {
     "name": "stdout",
     "output_type": "stream",
     "text": [
      "Keypoints shape before flattening: torch.Size([4, 17, 2])\n",
      "Keypoints shape after flattening: (34,)\n",
      "saved to MP_Data/running/6/3.npy\n",
      "Keypoints shape before flattening: torch.Size([4, 17, 2])\n",
      "Keypoints shape after flattening: (34,)\n",
      "saved to MP_Data/running/6/4.npy\n"
     ]
    },
    {
     "name": "stderr",
     "output_type": "stream",
     "text": [
      "image 1/2 /home/samarth5854/anaconda3/envs/ModelEnv/lib/python3.10/site-packages/ultralytics/assets/bus.jpg: 640x480 4 persons, 63.9ms\n",
      "image 2/2 /home/samarth5854/anaconda3/envs/ModelEnv/lib/python3.10/site-packages/ultralytics/assets/zidane.jpg: 384x640 2 persons, 71.4ms\n",
      "Speed: 5.2ms preprocess, 67.7ms inference, 0.8ms postprocess per image at shape (1, 3, 384, 640)\n",
      "WARNING ⚠️ 'source' is missing. Using 'source=/home/samarth5854/anaconda3/envs/ModelEnv/lib/python3.10/site-packages/ultralytics/assets'.\n",
      "\n",
      "image 1/2 /home/samarth5854/anaconda3/envs/ModelEnv/lib/python3.10/site-packages/ultralytics/assets/bus.jpg: 640x480 4 persons, 81.5ms\n",
      "image 2/2 /home/samarth5854/anaconda3/envs/ModelEnv/lib/python3.10/site-packages/ultralytics/assets/zidane.jpg: 384x640 2 persons, 67.9ms\n",
      "Speed: 2.1ms preprocess, 74.7ms inference, 1.0ms postprocess per image at shape (1, 3, 384, 640)\n",
      "WARNING ⚠️ 'source' is missing. Using 'source=/home/samarth5854/anaconda3/envs/ModelEnv/lib/python3.10/site-packages/ultralytics/assets'.\n",
      "\n"
     ]
    },
    {
     "name": "stdout",
     "output_type": "stream",
     "text": [
      "Keypoints shape before flattening: torch.Size([4, 17, 2])\n",
      "Keypoints shape after flattening: (34,)\n",
      "saved to MP_Data/running/6/5.npy\n",
      "Keypoints shape before flattening: torch.Size([4, 17, 2])\n",
      "Keypoints shape after flattening: (34,)\n",
      "saved to MP_Data/running/6/6.npy\n"
     ]
    },
    {
     "name": "stderr",
     "output_type": "stream",
     "text": [
      "image 1/2 /home/samarth5854/anaconda3/envs/ModelEnv/lib/python3.10/site-packages/ultralytics/assets/bus.jpg: 640x480 4 persons, 83.6ms\n"
     ]
    },
    {
     "ename": "KeyboardInterrupt",
     "evalue": "",
     "output_type": "error",
     "traceback": [
      "\u001b[0;31m---------------------------------------------------------------------------\u001b[0m",
      "\u001b[0;31mKeyboardInterrupt\u001b[0m                         Traceback (most recent call last)",
      "Cell \u001b[0;32mIn[5], line 29\u001b[0m\n\u001b[1;32m     21\u001b[0m ret, frame \u001b[38;5;241m=\u001b[39m cap\u001b[38;5;241m.\u001b[39mread()\n\u001b[1;32m     24\u001b[0m \u001b[38;5;66;03m# (Replace with your pose estimation model logic here)\u001b[39;00m\n\u001b[1;32m     25\u001b[0m \u001b[38;5;66;03m# This part would process the frame using your model and extract keypoints\u001b[39;00m\n\u001b[1;32m     26\u001b[0m \n\u001b[1;32m     27\u001b[0m \u001b[38;5;66;03m# Assuming you have keypoints data in a variable called \"keypoints\"\u001b[39;00m\n\u001b[1;32m     28\u001b[0m \u001b[38;5;66;03m# Flatten keypoints\u001b[39;00m\n\u001b[0;32m---> 29\u001b[0m results \u001b[38;5;241m=\u001b[39m \u001b[43mmodelpose\u001b[49m\u001b[38;5;241;43m.\u001b[39;49m\u001b[43mpredict\u001b[49m\u001b[43m(\u001b[49m\u001b[43mframe\u001b[49m\u001b[43m)\u001b[49m\n\u001b[1;32m     30\u001b[0m \u001b[38;5;28mprint\u001b[39m(\u001b[38;5;124m\"\u001b[39m\u001b[38;5;124mKeypoints shape before flattening:\u001b[39m\u001b[38;5;124m\"\u001b[39m, results[\u001b[38;5;241m0\u001b[39m]\u001b[38;5;241m.\u001b[39mkeypoints\u001b[38;5;241m.\u001b[39mxyn\u001b[38;5;241m.\u001b[39mshape)\n\u001b[1;32m     32\u001b[0m \u001b[38;5;66;03m# Flatten keypoints\u001b[39;00m\n",
      "File \u001b[0;32m~/anaconda3/envs/ModelEnv/lib/python3.10/site-packages/torch/utils/_contextlib.py:115\u001b[0m, in \u001b[0;36mcontext_decorator.<locals>.decorate_context\u001b[0;34m(*args, **kwargs)\u001b[0m\n\u001b[1;32m    112\u001b[0m \u001b[38;5;129m@functools\u001b[39m\u001b[38;5;241m.\u001b[39mwraps(func)\n\u001b[1;32m    113\u001b[0m \u001b[38;5;28;01mdef\u001b[39;00m \u001b[38;5;21mdecorate_context\u001b[39m(\u001b[38;5;241m*\u001b[39margs, \u001b[38;5;241m*\u001b[39m\u001b[38;5;241m*\u001b[39mkwargs):\n\u001b[1;32m    114\u001b[0m     \u001b[38;5;28;01mwith\u001b[39;00m ctx_factory():\n\u001b[0;32m--> 115\u001b[0m         \u001b[38;5;28;01mreturn\u001b[39;00m \u001b[43mfunc\u001b[49m\u001b[43m(\u001b[49m\u001b[38;5;241;43m*\u001b[39;49m\u001b[43margs\u001b[49m\u001b[43m,\u001b[49m\u001b[43m \u001b[49m\u001b[38;5;241;43m*\u001b[39;49m\u001b[38;5;241;43m*\u001b[39;49m\u001b[43mkwargs\u001b[49m\u001b[43m)\u001b[49m\n",
      "File \u001b[0;32m~/anaconda3/envs/ModelEnv/lib/python3.10/site-packages/ultralytics/engine/model.py:246\u001b[0m, in \u001b[0;36mModel.predict\u001b[0;34m(self, source, stream, predictor, **kwargs)\u001b[0m\n\u001b[1;32m    244\u001b[0m \u001b[38;5;28;01mif\u001b[39;00m \u001b[38;5;28mlen\u001b[39m \u001b[38;5;129;01mand\u001b[39;00m \u001b[38;5;28mhasattr\u001b[39m(\u001b[38;5;28mself\u001b[39m\u001b[38;5;241m.\u001b[39mpredictor, \u001b[38;5;124m'\u001b[39m\u001b[38;5;124mset_prompts\u001b[39m\u001b[38;5;124m'\u001b[39m):\n\u001b[1;32m    245\u001b[0m     \u001b[38;5;28mself\u001b[39m\u001b[38;5;241m.\u001b[39mpredictor\u001b[38;5;241m.\u001b[39mset_prompts(prompts)\n\u001b[0;32m--> 246\u001b[0m \u001b[38;5;28;01mreturn\u001b[39;00m \u001b[38;5;28mself\u001b[39m\u001b[38;5;241m.\u001b[39mpredictor\u001b[38;5;241m.\u001b[39mpredict_cli(source\u001b[38;5;241m=\u001b[39msource) \u001b[38;5;28;01mif\u001b[39;00m is_cli \u001b[38;5;28;01melse\u001b[39;00m \u001b[38;5;28;43mself\u001b[39;49m\u001b[38;5;241;43m.\u001b[39;49m\u001b[43mpredictor\u001b[49m\u001b[43m(\u001b[49m\u001b[43msource\u001b[49m\u001b[38;5;241;43m=\u001b[39;49m\u001b[43msource\u001b[49m\u001b[43m,\u001b[49m\u001b[43m \u001b[49m\u001b[43mstream\u001b[49m\u001b[38;5;241;43m=\u001b[39;49m\u001b[43mstream\u001b[49m\u001b[43m)\u001b[49m\n",
      "File \u001b[0;32m~/anaconda3/envs/ModelEnv/lib/python3.10/site-packages/ultralytics/engine/predictor.py:199\u001b[0m, in \u001b[0;36mBasePredictor.__call__\u001b[0;34m(self, source, model, stream, *args, **kwargs)\u001b[0m\n\u001b[1;32m    197\u001b[0m     \u001b[38;5;28;01mreturn\u001b[39;00m \u001b[38;5;28mself\u001b[39m\u001b[38;5;241m.\u001b[39mstream_inference(source, model, \u001b[38;5;241m*\u001b[39margs, \u001b[38;5;241m*\u001b[39m\u001b[38;5;241m*\u001b[39mkwargs)\n\u001b[1;32m    198\u001b[0m \u001b[38;5;28;01melse\u001b[39;00m:\n\u001b[0;32m--> 199\u001b[0m     \u001b[38;5;28;01mreturn\u001b[39;00m \u001b[38;5;28;43mlist\u001b[39;49m\u001b[43m(\u001b[49m\u001b[38;5;28;43mself\u001b[39;49m\u001b[38;5;241;43m.\u001b[39;49m\u001b[43mstream_inference\u001b[49m\u001b[43m(\u001b[49m\u001b[43msource\u001b[49m\u001b[43m,\u001b[49m\u001b[43m \u001b[49m\u001b[43mmodel\u001b[49m\u001b[43m,\u001b[49m\u001b[43m \u001b[49m\u001b[38;5;241;43m*\u001b[39;49m\u001b[43margs\u001b[49m\u001b[43m,\u001b[49m\u001b[43m \u001b[49m\u001b[38;5;241;43m*\u001b[39;49m\u001b[38;5;241;43m*\u001b[39;49m\u001b[43mkwargs\u001b[49m\u001b[43m)\u001b[49m\u001b[43m)\u001b[49m\n",
      "File \u001b[0;32m~/anaconda3/envs/ModelEnv/lib/python3.10/site-packages/torch/utils/_contextlib.py:56\u001b[0m, in \u001b[0;36m_wrap_generator.<locals>.generator_context\u001b[0;34m(*args, **kwargs)\u001b[0m\n\u001b[1;32m     53\u001b[0m         \u001b[38;5;28;01melse\u001b[39;00m:\n\u001b[1;32m     54\u001b[0m             \u001b[38;5;66;03m# Pass the last request to the generator and get its response\u001b[39;00m\n\u001b[1;32m     55\u001b[0m             \u001b[38;5;28;01mwith\u001b[39;00m ctx_factory():\n\u001b[0;32m---> 56\u001b[0m                 response \u001b[38;5;241m=\u001b[39m \u001b[43mgen\u001b[49m\u001b[38;5;241;43m.\u001b[39;49m\u001b[43msend\u001b[49m\u001b[43m(\u001b[49m\u001b[43mrequest\u001b[49m\u001b[43m)\u001b[49m\n\u001b[1;32m     58\u001b[0m \u001b[38;5;66;03m# We let the exceptions raised above by the generator's `.throw` or\u001b[39;00m\n\u001b[1;32m     59\u001b[0m \u001b[38;5;66;03m# `.send` methods bubble up to our caller, except for StopIteration\u001b[39;00m\n\u001b[1;32m     60\u001b[0m \u001b[38;5;28;01mexcept\u001b[39;00m \u001b[38;5;167;01mStopIteration\u001b[39;00m \u001b[38;5;28;01mas\u001b[39;00m e:\n\u001b[1;32m     61\u001b[0m     \u001b[38;5;66;03m# The generator informed us that it is done: take whatever its\u001b[39;00m\n\u001b[1;32m     62\u001b[0m     \u001b[38;5;66;03m# returned value (if any) was and indicate that we're done too\u001b[39;00m\n\u001b[1;32m     63\u001b[0m     \u001b[38;5;66;03m# by returning it (see docs for python's return-statement).\u001b[39;00m\n",
      "File \u001b[0;32m~/anaconda3/envs/ModelEnv/lib/python3.10/site-packages/ultralytics/engine/predictor.py:255\u001b[0m, in \u001b[0;36mBasePredictor.stream_inference\u001b[0;34m(self, source, model, *args, **kwargs)\u001b[0m\n\u001b[1;32m    253\u001b[0m \u001b[38;5;66;03m# Inference\u001b[39;00m\n\u001b[1;32m    254\u001b[0m \u001b[38;5;28;01mwith\u001b[39;00m profilers[\u001b[38;5;241m1\u001b[39m]:\n\u001b[0;32m--> 255\u001b[0m     preds \u001b[38;5;241m=\u001b[39m \u001b[38;5;28;43mself\u001b[39;49m\u001b[38;5;241;43m.\u001b[39;49m\u001b[43minference\u001b[49m\u001b[43m(\u001b[49m\u001b[43mim\u001b[49m\u001b[43m,\u001b[49m\u001b[43m \u001b[49m\u001b[38;5;241;43m*\u001b[39;49m\u001b[43margs\u001b[49m\u001b[43m,\u001b[49m\u001b[43m \u001b[49m\u001b[38;5;241;43m*\u001b[39;49m\u001b[38;5;241;43m*\u001b[39;49m\u001b[43mkwargs\u001b[49m\u001b[43m)\u001b[49m\n\u001b[1;32m    257\u001b[0m \u001b[38;5;66;03m# Postprocess\u001b[39;00m\n\u001b[1;32m    258\u001b[0m \u001b[38;5;28;01mwith\u001b[39;00m profilers[\u001b[38;5;241m2\u001b[39m]:\n",
      "File \u001b[0;32m~/anaconda3/envs/ModelEnv/lib/python3.10/site-packages/ultralytics/engine/predictor.py:138\u001b[0m, in \u001b[0;36mBasePredictor.inference\u001b[0;34m(self, im, *args, **kwargs)\u001b[0m\n\u001b[1;32m    135\u001b[0m \u001b[38;5;28;01mdef\u001b[39;00m \u001b[38;5;21minference\u001b[39m(\u001b[38;5;28mself\u001b[39m, im, \u001b[38;5;241m*\u001b[39margs, \u001b[38;5;241m*\u001b[39m\u001b[38;5;241m*\u001b[39mkwargs):\n\u001b[1;32m    136\u001b[0m     visualize \u001b[38;5;241m=\u001b[39m increment_path(\u001b[38;5;28mself\u001b[39m\u001b[38;5;241m.\u001b[39msave_dir \u001b[38;5;241m/\u001b[39m Path(\u001b[38;5;28mself\u001b[39m\u001b[38;5;241m.\u001b[39mbatch[\u001b[38;5;241m0\u001b[39m][\u001b[38;5;241m0\u001b[39m])\u001b[38;5;241m.\u001b[39mstem,\n\u001b[1;32m    137\u001b[0m                                mkdir\u001b[38;5;241m=\u001b[39m\u001b[38;5;28;01mTrue\u001b[39;00m) \u001b[38;5;28;01mif\u001b[39;00m \u001b[38;5;28mself\u001b[39m\u001b[38;5;241m.\u001b[39margs\u001b[38;5;241m.\u001b[39mvisualize \u001b[38;5;129;01mand\u001b[39;00m (\u001b[38;5;129;01mnot\u001b[39;00m \u001b[38;5;28mself\u001b[39m\u001b[38;5;241m.\u001b[39msource_type\u001b[38;5;241m.\u001b[39mtensor) \u001b[38;5;28;01melse\u001b[39;00m \u001b[38;5;28;01mFalse\u001b[39;00m\n\u001b[0;32m--> 138\u001b[0m     \u001b[38;5;28;01mreturn\u001b[39;00m \u001b[38;5;28;43mself\u001b[39;49m\u001b[38;5;241;43m.\u001b[39;49m\u001b[43mmodel\u001b[49m\u001b[43m(\u001b[49m\u001b[43mim\u001b[49m\u001b[43m,\u001b[49m\u001b[43m \u001b[49m\u001b[43maugment\u001b[49m\u001b[38;5;241;43m=\u001b[39;49m\u001b[38;5;28;43mself\u001b[39;49m\u001b[38;5;241;43m.\u001b[39;49m\u001b[43margs\u001b[49m\u001b[38;5;241;43m.\u001b[39;49m\u001b[43maugment\u001b[49m\u001b[43m,\u001b[49m\u001b[43m \u001b[49m\u001b[43mvisualize\u001b[49m\u001b[38;5;241;43m=\u001b[39;49m\u001b[43mvisualize\u001b[49m\u001b[43m)\u001b[49m\n",
      "File \u001b[0;32m~/anaconda3/envs/ModelEnv/lib/python3.10/site-packages/torch/nn/modules/module.py:1501\u001b[0m, in \u001b[0;36mModule._call_impl\u001b[0;34m(self, *args, **kwargs)\u001b[0m\n\u001b[1;32m   1496\u001b[0m \u001b[38;5;66;03m# If we don't have any hooks, we want to skip the rest of the logic in\u001b[39;00m\n\u001b[1;32m   1497\u001b[0m \u001b[38;5;66;03m# this function, and just call forward.\u001b[39;00m\n\u001b[1;32m   1498\u001b[0m \u001b[38;5;28;01mif\u001b[39;00m \u001b[38;5;129;01mnot\u001b[39;00m (\u001b[38;5;28mself\u001b[39m\u001b[38;5;241m.\u001b[39m_backward_hooks \u001b[38;5;129;01mor\u001b[39;00m \u001b[38;5;28mself\u001b[39m\u001b[38;5;241m.\u001b[39m_backward_pre_hooks \u001b[38;5;129;01mor\u001b[39;00m \u001b[38;5;28mself\u001b[39m\u001b[38;5;241m.\u001b[39m_forward_hooks \u001b[38;5;129;01mor\u001b[39;00m \u001b[38;5;28mself\u001b[39m\u001b[38;5;241m.\u001b[39m_forward_pre_hooks\n\u001b[1;32m   1499\u001b[0m         \u001b[38;5;129;01mor\u001b[39;00m _global_backward_pre_hooks \u001b[38;5;129;01mor\u001b[39;00m _global_backward_hooks\n\u001b[1;32m   1500\u001b[0m         \u001b[38;5;129;01mor\u001b[39;00m _global_forward_hooks \u001b[38;5;129;01mor\u001b[39;00m _global_forward_pre_hooks):\n\u001b[0;32m-> 1501\u001b[0m     \u001b[38;5;28;01mreturn\u001b[39;00m \u001b[43mforward_call\u001b[49m\u001b[43m(\u001b[49m\u001b[38;5;241;43m*\u001b[39;49m\u001b[43margs\u001b[49m\u001b[43m,\u001b[49m\u001b[43m \u001b[49m\u001b[38;5;241;43m*\u001b[39;49m\u001b[38;5;241;43m*\u001b[39;49m\u001b[43mkwargs\u001b[49m\u001b[43m)\u001b[49m\n\u001b[1;32m   1502\u001b[0m \u001b[38;5;66;03m# Do not call functions when jit is used\u001b[39;00m\n\u001b[1;32m   1503\u001b[0m full_backward_hooks, non_full_backward_hooks \u001b[38;5;241m=\u001b[39m [], []\n",
      "File \u001b[0;32m~/anaconda3/envs/ModelEnv/lib/python3.10/site-packages/ultralytics/nn/autobackend.py:334\u001b[0m, in \u001b[0;36mAutoBackend.forward\u001b[0;34m(self, im, augment, visualize)\u001b[0m\n\u001b[1;32m    331\u001b[0m     im \u001b[38;5;241m=\u001b[39m im\u001b[38;5;241m.\u001b[39mpermute(\u001b[38;5;241m0\u001b[39m, \u001b[38;5;241m2\u001b[39m, \u001b[38;5;241m3\u001b[39m, \u001b[38;5;241m1\u001b[39m)  \u001b[38;5;66;03m# torch BCHW to numpy BHWC shape(1,320,192,3)\u001b[39;00m\n\u001b[1;32m    333\u001b[0m \u001b[38;5;28;01mif\u001b[39;00m \u001b[38;5;28mself\u001b[39m\u001b[38;5;241m.\u001b[39mpt \u001b[38;5;129;01mor\u001b[39;00m \u001b[38;5;28mself\u001b[39m\u001b[38;5;241m.\u001b[39mnn_module:  \u001b[38;5;66;03m# PyTorch\u001b[39;00m\n\u001b[0;32m--> 334\u001b[0m     y \u001b[38;5;241m=\u001b[39m \u001b[38;5;28mself\u001b[39m\u001b[38;5;241m.\u001b[39mmodel(im, augment\u001b[38;5;241m=\u001b[39maugment, visualize\u001b[38;5;241m=\u001b[39mvisualize) \u001b[38;5;28;01mif\u001b[39;00m augment \u001b[38;5;129;01mor\u001b[39;00m visualize \u001b[38;5;28;01melse\u001b[39;00m \u001b[38;5;28;43mself\u001b[39;49m\u001b[38;5;241;43m.\u001b[39;49m\u001b[43mmodel\u001b[49m\u001b[43m(\u001b[49m\u001b[43mim\u001b[49m\u001b[43m)\u001b[49m\n\u001b[1;32m    335\u001b[0m \u001b[38;5;28;01melif\u001b[39;00m \u001b[38;5;28mself\u001b[39m\u001b[38;5;241m.\u001b[39mjit:  \u001b[38;5;66;03m# TorchScript\u001b[39;00m\n\u001b[1;32m    336\u001b[0m     y \u001b[38;5;241m=\u001b[39m \u001b[38;5;28mself\u001b[39m\u001b[38;5;241m.\u001b[39mmodel(im)\n",
      "File \u001b[0;32m~/anaconda3/envs/ModelEnv/lib/python3.10/site-packages/torch/nn/modules/module.py:1501\u001b[0m, in \u001b[0;36mModule._call_impl\u001b[0;34m(self, *args, **kwargs)\u001b[0m\n\u001b[1;32m   1496\u001b[0m \u001b[38;5;66;03m# If we don't have any hooks, we want to skip the rest of the logic in\u001b[39;00m\n\u001b[1;32m   1497\u001b[0m \u001b[38;5;66;03m# this function, and just call forward.\u001b[39;00m\n\u001b[1;32m   1498\u001b[0m \u001b[38;5;28;01mif\u001b[39;00m \u001b[38;5;129;01mnot\u001b[39;00m (\u001b[38;5;28mself\u001b[39m\u001b[38;5;241m.\u001b[39m_backward_hooks \u001b[38;5;129;01mor\u001b[39;00m \u001b[38;5;28mself\u001b[39m\u001b[38;5;241m.\u001b[39m_backward_pre_hooks \u001b[38;5;129;01mor\u001b[39;00m \u001b[38;5;28mself\u001b[39m\u001b[38;5;241m.\u001b[39m_forward_hooks \u001b[38;5;129;01mor\u001b[39;00m \u001b[38;5;28mself\u001b[39m\u001b[38;5;241m.\u001b[39m_forward_pre_hooks\n\u001b[1;32m   1499\u001b[0m         \u001b[38;5;129;01mor\u001b[39;00m _global_backward_pre_hooks \u001b[38;5;129;01mor\u001b[39;00m _global_backward_hooks\n\u001b[1;32m   1500\u001b[0m         \u001b[38;5;129;01mor\u001b[39;00m _global_forward_hooks \u001b[38;5;129;01mor\u001b[39;00m _global_forward_pre_hooks):\n\u001b[0;32m-> 1501\u001b[0m     \u001b[38;5;28;01mreturn\u001b[39;00m \u001b[43mforward_call\u001b[49m\u001b[43m(\u001b[49m\u001b[38;5;241;43m*\u001b[39;49m\u001b[43margs\u001b[49m\u001b[43m,\u001b[49m\u001b[43m \u001b[49m\u001b[38;5;241;43m*\u001b[39;49m\u001b[38;5;241;43m*\u001b[39;49m\u001b[43mkwargs\u001b[49m\u001b[43m)\u001b[49m\n\u001b[1;32m   1502\u001b[0m \u001b[38;5;66;03m# Do not call functions when jit is used\u001b[39;00m\n\u001b[1;32m   1503\u001b[0m full_backward_hooks, non_full_backward_hooks \u001b[38;5;241m=\u001b[39m [], []\n",
      "File \u001b[0;32m~/anaconda3/envs/ModelEnv/lib/python3.10/site-packages/ultralytics/nn/tasks.py:45\u001b[0m, in \u001b[0;36mBaseModel.forward\u001b[0;34m(self, x, *args, **kwargs)\u001b[0m\n\u001b[1;32m     43\u001b[0m \u001b[38;5;28;01mif\u001b[39;00m \u001b[38;5;28misinstance\u001b[39m(x, \u001b[38;5;28mdict\u001b[39m):  \u001b[38;5;66;03m# for cases of training and validating while training.\u001b[39;00m\n\u001b[1;32m     44\u001b[0m     \u001b[38;5;28;01mreturn\u001b[39;00m \u001b[38;5;28mself\u001b[39m\u001b[38;5;241m.\u001b[39mloss(x, \u001b[38;5;241m*\u001b[39margs, \u001b[38;5;241m*\u001b[39m\u001b[38;5;241m*\u001b[39mkwargs)\n\u001b[0;32m---> 45\u001b[0m \u001b[38;5;28;01mreturn\u001b[39;00m \u001b[38;5;28;43mself\u001b[39;49m\u001b[38;5;241;43m.\u001b[39;49m\u001b[43mpredict\u001b[49m\u001b[43m(\u001b[49m\u001b[43mx\u001b[49m\u001b[43m,\u001b[49m\u001b[43m \u001b[49m\u001b[38;5;241;43m*\u001b[39;49m\u001b[43margs\u001b[49m\u001b[43m,\u001b[49m\u001b[43m \u001b[49m\u001b[38;5;241;43m*\u001b[39;49m\u001b[38;5;241;43m*\u001b[39;49m\u001b[43mkwargs\u001b[49m\u001b[43m)\u001b[49m\n",
      "File \u001b[0;32m~/anaconda3/envs/ModelEnv/lib/python3.10/site-packages/ultralytics/nn/tasks.py:62\u001b[0m, in \u001b[0;36mBaseModel.predict\u001b[0;34m(self, x, profile, visualize, augment)\u001b[0m\n\u001b[1;32m     60\u001b[0m \u001b[38;5;28;01mif\u001b[39;00m augment:\n\u001b[1;32m     61\u001b[0m     \u001b[38;5;28;01mreturn\u001b[39;00m \u001b[38;5;28mself\u001b[39m\u001b[38;5;241m.\u001b[39m_predict_augment(x)\n\u001b[0;32m---> 62\u001b[0m \u001b[38;5;28;01mreturn\u001b[39;00m \u001b[38;5;28;43mself\u001b[39;49m\u001b[38;5;241;43m.\u001b[39;49m\u001b[43m_predict_once\u001b[49m\u001b[43m(\u001b[49m\u001b[43mx\u001b[49m\u001b[43m,\u001b[49m\u001b[43m \u001b[49m\u001b[43mprofile\u001b[49m\u001b[43m,\u001b[49m\u001b[43m \u001b[49m\u001b[43mvisualize\u001b[49m\u001b[43m)\u001b[49m\n",
      "File \u001b[0;32m~/anaconda3/envs/ModelEnv/lib/python3.10/site-packages/ultralytics/nn/tasks.py:82\u001b[0m, in \u001b[0;36mBaseModel._predict_once\u001b[0;34m(self, x, profile, visualize)\u001b[0m\n\u001b[1;32m     80\u001b[0m \u001b[38;5;28;01mif\u001b[39;00m profile:\n\u001b[1;32m     81\u001b[0m     \u001b[38;5;28mself\u001b[39m\u001b[38;5;241m.\u001b[39m_profile_one_layer(m, x, dt)\n\u001b[0;32m---> 82\u001b[0m x \u001b[38;5;241m=\u001b[39m \u001b[43mm\u001b[49m\u001b[43m(\u001b[49m\u001b[43mx\u001b[49m\u001b[43m)\u001b[49m  \u001b[38;5;66;03m# run\u001b[39;00m\n\u001b[1;32m     83\u001b[0m y\u001b[38;5;241m.\u001b[39mappend(x \u001b[38;5;28;01mif\u001b[39;00m m\u001b[38;5;241m.\u001b[39mi \u001b[38;5;129;01min\u001b[39;00m \u001b[38;5;28mself\u001b[39m\u001b[38;5;241m.\u001b[39msave \u001b[38;5;28;01melse\u001b[39;00m \u001b[38;5;28;01mNone\u001b[39;00m)  \u001b[38;5;66;03m# save output\u001b[39;00m\n\u001b[1;32m     84\u001b[0m \u001b[38;5;28;01mif\u001b[39;00m visualize:\n",
      "File \u001b[0;32m~/anaconda3/envs/ModelEnv/lib/python3.10/site-packages/torch/nn/modules/module.py:1501\u001b[0m, in \u001b[0;36mModule._call_impl\u001b[0;34m(self, *args, **kwargs)\u001b[0m\n\u001b[1;32m   1496\u001b[0m \u001b[38;5;66;03m# If we don't have any hooks, we want to skip the rest of the logic in\u001b[39;00m\n\u001b[1;32m   1497\u001b[0m \u001b[38;5;66;03m# this function, and just call forward.\u001b[39;00m\n\u001b[1;32m   1498\u001b[0m \u001b[38;5;28;01mif\u001b[39;00m \u001b[38;5;129;01mnot\u001b[39;00m (\u001b[38;5;28mself\u001b[39m\u001b[38;5;241m.\u001b[39m_backward_hooks \u001b[38;5;129;01mor\u001b[39;00m \u001b[38;5;28mself\u001b[39m\u001b[38;5;241m.\u001b[39m_backward_pre_hooks \u001b[38;5;129;01mor\u001b[39;00m \u001b[38;5;28mself\u001b[39m\u001b[38;5;241m.\u001b[39m_forward_hooks \u001b[38;5;129;01mor\u001b[39;00m \u001b[38;5;28mself\u001b[39m\u001b[38;5;241m.\u001b[39m_forward_pre_hooks\n\u001b[1;32m   1499\u001b[0m         \u001b[38;5;129;01mor\u001b[39;00m _global_backward_pre_hooks \u001b[38;5;129;01mor\u001b[39;00m _global_backward_hooks\n\u001b[1;32m   1500\u001b[0m         \u001b[38;5;129;01mor\u001b[39;00m _global_forward_hooks \u001b[38;5;129;01mor\u001b[39;00m _global_forward_pre_hooks):\n\u001b[0;32m-> 1501\u001b[0m     \u001b[38;5;28;01mreturn\u001b[39;00m \u001b[43mforward_call\u001b[49m\u001b[43m(\u001b[49m\u001b[38;5;241;43m*\u001b[39;49m\u001b[43margs\u001b[49m\u001b[43m,\u001b[49m\u001b[43m \u001b[49m\u001b[38;5;241;43m*\u001b[39;49m\u001b[38;5;241;43m*\u001b[39;49m\u001b[43mkwargs\u001b[49m\u001b[43m)\u001b[49m\n\u001b[1;32m   1502\u001b[0m \u001b[38;5;66;03m# Do not call functions when jit is used\u001b[39;00m\n\u001b[1;32m   1503\u001b[0m full_backward_hooks, non_full_backward_hooks \u001b[38;5;241m=\u001b[39m [], []\n",
      "File \u001b[0;32m~/anaconda3/envs/ModelEnv/lib/python3.10/site-packages/torch/nn/modules/upsampling.py:156\u001b[0m, in \u001b[0;36mUpsample.forward\u001b[0;34m(self, input)\u001b[0m\n\u001b[1;32m    155\u001b[0m \u001b[38;5;28;01mdef\u001b[39;00m \u001b[38;5;21mforward\u001b[39m(\u001b[38;5;28mself\u001b[39m, \u001b[38;5;28minput\u001b[39m: Tensor) \u001b[38;5;241m-\u001b[39m\u001b[38;5;241m>\u001b[39m Tensor:\n\u001b[0;32m--> 156\u001b[0m     \u001b[38;5;28;01mreturn\u001b[39;00m \u001b[43mF\u001b[49m\u001b[38;5;241;43m.\u001b[39;49m\u001b[43minterpolate\u001b[49m\u001b[43m(\u001b[49m\u001b[38;5;28;43minput\u001b[39;49m\u001b[43m,\u001b[49m\u001b[43m \u001b[49m\u001b[38;5;28;43mself\u001b[39;49m\u001b[38;5;241;43m.\u001b[39;49m\u001b[43msize\u001b[49m\u001b[43m,\u001b[49m\u001b[43m \u001b[49m\u001b[38;5;28;43mself\u001b[39;49m\u001b[38;5;241;43m.\u001b[39;49m\u001b[43mscale_factor\u001b[49m\u001b[43m,\u001b[49m\u001b[43m \u001b[49m\u001b[38;5;28;43mself\u001b[39;49m\u001b[38;5;241;43m.\u001b[39;49m\u001b[43mmode\u001b[49m\u001b[43m,\u001b[49m\u001b[43m \u001b[49m\u001b[38;5;28;43mself\u001b[39;49m\u001b[38;5;241;43m.\u001b[39;49m\u001b[43malign_corners\u001b[49m\u001b[43m,\u001b[49m\n\u001b[1;32m    157\u001b[0m \u001b[43m                         \u001b[49m\u001b[43mrecompute_scale_factor\u001b[49m\u001b[38;5;241;43m=\u001b[39;49m\u001b[38;5;28;43mself\u001b[39;49m\u001b[38;5;241;43m.\u001b[39;49m\u001b[43mrecompute_scale_factor\u001b[49m\u001b[43m)\u001b[49m\n",
      "File \u001b[0;32m~/anaconda3/envs/ModelEnv/lib/python3.10/site-packages/torch/nn/functional.py:3931\u001b[0m, in \u001b[0;36minterpolate\u001b[0;34m(input, size, scale_factor, mode, align_corners, recompute_scale_factor, antialias)\u001b[0m\n\u001b[1;32m   3929\u001b[0m     \u001b[38;5;28;01mreturn\u001b[39;00m torch\u001b[38;5;241m.\u001b[39m_C\u001b[38;5;241m.\u001b[39m_nn\u001b[38;5;241m.\u001b[39mupsample_nearest1d(\u001b[38;5;28minput\u001b[39m, output_size, scale_factors)\n\u001b[1;32m   3930\u001b[0m \u001b[38;5;28;01mif\u001b[39;00m \u001b[38;5;28minput\u001b[39m\u001b[38;5;241m.\u001b[39mdim() \u001b[38;5;241m==\u001b[39m \u001b[38;5;241m4\u001b[39m \u001b[38;5;129;01mand\u001b[39;00m mode \u001b[38;5;241m==\u001b[39m \u001b[38;5;124m\"\u001b[39m\u001b[38;5;124mnearest\u001b[39m\u001b[38;5;124m\"\u001b[39m:\n\u001b[0;32m-> 3931\u001b[0m     \u001b[38;5;28;01mreturn\u001b[39;00m \u001b[43mtorch\u001b[49m\u001b[38;5;241;43m.\u001b[39;49m\u001b[43m_C\u001b[49m\u001b[38;5;241;43m.\u001b[39;49m\u001b[43m_nn\u001b[49m\u001b[38;5;241;43m.\u001b[39;49m\u001b[43mupsample_nearest2d\u001b[49m\u001b[43m(\u001b[49m\u001b[38;5;28;43minput\u001b[39;49m\u001b[43m,\u001b[49m\u001b[43m \u001b[49m\u001b[43moutput_size\u001b[49m\u001b[43m,\u001b[49m\u001b[43m \u001b[49m\u001b[43mscale_factors\u001b[49m\u001b[43m)\u001b[49m\n\u001b[1;32m   3932\u001b[0m \u001b[38;5;28;01mif\u001b[39;00m \u001b[38;5;28minput\u001b[39m\u001b[38;5;241m.\u001b[39mdim() \u001b[38;5;241m==\u001b[39m \u001b[38;5;241m5\u001b[39m \u001b[38;5;129;01mand\u001b[39;00m mode \u001b[38;5;241m==\u001b[39m \u001b[38;5;124m\"\u001b[39m\u001b[38;5;124mnearest\u001b[39m\u001b[38;5;124m\"\u001b[39m:\n\u001b[1;32m   3933\u001b[0m     \u001b[38;5;28;01mreturn\u001b[39;00m torch\u001b[38;5;241m.\u001b[39m_C\u001b[38;5;241m.\u001b[39m_nn\u001b[38;5;241m.\u001b[39mupsample_nearest3d(\u001b[38;5;28minput\u001b[39m, output_size, scale_factors)\n",
      "\u001b[0;31mKeyboardInterrupt\u001b[0m: "
     ]
    }
   ],
   "source": [
    "import os\n",
    "import cv2\n",
    "import numpy as np\n",
    "\n",
    "for action in actions:\n",
    "  # Create path to the current class folder\n",
    "  class_path = os.path.join(data_path, action)\n",
    "  sequence_num = 0\n",
    "\n",
    "  # Loop through all video files in the class folder\n",
    "  for filename in os.listdir(class_path):\n",
    "     # Check if it's a video file\n",
    "    video_path = os.path.join(class_path, filename)\n",
    "    \n",
    "\n",
    "    # Open video capture object\n",
    "    cap = cv2.VideoCapture(video_path)\n",
    "\n",
    "    # Loop through frames in the video\n",
    "    for frame_num in range(sequence_length):\n",
    "      ret, frame = cap.read()\n",
    "\n",
    "\n",
    "      # (Replace with your pose estimation model logic here)\n",
    "      # This part would process the frame using your model and extract keypoints\n",
    "\n",
    "      # Assuming you have keypoints data in a variable called \"keypoints\"\n",
    "      # Flatten keypoints\n",
    "      results = modelpose.predict(frame)\n",
    "      print(\"Keypoints shape before flattening:\", results[0].keypoints.xyn.shape)\n",
    "\n",
    "      # Flatten keypoints\n",
    "      if len(results) > 0 and results[0] is not None and len(results[0]) > 0 and results[0][0].keypoints.xyn is not None:\n",
    "          # Flatten keypoints\n",
    "          keypoints = np.array(results[0][0].keypoints.xyn).flatten()\n",
    "      else:\n",
    "          # If no keypoints detected, create an empty numpy array of shape (34, 0)\n",
    "          keypoints = np.zeros((34,))\n",
    "      # Print shape after flattening\n",
    "      print(\"Keypoints shape after flattening:\", keypoints.shape)\n",
    "\n",
    "\n",
    "      # Construct filepath based on class and sequence number\n",
    "      npy_path = os.path.join(DATA_PATH,action ,str(sequence_num), str(frame_num) + \".npy\")\n",
    "\n",
    "      # Save flattened keypoints\n",
    "      np.save(npy_path, keypoints)\n",
    "      print(f\"saved to {npy_path}\")\n",
    "\n",
    "      # Release video capture object\n",
    "      cap.release()\n",
    "\n",
    "      # Increment sequence counter for next video\n",
    "    sequence_num += 1\n",
    "\n",
    "print(\"Keypoint extraction completed for all videos!\")\n"
   ]
  },
  {
   "cell_type": "code",
   "execution_count": 4,
   "metadata": {},
   "outputs": [
    {
     "name": "stderr",
     "output_type": "stream",
     "text": [
      "2024-04-05 11:19:08.913949: E external/local_xla/xla/stream_executor/cuda/cuda_dnn.cc:9261] Unable to register cuDNN factory: Attempting to register factory for plugin cuDNN when one has already been registered\n",
      "2024-04-05 11:19:08.914003: E external/local_xla/xla/stream_executor/cuda/cuda_fft.cc:607] Unable to register cuFFT factory: Attempting to register factory for plugin cuFFT when one has already been registered\n",
      "2024-04-05 11:19:08.945212: E external/local_xla/xla/stream_executor/cuda/cuda_blas.cc:1515] Unable to register cuBLAS factory: Attempting to register factory for plugin cuBLAS when one has already been registered\n"
     ]
    }
   ],
   "source": [
    "from sklearn.model_selection import train_test_split\n",
    "from tensorflow.keras.utils import to_categorical"
   ]
  },
  {
   "cell_type": "code",
   "execution_count": 5,
   "metadata": {},
   "outputs": [],
   "source": [
    "label_map = {label:num for num, label in enumerate(actions)}"
   ]
  },
  {
   "cell_type": "code",
   "execution_count": 6,
   "metadata": {},
   "outputs": [
    {
     "data": {
      "text/plain": [
       "{'running': 0,\n",
       " 'standing': 1,\n",
       " 'sitting': 2,\n",
       " 'jumping': 3,\n",
       " 'walking': 4,\n",
       " 'squat': 5}"
      ]
     },
     "execution_count": 6,
     "metadata": {},
     "output_type": "execute_result"
    }
   ],
   "source": [
    "label_map"
   ]
  },
  {
   "cell_type": "code",
   "execution_count": 7,
   "metadata": {},
   "outputs": [],
   "source": [
    "sequences, labels = [], []\n",
    "for action in actions:\n",
    "    for sequence in range(no_sequences):\n",
    "        window = []\n",
    "        for frame_num in range(sequence_length):\n",
    "            res = np.load(os.path.join(DATA_PATH, action, str(sequence), \"{}.npy\".format(frame_num)))\n",
    "            window.append(res)\n",
    "        sequences.append(window)\n",
    "        labels.append(label_map[action])"
   ]
  },
  {
   "cell_type": "code",
   "execution_count": 8,
   "metadata": {},
   "outputs": [
    {
     "data": {
      "text/plain": [
       "(240, 30, 34)"
      ]
     },
     "execution_count": 8,
     "metadata": {},
     "output_type": "execute_result"
    }
   ],
   "source": [
    "np.array(sequences).shape"
   ]
  },
  {
   "cell_type": "code",
   "execution_count": 9,
   "metadata": {},
   "outputs": [
    {
     "data": {
      "text/plain": [
       "(240,)"
      ]
     },
     "execution_count": 9,
     "metadata": {},
     "output_type": "execute_result"
    }
   ],
   "source": [
    "np.array(labels).shape"
   ]
  },
  {
   "cell_type": "code",
   "execution_count": 10,
   "metadata": {},
   "outputs": [],
   "source": [
    "X = np.array(sequences)"
   ]
  },
  {
   "cell_type": "code",
   "execution_count": 11,
   "metadata": {},
   "outputs": [
    {
     "data": {
      "text/plain": [
       "(240, 30, 34)"
      ]
     },
     "execution_count": 11,
     "metadata": {},
     "output_type": "execute_result"
    }
   ],
   "source": [
    "X.shape\n"
   ]
  },
  {
   "cell_type": "code",
   "execution_count": 12,
   "metadata": {},
   "outputs": [
    {
     "data": {
      "text/plain": [
       "array([[1, 0, 0, 0, 0, 0],\n",
       "       [1, 0, 0, 0, 0, 0],\n",
       "       [1, 0, 0, 0, 0, 0],\n",
       "       ...,\n",
       "       [0, 0, 0, 0, 0, 1],\n",
       "       [0, 0, 0, 0, 0, 1],\n",
       "       [0, 0, 0, 0, 0, 1]])"
      ]
     },
     "execution_count": 12,
     "metadata": {},
     "output_type": "execute_result"
    }
   ],
   "source": [
    "y = to_categorical(labels).astype(int)\n",
    "y"
   ]
  },
  {
   "cell_type": "code",
   "execution_count": 13,
   "metadata": {},
   "outputs": [],
   "source": [
    "X_train, X_test, y_train, y_test = train_test_split(X, y, test_size=0.2)"
   ]
  },
  {
   "cell_type": "code",
   "execution_count": 14,
   "metadata": {},
   "outputs": [
    {
     "data": {
      "text/plain": [
       "(48, 6)"
      ]
     },
     "execution_count": 14,
     "metadata": {},
     "output_type": "execute_result"
    }
   ],
   "source": [
    "y_test.shape"
   ]
  },
  {
   "cell_type": "code",
   "execution_count": 15,
   "metadata": {},
   "outputs": [
    {
     "data": {
      "text/plain": [
       "(192, 30, 34)"
      ]
     },
     "execution_count": 15,
     "metadata": {},
     "output_type": "execute_result"
    }
   ],
   "source": [
    "X_train.shape"
   ]
  },
  {
   "cell_type": "code",
   "execution_count": 16,
   "metadata": {},
   "outputs": [
    {
     "data": {
      "text/plain": [
       "(48, 30, 34)"
      ]
     },
     "execution_count": 16,
     "metadata": {},
     "output_type": "execute_result"
    }
   ],
   "source": [
    "X_test.shape\n"
   ]
  },
  {
   "cell_type": "code",
   "execution_count": 17,
   "metadata": {},
   "outputs": [],
   "source": [
    "from tensorflow.keras.models import Sequential\n",
    "from tensorflow.keras.layers import LSTM, Dense\n",
    "from tensorflow.keras.callbacks import TensorBoard"
   ]
  },
  {
   "cell_type": "code",
   "execution_count": 18,
   "metadata": {},
   "outputs": [],
   "source": [
    "log_dir = os.path.join('Logs')\n",
    "tb_callback = TensorBoard(log_dir=log_dir)"
   ]
  },
  {
   "cell_type": "code",
   "execution_count": 19,
   "metadata": {},
   "outputs": [],
   "source": [
    "model = Sequential()\n",
    "model.add(LSTM(64, return_sequences=True, activation='relu', input_shape=(30,34)))\n",
    "model.add(LSTM(128, return_sequences=True, activation='relu'))\n",
    "model.add(LSTM(64, return_sequences=False, activation='relu'))\n",
    "model.add(Dense(64, activation='relu'))\n",
    "model.add(Dense(32, activation='relu'))\n",
    "model.add(Dense(actions.shape[0], activation='softmax'))"
   ]
  },
  {
   "cell_type": "code",
   "execution_count": 20,
   "metadata": {},
   "outputs": [],
   "source": [
    "model.compile(optimizer='Adam', loss='categorical_crossentropy', metrics=['categorical_accuracy'])"
   ]
  },
  {
   "cell_type": "code",
   "execution_count": 22,
   "metadata": {},
   "outputs": [
    {
     "name": "stdout",
     "output_type": "stream",
     "text": [
      "Epoch 1/1000\n",
      "6/6 [==============================] - 0s 30ms/step - loss: 1.1720 - categorical_accuracy: 0.5156\n",
      "Epoch 2/1000\n",
      "6/6 [==============================] - 0s 30ms/step - loss: 1.3038 - categorical_accuracy: 0.4948\n",
      "Epoch 3/1000\n",
      "6/6 [==============================] - 0s 29ms/step - loss: 1.3027 - categorical_accuracy: 0.4896\n",
      "Epoch 4/1000\n",
      "6/6 [==============================] - 0s 30ms/step - loss: 1.1847 - categorical_accuracy: 0.5521\n",
      "Epoch 5/1000\n",
      "6/6 [==============================] - 0s 31ms/step - loss: 1.1566 - categorical_accuracy: 0.5312\n",
      "Epoch 6/1000\n",
      "6/6 [==============================] - 0s 32ms/step - loss: 1.1629 - categorical_accuracy: 0.5365\n",
      "Epoch 7/1000\n",
      "6/6 [==============================] - 0s 28ms/step - loss: 1.1607 - categorical_accuracy: 0.5573\n",
      "Epoch 8/1000\n",
      "6/6 [==============================] - 0s 30ms/step - loss: 1.3547 - categorical_accuracy: 0.4844\n",
      "Epoch 9/1000\n",
      "6/6 [==============================] - 0s 31ms/step - loss: 1.5270 - categorical_accuracy: 0.3802\n",
      "Epoch 10/1000\n",
      "6/6 [==============================] - 0s 32ms/step - loss: 1.4685 - categorical_accuracy: 0.4062\n",
      "Epoch 11/1000\n",
      "6/6 [==============================] - 0s 30ms/step - loss: 1.4648 - categorical_accuracy: 0.3802\n",
      "Epoch 12/1000\n",
      "6/6 [==============================] - 0s 29ms/step - loss: 1.3518 - categorical_accuracy: 0.4635\n",
      "Epoch 13/1000\n",
      "6/6 [==============================] - 0s 32ms/step - loss: 1.3373 - categorical_accuracy: 0.4219\n",
      "Epoch 14/1000\n",
      "6/6 [==============================] - 0s 24ms/step - loss: 1.2840 - categorical_accuracy: 0.4688\n",
      "Epoch 15/1000\n",
      "6/6 [==============================] - 0s 25ms/step - loss: 1.2668 - categorical_accuracy: 0.4740\n",
      "Epoch 16/1000\n",
      "6/6 [==============================] - 0s 28ms/step - loss: 1.2565 - categorical_accuracy: 0.4792\n",
      "Epoch 17/1000\n",
      "6/6 [==============================] - 0s 29ms/step - loss: 1.2526 - categorical_accuracy: 0.4635\n",
      "Epoch 18/1000\n",
      "6/6 [==============================] - 0s 35ms/step - loss: 1.2840 - categorical_accuracy: 0.4792\n",
      "Epoch 19/1000\n",
      "6/6 [==============================] - 0s 24ms/step - loss: 1.2482 - categorical_accuracy: 0.4948\n",
      "Epoch 20/1000\n",
      "6/6 [==============================] - 0s 29ms/step - loss: 1.2571 - categorical_accuracy: 0.4740\n",
      "Epoch 21/1000\n",
      "6/6 [==============================] - 0s 26ms/step - loss: 1.2414 - categorical_accuracy: 0.4635\n",
      "Epoch 22/1000\n",
      "6/6 [==============================] - 0s 27ms/step - loss: 1.2478 - categorical_accuracy: 0.4479\n",
      "Epoch 23/1000\n",
      "6/6 [==============================] - 0s 27ms/step - loss: 1.2967 - categorical_accuracy: 0.4635\n",
      "Epoch 24/1000\n",
      "6/6 [==============================] - 0s 32ms/step - loss: 1.2317 - categorical_accuracy: 0.4583\n",
      "Epoch 25/1000\n",
      "6/6 [==============================] - 0s 35ms/step - loss: 1.2103 - categorical_accuracy: 0.5469\n",
      "Epoch 26/1000\n",
      "6/6 [==============================] - 0s 27ms/step - loss: 1.2078 - categorical_accuracy: 0.5000\n",
      "Epoch 27/1000\n",
      "6/6 [==============================] - 0s 25ms/step - loss: 1.2203 - categorical_accuracy: 0.5104\n",
      "Epoch 28/1000\n",
      "6/6 [==============================] - 0s 26ms/step - loss: 1.1875 - categorical_accuracy: 0.4948\n",
      "Epoch 29/1000\n",
      "6/6 [==============================] - 0s 26ms/step - loss: 1.1760 - categorical_accuracy: 0.4948\n",
      "Epoch 30/1000\n",
      "6/6 [==============================] - 0s 28ms/step - loss: 1.1895 - categorical_accuracy: 0.5365\n",
      "Epoch 31/1000\n",
      "6/6 [==============================] - 0s 35ms/step - loss: 1.1470 - categorical_accuracy: 0.5208\n",
      "Epoch 32/1000\n",
      "6/6 [==============================] - 0s 29ms/step - loss: 1.1445 - categorical_accuracy: 0.5260\n",
      "Epoch 33/1000\n",
      "6/6 [==============================] - 0s 38ms/step - loss: 1.1189 - categorical_accuracy: 0.5521\n",
      "Epoch 34/1000\n",
      "6/6 [==============================] - 0s 31ms/step - loss: 1.1544 - categorical_accuracy: 0.5156\n",
      "Epoch 35/1000\n",
      "6/6 [==============================] - 0s 26ms/step - loss: 1.1140 - categorical_accuracy: 0.5417\n",
      "Epoch 36/1000\n",
      "6/6 [==============================] - 0s 24ms/step - loss: 1.1201 - categorical_accuracy: 0.5417\n",
      "Epoch 37/1000\n",
      "6/6 [==============================] - 0s 30ms/step - loss: 1.1180 - categorical_accuracy: 0.5469\n",
      "Epoch 38/1000\n",
      "6/6 [==============================] - 0s 24ms/step - loss: 1.1032 - categorical_accuracy: 0.5417\n",
      "Epoch 39/1000\n",
      "6/6 [==============================] - 0s 25ms/step - loss: 1.0964 - categorical_accuracy: 0.5521\n",
      "Epoch 40/1000\n",
      "6/6 [==============================] - 0s 34ms/step - loss: 1.1219 - categorical_accuracy: 0.5417\n",
      "Epoch 41/1000\n",
      "6/6 [==============================] - 0s 24ms/step - loss: 1.1171 - categorical_accuracy: 0.5521\n",
      "Epoch 42/1000\n",
      "6/6 [==============================] - 0s 24ms/step - loss: 1.1174 - categorical_accuracy: 0.5469\n",
      "Epoch 43/1000\n",
      "6/6 [==============================] - 0s 28ms/step - loss: 1.1411 - categorical_accuracy: 0.5000\n",
      "Epoch 44/1000\n",
      "6/6 [==============================] - 0s 24ms/step - loss: 1.1445 - categorical_accuracy: 0.5625\n",
      "Epoch 45/1000\n",
      "6/6 [==============================] - 0s 24ms/step - loss: 1.0776 - categorical_accuracy: 0.5573\n",
      "Epoch 46/1000\n",
      "6/6 [==============================] - 0s 32ms/step - loss: 1.0646 - categorical_accuracy: 0.5521\n",
      "Epoch 47/1000\n",
      "6/6 [==============================] - 0s 24ms/step - loss: 1.0730 - categorical_accuracy: 0.5781\n",
      "Epoch 48/1000\n",
      "6/6 [==============================] - 0s 24ms/step - loss: 1.0553 - categorical_accuracy: 0.5573\n",
      "Epoch 49/1000\n",
      "6/6 [==============================] - 0s 24ms/step - loss: 1.0888 - categorical_accuracy: 0.5573\n",
      "Epoch 50/1000\n",
      "6/6 [==============================] - 0s 24ms/step - loss: 1.1255 - categorical_accuracy: 0.5365\n",
      "Epoch 51/1000\n",
      "6/6 [==============================] - 0s 29ms/step - loss: 1.1601 - categorical_accuracy: 0.5208\n",
      "Epoch 52/1000\n",
      "6/6 [==============================] - 0s 27ms/step - loss: 1.1472 - categorical_accuracy: 0.5365\n",
      "Epoch 53/1000\n",
      "6/6 [==============================] - 0s 34ms/step - loss: 1.1434 - categorical_accuracy: 0.5312\n",
      "Epoch 54/1000\n",
      "6/6 [==============================] - 0s 30ms/step - loss: 1.1652 - categorical_accuracy: 0.5260\n",
      "Epoch 55/1000\n",
      "6/6 [==============================] - 0s 25ms/step - loss: 1.1829 - categorical_accuracy: 0.5052\n",
      "Epoch 56/1000\n",
      "6/6 [==============================] - 0s 24ms/step - loss: 1.1420 - categorical_accuracy: 0.5365\n",
      "Epoch 57/1000\n",
      "6/6 [==============================] - 0s 25ms/step - loss: 1.1126 - categorical_accuracy: 0.5729\n",
      "Epoch 58/1000\n",
      "6/6 [==============================] - 0s 25ms/step - loss: 1.0819 - categorical_accuracy: 0.5521\n",
      "Epoch 59/1000\n",
      "6/6 [==============================] - 0s 30ms/step - loss: 1.0440 - categorical_accuracy: 0.5781\n",
      "Epoch 60/1000\n",
      "6/6 [==============================] - 0s 25ms/step - loss: 1.0942 - categorical_accuracy: 0.5417\n",
      "Epoch 61/1000\n",
      "6/6 [==============================] - 0s 26ms/step - loss: 1.0634 - categorical_accuracy: 0.5990\n",
      "Epoch 62/1000\n",
      "6/6 [==============================] - 0s 27ms/step - loss: 1.0521 - categorical_accuracy: 0.6042\n",
      "Epoch 63/1000\n",
      "6/6 [==============================] - 0s 28ms/step - loss: 1.1396 - categorical_accuracy: 0.5573\n",
      "Epoch 64/1000\n",
      "6/6 [==============================] - 0s 25ms/step - loss: 1.1571 - categorical_accuracy: 0.5521\n",
      "Epoch 65/1000\n",
      "6/6 [==============================] - 0s 25ms/step - loss: 1.1379 - categorical_accuracy: 0.5469\n",
      "Epoch 66/1000\n",
      "6/6 [==============================] - 0s 29ms/step - loss: 1.1058 - categorical_accuracy: 0.5625\n",
      "Epoch 67/1000\n",
      "6/6 [==============================] - 0s 27ms/step - loss: 1.0451 - categorical_accuracy: 0.5990\n",
      "Epoch 68/1000\n",
      "6/6 [==============================] - 0s 31ms/step - loss: 1.0385 - categorical_accuracy: 0.5885\n",
      "Epoch 69/1000\n",
      "6/6 [==============================] - 0s 40ms/step - loss: 1.0298 - categorical_accuracy: 0.6146\n",
      "Epoch 70/1000\n",
      "6/6 [==============================] - 0s 25ms/step - loss: 1.0356 - categorical_accuracy: 0.6094\n",
      "Epoch 71/1000\n",
      "6/6 [==============================] - 0s 24ms/step - loss: 1.0638 - categorical_accuracy: 0.5885\n",
      "Epoch 72/1000\n",
      "6/6 [==============================] - 0s 24ms/step - loss: 1.3100 - categorical_accuracy: 0.4688\n",
      "Epoch 73/1000\n",
      "6/6 [==============================] - 0s 24ms/step - loss: 1.2705 - categorical_accuracy: 0.5312\n",
      "Epoch 74/1000\n",
      "6/6 [==============================] - 0s 27ms/step - loss: 1.1901 - categorical_accuracy: 0.5365\n",
      "Epoch 75/1000\n",
      "6/6 [==============================] - 0s 25ms/step - loss: 1.1380 - categorical_accuracy: 0.5312\n",
      "Epoch 76/1000\n",
      "6/6 [==============================] - 0s 25ms/step - loss: 1.1542 - categorical_accuracy: 0.5208\n",
      "Epoch 77/1000\n",
      "6/6 [==============================] - 0s 26ms/step - loss: 1.1031 - categorical_accuracy: 0.5469\n",
      "Epoch 78/1000\n",
      "6/6 [==============================] - 0s 28ms/step - loss: 1.0389 - categorical_accuracy: 0.5781\n",
      "Epoch 79/1000\n",
      "6/6 [==============================] - 0s 24ms/step - loss: 1.0490 - categorical_accuracy: 0.6042\n",
      "Epoch 80/1000\n",
      "6/6 [==============================] - 0s 24ms/step - loss: 1.0227 - categorical_accuracy: 0.5677\n",
      "Epoch 81/1000\n",
      "6/6 [==============================] - 0s 28ms/step - loss: 1.0447 - categorical_accuracy: 0.5885\n",
      "Epoch 82/1000\n",
      "6/6 [==============================] - 0s 25ms/step - loss: 1.0545 - categorical_accuracy: 0.5729\n",
      "Epoch 83/1000\n",
      "6/6 [==============================] - 0s 24ms/step - loss: 1.0647 - categorical_accuracy: 0.5677\n",
      "Epoch 84/1000\n",
      "6/6 [==============================] - 0s 24ms/step - loss: 1.0502 - categorical_accuracy: 0.5938\n",
      "Epoch 85/1000\n",
      "6/6 [==============================] - 0s 25ms/step - loss: 1.0604 - categorical_accuracy: 0.5885\n",
      "Epoch 86/1000\n",
      "6/6 [==============================] - 0s 24ms/step - loss: 0.9839 - categorical_accuracy: 0.6198\n",
      "Epoch 87/1000\n",
      "6/6 [==============================] - 0s 26ms/step - loss: 1.0068 - categorical_accuracy: 0.6198\n",
      "Epoch 88/1000\n",
      "6/6 [==============================] - 0s 32ms/step - loss: 0.9743 - categorical_accuracy: 0.6302\n",
      "Epoch 89/1000\n",
      "6/6 [==============================] - 0s 39ms/step - loss: 0.9797 - categorical_accuracy: 0.5938\n",
      "Epoch 90/1000\n",
      "6/6 [==============================] - 0s 26ms/step - loss: 1.0437 - categorical_accuracy: 0.6042\n",
      "Epoch 91/1000\n",
      "6/6 [==============================] - 0s 27ms/step - loss: 1.0403 - categorical_accuracy: 0.5990\n",
      "Epoch 92/1000\n",
      "6/6 [==============================] - 0s 24ms/step - loss: 1.0460 - categorical_accuracy: 0.5885\n",
      "Epoch 93/1000\n",
      "6/6 [==============================] - 0s 24ms/step - loss: 1.0338 - categorical_accuracy: 0.6042\n",
      "Epoch 94/1000\n",
      "6/6 [==============================] - 0s 24ms/step - loss: 1.0063 - categorical_accuracy: 0.5938\n",
      "Epoch 95/1000\n",
      "6/6 [==============================] - 0s 30ms/step - loss: 0.9731 - categorical_accuracy: 0.6094\n",
      "Epoch 96/1000\n",
      "6/6 [==============================] - 0s 28ms/step - loss: 0.9823 - categorical_accuracy: 0.6354\n",
      "Epoch 97/1000\n",
      "6/6 [==============================] - 0s 24ms/step - loss: 1.0097 - categorical_accuracy: 0.6094\n",
      "Epoch 98/1000\n",
      "6/6 [==============================] - 0s 24ms/step - loss: 0.9792 - categorical_accuracy: 0.6198\n",
      "Epoch 99/1000\n",
      "6/6 [==============================] - 0s 24ms/step - loss: 0.9662 - categorical_accuracy: 0.6458\n",
      "Epoch 100/1000\n",
      "6/6 [==============================] - 0s 24ms/step - loss: 1.0246 - categorical_accuracy: 0.6042\n",
      "Epoch 101/1000\n",
      "6/6 [==============================] - 0s 24ms/step - loss: 1.0093 - categorical_accuracy: 0.6042\n",
      "Epoch 102/1000\n",
      "6/6 [==============================] - 0s 24ms/step - loss: 1.0477 - categorical_accuracy: 0.5729\n",
      "Epoch 103/1000\n",
      "6/6 [==============================] - 0s 28ms/step - loss: 1.0089 - categorical_accuracy: 0.6146\n",
      "Epoch 104/1000\n",
      "6/6 [==============================] - 0s 37ms/step - loss: 0.9828 - categorical_accuracy: 0.6094\n",
      "Epoch 105/1000\n",
      "6/6 [==============================] - 0s 31ms/step - loss: 0.9591 - categorical_accuracy: 0.6406\n",
      "Epoch 106/1000\n",
      "6/6 [==============================] - 0s 25ms/step - loss: 0.9496 - categorical_accuracy: 0.6458\n",
      "Epoch 107/1000\n",
      "6/6 [==============================] - 0s 25ms/step - loss: 0.9649 - categorical_accuracy: 0.6250\n",
      "Epoch 108/1000\n",
      "6/6 [==============================] - 0s 24ms/step - loss: 1.0804 - categorical_accuracy: 0.5312\n",
      "Epoch 109/1000\n",
      "6/6 [==============================] - 0s 25ms/step - loss: 1.0670 - categorical_accuracy: 0.5885\n",
      "Epoch 110/1000\n",
      "6/6 [==============================] - 0s 24ms/step - loss: 1.0055 - categorical_accuracy: 0.5885\n",
      "Epoch 111/1000\n",
      "6/6 [==============================] - 0s 24ms/step - loss: 0.9858 - categorical_accuracy: 0.6302\n",
      "Epoch 112/1000\n",
      "6/6 [==============================] - 0s 24ms/step - loss: 1.1488 - categorical_accuracy: 0.5885\n",
      "Epoch 113/1000\n",
      "6/6 [==============================] - 0s 28ms/step - loss: 1.2730 - categorical_accuracy: 0.5052\n",
      "Epoch 114/1000\n",
      "6/6 [==============================] - 0s 25ms/step - loss: 1.2414 - categorical_accuracy: 0.5104\n",
      "Epoch 115/1000\n",
      "6/6 [==============================] - 0s 25ms/step - loss: 1.1164 - categorical_accuracy: 0.5729\n",
      "Epoch 116/1000\n",
      "6/6 [==============================] - 0s 24ms/step - loss: 1.0663 - categorical_accuracy: 0.5938\n",
      "Epoch 117/1000\n",
      "6/6 [==============================] - 0s 24ms/step - loss: 1.0505 - categorical_accuracy: 0.5833\n",
      "Epoch 118/1000\n",
      "6/6 [==============================] - 0s 25ms/step - loss: 1.0758 - categorical_accuracy: 0.6042\n",
      "Epoch 119/1000\n",
      "6/6 [==============================] - 0s 24ms/step - loss: 1.0589 - categorical_accuracy: 0.5729\n",
      "Epoch 120/1000\n",
      "6/6 [==============================] - 0s 29ms/step - loss: 0.9936 - categorical_accuracy: 0.6146\n",
      "Epoch 121/1000\n",
      "6/6 [==============================] - 0s 29ms/step - loss: 0.9792 - categorical_accuracy: 0.5833\n",
      "Epoch 122/1000\n",
      "6/6 [==============================] - 0s 24ms/step - loss: 0.9933 - categorical_accuracy: 0.6094\n",
      "Epoch 123/1000\n",
      "6/6 [==============================] - 0s 24ms/step - loss: 1.0287 - categorical_accuracy: 0.5885\n",
      "Epoch 124/1000\n",
      "6/6 [==============================] - 0s 27ms/step - loss: 1.0120 - categorical_accuracy: 0.5990\n",
      "Epoch 125/1000\n",
      "6/6 [==============================] - 0s 32ms/step - loss: 1.0285 - categorical_accuracy: 0.5781\n",
      "Epoch 126/1000\n",
      "6/6 [==============================] - 0s 35ms/step - loss: 1.0007 - categorical_accuracy: 0.5990\n",
      "Epoch 127/1000\n",
      "6/6 [==============================] - 0s 26ms/step - loss: 0.9462 - categorical_accuracy: 0.6250\n",
      "Epoch 128/1000\n",
      "6/6 [==============================] - 0s 24ms/step - loss: 0.9655 - categorical_accuracy: 0.6510\n",
      "Epoch 129/1000\n",
      "6/6 [==============================] - 0s 24ms/step - loss: 1.0010 - categorical_accuracy: 0.6042\n",
      "Epoch 130/1000\n",
      "6/6 [==============================] - 0s 30ms/step - loss: 1.1625 - categorical_accuracy: 0.5729\n",
      "Epoch 131/1000\n",
      "6/6 [==============================] - 0s 27ms/step - loss: 1.2327 - categorical_accuracy: 0.4896\n",
      "Epoch 132/1000\n",
      "6/6 [==============================] - 0s 32ms/step - loss: 1.1000 - categorical_accuracy: 0.5938\n",
      "Epoch 133/1000\n",
      "6/6 [==============================] - 0s 34ms/step - loss: 1.0454 - categorical_accuracy: 0.5833\n",
      "Epoch 134/1000\n",
      "6/6 [==============================] - 0s 24ms/step - loss: 1.0292 - categorical_accuracy: 0.5938\n",
      "Epoch 135/1000\n",
      "6/6 [==============================] - 0s 25ms/step - loss: 1.0133 - categorical_accuracy: 0.6198\n",
      "Epoch 136/1000\n",
      "6/6 [==============================] - 0s 24ms/step - loss: 1.1421 - categorical_accuracy: 0.5312\n",
      "Epoch 137/1000\n",
      "6/6 [==============================] - 0s 25ms/step - loss: 1.0804 - categorical_accuracy: 0.5833\n",
      "Epoch 138/1000\n",
      "6/6 [==============================] - 0s 28ms/step - loss: 1.0593 - categorical_accuracy: 0.5885\n",
      "Epoch 139/1000\n",
      "6/6 [==============================] - 0s 24ms/step - loss: 1.0293 - categorical_accuracy: 0.5938\n",
      "Epoch 140/1000\n",
      "6/6 [==============================] - 0s 25ms/step - loss: 1.1170 - categorical_accuracy: 0.6042\n",
      "Epoch 141/1000\n",
      "6/6 [==============================] - 0s 28ms/step - loss: 1.1023 - categorical_accuracy: 0.5365\n",
      "Epoch 142/1000\n",
      "6/6 [==============================] - 0s 36ms/step - loss: 1.0428 - categorical_accuracy: 0.5677\n",
      "Epoch 143/1000\n",
      "6/6 [==============================] - 0s 31ms/step - loss: 1.0036 - categorical_accuracy: 0.6094\n",
      "Epoch 144/1000\n",
      "6/6 [==============================] - 0s 26ms/step - loss: 0.9623 - categorical_accuracy: 0.6198\n",
      "Epoch 145/1000\n",
      "6/6 [==============================] - 0s 28ms/step - loss: 0.9509 - categorical_accuracy: 0.6094\n",
      "Epoch 146/1000\n",
      "6/6 [==============================] - 0s 24ms/step - loss: 0.9176 - categorical_accuracy: 0.6250\n",
      "Epoch 147/1000\n",
      "6/6 [==============================] - 0s 28ms/step - loss: 0.9056 - categorical_accuracy: 0.6406\n",
      "Epoch 148/1000\n",
      "6/6 [==============================] - 0s 24ms/step - loss: 0.9191 - categorical_accuracy: 0.6510\n",
      "Epoch 149/1000\n",
      "6/6 [==============================] - 0s 24ms/step - loss: 0.9096 - categorical_accuracy: 0.6458\n",
      "Epoch 150/1000\n",
      "6/6 [==============================] - 0s 24ms/step - loss: 0.9112 - categorical_accuracy: 0.6458\n",
      "Epoch 151/1000\n",
      "6/6 [==============================] - 0s 26ms/step - loss: 0.8916 - categorical_accuracy: 0.6302\n",
      "Epoch 152/1000\n",
      "6/6 [==============================] - 0s 26ms/step - loss: 0.8824 - categorical_accuracy: 0.6562\n",
      "Epoch 153/1000\n",
      "6/6 [==============================] - 0s 26ms/step - loss: 0.8680 - categorical_accuracy: 0.6510\n",
      "Epoch 154/1000\n",
      "6/6 [==============================] - 0s 27ms/step - loss: 0.9307 - categorical_accuracy: 0.6510\n",
      "Epoch 155/1000\n",
      "6/6 [==============================] - 0s 26ms/step - loss: 0.8956 - categorical_accuracy: 0.6771\n",
      "Epoch 156/1000\n",
      "6/6 [==============================] - 0s 28ms/step - loss: 0.9118 - categorical_accuracy: 0.6146\n",
      "Epoch 157/1000\n",
      "6/6 [==============================] - 0s 37ms/step - loss: 0.8724 - categorical_accuracy: 0.6510\n",
      "Epoch 158/1000\n",
      "6/6 [==============================] - 0s 36ms/step - loss: 0.8698 - categorical_accuracy: 0.6510\n",
      "Epoch 159/1000\n",
      "6/6 [==============================] - 0s 40ms/step - loss: 0.8205 - categorical_accuracy: 0.6823\n",
      "Epoch 160/1000\n",
      "6/6 [==============================] - 0s 30ms/step - loss: 0.8739 - categorical_accuracy: 0.6510\n",
      "Epoch 161/1000\n",
      "6/6 [==============================] - 0s 30ms/step - loss: 0.8558 - categorical_accuracy: 0.6615\n",
      "Epoch 162/1000\n",
      "6/6 [==============================] - 0s 25ms/step - loss: 0.8590 - categorical_accuracy: 0.6615\n",
      "Epoch 163/1000\n",
      "6/6 [==============================] - 0s 25ms/step - loss: 0.8262 - categorical_accuracy: 0.6615\n",
      "Epoch 164/1000\n",
      "6/6 [==============================] - 0s 24ms/step - loss: 0.8536 - categorical_accuracy: 0.6458\n",
      "Epoch 165/1000\n",
      "6/6 [==============================] - 0s 26ms/step - loss: 1.0163 - categorical_accuracy: 0.6198\n",
      "Epoch 166/1000\n",
      "6/6 [==============================] - 0s 28ms/step - loss: 0.9292 - categorical_accuracy: 0.5938\n",
      "Epoch 167/1000\n",
      "6/6 [==============================] - 0s 25ms/step - loss: 0.8564 - categorical_accuracy: 0.6719\n",
      "Epoch 168/1000\n",
      "6/6 [==============================] - 0s 24ms/step - loss: 0.8513 - categorical_accuracy: 0.6771\n",
      "Epoch 169/1000\n",
      "6/6 [==============================] - 0s 24ms/step - loss: 0.8720 - categorical_accuracy: 0.6667\n",
      "Epoch 170/1000\n",
      "6/6 [==============================] - 0s 24ms/step - loss: 0.8929 - categorical_accuracy: 0.6302\n",
      "Epoch 171/1000\n",
      "6/6 [==============================] - 0s 25ms/step - loss: 0.8856 - categorical_accuracy: 0.6667\n",
      "Epoch 172/1000\n",
      "6/6 [==============================] - 0s 24ms/step - loss: 0.9026 - categorical_accuracy: 0.6354\n",
      "Epoch 173/1000\n",
      "6/6 [==============================] - 0s 25ms/step - loss: 0.9254 - categorical_accuracy: 0.6562\n",
      "Epoch 174/1000\n",
      "6/6 [==============================] - 0s 28ms/step - loss: 1.2937 - categorical_accuracy: 0.5000\n",
      "Epoch 175/1000\n",
      "6/6 [==============================] - 0s 26ms/step - loss: 1.3093 - categorical_accuracy: 0.4896\n",
      "Epoch 176/1000\n",
      "6/6 [==============================] - 0s 30ms/step - loss: 1.2369 - categorical_accuracy: 0.5104\n",
      "Epoch 177/1000\n",
      "6/6 [==============================] - 0s 37ms/step - loss: 1.2438 - categorical_accuracy: 0.4688\n",
      "Epoch 178/1000\n",
      "6/6 [==============================] - 0s 26ms/step - loss: 1.2199 - categorical_accuracy: 0.5208\n",
      "Epoch 179/1000\n",
      "6/6 [==============================] - 0s 24ms/step - loss: 1.1690 - categorical_accuracy: 0.5573\n",
      "Epoch 180/1000\n",
      "6/6 [==============================] - 0s 26ms/step - loss: 1.0940 - categorical_accuracy: 0.5833\n",
      "Epoch 181/1000\n",
      "6/6 [==============================] - 0s 34ms/step - loss: 1.0274 - categorical_accuracy: 0.5885\n",
      "Epoch 182/1000\n",
      "6/6 [==============================] - 0s 24ms/step - loss: 0.9447 - categorical_accuracy: 0.6042\n",
      "Epoch 183/1000\n",
      "6/6 [==============================] - 0s 24ms/step - loss: 0.9264 - categorical_accuracy: 0.6406\n",
      "Epoch 184/1000\n",
      "6/6 [==============================] - 0s 25ms/step - loss: 0.8887 - categorical_accuracy: 0.6562\n",
      "Epoch 185/1000\n",
      "6/6 [==============================] - 0s 25ms/step - loss: 0.8542 - categorical_accuracy: 0.6615\n",
      "Epoch 186/1000\n",
      "6/6 [==============================] - 0s 24ms/step - loss: 0.8237 - categorical_accuracy: 0.6927\n",
      "Epoch 187/1000\n",
      "6/6 [==============================] - 0s 28ms/step - loss: 0.8331 - categorical_accuracy: 0.6562\n",
      "Epoch 188/1000\n",
      "6/6 [==============================] - 0s 25ms/step - loss: 0.8607 - categorical_accuracy: 0.6667\n",
      "Epoch 189/1000\n",
      "6/6 [==============================] - 0s 24ms/step - loss: 0.8516 - categorical_accuracy: 0.6615\n",
      "Epoch 190/1000\n",
      "6/6 [==============================] - 0s 25ms/step - loss: 0.8316 - categorical_accuracy: 0.6667\n",
      "Epoch 191/1000\n",
      "6/6 [==============================] - 0s 24ms/step - loss: 0.9321 - categorical_accuracy: 0.6250\n",
      "Epoch 192/1000\n",
      "6/6 [==============================] - 0s 24ms/step - loss: 0.9092 - categorical_accuracy: 0.6406\n",
      "Epoch 193/1000\n",
      "6/6 [==============================] - 0s 26ms/step - loss: 0.8269 - categorical_accuracy: 0.6719\n",
      "Epoch 194/1000\n",
      "6/6 [==============================] - 0s 29ms/step - loss: 0.8475 - categorical_accuracy: 0.6562\n",
      "Epoch 195/1000\n",
      "6/6 [==============================] - 0s 38ms/step - loss: 0.8076 - categorical_accuracy: 0.6719\n",
      "Epoch 196/1000\n",
      "6/6 [==============================] - 0s 29ms/step - loss: 0.8491 - categorical_accuracy: 0.6719\n",
      "Epoch 197/1000\n",
      "6/6 [==============================] - 0s 24ms/step - loss: 0.8291 - categorical_accuracy: 0.6979\n",
      "Epoch 198/1000\n",
      "6/6 [==============================] - 0s 24ms/step - loss: 0.8867 - categorical_accuracy: 0.6094\n",
      "Epoch 199/1000\n",
      "6/6 [==============================] - 0s 27ms/step - loss: 0.8275 - categorical_accuracy: 0.6719\n",
      "Epoch 200/1000\n",
      "6/6 [==============================] - 0s 32ms/step - loss: 0.7915 - categorical_accuracy: 0.6823\n",
      "Epoch 201/1000\n",
      "6/6 [==============================] - 0s 32ms/step - loss: 0.8089 - categorical_accuracy: 0.6823\n",
      "Epoch 202/1000\n",
      "6/6 [==============================] - 0s 29ms/step - loss: 0.8053 - categorical_accuracy: 0.6823\n",
      "Epoch 203/1000\n",
      "6/6 [==============================] - 0s 33ms/step - loss: 0.8460 - categorical_accuracy: 0.6667\n",
      "Epoch 204/1000\n",
      "6/6 [==============================] - 0s 32ms/step - loss: 0.8650 - categorical_accuracy: 0.6406\n",
      "Epoch 205/1000\n",
      "6/6 [==============================] - 0s 27ms/step - loss: 0.9090 - categorical_accuracy: 0.6354\n",
      "Epoch 206/1000\n",
      "6/6 [==============================] - 0s 25ms/step - loss: 1.0205 - categorical_accuracy: 0.5885\n",
      "Epoch 207/1000\n",
      "6/6 [==============================] - 0s 24ms/step - loss: 0.9597 - categorical_accuracy: 0.6250\n",
      "Epoch 208/1000\n",
      "6/6 [==============================] - 0s 27ms/step - loss: 0.9385 - categorical_accuracy: 0.6354\n",
      "Epoch 209/1000\n",
      "6/6 [==============================] - 0s 24ms/step - loss: 0.9571 - categorical_accuracy: 0.6094\n",
      "Epoch 210/1000\n",
      "6/6 [==============================] - 0s 24ms/step - loss: 1.0431 - categorical_accuracy: 0.6302\n",
      "Epoch 211/1000\n",
      "6/6 [==============================] - 0s 24ms/step - loss: 1.0618 - categorical_accuracy: 0.5833\n",
      "Epoch 212/1000\n",
      "6/6 [==============================] - 0s 24ms/step - loss: 0.9188 - categorical_accuracy: 0.5938\n",
      "Epoch 213/1000\n",
      "6/6 [==============================] - 0s 24ms/step - loss: 0.8950 - categorical_accuracy: 0.6094\n",
      "Epoch 214/1000\n",
      "6/6 [==============================] - 0s 24ms/step - loss: 0.8737 - categorical_accuracy: 0.6771\n",
      "Epoch 215/1000\n",
      "6/6 [==============================] - 0s 27ms/step - loss: 0.8113 - categorical_accuracy: 0.6927\n",
      "Epoch 216/1000\n",
      "6/6 [==============================] - 0s 24ms/step - loss: 0.8223 - categorical_accuracy: 0.6510\n",
      "Epoch 217/1000\n",
      "6/6 [==============================] - 0s 25ms/step - loss: 0.7923 - categorical_accuracy: 0.6927\n",
      "Epoch 218/1000\n",
      "6/6 [==============================] - 0s 25ms/step - loss: 0.7578 - categorical_accuracy: 0.7188\n",
      "Epoch 219/1000\n",
      "6/6 [==============================] - 0s 31ms/step - loss: 0.8125 - categorical_accuracy: 0.6927\n",
      "Epoch 220/1000\n",
      "6/6 [==============================] - 0s 24ms/step - loss: 0.9106 - categorical_accuracy: 0.6510\n",
      "Epoch 221/1000\n",
      "6/6 [==============================] - 0s 24ms/step - loss: 0.8237 - categorical_accuracy: 0.6979\n",
      "Epoch 222/1000\n",
      "6/6 [==============================] - 0s 26ms/step - loss: 0.8691 - categorical_accuracy: 0.6458\n",
      "Epoch 223/1000\n",
      "6/6 [==============================] - 0s 28ms/step - loss: 0.8219 - categorical_accuracy: 0.6615\n",
      "Epoch 224/1000\n",
      "6/6 [==============================] - 0s 25ms/step - loss: 0.7552 - categorical_accuracy: 0.7031\n",
      "Epoch 225/1000\n",
      "6/6 [==============================] - 0s 24ms/step - loss: 0.8320 - categorical_accuracy: 0.6823\n",
      "Epoch 226/1000\n",
      "6/6 [==============================] - 0s 24ms/step - loss: 0.8615 - categorical_accuracy: 0.6458\n",
      "Epoch 227/1000\n",
      "6/6 [==============================] - 0s 24ms/step - loss: 0.9695 - categorical_accuracy: 0.6354\n",
      "Epoch 228/1000\n",
      "6/6 [==============================] - 0s 24ms/step - loss: 0.9142 - categorical_accuracy: 0.6458\n",
      "Epoch 229/1000\n",
      "6/6 [==============================] - 0s 24ms/step - loss: 0.7676 - categorical_accuracy: 0.6979\n",
      "Epoch 230/1000\n",
      "6/6 [==============================] - 0s 25ms/step - loss: 0.7770 - categorical_accuracy: 0.7083\n",
      "Epoch 231/1000\n",
      "6/6 [==============================] - 0s 28ms/step - loss: 0.7636 - categorical_accuracy: 0.7031\n",
      "Epoch 232/1000\n",
      "6/6 [==============================] - 0s 25ms/step - loss: 0.7297 - categorical_accuracy: 0.7083\n",
      "Epoch 233/1000\n",
      "6/6 [==============================] - 0s 25ms/step - loss: 0.6979 - categorical_accuracy: 0.7448\n",
      "Epoch 234/1000\n",
      "6/6 [==============================] - 0s 24ms/step - loss: 0.7287 - categorical_accuracy: 0.7083\n",
      "Epoch 235/1000\n",
      "6/6 [==============================] - 0s 25ms/step - loss: 0.6842 - categorical_accuracy: 0.7292\n",
      "Epoch 236/1000\n",
      "6/6 [==============================] - 0s 24ms/step - loss: 0.6622 - categorical_accuracy: 0.7552\n",
      "Epoch 237/1000\n",
      "6/6 [==============================] - 0s 24ms/step - loss: 0.6517 - categorical_accuracy: 0.7500\n",
      "Epoch 238/1000\n",
      "6/6 [==============================] - 0s 24ms/step - loss: 0.6689 - categorical_accuracy: 0.7448\n",
      "Epoch 239/1000\n",
      "6/6 [==============================] - 0s 34ms/step - loss: 0.7035 - categorical_accuracy: 0.7240\n",
      "Epoch 240/1000\n",
      "6/6 [==============================] - 0s 25ms/step - loss: 1.1349 - categorical_accuracy: 0.6250\n",
      "Epoch 241/1000\n",
      "6/6 [==============================] - 0s 24ms/step - loss: 0.9007 - categorical_accuracy: 0.6562\n",
      "Epoch 242/1000\n",
      "6/6 [==============================] - 0s 25ms/step - loss: 0.8074 - categorical_accuracy: 0.6979\n",
      "Epoch 243/1000\n",
      "6/6 [==============================] - 0s 25ms/step - loss: 0.8159 - categorical_accuracy: 0.7031\n",
      "Epoch 244/1000\n",
      "6/6 [==============================] - 0s 28ms/step - loss: 0.8343 - categorical_accuracy: 0.6875\n",
      "Epoch 245/1000\n",
      "6/6 [==============================] - 0s 24ms/step - loss: 0.8411 - categorical_accuracy: 0.6667\n",
      "Epoch 246/1000\n",
      "6/6 [==============================] - 0s 25ms/step - loss: 0.7787 - categorical_accuracy: 0.6562\n",
      "Epoch 247/1000\n",
      "6/6 [==============================] - 0s 24ms/step - loss: 0.7524 - categorical_accuracy: 0.7188\n",
      "Epoch 248/1000\n",
      "6/6 [==============================] - 0s 28ms/step - loss: 0.7182 - categorical_accuracy: 0.7396\n",
      "Epoch 249/1000\n",
      "6/6 [==============================] - 0s 25ms/step - loss: 0.7081 - categorical_accuracy: 0.7552\n",
      "Epoch 250/1000\n",
      "6/6 [==============================] - 0s 25ms/step - loss: 0.6631 - categorical_accuracy: 0.7396\n",
      "Epoch 251/1000\n",
      "6/6 [==============================] - 0s 25ms/step - loss: 0.6381 - categorical_accuracy: 0.7500\n",
      "Epoch 252/1000\n",
      "6/6 [==============================] - 0s 24ms/step - loss: 0.6897 - categorical_accuracy: 0.7135\n",
      "Epoch 253/1000\n",
      "6/6 [==============================] - 0s 24ms/step - loss: 0.6365 - categorical_accuracy: 0.7344\n",
      "Epoch 254/1000\n",
      "6/6 [==============================] - 0s 24ms/step - loss: 0.7256 - categorical_accuracy: 0.6823\n",
      "Epoch 255/1000\n",
      "6/6 [==============================] - 0s 24ms/step - loss: 0.6724 - categorical_accuracy: 0.7188\n",
      "Epoch 256/1000\n",
      "6/6 [==============================] - 0s 24ms/step - loss: 0.6590 - categorical_accuracy: 0.7552\n",
      "Epoch 257/1000\n",
      "6/6 [==============================] - 0s 30ms/step - loss: 0.6445 - categorical_accuracy: 0.7344\n",
      "Epoch 258/1000\n",
      "6/6 [==============================] - 0s 24ms/step - loss: 0.6762 - categorical_accuracy: 0.7344\n",
      "Epoch 259/1000\n",
      "6/6 [==============================] - 0s 26ms/step - loss: 0.6658 - categorical_accuracy: 0.7396\n",
      "Epoch 260/1000\n",
      "6/6 [==============================] - 0s 26ms/step - loss: 0.6543 - categorical_accuracy: 0.7188\n",
      "Epoch 261/1000\n",
      "6/6 [==============================] - 0s 26ms/step - loss: 0.7155 - categorical_accuracy: 0.7292\n",
      "Epoch 262/1000\n",
      "6/6 [==============================] - 0s 25ms/step - loss: 0.6238 - categorical_accuracy: 0.7448\n",
      "Epoch 263/1000\n",
      "6/6 [==============================] - 0s 27ms/step - loss: 0.6399 - categorical_accuracy: 0.7292\n",
      "Epoch 264/1000\n",
      "6/6 [==============================] - 0s 25ms/step - loss: 0.5992 - categorical_accuracy: 0.7604\n",
      "Epoch 265/1000\n",
      "6/6 [==============================] - 0s 30ms/step - loss: 0.7608 - categorical_accuracy: 0.6979\n",
      "Epoch 266/1000\n",
      "6/6 [==============================] - 0s 25ms/step - loss: 0.8083 - categorical_accuracy: 0.6771\n",
      "Epoch 267/1000\n",
      "6/6 [==============================] - 0s 26ms/step - loss: 1.4010 - categorical_accuracy: 0.4948\n",
      "Epoch 268/1000\n",
      "6/6 [==============================] - 0s 27ms/step - loss: 1.6874 - categorical_accuracy: 0.4010\n",
      "Epoch 269/1000\n",
      "6/6 [==============================] - 0s 26ms/step - loss: 1.6731 - categorical_accuracy: 0.3438\n",
      "Epoch 270/1000\n",
      "6/6 [==============================] - 0s 27ms/step - loss: 1.4250 - categorical_accuracy: 0.3385\n",
      "Epoch 271/1000\n",
      "6/6 [==============================] - 0s 26ms/step - loss: 1.3482 - categorical_accuracy: 0.4531\n",
      "Epoch 272/1000\n",
      "6/6 [==============================] - 0s 32ms/step - loss: 1.2946 - categorical_accuracy: 0.4740\n",
      "Epoch 273/1000\n",
      "6/6 [==============================] - 0s 29ms/step - loss: 1.2311 - categorical_accuracy: 0.4844\n",
      "Epoch 274/1000\n",
      "6/6 [==============================] - 0s 25ms/step - loss: 1.1837 - categorical_accuracy: 0.5104\n",
      "Epoch 275/1000\n",
      "6/6 [==============================] - 0s 25ms/step - loss: 1.1340 - categorical_accuracy: 0.5729\n",
      "Epoch 276/1000\n",
      "6/6 [==============================] - 0s 26ms/step - loss: 1.0875 - categorical_accuracy: 0.5990\n",
      "Epoch 277/1000\n",
      "6/6 [==============================] - 0s 26ms/step - loss: 1.0235 - categorical_accuracy: 0.6406\n",
      "Epoch 278/1000\n",
      "6/6 [==============================] - 0s 25ms/step - loss: 0.9748 - categorical_accuracy: 0.6510\n",
      "Epoch 279/1000\n",
      "6/6 [==============================] - 0s 28ms/step - loss: 0.9476 - categorical_accuracy: 0.6406\n",
      "Epoch 280/1000\n",
      "6/6 [==============================] - 0s 26ms/step - loss: 0.9039 - categorical_accuracy: 0.6667\n",
      "Epoch 281/1000\n",
      "6/6 [==============================] - 0s 26ms/step - loss: 0.9286 - categorical_accuracy: 0.6667\n",
      "Epoch 282/1000\n",
      "6/6 [==============================] - 0s 26ms/step - loss: 0.9129 - categorical_accuracy: 0.6302\n",
      "Epoch 283/1000\n",
      "6/6 [==============================] - 0s 26ms/step - loss: 0.8736 - categorical_accuracy: 0.6771\n",
      "Epoch 284/1000\n",
      "6/6 [==============================] - 0s 26ms/step - loss: 0.8167 - categorical_accuracy: 0.6719\n",
      "Epoch 285/1000\n",
      "6/6 [==============================] - 0s 26ms/step - loss: 0.7871 - categorical_accuracy: 0.6771\n",
      "Epoch 286/1000\n",
      "6/6 [==============================] - 0s 25ms/step - loss: 0.8019 - categorical_accuracy: 0.6615\n",
      "Epoch 287/1000\n",
      "6/6 [==============================] - 0s 32ms/step - loss: 0.7539 - categorical_accuracy: 0.6823\n",
      "Epoch 288/1000\n",
      "6/6 [==============================] - 0s 36ms/step - loss: 0.7636 - categorical_accuracy: 0.6875\n",
      "Epoch 289/1000\n",
      "6/6 [==============================] - 0s 31ms/step - loss: 0.7432 - categorical_accuracy: 0.6927\n",
      "Epoch 290/1000\n",
      "6/6 [==============================] - 0s 28ms/step - loss: 0.7135 - categorical_accuracy: 0.7344\n",
      "Epoch 291/1000\n",
      "6/6 [==============================] - 0s 25ms/step - loss: 0.6843 - categorical_accuracy: 0.7396\n",
      "Epoch 292/1000\n",
      "6/6 [==============================] - 0s 25ms/step - loss: 0.7167 - categorical_accuracy: 0.7240\n",
      "Epoch 293/1000\n",
      "6/6 [==============================] - 0s 25ms/step - loss: 0.7169 - categorical_accuracy: 0.7083\n",
      "Epoch 294/1000\n",
      "6/6 [==============================] - 0s 25ms/step - loss: 0.7256 - categorical_accuracy: 0.7031\n",
      "Epoch 295/1000\n",
      "6/6 [==============================] - 0s 25ms/step - loss: 0.7321 - categorical_accuracy: 0.7188\n",
      "Epoch 296/1000\n",
      "6/6 [==============================] - 0s 28ms/step - loss: 0.6853 - categorical_accuracy: 0.7396\n",
      "Epoch 297/1000\n",
      "6/6 [==============================] - 0s 37ms/step - loss: 0.7611 - categorical_accuracy: 0.6771\n",
      "Epoch 298/1000\n",
      "6/6 [==============================] - 0s 34ms/step - loss: 0.8220 - categorical_accuracy: 0.6979\n",
      "Epoch 299/1000\n",
      "6/6 [==============================] - 0s 25ms/step - loss: 0.7746 - categorical_accuracy: 0.6719\n",
      "Epoch 300/1000\n",
      "6/6 [==============================] - 0s 25ms/step - loss: 0.7619 - categorical_accuracy: 0.6979\n",
      "Epoch 301/1000\n",
      "6/6 [==============================] - 0s 24ms/step - loss: 0.7577 - categorical_accuracy: 0.6823\n",
      "Epoch 302/1000\n",
      "6/6 [==============================] - 0s 30ms/step - loss: 0.7601 - categorical_accuracy: 0.7135\n",
      "Epoch 303/1000\n",
      "6/6 [==============================] - 0s 26ms/step - loss: 0.8647 - categorical_accuracy: 0.6615\n",
      "Epoch 304/1000\n",
      "6/6 [==============================] - 0s 32ms/step - loss: 0.8014 - categorical_accuracy: 0.6771\n",
      "Epoch 305/1000\n",
      "6/6 [==============================] - 0s 41ms/step - loss: 0.7191 - categorical_accuracy: 0.6875\n",
      "Epoch 306/1000\n",
      "6/6 [==============================] - 0s 26ms/step - loss: 0.7100 - categorical_accuracy: 0.7240\n",
      "Epoch 307/1000\n",
      "6/6 [==============================] - 0s 25ms/step - loss: 0.7307 - categorical_accuracy: 0.7188\n",
      "Epoch 308/1000\n",
      "6/6 [==============================] - 0s 24ms/step - loss: 0.7382 - categorical_accuracy: 0.6979\n",
      "Epoch 309/1000\n",
      "6/6 [==============================] - 0s 27ms/step - loss: 0.6478 - categorical_accuracy: 0.7188\n",
      "Epoch 310/1000\n",
      "6/6 [==============================] - 0s 25ms/step - loss: 0.7559 - categorical_accuracy: 0.6771\n",
      "Epoch 311/1000\n",
      "6/6 [==============================] - 0s 29ms/step - loss: 0.7261 - categorical_accuracy: 0.7188\n",
      "Epoch 312/1000\n",
      "6/6 [==============================] - 0s 24ms/step - loss: 0.6649 - categorical_accuracy: 0.7656\n",
      "Epoch 313/1000\n",
      "6/6 [==============================] - 0s 24ms/step - loss: 0.7031 - categorical_accuracy: 0.7344\n",
      "Epoch 314/1000\n",
      "6/6 [==============================] - 0s 23ms/step - loss: 0.7005 - categorical_accuracy: 0.7448\n",
      "Epoch 315/1000\n",
      "6/6 [==============================] - 0s 24ms/step - loss: 0.6538 - categorical_accuracy: 0.7448\n",
      "Epoch 316/1000\n",
      "6/6 [==============================] - 0s 32ms/step - loss: 0.7685 - categorical_accuracy: 0.7188\n",
      "Epoch 317/1000\n",
      "6/6 [==============================] - 0s 32ms/step - loss: 0.7114 - categorical_accuracy: 0.7135\n",
      "Epoch 318/1000\n",
      "6/6 [==============================] - 0s 34ms/step - loss: 0.9453 - categorical_accuracy: 0.6719\n",
      "Epoch 319/1000\n",
      "6/6 [==============================] - 0s 25ms/step - loss: 0.8439 - categorical_accuracy: 0.6510\n",
      "Epoch 320/1000\n",
      "6/6 [==============================] - 0s 25ms/step - loss: 0.7919 - categorical_accuracy: 0.6979\n",
      "Epoch 321/1000\n",
      "6/6 [==============================] - 0s 24ms/step - loss: 0.7021 - categorical_accuracy: 0.7083\n",
      "Epoch 322/1000\n",
      "6/6 [==============================] - 0s 27ms/step - loss: 0.7199 - categorical_accuracy: 0.7344\n",
      "Epoch 323/1000\n",
      "6/6 [==============================] - 0s 25ms/step - loss: 0.6491 - categorical_accuracy: 0.7448\n",
      "Epoch 324/1000\n",
      "6/6 [==============================] - 0s 25ms/step - loss: 0.7035 - categorical_accuracy: 0.7240\n",
      "Epoch 325/1000\n",
      "6/6 [==============================] - 0s 28ms/step - loss: 0.6776 - categorical_accuracy: 0.7344\n",
      "Epoch 326/1000\n",
      "6/6 [==============================] - 0s 24ms/step - loss: 0.6492 - categorical_accuracy: 0.7500\n",
      "Epoch 327/1000\n",
      "6/6 [==============================] - 0s 24ms/step - loss: 0.6032 - categorical_accuracy: 0.7604\n",
      "Epoch 328/1000\n",
      "6/6 [==============================] - 0s 24ms/step - loss: 0.6026 - categorical_accuracy: 0.7448\n",
      "Epoch 329/1000\n",
      "6/6 [==============================] - 0s 24ms/step - loss: 0.7385 - categorical_accuracy: 0.6667\n",
      "Epoch 330/1000\n",
      "6/6 [==============================] - 0s 44ms/step - loss: 0.7134 - categorical_accuracy: 0.6979\n",
      "Epoch 331/1000\n",
      "6/6 [==============================] - 0s 32ms/step - loss: 0.8693 - categorical_accuracy: 0.6719\n",
      "Epoch 332/1000\n",
      "6/6 [==============================] - 0s 36ms/step - loss: 0.8235 - categorical_accuracy: 0.6927\n",
      "Epoch 333/1000\n",
      "6/6 [==============================] - 0s 27ms/step - loss: 0.6958 - categorical_accuracy: 0.7188\n",
      "Epoch 334/1000\n",
      "6/6 [==============================] - 0s 26ms/step - loss: 0.6911 - categorical_accuracy: 0.7188\n",
      "Epoch 335/1000\n",
      "6/6 [==============================] - 0s 24ms/step - loss: 0.6456 - categorical_accuracy: 0.7396\n",
      "Epoch 336/1000\n",
      "6/6 [==============================] - 0s 26ms/step - loss: 0.6281 - categorical_accuracy: 0.7552\n",
      "Epoch 337/1000\n",
      "6/6 [==============================] - 0s 24ms/step - loss: 0.5946 - categorical_accuracy: 0.7344\n",
      "Epoch 338/1000\n",
      "6/6 [==============================] - 0s 27ms/step - loss: 0.5966 - categorical_accuracy: 0.7552\n",
      "Epoch 339/1000\n",
      "6/6 [==============================] - 0s 24ms/step - loss: 0.7886 - categorical_accuracy: 0.6927\n",
      "Epoch 340/1000\n",
      "6/6 [==============================] - 0s 24ms/step - loss: 0.6530 - categorical_accuracy: 0.7292\n",
      "Epoch 341/1000\n",
      "6/6 [==============================] - 0s 24ms/step - loss: 0.6309 - categorical_accuracy: 0.7656\n",
      "Epoch 342/1000\n",
      "6/6 [==============================] - 0s 24ms/step - loss: 0.6108 - categorical_accuracy: 0.7552\n",
      "Epoch 343/1000\n",
      "6/6 [==============================] - 0s 25ms/step - loss: 0.5699 - categorical_accuracy: 0.7552\n",
      "Epoch 344/1000\n",
      "6/6 [==============================] - 0s 24ms/step - loss: 0.5621 - categorical_accuracy: 0.7812\n",
      "Epoch 345/1000\n",
      "6/6 [==============================] - 0s 31ms/step - loss: 0.5559 - categorical_accuracy: 0.7500\n",
      "Epoch 346/1000\n",
      "6/6 [==============================] - 0s 24ms/step - loss: 0.5243 - categorical_accuracy: 0.8125\n",
      "Epoch 347/1000\n",
      "6/6 [==============================] - 0s 25ms/step - loss: 0.5193 - categorical_accuracy: 0.7708\n",
      "Epoch 348/1000\n",
      "6/6 [==============================] - 0s 24ms/step - loss: 0.5304 - categorical_accuracy: 0.7812\n",
      "Epoch 349/1000\n",
      "6/6 [==============================] - 0s 25ms/step - loss: 0.5793 - categorical_accuracy: 0.7604\n",
      "Epoch 350/1000\n",
      "6/6 [==============================] - 0s 24ms/step - loss: 0.5701 - categorical_accuracy: 0.7812\n",
      "Epoch 351/1000\n",
      "6/6 [==============================] - 0s 24ms/step - loss: 0.5484 - categorical_accuracy: 0.8073\n",
      "Epoch 352/1000\n",
      "6/6 [==============================] - 0s 24ms/step - loss: 0.6974 - categorical_accuracy: 0.7240\n",
      "Epoch 353/1000\n",
      "6/6 [==============================] - 0s 28ms/step - loss: 1.0311 - categorical_accuracy: 0.6615\n",
      "Epoch 354/1000\n",
      "6/6 [==============================] - 0s 24ms/step - loss: 1.4132 - categorical_accuracy: 0.5312\n",
      "Epoch 355/1000\n",
      "6/6 [==============================] - 0s 25ms/step - loss: 1.3095 - categorical_accuracy: 0.4531\n",
      "Epoch 356/1000\n",
      "6/6 [==============================] - 0s 24ms/step - loss: 1.1323 - categorical_accuracy: 0.5469\n",
      "Epoch 357/1000\n",
      "6/6 [==============================] - 0s 24ms/step - loss: 1.0952 - categorical_accuracy: 0.5625\n",
      "Epoch 358/1000\n",
      "6/6 [==============================] - 0s 24ms/step - loss: 0.9920 - categorical_accuracy: 0.6094\n",
      "Epoch 359/1000\n",
      "6/6 [==============================] - 0s 31ms/step - loss: 0.9356 - categorical_accuracy: 0.6667\n",
      "Epoch 360/1000\n",
      "6/6 [==============================] - 0s 24ms/step - loss: 0.8719 - categorical_accuracy: 0.6510\n",
      "Epoch 361/1000\n",
      "6/6 [==============================] - 0s 32ms/step - loss: 0.8212 - categorical_accuracy: 0.6927\n",
      "Epoch 362/1000\n",
      "6/6 [==============================] - 0s 24ms/step - loss: 0.7422 - categorical_accuracy: 0.7083\n",
      "Epoch 363/1000\n",
      "6/6 [==============================] - 0s 25ms/step - loss: 0.7212 - categorical_accuracy: 0.7240\n",
      "Epoch 364/1000\n",
      "6/6 [==============================] - 0s 25ms/step - loss: 0.6611 - categorical_accuracy: 0.7344\n",
      "Epoch 365/1000\n",
      "6/6 [==============================] - 0s 25ms/step - loss: 0.6449 - categorical_accuracy: 0.7500\n",
      "Epoch 366/1000\n",
      "6/6 [==============================] - 0s 24ms/step - loss: 0.6054 - categorical_accuracy: 0.7552\n",
      "Epoch 367/1000\n",
      "6/6 [==============================] - 0s 25ms/step - loss: 0.5942 - categorical_accuracy: 0.7656\n",
      "Epoch 368/1000\n",
      "6/6 [==============================] - 0s 24ms/step - loss: 0.5617 - categorical_accuracy: 0.7812\n",
      "Epoch 369/1000\n",
      "6/6 [==============================] - 0s 29ms/step - loss: 0.5391 - categorical_accuracy: 0.7917\n",
      "Epoch 370/1000\n",
      "6/6 [==============================] - 0s 24ms/step - loss: 0.5254 - categorical_accuracy: 0.7865\n",
      "Epoch 371/1000\n",
      "6/6 [==============================] - 0s 24ms/step - loss: 0.5096 - categorical_accuracy: 0.7917\n",
      "Epoch 372/1000\n",
      "6/6 [==============================] - 0s 24ms/step - loss: 0.5118 - categorical_accuracy: 0.7917\n",
      "Epoch 373/1000\n",
      "6/6 [==============================] - 0s 24ms/step - loss: 0.5043 - categorical_accuracy: 0.7917\n",
      "Epoch 374/1000\n",
      "6/6 [==============================] - 0s 32ms/step - loss: 0.5118 - categorical_accuracy: 0.7760\n",
      "Epoch 375/1000\n",
      "6/6 [==============================] - 0s 25ms/step - loss: 0.4991 - categorical_accuracy: 0.7917\n",
      "Epoch 376/1000\n",
      "6/6 [==============================] - 0s 24ms/step - loss: 0.4950 - categorical_accuracy: 0.7865\n",
      "Epoch 377/1000\n",
      "6/6 [==============================] - 0s 30ms/step - loss: 0.4954 - categorical_accuracy: 0.7969\n",
      "Epoch 378/1000\n",
      "6/6 [==============================] - 0s 24ms/step - loss: 0.4776 - categorical_accuracy: 0.8073\n",
      "Epoch 379/1000\n",
      "6/6 [==============================] - 0s 24ms/step - loss: 0.4854 - categorical_accuracy: 0.8229\n",
      "Epoch 380/1000\n",
      "6/6 [==============================] - 0s 24ms/step - loss: 0.5215 - categorical_accuracy: 0.7917\n",
      "Epoch 381/1000\n",
      "6/6 [==============================] - 0s 25ms/step - loss: 0.5435 - categorical_accuracy: 0.7969\n",
      "Epoch 382/1000\n",
      "6/6 [==============================] - 0s 25ms/step - loss: 0.7029 - categorical_accuracy: 0.7500\n",
      "Epoch 383/1000\n",
      "6/6 [==============================] - 0s 25ms/step - loss: 0.5869 - categorical_accuracy: 0.7604\n",
      "Epoch 384/1000\n",
      "6/6 [==============================] - 0s 24ms/step - loss: 0.5592 - categorical_accuracy: 0.7812\n",
      "Epoch 385/1000\n",
      "6/6 [==============================] - 0s 29ms/step - loss: 0.5947 - categorical_accuracy: 0.7292\n",
      "Epoch 386/1000\n",
      "6/6 [==============================] - 0s 24ms/step - loss: 0.7299 - categorical_accuracy: 0.6875\n",
      "Epoch 387/1000\n",
      "6/6 [==============================] - 0s 31ms/step - loss: 1.1345 - categorical_accuracy: 0.6302\n",
      "Epoch 388/1000\n",
      "6/6 [==============================] - 0s 25ms/step - loss: 1.6093 - categorical_accuracy: 0.4635\n",
      "Epoch 389/1000\n",
      "6/6 [==============================] - 0s 24ms/step - loss: 1.3177 - categorical_accuracy: 0.4583\n",
      "Epoch 390/1000\n",
      "6/6 [==============================] - 0s 27ms/step - loss: 1.3921 - categorical_accuracy: 0.5521\n",
      "Epoch 391/1000\n",
      "6/6 [==============================] - 0s 24ms/step - loss: 1.0844 - categorical_accuracy: 0.5885\n",
      "Epoch 392/1000\n",
      "6/6 [==============================] - 0s 25ms/step - loss: 1.0392 - categorical_accuracy: 0.6042\n",
      "Epoch 393/1000\n",
      "6/6 [==============================] - 0s 28ms/step - loss: 1.0003 - categorical_accuracy: 0.6302\n",
      "Epoch 394/1000\n",
      "6/6 [==============================] - 0s 24ms/step - loss: 0.9325 - categorical_accuracy: 0.6250\n",
      "Epoch 395/1000\n",
      "6/6 [==============================] - 0s 24ms/step - loss: 0.8964 - categorical_accuracy: 0.6510\n",
      "Epoch 396/1000\n",
      "6/6 [==============================] - 0s 24ms/step - loss: 0.8615 - categorical_accuracy: 0.7188\n",
      "Epoch 397/1000\n",
      "6/6 [==============================] - 0s 24ms/step - loss: 0.8118 - categorical_accuracy: 0.6719\n",
      "Epoch 398/1000\n",
      "6/6 [==============================] - 0s 24ms/step - loss: 0.7171 - categorical_accuracy: 0.7448\n",
      "Epoch 399/1000\n",
      "6/6 [==============================] - 0s 24ms/step - loss: 0.6943 - categorical_accuracy: 0.7552\n",
      "Epoch 400/1000\n",
      "6/6 [==============================] - 0s 24ms/step - loss: 0.6430 - categorical_accuracy: 0.7708\n",
      "Epoch 401/1000\n",
      "6/6 [==============================] - 0s 26ms/step - loss: 0.5972 - categorical_accuracy: 0.7708\n",
      "Epoch 402/1000\n",
      "6/6 [==============================] - 0s 38ms/step - loss: 0.5620 - categorical_accuracy: 0.7917\n",
      "Epoch 403/1000\n",
      "6/6 [==============================] - 0s 25ms/step - loss: 0.5422 - categorical_accuracy: 0.7917\n",
      "Epoch 404/1000\n",
      "6/6 [==============================] - 0s 24ms/step - loss: 0.5269 - categorical_accuracy: 0.7917\n",
      "Epoch 405/1000\n",
      "6/6 [==============================] - 0s 24ms/step - loss: 0.5749 - categorical_accuracy: 0.7656\n",
      "Epoch 406/1000\n",
      "6/6 [==============================] - 0s 24ms/step - loss: 0.5814 - categorical_accuracy: 0.7604\n",
      "Epoch 407/1000\n",
      "6/6 [==============================] - 0s 24ms/step - loss: 0.5817 - categorical_accuracy: 0.8021\n",
      "Epoch 408/1000\n",
      "6/6 [==============================] - 0s 24ms/step - loss: 0.5238 - categorical_accuracy: 0.7969\n",
      "Epoch 409/1000\n",
      "6/6 [==============================] - 0s 24ms/step - loss: 0.5218 - categorical_accuracy: 0.7812\n",
      "Epoch 410/1000\n",
      "6/6 [==============================] - 0s 24ms/step - loss: 0.5479 - categorical_accuracy: 0.7969\n",
      "Epoch 411/1000\n",
      "6/6 [==============================] - 0s 25ms/step - loss: 0.6431 - categorical_accuracy: 0.7604\n",
      "Epoch 412/1000\n",
      "6/6 [==============================] - 0s 24ms/step - loss: 0.5706 - categorical_accuracy: 0.7812\n",
      "Epoch 413/1000\n",
      "6/6 [==============================] - 0s 24ms/step - loss: 0.6920 - categorical_accuracy: 0.6979\n",
      "Epoch 414/1000\n",
      "6/6 [==============================] - 0s 26ms/step - loss: 0.7774 - categorical_accuracy: 0.6927\n",
      "Epoch 415/1000\n",
      "6/6 [==============================] - 0s 29ms/step - loss: 0.6413 - categorical_accuracy: 0.7552\n",
      "Epoch 416/1000\n",
      "6/6 [==============================] - 0s 24ms/step - loss: 0.5953 - categorical_accuracy: 0.7656\n",
      "Epoch 417/1000\n",
      "6/6 [==============================] - 0s 24ms/step - loss: 0.5337 - categorical_accuracy: 0.7865\n",
      "Epoch 418/1000\n",
      "6/6 [==============================] - 0s 24ms/step - loss: 0.5626 - categorical_accuracy: 0.7396\n",
      "Epoch 419/1000\n",
      "6/6 [==============================] - 0s 28ms/step - loss: 0.4899 - categorical_accuracy: 0.8177\n",
      "Epoch 420/1000\n",
      "6/6 [==============================] - 0s 25ms/step - loss: 0.4724 - categorical_accuracy: 0.8281\n",
      "Epoch 421/1000\n",
      "6/6 [==============================] - 0s 24ms/step - loss: 0.4497 - categorical_accuracy: 0.8281\n",
      "Epoch 422/1000\n",
      "6/6 [==============================] - 0s 24ms/step - loss: 0.4401 - categorical_accuracy: 0.8333\n",
      "Epoch 423/1000\n",
      "6/6 [==============================] - 0s 25ms/step - loss: 0.4454 - categorical_accuracy: 0.8229\n",
      "Epoch 424/1000\n",
      "6/6 [==============================] - 0s 24ms/step - loss: 0.4186 - categorical_accuracy: 0.8490\n",
      "Epoch 425/1000\n",
      "6/6 [==============================] - 0s 24ms/step - loss: 0.4616 - categorical_accuracy: 0.8125\n",
      "Epoch 426/1000\n",
      "6/6 [==============================] - 0s 26ms/step - loss: 0.6118 - categorical_accuracy: 0.7552\n",
      "Epoch 427/1000\n",
      "6/6 [==============================] - 0s 26ms/step - loss: 0.5786 - categorical_accuracy: 0.7604\n",
      "Epoch 428/1000\n",
      "6/6 [==============================] - 0s 31ms/step - loss: 0.5599 - categorical_accuracy: 0.7760\n",
      "Epoch 429/1000\n",
      "6/6 [==============================] - 0s 28ms/step - loss: 0.5743 - categorical_accuracy: 0.7656\n",
      "Epoch 430/1000\n",
      "6/6 [==============================] - 0s 25ms/step - loss: 0.4790 - categorical_accuracy: 0.8281\n",
      "Epoch 431/1000\n",
      "6/6 [==============================] - 0s 25ms/step - loss: 0.5207 - categorical_accuracy: 0.7865\n",
      "Epoch 432/1000\n",
      "6/6 [==============================] - 0s 25ms/step - loss: 0.5776 - categorical_accuracy: 0.7552\n",
      "Epoch 433/1000\n",
      "6/6 [==============================] - 0s 25ms/step - loss: 0.6300 - categorical_accuracy: 0.7812\n",
      "Epoch 434/1000\n",
      "6/6 [==============================] - 0s 24ms/step - loss: 0.7895 - categorical_accuracy: 0.6667\n",
      "Epoch 435/1000\n",
      "6/6 [==============================] - 0s 24ms/step - loss: 0.9090 - categorical_accuracy: 0.6510\n",
      "Epoch 436/1000\n",
      "6/6 [==============================] - 0s 28ms/step - loss: 0.7611 - categorical_accuracy: 0.7188\n",
      "Epoch 437/1000\n",
      "6/6 [==============================] - 0s 24ms/step - loss: 0.7272 - categorical_accuracy: 0.7292\n",
      "Epoch 438/1000\n",
      "6/6 [==============================] - 0s 24ms/step - loss: 0.5909 - categorical_accuracy: 0.7865\n",
      "Epoch 439/1000\n",
      "6/6 [==============================] - 0s 27ms/step - loss: 0.5529 - categorical_accuracy: 0.7969\n",
      "Epoch 440/1000\n",
      "6/6 [==============================] - 0s 24ms/step - loss: 0.4977 - categorical_accuracy: 0.8177\n",
      "Epoch 441/1000\n",
      "6/6 [==============================] - 0s 32ms/step - loss: 0.4891 - categorical_accuracy: 0.8073\n",
      "Epoch 442/1000\n",
      "6/6 [==============================] - 0s 25ms/step - loss: 0.4564 - categorical_accuracy: 0.8125\n",
      "Epoch 443/1000\n",
      "6/6 [==============================] - 0s 24ms/step - loss: 0.4308 - categorical_accuracy: 0.8438\n",
      "Epoch 444/1000\n",
      "6/6 [==============================] - 0s 27ms/step - loss: 0.4489 - categorical_accuracy: 0.8229\n",
      "Epoch 445/1000\n",
      "6/6 [==============================] - 0s 25ms/step - loss: 0.5608 - categorical_accuracy: 0.8073\n",
      "Epoch 446/1000\n",
      "6/6 [==============================] - 0s 25ms/step - loss: 0.4256 - categorical_accuracy: 0.8490\n",
      "Epoch 447/1000\n",
      "6/6 [==============================] - 0s 25ms/step - loss: 0.5059 - categorical_accuracy: 0.7865\n",
      "Epoch 448/1000\n",
      "6/6 [==============================] - 0s 24ms/step - loss: 0.4909 - categorical_accuracy: 0.8021\n",
      "Epoch 449/1000\n",
      "6/6 [==============================] - 0s 25ms/step - loss: 0.5026 - categorical_accuracy: 0.8073\n",
      "Epoch 450/1000\n",
      "6/6 [==============================] - 0s 27ms/step - loss: 0.4523 - categorical_accuracy: 0.8333\n",
      "Epoch 451/1000\n",
      "6/6 [==============================] - 0s 25ms/step - loss: 0.4359 - categorical_accuracy: 0.8281\n",
      "Epoch 452/1000\n",
      "6/6 [==============================] - 0s 28ms/step - loss: 0.3903 - categorical_accuracy: 0.8594\n",
      "Epoch 453/1000\n",
      "6/6 [==============================] - 0s 31ms/step - loss: 0.4154 - categorical_accuracy: 0.8385\n",
      "Epoch 454/1000\n",
      "6/6 [==============================] - 0s 26ms/step - loss: 0.4089 - categorical_accuracy: 0.8542\n",
      "Epoch 455/1000\n",
      "6/6 [==============================] - 0s 24ms/step - loss: 0.4346 - categorical_accuracy: 0.8542\n",
      "Epoch 456/1000\n",
      "6/6 [==============================] - 0s 24ms/step - loss: 0.4084 - categorical_accuracy: 0.8438\n",
      "Epoch 457/1000\n",
      "6/6 [==============================] - 0s 24ms/step - loss: 0.4689 - categorical_accuracy: 0.8125\n",
      "Epoch 458/1000\n",
      "6/6 [==============================] - 0s 24ms/step - loss: 0.4544 - categorical_accuracy: 0.8021\n",
      "Epoch 459/1000\n",
      "6/6 [==============================] - 0s 25ms/step - loss: 0.6867 - categorical_accuracy: 0.7760\n",
      "Epoch 460/1000\n",
      "6/6 [==============================] - 0s 29ms/step - loss: 1.0432 - categorical_accuracy: 0.5938\n",
      "Epoch 461/1000\n",
      "6/6 [==============================] - 0s 27ms/step - loss: 0.7351 - categorical_accuracy: 0.6875\n",
      "Epoch 462/1000\n",
      "6/6 [==============================] - 0s 28ms/step - loss: 0.5920 - categorical_accuracy: 0.7656\n",
      "Epoch 463/1000\n",
      "6/6 [==============================] - 0s 31ms/step - loss: 0.6244 - categorical_accuracy: 0.7708\n",
      "Epoch 464/1000\n",
      "6/6 [==============================] - 0s 48ms/step - loss: 0.6478 - categorical_accuracy: 0.7552\n",
      "Epoch 465/1000\n",
      "6/6 [==============================] - 0s 26ms/step - loss: 0.6638 - categorical_accuracy: 0.7552\n",
      "Epoch 466/1000\n",
      "6/6 [==============================] - 0s 24ms/step - loss: 0.5860 - categorical_accuracy: 0.7812\n",
      "Epoch 467/1000\n",
      "6/6 [==============================] - 0s 25ms/step - loss: 0.5259 - categorical_accuracy: 0.7969\n",
      "Epoch 468/1000\n",
      "6/6 [==============================] - 0s 25ms/step - loss: 0.4902 - categorical_accuracy: 0.8229\n",
      "Epoch 469/1000\n",
      "6/6 [==============================] - 0s 29ms/step - loss: 0.4508 - categorical_accuracy: 0.8177\n",
      "Epoch 470/1000\n",
      "6/6 [==============================] - 0s 24ms/step - loss: 0.4648 - categorical_accuracy: 0.8229\n",
      "Epoch 471/1000\n",
      "6/6 [==============================] - 0s 25ms/step - loss: 0.4386 - categorical_accuracy: 0.7969\n",
      "Epoch 472/1000\n",
      "6/6 [==============================] - 0s 28ms/step - loss: 0.3833 - categorical_accuracy: 0.8698\n",
      "Epoch 473/1000\n",
      "6/6 [==============================] - 0s 32ms/step - loss: 0.3582 - categorical_accuracy: 0.8698\n",
      "Epoch 474/1000\n",
      "6/6 [==============================] - 0s 31ms/step - loss: 0.3445 - categorical_accuracy: 0.8750\n",
      "Epoch 475/1000\n",
      "6/6 [==============================] - 0s 25ms/step - loss: 0.3360 - categorical_accuracy: 0.8958\n",
      "Epoch 476/1000\n",
      "6/6 [==============================] - 0s 27ms/step - loss: 0.3218 - categorical_accuracy: 0.8958\n",
      "Epoch 477/1000\n",
      "6/6 [==============================] - 0s 25ms/step - loss: 0.3158 - categorical_accuracy: 0.8854\n",
      "Epoch 478/1000\n",
      "6/6 [==============================] - 0s 24ms/step - loss: 0.3050 - categorical_accuracy: 0.8958\n",
      "Epoch 479/1000\n",
      "6/6 [==============================] - 0s 27ms/step - loss: 0.3326 - categorical_accuracy: 0.8750\n",
      "Epoch 480/1000\n",
      "6/6 [==============================] - 0s 24ms/step - loss: 0.3335 - categorical_accuracy: 0.8594\n",
      "Epoch 481/1000\n",
      "6/6 [==============================] - 0s 26ms/step - loss: 0.6889 - categorical_accuracy: 0.7812\n",
      "Epoch 482/1000\n",
      "6/6 [==============================] - 0s 26ms/step - loss: 1.5163 - categorical_accuracy: 0.5781\n",
      "Epoch 483/1000\n",
      "6/6 [==============================] - 0s 25ms/step - loss: 1.3758 - categorical_accuracy: 0.4740\n",
      "Epoch 484/1000\n",
      "6/6 [==============================] - 0s 26ms/step - loss: 1.0746 - categorical_accuracy: 0.5990\n",
      "Epoch 485/1000\n",
      "6/6 [==============================] - 0s 26ms/step - loss: 0.9885 - categorical_accuracy: 0.5833\n",
      "Epoch 486/1000\n",
      "6/6 [==============================] - 0s 31ms/step - loss: 0.8524 - categorical_accuracy: 0.6354\n",
      "Epoch 487/1000\n",
      "6/6 [==============================] - 0s 26ms/step - loss: 0.6736 - categorical_accuracy: 0.7292\n",
      "Epoch 488/1000\n",
      "6/6 [==============================] - 0s 27ms/step - loss: 0.5921 - categorical_accuracy: 0.7656\n",
      "Epoch 489/1000\n",
      "6/6 [==============================] - 0s 32ms/step - loss: 0.5324 - categorical_accuracy: 0.8021\n",
      "Epoch 490/1000\n",
      "6/6 [==============================] - 0s 41ms/step - loss: 0.4747 - categorical_accuracy: 0.8490\n",
      "Epoch 491/1000\n",
      "6/6 [==============================] - 0s 26ms/step - loss: 0.4292 - categorical_accuracy: 0.8698\n",
      "Epoch 492/1000\n",
      "6/6 [==============================] - 0s 24ms/step - loss: 0.3945 - categorical_accuracy: 0.8698\n",
      "Epoch 493/1000\n",
      "6/6 [==============================] - 0s 26ms/step - loss: 0.3829 - categorical_accuracy: 0.8646\n",
      "Epoch 494/1000\n",
      "6/6 [==============================] - 0s 28ms/step - loss: 0.3681 - categorical_accuracy: 0.8906\n",
      "Epoch 495/1000\n",
      "6/6 [==============================] - 0s 32ms/step - loss: 0.3687 - categorical_accuracy: 0.8594\n",
      "Epoch 496/1000\n",
      "6/6 [==============================] - 0s 26ms/step - loss: 0.3628 - categorical_accuracy: 0.8490\n",
      "Epoch 497/1000\n",
      "6/6 [==============================] - 0s 27ms/step - loss: 0.4108 - categorical_accuracy: 0.8333\n",
      "Epoch 498/1000\n",
      "6/6 [==============================] - 0s 27ms/step - loss: 0.3544 - categorical_accuracy: 0.8698\n",
      "Epoch 499/1000\n",
      "6/6 [==============================] - 0s 26ms/step - loss: 0.3942 - categorical_accuracy: 0.8698\n",
      "Epoch 500/1000\n",
      "6/6 [==============================] - 0s 26ms/step - loss: 0.4966 - categorical_accuracy: 0.8281\n",
      "Epoch 501/1000\n",
      "6/6 [==============================] - 0s 27ms/step - loss: 0.8519 - categorical_accuracy: 0.7604\n",
      "Epoch 502/1000\n",
      "6/6 [==============================] - 0s 27ms/step - loss: 0.8433 - categorical_accuracy: 0.6771\n",
      "Epoch 503/1000\n",
      "6/6 [==============================] - 0s 32ms/step - loss: 0.7968 - categorical_accuracy: 0.7135\n",
      "Epoch 504/1000\n",
      "6/6 [==============================] - 0s 25ms/step - loss: 0.6659 - categorical_accuracy: 0.7135\n",
      "Epoch 505/1000\n",
      "6/6 [==============================] - 0s 36ms/step - loss: 0.6100 - categorical_accuracy: 0.7656\n",
      "Epoch 506/1000\n",
      "6/6 [==============================] - 0s 33ms/step - loss: 0.6298 - categorical_accuracy: 0.7656\n",
      "Epoch 507/1000\n",
      "6/6 [==============================] - 0s 30ms/step - loss: 0.6205 - categorical_accuracy: 0.7708\n",
      "Epoch 508/1000\n",
      "6/6 [==============================] - 0s 31ms/step - loss: 0.5524 - categorical_accuracy: 0.8021\n",
      "Epoch 509/1000\n",
      "6/6 [==============================] - 0s 30ms/step - loss: 0.5082 - categorical_accuracy: 0.8073\n",
      "Epoch 510/1000\n",
      "6/6 [==============================] - 0s 34ms/step - loss: 0.4327 - categorical_accuracy: 0.8385\n",
      "Epoch 511/1000\n",
      "6/6 [==============================] - 0s 30ms/step - loss: 0.4012 - categorical_accuracy: 0.8594\n",
      "Epoch 512/1000\n",
      "6/6 [==============================] - 0s 36ms/step - loss: 0.3984 - categorical_accuracy: 0.8698\n",
      "Epoch 513/1000\n",
      "6/6 [==============================] - 0s 30ms/step - loss: 0.3814 - categorical_accuracy: 0.8646\n",
      "Epoch 514/1000\n",
      "6/6 [==============================] - 0s 29ms/step - loss: 0.3720 - categorical_accuracy: 0.8542\n",
      "Epoch 515/1000\n",
      "6/6 [==============================] - 0s 28ms/step - loss: 0.3478 - categorical_accuracy: 0.8594\n",
      "Epoch 516/1000\n",
      "6/6 [==============================] - 0s 29ms/step - loss: 0.3313 - categorical_accuracy: 0.8854\n",
      "Epoch 517/1000\n",
      "6/6 [==============================] - 0s 31ms/step - loss: 0.3283 - categorical_accuracy: 0.8698\n",
      "Epoch 518/1000\n",
      "6/6 [==============================] - 0s 28ms/step - loss: 0.3144 - categorical_accuracy: 0.8854\n",
      "Epoch 519/1000\n",
      "6/6 [==============================] - 0s 31ms/step - loss: 0.3581 - categorical_accuracy: 0.8542\n",
      "Epoch 520/1000\n",
      "6/6 [==============================] - 0s 29ms/step - loss: 0.3126 - categorical_accuracy: 0.8958\n",
      "Epoch 521/1000\n",
      "6/6 [==============================] - 0s 29ms/step - loss: 0.3118 - categorical_accuracy: 0.8802\n",
      "Epoch 522/1000\n",
      "6/6 [==============================] - 0s 29ms/step - loss: 0.3242 - categorical_accuracy: 0.8802\n",
      "Epoch 523/1000\n",
      "6/6 [==============================] - 0s 37ms/step - loss: 0.2985 - categorical_accuracy: 0.8854\n",
      "Epoch 524/1000\n",
      "6/6 [==============================] - 0s 31ms/step - loss: 0.3946 - categorical_accuracy: 0.8333\n",
      "Epoch 525/1000\n",
      "6/6 [==============================] - 0s 31ms/step - loss: 0.5709 - categorical_accuracy: 0.8021\n",
      "Epoch 526/1000\n",
      "6/6 [==============================] - 0s 43ms/step - loss: 0.4532 - categorical_accuracy: 0.8229\n",
      "Epoch 527/1000\n",
      "6/6 [==============================] - 0s 40ms/step - loss: 0.4821 - categorical_accuracy: 0.8073\n",
      "Epoch 528/1000\n",
      "6/6 [==============================] - 0s 33ms/step - loss: 0.3639 - categorical_accuracy: 0.8646\n",
      "Epoch 529/1000\n",
      "6/6 [==============================] - 0s 37ms/step - loss: 0.4383 - categorical_accuracy: 0.8229\n",
      "Epoch 530/1000\n",
      "6/6 [==============================] - 0s 38ms/step - loss: 0.3802 - categorical_accuracy: 0.8646\n",
      "Epoch 531/1000\n",
      "6/6 [==============================] - 0s 33ms/step - loss: 0.4972 - categorical_accuracy: 0.8229\n",
      "Epoch 532/1000\n",
      "6/6 [==============================] - 0s 32ms/step - loss: 0.6642 - categorical_accuracy: 0.7083\n",
      "Epoch 533/1000\n",
      "6/6 [==============================] - 0s 30ms/step - loss: 0.8989 - categorical_accuracy: 0.6979\n",
      "Epoch 534/1000\n",
      "6/6 [==============================] - 0s 32ms/step - loss: 0.8310 - categorical_accuracy: 0.6510\n",
      "Epoch 535/1000\n",
      "6/6 [==============================] - 0s 30ms/step - loss: 0.5334 - categorical_accuracy: 0.8021\n",
      "Epoch 536/1000\n",
      "6/6 [==============================] - 0s 31ms/step - loss: 0.5018 - categorical_accuracy: 0.8021\n",
      "Epoch 537/1000\n",
      "6/6 [==============================] - 0s 29ms/step - loss: 0.4317 - categorical_accuracy: 0.8438\n",
      "Epoch 538/1000\n",
      "6/6 [==============================] - 0s 29ms/step - loss: 0.4106 - categorical_accuracy: 0.8333\n",
      "Epoch 539/1000\n",
      "6/6 [==============================] - 0s 29ms/step - loss: 0.4266 - categorical_accuracy: 0.8438\n",
      "Epoch 540/1000\n",
      "6/6 [==============================] - 0s 31ms/step - loss: 0.4249 - categorical_accuracy: 0.8333\n",
      "Epoch 541/1000\n",
      "6/6 [==============================] - 0s 36ms/step - loss: 0.3720 - categorical_accuracy: 0.8542\n",
      "Epoch 542/1000\n",
      "6/6 [==============================] - 0s 36ms/step - loss: 0.3880 - categorical_accuracy: 0.8542\n",
      "Epoch 543/1000\n",
      "6/6 [==============================] - 0s 31ms/step - loss: 0.3426 - categorical_accuracy: 0.8542\n",
      "Epoch 544/1000\n",
      "6/6 [==============================] - 0s 29ms/step - loss: 0.3957 - categorical_accuracy: 0.8333\n",
      "Epoch 545/1000\n",
      "6/6 [==============================] - 0s 29ms/step - loss: 0.3377 - categorical_accuracy: 0.8646\n",
      "Epoch 546/1000\n",
      "6/6 [==============================] - 0s 32ms/step - loss: 0.3570 - categorical_accuracy: 0.8490\n",
      "Epoch 547/1000\n",
      "6/6 [==============================] - 0s 30ms/step - loss: 0.2958 - categorical_accuracy: 0.8854\n",
      "Epoch 548/1000\n",
      "6/6 [==============================] - 0s 32ms/step - loss: 0.3032 - categorical_accuracy: 0.8958\n",
      "Epoch 549/1000\n",
      "6/6 [==============================] - 0s 30ms/step - loss: 0.2955 - categorical_accuracy: 0.8906\n",
      "Epoch 550/1000\n",
      "5/6 [========================>.....] - ETA: 0s - loss: 0.2980 - categorical_accuracy: 0.8938"
     ]
    },
    {
     "ename": "KeyboardInterrupt",
     "evalue": "",
     "output_type": "error",
     "traceback": [
      "\u001b[0;31m---------------------------------------------------------------------------\u001b[0m",
      "\u001b[0;31mKeyboardInterrupt\u001b[0m                         Traceback (most recent call last)",
      "Cell \u001b[0;32mIn[22], line 1\u001b[0m\n\u001b[0;32m----> 1\u001b[0m \u001b[43mmodel\u001b[49m\u001b[38;5;241;43m.\u001b[39;49m\u001b[43mfit\u001b[49m\u001b[43m(\u001b[49m\u001b[43mX_train\u001b[49m\u001b[43m,\u001b[49m\u001b[43m \u001b[49m\u001b[43my_train\u001b[49m\u001b[43m,\u001b[49m\u001b[43m \u001b[49m\u001b[43mepochs\u001b[49m\u001b[38;5;241;43m=\u001b[39;49m\u001b[38;5;241;43m1000\u001b[39;49m\u001b[43m,\u001b[49m\u001b[43m \u001b[49m\u001b[43mcallbacks\u001b[49m\u001b[38;5;241;43m=\u001b[39;49m\u001b[43m[\u001b[49m\u001b[43mtb_callback\u001b[49m\u001b[43m]\u001b[49m\u001b[43m)\u001b[49m\n",
      "File \u001b[0;32m~/anaconda3/envs/ModelEnv/lib/python3.10/site-packages/keras/src/utils/traceback_utils.py:65\u001b[0m, in \u001b[0;36mfilter_traceback.<locals>.error_handler\u001b[0;34m(*args, **kwargs)\u001b[0m\n\u001b[1;32m     63\u001b[0m filtered_tb \u001b[38;5;241m=\u001b[39m \u001b[38;5;28;01mNone\u001b[39;00m\n\u001b[1;32m     64\u001b[0m \u001b[38;5;28;01mtry\u001b[39;00m:\n\u001b[0;32m---> 65\u001b[0m     \u001b[38;5;28;01mreturn\u001b[39;00m \u001b[43mfn\u001b[49m\u001b[43m(\u001b[49m\u001b[38;5;241;43m*\u001b[39;49m\u001b[43margs\u001b[49m\u001b[43m,\u001b[49m\u001b[43m \u001b[49m\u001b[38;5;241;43m*\u001b[39;49m\u001b[38;5;241;43m*\u001b[39;49m\u001b[43mkwargs\u001b[49m\u001b[43m)\u001b[49m\n\u001b[1;32m     66\u001b[0m \u001b[38;5;28;01mexcept\u001b[39;00m \u001b[38;5;167;01mException\u001b[39;00m \u001b[38;5;28;01mas\u001b[39;00m e:\n\u001b[1;32m     67\u001b[0m     filtered_tb \u001b[38;5;241m=\u001b[39m _process_traceback_frames(e\u001b[38;5;241m.\u001b[39m__traceback__)\n",
      "File \u001b[0;32m~/anaconda3/envs/ModelEnv/lib/python3.10/site-packages/keras/src/engine/training.py:1807\u001b[0m, in \u001b[0;36mModel.fit\u001b[0;34m(self, x, y, batch_size, epochs, verbose, callbacks, validation_split, validation_data, shuffle, class_weight, sample_weight, initial_epoch, steps_per_epoch, validation_steps, validation_batch_size, validation_freq, max_queue_size, workers, use_multiprocessing)\u001b[0m\n\u001b[1;32m   1799\u001b[0m \u001b[38;5;28;01mwith\u001b[39;00m tf\u001b[38;5;241m.\u001b[39mprofiler\u001b[38;5;241m.\u001b[39mexperimental\u001b[38;5;241m.\u001b[39mTrace(\n\u001b[1;32m   1800\u001b[0m     \u001b[38;5;124m\"\u001b[39m\u001b[38;5;124mtrain\u001b[39m\u001b[38;5;124m\"\u001b[39m,\n\u001b[1;32m   1801\u001b[0m     epoch_num\u001b[38;5;241m=\u001b[39mepoch,\n\u001b[0;32m   (...)\u001b[0m\n\u001b[1;32m   1804\u001b[0m     _r\u001b[38;5;241m=\u001b[39m\u001b[38;5;241m1\u001b[39m,\n\u001b[1;32m   1805\u001b[0m ):\n\u001b[1;32m   1806\u001b[0m     callbacks\u001b[38;5;241m.\u001b[39mon_train_batch_begin(step)\n\u001b[0;32m-> 1807\u001b[0m     tmp_logs \u001b[38;5;241m=\u001b[39m \u001b[38;5;28;43mself\u001b[39;49m\u001b[38;5;241;43m.\u001b[39;49m\u001b[43mtrain_function\u001b[49m\u001b[43m(\u001b[49m\u001b[43miterator\u001b[49m\u001b[43m)\u001b[49m\n\u001b[1;32m   1808\u001b[0m     \u001b[38;5;28;01mif\u001b[39;00m data_handler\u001b[38;5;241m.\u001b[39mshould_sync:\n\u001b[1;32m   1809\u001b[0m         context\u001b[38;5;241m.\u001b[39masync_wait()\n",
      "File \u001b[0;32m~/anaconda3/envs/ModelEnv/lib/python3.10/site-packages/tensorflow/python/util/traceback_utils.py:150\u001b[0m, in \u001b[0;36mfilter_traceback.<locals>.error_handler\u001b[0;34m(*args, **kwargs)\u001b[0m\n\u001b[1;32m    148\u001b[0m filtered_tb \u001b[38;5;241m=\u001b[39m \u001b[38;5;28;01mNone\u001b[39;00m\n\u001b[1;32m    149\u001b[0m \u001b[38;5;28;01mtry\u001b[39;00m:\n\u001b[0;32m--> 150\u001b[0m   \u001b[38;5;28;01mreturn\u001b[39;00m \u001b[43mfn\u001b[49m\u001b[43m(\u001b[49m\u001b[38;5;241;43m*\u001b[39;49m\u001b[43margs\u001b[49m\u001b[43m,\u001b[49m\u001b[43m \u001b[49m\u001b[38;5;241;43m*\u001b[39;49m\u001b[38;5;241;43m*\u001b[39;49m\u001b[43mkwargs\u001b[49m\u001b[43m)\u001b[49m\n\u001b[1;32m    151\u001b[0m \u001b[38;5;28;01mexcept\u001b[39;00m \u001b[38;5;167;01mException\u001b[39;00m \u001b[38;5;28;01mas\u001b[39;00m e:\n\u001b[1;32m    152\u001b[0m   filtered_tb \u001b[38;5;241m=\u001b[39m _process_traceback_frames(e\u001b[38;5;241m.\u001b[39m__traceback__)\n",
      "File \u001b[0;32m~/anaconda3/envs/ModelEnv/lib/python3.10/site-packages/tensorflow/python/eager/polymorphic_function/polymorphic_function.py:832\u001b[0m, in \u001b[0;36mFunction.__call__\u001b[0;34m(self, *args, **kwds)\u001b[0m\n\u001b[1;32m    829\u001b[0m compiler \u001b[38;5;241m=\u001b[39m \u001b[38;5;124m\"\u001b[39m\u001b[38;5;124mxla\u001b[39m\u001b[38;5;124m\"\u001b[39m \u001b[38;5;28;01mif\u001b[39;00m \u001b[38;5;28mself\u001b[39m\u001b[38;5;241m.\u001b[39m_jit_compile \u001b[38;5;28;01melse\u001b[39;00m \u001b[38;5;124m\"\u001b[39m\u001b[38;5;124mnonXla\u001b[39m\u001b[38;5;124m\"\u001b[39m\n\u001b[1;32m    831\u001b[0m \u001b[38;5;28;01mwith\u001b[39;00m OptionalXlaContext(\u001b[38;5;28mself\u001b[39m\u001b[38;5;241m.\u001b[39m_jit_compile):\n\u001b[0;32m--> 832\u001b[0m   result \u001b[38;5;241m=\u001b[39m \u001b[38;5;28;43mself\u001b[39;49m\u001b[38;5;241;43m.\u001b[39;49m\u001b[43m_call\u001b[49m\u001b[43m(\u001b[49m\u001b[38;5;241;43m*\u001b[39;49m\u001b[43margs\u001b[49m\u001b[43m,\u001b[49m\u001b[43m \u001b[49m\u001b[38;5;241;43m*\u001b[39;49m\u001b[38;5;241;43m*\u001b[39;49m\u001b[43mkwds\u001b[49m\u001b[43m)\u001b[49m\n\u001b[1;32m    834\u001b[0m new_tracing_count \u001b[38;5;241m=\u001b[39m \u001b[38;5;28mself\u001b[39m\u001b[38;5;241m.\u001b[39mexperimental_get_tracing_count()\n\u001b[1;32m    835\u001b[0m without_tracing \u001b[38;5;241m=\u001b[39m (tracing_count \u001b[38;5;241m==\u001b[39m new_tracing_count)\n",
      "File \u001b[0;32m~/anaconda3/envs/ModelEnv/lib/python3.10/site-packages/tensorflow/python/eager/polymorphic_function/polymorphic_function.py:868\u001b[0m, in \u001b[0;36mFunction._call\u001b[0;34m(self, *args, **kwds)\u001b[0m\n\u001b[1;32m    865\u001b[0m   \u001b[38;5;28mself\u001b[39m\u001b[38;5;241m.\u001b[39m_lock\u001b[38;5;241m.\u001b[39mrelease()\n\u001b[1;32m    866\u001b[0m   \u001b[38;5;66;03m# In this case we have created variables on the first call, so we run the\u001b[39;00m\n\u001b[1;32m    867\u001b[0m   \u001b[38;5;66;03m# defunned version which is guaranteed to never create variables.\u001b[39;00m\n\u001b[0;32m--> 868\u001b[0m   \u001b[38;5;28;01mreturn\u001b[39;00m \u001b[43mtracing_compilation\u001b[49m\u001b[38;5;241;43m.\u001b[39;49m\u001b[43mcall_function\u001b[49m\u001b[43m(\u001b[49m\n\u001b[1;32m    869\u001b[0m \u001b[43m      \u001b[49m\u001b[43margs\u001b[49m\u001b[43m,\u001b[49m\u001b[43m \u001b[49m\u001b[43mkwds\u001b[49m\u001b[43m,\u001b[49m\u001b[43m \u001b[49m\u001b[38;5;28;43mself\u001b[39;49m\u001b[38;5;241;43m.\u001b[39;49m\u001b[43m_no_variable_creation_config\u001b[49m\n\u001b[1;32m    870\u001b[0m \u001b[43m  \u001b[49m\u001b[43m)\u001b[49m\n\u001b[1;32m    871\u001b[0m \u001b[38;5;28;01melif\u001b[39;00m \u001b[38;5;28mself\u001b[39m\u001b[38;5;241m.\u001b[39m_variable_creation_config \u001b[38;5;129;01mis\u001b[39;00m \u001b[38;5;129;01mnot\u001b[39;00m \u001b[38;5;28;01mNone\u001b[39;00m:\n\u001b[1;32m    872\u001b[0m   \u001b[38;5;66;03m# Release the lock early so that multiple threads can perform the call\u001b[39;00m\n\u001b[1;32m    873\u001b[0m   \u001b[38;5;66;03m# in parallel.\u001b[39;00m\n\u001b[1;32m    874\u001b[0m   \u001b[38;5;28mself\u001b[39m\u001b[38;5;241m.\u001b[39m_lock\u001b[38;5;241m.\u001b[39mrelease()\n",
      "File \u001b[0;32m~/anaconda3/envs/ModelEnv/lib/python3.10/site-packages/tensorflow/python/eager/polymorphic_function/tracing_compilation.py:139\u001b[0m, in \u001b[0;36mcall_function\u001b[0;34m(args, kwargs, tracing_options)\u001b[0m\n\u001b[1;32m    137\u001b[0m bound_args \u001b[38;5;241m=\u001b[39m function\u001b[38;5;241m.\u001b[39mfunction_type\u001b[38;5;241m.\u001b[39mbind(\u001b[38;5;241m*\u001b[39margs, \u001b[38;5;241m*\u001b[39m\u001b[38;5;241m*\u001b[39mkwargs)\n\u001b[1;32m    138\u001b[0m flat_inputs \u001b[38;5;241m=\u001b[39m function\u001b[38;5;241m.\u001b[39mfunction_type\u001b[38;5;241m.\u001b[39munpack_inputs(bound_args)\n\u001b[0;32m--> 139\u001b[0m \u001b[38;5;28;01mreturn\u001b[39;00m \u001b[43mfunction\u001b[49m\u001b[38;5;241;43m.\u001b[39;49m\u001b[43m_call_flat\u001b[49m\u001b[43m(\u001b[49m\u001b[43m  \u001b[49m\u001b[38;5;66;43;03m# pylint: disable=protected-access\u001b[39;49;00m\n\u001b[1;32m    140\u001b[0m \u001b[43m    \u001b[49m\u001b[43mflat_inputs\u001b[49m\u001b[43m,\u001b[49m\u001b[43m \u001b[49m\u001b[43mcaptured_inputs\u001b[49m\u001b[38;5;241;43m=\u001b[39;49m\u001b[43mfunction\u001b[49m\u001b[38;5;241;43m.\u001b[39;49m\u001b[43mcaptured_inputs\u001b[49m\n\u001b[1;32m    141\u001b[0m \u001b[43m\u001b[49m\u001b[43m)\u001b[49m\n",
      "File \u001b[0;32m~/anaconda3/envs/ModelEnv/lib/python3.10/site-packages/tensorflow/python/eager/polymorphic_function/concrete_function.py:1323\u001b[0m, in \u001b[0;36mConcreteFunction._call_flat\u001b[0;34m(self, tensor_inputs, captured_inputs)\u001b[0m\n\u001b[1;32m   1319\u001b[0m possible_gradient_type \u001b[38;5;241m=\u001b[39m gradients_util\u001b[38;5;241m.\u001b[39mPossibleTapeGradientTypes(args)\n\u001b[1;32m   1320\u001b[0m \u001b[38;5;28;01mif\u001b[39;00m (possible_gradient_type \u001b[38;5;241m==\u001b[39m gradients_util\u001b[38;5;241m.\u001b[39mPOSSIBLE_GRADIENT_TYPES_NONE\n\u001b[1;32m   1321\u001b[0m     \u001b[38;5;129;01mand\u001b[39;00m executing_eagerly):\n\u001b[1;32m   1322\u001b[0m   \u001b[38;5;66;03m# No tape is watching; skip to running the function.\u001b[39;00m\n\u001b[0;32m-> 1323\u001b[0m   \u001b[38;5;28;01mreturn\u001b[39;00m \u001b[38;5;28;43mself\u001b[39;49m\u001b[38;5;241;43m.\u001b[39;49m\u001b[43m_inference_function\u001b[49m\u001b[38;5;241;43m.\u001b[39;49m\u001b[43mcall_preflattened\u001b[49m\u001b[43m(\u001b[49m\u001b[43margs\u001b[49m\u001b[43m)\u001b[49m\n\u001b[1;32m   1324\u001b[0m forward_backward \u001b[38;5;241m=\u001b[39m \u001b[38;5;28mself\u001b[39m\u001b[38;5;241m.\u001b[39m_select_forward_and_backward_functions(\n\u001b[1;32m   1325\u001b[0m     args,\n\u001b[1;32m   1326\u001b[0m     possible_gradient_type,\n\u001b[1;32m   1327\u001b[0m     executing_eagerly)\n\u001b[1;32m   1328\u001b[0m forward_function, args_with_tangents \u001b[38;5;241m=\u001b[39m forward_backward\u001b[38;5;241m.\u001b[39mforward()\n",
      "File \u001b[0;32m~/anaconda3/envs/ModelEnv/lib/python3.10/site-packages/tensorflow/python/eager/polymorphic_function/atomic_function.py:216\u001b[0m, in \u001b[0;36mAtomicFunction.call_preflattened\u001b[0;34m(self, args)\u001b[0m\n\u001b[1;32m    214\u001b[0m \u001b[38;5;28;01mdef\u001b[39;00m \u001b[38;5;21mcall_preflattened\u001b[39m(\u001b[38;5;28mself\u001b[39m, args: Sequence[core\u001b[38;5;241m.\u001b[39mTensor]) \u001b[38;5;241m-\u001b[39m\u001b[38;5;241m>\u001b[39m Any:\n\u001b[1;32m    215\u001b[0m \u001b[38;5;250m  \u001b[39m\u001b[38;5;124;03m\"\"\"Calls with flattened tensor inputs and returns the structured output.\"\"\"\u001b[39;00m\n\u001b[0;32m--> 216\u001b[0m   flat_outputs \u001b[38;5;241m=\u001b[39m \u001b[38;5;28;43mself\u001b[39;49m\u001b[38;5;241;43m.\u001b[39;49m\u001b[43mcall_flat\u001b[49m\u001b[43m(\u001b[49m\u001b[38;5;241;43m*\u001b[39;49m\u001b[43margs\u001b[49m\u001b[43m)\u001b[49m\n\u001b[1;32m    217\u001b[0m   \u001b[38;5;28;01mreturn\u001b[39;00m \u001b[38;5;28mself\u001b[39m\u001b[38;5;241m.\u001b[39mfunction_type\u001b[38;5;241m.\u001b[39mpack_output(flat_outputs)\n",
      "File \u001b[0;32m~/anaconda3/envs/ModelEnv/lib/python3.10/site-packages/tensorflow/python/eager/polymorphic_function/atomic_function.py:251\u001b[0m, in \u001b[0;36mAtomicFunction.call_flat\u001b[0;34m(self, *args)\u001b[0m\n\u001b[1;32m    249\u001b[0m \u001b[38;5;28;01mwith\u001b[39;00m record\u001b[38;5;241m.\u001b[39mstop_recording():\n\u001b[1;32m    250\u001b[0m   \u001b[38;5;28;01mif\u001b[39;00m \u001b[38;5;28mself\u001b[39m\u001b[38;5;241m.\u001b[39m_bound_context\u001b[38;5;241m.\u001b[39mexecuting_eagerly():\n\u001b[0;32m--> 251\u001b[0m     outputs \u001b[38;5;241m=\u001b[39m \u001b[38;5;28;43mself\u001b[39;49m\u001b[38;5;241;43m.\u001b[39;49m\u001b[43m_bound_context\u001b[49m\u001b[38;5;241;43m.\u001b[39;49m\u001b[43mcall_function\u001b[49m\u001b[43m(\u001b[49m\n\u001b[1;32m    252\u001b[0m \u001b[43m        \u001b[49m\u001b[38;5;28;43mself\u001b[39;49m\u001b[38;5;241;43m.\u001b[39;49m\u001b[43mname\u001b[49m\u001b[43m,\u001b[49m\n\u001b[1;32m    253\u001b[0m \u001b[43m        \u001b[49m\u001b[38;5;28;43mlist\u001b[39;49m\u001b[43m(\u001b[49m\u001b[43margs\u001b[49m\u001b[43m)\u001b[49m\u001b[43m,\u001b[49m\n\u001b[1;32m    254\u001b[0m \u001b[43m        \u001b[49m\u001b[38;5;28;43mlen\u001b[39;49m\u001b[43m(\u001b[49m\u001b[38;5;28;43mself\u001b[39;49m\u001b[38;5;241;43m.\u001b[39;49m\u001b[43mfunction_type\u001b[49m\u001b[38;5;241;43m.\u001b[39;49m\u001b[43mflat_outputs\u001b[49m\u001b[43m)\u001b[49m\u001b[43m,\u001b[49m\n\u001b[1;32m    255\u001b[0m \u001b[43m    \u001b[49m\u001b[43m)\u001b[49m\n\u001b[1;32m    256\u001b[0m   \u001b[38;5;28;01melse\u001b[39;00m:\n\u001b[1;32m    257\u001b[0m     outputs \u001b[38;5;241m=\u001b[39m make_call_op_in_graph(\n\u001b[1;32m    258\u001b[0m         \u001b[38;5;28mself\u001b[39m,\n\u001b[1;32m    259\u001b[0m         \u001b[38;5;28mlist\u001b[39m(args),\n\u001b[1;32m    260\u001b[0m         \u001b[38;5;28mself\u001b[39m\u001b[38;5;241m.\u001b[39m_bound_context\u001b[38;5;241m.\u001b[39mfunction_call_options\u001b[38;5;241m.\u001b[39mas_attrs(),\n\u001b[1;32m    261\u001b[0m     )\n",
      "File \u001b[0;32m~/anaconda3/envs/ModelEnv/lib/python3.10/site-packages/tensorflow/python/eager/context.py:1486\u001b[0m, in \u001b[0;36mContext.call_function\u001b[0;34m(self, name, tensor_inputs, num_outputs)\u001b[0m\n\u001b[1;32m   1484\u001b[0m cancellation_context \u001b[38;5;241m=\u001b[39m cancellation\u001b[38;5;241m.\u001b[39mcontext()\n\u001b[1;32m   1485\u001b[0m \u001b[38;5;28;01mif\u001b[39;00m cancellation_context \u001b[38;5;129;01mis\u001b[39;00m \u001b[38;5;28;01mNone\u001b[39;00m:\n\u001b[0;32m-> 1486\u001b[0m   outputs \u001b[38;5;241m=\u001b[39m \u001b[43mexecute\u001b[49m\u001b[38;5;241;43m.\u001b[39;49m\u001b[43mexecute\u001b[49m\u001b[43m(\u001b[49m\n\u001b[1;32m   1487\u001b[0m \u001b[43m      \u001b[49m\u001b[43mname\u001b[49m\u001b[38;5;241;43m.\u001b[39;49m\u001b[43mdecode\u001b[49m\u001b[43m(\u001b[49m\u001b[38;5;124;43m\"\u001b[39;49m\u001b[38;5;124;43mutf-8\u001b[39;49m\u001b[38;5;124;43m\"\u001b[39;49m\u001b[43m)\u001b[49m\u001b[43m,\u001b[49m\n\u001b[1;32m   1488\u001b[0m \u001b[43m      \u001b[49m\u001b[43mnum_outputs\u001b[49m\u001b[38;5;241;43m=\u001b[39;49m\u001b[43mnum_outputs\u001b[49m\u001b[43m,\u001b[49m\n\u001b[1;32m   1489\u001b[0m \u001b[43m      \u001b[49m\u001b[43minputs\u001b[49m\u001b[38;5;241;43m=\u001b[39;49m\u001b[43mtensor_inputs\u001b[49m\u001b[43m,\u001b[49m\n\u001b[1;32m   1490\u001b[0m \u001b[43m      \u001b[49m\u001b[43mattrs\u001b[49m\u001b[38;5;241;43m=\u001b[39;49m\u001b[43mattrs\u001b[49m\u001b[43m,\u001b[49m\n\u001b[1;32m   1491\u001b[0m \u001b[43m      \u001b[49m\u001b[43mctx\u001b[49m\u001b[38;5;241;43m=\u001b[39;49m\u001b[38;5;28;43mself\u001b[39;49m\u001b[43m,\u001b[49m\n\u001b[1;32m   1492\u001b[0m \u001b[43m  \u001b[49m\u001b[43m)\u001b[49m\n\u001b[1;32m   1493\u001b[0m \u001b[38;5;28;01melse\u001b[39;00m:\n\u001b[1;32m   1494\u001b[0m   outputs \u001b[38;5;241m=\u001b[39m execute\u001b[38;5;241m.\u001b[39mexecute_with_cancellation(\n\u001b[1;32m   1495\u001b[0m       name\u001b[38;5;241m.\u001b[39mdecode(\u001b[38;5;124m\"\u001b[39m\u001b[38;5;124mutf-8\u001b[39m\u001b[38;5;124m\"\u001b[39m),\n\u001b[1;32m   1496\u001b[0m       num_outputs\u001b[38;5;241m=\u001b[39mnum_outputs,\n\u001b[0;32m   (...)\u001b[0m\n\u001b[1;32m   1500\u001b[0m       cancellation_manager\u001b[38;5;241m=\u001b[39mcancellation_context,\n\u001b[1;32m   1501\u001b[0m   )\n",
      "File \u001b[0;32m~/anaconda3/envs/ModelEnv/lib/python3.10/site-packages/tensorflow/python/eager/execute.py:53\u001b[0m, in \u001b[0;36mquick_execute\u001b[0;34m(op_name, num_outputs, inputs, attrs, ctx, name)\u001b[0m\n\u001b[1;32m     51\u001b[0m \u001b[38;5;28;01mtry\u001b[39;00m:\n\u001b[1;32m     52\u001b[0m   ctx\u001b[38;5;241m.\u001b[39mensure_initialized()\n\u001b[0;32m---> 53\u001b[0m   tensors \u001b[38;5;241m=\u001b[39m \u001b[43mpywrap_tfe\u001b[49m\u001b[38;5;241;43m.\u001b[39;49m\u001b[43mTFE_Py_Execute\u001b[49m\u001b[43m(\u001b[49m\u001b[43mctx\u001b[49m\u001b[38;5;241;43m.\u001b[39;49m\u001b[43m_handle\u001b[49m\u001b[43m,\u001b[49m\u001b[43m \u001b[49m\u001b[43mdevice_name\u001b[49m\u001b[43m,\u001b[49m\u001b[43m \u001b[49m\u001b[43mop_name\u001b[49m\u001b[43m,\u001b[49m\n\u001b[1;32m     54\u001b[0m \u001b[43m                                      \u001b[49m\u001b[43minputs\u001b[49m\u001b[43m,\u001b[49m\u001b[43m \u001b[49m\u001b[43mattrs\u001b[49m\u001b[43m,\u001b[49m\u001b[43m \u001b[49m\u001b[43mnum_outputs\u001b[49m\u001b[43m)\u001b[49m\n\u001b[1;32m     55\u001b[0m \u001b[38;5;28;01mexcept\u001b[39;00m core\u001b[38;5;241m.\u001b[39m_NotOkStatusException \u001b[38;5;28;01mas\u001b[39;00m e:\n\u001b[1;32m     56\u001b[0m   \u001b[38;5;28;01mif\u001b[39;00m name \u001b[38;5;129;01mis\u001b[39;00m \u001b[38;5;129;01mnot\u001b[39;00m \u001b[38;5;28;01mNone\u001b[39;00m:\n",
      "\u001b[0;31mKeyboardInterrupt\u001b[0m: "
     ]
    }
   ],
   "source": [
    "model.fit(X_train, y_train, epochs=1000, callbacks=[tb_callback])"
   ]
  },
  {
   "cell_type": "code",
   "execution_count": 23,
   "metadata": {},
   "outputs": [
    {
     "name": "stdout",
     "output_type": "stream",
     "text": [
      "2/2 [==============================] - 0s 11ms/step\n"
     ]
    }
   ],
   "source": [
    "res = model.predict(X_test)"
   ]
  },
  {
   "cell_type": "code",
   "execution_count": 24,
   "metadata": {},
   "outputs": [
    {
     "data": {
      "text/plain": [
       "'standing'"
      ]
     },
     "execution_count": 24,
     "metadata": {},
     "output_type": "execute_result"
    }
   ],
   "source": [
    "actions[np.argmax(res[3])]"
   ]
  },
  {
   "cell_type": "code",
   "execution_count": 25,
   "metadata": {},
   "outputs": [
    {
     "data": {
      "text/plain": [
       "'standing'"
      ]
     },
     "execution_count": 25,
     "metadata": {},
     "output_type": "execute_result"
    }
   ],
   "source": [
    "actions[np.argmax(y_test[3])]"
   ]
  },
  {
   "cell_type": "code",
   "execution_count": 26,
   "metadata": {},
   "outputs": [
    {
     "name": "stderr",
     "output_type": "stream",
     "text": [
      "/home/samarth5854/anaconda3/envs/ModelEnv/lib/python3.10/site-packages/keras/src/engine/training.py:3103: UserWarning: You are saving your model as an HDF5 file via `model.save()`. This file format is considered legacy. We recommend using instead the native Keras format, e.g. `model.save('my_model.keras')`.\n",
      "  saving_api.save_model(\n"
     ]
    }
   ],
   "source": [
    "model.save('action.h5')"
   ]
  },
  {
   "cell_type": "code",
   "execution_count": 51,
   "metadata": {},
   "outputs": [],
   "source": [
    "model.load_weights('action.h5')"
   ]
  },
  {
   "cell_type": "code",
   "execution_count": 30,
   "metadata": {},
   "outputs": [],
   "source": [
    "colors = [(245,117,16), (117,245,16), (16,117,245)]\n",
    "def prob_viz(res, actions, input_frame, colors):\n",
    "    output_frame = input_frame.copy()\n",
    "    for num, prob in enumerate(res):\n",
    "        cv2.rectangle(output_frame, (0,60+num*40), (int(prob*100), 90+num*40), colors[num], -1)\n",
    "        cv2.putText(output_frame, actions[num], (0, 85+num*40), cv2.FONT_HERSHEY_SIMPLEX, 1, (255,255,255), 2, cv2.LINE_AA)\n",
    "        \n",
    "    return output_frame"
   ]
  },
  {
   "cell_type": "code",
   "execution_count": 32,
   "metadata": {},
   "outputs": [
    {
     "name": "stderr",
     "output_type": "stream",
     "text": [
      "\n"
     ]
    },
    {
     "name": "stderr",
     "output_type": "stream",
     "text": [
      "0: 384x640 1 person, 50.8ms\n",
      "Speed: 2.2ms preprocess, 50.8ms inference, 0.8ms postprocess per image at shape (1, 3, 384, 640)\n",
      "\n",
      "0: 384x640 1 person, 51.4ms\n",
      "Speed: 1.9ms preprocess, 51.4ms inference, 1.1ms postprocess per image at shape (1, 3, 384, 640)\n",
      "\n",
      "0: 384x640 1 person, 46.5ms\n",
      "Speed: 1.5ms preprocess, 46.5ms inference, 0.7ms postprocess per image at shape (1, 3, 384, 640)\n",
      "\n",
      "0: 384x640 1 person, 47.1ms\n",
      "Speed: 1.5ms preprocess, 47.1ms inference, 0.8ms postprocess per image at shape (1, 3, 384, 640)\n",
      "\n",
      "0: 384x640 1 person, 62.6ms\n",
      "Speed: 2.3ms preprocess, 62.6ms inference, 1.1ms postprocess per image at shape (1, 3, 384, 640)\n",
      "\n",
      "0: 384x640 1 person, 32.0ms\n",
      "Speed: 1.8ms preprocess, 32.0ms inference, 0.6ms postprocess per image at shape (1, 3, 384, 640)\n",
      "\n",
      "0: 384x640 1 person, 33.3ms\n",
      "Speed: 1.5ms preprocess, 33.3ms inference, 0.6ms postprocess per image at shape (1, 3, 384, 640)\n",
      "\n",
      "0: 384x640 1 person, 49.6ms\n",
      "Speed: 1.6ms preprocess, 49.6ms inference, 0.7ms postprocess per image at shape (1, 3, 384, 640)\n",
      "\n",
      "0: 384x640 1 person, 48.9ms\n",
      "Speed: 1.6ms preprocess, 48.9ms inference, 0.8ms postprocess per image at shape (1, 3, 384, 640)\n",
      "\n",
      "0: 384x640 1 person, 47.0ms\n",
      "Speed: 1.4ms preprocess, 47.0ms inference, 0.6ms postprocess per image at shape (1, 3, 384, 640)\n",
      "\n",
      "0: 384x640 1 person, 33.4ms\n",
      "Speed: 1.9ms preprocess, 33.4ms inference, 0.6ms postprocess per image at shape (1, 3, 384, 640)\n",
      "\n",
      "0: 384x640 1 person, 48.0ms\n",
      "Speed: 1.4ms preprocess, 48.0ms inference, 0.7ms postprocess per image at shape (1, 3, 384, 640)\n",
      "\n",
      "0: 384x640 1 person, 42.6ms\n",
      "Speed: 2.4ms preprocess, 42.6ms inference, 0.6ms postprocess per image at shape (1, 3, 384, 640)\n",
      "\n",
      "0: 384x640 1 person, 33.0ms\n",
      "Speed: 1.8ms preprocess, 33.0ms inference, 0.6ms postprocess per image at shape (1, 3, 384, 640)\n",
      "\n",
      "0: 384x640 2 persons, 49.3ms\n",
      "Speed: 1.3ms preprocess, 49.3ms inference, 0.7ms postprocess per image at shape (1, 3, 384, 640)\n",
      "\n",
      "0: 384x640 2 persons, 48.8ms\n",
      "Speed: 1.4ms preprocess, 48.8ms inference, 0.7ms postprocess per image at shape (1, 3, 384, 640)\n",
      "\n",
      "0: 384x640 1 person, 47.6ms\n",
      "Speed: 1.8ms preprocess, 47.6ms inference, 0.8ms postprocess per image at shape (1, 3, 384, 640)\n",
      "\n",
      "0: 384x640 1 person, 47.2ms\n",
      "Speed: 1.5ms preprocess, 47.2ms inference, 0.7ms postprocess per image at shape (1, 3, 384, 640)\n",
      "\n",
      "0: 384x640 1 person, 31.5ms\n",
      "Speed: 1.6ms preprocess, 31.5ms inference, 0.7ms postprocess per image at shape (1, 3, 384, 640)\n",
      "\n",
      "0: 384x640 1 person, 30.8ms\n",
      "Speed: 1.4ms preprocess, 30.8ms inference, 0.7ms postprocess per image at shape (1, 3, 384, 640)\n",
      "\n",
      "0: 384x640 1 person, 31.1ms\n",
      "Speed: 1.6ms preprocess, 31.1ms inference, 0.7ms postprocess per image at shape (1, 3, 384, 640)\n",
      "\n",
      "0: 384x640 1 person, 44.7ms\n",
      "Speed: 1.5ms preprocess, 44.7ms inference, 0.8ms postprocess per image at shape (1, 3, 384, 640)\n",
      "\n",
      "0: 384x640 1 person, 29.6ms\n",
      "Speed: 1.3ms preprocess, 29.6ms inference, 0.6ms postprocess per image at shape (1, 3, 384, 640)\n",
      "\n",
      "0: 384x640 1 person, 30.1ms\n",
      "Speed: 2.3ms preprocess, 30.1ms inference, 0.7ms postprocess per image at shape (1, 3, 384, 640)\n",
      "\n",
      "0: 384x640 1 person, 47.2ms\n",
      "Speed: 1.6ms preprocess, 47.2ms inference, 0.7ms postprocess per image at shape (1, 3, 384, 640)\n",
      "\n",
      "0: 384x640 1 person, 45.8ms\n",
      "Speed: 1.4ms preprocess, 45.8ms inference, 0.7ms postprocess per image at shape (1, 3, 384, 640)\n",
      "\n",
      "0: 384x640 1 person, 44.0ms\n",
      "Speed: 1.9ms preprocess, 44.0ms inference, 0.6ms postprocess per image at shape (1, 3, 384, 640)\n",
      "\n",
      "0: 384x640 1 person, 45.5ms\n",
      "Speed: 1.8ms preprocess, 45.5ms inference, 0.7ms postprocess per image at shape (1, 3, 384, 640)\n",
      "\n",
      "0: 384x640 1 person, 32.9ms\n",
      "Speed: 1.6ms preprocess, 32.9ms inference, 0.7ms postprocess per image at shape (1, 3, 384, 640)\n",
      "\n",
      "0: 384x640 1 person, 33.6ms\n",
      "Speed: 1.6ms preprocess, 33.6ms inference, 0.9ms postprocess per image at shape (1, 3, 384, 640)\n"
     ]
    },
    {
     "name": "stdout",
     "output_type": "stream",
     "text": [
      "1/1 [==============================] - 0s 15ms/step\n"
     ]
    },
    {
     "name": "stderr",
     "output_type": "stream",
     "text": [
      "\n",
      "0: 384x640 1 person, 36.4ms\n",
      "Speed: 1.4ms preprocess, 36.4ms inference, 0.6ms postprocess per image at shape (1, 3, 384, 640)\n"
     ]
    },
    {
     "name": "stdout",
     "output_type": "stream",
     "text": [
      "barbell biceps curl\n",
      "1/1 [==============================] - 0s 15ms/step\n"
     ]
    },
    {
     "name": "stderr",
     "output_type": "stream",
     "text": [
      "\n",
      "0: 384x640 1 person, 45.8ms\n",
      "Speed: 1.7ms preprocess, 45.8ms inference, 0.8ms postprocess per image at shape (1, 3, 384, 640)\n"
     ]
    },
    {
     "name": "stdout",
     "output_type": "stream",
     "text": [
      "barbell biceps curl\n",
      "1/1 [==============================] - 0s 16ms/step\n"
     ]
    },
    {
     "name": "stderr",
     "output_type": "stream",
     "text": [
      "\n",
      "0: 384x640 1 person, 47.9ms\n",
      "Speed: 1.5ms preprocess, 47.9ms inference, 0.7ms postprocess per image at shape (1, 3, 384, 640)\n"
     ]
    },
    {
     "name": "stdout",
     "output_type": "stream",
     "text": [
      "barbell biceps curl\n",
      "1/1 [==============================] - 0s 14ms/step\n"
     ]
    },
    {
     "name": "stderr",
     "output_type": "stream",
     "text": [
      "\n",
      "0: 384x640 1 person, 46.2ms\n",
      "Speed: 1.2ms preprocess, 46.2ms inference, 0.7ms postprocess per image at shape (1, 3, 384, 640)\n"
     ]
    },
    {
     "name": "stdout",
     "output_type": "stream",
     "text": [
      "barbell biceps curl\n",
      "1/1 [==============================] - 0s 15ms/step\n"
     ]
    },
    {
     "name": "stderr",
     "output_type": "stream",
     "text": [
      "\n",
      "0: 384x640 1 person, 46.8ms\n",
      "Speed: 1.2ms preprocess, 46.8ms inference, 0.8ms postprocess per image at shape (1, 3, 384, 640)\n"
     ]
    },
    {
     "name": "stdout",
     "output_type": "stream",
     "text": [
      "barbell biceps curl\n",
      "1/1 [==============================] - 0s 15ms/step\n"
     ]
    },
    {
     "name": "stderr",
     "output_type": "stream",
     "text": [
      "\n",
      "0: 384x640 1 person, 30.3ms\n",
      "Speed: 1.3ms preprocess, 30.3ms inference, 0.7ms postprocess per image at shape (1, 3, 384, 640)\n"
     ]
    },
    {
     "name": "stdout",
     "output_type": "stream",
     "text": [
      "barbell biceps curl\n",
      "1/1 [==============================] - 0s 15ms/step\n"
     ]
    },
    {
     "name": "stderr",
     "output_type": "stream",
     "text": [
      "\n",
      "0: 384x640 1 person, 44.0ms\n",
      "Speed: 1.3ms preprocess, 44.0ms inference, 0.7ms postprocess per image at shape (1, 3, 384, 640)\n"
     ]
    },
    {
     "name": "stdout",
     "output_type": "stream",
     "text": [
      "barbell biceps curl\n",
      "1/1 [==============================] - 0s 17ms/step\n"
     ]
    },
    {
     "name": "stderr",
     "output_type": "stream",
     "text": [
      "\n",
      "0: 384x640 1 person, 46.6ms\n",
      "Speed: 1.4ms preprocess, 46.6ms inference, 0.7ms postprocess per image at shape (1, 3, 384, 640)\n"
     ]
    },
    {
     "name": "stdout",
     "output_type": "stream",
     "text": [
      "barbell biceps curl\n",
      "1/1 [==============================] - 0s 16ms/step\n"
     ]
    },
    {
     "name": "stderr",
     "output_type": "stream",
     "text": [
      "\n",
      "0: 384x640 1 person, 43.2ms\n",
      "Speed: 1.6ms preprocess, 43.2ms inference, 0.7ms postprocess per image at shape (1, 3, 384, 640)\n"
     ]
    },
    {
     "name": "stdout",
     "output_type": "stream",
     "text": [
      "barbell biceps curl\n",
      "1/1 [==============================] - 0s 15ms/step\n"
     ]
    },
    {
     "name": "stderr",
     "output_type": "stream",
     "text": [
      "\n",
      "0: 384x640 1 person, 45.9ms\n",
      "Speed: 1.5ms preprocess, 45.9ms inference, 0.7ms postprocess per image at shape (1, 3, 384, 640)\n"
     ]
    },
    {
     "name": "stdout",
     "output_type": "stream",
     "text": [
      "barbell biceps curl\n",
      "1/1 [==============================] - 0s 15ms/step\n"
     ]
    },
    {
     "name": "stderr",
     "output_type": "stream",
     "text": [
      "\n",
      "0: 384x640 1 person, 45.4ms\n",
      "Speed: 2.0ms preprocess, 45.4ms inference, 0.6ms postprocess per image at shape (1, 3, 384, 640)\n"
     ]
    },
    {
     "name": "stdout",
     "output_type": "stream",
     "text": [
      "barbell biceps curl\n",
      "1/1 [==============================] - 0s 15ms/step\n"
     ]
    },
    {
     "name": "stderr",
     "output_type": "stream",
     "text": [
      "\n"
     ]
    },
    {
     "name": "stdout",
     "output_type": "stream",
     "text": [
      "barbell biceps curl\n"
     ]
    },
    {
     "name": "stderr",
     "output_type": "stream",
     "text": [
      "0: 384x640 1 person, 52.2ms\n",
      "Speed: 1.4ms preprocess, 52.2ms inference, 0.6ms postprocess per image at shape (1, 3, 384, 640)\n"
     ]
    },
    {
     "name": "stdout",
     "output_type": "stream",
     "text": [
      "1/1 [==============================] - 0s 25ms/step\n"
     ]
    },
    {
     "name": "stderr",
     "output_type": "stream",
     "text": [
      "\n"
     ]
    },
    {
     "name": "stdout",
     "output_type": "stream",
     "text": [
      "barbell biceps curl\n"
     ]
    },
    {
     "name": "stderr",
     "output_type": "stream",
     "text": [
      "0: 384x640 1 person, 55.3ms\n",
      "Speed: 2.7ms preprocess, 55.3ms inference, 0.8ms postprocess per image at shape (1, 3, 384, 640)\n"
     ]
    },
    {
     "name": "stdout",
     "output_type": "stream",
     "text": [
      "1/1 [==============================] - 0s 17ms/step\n"
     ]
    },
    {
     "name": "stderr",
     "output_type": "stream",
     "text": [
      "\n"
     ]
    },
    {
     "name": "stdout",
     "output_type": "stream",
     "text": [
      "barbell biceps curl\n"
     ]
    },
    {
     "name": "stderr",
     "output_type": "stream",
     "text": [
      "0: 384x640 1 person, 50.5ms\n",
      "Speed: 1.5ms preprocess, 50.5ms inference, 1.6ms postprocess per image at shape (1, 3, 384, 640)\n"
     ]
    },
    {
     "name": "stdout",
     "output_type": "stream",
     "text": [
      "1/1 [==============================] - 0s 16ms/step\n"
     ]
    },
    {
     "name": "stderr",
     "output_type": "stream",
     "text": [
      "\n",
      "0: 384x640 1 person, 36.3ms\n",
      "Speed: 2.0ms preprocess, 36.3ms inference, 0.7ms postprocess per image at shape (1, 3, 384, 640)\n"
     ]
    },
    {
     "name": "stdout",
     "output_type": "stream",
     "text": [
      "barbell biceps curl\n",
      "1/1 [==============================] - 0s 18ms/step\n"
     ]
    },
    {
     "name": "stderr",
     "output_type": "stream",
     "text": [
      "\n",
      "0: 384x640 1 person, 47.6ms\n",
      "Speed: 1.4ms preprocess, 47.6ms inference, 0.7ms postprocess per image at shape (1, 3, 384, 640)\n"
     ]
    },
    {
     "name": "stdout",
     "output_type": "stream",
     "text": [
      "barbell biceps curl\n",
      "1/1 [==============================] - 0s 17ms/step\n"
     ]
    },
    {
     "name": "stderr",
     "output_type": "stream",
     "text": [
      "\n",
      "0: 384x640 1 person, 36.1ms\n",
      "Speed: 1.6ms preprocess, 36.1ms inference, 0.9ms postprocess per image at shape (1, 3, 384, 640)\n"
     ]
    },
    {
     "name": "stdout",
     "output_type": "stream",
     "text": [
      "barbell biceps curl\n",
      "1/1 [==============================] - 0s 33ms/step\n"
     ]
    },
    {
     "name": "stderr",
     "output_type": "stream",
     "text": [
      "\n"
     ]
    },
    {
     "name": "stdout",
     "output_type": "stream",
     "text": [
      "barbell biceps curl\n"
     ]
    },
    {
     "name": "stderr",
     "output_type": "stream",
     "text": [
      "0: 384x640 1 person, 56.0ms\n",
      "Speed: 9.0ms preprocess, 56.0ms inference, 0.8ms postprocess per image at shape (1, 3, 384, 640)\n"
     ]
    },
    {
     "name": "stdout",
     "output_type": "stream",
     "text": [
      "1/1 [==============================] - 0s 16ms/step\n"
     ]
    },
    {
     "name": "stderr",
     "output_type": "stream",
     "text": [
      "\n"
     ]
    },
    {
     "name": "stdout",
     "output_type": "stream",
     "text": [
      "barbell biceps curl\n"
     ]
    },
    {
     "name": "stderr",
     "output_type": "stream",
     "text": [
      "0: 384x640 1 person, 46.8ms\n",
      "Speed: 2.3ms preprocess, 46.8ms inference, 0.7ms postprocess per image at shape (1, 3, 384, 640)\n"
     ]
    },
    {
     "name": "stdout",
     "output_type": "stream",
     "text": [
      "1/1 [==============================] - 0s 25ms/step\n"
     ]
    },
    {
     "name": "stderr",
     "output_type": "stream",
     "text": [
      "\n"
     ]
    },
    {
     "name": "stdout",
     "output_type": "stream",
     "text": [
      "barbell biceps curl\n"
     ]
    },
    {
     "name": "stderr",
     "output_type": "stream",
     "text": [
      "0: 384x640 1 person, 51.2ms\n",
      "Speed: 3.0ms preprocess, 51.2ms inference, 8.7ms postprocess per image at shape (1, 3, 384, 640)\n"
     ]
    },
    {
     "name": "stdout",
     "output_type": "stream",
     "text": [
      "1/1 [==============================] - 0s 27ms/step\n"
     ]
    },
    {
     "name": "stderr",
     "output_type": "stream",
     "text": [
      "\n"
     ]
    },
    {
     "name": "stdout",
     "output_type": "stream",
     "text": [
      "barbell biceps curl\n"
     ]
    },
    {
     "name": "stderr",
     "output_type": "stream",
     "text": [
      "0: 384x640 1 person, 91.8ms\n",
      "Speed: 5.1ms preprocess, 91.8ms inference, 0.7ms postprocess per image at shape (1, 3, 384, 640)\n"
     ]
    },
    {
     "name": "stdout",
     "output_type": "stream",
     "text": [
      "1/1 [==============================] - 0s 19ms/step\n",
      "barbell biceps curl\n"
     ]
    },
    {
     "name": "stderr",
     "output_type": "stream",
     "text": [
      "\n",
      "0: 384x640 1 person, 50.9ms\n",
      "Speed: 3.0ms preprocess, 50.9ms inference, 0.7ms postprocess per image at shape (1, 3, 384, 640)\n"
     ]
    },
    {
     "name": "stdout",
     "output_type": "stream",
     "text": [
      "1/1 [==============================] - 0s 16ms/step\n"
     ]
    },
    {
     "name": "stderr",
     "output_type": "stream",
     "text": [
      "\n"
     ]
    },
    {
     "name": "stdout",
     "output_type": "stream",
     "text": [
      "barbell biceps curl\n"
     ]
    },
    {
     "name": "stderr",
     "output_type": "stream",
     "text": [
      "0: 384x640 1 person, 54.2ms\n",
      "Speed: 1.3ms preprocess, 54.2ms inference, 0.8ms postprocess per image at shape (1, 3, 384, 640)\n"
     ]
    },
    {
     "name": "stdout",
     "output_type": "stream",
     "text": [
      "1/1 [==============================] - 0s 18ms/step\n"
     ]
    },
    {
     "name": "stderr",
     "output_type": "stream",
     "text": [
      "\n"
     ]
    },
    {
     "name": "stdout",
     "output_type": "stream",
     "text": [
      "barbell biceps curl\n"
     ]
    },
    {
     "name": "stderr",
     "output_type": "stream",
     "text": [
      "0: 384x640 1 person, 100.3ms\n",
      "Speed: 2.2ms preprocess, 100.3ms inference, 1.0ms postprocess per image at shape (1, 3, 384, 640)\n"
     ]
    },
    {
     "name": "stdout",
     "output_type": "stream",
     "text": [
      "1/1 [==============================] - 0s 18ms/step\n"
     ]
    },
    {
     "name": "stderr",
     "output_type": "stream",
     "text": [
      "\n"
     ]
    },
    {
     "name": "stdout",
     "output_type": "stream",
     "text": [
      "barbell biceps curl\n"
     ]
    },
    {
     "name": "stderr",
     "output_type": "stream",
     "text": [
      "0: 384x640 1 person, 55.7ms\n",
      "Speed: 1.4ms preprocess, 55.7ms inference, 0.8ms postprocess per image at shape (1, 3, 384, 640)\n"
     ]
    },
    {
     "name": "stdout",
     "output_type": "stream",
     "text": [
      "1/1 [==============================] - 0s 17ms/step\n"
     ]
    },
    {
     "name": "stderr",
     "output_type": "stream",
     "text": [
      "\n",
      "0: 384x640 1 person, 36.2ms\n",
      "Speed: 1.4ms preprocess, 36.2ms inference, 0.6ms postprocess per image at shape (1, 3, 384, 640)\n"
     ]
    },
    {
     "name": "stdout",
     "output_type": "stream",
     "text": [
      "barbell biceps curl\n",
      "1/1 [==============================] - 0s 17ms/step\n"
     ]
    },
    {
     "name": "stderr",
     "output_type": "stream",
     "text": [
      "\n",
      "0: 384x640 1 person, 47.0ms\n",
      "Speed: 1.3ms preprocess, 47.0ms inference, 0.8ms postprocess per image at shape (1, 3, 384, 640)\n"
     ]
    },
    {
     "name": "stdout",
     "output_type": "stream",
     "text": [
      "barbell biceps curl\n",
      "1/1 [==============================] - 0s 18ms/step\n"
     ]
    },
    {
     "name": "stderr",
     "output_type": "stream",
     "text": [
      "\n",
      "0: 384x640 1 person, 36.9ms\n",
      "Speed: 1.7ms preprocess, 36.9ms inference, 0.9ms postprocess per image at shape (1, 3, 384, 640)\n"
     ]
    },
    {
     "name": "stdout",
     "output_type": "stream",
     "text": [
      "barbell biceps curl\n",
      "1/1 [==============================] - 0s 17ms/step\n"
     ]
    },
    {
     "name": "stderr",
     "output_type": "stream",
     "text": [
      "\n",
      "0: 384x640 1 person, 52.9ms\n",
      "Speed: 1.3ms preprocess, 52.9ms inference, 0.8ms postprocess per image at shape (1, 3, 384, 640)\n"
     ]
    },
    {
     "name": "stdout",
     "output_type": "stream",
     "text": [
      "barbell biceps curl\n",
      "1/1 [==============================] - 0s 17ms/step\n"
     ]
    },
    {
     "name": "stderr",
     "output_type": "stream",
     "text": [
      "\n",
      "0: 384x640 1 person, 36.9ms\n",
      "Speed: 1.3ms preprocess, 36.9ms inference, 0.8ms postprocess per image at shape (1, 3, 384, 640)\n"
     ]
    },
    {
     "name": "stdout",
     "output_type": "stream",
     "text": [
      "barbell biceps curl\n",
      "1/1 [==============================] - 0s 16ms/step\n"
     ]
    },
    {
     "name": "stderr",
     "output_type": "stream",
     "text": [
      "\n",
      "0: 384x640 1 person, 49.6ms\n",
      "Speed: 1.3ms preprocess, 49.6ms inference, 0.7ms postprocess per image at shape (1, 3, 384, 640)\n"
     ]
    },
    {
     "name": "stdout",
     "output_type": "stream",
     "text": [
      "Squat\n",
      "1/1 [==============================] - 0s 16ms/step\n"
     ]
    },
    {
     "name": "stderr",
     "output_type": "stream",
     "text": [
      "\n"
     ]
    },
    {
     "name": "stdout",
     "output_type": "stream",
     "text": [
      "Squat\n"
     ]
    },
    {
     "name": "stderr",
     "output_type": "stream",
     "text": [
      "0: 384x640 1 person, 52.8ms\n",
      "Speed: 2.0ms preprocess, 52.8ms inference, 0.8ms postprocess per image at shape (1, 3, 384, 640)\n"
     ]
    },
    {
     "name": "stdout",
     "output_type": "stream",
     "text": [
      "1/1 [==============================] - 0s 26ms/step\n"
     ]
    },
    {
     "name": "stderr",
     "output_type": "stream",
     "text": [
      "\n"
     ]
    },
    {
     "name": "stdout",
     "output_type": "stream",
     "text": [
      "Squat\n"
     ]
    },
    {
     "name": "stderr",
     "output_type": "stream",
     "text": [
      "0: 384x640 1 person, 63.6ms\n",
      "Speed: 1.6ms preprocess, 63.6ms inference, 1.0ms postprocess per image at shape (1, 3, 384, 640)\n"
     ]
    },
    {
     "name": "stdout",
     "output_type": "stream",
     "text": [
      "1/1 [==============================] - 0s 19ms/step\n"
     ]
    },
    {
     "name": "stderr",
     "output_type": "stream",
     "text": [
      "\n"
     ]
    },
    {
     "name": "stdout",
     "output_type": "stream",
     "text": [
      "barbell biceps curl\n"
     ]
    },
    {
     "name": "stderr",
     "output_type": "stream",
     "text": [
      "0: 384x640 1 person, 54.7ms\n",
      "Speed: 5.1ms preprocess, 54.7ms inference, 0.8ms postprocess per image at shape (1, 3, 384, 640)\n"
     ]
    },
    {
     "name": "stdout",
     "output_type": "stream",
     "text": [
      "1/1 [==============================] - 0s 16ms/step\n"
     ]
    },
    {
     "name": "stderr",
     "output_type": "stream",
     "text": [
      "\n"
     ]
    },
    {
     "name": "stdout",
     "output_type": "stream",
     "text": [
      "barbell biceps curl\n"
     ]
    },
    {
     "name": "stderr",
     "output_type": "stream",
     "text": [
      "0: 384x640 1 person, 52.5ms\n",
      "Speed: 4.5ms preprocess, 52.5ms inference, 1.0ms postprocess per image at shape (1, 3, 384, 640)\n"
     ]
    },
    {
     "name": "stdout",
     "output_type": "stream",
     "text": [
      "1/1 [==============================] - 0s 19ms/step\n"
     ]
    },
    {
     "name": "stderr",
     "output_type": "stream",
     "text": [
      "\n"
     ]
    },
    {
     "name": "stdout",
     "output_type": "stream",
     "text": [
      "barbell biceps curl\n"
     ]
    },
    {
     "name": "stderr",
     "output_type": "stream",
     "text": [
      "0: 384x640 1 person, 51.1ms\n",
      "Speed: 1.3ms preprocess, 51.1ms inference, 0.7ms postprocess per image at shape (1, 3, 384, 640)\n"
     ]
    },
    {
     "name": "stdout",
     "output_type": "stream",
     "text": [
      "1/1 [==============================] - 0s 17ms/step\n"
     ]
    },
    {
     "name": "stderr",
     "output_type": "stream",
     "text": [
      "\n",
      "0: 384x640 1 person, 37.4ms\n",
      "Speed: 1.5ms preprocess, 37.4ms inference, 0.9ms postprocess per image at shape (1, 3, 384, 640)\n"
     ]
    },
    {
     "name": "stdout",
     "output_type": "stream",
     "text": [
      "barbell biceps curl\n",
      "1/1 [==============================] - 0s 17ms/step\n"
     ]
    },
    {
     "name": "stderr",
     "output_type": "stream",
     "text": [
      "\n",
      "0: 384x640 1 person, 50.4ms\n",
      "Speed: 1.4ms preprocess, 50.4ms inference, 0.8ms postprocess per image at shape (1, 3, 384, 640)\n"
     ]
    },
    {
     "name": "stdout",
     "output_type": "stream",
     "text": [
      "barbell biceps curl\n",
      "1/1 [==============================] - 0s 15ms/step\n"
     ]
    },
    {
     "name": "stderr",
     "output_type": "stream",
     "text": [
      "\n"
     ]
    },
    {
     "name": "stdout",
     "output_type": "stream",
     "text": [
      "barbell biceps curl\n"
     ]
    },
    {
     "name": "stderr",
     "output_type": "stream",
     "text": [
      "0: 384x640 1 person, 70.7ms\n",
      "Speed: 1.6ms preprocess, 70.7ms inference, 0.8ms postprocess per image at shape (1, 3, 384, 640)\n"
     ]
    },
    {
     "name": "stdout",
     "output_type": "stream",
     "text": [
      "1/1 [==============================] - 0s 17ms/step\n",
      "barbell biceps curl\n"
     ]
    },
    {
     "name": "stderr",
     "output_type": "stream",
     "text": [
      "\n",
      "0: 384x640 1 person, 61.5ms\n",
      "Speed: 1.5ms preprocess, 61.5ms inference, 1.0ms postprocess per image at shape (1, 3, 384, 640)\n"
     ]
    },
    {
     "name": "stdout",
     "output_type": "stream",
     "text": [
      "1/1 [==============================] - 0s 17ms/step\n"
     ]
    },
    {
     "name": "stderr",
     "output_type": "stream",
     "text": [
      "\n"
     ]
    },
    {
     "name": "stdout",
     "output_type": "stream",
     "text": [
      "barbell biceps curl\n"
     ]
    },
    {
     "name": "stderr",
     "output_type": "stream",
     "text": [
      "0: 384x640 1 person, 54.5ms\n",
      "Speed: 1.7ms preprocess, 54.5ms inference, 0.7ms postprocess per image at shape (1, 3, 384, 640)\n"
     ]
    },
    {
     "name": "stdout",
     "output_type": "stream",
     "text": [
      "1/1 [==============================] - 0s 17ms/step\n"
     ]
    },
    {
     "name": "stderr",
     "output_type": "stream",
     "text": [
      "\n"
     ]
    },
    {
     "name": "stdout",
     "output_type": "stream",
     "text": [
      "barbell biceps curl\n"
     ]
    },
    {
     "name": "stderr",
     "output_type": "stream",
     "text": [
      "0: 384x640 1 person, 50.3ms\n",
      "Speed: 6.1ms preprocess, 50.3ms inference, 0.6ms postprocess per image at shape (1, 3, 384, 640)\n"
     ]
    },
    {
     "name": "stdout",
     "output_type": "stream",
     "text": [
      "1/1 [==============================] - 0s 17ms/step\n"
     ]
    },
    {
     "name": "stderr",
     "output_type": "stream",
     "text": [
      "\n"
     ]
    },
    {
     "name": "stdout",
     "output_type": "stream",
     "text": [
      "barbell biceps curl\n"
     ]
    },
    {
     "name": "stderr",
     "output_type": "stream",
     "text": [
      "0: 384x640 1 person, 51.7ms\n",
      "Speed: 1.7ms preprocess, 51.7ms inference, 0.8ms postprocess per image at shape (1, 3, 384, 640)\n"
     ]
    },
    {
     "name": "stdout",
     "output_type": "stream",
     "text": [
      "1/1 [==============================] - 0s 19ms/step\n"
     ]
    },
    {
     "name": "stderr",
     "output_type": "stream",
     "text": [
      "\n"
     ]
    },
    {
     "name": "stdout",
     "output_type": "stream",
     "text": [
      "barbell biceps curl\n"
     ]
    },
    {
     "name": "stderr",
     "output_type": "stream",
     "text": [
      "0: 384x640 1 person, 50.1ms\n",
      "Speed: 1.5ms preprocess, 50.1ms inference, 0.7ms postprocess per image at shape (1, 3, 384, 640)\n"
     ]
    },
    {
     "name": "stdout",
     "output_type": "stream",
     "text": [
      "1/1 [==============================] - 0s 26ms/step\n"
     ]
    },
    {
     "name": "stderr",
     "output_type": "stream",
     "text": [
      "\n"
     ]
    },
    {
     "name": "stdout",
     "output_type": "stream",
     "text": [
      "barbell biceps curl\n"
     ]
    },
    {
     "name": "stderr",
     "output_type": "stream",
     "text": [
      "0: 384x640 1 person, 55.3ms\n",
      "Speed: 3.0ms preprocess, 55.3ms inference, 1.1ms postprocess per image at shape (1, 3, 384, 640)\n"
     ]
    },
    {
     "name": "stdout",
     "output_type": "stream",
     "text": [
      "1/1 [==============================] - 0s 17ms/step\n"
     ]
    },
    {
     "name": "stderr",
     "output_type": "stream",
     "text": [
      "\n"
     ]
    },
    {
     "name": "stdout",
     "output_type": "stream",
     "text": [
      "barbell biceps curl\n"
     ]
    },
    {
     "name": "stderr",
     "output_type": "stream",
     "text": [
      "0: 384x640 1 person, 52.7ms\n",
      "Speed: 1.4ms preprocess, 52.7ms inference, 0.8ms postprocess per image at shape (1, 3, 384, 640)\n"
     ]
    },
    {
     "name": "stdout",
     "output_type": "stream",
     "text": [
      "1/1 [==============================] - 0s 17ms/step\n"
     ]
    },
    {
     "name": "stderr",
     "output_type": "stream",
     "text": [
      "\n"
     ]
    },
    {
     "name": "stdout",
     "output_type": "stream",
     "text": [
      "barbell biceps curl\n"
     ]
    },
    {
     "name": "stderr",
     "output_type": "stream",
     "text": [
      "0: 384x640 1 person, 52.5ms\n",
      "Speed: 2.0ms preprocess, 52.5ms inference, 0.8ms postprocess per image at shape (1, 3, 384, 640)\n"
     ]
    },
    {
     "name": "stdout",
     "output_type": "stream",
     "text": [
      "1/1 [==============================] - 0s 18ms/step\n"
     ]
    },
    {
     "name": "stderr",
     "output_type": "stream",
     "text": [
      "WARNING ⚠️ 'source' is missing. Using 'source=/home/samarth5854/anaconda3/envs/ModelEnv/lib/python3.10/site-packages/ultralytics/assets'.\n",
      "\n"
     ]
    },
    {
     "name": "stdout",
     "output_type": "stream",
     "text": [
      "barbell biceps curl\n"
     ]
    },
    {
     "name": "stderr",
     "output_type": "stream",
     "text": [
      "image 1/2 /home/samarth5854/anaconda3/envs/ModelEnv/lib/python3.10/site-packages/ultralytics/assets/bus.jpg: 640x480 4 persons, 47.7ms\n",
      "image 2/2 /home/samarth5854/anaconda3/envs/ModelEnv/lib/python3.10/site-packages/ultralytics/assets/zidane.jpg: 384x640 2 persons, 38.4ms\n",
      "Speed: 1.4ms preprocess, 43.0ms inference, 1.0ms postprocess per image at shape (1, 3, 384, 640)\n"
     ]
    },
    {
     "name": "stdout",
     "output_type": "stream",
     "text": [
      "1/1 [==============================] - 0s 16ms/step\n",
      "barbell biceps curl\n"
     ]
    },
    {
     "ename": "AttributeError",
     "evalue": "'NoneType' object has no attribute 'copy'",
     "output_type": "error",
     "traceback": [
      "\u001b[0;31m---------------------------------------------------------------------------\u001b[0m",
      "\u001b[0;31mAttributeError\u001b[0m                            Traceback (most recent call last)",
      "Cell \u001b[0;32mIn[32], line 41\u001b[0m\n\u001b[1;32m     38\u001b[0m         sentence \u001b[39m=\u001b[39m sentence[\u001b[39m-\u001b[39m\u001b[39m5\u001b[39m:]\n\u001b[1;32m     40\u001b[0m     \u001b[39m# Viz probabilities\u001b[39;00m\n\u001b[0;32m---> 41\u001b[0m     image \u001b[39m=\u001b[39m prob_viz(res, actions, image, colors)\n\u001b[1;32m     43\u001b[0m cv2\u001b[39m.\u001b[39mrectangle(image, (\u001b[39m0\u001b[39m,\u001b[39m0\u001b[39m), (\u001b[39m640\u001b[39m, \u001b[39m40\u001b[39m), (\u001b[39m245\u001b[39m, \u001b[39m117\u001b[39m, \u001b[39m16\u001b[39m), \u001b[39m-\u001b[39m\u001b[39m1\u001b[39m)\n\u001b[1;32m     44\u001b[0m cv2\u001b[39m.\u001b[39mputText(image, \u001b[39m'\u001b[39m\u001b[39m \u001b[39m\u001b[39m'\u001b[39m\u001b[39m.\u001b[39mjoin(sentence), (\u001b[39m3\u001b[39m,\u001b[39m30\u001b[39m), \n\u001b[1;32m     45\u001b[0m                 cv2\u001b[39m.\u001b[39mFONT_HERSHEY_SIMPLEX, \u001b[39m1\u001b[39m, (\u001b[39m255\u001b[39m, \u001b[39m255\u001b[39m, \u001b[39m255\u001b[39m), \u001b[39m2\u001b[39m, cv2\u001b[39m.\u001b[39mLINE_AA)\n",
      "Cell \u001b[0;32mIn[30], line 3\u001b[0m, in \u001b[0;36mprob_viz\u001b[0;34m(res, actions, input_frame, colors)\u001b[0m\n\u001b[1;32m      2\u001b[0m \u001b[39mdef\u001b[39;00m \u001b[39mprob_viz\u001b[39m(res, actions, input_frame, colors):\n\u001b[0;32m----> 3\u001b[0m     output_frame \u001b[39m=\u001b[39m input_frame\u001b[39m.\u001b[39;49mcopy()\n\u001b[1;32m      4\u001b[0m     \u001b[39mfor\u001b[39;00m num, prob \u001b[39min\u001b[39;00m \u001b[39menumerate\u001b[39m(res):\n\u001b[1;32m      5\u001b[0m         cv2\u001b[39m.\u001b[39mrectangle(output_frame, (\u001b[39m0\u001b[39m,\u001b[39m60\u001b[39m\u001b[39m+\u001b[39mnum\u001b[39m*\u001b[39m\u001b[39m40\u001b[39m), (\u001b[39mint\u001b[39m(prob\u001b[39m*\u001b[39m\u001b[39m100\u001b[39m), \u001b[39m90\u001b[39m\u001b[39m+\u001b[39mnum\u001b[39m*\u001b[39m\u001b[39m40\u001b[39m), colors[num], \u001b[39m-\u001b[39m\u001b[39m1\u001b[39m)\n",
      "\u001b[0;31mAttributeError\u001b[0m: 'NoneType' object has no attribute 'copy'"
     ]
    },
    {
     "ename": "",
     "evalue": "",
     "output_type": "error",
     "traceback": [
      "\u001b[1;31mThe Kernel crashed while executing code in the the current cell or a previous cell. Please review the code in the cell(s) to identify a possible cause of the failure. Click <a href='https://aka.ms/vscodeJupyterKernelCrash'>here</a> for more info. View Jupyter <a href='command:jupyter.viewOutput'>log</a> for further details."
     ]
    }
   ],
   "source": [
    "# 1. New detection variables\n",
    "import cv2\n",
    "sequence = []\n",
    "sentence = []\n",
    "threshold = 0.8\n",
    "\n",
    "cap = cv2.VideoCapture(\"Dataset/barbell biceps curl/barbell biceps curl_2.mp43\")\n",
    "# Set mediapipe model \n",
    "\n",
    "while cap.isOpened():\n",
    "\n",
    "    # Read feed\n",
    "    ret, frame = cap.read()\n",
    "\n",
    "    if not ret:\n",
    "        print(\"No frames left in video. Exiting...\")\n",
    "        break\n",
    "    \n",
    "    image = frame\n",
    "\n",
    "    # Make detections\n",
    "    results = modelpose.predict(frame)\n",
    "    # Flatten keypoints\n",
    "    keypoints = np.array(results[0][0].keypoints.xyn).flatten()\n",
    "\n",
    "    sequence.append(keypoints)\n",
    "    sequence = sequence[-30:]\n",
    "    \n",
    "    if len(sequence) == 30:\n",
    "        res = model.predict(np.expand_dims(sequence, axis=0))[0]\n",
    "        print(actions[np.argmax(res)])\n",
    "        \n",
    "        \n",
    "    #3. Viz logic\n",
    "        if res[np.argmax(res)] > threshold: \n",
    "            if len(sentence) > 0: \n",
    "                if actions[np.argmax(res)] != sentence[-1]:\n",
    "                    sentence.append(actions[np.argmax(res)])\n",
    "            else:\n",
    "                sentence.append(actions[np.argmax(res)])\n",
    "\n",
    "        if len(sentence) > 5: \n",
    "            sentence = sentence[-5:]\n",
    "\n",
    "        # Viz probabilities\n",
    "        image = prob_viz(res, actions, image, colors)\n",
    "        \n",
    "    cv2.rectangle(image, (0,0), (640, 40), (245, 117, 16), -1)\n",
    "    cv2.putText(image, ' '.join(sentence), (3,30), \n",
    "                    cv2.FONT_HERSHEY_SIMPLEX, 1, (255, 255, 255), 2, cv2.LINE_AA)\n",
    "    \n",
    "    # Show to screen\n",
    "    cv2.imshow('OpenCV Feed', image)\n",
    "\n",
    "    # Break gracefully\n",
    "    if cv2.waitKey(10) & 0xFF == ord('q'):\n",
    "        break\n",
    "cap.release()\n",
    "cv2.destroyAllWindows()"
   ]
  },
  {
   "cell_type": "code",
   "execution_count": null,
   "metadata": {},
   "outputs": [],
   "source": []
  },
  {
   "cell_type": "code",
   "execution_count": null,
   "metadata": {},
   "outputs": [],
   "source": []
  }
 ],
 "metadata": {
  "kernelspec": {
   "display_name": "ModelEnv",
   "language": "python",
   "name": "python3"
  },
  "language_info": {
   "codemirror_mode": {
    "name": "ipython",
    "version": 3
   },
   "file_extension": ".py",
   "mimetype": "text/x-python",
   "name": "python",
   "nbconvert_exporter": "python",
   "pygments_lexer": "ipython3",
   "version": "3.10.12"
  },
  "orig_nbformat": 4
 },
 "nbformat": 4,
 "nbformat_minor": 2
}
