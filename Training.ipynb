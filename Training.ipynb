{
 "cells": [
  {
   "cell_type": "code",
   "execution_count": 1,
   "metadata": {},
   "outputs": [],
   "source": [
    "from ultralytics import YOLO\n",
    "import numpy as np\n",
    "\n",
    "# Load a model\n",
    "modelpose = YOLO('yolov8n-pose.pt') "
   ]
  },
  {
   "cell_type": "code",
   "execution_count": 2,
   "metadata": {},
   "outputs": [],
   "source": [
    "import os\n",
    "\n",
    "# Path for exported data, numpy arrays\n",
    "DATA_PATH = os.path.join('MP_Data') \n",
    "\n",
    "# Thirty videos worth of data\n",
    "no_sequences = 40\n",
    "\n",
    "\n",
    "# Videos are going to be 30 frames in length\n",
    "sequence_length = 30"
   ]
  },
  {
   "cell_type": "code",
   "execution_count": 3,
   "metadata": {},
   "outputs": [
    {
     "name": "stdout",
     "output_type": "stream",
     "text": [
      "['running' 'standing' 'sitting' 'jumping' 'walking' 'squat']\n"
     ]
    }
   ],
   "source": [
    "# Define path to the main folder containing class subfolders\n",
    "data_path = \"MP_Data\"  # Replace with your actual path\n",
    "\n",
    "# Define actions based on subfolder names (modify as needed)\n",
    "actions = np.array(os.listdir(data_path))  # Get list of subfolders\n",
    "print(actions)"
   ]
  },
  {
   "cell_type": "code",
   "execution_count": 4,
   "metadata": {},
   "outputs": [],
   "source": [
    "\n",
    "# Initialize sequence counter (starts from 0)\n",
    "for action in actions: \n",
    "    for sequence in range(no_sequences):\n",
    "        try: \n",
    "            os.makedirs(os.path.join(DATA_PATH, action, str(sequence)))\n",
    "        except:\n",
    "            pass"
   ]
  },
  {
   "cell_type": "code",
   "execution_count": 5,
   "metadata": {},
   "outputs": [
    {
     "name": "stderr",
     "output_type": "stream",
     "text": [
      "[ WARN:0@12.866] global /croot/opencv-suite_1691620365762/work/modules/videoio/src/cap_gstreamer.cpp (2401) handleMessage OpenCV | GStreamer warning: Embedded video playback halted; module source reported: \"/home/samarth5854/Desktop/LSTM/MP_Data/running/0\" is a directory.\n",
      "[ WARN:0@12.867] global /croot/opencv-suite_1691620365762/work/modules/videoio/src/cap_gstreamer.cpp (1356) open OpenCV | GStreamer warning: unable to start pipeline\n",
      "[ WARN:0@12.867] global /croot/opencv-suite_1691620365762/work/modules/videoio/src/cap_gstreamer.cpp (862) isPipelinePlaying OpenCV | GStreamer warning: GStreamer: pipeline have not been created\n",
      "WARNING ⚠️ 'source' is missing. Using 'source=/home/samarth5854/anaconda3/envs/ModelEnv/lib/python3.10/site-packages/ultralytics/assets'.\n",
      "2024-04-03 15:05:53.933246: E external/local_xla/xla/stream_executor/cuda/cuda_dnn.cc:9261] Unable to register cuDNN factory: Attempting to register factory for plugin cuDNN when one has already been registered\n",
      "2024-04-03 15:05:53.933272: E external/local_xla/xla/stream_executor/cuda/cuda_fft.cc:607] Unable to register cuFFT factory: Attempting to register factory for plugin cuFFT when one has already been registered\n",
      "2024-04-03 15:05:53.960680: E external/local_xla/xla/stream_executor/cuda/cuda_blas.cc:1515] Unable to register cuBLAS factory: Attempting to register factory for plugin cuBLAS when one has already been registered\n",
      "\n",
      "image 1/2 /home/samarth5854/anaconda3/envs/ModelEnv/lib/python3.10/site-packages/ultralytics/assets/bus.jpg: 640x480 4 persons, 91.5ms\n",
      "image 2/2 /home/samarth5854/anaconda3/envs/ModelEnv/lib/python3.10/site-packages/ultralytics/assets/zidane.jpg: 384x640 2 persons, 58.8ms\n",
      "Speed: 3.1ms preprocess, 75.1ms inference, 2.7ms postprocess per image at shape (1, 3, 384, 640)\n",
      "WARNING ⚠️ 'source' is missing. Using 'source=/home/samarth5854/anaconda3/envs/ModelEnv/lib/python3.10/site-packages/ultralytics/assets'.\n",
      "\n",
      "image 1/2 /home/samarth5854/anaconda3/envs/ModelEnv/lib/python3.10/site-packages/ultralytics/assets/bus.jpg: 640x480 4 persons, 46.3ms\n",
      "image 2/2 /home/samarth5854/anaconda3/envs/ModelEnv/lib/python3.10/site-packages/ultralytics/assets/zidane.jpg: 384x640 2 persons, 40.5ms\n",
      "Speed: 1.4ms preprocess, 43.4ms inference, 1.0ms postprocess per image at shape (1, 3, 384, 640)\n",
      "WARNING ⚠️ 'source' is missing. Using 'source=/home/samarth5854/anaconda3/envs/ModelEnv/lib/python3.10/site-packages/ultralytics/assets'.\n",
      "\n",
      "image 1/2 /home/samarth5854/anaconda3/envs/ModelEnv/lib/python3.10/site-packages/ultralytics/assets/bus.jpg: 640x480 4 persons, 41.3ms\n"
     ]
    },
    {
     "name": "stdout",
     "output_type": "stream",
     "text": [
      "Keypoints shape before flattening: torch.Size([4, 17, 2])\n",
      "Keypoints shape after flattening: (34,)\n",
      "saved to MP_Data/running/0/0.npy\n",
      "Keypoints shape before flattening: torch.Size([4, 17, 2])\n",
      "Keypoints shape after flattening: (34,)\n",
      "saved to MP_Data/running/0/1.npy\n"
     ]
    },
    {
     "name": "stderr",
     "output_type": "stream",
     "text": [
      "image 2/2 /home/samarth5854/anaconda3/envs/ModelEnv/lib/python3.10/site-packages/ultralytics/assets/zidane.jpg: 384x640 2 persons, 37.5ms\n",
      "Speed: 1.9ms preprocess, 39.4ms inference, 0.7ms postprocess per image at shape (1, 3, 384, 640)\n",
      "WARNING ⚠️ 'source' is missing. Using 'source=/home/samarth5854/anaconda3/envs/ModelEnv/lib/python3.10/site-packages/ultralytics/assets'.\n",
      "\n",
      "image 1/2 /home/samarth5854/anaconda3/envs/ModelEnv/lib/python3.10/site-packages/ultralytics/assets/bus.jpg: 640x480 4 persons, 41.7ms\n",
      "image 2/2 /home/samarth5854/anaconda3/envs/ModelEnv/lib/python3.10/site-packages/ultralytics/assets/zidane.jpg: 384x640 2 persons, 33.9ms\n",
      "Speed: 1.5ms preprocess, 37.8ms inference, 0.8ms postprocess per image at shape (1, 3, 384, 640)\n",
      "WARNING ⚠️ 'source' is missing. Using 'source=/home/samarth5854/anaconda3/envs/ModelEnv/lib/python3.10/site-packages/ultralytics/assets'.\n",
      "\n",
      "image 1/2 /home/samarth5854/anaconda3/envs/ModelEnv/lib/python3.10/site-packages/ultralytics/assets/bus.jpg: 640x480 4 persons, 49.6ms\n"
     ]
    },
    {
     "name": "stdout",
     "output_type": "stream",
     "text": [
      "Keypoints shape before flattening: torch.Size([4, 17, 2])\n",
      "Keypoints shape after flattening: (34,)\n",
      "saved to MP_Data/running/0/2.npy\n",
      "Keypoints shape before flattening: torch.Size([4, 17, 2])\n",
      "Keypoints shape after flattening: (34,)\n",
      "saved to MP_Data/running/0/3.npy\n"
     ]
    },
    {
     "name": "stderr",
     "output_type": "stream",
     "text": [
      "image 2/2 /home/samarth5854/anaconda3/envs/ModelEnv/lib/python3.10/site-packages/ultralytics/assets/zidane.jpg: 384x640 2 persons, 46.5ms\n",
      "Speed: 1.4ms preprocess, 48.1ms inference, 0.6ms postprocess per image at shape (1, 3, 384, 640)\n",
      "WARNING ⚠️ 'source' is missing. Using 'source=/home/samarth5854/anaconda3/envs/ModelEnv/lib/python3.10/site-packages/ultralytics/assets'.\n",
      "\n",
      "image 1/2 /home/samarth5854/anaconda3/envs/ModelEnv/lib/python3.10/site-packages/ultralytics/assets/bus.jpg: 640x480 4 persons, 57.5ms\n",
      "image 2/2 /home/samarth5854/anaconda3/envs/ModelEnv/lib/python3.10/site-packages/ultralytics/assets/zidane.jpg: 384x640 2 persons, 48.0ms\n",
      "Speed: 1.6ms preprocess, 52.8ms inference, 0.7ms postprocess per image at shape (1, 3, 384, 640)\n",
      "WARNING ⚠️ 'source' is missing. Using 'source=/home/samarth5854/anaconda3/envs/ModelEnv/lib/python3.10/site-packages/ultralytics/assets'.\n",
      "\n"
     ]
    },
    {
     "name": "stdout",
     "output_type": "stream",
     "text": [
      "Keypoints shape before flattening: torch.Size([4, 17, 2])\n",
      "Keypoints shape after flattening: (34,)\n",
      "saved to MP_Data/running/0/4.npy\n",
      "Keypoints shape before flattening: torch.Size([4, 17, 2])\n",
      "Keypoints shape after flattening: (34,)\n",
      "saved to MP_Data/running/0/5.npy\n"
     ]
    },
    {
     "name": "stderr",
     "output_type": "stream",
     "text": [
      "image 1/2 /home/samarth5854/anaconda3/envs/ModelEnv/lib/python3.10/site-packages/ultralytics/assets/bus.jpg: 640x480 4 persons, 58.3ms\n",
      "image 2/2 /home/samarth5854/anaconda3/envs/ModelEnv/lib/python3.10/site-packages/ultralytics/assets/zidane.jpg: 384x640 2 persons, 52.4ms\n",
      "Speed: 1.7ms preprocess, 55.3ms inference, 0.7ms postprocess per image at shape (1, 3, 384, 640)\n",
      "WARNING ⚠️ 'source' is missing. Using 'source=/home/samarth5854/anaconda3/envs/ModelEnv/lib/python3.10/site-packages/ultralytics/assets'.\n",
      "\n",
      "image 1/2 /home/samarth5854/anaconda3/envs/ModelEnv/lib/python3.10/site-packages/ultralytics/assets/bus.jpg: 640x480 4 persons, 64.7ms\n",
      "image 2/2 /home/samarth5854/anaconda3/envs/ModelEnv/lib/python3.10/site-packages/ultralytics/assets/zidane.jpg: 384x640 2 persons, 52.2ms\n",
      "Speed: 1.4ms preprocess, 58.4ms inference, 0.8ms postprocess per image at shape (1, 3, 384, 640)\n",
      "WARNING ⚠️ 'source' is missing. Using 'source=/home/samarth5854/anaconda3/envs/ModelEnv/lib/python3.10/site-packages/ultralytics/assets'.\n",
      "\n",
      "image 1/2 /home/samarth5854/anaconda3/envs/ModelEnv/lib/python3.10/site-packages/ultralytics/assets/bus.jpg: 640x480 4 persons, 39.2ms\n"
     ]
    },
    {
     "name": "stdout",
     "output_type": "stream",
     "text": [
      "Keypoints shape before flattening: torch.Size([4, 17, 2])\n",
      "Keypoints shape after flattening: (34,)\n",
      "saved to MP_Data/running/0/6.npy\n",
      "Keypoints shape before flattening: torch.Size([4, 17, 2])\n",
      "Keypoints shape after flattening: (34,)\n",
      "saved to MP_Data/running/0/7.npy\n"
     ]
    },
    {
     "name": "stderr",
     "output_type": "stream",
     "text": [
      "image 2/2 /home/samarth5854/anaconda3/envs/ModelEnv/lib/python3.10/site-packages/ultralytics/assets/zidane.jpg: 384x640 2 persons, 36.4ms\n",
      "Speed: 1.3ms preprocess, 37.8ms inference, 0.7ms postprocess per image at shape (1, 3, 384, 640)\n",
      "WARNING ⚠️ 'source' is missing. Using 'source=/home/samarth5854/anaconda3/envs/ModelEnv/lib/python3.10/site-packages/ultralytics/assets'.\n",
      "\n",
      "image 1/2 /home/samarth5854/anaconda3/envs/ModelEnv/lib/python3.10/site-packages/ultralytics/assets/bus.jpg: 640x480 4 persons, 59.3ms\n",
      "image 2/2 /home/samarth5854/anaconda3/envs/ModelEnv/lib/python3.10/site-packages/ultralytics/assets/zidane.jpg: 384x640 2 persons, 47.7ms\n",
      "Speed: 1.6ms preprocess, 53.5ms inference, 0.7ms postprocess per image at shape (1, 3, 384, 640)\n",
      "WARNING ⚠️ 'source' is missing. Using 'source=/home/samarth5854/anaconda3/envs/ModelEnv/lib/python3.10/site-packages/ultralytics/assets'.\n",
      "\n",
      "image 1/2 /home/samarth5854/anaconda3/envs/ModelEnv/lib/python3.10/site-packages/ultralytics/assets/bus.jpg: 640x480 4 persons, 40.5ms\n"
     ]
    },
    {
     "name": "stdout",
     "output_type": "stream",
     "text": [
      "Keypoints shape before flattening: torch.Size([4, 17, 2])\n",
      "Keypoints shape after flattening: (34,)\n",
      "saved to MP_Data/running/0/8.npy\n",
      "Keypoints shape before flattening: torch.Size([4, 17, 2])\n",
      "Keypoints shape after flattening: (34,)\n",
      "saved to MP_Data/running/0/9.npy\n"
     ]
    },
    {
     "name": "stderr",
     "output_type": "stream",
     "text": [
      "image 2/2 /home/samarth5854/anaconda3/envs/ModelEnv/lib/python3.10/site-packages/ultralytics/assets/zidane.jpg: 384x640 2 persons, 51.4ms\n",
      "Speed: 1.5ms preprocess, 45.9ms inference, 0.8ms postprocess per image at shape (1, 3, 384, 640)\n",
      "WARNING ⚠️ 'source' is missing. Using 'source=/home/samarth5854/anaconda3/envs/ModelEnv/lib/python3.10/site-packages/ultralytics/assets'.\n",
      "\n",
      "image 1/2 /home/samarth5854/anaconda3/envs/ModelEnv/lib/python3.10/site-packages/ultralytics/assets/bus.jpg: 640x480 4 persons, 59.8ms\n",
      "image 2/2 /home/samarth5854/anaconda3/envs/ModelEnv/lib/python3.10/site-packages/ultralytics/assets/zidane.jpg: 384x640 2 persons, 51.5ms\n",
      "Speed: 1.4ms preprocess, 55.7ms inference, 0.8ms postprocess per image at shape (1, 3, 384, 640)\n",
      "WARNING ⚠️ 'source' is missing. Using 'source=/home/samarth5854/anaconda3/envs/ModelEnv/lib/python3.10/site-packages/ultralytics/assets'.\n",
      "\n"
     ]
    },
    {
     "name": "stdout",
     "output_type": "stream",
     "text": [
      "Keypoints shape before flattening: torch.Size([4, 17, 2])\n",
      "Keypoints shape after flattening: (34,)\n",
      "saved to MP_Data/running/0/10.npy\n",
      "Keypoints shape before flattening: torch.Size([4, 17, 2])\n",
      "Keypoints shape after flattening: (34,)\n",
      "saved to MP_Data/running/0/11.npy\n"
     ]
    },
    {
     "name": "stderr",
     "output_type": "stream",
     "text": [
      "image 1/2 /home/samarth5854/anaconda3/envs/ModelEnv/lib/python3.10/site-packages/ultralytics/assets/bus.jpg: 640x480 4 persons, 61.5ms\n",
      "image 2/2 /home/samarth5854/anaconda3/envs/ModelEnv/lib/python3.10/site-packages/ultralytics/assets/zidane.jpg: 384x640 2 persons, 50.9ms\n",
      "Speed: 1.6ms preprocess, 56.2ms inference, 0.8ms postprocess per image at shape (1, 3, 384, 640)\n",
      "WARNING ⚠️ 'source' is missing. Using 'source=/home/samarth5854/anaconda3/envs/ModelEnv/lib/python3.10/site-packages/ultralytics/assets'.\n",
      "\n",
      "image 1/2 /home/samarth5854/anaconda3/envs/ModelEnv/lib/python3.10/site-packages/ultralytics/assets/bus.jpg: 640x480 4 persons, 59.9ms\n",
      "image 2/2 /home/samarth5854/anaconda3/envs/ModelEnv/lib/python3.10/site-packages/ultralytics/assets/zidane.jpg: 384x640 2 persons, 46.8ms\n",
      "Speed: 1.7ms preprocess, 53.3ms inference, 0.6ms postprocess per image at shape (1, 3, 384, 640)\n",
      "WARNING ⚠️ 'source' is missing. Using 'source=/home/samarth5854/anaconda3/envs/ModelEnv/lib/python3.10/site-packages/ultralytics/assets'.\n",
      "\n"
     ]
    },
    {
     "name": "stdout",
     "output_type": "stream",
     "text": [
      "Keypoints shape before flattening: torch.Size([4, 17, 2])\n",
      "Keypoints shape after flattening: (34,)\n",
      "saved to MP_Data/running/0/12.npy\n",
      "Keypoints shape before flattening: torch.Size([4, 17, 2])\n",
      "Keypoints shape after flattening: (34,)\n",
      "saved to MP_Data/running/0/13.npy\n"
     ]
    },
    {
     "name": "stderr",
     "output_type": "stream",
     "text": [
      "image 1/2 /home/samarth5854/anaconda3/envs/ModelEnv/lib/python3.10/site-packages/ultralytics/assets/bus.jpg: 640x480 4 persons, 54.8ms\n",
      "image 2/2 /home/samarth5854/anaconda3/envs/ModelEnv/lib/python3.10/site-packages/ultralytics/assets/zidane.jpg: 384x640 2 persons, 50.4ms\n",
      "Speed: 1.6ms preprocess, 52.6ms inference, 0.9ms postprocess per image at shape (1, 3, 384, 640)\n",
      "WARNING ⚠️ 'source' is missing. Using 'source=/home/samarth5854/anaconda3/envs/ModelEnv/lib/python3.10/site-packages/ultralytics/assets'.\n",
      "\n",
      "image 1/2 /home/samarth5854/anaconda3/envs/ModelEnv/lib/python3.10/site-packages/ultralytics/assets/bus.jpg: 640x480 4 persons, 59.7ms\n",
      "image 2/2 /home/samarth5854/anaconda3/envs/ModelEnv/lib/python3.10/site-packages/ultralytics/assets/zidane.jpg: 384x640 2 persons, 44.9ms\n",
      "Speed: 2.0ms preprocess, 52.3ms inference, 0.8ms postprocess per image at shape (1, 3, 384, 640)\n",
      "WARNING ⚠️ 'source' is missing. Using 'source=/home/samarth5854/anaconda3/envs/ModelEnv/lib/python3.10/site-packages/ultralytics/assets'.\n",
      "\n"
     ]
    },
    {
     "name": "stdout",
     "output_type": "stream",
     "text": [
      "Keypoints shape before flattening: torch.Size([4, 17, 2])\n",
      "Keypoints shape after flattening: (34,)\n",
      "saved to MP_Data/running/0/14.npy\n",
      "Keypoints shape before flattening: torch.Size([4, 17, 2])\n",
      "Keypoints shape after flattening: (34,)\n",
      "saved to MP_Data/running/0/15.npy\n"
     ]
    },
    {
     "name": "stderr",
     "output_type": "stream",
     "text": [
      "image 1/2 /home/samarth5854/anaconda3/envs/ModelEnv/lib/python3.10/site-packages/ultralytics/assets/bus.jpg: 640x480 4 persons, 76.8ms\n",
      "image 2/2 /home/samarth5854/anaconda3/envs/ModelEnv/lib/python3.10/site-packages/ultralytics/assets/zidane.jpg: 384x640 2 persons, 39.6ms\n",
      "Speed: 8.5ms preprocess, 58.2ms inference, 0.6ms postprocess per image at shape (1, 3, 384, 640)\n",
      "WARNING ⚠️ 'source' is missing. Using 'source=/home/samarth5854/anaconda3/envs/ModelEnv/lib/python3.10/site-packages/ultralytics/assets'.\n",
      "\n",
      "image 1/2 /home/samarth5854/anaconda3/envs/ModelEnv/lib/python3.10/site-packages/ultralytics/assets/bus.jpg: 640x480 4 persons, 44.2ms\n",
      "image 2/2 /home/samarth5854/anaconda3/envs/ModelEnv/lib/python3.10/site-packages/ultralytics/assets/zidane.jpg: 384x640 2 persons, 33.4ms\n",
      "Speed: 1.5ms preprocess, 38.8ms inference, 0.6ms postprocess per image at shape (1, 3, 384, 640)\n",
      "WARNING ⚠️ 'source' is missing. Using 'source=/home/samarth5854/anaconda3/envs/ModelEnv/lib/python3.10/site-packages/ultralytics/assets'.\n",
      "\n",
      "image 1/2 /home/samarth5854/anaconda3/envs/ModelEnv/lib/python3.10/site-packages/ultralytics/assets/bus.jpg: 640x480 4 persons, 40.0ms\n"
     ]
    },
    {
     "name": "stdout",
     "output_type": "stream",
     "text": [
      "Keypoints shape before flattening: torch.Size([4, 17, 2])\n",
      "Keypoints shape after flattening: (34,)\n",
      "saved to MP_Data/running/0/16.npy\n",
      "Keypoints shape before flattening: torch.Size([4, 17, 2])\n",
      "Keypoints shape after flattening: (34,)\n",
      "saved to MP_Data/running/0/17.npy\n"
     ]
    },
    {
     "name": "stderr",
     "output_type": "stream",
     "text": [
      "image 2/2 /home/samarth5854/anaconda3/envs/ModelEnv/lib/python3.10/site-packages/ultralytics/assets/zidane.jpg: 384x640 2 persons, 34.0ms\n",
      "Speed: 1.7ms preprocess, 37.0ms inference, 0.7ms postprocess per image at shape (1, 3, 384, 640)\n",
      "WARNING ⚠️ 'source' is missing. Using 'source=/home/samarth5854/anaconda3/envs/ModelEnv/lib/python3.10/site-packages/ultralytics/assets'.\n",
      "\n",
      "image 1/2 /home/samarth5854/anaconda3/envs/ModelEnv/lib/python3.10/site-packages/ultralytics/assets/bus.jpg: 640x480 4 persons, 61.9ms\n",
      "image 2/2 /home/samarth5854/anaconda3/envs/ModelEnv/lib/python3.10/site-packages/ultralytics/assets/zidane.jpg: 384x640 2 persons, 50.4ms\n",
      "Speed: 1.5ms preprocess, 56.1ms inference, 0.7ms postprocess per image at shape (1, 3, 384, 640)\n",
      "WARNING ⚠️ 'source' is missing. Using 'source=/home/samarth5854/anaconda3/envs/ModelEnv/lib/python3.10/site-packages/ultralytics/assets'.\n",
      "\n"
     ]
    },
    {
     "name": "stdout",
     "output_type": "stream",
     "text": [
      "Keypoints shape before flattening: torch.Size([4, 17, 2])\n",
      "Keypoints shape after flattening: (34,)\n",
      "saved to MP_Data/running/0/18.npy\n",
      "Keypoints shape before flattening: torch.Size([4, 17, 2])\n",
      "Keypoints shape after flattening: (34,)\n",
      "saved to MP_Data/running/0/19.npy\n"
     ]
    },
    {
     "name": "stderr",
     "output_type": "stream",
     "text": [
      "image 1/2 /home/samarth5854/anaconda3/envs/ModelEnv/lib/python3.10/site-packages/ultralytics/assets/bus.jpg: 640x480 4 persons, 61.0ms\n",
      "image 2/2 /home/samarth5854/anaconda3/envs/ModelEnv/lib/python3.10/site-packages/ultralytics/assets/zidane.jpg: 384x640 2 persons, 65.4ms\n",
      "Speed: 11.6ms preprocess, 63.2ms inference, 0.7ms postprocess per image at shape (1, 3, 384, 640)\n",
      "WARNING ⚠️ 'source' is missing. Using 'source=/home/samarth5854/anaconda3/envs/ModelEnv/lib/python3.10/site-packages/ultralytics/assets'.\n",
      "\n",
      "image 1/2 /home/samarth5854/anaconda3/envs/ModelEnv/lib/python3.10/site-packages/ultralytics/assets/bus.jpg: 640x480 4 persons, 61.8ms\n",
      "image 2/2 /home/samarth5854/anaconda3/envs/ModelEnv/lib/python3.10/site-packages/ultralytics/assets/zidane.jpg: 384x640 2 persons, 43.9ms\n",
      "Speed: 4.3ms preprocess, 52.8ms inference, 0.7ms postprocess per image at shape (1, 3, 384, 640)\n",
      "WARNING ⚠️ 'source' is missing. Using 'source=/home/samarth5854/anaconda3/envs/ModelEnv/lib/python3.10/site-packages/ultralytics/assets'.\n",
      "\n"
     ]
    },
    {
     "name": "stdout",
     "output_type": "stream",
     "text": [
      "Keypoints shape before flattening: torch.Size([4, 17, 2])\n",
      "Keypoints shape after flattening: (34,)\n",
      "saved to MP_Data/running/0/20.npy\n",
      "Keypoints shape before flattening: torch.Size([4, 17, 2])\n",
      "Keypoints shape after flattening: (34,)\n",
      "saved to MP_Data/running/0/21.npy\n"
     ]
    },
    {
     "name": "stderr",
     "output_type": "stream",
     "text": [
      "image 1/2 /home/samarth5854/anaconda3/envs/ModelEnv/lib/python3.10/site-packages/ultralytics/assets/bus.jpg: 640x480 4 persons, 61.0ms\n",
      "image 2/2 /home/samarth5854/anaconda3/envs/ModelEnv/lib/python3.10/site-packages/ultralytics/assets/zidane.jpg: 384x640 2 persons, 49.6ms\n",
      "Speed: 1.4ms preprocess, 55.3ms inference, 0.8ms postprocess per image at shape (1, 3, 384, 640)\n",
      "WARNING ⚠️ 'source' is missing. Using 'source=/home/samarth5854/anaconda3/envs/ModelEnv/lib/python3.10/site-packages/ultralytics/assets'.\n",
      "\n",
      "image 1/2 /home/samarth5854/anaconda3/envs/ModelEnv/lib/python3.10/site-packages/ultralytics/assets/bus.jpg: 640x480 4 persons, 60.0ms\n",
      "image 2/2 /home/samarth5854/anaconda3/envs/ModelEnv/lib/python3.10/site-packages/ultralytics/assets/zidane.jpg: 384x640 2 persons, 46.8ms\n",
      "Speed: 1.7ms preprocess, 53.4ms inference, 0.7ms postprocess per image at shape (1, 3, 384, 640)\n",
      "WARNING ⚠️ 'source' is missing. Using 'source=/home/samarth5854/anaconda3/envs/ModelEnv/lib/python3.10/site-packages/ultralytics/assets'.\n",
      "\n"
     ]
    },
    {
     "name": "stdout",
     "output_type": "stream",
     "text": [
      "Keypoints shape before flattening: torch.Size([4, 17, 2])\n",
      "Keypoints shape after flattening: (34,)\n",
      "saved to MP_Data/running/0/22.npy\n",
      "Keypoints shape before flattening: torch.Size([4, 17, 2])\n",
      "Keypoints shape after flattening: (34,)\n",
      "saved to MP_Data/running/0/23.npy\n"
     ]
    },
    {
     "name": "stderr",
     "output_type": "stream",
     "text": [
      "image 1/2 /home/samarth5854/anaconda3/envs/ModelEnv/lib/python3.10/site-packages/ultralytics/assets/bus.jpg: 640x480 4 persons, 53.6ms\n",
      "image 2/2 /home/samarth5854/anaconda3/envs/ModelEnv/lib/python3.10/site-packages/ultralytics/assets/zidane.jpg: 384x640 2 persons, 46.5ms\n",
      "Speed: 1.4ms preprocess, 50.0ms inference, 0.9ms postprocess per image at shape (1, 3, 384, 640)\n",
      "WARNING ⚠️ 'source' is missing. Using 'source=/home/samarth5854/anaconda3/envs/ModelEnv/lib/python3.10/site-packages/ultralytics/assets'.\n",
      "\n",
      "image 1/2 /home/samarth5854/anaconda3/envs/ModelEnv/lib/python3.10/site-packages/ultralytics/assets/bus.jpg: 640x480 4 persons, 57.2ms\n",
      "image 2/2 /home/samarth5854/anaconda3/envs/ModelEnv/lib/python3.10/site-packages/ultralytics/assets/zidane.jpg: 384x640 2 persons, 49.0ms\n",
      "Speed: 1.5ms preprocess, 53.1ms inference, 0.7ms postprocess per image at shape (1, 3, 384, 640)\n",
      "WARNING ⚠️ 'source' is missing. Using 'source=/home/samarth5854/anaconda3/envs/ModelEnv/lib/python3.10/site-packages/ultralytics/assets'.\n",
      "\n"
     ]
    },
    {
     "name": "stdout",
     "output_type": "stream",
     "text": [
      "Keypoints shape before flattening: torch.Size([4, 17, 2])\n",
      "Keypoints shape after flattening: (34,)\n",
      "saved to MP_Data/running/0/24.npy\n",
      "Keypoints shape before flattening: torch.Size([4, 17, 2])\n",
      "Keypoints shape after flattening: (34,)\n",
      "saved to MP_Data/running/0/25.npy\n"
     ]
    },
    {
     "name": "stderr",
     "output_type": "stream",
     "text": [
      "image 1/2 /home/samarth5854/anaconda3/envs/ModelEnv/lib/python3.10/site-packages/ultralytics/assets/bus.jpg: 640x480 4 persons, 57.2ms\n",
      "image 2/2 /home/samarth5854/anaconda3/envs/ModelEnv/lib/python3.10/site-packages/ultralytics/assets/zidane.jpg: 384x640 2 persons, 50.5ms\n",
      "Speed: 1.8ms preprocess, 53.8ms inference, 0.8ms postprocess per image at shape (1, 3, 384, 640)\n",
      "WARNING ⚠️ 'source' is missing. Using 'source=/home/samarth5854/anaconda3/envs/ModelEnv/lib/python3.10/site-packages/ultralytics/assets'.\n",
      "\n",
      "image 1/2 /home/samarth5854/anaconda3/envs/ModelEnv/lib/python3.10/site-packages/ultralytics/assets/bus.jpg: 640x480 4 persons, 57.3ms\n",
      "image 2/2 /home/samarth5854/anaconda3/envs/ModelEnv/lib/python3.10/site-packages/ultralytics/assets/zidane.jpg: 384x640 2 persons, 52.4ms\n",
      "Speed: 1.8ms preprocess, 54.8ms inference, 0.8ms postprocess per image at shape (1, 3, 384, 640)\n",
      "WARNING ⚠️ 'source' is missing. Using 'source=/home/samarth5854/anaconda3/envs/ModelEnv/lib/python3.10/site-packages/ultralytics/assets'.\n",
      "\n"
     ]
    },
    {
     "name": "stdout",
     "output_type": "stream",
     "text": [
      "Keypoints shape before flattening: torch.Size([4, 17, 2])\n",
      "Keypoints shape after flattening: (34,)\n",
      "saved to MP_Data/running/0/26.npy\n",
      "Keypoints shape before flattening: torch.Size([4, 17, 2])\n",
      "Keypoints shape after flattening: (34,)\n",
      "saved to MP_Data/running/0/27.npy\n"
     ]
    },
    {
     "name": "stderr",
     "output_type": "stream",
     "text": [
      "image 1/2 /home/samarth5854/anaconda3/envs/ModelEnv/lib/python3.10/site-packages/ultralytics/assets/bus.jpg: 640x480 4 persons, 49.9ms\n",
      "image 2/2 /home/samarth5854/anaconda3/envs/ModelEnv/lib/python3.10/site-packages/ultralytics/assets/zidane.jpg: 384x640 2 persons, 33.1ms\n",
      "Speed: 2.1ms preprocess, 41.5ms inference, 0.6ms postprocess per image at shape (1, 3, 384, 640)\n",
      "WARNING ⚠️ 'source' is missing. Using 'source=/home/samarth5854/anaconda3/envs/ModelEnv/lib/python3.10/site-packages/ultralytics/assets'.\n",
      "\n",
      "image 1/2 /home/samarth5854/anaconda3/envs/ModelEnv/lib/python3.10/site-packages/ultralytics/assets/bus.jpg: 640x480 4 persons, 57.9ms\n",
      "image 2/2 /home/samarth5854/anaconda3/envs/ModelEnv/lib/python3.10/site-packages/ultralytics/assets/zidane.jpg: 384x640 2 persons, 51.0ms\n",
      "Speed: 1.4ms preprocess, 54.5ms inference, 0.7ms postprocess per image at shape (1, 3, 384, 640)\n",
      "[ WARN:0@20.674] global /croot/opencv-suite_1691620365762/work/modules/videoio/src/cap_gstreamer.cpp (2401) handleMessage OpenCV | GStreamer warning: Embedded video playback halted; module source reported: \"/home/samarth5854/Desktop/LSTM/MP_Data/running/16\" is a directory.\n",
      "[ WARN:0@20.675] global /croot/opencv-suite_1691620365762/work/modules/videoio/src/cap_gstreamer.cpp (1356) open OpenCV | GStreamer warning: unable to start pipeline\n",
      "[ WARN:0@20.675] global /croot/opencv-suite_1691620365762/work/modules/videoio/src/cap_gstreamer.cpp (862) isPipelinePlaying OpenCV | GStreamer warning: GStreamer: pipeline have not been created\n",
      "WARNING ⚠️ 'source' is missing. Using 'source=/home/samarth5854/anaconda3/envs/ModelEnv/lib/python3.10/site-packages/ultralytics/assets'.\n",
      "\n"
     ]
    },
    {
     "name": "stdout",
     "output_type": "stream",
     "text": [
      "Keypoints shape before flattening: torch.Size([4, 17, 2])\n",
      "Keypoints shape after flattening: (34,)\n",
      "saved to MP_Data/running/0/28.npy\n",
      "Keypoints shape before flattening: torch.Size([4, 17, 2])\n",
      "Keypoints shape after flattening: (34,)\n",
      "saved to MP_Data/running/0/29.npy\n"
     ]
    },
    {
     "name": "stderr",
     "output_type": "stream",
     "text": [
      "image 1/2 /home/samarth5854/anaconda3/envs/ModelEnv/lib/python3.10/site-packages/ultralytics/assets/bus.jpg: 640x480 4 persons, 58.1ms\n",
      "image 2/2 /home/samarth5854/anaconda3/envs/ModelEnv/lib/python3.10/site-packages/ultralytics/assets/zidane.jpg: 384x640 2 persons, 49.5ms\n",
      "Speed: 1.7ms preprocess, 53.8ms inference, 0.8ms postprocess per image at shape (1, 3, 384, 640)\n",
      "WARNING ⚠️ 'source' is missing. Using 'source=/home/samarth5854/anaconda3/envs/ModelEnv/lib/python3.10/site-packages/ultralytics/assets'.\n",
      "\n",
      "image 1/2 /home/samarth5854/anaconda3/envs/ModelEnv/lib/python3.10/site-packages/ultralytics/assets/bus.jpg: 640x480 4 persons, 59.3ms\n",
      "image 2/2 /home/samarth5854/anaconda3/envs/ModelEnv/lib/python3.10/site-packages/ultralytics/assets/zidane.jpg: 384x640 2 persons, 50.3ms\n",
      "Speed: 1.7ms preprocess, 54.8ms inference, 0.7ms postprocess per image at shape (1, 3, 384, 640)\n",
      "WARNING ⚠️ 'source' is missing. Using 'source=/home/samarth5854/anaconda3/envs/ModelEnv/lib/python3.10/site-packages/ultralytics/assets'.\n",
      "\n"
     ]
    },
    {
     "name": "stdout",
     "output_type": "stream",
     "text": [
      "Keypoints shape before flattening: torch.Size([4, 17, 2])\n",
      "Keypoints shape after flattening: (34,)\n",
      "saved to MP_Data/running/1/0.npy\n",
      "Keypoints shape before flattening: torch.Size([4, 17, 2])\n",
      "Keypoints shape after flattening: (34,)\n",
      "saved to MP_Data/running/1/1.npy\n"
     ]
    },
    {
     "name": "stderr",
     "output_type": "stream",
     "text": [
      "image 1/2 /home/samarth5854/anaconda3/envs/ModelEnv/lib/python3.10/site-packages/ultralytics/assets/bus.jpg: 640x480 4 persons, 58.3ms\n",
      "image 2/2 /home/samarth5854/anaconda3/envs/ModelEnv/lib/python3.10/site-packages/ultralytics/assets/zidane.jpg: 384x640 2 persons, 55.0ms\n",
      "Speed: 1.7ms preprocess, 56.7ms inference, 0.8ms postprocess per image at shape (1, 3, 384, 640)\n",
      "WARNING ⚠️ 'source' is missing. Using 'source=/home/samarth5854/anaconda3/envs/ModelEnv/lib/python3.10/site-packages/ultralytics/assets'.\n",
      "\n",
      "image 1/2 /home/samarth5854/anaconda3/envs/ModelEnv/lib/python3.10/site-packages/ultralytics/assets/bus.jpg: 640x480 4 persons, 63.0ms\n",
      "image 2/2 /home/samarth5854/anaconda3/envs/ModelEnv/lib/python3.10/site-packages/ultralytics/assets/zidane.jpg: 384x640 2 persons, 51.3ms\n",
      "Speed: 1.4ms preprocess, 57.1ms inference, 0.8ms postprocess per image at shape (1, 3, 384, 640)\n",
      "WARNING ⚠️ 'source' is missing. Using 'source=/home/samarth5854/anaconda3/envs/ModelEnv/lib/python3.10/site-packages/ultralytics/assets'.\n",
      "\n"
     ]
    },
    {
     "name": "stdout",
     "output_type": "stream",
     "text": [
      "Keypoints shape before flattening: torch.Size([4, 17, 2])\n",
      "Keypoints shape after flattening: (34,)\n",
      "saved to MP_Data/running/1/2.npy\n",
      "Keypoints shape before flattening: torch.Size([4, 17, 2])\n",
      "Keypoints shape after flattening: (34,)\n",
      "saved to MP_Data/running/1/3.npy\n"
     ]
    },
    {
     "name": "stderr",
     "output_type": "stream",
     "text": [
      "image 1/2 /home/samarth5854/anaconda3/envs/ModelEnv/lib/python3.10/site-packages/ultralytics/assets/bus.jpg: 640x480 4 persons, 64.8ms\n",
      "image 2/2 /home/samarth5854/anaconda3/envs/ModelEnv/lib/python3.10/site-packages/ultralytics/assets/zidane.jpg: 384x640 2 persons, 52.8ms\n",
      "Speed: 1.6ms preprocess, 58.8ms inference, 0.8ms postprocess per image at shape (1, 3, 384, 640)\n",
      "WARNING ⚠️ 'source' is missing. Using 'source=/home/samarth5854/anaconda3/envs/ModelEnv/lib/python3.10/site-packages/ultralytics/assets'.\n",
      "\n",
      "image 1/2 /home/samarth5854/anaconda3/envs/ModelEnv/lib/python3.10/site-packages/ultralytics/assets/bus.jpg: 640x480 4 persons, 61.7ms\n",
      "image 2/2 /home/samarth5854/anaconda3/envs/ModelEnv/lib/python3.10/site-packages/ultralytics/assets/zidane.jpg: 384x640 2 persons, 50.9ms\n",
      "Speed: 1.5ms preprocess, 56.3ms inference, 0.8ms postprocess per image at shape (1, 3, 384, 640)\n",
      "WARNING ⚠️ 'source' is missing. Using 'source=/home/samarth5854/anaconda3/envs/ModelEnv/lib/python3.10/site-packages/ultralytics/assets'.\n",
      "\n",
      "image 1/2 /home/samarth5854/anaconda3/envs/ModelEnv/lib/python3.10/site-packages/ultralytics/assets/bus.jpg: 640x480 4 persons, 39.9ms\n"
     ]
    },
    {
     "name": "stdout",
     "output_type": "stream",
     "text": [
      "Keypoints shape before flattening: torch.Size([4, 17, 2])\n",
      "Keypoints shape after flattening: (34,)\n",
      "saved to MP_Data/running/1/4.npy\n",
      "Keypoints shape before flattening: torch.Size([4, 17, 2])\n",
      "Keypoints shape after flattening: (34,)\n",
      "saved to MP_Data/running/1/5.npy\n"
     ]
    },
    {
     "name": "stderr",
     "output_type": "stream",
     "text": [
      "image 2/2 /home/samarth5854/anaconda3/envs/ModelEnv/lib/python3.10/site-packages/ultralytics/assets/zidane.jpg: 384x640 2 persons, 36.1ms\n",
      "Speed: 1.5ms preprocess, 38.0ms inference, 0.6ms postprocess per image at shape (1, 3, 384, 640)\n",
      "WARNING ⚠️ 'source' is missing. Using 'source=/home/samarth5854/anaconda3/envs/ModelEnv/lib/python3.10/site-packages/ultralytics/assets'.\n",
      "\n",
      "image 1/2 /home/samarth5854/anaconda3/envs/ModelEnv/lib/python3.10/site-packages/ultralytics/assets/bus.jpg: 640x480 4 persons, 50.7ms\n",
      "image 2/2 /home/samarth5854/anaconda3/envs/ModelEnv/lib/python3.10/site-packages/ultralytics/assets/zidane.jpg: 384x640 2 persons, 33.4ms\n",
      "Speed: 1.8ms preprocess, 42.0ms inference, 0.7ms postprocess per image at shape (1, 3, 384, 640)\n",
      "WARNING ⚠️ 'source' is missing. Using 'source=/home/samarth5854/anaconda3/envs/ModelEnv/lib/python3.10/site-packages/ultralytics/assets'.\n",
      "\n",
      "image 1/2 /home/samarth5854/anaconda3/envs/ModelEnv/lib/python3.10/site-packages/ultralytics/assets/bus.jpg: 640x480 4 persons, 43.6ms\n"
     ]
    },
    {
     "name": "stdout",
     "output_type": "stream",
     "text": [
      "Keypoints shape before flattening: torch.Size([4, 17, 2])\n",
      "Keypoints shape after flattening: (34,)\n",
      "saved to MP_Data/running/1/6.npy\n",
      "Keypoints shape before flattening: torch.Size([4, 17, 2])\n",
      "Keypoints shape after flattening: (34,)\n",
      "saved to MP_Data/running/1/7.npy\n"
     ]
    },
    {
     "name": "stderr",
     "output_type": "stream",
     "text": [
      "image 2/2 /home/samarth5854/anaconda3/envs/ModelEnv/lib/python3.10/site-packages/ultralytics/assets/zidane.jpg: 384x640 2 persons, 34.1ms\n",
      "Speed: 1.5ms preprocess, 38.8ms inference, 0.8ms postprocess per image at shape (1, 3, 384, 640)\n",
      "WARNING ⚠️ 'source' is missing. Using 'source=/home/samarth5854/anaconda3/envs/ModelEnv/lib/python3.10/site-packages/ultralytics/assets'.\n",
      "\n",
      "image 1/2 /home/samarth5854/anaconda3/envs/ModelEnv/lib/python3.10/site-packages/ultralytics/assets/bus.jpg: 640x480 4 persons, 50.6ms\n",
      "image 2/2 /home/samarth5854/anaconda3/envs/ModelEnv/lib/python3.10/site-packages/ultralytics/assets/zidane.jpg: 384x640 2 persons, 33.8ms\n",
      "Speed: 19.7ms preprocess, 42.2ms inference, 0.7ms postprocess per image at shape (1, 3, 384, 640)\n",
      "WARNING ⚠️ 'source' is missing. Using 'source=/home/samarth5854/anaconda3/envs/ModelEnv/lib/python3.10/site-packages/ultralytics/assets'.\n",
      "\n"
     ]
    },
    {
     "name": "stdout",
     "output_type": "stream",
     "text": [
      "Keypoints shape before flattening: torch.Size([4, 17, 2])\n",
      "Keypoints shape after flattening: (34,)\n",
      "saved to MP_Data/running/1/8.npy\n",
      "Keypoints shape before flattening: torch.Size([4, 17, 2])\n",
      "Keypoints shape after flattening: (34,)\n",
      "saved to MP_Data/running/1/9.npy\n"
     ]
    },
    {
     "name": "stderr",
     "output_type": "stream",
     "text": [
      "image 1/2 /home/samarth5854/anaconda3/envs/ModelEnv/lib/python3.10/site-packages/ultralytics/assets/bus.jpg: 640x480 4 persons, 58.1ms\n",
      "image 2/2 /home/samarth5854/anaconda3/envs/ModelEnv/lib/python3.10/site-packages/ultralytics/assets/zidane.jpg: 384x640 2 persons, 51.9ms\n",
      "Speed: 1.4ms preprocess, 55.0ms inference, 0.8ms postprocess per image at shape (1, 3, 384, 640)\n",
      "WARNING ⚠️ 'source' is missing. Using 'source=/home/samarth5854/anaconda3/envs/ModelEnv/lib/python3.10/site-packages/ultralytics/assets'.\n",
      "\n",
      "image 1/2 /home/samarth5854/anaconda3/envs/ModelEnv/lib/python3.10/site-packages/ultralytics/assets/bus.jpg: 640x480 4 persons, 61.6ms\n",
      "image 2/2 /home/samarth5854/anaconda3/envs/ModelEnv/lib/python3.10/site-packages/ultralytics/assets/zidane.jpg: 384x640 2 persons, 52.2ms\n",
      "Speed: 1.4ms preprocess, 56.9ms inference, 0.8ms postprocess per image at shape (1, 3, 384, 640)\n",
      "WARNING ⚠️ 'source' is missing. Using 'source=/home/samarth5854/anaconda3/envs/ModelEnv/lib/python3.10/site-packages/ultralytics/assets'.\n",
      "\n"
     ]
    },
    {
     "name": "stdout",
     "output_type": "stream",
     "text": [
      "Keypoints shape before flattening: torch.Size([4, 17, 2])\n",
      "Keypoints shape after flattening: (34,)\n",
      "saved to MP_Data/running/1/10.npy\n",
      "Keypoints shape before flattening: torch.Size([4, 17, 2])\n",
      "Keypoints shape after flattening: (34,)\n",
      "saved to MP_Data/running/1/11.npy\n"
     ]
    },
    {
     "name": "stderr",
     "output_type": "stream",
     "text": [
      "image 1/2 /home/samarth5854/anaconda3/envs/ModelEnv/lib/python3.10/site-packages/ultralytics/assets/bus.jpg: 640x480 4 persons, 57.0ms\n",
      "image 2/2 /home/samarth5854/anaconda3/envs/ModelEnv/lib/python3.10/site-packages/ultralytics/assets/zidane.jpg: 384x640 2 persons, 51.9ms\n",
      "Speed: 1.7ms preprocess, 54.4ms inference, 0.8ms postprocess per image at shape (1, 3, 384, 640)\n",
      "WARNING ⚠️ 'source' is missing. Using 'source=/home/samarth5854/anaconda3/envs/ModelEnv/lib/python3.10/site-packages/ultralytics/assets'.\n",
      "\n",
      "image 1/2 /home/samarth5854/anaconda3/envs/ModelEnv/lib/python3.10/site-packages/ultralytics/assets/bus.jpg: 640x480 4 persons, 61.6ms\n",
      "image 2/2 /home/samarth5854/anaconda3/envs/ModelEnv/lib/python3.10/site-packages/ultralytics/assets/zidane.jpg: 384x640 2 persons, 47.0ms\n",
      "Speed: 1.6ms preprocess, 54.3ms inference, 0.6ms postprocess per image at shape (1, 3, 384, 640)\n",
      "WARNING ⚠️ 'source' is missing. Using 'source=/home/samarth5854/anaconda3/envs/ModelEnv/lib/python3.10/site-packages/ultralytics/assets'.\n",
      "\n",
      "image 1/2 /home/samarth5854/anaconda3/envs/ModelEnv/lib/python3.10/site-packages/ultralytics/assets/bus.jpg: 640x480 4 persons, 42.6ms\n"
     ]
    },
    {
     "name": "stdout",
     "output_type": "stream",
     "text": [
      "Keypoints shape before flattening: torch.Size([4, 17, 2])\n",
      "Keypoints shape after flattening: (34,)\n",
      "saved to MP_Data/running/1/12.npy\n",
      "Keypoints shape before flattening: torch.Size([4, 17, 2])\n",
      "Keypoints shape after flattening: (34,)\n",
      "saved to MP_Data/running/1/13.npy\n"
     ]
    },
    {
     "name": "stderr",
     "output_type": "stream",
     "text": [
      "image 2/2 /home/samarth5854/anaconda3/envs/ModelEnv/lib/python3.10/site-packages/ultralytics/assets/zidane.jpg: 384x640 2 persons, 54.3ms\n",
      "Speed: 1.6ms preprocess, 48.5ms inference, 0.7ms postprocess per image at shape (1, 3, 384, 640)\n",
      "WARNING ⚠️ 'source' is missing. Using 'source=/home/samarth5854/anaconda3/envs/ModelEnv/lib/python3.10/site-packages/ultralytics/assets'.\n",
      "\n",
      "image 1/2 /home/samarth5854/anaconda3/envs/ModelEnv/lib/python3.10/site-packages/ultralytics/assets/bus.jpg: 640x480 4 persons, 58.6ms\n",
      "image 2/2 /home/samarth5854/anaconda3/envs/ModelEnv/lib/python3.10/site-packages/ultralytics/assets/zidane.jpg: 384x640 2 persons, 48.8ms\n",
      "Speed: 1.5ms preprocess, 53.7ms inference, 0.6ms postprocess per image at shape (1, 3, 384, 640)\n",
      "WARNING ⚠️ 'source' is missing. Using 'source=/home/samarth5854/anaconda3/envs/ModelEnv/lib/python3.10/site-packages/ultralytics/assets'.\n",
      "\n"
     ]
    },
    {
     "name": "stdout",
     "output_type": "stream",
     "text": [
      "Keypoints shape before flattening: torch.Size([4, 17, 2])\n",
      "Keypoints shape after flattening: (34,)\n",
      "saved to MP_Data/running/1/14.npy\n",
      "Keypoints shape before flattening: torch.Size([4, 17, 2])\n",
      "Keypoints shape after flattening: (34,)\n",
      "saved to MP_Data/running/1/15.npy\n"
     ]
    },
    {
     "name": "stderr",
     "output_type": "stream",
     "text": [
      "image 1/2 /home/samarth5854/anaconda3/envs/ModelEnv/lib/python3.10/site-packages/ultralytics/assets/bus.jpg: 640x480 4 persons, 61.0ms\n",
      "image 2/2 /home/samarth5854/anaconda3/envs/ModelEnv/lib/python3.10/site-packages/ultralytics/assets/zidane.jpg: 384x640 2 persons, 50.4ms\n",
      "Speed: 1.7ms preprocess, 55.7ms inference, 0.6ms postprocess per image at shape (1, 3, 384, 640)\n",
      "WARNING ⚠️ 'source' is missing. Using 'source=/home/samarth5854/anaconda3/envs/ModelEnv/lib/python3.10/site-packages/ultralytics/assets'.\n",
      "\n",
      "image 1/2 /home/samarth5854/anaconda3/envs/ModelEnv/lib/python3.10/site-packages/ultralytics/assets/bus.jpg: 640x480 4 persons, 60.4ms\n",
      "image 2/2 /home/samarth5854/anaconda3/envs/ModelEnv/lib/python3.10/site-packages/ultralytics/assets/zidane.jpg: 384x640 2 persons, 48.4ms\n",
      "Speed: 1.8ms preprocess, 54.4ms inference, 0.7ms postprocess per image at shape (1, 3, 384, 640)\n",
      "WARNING ⚠️ 'source' is missing. Using 'source=/home/samarth5854/anaconda3/envs/ModelEnv/lib/python3.10/site-packages/ultralytics/assets'.\n",
      "\n"
     ]
    },
    {
     "name": "stdout",
     "output_type": "stream",
     "text": [
      "Keypoints shape before flattening: torch.Size([4, 17, 2])\n",
      "Keypoints shape after flattening: (34,)\n",
      "saved to MP_Data/running/1/16.npy\n",
      "Keypoints shape before flattening: torch.Size([4, 17, 2])\n",
      "Keypoints shape after flattening: (34,)\n",
      "saved to MP_Data/running/1/17.npy\n"
     ]
    },
    {
     "name": "stderr",
     "output_type": "stream",
     "text": [
      "image 1/2 /home/samarth5854/anaconda3/envs/ModelEnv/lib/python3.10/site-packages/ultralytics/assets/bus.jpg: 640x480 4 persons, 58.2ms\n",
      "image 2/2 /home/samarth5854/anaconda3/envs/ModelEnv/lib/python3.10/site-packages/ultralytics/assets/zidane.jpg: 384x640 2 persons, 49.3ms\n",
      "Speed: 1.5ms preprocess, 53.8ms inference, 0.7ms postprocess per image at shape (1, 3, 384, 640)\n",
      "WARNING ⚠️ 'source' is missing. Using 'source=/home/samarth5854/anaconda3/envs/ModelEnv/lib/python3.10/site-packages/ultralytics/assets'.\n",
      "\n",
      "image 1/2 /home/samarth5854/anaconda3/envs/ModelEnv/lib/python3.10/site-packages/ultralytics/assets/bus.jpg: 640x480 4 persons, 61.6ms\n",
      "image 2/2 /home/samarth5854/anaconda3/envs/ModelEnv/lib/python3.10/site-packages/ultralytics/assets/zidane.jpg: 384x640 2 persons, 49.5ms\n",
      "Speed: 1.7ms preprocess, 55.6ms inference, 0.6ms postprocess per image at shape (1, 3, 384, 640)\n",
      "WARNING ⚠️ 'source' is missing. Using 'source=/home/samarth5854/anaconda3/envs/ModelEnv/lib/python3.10/site-packages/ultralytics/assets'.\n",
      "\n"
     ]
    },
    {
     "name": "stdout",
     "output_type": "stream",
     "text": [
      "Keypoints shape before flattening: torch.Size([4, 17, 2])\n",
      "Keypoints shape after flattening: (34,)\n",
      "saved to MP_Data/running/1/18.npy\n",
      "Keypoints shape before flattening: torch.Size([4, 17, 2])\n",
      "Keypoints shape after flattening: (34,)\n",
      "saved to MP_Data/running/1/19.npy\n"
     ]
    },
    {
     "name": "stderr",
     "output_type": "stream",
     "text": [
      "image 1/2 /home/samarth5854/anaconda3/envs/ModelEnv/lib/python3.10/site-packages/ultralytics/assets/bus.jpg: 640x480 4 persons, 58.3ms\n",
      "image 2/2 /home/samarth5854/anaconda3/envs/ModelEnv/lib/python3.10/site-packages/ultralytics/assets/zidane.jpg: 384x640 2 persons, 50.4ms\n",
      "Speed: 1.8ms preprocess, 54.3ms inference, 0.6ms postprocess per image at shape (1, 3, 384, 640)\n",
      "WARNING ⚠️ 'source' is missing. Using 'source=/home/samarth5854/anaconda3/envs/ModelEnv/lib/python3.10/site-packages/ultralytics/assets'.\n",
      "\n",
      "image 1/2 /home/samarth5854/anaconda3/envs/ModelEnv/lib/python3.10/site-packages/ultralytics/assets/bus.jpg: 640x480 4 persons, 56.7ms\n",
      "image 2/2 /home/samarth5854/anaconda3/envs/ModelEnv/lib/python3.10/site-packages/ultralytics/assets/zidane.jpg: 384x640 2 persons, 48.1ms\n",
      "Speed: 1.4ms preprocess, 52.4ms inference, 0.6ms postprocess per image at shape (1, 3, 384, 640)\n",
      "WARNING ⚠️ 'source' is missing. Using 'source=/home/samarth5854/anaconda3/envs/ModelEnv/lib/python3.10/site-packages/ultralytics/assets'.\n",
      "\n",
      "image 1/2 /home/samarth5854/anaconda3/envs/ModelEnv/lib/python3.10/site-packages/ultralytics/assets/bus.jpg: 640x480 4 persons, 46.2ms\n"
     ]
    },
    {
     "name": "stdout",
     "output_type": "stream",
     "text": [
      "Keypoints shape before flattening: torch.Size([4, 17, 2])\n",
      "Keypoints shape after flattening: (34,)\n",
      "saved to MP_Data/running/1/20.npy\n",
      "Keypoints shape before flattening: torch.Size([4, 17, 2])\n",
      "Keypoints shape after flattening: (34,)\n",
      "saved to MP_Data/running/1/21.npy\n"
     ]
    },
    {
     "name": "stderr",
     "output_type": "stream",
     "text": [
      "image 2/2 /home/samarth5854/anaconda3/envs/ModelEnv/lib/python3.10/site-packages/ultralytics/assets/zidane.jpg: 384x640 2 persons, 38.7ms\n",
      "Speed: 1.8ms preprocess, 42.5ms inference, 0.9ms postprocess per image at shape (1, 3, 384, 640)\n",
      "WARNING ⚠️ 'source' is missing. Using 'source=/home/samarth5854/anaconda3/envs/ModelEnv/lib/python3.10/site-packages/ultralytics/assets'.\n",
      "\n",
      "image 1/2 /home/samarth5854/anaconda3/envs/ModelEnv/lib/python3.10/site-packages/ultralytics/assets/bus.jpg: 640x480 4 persons, 42.8ms\n",
      "image 2/2 /home/samarth5854/anaconda3/envs/ModelEnv/lib/python3.10/site-packages/ultralytics/assets/zidane.jpg: 384x640 2 persons, 33.5ms\n",
      "Speed: 4.4ms preprocess, 38.2ms inference, 0.7ms postprocess per image at shape (1, 3, 384, 640)\n",
      "WARNING ⚠️ 'source' is missing. Using 'source=/home/samarth5854/anaconda3/envs/ModelEnv/lib/python3.10/site-packages/ultralytics/assets'.\n",
      "\n",
      "image 1/2 /home/samarth5854/anaconda3/envs/ModelEnv/lib/python3.10/site-packages/ultralytics/assets/bus.jpg: 640x480 4 persons, 58.9ms\n"
     ]
    },
    {
     "name": "stdout",
     "output_type": "stream",
     "text": [
      "Keypoints shape before flattening: torch.Size([4, 17, 2])\n",
      "Keypoints shape after flattening: (34,)\n",
      "saved to MP_Data/running/1/22.npy\n",
      "Keypoints shape before flattening: torch.Size([4, 17, 2])\n",
      "Keypoints shape after flattening: (34,)\n",
      "saved to MP_Data/running/1/23.npy\n"
     ]
    },
    {
     "name": "stderr",
     "output_type": "stream",
     "text": [
      "image 2/2 /home/samarth5854/anaconda3/envs/ModelEnv/lib/python3.10/site-packages/ultralytics/assets/zidane.jpg: 384x640 2 persons, 50.8ms\n",
      "Speed: 1.9ms preprocess, 54.9ms inference, 0.6ms postprocess per image at shape (1, 3, 384, 640)\n",
      "WARNING ⚠️ 'source' is missing. Using 'source=/home/samarth5854/anaconda3/envs/ModelEnv/lib/python3.10/site-packages/ultralytics/assets'.\n",
      "\n",
      "image 1/2 /home/samarth5854/anaconda3/envs/ModelEnv/lib/python3.10/site-packages/ultralytics/assets/bus.jpg: 640x480 4 persons, 61.5ms\n",
      "image 2/2 /home/samarth5854/anaconda3/envs/ModelEnv/lib/python3.10/site-packages/ultralytics/assets/zidane.jpg: 384x640 2 persons, 53.2ms\n",
      "Speed: 1.8ms preprocess, 57.3ms inference, 0.8ms postprocess per image at shape (1, 3, 384, 640)\n",
      "WARNING ⚠️ 'source' is missing. Using 'source=/home/samarth5854/anaconda3/envs/ModelEnv/lib/python3.10/site-packages/ultralytics/assets'.\n",
      "\n"
     ]
    },
    {
     "name": "stdout",
     "output_type": "stream",
     "text": [
      "Keypoints shape before flattening: torch.Size([4, 17, 2])\n",
      "Keypoints shape after flattening: (34,)\n",
      "saved to MP_Data/running/1/24.npy\n",
      "Keypoints shape before flattening: torch.Size([4, 17, 2])\n",
      "Keypoints shape after flattening: (34,)\n",
      "saved to MP_Data/running/1/25.npy\n"
     ]
    },
    {
     "name": "stderr",
     "output_type": "stream",
     "text": [
      "image 1/2 /home/samarth5854/anaconda3/envs/ModelEnv/lib/python3.10/site-packages/ultralytics/assets/bus.jpg: 640x480 4 persons, 64.9ms\n",
      "image 2/2 /home/samarth5854/anaconda3/envs/ModelEnv/lib/python3.10/site-packages/ultralytics/assets/zidane.jpg: 384x640 2 persons, 36.9ms\n",
      "Speed: 2.1ms preprocess, 50.9ms inference, 0.6ms postprocess per image at shape (1, 3, 384, 640)\n",
      "WARNING ⚠️ 'source' is missing. Using 'source=/home/samarth5854/anaconda3/envs/ModelEnv/lib/python3.10/site-packages/ultralytics/assets'.\n",
      "\n",
      "image 1/2 /home/samarth5854/anaconda3/envs/ModelEnv/lib/python3.10/site-packages/ultralytics/assets/bus.jpg: 640x480 4 persons, 40.6ms\n",
      "image 2/2 /home/samarth5854/anaconda3/envs/ModelEnv/lib/python3.10/site-packages/ultralytics/assets/zidane.jpg: 384x640 2 persons, 34.8ms\n",
      "Speed: 1.5ms preprocess, 37.7ms inference, 0.7ms postprocess per image at shape (1, 3, 384, 640)\n",
      "WARNING ⚠️ 'source' is missing. Using 'source=/home/samarth5854/anaconda3/envs/ModelEnv/lib/python3.10/site-packages/ultralytics/assets'.\n",
      "\n",
      "image 1/2 /home/samarth5854/anaconda3/envs/ModelEnv/lib/python3.10/site-packages/ultralytics/assets/bus.jpg: 640x480 4 persons, 41.4ms\n"
     ]
    },
    {
     "name": "stdout",
     "output_type": "stream",
     "text": [
      "Keypoints shape before flattening: torch.Size([4, 17, 2])\n",
      "Keypoints shape after flattening: (34,)\n",
      "saved to MP_Data/running/1/26.npy\n",
      "Keypoints shape before flattening: torch.Size([4, 17, 2])\n",
      "Keypoints shape after flattening: (34,)\n",
      "saved to MP_Data/running/1/27.npy\n"
     ]
    },
    {
     "name": "stderr",
     "output_type": "stream",
     "text": [
      "image 2/2 /home/samarth5854/anaconda3/envs/ModelEnv/lib/python3.10/site-packages/ultralytics/assets/zidane.jpg: 384x640 2 persons, 37.2ms\n",
      "Speed: 1.6ms preprocess, 39.3ms inference, 0.7ms postprocess per image at shape (1, 3, 384, 640)\n",
      "WARNING ⚠️ 'source' is missing. Using 'source=/home/samarth5854/anaconda3/envs/ModelEnv/lib/python3.10/site-packages/ultralytics/assets'.\n",
      "\n",
      "image 1/2 /home/samarth5854/anaconda3/envs/ModelEnv/lib/python3.10/site-packages/ultralytics/assets/bus.jpg: 640x480 4 persons, 59.4ms\n",
      "image 2/2 /home/samarth5854/anaconda3/envs/ModelEnv/lib/python3.10/site-packages/ultralytics/assets/zidane.jpg: 384x640 2 persons, 50.5ms\n",
      "Speed: 1.6ms preprocess, 54.9ms inference, 0.8ms postprocess per image at shape (1, 3, 384, 640)\n",
      "[ WARN:0@24.674] global /croot/opencv-suite_1691620365762/work/modules/videoio/src/cap_gstreamer.cpp (2401) handleMessage OpenCV | GStreamer warning: Embedded video playback halted; module source reported: \"/home/samarth5854/Desktop/LSTM/MP_Data/running/38\" is a directory.\n",
      "[ WARN:0@24.674] global /croot/opencv-suite_1691620365762/work/modules/videoio/src/cap_gstreamer.cpp (1356) open OpenCV | GStreamer warning: unable to start pipeline\n",
      "[ WARN:0@24.674] global /croot/opencv-suite_1691620365762/work/modules/videoio/src/cap_gstreamer.cpp (862) isPipelinePlaying OpenCV | GStreamer warning: GStreamer: pipeline have not been created\n",
      "WARNING ⚠️ 'source' is missing. Using 'source=/home/samarth5854/anaconda3/envs/ModelEnv/lib/python3.10/site-packages/ultralytics/assets'.\n",
      "\n"
     ]
    },
    {
     "name": "stdout",
     "output_type": "stream",
     "text": [
      "Keypoints shape before flattening: torch.Size([4, 17, 2])\n",
      "Keypoints shape after flattening: (34,)\n",
      "saved to MP_Data/running/1/28.npy\n",
      "Keypoints shape before flattening: torch.Size([4, 17, 2])\n",
      "Keypoints shape after flattening: (34,)\n",
      "saved to MP_Data/running/1/29.npy\n"
     ]
    },
    {
     "name": "stderr",
     "output_type": "stream",
     "text": [
      "image 1/2 /home/samarth5854/anaconda3/envs/ModelEnv/lib/python3.10/site-packages/ultralytics/assets/bus.jpg: 640x480 4 persons, 66.6ms\n",
      "image 2/2 /home/samarth5854/anaconda3/envs/ModelEnv/lib/python3.10/site-packages/ultralytics/assets/zidane.jpg: 384x640 2 persons, 52.5ms\n",
      "Speed: 1.5ms preprocess, 59.5ms inference, 0.7ms postprocess per image at shape (1, 3, 384, 640)\n",
      "WARNING ⚠️ 'source' is missing. Using 'source=/home/samarth5854/anaconda3/envs/ModelEnv/lib/python3.10/site-packages/ultralytics/assets'.\n",
      "\n",
      "image 1/2 /home/samarth5854/anaconda3/envs/ModelEnv/lib/python3.10/site-packages/ultralytics/assets/bus.jpg: 640x480 4 persons, 59.4ms\n",
      "image 2/2 /home/samarth5854/anaconda3/envs/ModelEnv/lib/python3.10/site-packages/ultralytics/assets/zidane.jpg: 384x640 2 persons, 52.4ms\n",
      "Speed: 1.5ms preprocess, 55.9ms inference, 0.8ms postprocess per image at shape (1, 3, 384, 640)\n",
      "WARNING ⚠️ 'source' is missing. Using 'source=/home/samarth5854/anaconda3/envs/ModelEnv/lib/python3.10/site-packages/ultralytics/assets'.\n",
      "\n"
     ]
    },
    {
     "name": "stdout",
     "output_type": "stream",
     "text": [
      "Keypoints shape before flattening: torch.Size([4, 17, 2])\n",
      "Keypoints shape after flattening: (34,)\n",
      "saved to MP_Data/running/2/0.npy\n",
      "Keypoints shape before flattening: torch.Size([4, 17, 2])\n",
      "Keypoints shape after flattening: (34,)\n",
      "saved to MP_Data/running/2/1.npy\n"
     ]
    },
    {
     "name": "stderr",
     "output_type": "stream",
     "text": [
      "image 1/2 /home/samarth5854/anaconda3/envs/ModelEnv/lib/python3.10/site-packages/ultralytics/assets/bus.jpg: 640x480 4 persons, 59.3ms\n",
      "image 2/2 /home/samarth5854/anaconda3/envs/ModelEnv/lib/python3.10/site-packages/ultralytics/assets/zidane.jpg: 384x640 2 persons, 53.0ms\n",
      "Speed: 1.4ms preprocess, 56.2ms inference, 0.8ms postprocess per image at shape (1, 3, 384, 640)\n",
      "WARNING ⚠️ 'source' is missing. Using 'source=/home/samarth5854/anaconda3/envs/ModelEnv/lib/python3.10/site-packages/ultralytics/assets'.\n",
      "\n",
      "image 1/2 /home/samarth5854/anaconda3/envs/ModelEnv/lib/python3.10/site-packages/ultralytics/assets/bus.jpg: 640x480 4 persons, 43.0ms\n",
      "image 2/2 /home/samarth5854/anaconda3/envs/ModelEnv/lib/python3.10/site-packages/ultralytics/assets/zidane.jpg: 384x640 2 persons, 36.7ms\n",
      "Speed: 1.8ms preprocess, 39.9ms inference, 0.7ms postprocess per image at shape (1, 3, 384, 640)\n",
      "WARNING ⚠️ 'source' is missing. Using 'source=/home/samarth5854/anaconda3/envs/ModelEnv/lib/python3.10/site-packages/ultralytics/assets'.\n",
      "\n",
      "image 1/2 /home/samarth5854/anaconda3/envs/ModelEnv/lib/python3.10/site-packages/ultralytics/assets/bus.jpg: 640x480 4 persons, 59.7ms\n"
     ]
    },
    {
     "name": "stdout",
     "output_type": "stream",
     "text": [
      "Keypoints shape before flattening: torch.Size([4, 17, 2])\n",
      "Keypoints shape after flattening: (34,)\n",
      "saved to MP_Data/running/2/2.npy\n",
      "Keypoints shape before flattening: torch.Size([4, 17, 2])\n",
      "Keypoints shape after flattening: (34,)\n",
      "saved to MP_Data/running/2/3.npy\n"
     ]
    },
    {
     "name": "stderr",
     "output_type": "stream",
     "text": [
      "image 2/2 /home/samarth5854/anaconda3/envs/ModelEnv/lib/python3.10/site-packages/ultralytics/assets/zidane.jpg: 384x640 2 persons, 52.7ms\n",
      "Speed: 1.4ms preprocess, 56.2ms inference, 0.8ms postprocess per image at shape (1, 3, 384, 640)\n",
      "WARNING ⚠️ 'source' is missing. Using 'source=/home/samarth5854/anaconda3/envs/ModelEnv/lib/python3.10/site-packages/ultralytics/assets'.\n",
      "\n",
      "image 1/2 /home/samarth5854/anaconda3/envs/ModelEnv/lib/python3.10/site-packages/ultralytics/assets/bus.jpg: 640x480 4 persons, 40.4ms\n",
      "image 2/2 /home/samarth5854/anaconda3/envs/ModelEnv/lib/python3.10/site-packages/ultralytics/assets/zidane.jpg: 384x640 2 persons, 35.9ms\n",
      "Speed: 1.6ms preprocess, 38.2ms inference, 0.7ms postprocess per image at shape (1, 3, 384, 640)\n",
      "WARNING ⚠️ 'source' is missing. Using 'source=/home/samarth5854/anaconda3/envs/ModelEnv/lib/python3.10/site-packages/ultralytics/assets'.\n",
      "\n",
      "image 1/2 /home/samarth5854/anaconda3/envs/ModelEnv/lib/python3.10/site-packages/ultralytics/assets/bus.jpg: 640x480 4 persons, 43.9ms\n"
     ]
    },
    {
     "name": "stdout",
     "output_type": "stream",
     "text": [
      "Keypoints shape before flattening: torch.Size([4, 17, 2])\n",
      "Keypoints shape after flattening: (34,)\n",
      "saved to MP_Data/running/2/4.npy\n",
      "Keypoints shape before flattening: torch.Size([4, 17, 2])\n",
      "Keypoints shape after flattening: (34,)\n",
      "saved to MP_Data/running/2/5.npy\n"
     ]
    },
    {
     "name": "stderr",
     "output_type": "stream",
     "text": [
      "image 2/2 /home/samarth5854/anaconda3/envs/ModelEnv/lib/python3.10/site-packages/ultralytics/assets/zidane.jpg: 384x640 2 persons, 35.3ms\n",
      "Speed: 1.6ms preprocess, 39.6ms inference, 0.7ms postprocess per image at shape (1, 3, 384, 640)\n",
      "WARNING ⚠️ 'source' is missing. Using 'source=/home/samarth5854/anaconda3/envs/ModelEnv/lib/python3.10/site-packages/ultralytics/assets'.\n",
      "\n",
      "image 1/2 /home/samarth5854/anaconda3/envs/ModelEnv/lib/python3.10/site-packages/ultralytics/assets/bus.jpg: 640x480 4 persons, 59.4ms\n",
      "image 2/2 /home/samarth5854/anaconda3/envs/ModelEnv/lib/python3.10/site-packages/ultralytics/assets/zidane.jpg: 384x640 2 persons, 47.9ms\n",
      "Speed: 1.7ms preprocess, 53.6ms inference, 0.7ms postprocess per image at shape (1, 3, 384, 640)\n",
      "WARNING ⚠️ 'source' is missing. Using 'source=/home/samarth5854/anaconda3/envs/ModelEnv/lib/python3.10/site-packages/ultralytics/assets'.\n",
      "\n"
     ]
    },
    {
     "name": "stdout",
     "output_type": "stream",
     "text": [
      "Keypoints shape before flattening: torch.Size([4, 17, 2])\n",
      "Keypoints shape after flattening: (34,)\n",
      "saved to MP_Data/running/2/6.npy\n",
      "Keypoints shape before flattening: torch.Size([4, 17, 2])\n",
      "Keypoints shape after flattening: (34,)\n",
      "saved to MP_Data/running/2/7.npy\n"
     ]
    },
    {
     "name": "stderr",
     "output_type": "stream",
     "text": [
      "image 1/2 /home/samarth5854/anaconda3/envs/ModelEnv/lib/python3.10/site-packages/ultralytics/assets/bus.jpg: 640x480 4 persons, 67.6ms\n",
      "image 2/2 /home/samarth5854/anaconda3/envs/ModelEnv/lib/python3.10/site-packages/ultralytics/assets/zidane.jpg: 384x640 2 persons, 61.1ms\n",
      "Speed: 1.9ms preprocess, 64.4ms inference, 0.8ms postprocess per image at shape (1, 3, 384, 640)\n",
      "WARNING ⚠️ 'source' is missing. Using 'source=/home/samarth5854/anaconda3/envs/ModelEnv/lib/python3.10/site-packages/ultralytics/assets'.\n",
      "\n",
      "image 1/2 /home/samarth5854/anaconda3/envs/ModelEnv/lib/python3.10/site-packages/ultralytics/assets/bus.jpg: 640x480 4 persons, 64.5ms\n",
      "image 2/2 /home/samarth5854/anaconda3/envs/ModelEnv/lib/python3.10/site-packages/ultralytics/assets/zidane.jpg: 384x640 2 persons, 50.4ms\n",
      "Speed: 1.5ms preprocess, 57.5ms inference, 0.7ms postprocess per image at shape (1, 3, 384, 640)\n",
      "WARNING ⚠️ 'source' is missing. Using 'source=/home/samarth5854/anaconda3/envs/ModelEnv/lib/python3.10/site-packages/ultralytics/assets'.\n",
      "\n"
     ]
    },
    {
     "name": "stdout",
     "output_type": "stream",
     "text": [
      "Keypoints shape before flattening: torch.Size([4, 17, 2])\n",
      "Keypoints shape after flattening: (34,)\n",
      "saved to MP_Data/running/2/8.npy\n",
      "Keypoints shape before flattening: torch.Size([4, 17, 2])\n",
      "Keypoints shape after flattening: (34,)\n",
      "saved to MP_Data/running/2/9.npy\n"
     ]
    },
    {
     "name": "stderr",
     "output_type": "stream",
     "text": [
      "image 1/2 /home/samarth5854/anaconda3/envs/ModelEnv/lib/python3.10/site-packages/ultralytics/assets/bus.jpg: 640x480 4 persons, 59.6ms\n",
      "image 2/2 /home/samarth5854/anaconda3/envs/ModelEnv/lib/python3.10/site-packages/ultralytics/assets/zidane.jpg: 384x640 2 persons, 52.1ms\n",
      "Speed: 1.4ms preprocess, 55.8ms inference, 0.9ms postprocess per image at shape (1, 3, 384, 640)\n",
      "WARNING ⚠️ 'source' is missing. Using 'source=/home/samarth5854/anaconda3/envs/ModelEnv/lib/python3.10/site-packages/ultralytics/assets'.\n",
      "\n",
      "image 1/2 /home/samarth5854/anaconda3/envs/ModelEnv/lib/python3.10/site-packages/ultralytics/assets/bus.jpg: 640x480 4 persons, 48.7ms\n",
      "image 2/2 /home/samarth5854/anaconda3/envs/ModelEnv/lib/python3.10/site-packages/ultralytics/assets/zidane.jpg: 384x640 2 persons, 35.6ms\n",
      "Speed: 1.6ms preprocess, 42.2ms inference, 0.6ms postprocess per image at shape (1, 3, 384, 640)\n",
      "WARNING ⚠️ 'source' is missing. Using 'source=/home/samarth5854/anaconda3/envs/ModelEnv/lib/python3.10/site-packages/ultralytics/assets'.\n",
      "\n",
      "image 1/2 /home/samarth5854/anaconda3/envs/ModelEnv/lib/python3.10/site-packages/ultralytics/assets/bus.jpg: 640x480 4 persons, 42.3ms\n"
     ]
    },
    {
     "name": "stdout",
     "output_type": "stream",
     "text": [
      "Keypoints shape before flattening: torch.Size([4, 17, 2])\n",
      "Keypoints shape after flattening: (34,)\n",
      "saved to MP_Data/running/2/10.npy\n",
      "Keypoints shape before flattening: torch.Size([4, 17, 2])\n",
      "Keypoints shape after flattening: (34,)\n",
      "saved to MP_Data/running/2/11.npy\n"
     ]
    },
    {
     "name": "stderr",
     "output_type": "stream",
     "text": [
      "image 2/2 /home/samarth5854/anaconda3/envs/ModelEnv/lib/python3.10/site-packages/ultralytics/assets/zidane.jpg: 384x640 2 persons, 46.0ms\n",
      "Speed: 1.5ms preprocess, 44.2ms inference, 0.7ms postprocess per image at shape (1, 3, 384, 640)\n",
      "WARNING ⚠️ 'source' is missing. Using 'source=/home/samarth5854/anaconda3/envs/ModelEnv/lib/python3.10/site-packages/ultralytics/assets'.\n",
      "\n",
      "image 1/2 /home/samarth5854/anaconda3/envs/ModelEnv/lib/python3.10/site-packages/ultralytics/assets/bus.jpg: 640x480 4 persons, 45.6ms\n",
      "image 2/2 /home/samarth5854/anaconda3/envs/ModelEnv/lib/python3.10/site-packages/ultralytics/assets/zidane.jpg: 384x640 2 persons, 36.6ms\n",
      "Speed: 1.8ms preprocess, 41.1ms inference, 0.8ms postprocess per image at shape (1, 3, 384, 640)\n",
      "WARNING ⚠️ 'source' is missing. Using 'source=/home/samarth5854/anaconda3/envs/ModelEnv/lib/python3.10/site-packages/ultralytics/assets'.\n",
      "\n",
      "image 1/2 /home/samarth5854/anaconda3/envs/ModelEnv/lib/python3.10/site-packages/ultralytics/assets/bus.jpg: 640x480 4 persons, 39.2ms\n"
     ]
    },
    {
     "name": "stdout",
     "output_type": "stream",
     "text": [
      "Keypoints shape before flattening: torch.Size([4, 17, 2])\n",
      "Keypoints shape after flattening: (34,)\n",
      "saved to MP_Data/running/2/12.npy\n",
      "Keypoints shape before flattening: torch.Size([4, 17, 2])\n",
      "Keypoints shape after flattening: (34,)\n",
      "saved to MP_Data/running/2/13.npy\n"
     ]
    },
    {
     "name": "stderr",
     "output_type": "stream",
     "text": [
      "image 2/2 /home/samarth5854/anaconda3/envs/ModelEnv/lib/python3.10/site-packages/ultralytics/assets/zidane.jpg: 384x640 2 persons, 34.8ms\n",
      "Speed: 1.6ms preprocess, 37.0ms inference, 0.8ms postprocess per image at shape (1, 3, 384, 640)\n",
      "WARNING ⚠️ 'source' is missing. Using 'source=/home/samarth5854/anaconda3/envs/ModelEnv/lib/python3.10/site-packages/ultralytics/assets'.\n",
      "\n",
      "image 1/2 /home/samarth5854/anaconda3/envs/ModelEnv/lib/python3.10/site-packages/ultralytics/assets/bus.jpg: 640x480 4 persons, 64.2ms\n",
      "image 2/2 /home/samarth5854/anaconda3/envs/ModelEnv/lib/python3.10/site-packages/ultralytics/assets/zidane.jpg: 384x640 2 persons, 53.3ms\n",
      "Speed: 1.5ms preprocess, 58.8ms inference, 0.8ms postprocess per image at shape (1, 3, 384, 640)\n",
      "WARNING ⚠️ 'source' is missing. Using 'source=/home/samarth5854/anaconda3/envs/ModelEnv/lib/python3.10/site-packages/ultralytics/assets'.\n",
      "\n"
     ]
    },
    {
     "name": "stdout",
     "output_type": "stream",
     "text": [
      "Keypoints shape before flattening: torch.Size([4, 17, 2])\n",
      "Keypoints shape after flattening: (34,)\n",
      "saved to MP_Data/running/2/14.npy\n",
      "Keypoints shape before flattening: torch.Size([4, 17, 2])\n",
      "Keypoints shape after flattening: (34,)\n",
      "saved to MP_Data/running/2/15.npy\n"
     ]
    },
    {
     "name": "stderr",
     "output_type": "stream",
     "text": [
      "image 1/2 /home/samarth5854/anaconda3/envs/ModelEnv/lib/python3.10/site-packages/ultralytics/assets/bus.jpg: 640x480 4 persons, 64.8ms\n",
      "image 2/2 /home/samarth5854/anaconda3/envs/ModelEnv/lib/python3.10/site-packages/ultralytics/assets/zidane.jpg: 384x640 2 persons, 52.3ms\n",
      "Speed: 1.5ms preprocess, 58.5ms inference, 0.8ms postprocess per image at shape (1, 3, 384, 640)\n",
      "WARNING ⚠️ 'source' is missing. Using 'source=/home/samarth5854/anaconda3/envs/ModelEnv/lib/python3.10/site-packages/ultralytics/assets'.\n",
      "\n",
      "image 1/2 /home/samarth5854/anaconda3/envs/ModelEnv/lib/python3.10/site-packages/ultralytics/assets/bus.jpg: 640x480 4 persons, 63.0ms\n",
      "image 2/2 /home/samarth5854/anaconda3/envs/ModelEnv/lib/python3.10/site-packages/ultralytics/assets/zidane.jpg: 384x640 2 persons, 51.3ms\n",
      "Speed: 1.4ms preprocess, 57.2ms inference, 0.8ms postprocess per image at shape (1, 3, 384, 640)\n",
      "WARNING ⚠️ 'source' is missing. Using 'source=/home/samarth5854/anaconda3/envs/ModelEnv/lib/python3.10/site-packages/ultralytics/assets'.\n",
      "\n"
     ]
    },
    {
     "name": "stdout",
     "output_type": "stream",
     "text": [
      "Keypoints shape before flattening: torch.Size([4, 17, 2])\n",
      "Keypoints shape after flattening: (34,)\n",
      "saved to MP_Data/running/2/16.npy\n",
      "Keypoints shape before flattening: torch.Size([4, 17, 2])\n",
      "Keypoints shape after flattening: (34,)\n",
      "saved to MP_Data/running/2/17.npy\n"
     ]
    },
    {
     "name": "stderr",
     "output_type": "stream",
     "text": [
      "image 1/2 /home/samarth5854/anaconda3/envs/ModelEnv/lib/python3.10/site-packages/ultralytics/assets/bus.jpg: 640x480 4 persons, 62.8ms\n",
      "image 2/2 /home/samarth5854/anaconda3/envs/ModelEnv/lib/python3.10/site-packages/ultralytics/assets/zidane.jpg: 384x640 2 persons, 52.9ms\n",
      "Speed: 1.6ms preprocess, 57.8ms inference, 0.8ms postprocess per image at shape (1, 3, 384, 640)\n",
      "WARNING ⚠️ 'source' is missing. Using 'source=/home/samarth5854/anaconda3/envs/ModelEnv/lib/python3.10/site-packages/ultralytics/assets'.\n",
      "\n",
      "image 1/2 /home/samarth5854/anaconda3/envs/ModelEnv/lib/python3.10/site-packages/ultralytics/assets/bus.jpg: 640x480 4 persons, 65.2ms\n",
      "image 2/2 /home/samarth5854/anaconda3/envs/ModelEnv/lib/python3.10/site-packages/ultralytics/assets/zidane.jpg: 384x640 2 persons, 53.6ms\n",
      "Speed: 1.6ms preprocess, 59.4ms inference, 0.8ms postprocess per image at shape (1, 3, 384, 640)\n",
      "WARNING ⚠️ 'source' is missing. Using 'source=/home/samarth5854/anaconda3/envs/ModelEnv/lib/python3.10/site-packages/ultralytics/assets'.\n",
      "\n"
     ]
    },
    {
     "name": "stdout",
     "output_type": "stream",
     "text": [
      "Keypoints shape before flattening: torch.Size([4, 17, 2])\n",
      "Keypoints shape after flattening: (34,)\n",
      "saved to MP_Data/running/2/18.npy\n",
      "Keypoints shape before flattening: torch.Size([4, 17, 2])\n",
      "Keypoints shape after flattening: (34,)\n",
      "saved to MP_Data/running/2/19.npy\n"
     ]
    },
    {
     "name": "stderr",
     "output_type": "stream",
     "text": [
      "image 1/2 /home/samarth5854/anaconda3/envs/ModelEnv/lib/python3.10/site-packages/ultralytics/assets/bus.jpg: 640x480 4 persons, 61.2ms\n",
      "image 2/2 /home/samarth5854/anaconda3/envs/ModelEnv/lib/python3.10/site-packages/ultralytics/assets/zidane.jpg: 384x640 2 persons, 53.1ms\n",
      "Speed: 1.7ms preprocess, 57.2ms inference, 0.6ms postprocess per image at shape (1, 3, 384, 640)\n",
      "WARNING ⚠️ 'source' is missing. Using 'source=/home/samarth5854/anaconda3/envs/ModelEnv/lib/python3.10/site-packages/ultralytics/assets'.\n",
      "\n",
      "image 1/2 /home/samarth5854/anaconda3/envs/ModelEnv/lib/python3.10/site-packages/ultralytics/assets/bus.jpg: 640x480 4 persons, 63.1ms\n",
      "image 2/2 /home/samarth5854/anaconda3/envs/ModelEnv/lib/python3.10/site-packages/ultralytics/assets/zidane.jpg: 384x640 2 persons, 50.3ms\n",
      "Speed: 2.1ms preprocess, 56.7ms inference, 0.7ms postprocess per image at shape (1, 3, 384, 640)\n",
      "WARNING ⚠️ 'source' is missing. Using 'source=/home/samarth5854/anaconda3/envs/ModelEnv/lib/python3.10/site-packages/ultralytics/assets'.\n",
      "\n"
     ]
    },
    {
     "name": "stdout",
     "output_type": "stream",
     "text": [
      "Keypoints shape before flattening: torch.Size([4, 17, 2])\n",
      "Keypoints shape after flattening: (34,)\n",
      "saved to MP_Data/running/2/20.npy\n",
      "Keypoints shape before flattening: torch.Size([4, 17, 2])\n",
      "Keypoints shape after flattening: (34,)\n",
      "saved to MP_Data/running/2/21.npy\n"
     ]
    },
    {
     "name": "stderr",
     "output_type": "stream",
     "text": [
      "image 1/2 /home/samarth5854/anaconda3/envs/ModelEnv/lib/python3.10/site-packages/ultralytics/assets/bus.jpg: 640x480 4 persons, 60.4ms\n",
      "image 2/2 /home/samarth5854/anaconda3/envs/ModelEnv/lib/python3.10/site-packages/ultralytics/assets/zidane.jpg: 384x640 2 persons, 54.6ms\n",
      "Speed: 1.9ms preprocess, 57.5ms inference, 1.0ms postprocess per image at shape (1, 3, 384, 640)\n",
      "WARNING ⚠️ 'source' is missing. Using 'source=/home/samarth5854/anaconda3/envs/ModelEnv/lib/python3.10/site-packages/ultralytics/assets'.\n",
      "\n",
      "image 1/2 /home/samarth5854/anaconda3/envs/ModelEnv/lib/python3.10/site-packages/ultralytics/assets/bus.jpg: 640x480 4 persons, 58.5ms\n",
      "image 2/2 /home/samarth5854/anaconda3/envs/ModelEnv/lib/python3.10/site-packages/ultralytics/assets/zidane.jpg: 384x640 2 persons, 48.9ms\n",
      "Speed: 1.6ms preprocess, 53.7ms inference, 0.7ms postprocess per image at shape (1, 3, 384, 640)\n",
      "WARNING ⚠️ 'source' is missing. Using 'source=/home/samarth5854/anaconda3/envs/ModelEnv/lib/python3.10/site-packages/ultralytics/assets'.\n",
      "\n"
     ]
    },
    {
     "name": "stdout",
     "output_type": "stream",
     "text": [
      "Keypoints shape before flattening: torch.Size([4, 17, 2])\n",
      "Keypoints shape after flattening: (34,)\n",
      "saved to MP_Data/running/2/22.npy\n",
      "Keypoints shape before flattening: torch.Size([4, 17, 2])\n",
      "Keypoints shape after flattening: (34,)\n",
      "saved to MP_Data/running/2/23.npy\n"
     ]
    },
    {
     "name": "stderr",
     "output_type": "stream",
     "text": [
      "image 1/2 /home/samarth5854/anaconda3/envs/ModelEnv/lib/python3.10/site-packages/ultralytics/assets/bus.jpg: 640x480 4 persons, 57.4ms\n",
      "image 2/2 /home/samarth5854/anaconda3/envs/ModelEnv/lib/python3.10/site-packages/ultralytics/assets/zidane.jpg: 384x640 2 persons, 49.2ms\n",
      "Speed: 1.6ms preprocess, 53.3ms inference, 0.7ms postprocess per image at shape (1, 3, 384, 640)\n",
      "WARNING ⚠️ 'source' is missing. Using 'source=/home/samarth5854/anaconda3/envs/ModelEnv/lib/python3.10/site-packages/ultralytics/assets'.\n",
      "\n",
      "image 1/2 /home/samarth5854/anaconda3/envs/ModelEnv/lib/python3.10/site-packages/ultralytics/assets/bus.jpg: 640x480 4 persons, 57.3ms\n",
      "image 2/2 /home/samarth5854/anaconda3/envs/ModelEnv/lib/python3.10/site-packages/ultralytics/assets/zidane.jpg: 384x640 2 persons, 48.6ms\n",
      "Speed: 1.6ms preprocess, 52.9ms inference, 0.7ms postprocess per image at shape (1, 3, 384, 640)\n",
      "WARNING ⚠️ 'source' is missing. Using 'source=/home/samarth5854/anaconda3/envs/ModelEnv/lib/python3.10/site-packages/ultralytics/assets'.\n",
      "\n"
     ]
    },
    {
     "name": "stdout",
     "output_type": "stream",
     "text": [
      "Keypoints shape before flattening: torch.Size([4, 17, 2])\n",
      "Keypoints shape after flattening: (34,)\n",
      "saved to MP_Data/running/2/24.npy\n",
      "Keypoints shape before flattening: torch.Size([4, 17, 2])\n",
      "Keypoints shape after flattening: (34,)\n",
      "saved to MP_Data/running/2/25.npy\n"
     ]
    },
    {
     "name": "stderr",
     "output_type": "stream",
     "text": [
      "image 1/2 /home/samarth5854/anaconda3/envs/ModelEnv/lib/python3.10/site-packages/ultralytics/assets/bus.jpg: 640x480 4 persons, 59.3ms\n",
      "image 2/2 /home/samarth5854/anaconda3/envs/ModelEnv/lib/python3.10/site-packages/ultralytics/assets/zidane.jpg: 384x640 2 persons, 53.3ms\n",
      "Speed: 1.6ms preprocess, 56.3ms inference, 0.9ms postprocess per image at shape (1, 3, 384, 640)\n",
      "WARNING ⚠️ 'source' is missing. Using 'source=/home/samarth5854/anaconda3/envs/ModelEnv/lib/python3.10/site-packages/ultralytics/assets'.\n",
      "\n",
      "image 1/2 /home/samarth5854/anaconda3/envs/ModelEnv/lib/python3.10/site-packages/ultralytics/assets/bus.jpg: 640x480 4 persons, 79.4ms\n",
      "image 2/2 /home/samarth5854/anaconda3/envs/ModelEnv/lib/python3.10/site-packages/ultralytics/assets/zidane.jpg: 384x640 2 persons, 52.2ms\n",
      "Speed: 2.4ms preprocess, 65.8ms inference, 0.9ms postprocess per image at shape (1, 3, 384, 640)\n",
      "WARNING ⚠️ 'source' is missing. Using 'source=/home/samarth5854/anaconda3/envs/ModelEnv/lib/python3.10/site-packages/ultralytics/assets'.\n",
      "\n"
     ]
    },
    {
     "name": "stdout",
     "output_type": "stream",
     "text": [
      "Keypoints shape before flattening: torch.Size([4, 17, 2])\n",
      "Keypoints shape after flattening: (34,)\n",
      "saved to MP_Data/running/2/26.npy\n",
      "Keypoints shape before flattening: torch.Size([4, 17, 2])\n",
      "Keypoints shape after flattening: (34,)\n",
      "saved to MP_Data/running/2/27.npy\n"
     ]
    },
    {
     "name": "stderr",
     "output_type": "stream",
     "text": [
      "image 1/2 /home/samarth5854/anaconda3/envs/ModelEnv/lib/python3.10/site-packages/ultralytics/assets/bus.jpg: 640x480 4 persons, 64.4ms\n",
      "image 2/2 /home/samarth5854/anaconda3/envs/ModelEnv/lib/python3.10/site-packages/ultralytics/assets/zidane.jpg: 384x640 2 persons, 51.2ms\n",
      "Speed: 2.3ms preprocess, 57.8ms inference, 0.7ms postprocess per image at shape (1, 3, 384, 640)\n",
      "WARNING ⚠️ 'source' is missing. Using 'source=/home/samarth5854/anaconda3/envs/ModelEnv/lib/python3.10/site-packages/ultralytics/assets'.\n",
      "\n",
      "image 1/2 /home/samarth5854/anaconda3/envs/ModelEnv/lib/python3.10/site-packages/ultralytics/assets/bus.jpg: 640x480 4 persons, 58.2ms\n",
      "image 2/2 /home/samarth5854/anaconda3/envs/ModelEnv/lib/python3.10/site-packages/ultralytics/assets/zidane.jpg: 384x640 2 persons, 48.1ms\n",
      "Speed: 1.6ms preprocess, 53.2ms inference, 0.7ms postprocess per image at shape (1, 3, 384, 640)\n",
      "[ WARN:0@28.792] global /croot/opencv-suite_1691620365762/work/modules/videoio/src/cap_gstreamer.cpp (2401) handleMessage OpenCV | GStreamer warning: Embedded video playback halted; module source reported: \"/home/samarth5854/Desktop/LSTM/MP_Data/running/13\" is a directory.\n",
      "WARNING ⚠️ 'source' is missing. Using 'source=/home/samarth5854/anaconda3/envs/ModelEnv/lib/python3.10/site-packages/ultralytics/assets'.\n",
      "[ WARN:0@28.792] global /croot/opencv-suite_1691620365762/work/modules/videoio/src/cap_gstreamer.cpp (1356) open OpenCV | GStreamer warning: unable to start pipeline\n",
      "[ WARN:0@28.792] global /croot/opencv-suite_1691620365762/work/modules/videoio/src/cap_gstreamer.cpp (862) isPipelinePlaying OpenCV | GStreamer warning: GStreamer: pipeline have not been created\n",
      "\n"
     ]
    },
    {
     "name": "stdout",
     "output_type": "stream",
     "text": [
      "Keypoints shape before flattening: torch.Size([4, 17, 2])\n",
      "Keypoints shape after flattening: (34,)\n",
      "saved to MP_Data/running/2/28.npy\n",
      "Keypoints shape before flattening: torch.Size([4, 17, 2])\n",
      "Keypoints shape after flattening: (34,)\n",
      "saved to MP_Data/running/2/29.npy\n"
     ]
    },
    {
     "name": "stderr",
     "output_type": "stream",
     "text": [
      "image 1/2 /home/samarth5854/anaconda3/envs/ModelEnv/lib/python3.10/site-packages/ultralytics/assets/bus.jpg: 640x480 4 persons, 64.6ms\n",
      "image 2/2 /home/samarth5854/anaconda3/envs/ModelEnv/lib/python3.10/site-packages/ultralytics/assets/zidane.jpg: 384x640 2 persons, 53.9ms\n",
      "Speed: 3.1ms preprocess, 59.2ms inference, 0.9ms postprocess per image at shape (1, 3, 384, 640)\n",
      "WARNING ⚠️ 'source' is missing. Using 'source=/home/samarth5854/anaconda3/envs/ModelEnv/lib/python3.10/site-packages/ultralytics/assets'.\n",
      "\n",
      "image 1/2 /home/samarth5854/anaconda3/envs/ModelEnv/lib/python3.10/site-packages/ultralytics/assets/bus.jpg: 640x480 4 persons, 59.7ms\n",
      "image 2/2 /home/samarth5854/anaconda3/envs/ModelEnv/lib/python3.10/site-packages/ultralytics/assets/zidane.jpg: 384x640 2 persons, 50.6ms\n",
      "Speed: 1.4ms preprocess, 55.1ms inference, 0.8ms postprocess per image at shape (1, 3, 384, 640)\n",
      "WARNING ⚠️ 'source' is missing. Using 'source=/home/samarth5854/anaconda3/envs/ModelEnv/lib/python3.10/site-packages/ultralytics/assets'.\n",
      "\n"
     ]
    },
    {
     "name": "stdout",
     "output_type": "stream",
     "text": [
      "Keypoints shape before flattening: torch.Size([4, 17, 2])\n",
      "Keypoints shape after flattening: (34,)\n",
      "saved to MP_Data/running/3/0.npy\n",
      "Keypoints shape before flattening: torch.Size([4, 17, 2])\n",
      "Keypoints shape after flattening: (34,)\n",
      "saved to MP_Data/running/3/1.npy\n"
     ]
    },
    {
     "name": "stderr",
     "output_type": "stream",
     "text": [
      "image 1/2 /home/samarth5854/anaconda3/envs/ModelEnv/lib/python3.10/site-packages/ultralytics/assets/bus.jpg: 640x480 4 persons, 65.6ms\n",
      "image 2/2 /home/samarth5854/anaconda3/envs/ModelEnv/lib/python3.10/site-packages/ultralytics/assets/zidane.jpg: 384x640 2 persons, 54.5ms\n",
      "Speed: 2.4ms preprocess, 60.1ms inference, 0.9ms postprocess per image at shape (1, 3, 384, 640)\n",
      "WARNING ⚠️ 'source' is missing. Using 'source=/home/samarth5854/anaconda3/envs/ModelEnv/lib/python3.10/site-packages/ultralytics/assets'.\n",
      "\n",
      "image 1/2 /home/samarth5854/anaconda3/envs/ModelEnv/lib/python3.10/site-packages/ultralytics/assets/bus.jpg: 640x480 4 persons, 59.6ms\n",
      "image 2/2 /home/samarth5854/anaconda3/envs/ModelEnv/lib/python3.10/site-packages/ultralytics/assets/zidane.jpg: 384x640 2 persons, 54.9ms\n",
      "Speed: 1.6ms preprocess, 57.2ms inference, 0.8ms postprocess per image at shape (1, 3, 384, 640)\n",
      "WARNING ⚠️ 'source' is missing. Using 'source=/home/samarth5854/anaconda3/envs/ModelEnv/lib/python3.10/site-packages/ultralytics/assets'.\n",
      "\n"
     ]
    },
    {
     "name": "stdout",
     "output_type": "stream",
     "text": [
      "Keypoints shape before flattening: torch.Size([4, 17, 2])\n",
      "Keypoints shape after flattening: (34,)\n",
      "saved to MP_Data/running/3/2.npy\n",
      "Keypoints shape before flattening: torch.Size([4, 17, 2])\n",
      "Keypoints shape after flattening: (34,)\n",
      "saved to MP_Data/running/3/3.npy\n"
     ]
    },
    {
     "name": "stderr",
     "output_type": "stream",
     "text": [
      "image 1/2 /home/samarth5854/anaconda3/envs/ModelEnv/lib/python3.10/site-packages/ultralytics/assets/bus.jpg: 640x480 4 persons, 73.0ms\n",
      "image 2/2 /home/samarth5854/anaconda3/envs/ModelEnv/lib/python3.10/site-packages/ultralytics/assets/zidane.jpg: 384x640 2 persons, 56.8ms\n",
      "Speed: 2.2ms preprocess, 64.9ms inference, 0.9ms postprocess per image at shape (1, 3, 384, 640)\n",
      "WARNING ⚠️ 'source' is missing. Using 'source=/home/samarth5854/anaconda3/envs/ModelEnv/lib/python3.10/site-packages/ultralytics/assets'.\n",
      "\n",
      "image 1/2 /home/samarth5854/anaconda3/envs/ModelEnv/lib/python3.10/site-packages/ultralytics/assets/bus.jpg: 640x480 4 persons, 58.1ms\n",
      "image 2/2 /home/samarth5854/anaconda3/envs/ModelEnv/lib/python3.10/site-packages/ultralytics/assets/zidane.jpg: 384x640 2 persons, 47.9ms\n",
      "Speed: 1.4ms preprocess, 53.0ms inference, 0.7ms postprocess per image at shape (1, 3, 384, 640)\n",
      "WARNING ⚠️ 'source' is missing. Using 'source=/home/samarth5854/anaconda3/envs/ModelEnv/lib/python3.10/site-packages/ultralytics/assets'.\n",
      "\n"
     ]
    },
    {
     "name": "stdout",
     "output_type": "stream",
     "text": [
      "Keypoints shape before flattening: torch.Size([4, 17, 2])\n",
      "Keypoints shape after flattening: (34,)\n",
      "saved to MP_Data/running/3/4.npy\n",
      "Keypoints shape before flattening: torch.Size([4, 17, 2])\n",
      "Keypoints shape after flattening: (34,)\n",
      "saved to MP_Data/running/3/5.npy\n"
     ]
    },
    {
     "name": "stderr",
     "output_type": "stream",
     "text": [
      "image 1/2 /home/samarth5854/anaconda3/envs/ModelEnv/lib/python3.10/site-packages/ultralytics/assets/bus.jpg: 640x480 4 persons, 63.9ms\n",
      "image 2/2 /home/samarth5854/anaconda3/envs/ModelEnv/lib/python3.10/site-packages/ultralytics/assets/zidane.jpg: 384x640 2 persons, 52.7ms\n",
      "Speed: 1.9ms preprocess, 58.3ms inference, 0.7ms postprocess per image at shape (1, 3, 384, 640)\n",
      "WARNING ⚠️ 'source' is missing. Using 'source=/home/samarth5854/anaconda3/envs/ModelEnv/lib/python3.10/site-packages/ultralytics/assets'.\n",
      "\n",
      "image 1/2 /home/samarth5854/anaconda3/envs/ModelEnv/lib/python3.10/site-packages/ultralytics/assets/bus.jpg: 640x480 4 persons, 58.2ms\n",
      "image 2/2 /home/samarth5854/anaconda3/envs/ModelEnv/lib/python3.10/site-packages/ultralytics/assets/zidane.jpg: 384x640 2 persons, 49.2ms\n",
      "Speed: 1.4ms preprocess, 53.7ms inference, 0.7ms postprocess per image at shape (1, 3, 384, 640)\n",
      "WARNING ⚠️ 'source' is missing. Using 'source=/home/samarth5854/anaconda3/envs/ModelEnv/lib/python3.10/site-packages/ultralytics/assets'.\n",
      "\n"
     ]
    },
    {
     "name": "stdout",
     "output_type": "stream",
     "text": [
      "Keypoints shape before flattening: torch.Size([4, 17, 2])\n",
      "Keypoints shape after flattening: (34,)\n",
      "saved to MP_Data/running/3/6.npy\n",
      "Keypoints shape before flattening: torch.Size([4, 17, 2])\n",
      "Keypoints shape after flattening: (34,)\n",
      "saved to MP_Data/running/3/7.npy\n"
     ]
    },
    {
     "name": "stderr",
     "output_type": "stream",
     "text": [
      "image 1/2 /home/samarth5854/anaconda3/envs/ModelEnv/lib/python3.10/site-packages/ultralytics/assets/bus.jpg: 640x480 4 persons, 61.1ms\n",
      "image 2/2 /home/samarth5854/anaconda3/envs/ModelEnv/lib/python3.10/site-packages/ultralytics/assets/zidane.jpg: 384x640 2 persons, 47.9ms\n",
      "Speed: 1.5ms preprocess, 54.5ms inference, 0.7ms postprocess per image at shape (1, 3, 384, 640)\n",
      "WARNING ⚠️ 'source' is missing. Using 'source=/home/samarth5854/anaconda3/envs/ModelEnv/lib/python3.10/site-packages/ultralytics/assets'.\n",
      "\n",
      "image 1/2 /home/samarth5854/anaconda3/envs/ModelEnv/lib/python3.10/site-packages/ultralytics/assets/bus.jpg: 640x480 4 persons, 65.7ms\n",
      "image 2/2 /home/samarth5854/anaconda3/envs/ModelEnv/lib/python3.10/site-packages/ultralytics/assets/zidane.jpg: 384x640 2 persons, 56.3ms\n",
      "Speed: 1.5ms preprocess, 61.0ms inference, 0.9ms postprocess per image at shape (1, 3, 384, 640)\n",
      "WARNING ⚠️ 'source' is missing. Using 'source=/home/samarth5854/anaconda3/envs/ModelEnv/lib/python3.10/site-packages/ultralytics/assets'.\n",
      "\n"
     ]
    },
    {
     "name": "stdout",
     "output_type": "stream",
     "text": [
      "Keypoints shape before flattening: torch.Size([4, 17, 2])\n",
      "Keypoints shape after flattening: (34,)\n",
      "saved to MP_Data/running/3/8.npy\n",
      "Keypoints shape before flattening: torch.Size([4, 17, 2])\n",
      "Keypoints shape after flattening: (34,)\n",
      "saved to MP_Data/running/3/9.npy\n"
     ]
    },
    {
     "name": "stderr",
     "output_type": "stream",
     "text": [
      "image 1/2 /home/samarth5854/anaconda3/envs/ModelEnv/lib/python3.10/site-packages/ultralytics/assets/bus.jpg: 640x480 4 persons, 91.9ms\n",
      "image 2/2 /home/samarth5854/anaconda3/envs/ModelEnv/lib/python3.10/site-packages/ultralytics/assets/zidane.jpg: 384x640 2 persons, 57.5ms\n",
      "Speed: 2.1ms preprocess, 74.7ms inference, 0.8ms postprocess per image at shape (1, 3, 384, 640)\n",
      "WARNING ⚠️ 'source' is missing. Using 'source=/home/samarth5854/anaconda3/envs/ModelEnv/lib/python3.10/site-packages/ultralytics/assets'.\n",
      "\n",
      "image 1/2 /home/samarth5854/anaconda3/envs/ModelEnv/lib/python3.10/site-packages/ultralytics/assets/bus.jpg: 640x480 4 persons, 72.0ms\n",
      "image 2/2 /home/samarth5854/anaconda3/envs/ModelEnv/lib/python3.10/site-packages/ultralytics/assets/zidane.jpg: 384x640 2 persons, 61.7ms\n",
      "Speed: 1.8ms preprocess, 66.9ms inference, 0.9ms postprocess per image at shape (1, 3, 384, 640)\n",
      "WARNING ⚠️ 'source' is missing. Using 'source=/home/samarth5854/anaconda3/envs/ModelEnv/lib/python3.10/site-packages/ultralytics/assets'.\n",
      "\n"
     ]
    },
    {
     "name": "stdout",
     "output_type": "stream",
     "text": [
      "Keypoints shape before flattening: torch.Size([4, 17, 2])\n",
      "Keypoints shape after flattening: (34,)\n",
      "saved to MP_Data/running/3/10.npy\n",
      "Keypoints shape before flattening: torch.Size([4, 17, 2])\n",
      "Keypoints shape after flattening: (34,)\n",
      "saved to MP_Data/running/3/11.npy\n"
     ]
    },
    {
     "name": "stderr",
     "output_type": "stream",
     "text": [
      "image 1/2 /home/samarth5854/anaconda3/envs/ModelEnv/lib/python3.10/site-packages/ultralytics/assets/bus.jpg: 640x480 4 persons, 78.3ms\n",
      "image 2/2 /home/samarth5854/anaconda3/envs/ModelEnv/lib/python3.10/site-packages/ultralytics/assets/zidane.jpg: 384x640 2 persons, 69.1ms\n",
      "Speed: 1.8ms preprocess, 73.7ms inference, 1.1ms postprocess per image at shape (1, 3, 384, 640)\n",
      "WARNING ⚠️ 'source' is missing. Using 'source=/home/samarth5854/anaconda3/envs/ModelEnv/lib/python3.10/site-packages/ultralytics/assets'.\n",
      "\n",
      "image 1/2 /home/samarth5854/anaconda3/envs/ModelEnv/lib/python3.10/site-packages/ultralytics/assets/bus.jpg: 640x480 4 persons, 79.2ms\n",
      "image 2/2 /home/samarth5854/anaconda3/envs/ModelEnv/lib/python3.10/site-packages/ultralytics/assets/zidane.jpg: 384x640 2 persons, 66.4ms\n",
      "Speed: 2.0ms preprocess, 72.8ms inference, 0.9ms postprocess per image at shape (1, 3, 384, 640)\n",
      "WARNING ⚠️ 'source' is missing. Using 'source=/home/samarth5854/anaconda3/envs/ModelEnv/lib/python3.10/site-packages/ultralytics/assets'.\n",
      "\n"
     ]
    },
    {
     "name": "stdout",
     "output_type": "stream",
     "text": [
      "Keypoints shape before flattening: torch.Size([4, 17, 2])\n",
      "Keypoints shape after flattening: (34,)\n",
      "saved to MP_Data/running/3/12.npy\n",
      "Keypoints shape before flattening: torch.Size([4, 17, 2])\n",
      "Keypoints shape after flattening: (34,)\n",
      "saved to MP_Data/running/3/13.npy\n"
     ]
    },
    {
     "name": "stderr",
     "output_type": "stream",
     "text": [
      "image 1/2 /home/samarth5854/anaconda3/envs/ModelEnv/lib/python3.10/site-packages/ultralytics/assets/bus.jpg: 640x480 4 persons, 84.2ms\n",
      "image 2/2 /home/samarth5854/anaconda3/envs/ModelEnv/lib/python3.10/site-packages/ultralytics/assets/zidane.jpg: 384x640 2 persons, 48.2ms\n",
      "Speed: 2.0ms preprocess, 66.2ms inference, 0.9ms postprocess per image at shape (1, 3, 384, 640)\n",
      "WARNING ⚠️ 'source' is missing. Using 'source=/home/samarth5854/anaconda3/envs/ModelEnv/lib/python3.10/site-packages/ultralytics/assets'.\n",
      "\n",
      "image 1/2 /home/samarth5854/anaconda3/envs/ModelEnv/lib/python3.10/site-packages/ultralytics/assets/bus.jpg: 640x480 4 persons, 57.7ms\n",
      "image 2/2 /home/samarth5854/anaconda3/envs/ModelEnv/lib/python3.10/site-packages/ultralytics/assets/zidane.jpg: 384x640 2 persons, 51.2ms\n",
      "Speed: 1.9ms preprocess, 54.5ms inference, 1.2ms postprocess per image at shape (1, 3, 384, 640)\n",
      "WARNING ⚠️ 'source' is missing. Using 'source=/home/samarth5854/anaconda3/envs/ModelEnv/lib/python3.10/site-packages/ultralytics/assets'.\n",
      "\n"
     ]
    },
    {
     "name": "stdout",
     "output_type": "stream",
     "text": [
      "Keypoints shape before flattening: torch.Size([4, 17, 2])\n",
      "Keypoints shape after flattening: (34,)\n",
      "saved to MP_Data/running/3/14.npy\n",
      "Keypoints shape before flattening: torch.Size([4, 17, 2])\n",
      "Keypoints shape after flattening: (34,)\n",
      "saved to MP_Data/running/3/15.npy\n"
     ]
    },
    {
     "name": "stderr",
     "output_type": "stream",
     "text": [
      "image 1/2 /home/samarth5854/anaconda3/envs/ModelEnv/lib/python3.10/site-packages/ultralytics/assets/bus.jpg: 640x480 4 persons, 86.2ms\n",
      "image 2/2 /home/samarth5854/anaconda3/envs/ModelEnv/lib/python3.10/site-packages/ultralytics/assets/zidane.jpg: 384x640 2 persons, 75.1ms\n",
      "Speed: 2.4ms preprocess, 80.6ms inference, 1.0ms postprocess per image at shape (1, 3, 384, 640)\n",
      "WARNING ⚠️ 'source' is missing. Using 'source=/home/samarth5854/anaconda3/envs/ModelEnv/lib/python3.10/site-packages/ultralytics/assets'.\n",
      "\n",
      "image 1/2 /home/samarth5854/anaconda3/envs/ModelEnv/lib/python3.10/site-packages/ultralytics/assets/bus.jpg: 640x480 4 persons, 81.1ms\n",
      "image 2/2 /home/samarth5854/anaconda3/envs/ModelEnv/lib/python3.10/site-packages/ultralytics/assets/zidane.jpg: 384x640 2 persons, 67.9ms\n",
      "Speed: 1.8ms preprocess, 74.5ms inference, 0.9ms postprocess per image at shape (1, 3, 384, 640)\n",
      "WARNING ⚠️ 'source' is missing. Using 'source=/home/samarth5854/anaconda3/envs/ModelEnv/lib/python3.10/site-packages/ultralytics/assets'.\n",
      "\n"
     ]
    },
    {
     "name": "stdout",
     "output_type": "stream",
     "text": [
      "Keypoints shape before flattening: torch.Size([4, 17, 2])\n",
      "Keypoints shape after flattening: (34,)\n",
      "saved to MP_Data/running/3/16.npy\n",
      "Keypoints shape before flattening: torch.Size([4, 17, 2])\n",
      "Keypoints shape after flattening: (34,)\n",
      "saved to MP_Data/running/3/17.npy\n"
     ]
    },
    {
     "name": "stderr",
     "output_type": "stream",
     "text": [
      "image 1/2 /home/samarth5854/anaconda3/envs/ModelEnv/lib/python3.10/site-packages/ultralytics/assets/bus.jpg: 640x480 4 persons, 84.7ms\n",
      "image 2/2 /home/samarth5854/anaconda3/envs/ModelEnv/lib/python3.10/site-packages/ultralytics/assets/zidane.jpg: 384x640 2 persons, 72.1ms\n",
      "Speed: 2.1ms preprocess, 78.4ms inference, 1.1ms postprocess per image at shape (1, 3, 384, 640)\n",
      "WARNING ⚠️ 'source' is missing. Using 'source=/home/samarth5854/anaconda3/envs/ModelEnv/lib/python3.10/site-packages/ultralytics/assets'.\n",
      "\n",
      "image 1/2 /home/samarth5854/anaconda3/envs/ModelEnv/lib/python3.10/site-packages/ultralytics/assets/bus.jpg: 640x480 4 persons, 83.6ms\n",
      "image 2/2 /home/samarth5854/anaconda3/envs/ModelEnv/lib/python3.10/site-packages/ultralytics/assets/zidane.jpg: 384x640 2 persons, 72.3ms\n",
      "Speed: 2.1ms preprocess, 78.0ms inference, 1.0ms postprocess per image at shape (1, 3, 384, 640)\n",
      "WARNING ⚠️ 'source' is missing. Using 'source=/home/samarth5854/anaconda3/envs/ModelEnv/lib/python3.10/site-packages/ultralytics/assets'.\n",
      "\n"
     ]
    },
    {
     "name": "stdout",
     "output_type": "stream",
     "text": [
      "Keypoints shape before flattening: torch.Size([4, 17, 2])\n",
      "Keypoints shape after flattening: (34,)\n",
      "saved to MP_Data/running/3/18.npy\n",
      "Keypoints shape before flattening: torch.Size([4, 17, 2])\n",
      "Keypoints shape after flattening: (34,)\n",
      "saved to MP_Data/running/3/19.npy\n"
     ]
    },
    {
     "name": "stderr",
     "output_type": "stream",
     "text": [
      "image 1/2 /home/samarth5854/anaconda3/envs/ModelEnv/lib/python3.10/site-packages/ultralytics/assets/bus.jpg: 640x480 4 persons, 83.5ms\n",
      "image 2/2 /home/samarth5854/anaconda3/envs/ModelEnv/lib/python3.10/site-packages/ultralytics/assets/zidane.jpg: 384x640 2 persons, 67.0ms\n",
      "Speed: 4.5ms preprocess, 75.2ms inference, 1.0ms postprocess per image at shape (1, 3, 384, 640)\n",
      "WARNING ⚠️ 'source' is missing. Using 'source=/home/samarth5854/anaconda3/envs/ModelEnv/lib/python3.10/site-packages/ultralytics/assets'.\n",
      "\n",
      "image 1/2 /home/samarth5854/anaconda3/envs/ModelEnv/lib/python3.10/site-packages/ultralytics/assets/bus.jpg: 640x480 4 persons, 86.9ms\n",
      "image 2/2 /home/samarth5854/anaconda3/envs/ModelEnv/lib/python3.10/site-packages/ultralytics/assets/zidane.jpg: 384x640 2 persons, 73.3ms\n"
     ]
    },
    {
     "name": "stdout",
     "output_type": "stream",
     "text": [
      "Keypoints shape before flattening: torch.Size([4, 17, 2])\n",
      "Keypoints shape after flattening: (34,)\n",
      "saved to MP_Data/running/3/20.npy\n"
     ]
    },
    {
     "name": "stderr",
     "output_type": "stream",
     "text": [
      "Speed: 2.3ms preprocess, 80.1ms inference, 1.0ms postprocess per image at shape (1, 3, 384, 640)\n",
      "WARNING ⚠️ 'source' is missing. Using 'source=/home/samarth5854/anaconda3/envs/ModelEnv/lib/python3.10/site-packages/ultralytics/assets'.\n",
      "\n",
      "image 1/2 /home/samarth5854/anaconda3/envs/ModelEnv/lib/python3.10/site-packages/ultralytics/assets/bus.jpg: 640x480 4 persons, 82.0ms\n",
      "image 2/2 /home/samarth5854/anaconda3/envs/ModelEnv/lib/python3.10/site-packages/ultralytics/assets/zidane.jpg: 384x640 2 persons, 48.4ms\n",
      "Speed: 2.1ms preprocess, 65.2ms inference, 0.8ms postprocess per image at shape (1, 3, 384, 640)\n",
      "WARNING ⚠️ 'source' is missing. Using 'source=/home/samarth5854/anaconda3/envs/ModelEnv/lib/python3.10/site-packages/ultralytics/assets'.\n",
      "\n"
     ]
    },
    {
     "name": "stdout",
     "output_type": "stream",
     "text": [
      "Keypoints shape before flattening: torch.Size([4, 17, 2])\n",
      "Keypoints shape after flattening: (34,)\n",
      "saved to MP_Data/running/3/21.npy\n",
      "Keypoints shape before flattening: torch.Size([4, 17, 2])\n",
      "Keypoints shape after flattening: (34,)\n",
      "saved to MP_Data/running/3/22.npy\n"
     ]
    },
    {
     "name": "stderr",
     "output_type": "stream",
     "text": [
      "image 1/2 /home/samarth5854/anaconda3/envs/ModelEnv/lib/python3.10/site-packages/ultralytics/assets/bus.jpg: 640x480 4 persons, 57.1ms\n",
      "image 2/2 /home/samarth5854/anaconda3/envs/ModelEnv/lib/python3.10/site-packages/ultralytics/assets/zidane.jpg: 384x640 2 persons, 59.7ms\n",
      "Speed: 2.0ms preprocess, 58.4ms inference, 0.9ms postprocess per image at shape (1, 3, 384, 640)\n",
      "WARNING ⚠️ 'source' is missing. Using 'source=/home/samarth5854/anaconda3/envs/ModelEnv/lib/python3.10/site-packages/ultralytics/assets'.\n",
      "\n",
      "image 1/2 /home/samarth5854/anaconda3/envs/ModelEnv/lib/python3.10/site-packages/ultralytics/assets/bus.jpg: 640x480 4 persons, 85.2ms\n",
      "image 2/2 /home/samarth5854/anaconda3/envs/ModelEnv/lib/python3.10/site-packages/ultralytics/assets/zidane.jpg: 384x640 2 persons, 70.3ms\n",
      "Speed: 2.1ms preprocess, 77.8ms inference, 0.9ms postprocess per image at shape (1, 3, 384, 640)\n"
     ]
    },
    {
     "name": "stdout",
     "output_type": "stream",
     "text": [
      "Keypoints shape before flattening: torch.Size([4, 17, 2])\n",
      "Keypoints shape after flattening: (34,)\n",
      "saved to MP_Data/running/3/23.npy\n"
     ]
    },
    {
     "name": "stderr",
     "output_type": "stream",
     "text": [
      "WARNING ⚠️ 'source' is missing. Using 'source=/home/samarth5854/anaconda3/envs/ModelEnv/lib/python3.10/site-packages/ultralytics/assets'.\n",
      "\n",
      "image 1/2 /home/samarth5854/anaconda3/envs/ModelEnv/lib/python3.10/site-packages/ultralytics/assets/bus.jpg: 640x480 4 persons, 97.5ms\n"
     ]
    },
    {
     "name": "stdout",
     "output_type": "stream",
     "text": [
      "Keypoints shape before flattening: torch.Size([4, 17, 2])\n",
      "Keypoints shape after flattening: (34,)\n",
      "saved to MP_Data/running/3/24.npy\n"
     ]
    },
    {
     "name": "stderr",
     "output_type": "stream",
     "text": [
      "image 2/2 /home/samarth5854/anaconda3/envs/ModelEnv/lib/python3.10/site-packages/ultralytics/assets/zidane.jpg: 384x640 2 persons, 67.5ms\n",
      "Speed: 3.6ms preprocess, 82.5ms inference, 1.0ms postprocess per image at shape (1, 3, 384, 640)\n",
      "WARNING ⚠️ 'source' is missing. Using 'source=/home/samarth5854/anaconda3/envs/ModelEnv/lib/python3.10/site-packages/ultralytics/assets'.\n",
      "\n",
      "image 1/2 /home/samarth5854/anaconda3/envs/ModelEnv/lib/python3.10/site-packages/ultralytics/assets/bus.jpg: 640x480 4 persons, 90.5ms\n",
      "image 2/2 /home/samarth5854/anaconda3/envs/ModelEnv/lib/python3.10/site-packages/ultralytics/assets/zidane.jpg: 384x640 2 persons, 70.0ms\n",
      "Speed: 2.1ms preprocess, 80.2ms inference, 1.0ms postprocess per image at shape (1, 3, 384, 640)\n"
     ]
    },
    {
     "name": "stdout",
     "output_type": "stream",
     "text": [
      "Keypoints shape before flattening: torch.Size([4, 17, 2])\n",
      "Keypoints shape after flattening: (34,)\n",
      "saved to MP_Data/running/3/25.npy\n"
     ]
    },
    {
     "name": "stderr",
     "output_type": "stream",
     "text": [
      "WARNING ⚠️ 'source' is missing. Using 'source=/home/samarth5854/anaconda3/envs/ModelEnv/lib/python3.10/site-packages/ultralytics/assets'.\n",
      "\n",
      "image 1/2 /home/samarth5854/anaconda3/envs/ModelEnv/lib/python3.10/site-packages/ultralytics/assets/bus.jpg: 640x480 4 persons, 82.3ms\n",
      "image 2/2 /home/samarth5854/anaconda3/envs/ModelEnv/lib/python3.10/site-packages/ultralytics/assets/zidane.jpg: 384x640 2 persons, 64.9ms\n",
      "Speed: 2.0ms preprocess, 73.6ms inference, 0.9ms postprocess per image at shape (1, 3, 384, 640)\n",
      "WARNING ⚠️ 'source' is missing. Using 'source=/home/samarth5854/anaconda3/envs/ModelEnv/lib/python3.10/site-packages/ultralytics/assets'.\n",
      "\n"
     ]
    },
    {
     "name": "stdout",
     "output_type": "stream",
     "text": [
      "Keypoints shape before flattening: torch.Size([4, 17, 2])\n",
      "Keypoints shape after flattening: (34,)\n",
      "saved to MP_Data/running/3/26.npy\n",
      "Keypoints shape before flattening: torch.Size([4, 17, 2])\n",
      "Keypoints shape after flattening: (34,)\n",
      "saved to MP_Data/running/3/27.npy\n"
     ]
    },
    {
     "name": "stderr",
     "output_type": "stream",
     "text": [
      "image 1/2 /home/samarth5854/anaconda3/envs/ModelEnv/lib/python3.10/site-packages/ultralytics/assets/bus.jpg: 640x480 4 persons, 83.4ms\n",
      "image 2/2 /home/samarth5854/anaconda3/envs/ModelEnv/lib/python3.10/site-packages/ultralytics/assets/zidane.jpg: 384x640 2 persons, 68.4ms\n",
      "Speed: 1.9ms preprocess, 75.9ms inference, 0.9ms postprocess per image at shape (1, 3, 384, 640)\n",
      "WARNING ⚠️ 'source' is missing. Using 'source=/home/samarth5854/anaconda3/envs/ModelEnv/lib/python3.10/site-packages/ultralytics/assets'.\n",
      "\n",
      "image 1/2 /home/samarth5854/anaconda3/envs/ModelEnv/lib/python3.10/site-packages/ultralytics/assets/bus.jpg: 640x480 4 persons, 84.5ms\n",
      "image 2/2 /home/samarth5854/anaconda3/envs/ModelEnv/lib/python3.10/site-packages/ultralytics/assets/zidane.jpg: 384x640 2 persons, 69.7ms\n",
      "Speed: 2.4ms preprocess, 77.1ms inference, 1.0ms postprocess per image at shape (1, 3, 384, 640)\n",
      "[ WARN:0@34.023] global /croot/opencv-suite_1691620365762/work/modules/videoio/src/cap_gstreamer.cpp (2401) handleMessage OpenCV | GStreamer warning: Embedded video playback halted; module source reported: \"/home/samarth5854/Desktop/LSTM/MP_Data/running/14\" is a directory.\n",
      "WARNING ⚠️ 'source' is missing. Using 'source=/home/samarth5854/anaconda3/envs/ModelEnv/lib/python3.10/site-packages/ultralytics/assets'.\n",
      "[ WARN:0@34.023] global /croot/opencv-suite_1691620365762/work/modules/videoio/src/cap_gstreamer.cpp (1356) open OpenCV | GStreamer warning: unable to start pipeline\n",
      "[ WARN:0@34.023] global /croot/opencv-suite_1691620365762/work/modules/videoio/src/cap_gstreamer.cpp (862) isPipelinePlaying OpenCV | GStreamer warning: GStreamer: pipeline have not been created\n"
     ]
    },
    {
     "name": "stdout",
     "output_type": "stream",
     "text": [
      "Keypoints shape before flattening: torch.Size([4, 17, 2])\n",
      "Keypoints shape after flattening: (34,)\n",
      "saved to MP_Data/running/3/28.npy\n",
      "Keypoints shape before flattening: torch.Size([4, 17, 2])\n",
      "Keypoints shape after flattening: (34,)\n",
      "saved to MP_Data/running/3/29.npy\n"
     ]
    },
    {
     "name": "stderr",
     "output_type": "stream",
     "text": [
      "\n",
      "image 1/2 /home/samarth5854/anaconda3/envs/ModelEnv/lib/python3.10/site-packages/ultralytics/assets/bus.jpg: 640x480 4 persons, 79.5ms\n",
      "image 2/2 /home/samarth5854/anaconda3/envs/ModelEnv/lib/python3.10/site-packages/ultralytics/assets/zidane.jpg: 384x640 2 persons, 47.3ms\n",
      "Speed: 2.3ms preprocess, 63.4ms inference, 0.8ms postprocess per image at shape (1, 3, 384, 640)\n",
      "WARNING ⚠️ 'source' is missing. Using 'source=/home/samarth5854/anaconda3/envs/ModelEnv/lib/python3.10/site-packages/ultralytics/assets'.\n",
      "\n",
      "image 1/2 /home/samarth5854/anaconda3/envs/ModelEnv/lib/python3.10/site-packages/ultralytics/assets/bus.jpg: 640x480 4 persons, 80.6ms\n",
      "image 2/2 /home/samarth5854/anaconda3/envs/ModelEnv/lib/python3.10/site-packages/ultralytics/assets/zidane.jpg: 384x640 2 persons, 73.2ms\n"
     ]
    },
    {
     "name": "stdout",
     "output_type": "stream",
     "text": [
      "Keypoints shape before flattening: torch.Size([4, 17, 2])\n",
      "Keypoints shape after flattening: (34,)\n",
      "saved to MP_Data/running/4/0.npy\n"
     ]
    },
    {
     "name": "stderr",
     "output_type": "stream",
     "text": [
      "Speed: 1.9ms preprocess, 76.9ms inference, 1.0ms postprocess per image at shape (1, 3, 384, 640)\n",
      "WARNING ⚠️ 'source' is missing. Using 'source=/home/samarth5854/anaconda3/envs/ModelEnv/lib/python3.10/site-packages/ultralytics/assets'.\n",
      "\n",
      "image 1/2 /home/samarth5854/anaconda3/envs/ModelEnv/lib/python3.10/site-packages/ultralytics/assets/bus.jpg: 640x480 4 persons, 83.2ms\n",
      "image 2/2 /home/samarth5854/anaconda3/envs/ModelEnv/lib/python3.10/site-packages/ultralytics/assets/zidane.jpg: 384x640 2 persons, 66.8ms\n",
      "Speed: 2.0ms preprocess, 75.0ms inference, 1.0ms postprocess per image at shape (1, 3, 384, 640)\n",
      "WARNING ⚠️ 'source' is missing. Using 'source=/home/samarth5854/anaconda3/envs/ModelEnv/lib/python3.10/site-packages/ultralytics/assets'.\n",
      "\n"
     ]
    },
    {
     "name": "stdout",
     "output_type": "stream",
     "text": [
      "Keypoints shape before flattening: torch.Size([4, 17, 2])\n",
      "Keypoints shape after flattening: (34,)\n",
      "saved to MP_Data/running/4/1.npy\n",
      "Keypoints shape before flattening: torch.Size([4, 17, 2])\n",
      "Keypoints shape after flattening: (34,)\n",
      "saved to MP_Data/running/4/2.npy\n"
     ]
    },
    {
     "name": "stderr",
     "output_type": "stream",
     "text": [
      "image 1/2 /home/samarth5854/anaconda3/envs/ModelEnv/lib/python3.10/site-packages/ultralytics/assets/bus.jpg: 640x480 4 persons, 78.6ms\n",
      "image 2/2 /home/samarth5854/anaconda3/envs/ModelEnv/lib/python3.10/site-packages/ultralytics/assets/zidane.jpg: 384x640 2 persons, 67.1ms\n",
      "Speed: 2.1ms preprocess, 72.8ms inference, 0.8ms postprocess per image at shape (1, 3, 384, 640)\n",
      "WARNING ⚠️ 'source' is missing. Using 'source=/home/samarth5854/anaconda3/envs/ModelEnv/lib/python3.10/site-packages/ultralytics/assets'.\n",
      "\n",
      "image 1/2 /home/samarth5854/anaconda3/envs/ModelEnv/lib/python3.10/site-packages/ultralytics/assets/bus.jpg: 640x480 4 persons, 90.7ms\n"
     ]
    },
    {
     "name": "stdout",
     "output_type": "stream",
     "text": [
      "Keypoints shape before flattening: torch.Size([4, 17, 2])\n",
      "Keypoints shape after flattening: (34,)\n",
      "saved to MP_Data/running/4/3.npy\n"
     ]
    },
    {
     "name": "stderr",
     "output_type": "stream",
     "text": [
      "image 2/2 /home/samarth5854/anaconda3/envs/ModelEnv/lib/python3.10/site-packages/ultralytics/assets/zidane.jpg: 384x640 2 persons, 70.9ms\n",
      "Speed: 2.1ms preprocess, 80.8ms inference, 1.0ms postprocess per image at shape (1, 3, 384, 640)\n",
      "WARNING ⚠️ 'source' is missing. Using 'source=/home/samarth5854/anaconda3/envs/ModelEnv/lib/python3.10/site-packages/ultralytics/assets'.\n",
      "\n",
      "image 1/2 /home/samarth5854/anaconda3/envs/ModelEnv/lib/python3.10/site-packages/ultralytics/assets/bus.jpg: 640x480 4 persons, 56.9ms\n",
      "image 2/2 /home/samarth5854/anaconda3/envs/ModelEnv/lib/python3.10/site-packages/ultralytics/assets/zidane.jpg: 384x640 2 persons, 42.7ms\n",
      "Speed: 1.8ms preprocess, 49.8ms inference, 1.0ms postprocess per image at shape (1, 3, 384, 640)\n",
      "WARNING ⚠️ 'source' is missing. Using 'source=/home/samarth5854/anaconda3/envs/ModelEnv/lib/python3.10/site-packages/ultralytics/assets'.\n",
      "\n"
     ]
    },
    {
     "name": "stdout",
     "output_type": "stream",
     "text": [
      "Keypoints shape before flattening: torch.Size([4, 17, 2])\n",
      "Keypoints shape after flattening: (34,)\n",
      "saved to MP_Data/running/4/4.npy\n",
      "Keypoints shape before flattening: torch.Size([4, 17, 2])\n",
      "Keypoints shape after flattening: (34,)\n",
      "saved to MP_Data/running/4/5.npy\n"
     ]
    },
    {
     "name": "stderr",
     "output_type": "stream",
     "text": [
      "image 1/2 /home/samarth5854/anaconda3/envs/ModelEnv/lib/python3.10/site-packages/ultralytics/assets/bus.jpg: 640x480 4 persons, 53.5ms\n",
      "image 2/2 /home/samarth5854/anaconda3/envs/ModelEnv/lib/python3.10/site-packages/ultralytics/assets/zidane.jpg: 384x640 2 persons, 76.2ms\n",
      "Speed: 2.1ms preprocess, 64.9ms inference, 1.1ms postprocess per image at shape (1, 3, 384, 640)\n",
      "WARNING ⚠️ 'source' is missing. Using 'source=/home/samarth5854/anaconda3/envs/ModelEnv/lib/python3.10/site-packages/ultralytics/assets'.\n",
      "\n",
      "image 1/2 /home/samarth5854/anaconda3/envs/ModelEnv/lib/python3.10/site-packages/ultralytics/assets/bus.jpg: 640x480 4 persons, 71.1ms\n",
      "image 2/2 /home/samarth5854/anaconda3/envs/ModelEnv/lib/python3.10/site-packages/ultralytics/assets/zidane.jpg: 384x640 2 persons, 46.4ms\n",
      "Speed: 3.9ms preprocess, 58.7ms inference, 1.0ms postprocess per image at shape (1, 3, 384, 640)\n",
      "WARNING ⚠️ 'source' is missing. Using 'source=/home/samarth5854/anaconda3/envs/ModelEnv/lib/python3.10/site-packages/ultralytics/assets'.\n",
      "\n"
     ]
    },
    {
     "name": "stdout",
     "output_type": "stream",
     "text": [
      "Keypoints shape before flattening: torch.Size([4, 17, 2])\n",
      "Keypoints shape after flattening: (34,)\n",
      "saved to MP_Data/running/4/6.npy\n",
      "Keypoints shape before flattening: torch.Size([4, 17, 2])\n",
      "Keypoints shape after flattening: (34,)\n",
      "saved to MP_Data/running/4/7.npy\n"
     ]
    },
    {
     "name": "stderr",
     "output_type": "stream",
     "text": [
      "image 1/2 /home/samarth5854/anaconda3/envs/ModelEnv/lib/python3.10/site-packages/ultralytics/assets/bus.jpg: 640x480 4 persons, 56.4ms\n",
      "image 2/2 /home/samarth5854/anaconda3/envs/ModelEnv/lib/python3.10/site-packages/ultralytics/assets/zidane.jpg: 384x640 2 persons, 61.8ms\n",
      "Speed: 1.9ms preprocess, 59.1ms inference, 1.0ms postprocess per image at shape (1, 3, 384, 640)\n",
      "WARNING ⚠️ 'source' is missing. Using 'source=/home/samarth5854/anaconda3/envs/ModelEnv/lib/python3.10/site-packages/ultralytics/assets'.\n",
      "\n",
      "image 1/2 /home/samarth5854/anaconda3/envs/ModelEnv/lib/python3.10/site-packages/ultralytics/assets/bus.jpg: 640x480 4 persons, 88.7ms\n",
      "image 2/2 /home/samarth5854/anaconda3/envs/ModelEnv/lib/python3.10/site-packages/ultralytics/assets/zidane.jpg: 384x640 2 persons, 66.5ms\n",
      "Speed: 2.2ms preprocess, 77.6ms inference, 0.9ms postprocess per image at shape (1, 3, 384, 640)\n",
      "WARNING ⚠️ 'source' is missing. Using 'source=/home/samarth5854/anaconda3/envs/ModelEnv/lib/python3.10/site-packages/ultralytics/assets'.\n",
      "\n"
     ]
    },
    {
     "name": "stdout",
     "output_type": "stream",
     "text": [
      "Keypoints shape before flattening: torch.Size([4, 17, 2])\n",
      "Keypoints shape after flattening: (34,)\n",
      "saved to MP_Data/running/4/8.npy\n",
      "Keypoints shape before flattening: torch.Size([4, 17, 2])\n",
      "Keypoints shape after flattening: (34,)\n",
      "saved to MP_Data/running/4/9.npy\n"
     ]
    },
    {
     "name": "stderr",
     "output_type": "stream",
     "text": [
      "image 1/2 /home/samarth5854/anaconda3/envs/ModelEnv/lib/python3.10/site-packages/ultralytics/assets/bus.jpg: 640x480 4 persons, 85.7ms\n",
      "image 2/2 /home/samarth5854/anaconda3/envs/ModelEnv/lib/python3.10/site-packages/ultralytics/assets/zidane.jpg: 384x640 2 persons, 67.8ms\n",
      "Speed: 2.3ms preprocess, 76.8ms inference, 0.9ms postprocess per image at shape (1, 3, 384, 640)\n",
      "WARNING ⚠️ 'source' is missing. Using 'source=/home/samarth5854/anaconda3/envs/ModelEnv/lib/python3.10/site-packages/ultralytics/assets'.\n",
      "\n",
      "image 1/2 /home/samarth5854/anaconda3/envs/ModelEnv/lib/python3.10/site-packages/ultralytics/assets/bus.jpg: 640x480 4 persons, 79.1ms\n",
      "image 2/2 /home/samarth5854/anaconda3/envs/ModelEnv/lib/python3.10/site-packages/ultralytics/assets/zidane.jpg: 384x640 2 persons, 66.6ms\n",
      "Speed: 1.8ms preprocess, 72.9ms inference, 0.9ms postprocess per image at shape (1, 3, 384, 640)\n",
      "WARNING ⚠️ 'source' is missing. Using 'source=/home/samarth5854/anaconda3/envs/ModelEnv/lib/python3.10/site-packages/ultralytics/assets'.\n",
      "\n"
     ]
    },
    {
     "name": "stdout",
     "output_type": "stream",
     "text": [
      "Keypoints shape before flattening: torch.Size([4, 17, 2])\n",
      "Keypoints shape after flattening: (34,)\n",
      "saved to MP_Data/running/4/10.npy\n",
      "Keypoints shape before flattening: torch.Size([4, 17, 2])\n",
      "Keypoints shape after flattening: (34,)\n",
      "saved to MP_Data/running/4/11.npy\n"
     ]
    },
    {
     "name": "stderr",
     "output_type": "stream",
     "text": [
      "image 1/2 /home/samarth5854/anaconda3/envs/ModelEnv/lib/python3.10/site-packages/ultralytics/assets/bus.jpg: 640x480 4 persons, 80.4ms\n",
      "image 2/2 /home/samarth5854/anaconda3/envs/ModelEnv/lib/python3.10/site-packages/ultralytics/assets/zidane.jpg: 384x640 2 persons, 69.0ms\n",
      "Speed: 1.9ms preprocess, 74.7ms inference, 0.9ms postprocess per image at shape (1, 3, 384, 640)\n",
      "WARNING ⚠️ 'source' is missing. Using 'source=/home/samarth5854/anaconda3/envs/ModelEnv/lib/python3.10/site-packages/ultralytics/assets'.\n",
      "\n",
      "image 1/2 /home/samarth5854/anaconda3/envs/ModelEnv/lib/python3.10/site-packages/ultralytics/assets/bus.jpg: 640x480 4 persons, 78.6ms\n",
      "image 2/2 /home/samarth5854/anaconda3/envs/ModelEnv/lib/python3.10/site-packages/ultralytics/assets/zidane.jpg: 384x640 2 persons, 71.8ms\n",
      "Speed: 1.8ms preprocess, 75.2ms inference, 1.1ms postprocess per image at shape (1, 3, 384, 640)\n",
      "WARNING ⚠️ 'source' is missing. Using 'source=/home/samarth5854/anaconda3/envs/ModelEnv/lib/python3.10/site-packages/ultralytics/assets'.\n",
      "\n"
     ]
    },
    {
     "name": "stdout",
     "output_type": "stream",
     "text": [
      "Keypoints shape before flattening: torch.Size([4, 17, 2])\n",
      "Keypoints shape after flattening: (34,)\n",
      "saved to MP_Data/running/4/12.npy\n",
      "Keypoints shape before flattening: torch.Size([4, 17, 2])\n",
      "Keypoints shape after flattening: (34,)\n",
      "saved to MP_Data/running/4/13.npy\n"
     ]
    },
    {
     "name": "stderr",
     "output_type": "stream",
     "text": [
      "image 1/2 /home/samarth5854/anaconda3/envs/ModelEnv/lib/python3.10/site-packages/ultralytics/assets/bus.jpg: 640x480 4 persons, 82.0ms\n",
      "image 2/2 /home/samarth5854/anaconda3/envs/ModelEnv/lib/python3.10/site-packages/ultralytics/assets/zidane.jpg: 384x640 2 persons, 72.4ms\n",
      "Speed: 2.2ms preprocess, 77.2ms inference, 0.9ms postprocess per image at shape (1, 3, 384, 640)\n",
      "WARNING ⚠️ 'source' is missing. Using 'source=/home/samarth5854/anaconda3/envs/ModelEnv/lib/python3.10/site-packages/ultralytics/assets'.\n",
      "\n",
      "image 1/2 /home/samarth5854/anaconda3/envs/ModelEnv/lib/python3.10/site-packages/ultralytics/assets/bus.jpg: 640x480 4 persons, 54.2ms\n",
      "image 2/2 /home/samarth5854/anaconda3/envs/ModelEnv/lib/python3.10/site-packages/ultralytics/assets/zidane.jpg: 384x640 2 persons, 45.6ms\n",
      "Speed: 2.4ms preprocess, 49.9ms inference, 0.8ms postprocess per image at shape (1, 3, 384, 640)\n",
      "WARNING ⚠️ 'source' is missing. Using 'source=/home/samarth5854/anaconda3/envs/ModelEnv/lib/python3.10/site-packages/ultralytics/assets'.\n",
      "\n"
     ]
    },
    {
     "name": "stdout",
     "output_type": "stream",
     "text": [
      "Keypoints shape before flattening: torch.Size([4, 17, 2])\n",
      "Keypoints shape after flattening: (34,)\n",
      "saved to MP_Data/running/4/14.npy\n",
      "Keypoints shape before flattening: torch.Size([4, 17, 2])\n",
      "Keypoints shape after flattening: (34,)\n",
      "saved to MP_Data/running/4/15.npy\n"
     ]
    },
    {
     "name": "stderr",
     "output_type": "stream",
     "text": [
      "image 1/2 /home/samarth5854/anaconda3/envs/ModelEnv/lib/python3.10/site-packages/ultralytics/assets/bus.jpg: 640x480 4 persons, 84.4ms\n",
      "image 2/2 /home/samarth5854/anaconda3/envs/ModelEnv/lib/python3.10/site-packages/ultralytics/assets/zidane.jpg: 384x640 2 persons, 67.5ms\n",
      "Speed: 2.5ms preprocess, 76.0ms inference, 0.8ms postprocess per image at shape (1, 3, 384, 640)\n",
      "WARNING ⚠️ 'source' is missing. Using 'source=/home/samarth5854/anaconda3/envs/ModelEnv/lib/python3.10/site-packages/ultralytics/assets'.\n",
      "\n",
      "image 1/2 /home/samarth5854/anaconda3/envs/ModelEnv/lib/python3.10/site-packages/ultralytics/assets/bus.jpg: 640x480 4 persons, 76.9ms\n",
      "image 2/2 /home/samarth5854/anaconda3/envs/ModelEnv/lib/python3.10/site-packages/ultralytics/assets/zidane.jpg: 384x640 2 persons, 67.1ms\n",
      "Speed: 2.0ms preprocess, 72.0ms inference, 0.8ms postprocess per image at shape (1, 3, 384, 640)\n",
      "WARNING ⚠️ 'source' is missing. Using 'source=/home/samarth5854/anaconda3/envs/ModelEnv/lib/python3.10/site-packages/ultralytics/assets'.\n",
      "\n"
     ]
    },
    {
     "name": "stdout",
     "output_type": "stream",
     "text": [
      "Keypoints shape before flattening: torch.Size([4, 17, 2])\n",
      "Keypoints shape after flattening: (34,)\n",
      "saved to MP_Data/running/4/16.npy\n",
      "Keypoints shape before flattening: torch.Size([4, 17, 2])\n",
      "Keypoints shape after flattening: (34,)\n",
      "saved to MP_Data/running/4/17.npy\n"
     ]
    },
    {
     "name": "stderr",
     "output_type": "stream",
     "text": [
      "image 1/2 /home/samarth5854/anaconda3/envs/ModelEnv/lib/python3.10/site-packages/ultralytics/assets/bus.jpg: 640x480 4 persons, 83.8ms\n",
      "image 2/2 /home/samarth5854/anaconda3/envs/ModelEnv/lib/python3.10/site-packages/ultralytics/assets/zidane.jpg: 384x640 2 persons, 68.3ms\n",
      "Speed: 2.3ms preprocess, 76.1ms inference, 1.0ms postprocess per image at shape (1, 3, 384, 640)\n",
      "WARNING ⚠️ 'source' is missing. Using 'source=/home/samarth5854/anaconda3/envs/ModelEnv/lib/python3.10/site-packages/ultralytics/assets'.\n",
      "\n",
      "image 1/2 /home/samarth5854/anaconda3/envs/ModelEnv/lib/python3.10/site-packages/ultralytics/assets/bus.jpg: 640x480 4 persons, 87.2ms\n",
      "image 2/2 /home/samarth5854/anaconda3/envs/ModelEnv/lib/python3.10/site-packages/ultralytics/assets/zidane.jpg: 384x640 2 persons, 71.4ms\n"
     ]
    },
    {
     "name": "stdout",
     "output_type": "stream",
     "text": [
      "Keypoints shape before flattening: torch.Size([4, 17, 2])\n",
      "Keypoints shape after flattening: (34,)\n",
      "saved to MP_Data/running/4/18.npy\n"
     ]
    },
    {
     "name": "stderr",
     "output_type": "stream",
     "text": [
      "Speed: 2.2ms preprocess, 79.3ms inference, 1.0ms postprocess per image at shape (1, 3, 384, 640)\n",
      "WARNING ⚠️ 'source' is missing. Using 'source=/home/samarth5854/anaconda3/envs/ModelEnv/lib/python3.10/site-packages/ultralytics/assets'.\n",
      "\n",
      "image 1/2 /home/samarth5854/anaconda3/envs/ModelEnv/lib/python3.10/site-packages/ultralytics/assets/bus.jpg: 640x480 4 persons, 82.6ms\n",
      "image 2/2 /home/samarth5854/anaconda3/envs/ModelEnv/lib/python3.10/site-packages/ultralytics/assets/zidane.jpg: 384x640 2 persons, 70.5ms\n",
      "Speed: 1.9ms preprocess, 76.5ms inference, 0.9ms postprocess per image at shape (1, 3, 384, 640)\n",
      "WARNING ⚠️ 'source' is missing. Using 'source=/home/samarth5854/anaconda3/envs/ModelEnv/lib/python3.10/site-packages/ultralytics/assets'.\n",
      "\n"
     ]
    },
    {
     "name": "stdout",
     "output_type": "stream",
     "text": [
      "Keypoints shape before flattening: torch.Size([4, 17, 2])\n",
      "Keypoints shape after flattening: (34,)\n",
      "saved to MP_Data/running/4/19.npy\n",
      "Keypoints shape before flattening: torch.Size([4, 17, 2])\n",
      "Keypoints shape after flattening: (34,)\n",
      "saved to MP_Data/running/4/20.npy\n"
     ]
    },
    {
     "name": "stderr",
     "output_type": "stream",
     "text": [
      "image 1/2 /home/samarth5854/anaconda3/envs/ModelEnv/lib/python3.10/site-packages/ultralytics/assets/bus.jpg: 640x480 4 persons, 86.2ms\n",
      "image 2/2 /home/samarth5854/anaconda3/envs/ModelEnv/lib/python3.10/site-packages/ultralytics/assets/zidane.jpg: 384x640 2 persons, 76.9ms\n",
      "Speed: 2.1ms preprocess, 81.5ms inference, 0.9ms postprocess per image at shape (1, 3, 384, 640)\n",
      "WARNING ⚠️ 'source' is missing. Using 'source=/home/samarth5854/anaconda3/envs/ModelEnv/lib/python3.10/site-packages/ultralytics/assets'.\n",
      "\n",
      "image 1/2 /home/samarth5854/anaconda3/envs/ModelEnv/lib/python3.10/site-packages/ultralytics/assets/bus.jpg: 640x480 4 persons, 79.7ms\n",
      "image 2/2 /home/samarth5854/anaconda3/envs/ModelEnv/lib/python3.10/site-packages/ultralytics/assets/zidane.jpg: 384x640 2 persons, 66.3ms\n",
      "Speed: 1.9ms preprocess, 73.0ms inference, 0.9ms postprocess per image at shape (1, 3, 384, 640)\n",
      "WARNING ⚠️ 'source' is missing. Using 'source=/home/samarth5854/anaconda3/envs/ModelEnv/lib/python3.10/site-packages/ultralytics/assets'.\n",
      "\n"
     ]
    },
    {
     "name": "stdout",
     "output_type": "stream",
     "text": [
      "Keypoints shape before flattening: torch.Size([4, 17, 2])\n",
      "Keypoints shape after flattening: (34,)\n",
      "saved to MP_Data/running/4/21.npy\n",
      "Keypoints shape before flattening: torch.Size([4, 17, 2])\n",
      "Keypoints shape after flattening: (34,)\n",
      "saved to MP_Data/running/4/22.npy\n"
     ]
    },
    {
     "name": "stderr",
     "output_type": "stream",
     "text": [
      "image 1/2 /home/samarth5854/anaconda3/envs/ModelEnv/lib/python3.10/site-packages/ultralytics/assets/bus.jpg: 640x480 4 persons, 80.5ms\n",
      "image 2/2 /home/samarth5854/anaconda3/envs/ModelEnv/lib/python3.10/site-packages/ultralytics/assets/zidane.jpg: 384x640 2 persons, 67.5ms\n",
      "Speed: 2.2ms preprocess, 74.0ms inference, 0.8ms postprocess per image at shape (1, 3, 384, 640)\n",
      "WARNING ⚠️ 'source' is missing. Using 'source=/home/samarth5854/anaconda3/envs/ModelEnv/lib/python3.10/site-packages/ultralytics/assets'.\n",
      "\n",
      "image 1/2 /home/samarth5854/anaconda3/envs/ModelEnv/lib/python3.10/site-packages/ultralytics/assets/bus.jpg: 640x480 4 persons, 75.0ms\n",
      "image 2/2 /home/samarth5854/anaconda3/envs/ModelEnv/lib/python3.10/site-packages/ultralytics/assets/zidane.jpg: 384x640 2 persons, 51.1ms\n",
      "Speed: 2.0ms preprocess, 63.0ms inference, 0.8ms postprocess per image at shape (1, 3, 384, 640)\n",
      "WARNING ⚠️ 'source' is missing. Using 'source=/home/samarth5854/anaconda3/envs/ModelEnv/lib/python3.10/site-packages/ultralytics/assets'.\n",
      "\n"
     ]
    },
    {
     "name": "stdout",
     "output_type": "stream",
     "text": [
      "Keypoints shape before flattening: torch.Size([4, 17, 2])\n",
      "Keypoints shape after flattening: (34,)\n",
      "saved to MP_Data/running/4/23.npy\n",
      "Keypoints shape before flattening: torch.Size([4, 17, 2])\n",
      "Keypoints shape after flattening: (34,)\n",
      "saved to MP_Data/running/4/24.npy\n"
     ]
    },
    {
     "name": "stderr",
     "output_type": "stream",
     "text": [
      "image 1/2 /home/samarth5854/anaconda3/envs/ModelEnv/lib/python3.10/site-packages/ultralytics/assets/bus.jpg: 640x480 4 persons, 86.5ms\n",
      "image 2/2 /home/samarth5854/anaconda3/envs/ModelEnv/lib/python3.10/site-packages/ultralytics/assets/zidane.jpg: 384x640 2 persons, 68.6ms\n",
      "Speed: 2.2ms preprocess, 77.5ms inference, 1.0ms postprocess per image at shape (1, 3, 384, 640)\n",
      "WARNING ⚠️ 'source' is missing. Using 'source=/home/samarth5854/anaconda3/envs/ModelEnv/lib/python3.10/site-packages/ultralytics/assets'.\n",
      "\n",
      "image 1/2 /home/samarth5854/anaconda3/envs/ModelEnv/lib/python3.10/site-packages/ultralytics/assets/bus.jpg: 640x480 4 persons, 80.2ms\n",
      "image 2/2 /home/samarth5854/anaconda3/envs/ModelEnv/lib/python3.10/site-packages/ultralytics/assets/zidane.jpg: 384x640 2 persons, 81.0ms\n",
      "Speed: 1.9ms preprocess, 80.6ms inference, 1.0ms postprocess per image at shape (1, 3, 384, 640)\n",
      "WARNING ⚠️ 'source' is missing. Using 'source=/home/samarth5854/anaconda3/envs/ModelEnv/lib/python3.10/site-packages/ultralytics/assets'.\n"
     ]
    },
    {
     "name": "stdout",
     "output_type": "stream",
     "text": [
      "Keypoints shape before flattening: torch.Size([4, 17, 2])\n",
      "Keypoints shape after flattening: (34,)\n",
      "saved to MP_Data/running/4/25.npy\n",
      "Keypoints shape before flattening: torch.Size([4, 17, 2])\n",
      "Keypoints shape after flattening: (34,)\n",
      "saved to MP_Data/running/4/26.npy\n"
     ]
    },
    {
     "name": "stderr",
     "output_type": "stream",
     "text": [
      "\n",
      "image 1/2 /home/samarth5854/anaconda3/envs/ModelEnv/lib/python3.10/site-packages/ultralytics/assets/bus.jpg: 640x480 4 persons, 94.7ms\n",
      "image 2/2 /home/samarth5854/anaconda3/envs/ModelEnv/lib/python3.10/site-packages/ultralytics/assets/zidane.jpg: 384x640 2 persons, 68.6ms\n",
      "Speed: 3.2ms preprocess, 81.6ms inference, 0.8ms postprocess per image at shape (1, 3, 384, 640)\n",
      "WARNING ⚠️ 'source' is missing. Using 'source=/home/samarth5854/anaconda3/envs/ModelEnv/lib/python3.10/site-packages/ultralytics/assets'.\n",
      "\n",
      "image 1/2 /home/samarth5854/anaconda3/envs/ModelEnv/lib/python3.10/site-packages/ultralytics/assets/bus.jpg: 640x480 4 persons, 84.6ms\n"
     ]
    },
    {
     "name": "stdout",
     "output_type": "stream",
     "text": [
      "Keypoints shape before flattening: torch.Size([4, 17, 2])\n",
      "Keypoints shape after flattening: (34,)\n",
      "saved to MP_Data/running/4/27.npy\n"
     ]
    },
    {
     "name": "stderr",
     "output_type": "stream",
     "text": [
      "image 2/2 /home/samarth5854/anaconda3/envs/ModelEnv/lib/python3.10/site-packages/ultralytics/assets/zidane.jpg: 384x640 2 persons, 70.5ms\n",
      "Speed: 2.0ms preprocess, 77.6ms inference, 1.3ms postprocess per image at shape (1, 3, 384, 640)\n",
      "WARNING ⚠️ 'source' is missing. Using 'source=/home/samarth5854/anaconda3/envs/ModelEnv/lib/python3.10/site-packages/ultralytics/assets'.\n",
      "\n",
      "image 1/2 /home/samarth5854/anaconda3/envs/ModelEnv/lib/python3.10/site-packages/ultralytics/assets/bus.jpg: 640x480 4 persons, 101.6ms\n"
     ]
    },
    {
     "name": "stdout",
     "output_type": "stream",
     "text": [
      "Keypoints shape before flattening: torch.Size([4, 17, 2])\n",
      "Keypoints shape after flattening: (34,)\n",
      "saved to MP_Data/running/4/28.npy\n"
     ]
    },
    {
     "name": "stderr",
     "output_type": "stream",
     "text": [
      "image 2/2 /home/samarth5854/anaconda3/envs/ModelEnv/lib/python3.10/site-packages/ultralytics/assets/zidane.jpg: 384x640 2 persons, 71.3ms\n",
      "Speed: 6.0ms preprocess, 86.5ms inference, 1.1ms postprocess per image at shape (1, 3, 384, 640)\n",
      "[ WARN:0@39.635] global /croot/opencv-suite_1691620365762/work/modules/videoio/src/cap_gstreamer.cpp (2401) handleMessage OpenCV | GStreamer warning: Embedded video playback halted; module source reported: \"/home/samarth5854/Desktop/LSTM/MP_Data/running/21\" is a directory.\n",
      "[ WARN:0@39.635] global /croot/opencv-suite_1691620365762/work/modules/videoio/src/cap_gstreamer.cpp (1356) open OpenCV | GStreamer warning: unable to start pipeline\n",
      "WARNING ⚠️ 'source' is missing. Using 'source=/home/samarth5854/anaconda3/envs/ModelEnv/lib/python3.10/site-packages/ultralytics/assets'.\n",
      "[ WARN:0@39.635] global /croot/opencv-suite_1691620365762/work/modules/videoio/src/cap_gstreamer.cpp (862) isPipelinePlaying OpenCV | GStreamer warning: GStreamer: pipeline have not been created\n",
      "\n",
      "image 1/2 /home/samarth5854/anaconda3/envs/ModelEnv/lib/python3.10/site-packages/ultralytics/assets/bus.jpg: 640x480 4 persons, 79.3ms\n",
      "image 2/2 /home/samarth5854/anaconda3/envs/ModelEnv/lib/python3.10/site-packages/ultralytics/assets/zidane.jpg: 384x640 2 persons, 54.6ms\n",
      "Speed: 2.6ms preprocess, 67.0ms inference, 1.0ms postprocess per image at shape (1, 3, 384, 640)\n",
      "WARNING ⚠️ 'source' is missing. Using 'source=/home/samarth5854/anaconda3/envs/ModelEnv/lib/python3.10/site-packages/ultralytics/assets'.\n",
      "\n"
     ]
    },
    {
     "name": "stdout",
     "output_type": "stream",
     "text": [
      "Keypoints shape before flattening: torch.Size([4, 17, 2])\n",
      "Keypoints shape after flattening: (34,)\n",
      "saved to MP_Data/running/4/29.npy\n",
      "Keypoints shape before flattening: torch.Size([4, 17, 2])\n",
      "Keypoints shape after flattening: (34,)\n",
      "saved to MP_Data/running/5/0.npy\n"
     ]
    },
    {
     "name": "stderr",
     "output_type": "stream",
     "text": [
      "image 1/2 /home/samarth5854/anaconda3/envs/ModelEnv/lib/python3.10/site-packages/ultralytics/assets/bus.jpg: 640x480 4 persons, 85.6ms\n",
      "image 2/2 /home/samarth5854/anaconda3/envs/ModelEnv/lib/python3.10/site-packages/ultralytics/assets/zidane.jpg: 384x640 2 persons, 52.8ms\n",
      "Speed: 2.7ms preprocess, 69.2ms inference, 0.8ms postprocess per image at shape (1, 3, 384, 640)\n",
      "WARNING ⚠️ 'source' is missing. Using 'source=/home/samarth5854/anaconda3/envs/ModelEnv/lib/python3.10/site-packages/ultralytics/assets'.\n",
      "\n",
      "image 1/2 /home/samarth5854/anaconda3/envs/ModelEnv/lib/python3.10/site-packages/ultralytics/assets/bus.jpg: 640x480 4 persons, 82.4ms\n",
      "image 2/2 /home/samarth5854/anaconda3/envs/ModelEnv/lib/python3.10/site-packages/ultralytics/assets/zidane.jpg: 384x640 2 persons, 67.7ms\n",
      "Speed: 2.0ms preprocess, 75.0ms inference, 1.0ms postprocess per image at shape (1, 3, 384, 640)\n",
      "WARNING ⚠️ 'source' is missing. Using 'source=/home/samarth5854/anaconda3/envs/ModelEnv/lib/python3.10/site-packages/ultralytics/assets'.\n",
      "\n"
     ]
    },
    {
     "name": "stdout",
     "output_type": "stream",
     "text": [
      "Keypoints shape before flattening: torch.Size([4, 17, 2])\n",
      "Keypoints shape after flattening: (34,)\n",
      "saved to MP_Data/running/5/1.npy\n",
      "Keypoints shape before flattening: torch.Size([4, 17, 2])\n",
      "Keypoints shape after flattening: (34,)\n",
      "saved to MP_Data/running/5/2.npy\n"
     ]
    },
    {
     "name": "stderr",
     "output_type": "stream",
     "text": [
      "image 1/2 /home/samarth5854/anaconda3/envs/ModelEnv/lib/python3.10/site-packages/ultralytics/assets/bus.jpg: 640x480 4 persons, 80.1ms\n",
      "image 2/2 /home/samarth5854/anaconda3/envs/ModelEnv/lib/python3.10/site-packages/ultralytics/assets/zidane.jpg: 384x640 2 persons, 69.2ms\n",
      "Speed: 2.0ms preprocess, 74.6ms inference, 1.0ms postprocess per image at shape (1, 3, 384, 640)\n",
      "WARNING ⚠️ 'source' is missing. Using 'source=/home/samarth5854/anaconda3/envs/ModelEnv/lib/python3.10/site-packages/ultralytics/assets'.\n",
      "\n",
      "image 1/2 /home/samarth5854/anaconda3/envs/ModelEnv/lib/python3.10/site-packages/ultralytics/assets/bus.jpg: 640x480 4 persons, 81.1ms\n",
      "image 2/2 /home/samarth5854/anaconda3/envs/ModelEnv/lib/python3.10/site-packages/ultralytics/assets/zidane.jpg: 384x640 2 persons, 66.6ms\n",
      "Speed: 1.9ms preprocess, 73.8ms inference, 0.9ms postprocess per image at shape (1, 3, 384, 640)\n",
      "WARNING ⚠️ 'source' is missing. Using 'source=/home/samarth5854/anaconda3/envs/ModelEnv/lib/python3.10/site-packages/ultralytics/assets'.\n",
      "\n"
     ]
    },
    {
     "name": "stdout",
     "output_type": "stream",
     "text": [
      "Keypoints shape before flattening: torch.Size([4, 17, 2])\n",
      "Keypoints shape after flattening: (34,)\n",
      "saved to MP_Data/running/5/3.npy\n",
      "Keypoints shape before flattening: torch.Size([4, 17, 2])\n",
      "Keypoints shape after flattening: (34,)\n",
      "saved to MP_Data/running/5/4.npy\n"
     ]
    },
    {
     "name": "stderr",
     "output_type": "stream",
     "text": [
      "image 1/2 /home/samarth5854/anaconda3/envs/ModelEnv/lib/python3.10/site-packages/ultralytics/assets/bus.jpg: 640x480 4 persons, 80.4ms\n",
      "image 2/2 /home/samarth5854/anaconda3/envs/ModelEnv/lib/python3.10/site-packages/ultralytics/assets/zidane.jpg: 384x640 2 persons, 115.9ms\n",
      "Speed: 2.0ms preprocess, 98.1ms inference, 0.9ms postprocess per image at shape (1, 3, 384, 640)\n",
      "WARNING ⚠️ 'source' is missing. Using 'source=/home/samarth5854/anaconda3/envs/ModelEnv/lib/python3.10/site-packages/ultralytics/assets'.\n",
      "\n",
      "image 1/2 /home/samarth5854/anaconda3/envs/ModelEnv/lib/python3.10/site-packages/ultralytics/assets/bus.jpg: 640x480 4 persons, 54.8ms\n",
      "image 2/2 /home/samarth5854/anaconda3/envs/ModelEnv/lib/python3.10/site-packages/ultralytics/assets/zidane.jpg: 384x640 2 persons, 58.6ms\n",
      "Speed: 2.0ms preprocess, 56.7ms inference, 1.1ms postprocess per image at shape (1, 3, 384, 640)\n",
      "WARNING ⚠️ 'source' is missing. Using 'source=/home/samarth5854/anaconda3/envs/ModelEnv/lib/python3.10/site-packages/ultralytics/assets'.\n",
      "\n"
     ]
    },
    {
     "name": "stdout",
     "output_type": "stream",
     "text": [
      "Keypoints shape before flattening: torch.Size([4, 17, 2])\n",
      "Keypoints shape after flattening: (34,)\n",
      "saved to MP_Data/running/5/5.npy\n",
      "Keypoints shape before flattening: torch.Size([4, 17, 2])\n",
      "Keypoints shape after flattening: (34,)\n",
      "saved to MP_Data/running/5/6.npy\n"
     ]
    },
    {
     "name": "stderr",
     "output_type": "stream",
     "text": [
      "image 1/2 /home/samarth5854/anaconda3/envs/ModelEnv/lib/python3.10/site-packages/ultralytics/assets/bus.jpg: 640x480 4 persons, 84.8ms\n",
      "image 2/2 /home/samarth5854/anaconda3/envs/ModelEnv/lib/python3.10/site-packages/ultralytics/assets/zidane.jpg: 384x640 2 persons, 68.0ms\n",
      "Speed: 1.9ms preprocess, 76.4ms inference, 0.9ms postprocess per image at shape (1, 3, 384, 640)\n",
      "WARNING ⚠️ 'source' is missing. Using 'source=/home/samarth5854/anaconda3/envs/ModelEnv/lib/python3.10/site-packages/ultralytics/assets'.\n",
      "\n",
      "image 1/2 /home/samarth5854/anaconda3/envs/ModelEnv/lib/python3.10/site-packages/ultralytics/assets/bus.jpg: 640x480 4 persons, 89.5ms\n",
      "image 2/2 /home/samarth5854/anaconda3/envs/ModelEnv/lib/python3.10/site-packages/ultralytics/assets/zidane.jpg: 384x640 2 persons, 68.4ms\n",
      "Speed: 2.1ms preprocess, 79.0ms inference, 0.9ms postprocess per image at shape (1, 3, 384, 640)\n",
      "WARNING ⚠️ 'source' is missing. Using 'source=/home/samarth5854/anaconda3/envs/ModelEnv/lib/python3.10/site-packages/ultralytics/assets'.\n"
     ]
    },
    {
     "name": "stdout",
     "output_type": "stream",
     "text": [
      "Keypoints shape before flattening: torch.Size([4, 17, 2])\n",
      "Keypoints shape after flattening: (34,)\n",
      "saved to MP_Data/running/5/7.npy\n",
      "Keypoints shape before flattening: torch.Size([4, 17, 2])\n",
      "Keypoints shape after flattening: (34,)\n",
      "saved to MP_Data/running/5/8.npy\n"
     ]
    },
    {
     "name": "stderr",
     "output_type": "stream",
     "text": [
      "\n",
      "image 1/2 /home/samarth5854/anaconda3/envs/ModelEnv/lib/python3.10/site-packages/ultralytics/assets/bus.jpg: 640x480 4 persons, 77.3ms\n",
      "image 2/2 /home/samarth5854/anaconda3/envs/ModelEnv/lib/python3.10/site-packages/ultralytics/assets/zidane.jpg: 384x640 2 persons, 47.4ms\n",
      "Speed: 1.9ms preprocess, 62.4ms inference, 1.0ms postprocess per image at shape (1, 3, 384, 640)\n",
      "WARNING ⚠️ 'source' is missing. Using 'source=/home/samarth5854/anaconda3/envs/ModelEnv/lib/python3.10/site-packages/ultralytics/assets'.\n",
      "\n",
      "image 1/2 /home/samarth5854/anaconda3/envs/ModelEnv/lib/python3.10/site-packages/ultralytics/assets/bus.jpg: 640x480 4 persons, 66.6ms\n",
      "image 2/2 /home/samarth5854/anaconda3/envs/ModelEnv/lib/python3.10/site-packages/ultralytics/assets/zidane.jpg: 384x640 2 persons, 57.0ms\n",
      "Speed: 2.2ms preprocess, 61.8ms inference, 1.2ms postprocess per image at shape (1, 3, 384, 640)\n",
      "WARNING ⚠️ 'source' is missing. Using 'source=/home/samarth5854/anaconda3/envs/ModelEnv/lib/python3.10/site-packages/ultralytics/assets'.\n",
      "\n"
     ]
    },
    {
     "name": "stdout",
     "output_type": "stream",
     "text": [
      "Keypoints shape before flattening: torch.Size([4, 17, 2])\n",
      "Keypoints shape after flattening: (34,)\n",
      "saved to MP_Data/running/5/9.npy\n",
      "Keypoints shape before flattening: torch.Size([4, 17, 2])\n",
      "Keypoints shape after flattening: (34,)\n",
      "saved to MP_Data/running/5/10.npy\n"
     ]
    },
    {
     "name": "stderr",
     "output_type": "stream",
     "text": [
      "image 1/2 /home/samarth5854/anaconda3/envs/ModelEnv/lib/python3.10/site-packages/ultralytics/assets/bus.jpg: 640x480 4 persons, 81.0ms\n",
      "image 2/2 /home/samarth5854/anaconda3/envs/ModelEnv/lib/python3.10/site-packages/ultralytics/assets/zidane.jpg: 384x640 2 persons, 66.9ms\n",
      "Speed: 1.9ms preprocess, 74.0ms inference, 0.9ms postprocess per image at shape (1, 3, 384, 640)\n",
      "WARNING ⚠️ 'source' is missing. Using 'source=/home/samarth5854/anaconda3/envs/ModelEnv/lib/python3.10/site-packages/ultralytics/assets'.\n",
      "\n",
      "image 1/2 /home/samarth5854/anaconda3/envs/ModelEnv/lib/python3.10/site-packages/ultralytics/assets/bus.jpg: 640x480 4 persons, 79.0ms\n",
      "image 2/2 /home/samarth5854/anaconda3/envs/ModelEnv/lib/python3.10/site-packages/ultralytics/assets/zidane.jpg: 384x640 2 persons, 72.1ms\n",
      "Speed: 2.0ms preprocess, 75.6ms inference, 0.9ms postprocess per image at shape (1, 3, 384, 640)\n",
      "WARNING ⚠️ 'source' is missing. Using 'source=/home/samarth5854/anaconda3/envs/ModelEnv/lib/python3.10/site-packages/ultralytics/assets'.\n",
      "\n"
     ]
    },
    {
     "name": "stdout",
     "output_type": "stream",
     "text": [
      "Keypoints shape before flattening: torch.Size([4, 17, 2])\n",
      "Keypoints shape after flattening: (34,)\n",
      "saved to MP_Data/running/5/11.npy\n",
      "Keypoints shape before flattening: torch.Size([4, 17, 2])\n",
      "Keypoints shape after flattening: (34,)\n",
      "saved to MP_Data/running/5/12.npy\n"
     ]
    },
    {
     "name": "stderr",
     "output_type": "stream",
     "text": [
      "image 1/2 /home/samarth5854/anaconda3/envs/ModelEnv/lib/python3.10/site-packages/ultralytics/assets/bus.jpg: 640x480 4 persons, 60.8ms\n",
      "image 2/2 /home/samarth5854/anaconda3/envs/ModelEnv/lib/python3.10/site-packages/ultralytics/assets/zidane.jpg: 384x640 2 persons, 71.1ms\n",
      "Speed: 1.7ms preprocess, 65.9ms inference, 0.9ms postprocess per image at shape (1, 3, 384, 640)\n",
      "WARNING ⚠️ 'source' is missing. Using 'source=/home/samarth5854/anaconda3/envs/ModelEnv/lib/python3.10/site-packages/ultralytics/assets'.\n",
      "\n",
      "image 1/2 /home/samarth5854/anaconda3/envs/ModelEnv/lib/python3.10/site-packages/ultralytics/assets/bus.jpg: 640x480 4 persons, 78.2ms\n",
      "image 2/2 /home/samarth5854/anaconda3/envs/ModelEnv/lib/python3.10/site-packages/ultralytics/assets/zidane.jpg: 384x640 2 persons, 68.5ms\n",
      "Speed: 1.9ms preprocess, 73.4ms inference, 0.9ms postprocess per image at shape (1, 3, 384, 640)\n",
      "WARNING ⚠️ 'source' is missing. Using 'source=/home/samarth5854/anaconda3/envs/ModelEnv/lib/python3.10/site-packages/ultralytics/assets'.\n",
      "\n"
     ]
    },
    {
     "name": "stdout",
     "output_type": "stream",
     "text": [
      "Keypoints shape before flattening: torch.Size([4, 17, 2])\n",
      "Keypoints shape after flattening: (34,)\n",
      "saved to MP_Data/running/5/13.npy\n",
      "Keypoints shape before flattening: torch.Size([4, 17, 2])\n",
      "Keypoints shape after flattening: (34,)\n",
      "saved to MP_Data/running/5/14.npy\n"
     ]
    },
    {
     "name": "stderr",
     "output_type": "stream",
     "text": [
      "image 1/2 /home/samarth5854/anaconda3/envs/ModelEnv/lib/python3.10/site-packages/ultralytics/assets/bus.jpg: 640x480 4 persons, 58.0ms\n",
      "image 2/2 /home/samarth5854/anaconda3/envs/ModelEnv/lib/python3.10/site-packages/ultralytics/assets/zidane.jpg: 384x640 2 persons, 46.4ms\n",
      "Speed: 2.0ms preprocess, 52.2ms inference, 1.0ms postprocess per image at shape (1, 3, 384, 640)\n",
      "WARNING ⚠️ 'source' is missing. Using 'source=/home/samarth5854/anaconda3/envs/ModelEnv/lib/python3.10/site-packages/ultralytics/assets'.\n",
      "\n",
      "image 1/2 /home/samarth5854/anaconda3/envs/ModelEnv/lib/python3.10/site-packages/ultralytics/assets/bus.jpg: 640x480 4 persons, 79.1ms\n",
      "image 2/2 /home/samarth5854/anaconda3/envs/ModelEnv/lib/python3.10/site-packages/ultralytics/assets/zidane.jpg: 384x640 2 persons, 68.2ms\n",
      "Speed: 2.0ms preprocess, 73.7ms inference, 0.9ms postprocess per image at shape (1, 3, 384, 640)\n",
      "WARNING ⚠️ 'source' is missing. Using 'source=/home/samarth5854/anaconda3/envs/ModelEnv/lib/python3.10/site-packages/ultralytics/assets'.\n",
      "\n"
     ]
    },
    {
     "name": "stdout",
     "output_type": "stream",
     "text": [
      "Keypoints shape before flattening: torch.Size([4, 17, 2])\n",
      "Keypoints shape after flattening: (34,)\n",
      "saved to MP_Data/running/5/15.npy\n",
      "Keypoints shape before flattening: torch.Size([4, 17, 2])\n",
      "Keypoints shape after flattening: (34,)\n",
      "saved to MP_Data/running/5/16.npy\n"
     ]
    },
    {
     "name": "stderr",
     "output_type": "stream",
     "text": [
      "image 1/2 /home/samarth5854/anaconda3/envs/ModelEnv/lib/python3.10/site-packages/ultralytics/assets/bus.jpg: 640x480 4 persons, 88.1ms\n",
      "image 2/2 /home/samarth5854/anaconda3/envs/ModelEnv/lib/python3.10/site-packages/ultralytics/assets/zidane.jpg: 384x640 2 persons, 72.5ms\n",
      "Speed: 2.2ms preprocess, 80.3ms inference, 1.1ms postprocess per image at shape (1, 3, 384, 640)\n",
      "WARNING ⚠️ 'source' is missing. Using 'source=/home/samarth5854/anaconda3/envs/ModelEnv/lib/python3.10/site-packages/ultralytics/assets'.\n",
      "\n",
      "image 1/2 /home/samarth5854/anaconda3/envs/ModelEnv/lib/python3.10/site-packages/ultralytics/assets/bus.jpg: 640x480 4 persons, 89.8ms\n",
      "image 2/2 /home/samarth5854/anaconda3/envs/ModelEnv/lib/python3.10/site-packages/ultralytics/assets/zidane.jpg: 384x640 2 persons, 69.7ms\n",
      "Speed: 1.9ms preprocess, 79.8ms inference, 1.0ms postprocess per image at shape (1, 3, 384, 640)\n",
      "WARNING ⚠️ 'source' is missing. Using 'source=/home/samarth5854/anaconda3/envs/ModelEnv/lib/python3.10/site-packages/ultralytics/assets'.\n",
      "\n"
     ]
    },
    {
     "name": "stdout",
     "output_type": "stream",
     "text": [
      "Keypoints shape before flattening: torch.Size([4, 17, 2])\n",
      "Keypoints shape after flattening: (34,)\n",
      "saved to MP_Data/running/5/17.npy\n",
      "Keypoints shape before flattening: torch.Size([4, 17, 2])\n",
      "Keypoints shape after flattening: (34,)\n",
      "saved to MP_Data/running/5/18.npy\n"
     ]
    },
    {
     "name": "stderr",
     "output_type": "stream",
     "text": [
      "image 1/2 /home/samarth5854/anaconda3/envs/ModelEnv/lib/python3.10/site-packages/ultralytics/assets/bus.jpg: 640x480 4 persons, 92.9ms\n",
      "image 2/2 /home/samarth5854/anaconda3/envs/ModelEnv/lib/python3.10/site-packages/ultralytics/assets/zidane.jpg: 384x640 2 persons, 69.8ms\n",
      "Speed: 2.0ms preprocess, 81.4ms inference, 1.0ms postprocess per image at shape (1, 3, 384, 640)\n",
      "WARNING ⚠️ 'source' is missing. Using 'source=/home/samarth5854/anaconda3/envs/ModelEnv/lib/python3.10/site-packages/ultralytics/assets'.\n",
      "\n",
      "image 1/2 /home/samarth5854/anaconda3/envs/ModelEnv/lib/python3.10/site-packages/ultralytics/assets/bus.jpg: 640x480 4 persons, 82.2ms\n",
      "image 2/2 /home/samarth5854/anaconda3/envs/ModelEnv/lib/python3.10/site-packages/ultralytics/assets/zidane.jpg: 384x640 2 persons, 67.4ms\n",
      "Speed: 2.0ms preprocess, 74.8ms inference, 1.0ms postprocess per image at shape (1, 3, 384, 640)\n",
      "WARNING ⚠️ 'source' is missing. Using 'source=/home/samarth5854/anaconda3/envs/ModelEnv/lib/python3.10/site-packages/ultralytics/assets'.\n",
      "\n"
     ]
    },
    {
     "name": "stdout",
     "output_type": "stream",
     "text": [
      "Keypoints shape before flattening: torch.Size([4, 17, 2])\n",
      "Keypoints shape after flattening: (34,)\n",
      "saved to MP_Data/running/5/19.npy\n",
      "Keypoints shape before flattening: torch.Size([4, 17, 2])\n",
      "Keypoints shape after flattening: (34,)\n",
      "saved to MP_Data/running/5/20.npy\n"
     ]
    },
    {
     "name": "stderr",
     "output_type": "stream",
     "text": [
      "image 1/2 /home/samarth5854/anaconda3/envs/ModelEnv/lib/python3.10/site-packages/ultralytics/assets/bus.jpg: 640x480 4 persons, 80.4ms\n",
      "image 2/2 /home/samarth5854/anaconda3/envs/ModelEnv/lib/python3.10/site-packages/ultralytics/assets/zidane.jpg: 384x640 2 persons, 66.2ms\n",
      "Speed: 1.9ms preprocess, 73.3ms inference, 1.0ms postprocess per image at shape (1, 3, 384, 640)\n",
      "WARNING ⚠️ 'source' is missing. Using 'source=/home/samarth5854/anaconda3/envs/ModelEnv/lib/python3.10/site-packages/ultralytics/assets'.\n",
      "\n",
      "image 1/2 /home/samarth5854/anaconda3/envs/ModelEnv/lib/python3.10/site-packages/ultralytics/assets/bus.jpg: 640x480 4 persons, 82.9ms\n",
      "image 2/2 /home/samarth5854/anaconda3/envs/ModelEnv/lib/python3.10/site-packages/ultralytics/assets/zidane.jpg: 384x640 2 persons, 76.5ms\n",
      "Speed: 1.9ms preprocess, 79.7ms inference, 0.9ms postprocess per image at shape (1, 3, 384, 640)\n",
      "WARNING ⚠️ 'source' is missing. Using 'source=/home/samarth5854/anaconda3/envs/ModelEnv/lib/python3.10/site-packages/ultralytics/assets'.\n"
     ]
    },
    {
     "name": "stdout",
     "output_type": "stream",
     "text": [
      "Keypoints shape before flattening: torch.Size([4, 17, 2])\n",
      "Keypoints shape after flattening: (34,)\n",
      "saved to MP_Data/running/5/21.npy\n",
      "Keypoints shape before flattening: torch.Size([4, 17, 2])\n",
      "Keypoints shape after flattening: (34,)\n",
      "saved to MP_Data/running/5/22.npy\n"
     ]
    },
    {
     "name": "stderr",
     "output_type": "stream",
     "text": [
      "\n",
      "image 1/2 /home/samarth5854/anaconda3/envs/ModelEnv/lib/python3.10/site-packages/ultralytics/assets/bus.jpg: 640x480 4 persons, 89.0ms\n",
      "image 2/2 /home/samarth5854/anaconda3/envs/ModelEnv/lib/python3.10/site-packages/ultralytics/assets/zidane.jpg: 384x640 2 persons, 68.8ms\n",
      "Speed: 2.0ms preprocess, 78.9ms inference, 1.0ms postprocess per image at shape (1, 3, 384, 640)\n",
      "WARNING ⚠️ 'source' is missing. Using 'source=/home/samarth5854/anaconda3/envs/ModelEnv/lib/python3.10/site-packages/ultralytics/assets'.\n",
      "\n",
      "image 1/2 /home/samarth5854/anaconda3/envs/ModelEnv/lib/python3.10/site-packages/ultralytics/assets/bus.jpg: 640x480 4 persons, 78.5ms\n",
      "image 2/2 /home/samarth5854/anaconda3/envs/ModelEnv/lib/python3.10/site-packages/ultralytics/assets/zidane.jpg: 384x640 2 persons, 64.0ms\n",
      "Speed: 2.5ms preprocess, 71.2ms inference, 0.9ms postprocess per image at shape (1, 3, 384, 640)\n",
      "WARNING ⚠️ 'source' is missing. Using 'source=/home/samarth5854/anaconda3/envs/ModelEnv/lib/python3.10/site-packages/ultralytics/assets'.\n",
      "\n"
     ]
    },
    {
     "name": "stdout",
     "output_type": "stream",
     "text": [
      "Keypoints shape before flattening: torch.Size([4, 17, 2])\n",
      "Keypoints shape after flattening: (34,)\n",
      "saved to MP_Data/running/5/23.npy\n",
      "Keypoints shape before flattening: torch.Size([4, 17, 2])\n",
      "Keypoints shape after flattening: (34,)\n",
      "saved to MP_Data/running/5/24.npy\n"
     ]
    },
    {
     "name": "stderr",
     "output_type": "stream",
     "text": [
      "image 1/2 /home/samarth5854/anaconda3/envs/ModelEnv/lib/python3.10/site-packages/ultralytics/assets/bus.jpg: 640x480 4 persons, 85.4ms\n",
      "image 2/2 /home/samarth5854/anaconda3/envs/ModelEnv/lib/python3.10/site-packages/ultralytics/assets/zidane.jpg: 384x640 2 persons, 68.1ms\n",
      "Speed: 2.2ms preprocess, 76.8ms inference, 0.8ms postprocess per image at shape (1, 3, 384, 640)\n",
      "WARNING ⚠️ 'source' is missing. Using 'source=/home/samarth5854/anaconda3/envs/ModelEnv/lib/python3.10/site-packages/ultralytics/assets'.\n",
      "\n",
      "image 1/2 /home/samarth5854/anaconda3/envs/ModelEnv/lib/python3.10/site-packages/ultralytics/assets/bus.jpg: 640x480 4 persons, 77.6ms\n",
      "image 2/2 /home/samarth5854/anaconda3/envs/ModelEnv/lib/python3.10/site-packages/ultralytics/assets/zidane.jpg: 384x640 2 persons, 63.3ms\n",
      "Speed: 2.0ms preprocess, 70.4ms inference, 0.8ms postprocess per image at shape (1, 3, 384, 640)\n",
      "WARNING ⚠️ 'source' is missing. Using 'source=/home/samarth5854/anaconda3/envs/ModelEnv/lib/python3.10/site-packages/ultralytics/assets'.\n",
      "\n"
     ]
    },
    {
     "name": "stdout",
     "output_type": "stream",
     "text": [
      "Keypoints shape before flattening: torch.Size([4, 17, 2])\n",
      "Keypoints shape after flattening: (34,)\n",
      "saved to MP_Data/running/5/25.npy\n",
      "Keypoints shape before flattening: torch.Size([4, 17, 2])\n",
      "Keypoints shape after flattening: (34,)\n",
      "saved to MP_Data/running/5/26.npy\n"
     ]
    },
    {
     "name": "stderr",
     "output_type": "stream",
     "text": [
      "image 1/2 /home/samarth5854/anaconda3/envs/ModelEnv/lib/python3.10/site-packages/ultralytics/assets/bus.jpg: 640x480 4 persons, 81.6ms\n",
      "image 2/2 /home/samarth5854/anaconda3/envs/ModelEnv/lib/python3.10/site-packages/ultralytics/assets/zidane.jpg: 384x640 2 persons, 67.5ms\n",
      "Speed: 2.1ms preprocess, 74.5ms inference, 0.9ms postprocess per image at shape (1, 3, 384, 640)\n",
      "WARNING ⚠️ 'source' is missing. Using 'source=/home/samarth5854/anaconda3/envs/ModelEnv/lib/python3.10/site-packages/ultralytics/assets'.\n",
      "\n",
      "image 1/2 /home/samarth5854/anaconda3/envs/ModelEnv/lib/python3.10/site-packages/ultralytics/assets/bus.jpg: 640x480 4 persons, 80.9ms\n",
      "image 2/2 /home/samarth5854/anaconda3/envs/ModelEnv/lib/python3.10/site-packages/ultralytics/assets/zidane.jpg: 384x640 2 persons, 77.4ms\n",
      "Speed: 2.3ms preprocess, 79.2ms inference, 1.0ms postprocess per image at shape (1, 3, 384, 640)\n",
      "WARNING ⚠️ 'source' is missing. Using 'source=/home/samarth5854/anaconda3/envs/ModelEnv/lib/python3.10/site-packages/ultralytics/assets'.\n",
      "\n"
     ]
    },
    {
     "name": "stdout",
     "output_type": "stream",
     "text": [
      "Keypoints shape before flattening: torch.Size([4, 17, 2])\n",
      "Keypoints shape after flattening: (34,)\n",
      "saved to MP_Data/running/5/27.npy\n",
      "Keypoints shape before flattening: torch.Size([4, 17, 2])\n",
      "Keypoints shape after flattening: (34,)\n",
      "saved to MP_Data/running/5/28.npy\n"
     ]
    },
    {
     "name": "stderr",
     "output_type": "stream",
     "text": [
      "image 1/2 /home/samarth5854/anaconda3/envs/ModelEnv/lib/python3.10/site-packages/ultralytics/assets/bus.jpg: 640x480 4 persons, 89.4ms\n",
      "image 2/2 /home/samarth5854/anaconda3/envs/ModelEnv/lib/python3.10/site-packages/ultralytics/assets/zidane.jpg: 384x640 2 persons, 66.5ms\n",
      "Speed: 3.6ms preprocess, 78.0ms inference, 0.8ms postprocess per image at shape (1, 3, 384, 640)\n",
      "[ WARN:0@45.260] global /croot/opencv-suite_1691620365762/work/modules/videoio/src/cap_gstreamer.cpp (2401) handleMessage OpenCV | GStreamer warning: Embedded video playback halted; module source reported: \"/home/samarth5854/Desktop/LSTM/MP_Data/running/39\" is a directory.\n",
      "[ WARN:0@45.260] global /croot/opencv-suite_1691620365762/work/modules/videoio/src/cap_gstreamer.cpp (1356) open OpenCV | GStreamer warning: unable to start pipeline\n",
      "[ WARN:0@45.260] global /croot/opencv-suite_1691620365762/work/modules/videoio/src/cap_gstreamer.cpp (862) isPipelinePlaying OpenCV | GStreamer warning: GStreamer: pipeline have not been created\n",
      "WARNING ⚠️ 'source' is missing. Using 'source=/home/samarth5854/anaconda3/envs/ModelEnv/lib/python3.10/site-packages/ultralytics/assets'.\n",
      "\n",
      "image 1/2 /home/samarth5854/anaconda3/envs/ModelEnv/lib/python3.10/site-packages/ultralytics/assets/bus.jpg: 640x480 4 persons, 77.0ms\n",
      "image 2/2 /home/samarth5854/anaconda3/envs/ModelEnv/lib/python3.10/site-packages/ultralytics/assets/zidane.jpg: 384x640 2 persons, 69.6ms\n",
      "Speed: 2.1ms preprocess, 73.3ms inference, 0.9ms postprocess per image at shape (1, 3, 384, 640)\n",
      "WARNING ⚠️ 'source' is missing. Using 'source=/home/samarth5854/anaconda3/envs/ModelEnv/lib/python3.10/site-packages/ultralytics/assets'.\n",
      "\n"
     ]
    },
    {
     "name": "stdout",
     "output_type": "stream",
     "text": [
      "Keypoints shape before flattening: torch.Size([4, 17, 2])\n",
      "Keypoints shape after flattening: (34,)\n",
      "saved to MP_Data/running/5/29.npy\n",
      "Keypoints shape before flattening: torch.Size([4, 17, 2])\n",
      "Keypoints shape after flattening: (34,)\n",
      "saved to MP_Data/running/6/0.npy\n"
     ]
    },
    {
     "name": "stderr",
     "output_type": "stream",
     "text": [
      "image 1/2 /home/samarth5854/anaconda3/envs/ModelEnv/lib/python3.10/site-packages/ultralytics/assets/bus.jpg: 640x480 4 persons, 81.3ms\n",
      "image 2/2 /home/samarth5854/anaconda3/envs/ModelEnv/lib/python3.10/site-packages/ultralytics/assets/zidane.jpg: 384x640 2 persons, 66.8ms\n",
      "Speed: 1.9ms preprocess, 74.1ms inference, 0.9ms postprocess per image at shape (1, 3, 384, 640)\n",
      "WARNING ⚠️ 'source' is missing. Using 'source=/home/samarth5854/anaconda3/envs/ModelEnv/lib/python3.10/site-packages/ultralytics/assets'.\n",
      "\n",
      "image 1/2 /home/samarth5854/anaconda3/envs/ModelEnv/lib/python3.10/site-packages/ultralytics/assets/bus.jpg: 640x480 4 persons, 84.7ms\n"
     ]
    },
    {
     "name": "stdout",
     "output_type": "stream",
     "text": [
      "Keypoints shape before flattening: torch.Size([4, 17, 2])\n",
      "Keypoints shape after flattening: (34,)\n",
      "saved to MP_Data/running/6/1.npy\n"
     ]
    },
    {
     "name": "stderr",
     "output_type": "stream",
     "text": [
      "image 2/2 /home/samarth5854/anaconda3/envs/ModelEnv/lib/python3.10/site-packages/ultralytics/assets/zidane.jpg: 384x640 2 persons, 76.2ms\n",
      "Speed: 2.2ms preprocess, 80.5ms inference, 1.0ms postprocess per image at shape (1, 3, 384, 640)\n",
      "WARNING ⚠️ 'source' is missing. Using 'source=/home/samarth5854/anaconda3/envs/ModelEnv/lib/python3.10/site-packages/ultralytics/assets'.\n",
      "\n",
      "image 1/2 /home/samarth5854/anaconda3/envs/ModelEnv/lib/python3.10/site-packages/ultralytics/assets/bus.jpg: 640x480 4 persons, 96.3ms\n"
     ]
    },
    {
     "name": "stdout",
     "output_type": "stream",
     "text": [
      "Keypoints shape before flattening: torch.Size([4, 17, 2])\n",
      "Keypoints shape after flattening: (34,)\n",
      "saved to MP_Data/running/6/2.npy\n"
     ]
    },
    {
     "name": "stderr",
     "output_type": "stream",
     "text": [
      "image 2/2 /home/samarth5854/anaconda3/envs/ModelEnv/lib/python3.10/site-packages/ultralytics/assets/zidane.jpg: 384x640 2 persons, 78.5ms\n",
      "Speed: 2.4ms preprocess, 87.4ms inference, 1.0ms postprocess per image at shape (1, 3, 384, 640)\n",
      "WARNING ⚠️ 'source' is missing. Using 'source=/home/samarth5854/anaconda3/envs/ModelEnv/lib/python3.10/site-packages/ultralytics/assets'.\n",
      "\n",
      "image 1/2 /home/samarth5854/anaconda3/envs/ModelEnv/lib/python3.10/site-packages/ultralytics/assets/bus.jpg: 640x480 4 persons, 63.4ms\n",
      "image 2/2 /home/samarth5854/anaconda3/envs/ModelEnv/lib/python3.10/site-packages/ultralytics/assets/zidane.jpg: 384x640 2 persons, 47.4ms\n",
      "Speed: 2.0ms preprocess, 55.4ms inference, 1.0ms postprocess per image at shape (1, 3, 384, 640)\n",
      "WARNING ⚠️ 'source' is missing. Using 'source=/home/samarth5854/anaconda3/envs/ModelEnv/lib/python3.10/site-packages/ultralytics/assets'.\n",
      "\n"
     ]
    },
    {
     "name": "stdout",
     "output_type": "stream",
     "text": [
      "Keypoints shape before flattening: torch.Size([4, 17, 2])\n",
      "Keypoints shape after flattening: (34,)\n",
      "saved to MP_Data/running/6/3.npy\n",
      "Keypoints shape before flattening: torch.Size([4, 17, 2])\n",
      "Keypoints shape after flattening: (34,)\n",
      "saved to MP_Data/running/6/4.npy\n"
     ]
    },
    {
     "name": "stderr",
     "output_type": "stream",
     "text": [
      "image 1/2 /home/samarth5854/anaconda3/envs/ModelEnv/lib/python3.10/site-packages/ultralytics/assets/bus.jpg: 640x480 4 persons, 63.9ms\n",
      "image 2/2 /home/samarth5854/anaconda3/envs/ModelEnv/lib/python3.10/site-packages/ultralytics/assets/zidane.jpg: 384x640 2 persons, 71.4ms\n",
      "Speed: 5.2ms preprocess, 67.7ms inference, 0.8ms postprocess per image at shape (1, 3, 384, 640)\n",
      "WARNING ⚠️ 'source' is missing. Using 'source=/home/samarth5854/anaconda3/envs/ModelEnv/lib/python3.10/site-packages/ultralytics/assets'.\n",
      "\n",
      "image 1/2 /home/samarth5854/anaconda3/envs/ModelEnv/lib/python3.10/site-packages/ultralytics/assets/bus.jpg: 640x480 4 persons, 81.5ms\n",
      "image 2/2 /home/samarth5854/anaconda3/envs/ModelEnv/lib/python3.10/site-packages/ultralytics/assets/zidane.jpg: 384x640 2 persons, 67.9ms\n",
      "Speed: 2.1ms preprocess, 74.7ms inference, 1.0ms postprocess per image at shape (1, 3, 384, 640)\n",
      "WARNING ⚠️ 'source' is missing. Using 'source=/home/samarth5854/anaconda3/envs/ModelEnv/lib/python3.10/site-packages/ultralytics/assets'.\n",
      "\n"
     ]
    },
    {
     "name": "stdout",
     "output_type": "stream",
     "text": [
      "Keypoints shape before flattening: torch.Size([4, 17, 2])\n",
      "Keypoints shape after flattening: (34,)\n",
      "saved to MP_Data/running/6/5.npy\n",
      "Keypoints shape before flattening: torch.Size([4, 17, 2])\n",
      "Keypoints shape after flattening: (34,)\n",
      "saved to MP_Data/running/6/6.npy\n"
     ]
    },
    {
     "name": "stderr",
     "output_type": "stream",
     "text": [
      "image 1/2 /home/samarth5854/anaconda3/envs/ModelEnv/lib/python3.10/site-packages/ultralytics/assets/bus.jpg: 640x480 4 persons, 83.6ms\n"
     ]
    },
    {
     "ename": "KeyboardInterrupt",
     "evalue": "",
     "output_type": "error",
     "traceback": [
      "\u001b[0;31m---------------------------------------------------------------------------\u001b[0m",
      "\u001b[0;31mKeyboardInterrupt\u001b[0m                         Traceback (most recent call last)",
      "Cell \u001b[0;32mIn[5], line 29\u001b[0m\n\u001b[1;32m     21\u001b[0m ret, frame \u001b[38;5;241m=\u001b[39m cap\u001b[38;5;241m.\u001b[39mread()\n\u001b[1;32m     24\u001b[0m \u001b[38;5;66;03m# (Replace with your pose estimation model logic here)\u001b[39;00m\n\u001b[1;32m     25\u001b[0m \u001b[38;5;66;03m# This part would process the frame using your model and extract keypoints\u001b[39;00m\n\u001b[1;32m     26\u001b[0m \n\u001b[1;32m     27\u001b[0m \u001b[38;5;66;03m# Assuming you have keypoints data in a variable called \"keypoints\"\u001b[39;00m\n\u001b[1;32m     28\u001b[0m \u001b[38;5;66;03m# Flatten keypoints\u001b[39;00m\n\u001b[0;32m---> 29\u001b[0m results \u001b[38;5;241m=\u001b[39m \u001b[43mmodelpose\u001b[49m\u001b[38;5;241;43m.\u001b[39;49m\u001b[43mpredict\u001b[49m\u001b[43m(\u001b[49m\u001b[43mframe\u001b[49m\u001b[43m)\u001b[49m\n\u001b[1;32m     30\u001b[0m \u001b[38;5;28mprint\u001b[39m(\u001b[38;5;124m\"\u001b[39m\u001b[38;5;124mKeypoints shape before flattening:\u001b[39m\u001b[38;5;124m\"\u001b[39m, results[\u001b[38;5;241m0\u001b[39m]\u001b[38;5;241m.\u001b[39mkeypoints\u001b[38;5;241m.\u001b[39mxyn\u001b[38;5;241m.\u001b[39mshape)\n\u001b[1;32m     32\u001b[0m \u001b[38;5;66;03m# Flatten keypoints\u001b[39;00m\n",
      "File \u001b[0;32m~/anaconda3/envs/ModelEnv/lib/python3.10/site-packages/torch/utils/_contextlib.py:115\u001b[0m, in \u001b[0;36mcontext_decorator.<locals>.decorate_context\u001b[0;34m(*args, **kwargs)\u001b[0m\n\u001b[1;32m    112\u001b[0m \u001b[38;5;129m@functools\u001b[39m\u001b[38;5;241m.\u001b[39mwraps(func)\n\u001b[1;32m    113\u001b[0m \u001b[38;5;28;01mdef\u001b[39;00m \u001b[38;5;21mdecorate_context\u001b[39m(\u001b[38;5;241m*\u001b[39margs, \u001b[38;5;241m*\u001b[39m\u001b[38;5;241m*\u001b[39mkwargs):\n\u001b[1;32m    114\u001b[0m     \u001b[38;5;28;01mwith\u001b[39;00m ctx_factory():\n\u001b[0;32m--> 115\u001b[0m         \u001b[38;5;28;01mreturn\u001b[39;00m \u001b[43mfunc\u001b[49m\u001b[43m(\u001b[49m\u001b[38;5;241;43m*\u001b[39;49m\u001b[43margs\u001b[49m\u001b[43m,\u001b[49m\u001b[43m \u001b[49m\u001b[38;5;241;43m*\u001b[39;49m\u001b[38;5;241;43m*\u001b[39;49m\u001b[43mkwargs\u001b[49m\u001b[43m)\u001b[49m\n",
      "File \u001b[0;32m~/anaconda3/envs/ModelEnv/lib/python3.10/site-packages/ultralytics/engine/model.py:246\u001b[0m, in \u001b[0;36mModel.predict\u001b[0;34m(self, source, stream, predictor, **kwargs)\u001b[0m\n\u001b[1;32m    244\u001b[0m \u001b[38;5;28;01mif\u001b[39;00m \u001b[38;5;28mlen\u001b[39m \u001b[38;5;129;01mand\u001b[39;00m \u001b[38;5;28mhasattr\u001b[39m(\u001b[38;5;28mself\u001b[39m\u001b[38;5;241m.\u001b[39mpredictor, \u001b[38;5;124m'\u001b[39m\u001b[38;5;124mset_prompts\u001b[39m\u001b[38;5;124m'\u001b[39m):\n\u001b[1;32m    245\u001b[0m     \u001b[38;5;28mself\u001b[39m\u001b[38;5;241m.\u001b[39mpredictor\u001b[38;5;241m.\u001b[39mset_prompts(prompts)\n\u001b[0;32m--> 246\u001b[0m \u001b[38;5;28;01mreturn\u001b[39;00m \u001b[38;5;28mself\u001b[39m\u001b[38;5;241m.\u001b[39mpredictor\u001b[38;5;241m.\u001b[39mpredict_cli(source\u001b[38;5;241m=\u001b[39msource) \u001b[38;5;28;01mif\u001b[39;00m is_cli \u001b[38;5;28;01melse\u001b[39;00m \u001b[38;5;28;43mself\u001b[39;49m\u001b[38;5;241;43m.\u001b[39;49m\u001b[43mpredictor\u001b[49m\u001b[43m(\u001b[49m\u001b[43msource\u001b[49m\u001b[38;5;241;43m=\u001b[39;49m\u001b[43msource\u001b[49m\u001b[43m,\u001b[49m\u001b[43m \u001b[49m\u001b[43mstream\u001b[49m\u001b[38;5;241;43m=\u001b[39;49m\u001b[43mstream\u001b[49m\u001b[43m)\u001b[49m\n",
      "File \u001b[0;32m~/anaconda3/envs/ModelEnv/lib/python3.10/site-packages/ultralytics/engine/predictor.py:199\u001b[0m, in \u001b[0;36mBasePredictor.__call__\u001b[0;34m(self, source, model, stream, *args, **kwargs)\u001b[0m\n\u001b[1;32m    197\u001b[0m     \u001b[38;5;28;01mreturn\u001b[39;00m \u001b[38;5;28mself\u001b[39m\u001b[38;5;241m.\u001b[39mstream_inference(source, model, \u001b[38;5;241m*\u001b[39margs, \u001b[38;5;241m*\u001b[39m\u001b[38;5;241m*\u001b[39mkwargs)\n\u001b[1;32m    198\u001b[0m \u001b[38;5;28;01melse\u001b[39;00m:\n\u001b[0;32m--> 199\u001b[0m     \u001b[38;5;28;01mreturn\u001b[39;00m \u001b[38;5;28;43mlist\u001b[39;49m\u001b[43m(\u001b[49m\u001b[38;5;28;43mself\u001b[39;49m\u001b[38;5;241;43m.\u001b[39;49m\u001b[43mstream_inference\u001b[49m\u001b[43m(\u001b[49m\u001b[43msource\u001b[49m\u001b[43m,\u001b[49m\u001b[43m \u001b[49m\u001b[43mmodel\u001b[49m\u001b[43m,\u001b[49m\u001b[43m \u001b[49m\u001b[38;5;241;43m*\u001b[39;49m\u001b[43margs\u001b[49m\u001b[43m,\u001b[49m\u001b[43m \u001b[49m\u001b[38;5;241;43m*\u001b[39;49m\u001b[38;5;241;43m*\u001b[39;49m\u001b[43mkwargs\u001b[49m\u001b[43m)\u001b[49m\u001b[43m)\u001b[49m\n",
      "File \u001b[0;32m~/anaconda3/envs/ModelEnv/lib/python3.10/site-packages/torch/utils/_contextlib.py:56\u001b[0m, in \u001b[0;36m_wrap_generator.<locals>.generator_context\u001b[0;34m(*args, **kwargs)\u001b[0m\n\u001b[1;32m     53\u001b[0m         \u001b[38;5;28;01melse\u001b[39;00m:\n\u001b[1;32m     54\u001b[0m             \u001b[38;5;66;03m# Pass the last request to the generator and get its response\u001b[39;00m\n\u001b[1;32m     55\u001b[0m             \u001b[38;5;28;01mwith\u001b[39;00m ctx_factory():\n\u001b[0;32m---> 56\u001b[0m                 response \u001b[38;5;241m=\u001b[39m \u001b[43mgen\u001b[49m\u001b[38;5;241;43m.\u001b[39;49m\u001b[43msend\u001b[49m\u001b[43m(\u001b[49m\u001b[43mrequest\u001b[49m\u001b[43m)\u001b[49m\n\u001b[1;32m     58\u001b[0m \u001b[38;5;66;03m# We let the exceptions raised above by the generator's `.throw` or\u001b[39;00m\n\u001b[1;32m     59\u001b[0m \u001b[38;5;66;03m# `.send` methods bubble up to our caller, except for StopIteration\u001b[39;00m\n\u001b[1;32m     60\u001b[0m \u001b[38;5;28;01mexcept\u001b[39;00m \u001b[38;5;167;01mStopIteration\u001b[39;00m \u001b[38;5;28;01mas\u001b[39;00m e:\n\u001b[1;32m     61\u001b[0m     \u001b[38;5;66;03m# The generator informed us that it is done: take whatever its\u001b[39;00m\n\u001b[1;32m     62\u001b[0m     \u001b[38;5;66;03m# returned value (if any) was and indicate that we're done too\u001b[39;00m\n\u001b[1;32m     63\u001b[0m     \u001b[38;5;66;03m# by returning it (see docs for python's return-statement).\u001b[39;00m\n",
      "File \u001b[0;32m~/anaconda3/envs/ModelEnv/lib/python3.10/site-packages/ultralytics/engine/predictor.py:255\u001b[0m, in \u001b[0;36mBasePredictor.stream_inference\u001b[0;34m(self, source, model, *args, **kwargs)\u001b[0m\n\u001b[1;32m    253\u001b[0m \u001b[38;5;66;03m# Inference\u001b[39;00m\n\u001b[1;32m    254\u001b[0m \u001b[38;5;28;01mwith\u001b[39;00m profilers[\u001b[38;5;241m1\u001b[39m]:\n\u001b[0;32m--> 255\u001b[0m     preds \u001b[38;5;241m=\u001b[39m \u001b[38;5;28;43mself\u001b[39;49m\u001b[38;5;241;43m.\u001b[39;49m\u001b[43minference\u001b[49m\u001b[43m(\u001b[49m\u001b[43mim\u001b[49m\u001b[43m,\u001b[49m\u001b[43m \u001b[49m\u001b[38;5;241;43m*\u001b[39;49m\u001b[43margs\u001b[49m\u001b[43m,\u001b[49m\u001b[43m \u001b[49m\u001b[38;5;241;43m*\u001b[39;49m\u001b[38;5;241;43m*\u001b[39;49m\u001b[43mkwargs\u001b[49m\u001b[43m)\u001b[49m\n\u001b[1;32m    257\u001b[0m \u001b[38;5;66;03m# Postprocess\u001b[39;00m\n\u001b[1;32m    258\u001b[0m \u001b[38;5;28;01mwith\u001b[39;00m profilers[\u001b[38;5;241m2\u001b[39m]:\n",
      "File \u001b[0;32m~/anaconda3/envs/ModelEnv/lib/python3.10/site-packages/ultralytics/engine/predictor.py:138\u001b[0m, in \u001b[0;36mBasePredictor.inference\u001b[0;34m(self, im, *args, **kwargs)\u001b[0m\n\u001b[1;32m    135\u001b[0m \u001b[38;5;28;01mdef\u001b[39;00m \u001b[38;5;21minference\u001b[39m(\u001b[38;5;28mself\u001b[39m, im, \u001b[38;5;241m*\u001b[39margs, \u001b[38;5;241m*\u001b[39m\u001b[38;5;241m*\u001b[39mkwargs):\n\u001b[1;32m    136\u001b[0m     visualize \u001b[38;5;241m=\u001b[39m increment_path(\u001b[38;5;28mself\u001b[39m\u001b[38;5;241m.\u001b[39msave_dir \u001b[38;5;241m/\u001b[39m Path(\u001b[38;5;28mself\u001b[39m\u001b[38;5;241m.\u001b[39mbatch[\u001b[38;5;241m0\u001b[39m][\u001b[38;5;241m0\u001b[39m])\u001b[38;5;241m.\u001b[39mstem,\n\u001b[1;32m    137\u001b[0m                                mkdir\u001b[38;5;241m=\u001b[39m\u001b[38;5;28;01mTrue\u001b[39;00m) \u001b[38;5;28;01mif\u001b[39;00m \u001b[38;5;28mself\u001b[39m\u001b[38;5;241m.\u001b[39margs\u001b[38;5;241m.\u001b[39mvisualize \u001b[38;5;129;01mand\u001b[39;00m (\u001b[38;5;129;01mnot\u001b[39;00m \u001b[38;5;28mself\u001b[39m\u001b[38;5;241m.\u001b[39msource_type\u001b[38;5;241m.\u001b[39mtensor) \u001b[38;5;28;01melse\u001b[39;00m \u001b[38;5;28;01mFalse\u001b[39;00m\n\u001b[0;32m--> 138\u001b[0m     \u001b[38;5;28;01mreturn\u001b[39;00m \u001b[38;5;28;43mself\u001b[39;49m\u001b[38;5;241;43m.\u001b[39;49m\u001b[43mmodel\u001b[49m\u001b[43m(\u001b[49m\u001b[43mim\u001b[49m\u001b[43m,\u001b[49m\u001b[43m \u001b[49m\u001b[43maugment\u001b[49m\u001b[38;5;241;43m=\u001b[39;49m\u001b[38;5;28;43mself\u001b[39;49m\u001b[38;5;241;43m.\u001b[39;49m\u001b[43margs\u001b[49m\u001b[38;5;241;43m.\u001b[39;49m\u001b[43maugment\u001b[49m\u001b[43m,\u001b[49m\u001b[43m \u001b[49m\u001b[43mvisualize\u001b[49m\u001b[38;5;241;43m=\u001b[39;49m\u001b[43mvisualize\u001b[49m\u001b[43m)\u001b[49m\n",
      "File \u001b[0;32m~/anaconda3/envs/ModelEnv/lib/python3.10/site-packages/torch/nn/modules/module.py:1501\u001b[0m, in \u001b[0;36mModule._call_impl\u001b[0;34m(self, *args, **kwargs)\u001b[0m\n\u001b[1;32m   1496\u001b[0m \u001b[38;5;66;03m# If we don't have any hooks, we want to skip the rest of the logic in\u001b[39;00m\n\u001b[1;32m   1497\u001b[0m \u001b[38;5;66;03m# this function, and just call forward.\u001b[39;00m\n\u001b[1;32m   1498\u001b[0m \u001b[38;5;28;01mif\u001b[39;00m \u001b[38;5;129;01mnot\u001b[39;00m (\u001b[38;5;28mself\u001b[39m\u001b[38;5;241m.\u001b[39m_backward_hooks \u001b[38;5;129;01mor\u001b[39;00m \u001b[38;5;28mself\u001b[39m\u001b[38;5;241m.\u001b[39m_backward_pre_hooks \u001b[38;5;129;01mor\u001b[39;00m \u001b[38;5;28mself\u001b[39m\u001b[38;5;241m.\u001b[39m_forward_hooks \u001b[38;5;129;01mor\u001b[39;00m \u001b[38;5;28mself\u001b[39m\u001b[38;5;241m.\u001b[39m_forward_pre_hooks\n\u001b[1;32m   1499\u001b[0m         \u001b[38;5;129;01mor\u001b[39;00m _global_backward_pre_hooks \u001b[38;5;129;01mor\u001b[39;00m _global_backward_hooks\n\u001b[1;32m   1500\u001b[0m         \u001b[38;5;129;01mor\u001b[39;00m _global_forward_hooks \u001b[38;5;129;01mor\u001b[39;00m _global_forward_pre_hooks):\n\u001b[0;32m-> 1501\u001b[0m     \u001b[38;5;28;01mreturn\u001b[39;00m \u001b[43mforward_call\u001b[49m\u001b[43m(\u001b[49m\u001b[38;5;241;43m*\u001b[39;49m\u001b[43margs\u001b[49m\u001b[43m,\u001b[49m\u001b[43m \u001b[49m\u001b[38;5;241;43m*\u001b[39;49m\u001b[38;5;241;43m*\u001b[39;49m\u001b[43mkwargs\u001b[49m\u001b[43m)\u001b[49m\n\u001b[1;32m   1502\u001b[0m \u001b[38;5;66;03m# Do not call functions when jit is used\u001b[39;00m\n\u001b[1;32m   1503\u001b[0m full_backward_hooks, non_full_backward_hooks \u001b[38;5;241m=\u001b[39m [], []\n",
      "File \u001b[0;32m~/anaconda3/envs/ModelEnv/lib/python3.10/site-packages/ultralytics/nn/autobackend.py:334\u001b[0m, in \u001b[0;36mAutoBackend.forward\u001b[0;34m(self, im, augment, visualize)\u001b[0m\n\u001b[1;32m    331\u001b[0m     im \u001b[38;5;241m=\u001b[39m im\u001b[38;5;241m.\u001b[39mpermute(\u001b[38;5;241m0\u001b[39m, \u001b[38;5;241m2\u001b[39m, \u001b[38;5;241m3\u001b[39m, \u001b[38;5;241m1\u001b[39m)  \u001b[38;5;66;03m# torch BCHW to numpy BHWC shape(1,320,192,3)\u001b[39;00m\n\u001b[1;32m    333\u001b[0m \u001b[38;5;28;01mif\u001b[39;00m \u001b[38;5;28mself\u001b[39m\u001b[38;5;241m.\u001b[39mpt \u001b[38;5;129;01mor\u001b[39;00m \u001b[38;5;28mself\u001b[39m\u001b[38;5;241m.\u001b[39mnn_module:  \u001b[38;5;66;03m# PyTorch\u001b[39;00m\n\u001b[0;32m--> 334\u001b[0m     y \u001b[38;5;241m=\u001b[39m \u001b[38;5;28mself\u001b[39m\u001b[38;5;241m.\u001b[39mmodel(im, augment\u001b[38;5;241m=\u001b[39maugment, visualize\u001b[38;5;241m=\u001b[39mvisualize) \u001b[38;5;28;01mif\u001b[39;00m augment \u001b[38;5;129;01mor\u001b[39;00m visualize \u001b[38;5;28;01melse\u001b[39;00m \u001b[38;5;28;43mself\u001b[39;49m\u001b[38;5;241;43m.\u001b[39;49m\u001b[43mmodel\u001b[49m\u001b[43m(\u001b[49m\u001b[43mim\u001b[49m\u001b[43m)\u001b[49m\n\u001b[1;32m    335\u001b[0m \u001b[38;5;28;01melif\u001b[39;00m \u001b[38;5;28mself\u001b[39m\u001b[38;5;241m.\u001b[39mjit:  \u001b[38;5;66;03m# TorchScript\u001b[39;00m\n\u001b[1;32m    336\u001b[0m     y \u001b[38;5;241m=\u001b[39m \u001b[38;5;28mself\u001b[39m\u001b[38;5;241m.\u001b[39mmodel(im)\n",
      "File \u001b[0;32m~/anaconda3/envs/ModelEnv/lib/python3.10/site-packages/torch/nn/modules/module.py:1501\u001b[0m, in \u001b[0;36mModule._call_impl\u001b[0;34m(self, *args, **kwargs)\u001b[0m\n\u001b[1;32m   1496\u001b[0m \u001b[38;5;66;03m# If we don't have any hooks, we want to skip the rest of the logic in\u001b[39;00m\n\u001b[1;32m   1497\u001b[0m \u001b[38;5;66;03m# this function, and just call forward.\u001b[39;00m\n\u001b[1;32m   1498\u001b[0m \u001b[38;5;28;01mif\u001b[39;00m \u001b[38;5;129;01mnot\u001b[39;00m (\u001b[38;5;28mself\u001b[39m\u001b[38;5;241m.\u001b[39m_backward_hooks \u001b[38;5;129;01mor\u001b[39;00m \u001b[38;5;28mself\u001b[39m\u001b[38;5;241m.\u001b[39m_backward_pre_hooks \u001b[38;5;129;01mor\u001b[39;00m \u001b[38;5;28mself\u001b[39m\u001b[38;5;241m.\u001b[39m_forward_hooks \u001b[38;5;129;01mor\u001b[39;00m \u001b[38;5;28mself\u001b[39m\u001b[38;5;241m.\u001b[39m_forward_pre_hooks\n\u001b[1;32m   1499\u001b[0m         \u001b[38;5;129;01mor\u001b[39;00m _global_backward_pre_hooks \u001b[38;5;129;01mor\u001b[39;00m _global_backward_hooks\n\u001b[1;32m   1500\u001b[0m         \u001b[38;5;129;01mor\u001b[39;00m _global_forward_hooks \u001b[38;5;129;01mor\u001b[39;00m _global_forward_pre_hooks):\n\u001b[0;32m-> 1501\u001b[0m     \u001b[38;5;28;01mreturn\u001b[39;00m \u001b[43mforward_call\u001b[49m\u001b[43m(\u001b[49m\u001b[38;5;241;43m*\u001b[39;49m\u001b[43margs\u001b[49m\u001b[43m,\u001b[49m\u001b[43m \u001b[49m\u001b[38;5;241;43m*\u001b[39;49m\u001b[38;5;241;43m*\u001b[39;49m\u001b[43mkwargs\u001b[49m\u001b[43m)\u001b[49m\n\u001b[1;32m   1502\u001b[0m \u001b[38;5;66;03m# Do not call functions when jit is used\u001b[39;00m\n\u001b[1;32m   1503\u001b[0m full_backward_hooks, non_full_backward_hooks \u001b[38;5;241m=\u001b[39m [], []\n",
      "File \u001b[0;32m~/anaconda3/envs/ModelEnv/lib/python3.10/site-packages/ultralytics/nn/tasks.py:45\u001b[0m, in \u001b[0;36mBaseModel.forward\u001b[0;34m(self, x, *args, **kwargs)\u001b[0m\n\u001b[1;32m     43\u001b[0m \u001b[38;5;28;01mif\u001b[39;00m \u001b[38;5;28misinstance\u001b[39m(x, \u001b[38;5;28mdict\u001b[39m):  \u001b[38;5;66;03m# for cases of training and validating while training.\u001b[39;00m\n\u001b[1;32m     44\u001b[0m     \u001b[38;5;28;01mreturn\u001b[39;00m \u001b[38;5;28mself\u001b[39m\u001b[38;5;241m.\u001b[39mloss(x, \u001b[38;5;241m*\u001b[39margs, \u001b[38;5;241m*\u001b[39m\u001b[38;5;241m*\u001b[39mkwargs)\n\u001b[0;32m---> 45\u001b[0m \u001b[38;5;28;01mreturn\u001b[39;00m \u001b[38;5;28;43mself\u001b[39;49m\u001b[38;5;241;43m.\u001b[39;49m\u001b[43mpredict\u001b[49m\u001b[43m(\u001b[49m\u001b[43mx\u001b[49m\u001b[43m,\u001b[49m\u001b[43m \u001b[49m\u001b[38;5;241;43m*\u001b[39;49m\u001b[43margs\u001b[49m\u001b[43m,\u001b[49m\u001b[43m \u001b[49m\u001b[38;5;241;43m*\u001b[39;49m\u001b[38;5;241;43m*\u001b[39;49m\u001b[43mkwargs\u001b[49m\u001b[43m)\u001b[49m\n",
      "File \u001b[0;32m~/anaconda3/envs/ModelEnv/lib/python3.10/site-packages/ultralytics/nn/tasks.py:62\u001b[0m, in \u001b[0;36mBaseModel.predict\u001b[0;34m(self, x, profile, visualize, augment)\u001b[0m\n\u001b[1;32m     60\u001b[0m \u001b[38;5;28;01mif\u001b[39;00m augment:\n\u001b[1;32m     61\u001b[0m     \u001b[38;5;28;01mreturn\u001b[39;00m \u001b[38;5;28mself\u001b[39m\u001b[38;5;241m.\u001b[39m_predict_augment(x)\n\u001b[0;32m---> 62\u001b[0m \u001b[38;5;28;01mreturn\u001b[39;00m \u001b[38;5;28;43mself\u001b[39;49m\u001b[38;5;241;43m.\u001b[39;49m\u001b[43m_predict_once\u001b[49m\u001b[43m(\u001b[49m\u001b[43mx\u001b[49m\u001b[43m,\u001b[49m\u001b[43m \u001b[49m\u001b[43mprofile\u001b[49m\u001b[43m,\u001b[49m\u001b[43m \u001b[49m\u001b[43mvisualize\u001b[49m\u001b[43m)\u001b[49m\n",
      "File \u001b[0;32m~/anaconda3/envs/ModelEnv/lib/python3.10/site-packages/ultralytics/nn/tasks.py:82\u001b[0m, in \u001b[0;36mBaseModel._predict_once\u001b[0;34m(self, x, profile, visualize)\u001b[0m\n\u001b[1;32m     80\u001b[0m \u001b[38;5;28;01mif\u001b[39;00m profile:\n\u001b[1;32m     81\u001b[0m     \u001b[38;5;28mself\u001b[39m\u001b[38;5;241m.\u001b[39m_profile_one_layer(m, x, dt)\n\u001b[0;32m---> 82\u001b[0m x \u001b[38;5;241m=\u001b[39m \u001b[43mm\u001b[49m\u001b[43m(\u001b[49m\u001b[43mx\u001b[49m\u001b[43m)\u001b[49m  \u001b[38;5;66;03m# run\u001b[39;00m\n\u001b[1;32m     83\u001b[0m y\u001b[38;5;241m.\u001b[39mappend(x \u001b[38;5;28;01mif\u001b[39;00m m\u001b[38;5;241m.\u001b[39mi \u001b[38;5;129;01min\u001b[39;00m \u001b[38;5;28mself\u001b[39m\u001b[38;5;241m.\u001b[39msave \u001b[38;5;28;01melse\u001b[39;00m \u001b[38;5;28;01mNone\u001b[39;00m)  \u001b[38;5;66;03m# save output\u001b[39;00m\n\u001b[1;32m     84\u001b[0m \u001b[38;5;28;01mif\u001b[39;00m visualize:\n",
      "File \u001b[0;32m~/anaconda3/envs/ModelEnv/lib/python3.10/site-packages/torch/nn/modules/module.py:1501\u001b[0m, in \u001b[0;36mModule._call_impl\u001b[0;34m(self, *args, **kwargs)\u001b[0m\n\u001b[1;32m   1496\u001b[0m \u001b[38;5;66;03m# If we don't have any hooks, we want to skip the rest of the logic in\u001b[39;00m\n\u001b[1;32m   1497\u001b[0m \u001b[38;5;66;03m# this function, and just call forward.\u001b[39;00m\n\u001b[1;32m   1498\u001b[0m \u001b[38;5;28;01mif\u001b[39;00m \u001b[38;5;129;01mnot\u001b[39;00m (\u001b[38;5;28mself\u001b[39m\u001b[38;5;241m.\u001b[39m_backward_hooks \u001b[38;5;129;01mor\u001b[39;00m \u001b[38;5;28mself\u001b[39m\u001b[38;5;241m.\u001b[39m_backward_pre_hooks \u001b[38;5;129;01mor\u001b[39;00m \u001b[38;5;28mself\u001b[39m\u001b[38;5;241m.\u001b[39m_forward_hooks \u001b[38;5;129;01mor\u001b[39;00m \u001b[38;5;28mself\u001b[39m\u001b[38;5;241m.\u001b[39m_forward_pre_hooks\n\u001b[1;32m   1499\u001b[0m         \u001b[38;5;129;01mor\u001b[39;00m _global_backward_pre_hooks \u001b[38;5;129;01mor\u001b[39;00m _global_backward_hooks\n\u001b[1;32m   1500\u001b[0m         \u001b[38;5;129;01mor\u001b[39;00m _global_forward_hooks \u001b[38;5;129;01mor\u001b[39;00m _global_forward_pre_hooks):\n\u001b[0;32m-> 1501\u001b[0m     \u001b[38;5;28;01mreturn\u001b[39;00m \u001b[43mforward_call\u001b[49m\u001b[43m(\u001b[49m\u001b[38;5;241;43m*\u001b[39;49m\u001b[43margs\u001b[49m\u001b[43m,\u001b[49m\u001b[43m \u001b[49m\u001b[38;5;241;43m*\u001b[39;49m\u001b[38;5;241;43m*\u001b[39;49m\u001b[43mkwargs\u001b[49m\u001b[43m)\u001b[49m\n\u001b[1;32m   1502\u001b[0m \u001b[38;5;66;03m# Do not call functions when jit is used\u001b[39;00m\n\u001b[1;32m   1503\u001b[0m full_backward_hooks, non_full_backward_hooks \u001b[38;5;241m=\u001b[39m [], []\n",
      "File \u001b[0;32m~/anaconda3/envs/ModelEnv/lib/python3.10/site-packages/torch/nn/modules/upsampling.py:156\u001b[0m, in \u001b[0;36mUpsample.forward\u001b[0;34m(self, input)\u001b[0m\n\u001b[1;32m    155\u001b[0m \u001b[38;5;28;01mdef\u001b[39;00m \u001b[38;5;21mforward\u001b[39m(\u001b[38;5;28mself\u001b[39m, \u001b[38;5;28minput\u001b[39m: Tensor) \u001b[38;5;241m-\u001b[39m\u001b[38;5;241m>\u001b[39m Tensor:\n\u001b[0;32m--> 156\u001b[0m     \u001b[38;5;28;01mreturn\u001b[39;00m \u001b[43mF\u001b[49m\u001b[38;5;241;43m.\u001b[39;49m\u001b[43minterpolate\u001b[49m\u001b[43m(\u001b[49m\u001b[38;5;28;43minput\u001b[39;49m\u001b[43m,\u001b[49m\u001b[43m \u001b[49m\u001b[38;5;28;43mself\u001b[39;49m\u001b[38;5;241;43m.\u001b[39;49m\u001b[43msize\u001b[49m\u001b[43m,\u001b[49m\u001b[43m \u001b[49m\u001b[38;5;28;43mself\u001b[39;49m\u001b[38;5;241;43m.\u001b[39;49m\u001b[43mscale_factor\u001b[49m\u001b[43m,\u001b[49m\u001b[43m \u001b[49m\u001b[38;5;28;43mself\u001b[39;49m\u001b[38;5;241;43m.\u001b[39;49m\u001b[43mmode\u001b[49m\u001b[43m,\u001b[49m\u001b[43m \u001b[49m\u001b[38;5;28;43mself\u001b[39;49m\u001b[38;5;241;43m.\u001b[39;49m\u001b[43malign_corners\u001b[49m\u001b[43m,\u001b[49m\n\u001b[1;32m    157\u001b[0m \u001b[43m                         \u001b[49m\u001b[43mrecompute_scale_factor\u001b[49m\u001b[38;5;241;43m=\u001b[39;49m\u001b[38;5;28;43mself\u001b[39;49m\u001b[38;5;241;43m.\u001b[39;49m\u001b[43mrecompute_scale_factor\u001b[49m\u001b[43m)\u001b[49m\n",
      "File \u001b[0;32m~/anaconda3/envs/ModelEnv/lib/python3.10/site-packages/torch/nn/functional.py:3931\u001b[0m, in \u001b[0;36minterpolate\u001b[0;34m(input, size, scale_factor, mode, align_corners, recompute_scale_factor, antialias)\u001b[0m\n\u001b[1;32m   3929\u001b[0m     \u001b[38;5;28;01mreturn\u001b[39;00m torch\u001b[38;5;241m.\u001b[39m_C\u001b[38;5;241m.\u001b[39m_nn\u001b[38;5;241m.\u001b[39mupsample_nearest1d(\u001b[38;5;28minput\u001b[39m, output_size, scale_factors)\n\u001b[1;32m   3930\u001b[0m \u001b[38;5;28;01mif\u001b[39;00m \u001b[38;5;28minput\u001b[39m\u001b[38;5;241m.\u001b[39mdim() \u001b[38;5;241m==\u001b[39m \u001b[38;5;241m4\u001b[39m \u001b[38;5;129;01mand\u001b[39;00m mode \u001b[38;5;241m==\u001b[39m \u001b[38;5;124m\"\u001b[39m\u001b[38;5;124mnearest\u001b[39m\u001b[38;5;124m\"\u001b[39m:\n\u001b[0;32m-> 3931\u001b[0m     \u001b[38;5;28;01mreturn\u001b[39;00m \u001b[43mtorch\u001b[49m\u001b[38;5;241;43m.\u001b[39;49m\u001b[43m_C\u001b[49m\u001b[38;5;241;43m.\u001b[39;49m\u001b[43m_nn\u001b[49m\u001b[38;5;241;43m.\u001b[39;49m\u001b[43mupsample_nearest2d\u001b[49m\u001b[43m(\u001b[49m\u001b[38;5;28;43minput\u001b[39;49m\u001b[43m,\u001b[49m\u001b[43m \u001b[49m\u001b[43moutput_size\u001b[49m\u001b[43m,\u001b[49m\u001b[43m \u001b[49m\u001b[43mscale_factors\u001b[49m\u001b[43m)\u001b[49m\n\u001b[1;32m   3932\u001b[0m \u001b[38;5;28;01mif\u001b[39;00m \u001b[38;5;28minput\u001b[39m\u001b[38;5;241m.\u001b[39mdim() \u001b[38;5;241m==\u001b[39m \u001b[38;5;241m5\u001b[39m \u001b[38;5;129;01mand\u001b[39;00m mode \u001b[38;5;241m==\u001b[39m \u001b[38;5;124m\"\u001b[39m\u001b[38;5;124mnearest\u001b[39m\u001b[38;5;124m\"\u001b[39m:\n\u001b[1;32m   3933\u001b[0m     \u001b[38;5;28;01mreturn\u001b[39;00m torch\u001b[38;5;241m.\u001b[39m_C\u001b[38;5;241m.\u001b[39m_nn\u001b[38;5;241m.\u001b[39mupsample_nearest3d(\u001b[38;5;28minput\u001b[39m, output_size, scale_factors)\n",
      "\u001b[0;31mKeyboardInterrupt\u001b[0m: "
     ]
    }
   ],
   "source": [
    "import os\n",
    "import cv2\n",
    "import numpy as np\n",
    "\n",
    "for action in actions:\n",
    "  # Create path to the current class folder\n",
    "  class_path = os.path.join(data_path, action)\n",
    "  sequence_num = 0\n",
    "\n",
    "  # Loop through all video files in the class folder\n",
    "  for filename in os.listdir(class_path):\n",
    "     # Check if it's a video file\n",
    "    video_path = os.path.join(class_path, filename)\n",
    "    \n",
    "\n",
    "    # Open video capture object\n",
    "    cap = cv2.VideoCapture(video_path)\n",
    "\n",
    "    # Loop through frames in the video\n",
    "    for frame_num in range(sequence_length):\n",
    "      ret, frame = cap.read()\n",
    "\n",
    "\n",
    "      # (Replace with your pose estimation model logic here)\n",
    "      # This part would process the frame using your model and extract keypoints\n",
    "\n",
    "      # Assuming you have keypoints data in a variable called \"keypoints\"\n",
    "      # Flatten keypoints\n",
    "      results = modelpose.predict(frame)\n",
    "      print(\"Keypoints shape before flattening:\", results[0].keypoints.xyn.shape)\n",
    "\n",
    "      # Flatten keypoints\n",
    "      if len(results) > 0 and results[0] is not None and len(results[0]) > 0 and results[0][0].keypoints.xyn is not None:\n",
    "          # Flatten keypoints\n",
    "          keypoints = np.array(results[0][0].keypoints.xyn).flatten()\n",
    "      else:\n",
    "          # If no keypoints detected, create an empty numpy array of shape (34, 0)\n",
    "          keypoints = np.zeros((34,))\n",
    "      # Print shape after flattening\n",
    "      print(\"Keypoints shape after flattening:\", keypoints.shape)\n",
    "\n",
    "\n",
    "      # Construct filepath based on class and sequence number\n",
    "      npy_path = os.path.join(DATA_PATH,action ,str(sequence_num), str(frame_num) + \".npy\")\n",
    "\n",
    "      # Save flattened keypoints\n",
    "      np.save(npy_path, keypoints)\n",
    "      print(f\"saved to {npy_path}\")\n",
    "\n",
    "      # Release video capture object\n",
    "      cap.release()\n",
    "\n",
    "      # Increment sequence counter for next video\n",
    "    sequence_num += 1\n",
    "\n",
    "print(\"Keypoint extraction completed for all videos!\")\n"
   ]
  },
  {
   "cell_type": "code",
   "execution_count": 6,
   "metadata": {},
   "outputs": [],
   "source": [
    "from sklearn.model_selection import train_test_split\n",
    "from tensorflow.keras.utils import to_categorical"
   ]
  },
  {
   "cell_type": "code",
   "execution_count": 7,
   "metadata": {},
   "outputs": [],
   "source": [
    "label_map = {label:num for num, label in enumerate(actions)}"
   ]
  },
  {
   "cell_type": "code",
   "execution_count": 8,
   "metadata": {},
   "outputs": [
    {
     "data": {
      "text/plain": [
       "{'running': 0,\n",
       " 'standing': 1,\n",
       " 'sitting': 2,\n",
       " 'jumping': 3,\n",
       " 'walking': 4,\n",
       " 'squat': 5}"
      ]
     },
     "execution_count": 8,
     "metadata": {},
     "output_type": "execute_result"
    }
   ],
   "source": [
    "label_map"
   ]
  },
  {
   "cell_type": "code",
   "execution_count": 9,
   "metadata": {},
   "outputs": [],
   "source": [
    "sequences, labels = [], []\n",
    "for action in actions:\n",
    "    for sequence in range(no_sequences):\n",
    "        window = []\n",
    "        for frame_num in range(sequence_length):\n",
    "            res = np.load(os.path.join(DATA_PATH, action, str(sequence), \"{}.npy\".format(frame_num)))\n",
    "            window.append(res)\n",
    "        sequences.append(window)\n",
    "        labels.append(label_map[action])"
   ]
  },
  {
   "cell_type": "code",
   "execution_count": 10,
   "metadata": {},
   "outputs": [
    {
     "data": {
      "text/plain": [
       "(240, 30, 34)"
      ]
     },
     "execution_count": 10,
     "metadata": {},
     "output_type": "execute_result"
    }
   ],
   "source": [
    "np.array(sequences).shape"
   ]
  },
  {
   "cell_type": "code",
   "execution_count": 11,
   "metadata": {},
   "outputs": [
    {
     "data": {
      "text/plain": [
       "(240,)"
      ]
     },
     "execution_count": 11,
     "metadata": {},
     "output_type": "execute_result"
    }
   ],
   "source": [
    "np.array(labels).shape"
   ]
  },
  {
   "cell_type": "code",
   "execution_count": 12,
   "metadata": {},
   "outputs": [],
   "source": [
    "X = np.array(sequences)"
   ]
  },
  {
   "cell_type": "code",
   "execution_count": 13,
   "metadata": {},
   "outputs": [
    {
     "data": {
      "text/plain": [
       "(240, 30, 34)"
      ]
     },
     "execution_count": 13,
     "metadata": {},
     "output_type": "execute_result"
    }
   ],
   "source": [
    "X.shape\n"
   ]
  },
  {
   "cell_type": "code",
   "execution_count": 14,
   "metadata": {},
   "outputs": [
    {
     "data": {
      "text/plain": [
       "array([[1, 0, 0, 0, 0, 0],\n",
       "       [1, 0, 0, 0, 0, 0],\n",
       "       [1, 0, 0, 0, 0, 0],\n",
       "       ...,\n",
       "       [0, 0, 0, 0, 0, 1],\n",
       "       [0, 0, 0, 0, 0, 1],\n",
       "       [0, 0, 0, 0, 0, 1]])"
      ]
     },
     "execution_count": 14,
     "metadata": {},
     "output_type": "execute_result"
    }
   ],
   "source": [
    "y = to_categorical(labels).astype(int)\n",
    "y"
   ]
  },
  {
   "cell_type": "code",
   "execution_count": 15,
   "metadata": {},
   "outputs": [],
   "source": [
    "X_train, X_test, y_train, y_test = train_test_split(X, y, test_size=0.2)"
   ]
  },
  {
   "cell_type": "code",
   "execution_count": 16,
   "metadata": {},
   "outputs": [
    {
     "data": {
      "text/plain": [
       "(48, 6)"
      ]
     },
     "execution_count": 16,
     "metadata": {},
     "output_type": "execute_result"
    }
   ],
   "source": [
    "y_test.shape"
   ]
  },
  {
   "cell_type": "code",
   "execution_count": 17,
   "metadata": {},
   "outputs": [
    {
     "data": {
      "text/plain": [
       "(192, 30, 34)"
      ]
     },
     "execution_count": 17,
     "metadata": {},
     "output_type": "execute_result"
    }
   ],
   "source": [
    "X_train.shape"
   ]
  },
  {
   "cell_type": "code",
   "execution_count": 18,
   "metadata": {},
   "outputs": [
    {
     "data": {
      "text/plain": [
       "(48, 30, 34)"
      ]
     },
     "execution_count": 18,
     "metadata": {},
     "output_type": "execute_result"
    }
   ],
   "source": [
    "X_test.shape\n"
   ]
  },
  {
   "cell_type": "code",
   "execution_count": 19,
   "metadata": {},
   "outputs": [],
   "source": [
    "from tensorflow.keras.models import Sequential\n",
    "from tensorflow.keras.layers import LSTM, Dense\n",
    "from tensorflow.keras.callbacks import TensorBoard"
   ]
  },
  {
   "cell_type": "code",
   "execution_count": 20,
   "metadata": {},
   "outputs": [],
   "source": [
    "log_dir = os.path.join('Logs')\n",
    "tb_callback = TensorBoard(log_dir=log_dir)"
   ]
  },
  {
   "cell_type": "code",
   "execution_count": 21,
   "metadata": {},
   "outputs": [],
   "source": [
    "model = Sequential()\n",
    "model.add(LSTM(64, return_sequences=True, activation='relu', input_shape=(30,34)))\n",
    "model.add(LSTM(128, return_sequences=True, activation='relu'))\n",
    "model.add(LSTM(64, return_sequences=False, activation='relu'))\n",
    "model.add(Dense(64, activation='relu'))\n",
    "model.add(Dense(32, activation='relu'))\n",
    "model.add(Dense(actions.shape[0], activation='softmax'))"
   ]
  },
  {
   "cell_type": "code",
   "execution_count": 22,
   "metadata": {},
   "outputs": [],
   "source": [
    "model.compile(optimizer='Adam', loss='categorical_crossentropy', metrics=['categorical_accuracy'])"
   ]
  },
  {
   "cell_type": "code",
   "execution_count": 23,
   "metadata": {},
   "outputs": [
    {
     "name": "stdout",
     "output_type": "stream",
     "text": [
      "Epoch 1/1000\n",
      "6/6 [==============================] - 2s 18ms/step - loss: 1.7948 - categorical_accuracy: 0.1458\n",
      "Epoch 2/1000\n",
      "6/6 [==============================] - 0s 16ms/step - loss: 1.7926 - categorical_accuracy: 0.1406\n",
      "Epoch 3/1000\n",
      "6/6 [==============================] - 0s 17ms/step - loss: 1.7918 - categorical_accuracy: 0.1719\n",
      "Epoch 4/1000\n",
      "6/6 [==============================] - 0s 17ms/step - loss: 1.7924 - categorical_accuracy: 0.1250\n",
      "Epoch 5/1000\n",
      "6/6 [==============================] - 0s 17ms/step - loss: 1.7923 - categorical_accuracy: 0.1510\n",
      "Epoch 6/1000\n",
      "6/6 [==============================] - 0s 16ms/step - loss: 1.7917 - categorical_accuracy: 0.1719\n",
      "Epoch 7/1000\n",
      "6/6 [==============================] - 0s 16ms/step - loss: 1.7919 - categorical_accuracy: 0.1719\n",
      "Epoch 8/1000\n",
      "6/6 [==============================] - 0s 16ms/step - loss: 1.7914 - categorical_accuracy: 0.1719\n",
      "Epoch 9/1000\n",
      "6/6 [==============================] - 0s 18ms/step - loss: 1.7915 - categorical_accuracy: 0.1719\n",
      "Epoch 10/1000\n",
      "6/6 [==============================] - 0s 16ms/step - loss: 1.7914 - categorical_accuracy: 0.1615\n",
      "Epoch 11/1000\n",
      "6/6 [==============================] - 0s 16ms/step - loss: 1.7914 - categorical_accuracy: 0.1719\n",
      "Epoch 12/1000\n",
      "6/6 [==============================] - 0s 16ms/step - loss: 1.7914 - categorical_accuracy: 0.1719\n",
      "Epoch 13/1000\n",
      "6/6 [==============================] - 0s 16ms/step - loss: 1.7914 - categorical_accuracy: 0.1719\n",
      "Epoch 14/1000\n",
      "6/6 [==============================] - 0s 16ms/step - loss: 1.7914 - categorical_accuracy: 0.1510\n",
      "Epoch 15/1000\n",
      "6/6 [==============================] - 0s 16ms/step - loss: 1.7913 - categorical_accuracy: 0.1719\n",
      "Epoch 16/1000\n",
      "6/6 [==============================] - 0s 16ms/step - loss: 1.7913 - categorical_accuracy: 0.1719\n",
      "Epoch 17/1000\n",
      "6/6 [==============================] - 0s 16ms/step - loss: 1.7914 - categorical_accuracy: 0.1719\n",
      "Epoch 18/1000\n",
      "6/6 [==============================] - 0s 17ms/step - loss: 1.7914 - categorical_accuracy: 0.1458\n",
      "Epoch 19/1000\n",
      "6/6 [==============================] - 0s 16ms/step - loss: 1.7914 - categorical_accuracy: 0.1198\n",
      "Epoch 20/1000\n",
      "6/6 [==============================] - 0s 16ms/step - loss: 1.7913 - categorical_accuracy: 0.1719\n",
      "Epoch 21/1000\n",
      "6/6 [==============================] - 0s 19ms/step - loss: 1.7916 - categorical_accuracy: 0.1719\n",
      "Epoch 22/1000\n",
      "6/6 [==============================] - 0s 16ms/step - loss: 1.7913 - categorical_accuracy: 0.1562\n",
      "Epoch 23/1000\n",
      "6/6 [==============================] - 0s 16ms/step - loss: 1.7913 - categorical_accuracy: 0.1250\n",
      "Epoch 24/1000\n",
      "6/6 [==============================] - 0s 16ms/step - loss: 1.7912 - categorical_accuracy: 0.1823\n",
      "Epoch 25/1000\n",
      "6/6 [==============================] - 0s 16ms/step - loss: 1.7911 - categorical_accuracy: 0.1771\n",
      "Epoch 26/1000\n",
      "6/6 [==============================] - 0s 16ms/step - loss: 1.7913 - categorical_accuracy: 0.1719\n",
      "Epoch 27/1000\n",
      "6/6 [==============================] - 0s 16ms/step - loss: 1.7911 - categorical_accuracy: 0.1667\n",
      "Epoch 28/1000\n",
      "6/6 [==============================] - 0s 16ms/step - loss: 1.7908 - categorical_accuracy: 0.1927\n",
      "Epoch 29/1000\n",
      "6/6 [==============================] - 0s 16ms/step - loss: 1.7885 - categorical_accuracy: 0.2031\n",
      "Epoch 30/1000\n",
      "6/6 [==============================] - 0s 18ms/step - loss: 1.8709 - categorical_accuracy: 0.2135\n",
      "Epoch 31/1000\n",
      "6/6 [==============================] - 0s 17ms/step - loss: 1.7818 - categorical_accuracy: 0.1927\n",
      "Epoch 32/1000\n",
      "6/6 [==============================] - 0s 16ms/step - loss: 1.7918 - categorical_accuracy: 0.1667\n",
      "Epoch 33/1000\n",
      "6/6 [==============================] - 0s 16ms/step - loss: 1.7892 - categorical_accuracy: 0.1562\n",
      "Epoch 34/1000\n",
      "6/6 [==============================] - 0s 16ms/step - loss: 1.7888 - categorical_accuracy: 0.1719\n",
      "Epoch 35/1000\n",
      "6/6 [==============================] - 0s 16ms/step - loss: 1.7821 - categorical_accuracy: 0.1979\n",
      "Epoch 36/1000\n",
      "6/6 [==============================] - 0s 17ms/step - loss: 1.7899 - categorical_accuracy: 0.1875\n",
      "Epoch 37/1000\n",
      "6/6 [==============================] - 0s 17ms/step - loss: 1.7920 - categorical_accuracy: 0.1719\n",
      "Epoch 38/1000\n",
      "6/6 [==============================] - 0s 18ms/step - loss: 1.7921 - categorical_accuracy: 0.1719\n",
      "Epoch 39/1000\n",
      "6/6 [==============================] - 0s 17ms/step - loss: 1.7903 - categorical_accuracy: 0.1719\n",
      "Epoch 40/1000\n",
      "6/6 [==============================] - 0s 18ms/step - loss: 1.7881 - categorical_accuracy: 0.2031\n",
      "Epoch 41/1000\n",
      "6/6 [==============================] - 0s 20ms/step - loss: 1.7831 - categorical_accuracy: 0.1719\n",
      "Epoch 42/1000\n",
      "6/6 [==============================] - 0s 18ms/step - loss: 1.7944 - categorical_accuracy: 0.1875\n",
      "Epoch 43/1000\n",
      "6/6 [==============================] - 0s 16ms/step - loss: 1.7918 - categorical_accuracy: 0.1719\n",
      "Epoch 44/1000\n",
      "6/6 [==============================] - 0s 17ms/step - loss: 1.7920 - categorical_accuracy: 0.1719\n",
      "Epoch 45/1000\n",
      "6/6 [==============================] - 0s 17ms/step - loss: 1.7917 - categorical_accuracy: 0.1719\n",
      "Epoch 46/1000\n",
      "6/6 [==============================] - 0s 17ms/step - loss: 1.7916 - categorical_accuracy: 0.1719\n",
      "Epoch 47/1000\n",
      "6/6 [==============================] - 0s 17ms/step - loss: 1.7913 - categorical_accuracy: 0.1719\n",
      "Epoch 48/1000\n",
      "6/6 [==============================] - 0s 17ms/step - loss: 1.7910 - categorical_accuracy: 0.1719\n",
      "Epoch 49/1000\n",
      "6/6 [==============================] - 0s 18ms/step - loss: 1.7913 - categorical_accuracy: 0.1719\n",
      "Epoch 50/1000\n",
      "6/6 [==============================] - 0s 19ms/step - loss: 1.7905 - categorical_accuracy: 0.1719\n",
      "Epoch 51/1000\n",
      "6/6 [==============================] - 0s 17ms/step - loss: 1.7896 - categorical_accuracy: 0.1510\n",
      "Epoch 52/1000\n",
      "6/6 [==============================] - 0s 17ms/step - loss: 1.7858 - categorical_accuracy: 0.1667\n",
      "Epoch 53/1000\n",
      "6/6 [==============================] - 0s 16ms/step - loss: 1.7715 - categorical_accuracy: 0.2083\n",
      "Epoch 54/1000\n",
      "6/6 [==============================] - 0s 18ms/step - loss: 1.7903 - categorical_accuracy: 0.1927\n",
      "Epoch 55/1000\n",
      "6/6 [==============================] - 0s 16ms/step - loss: 1.7909 - categorical_accuracy: 0.1719\n",
      "Epoch 56/1000\n",
      "6/6 [==============================] - 0s 17ms/step - loss: 1.7909 - categorical_accuracy: 0.1719\n",
      "Epoch 57/1000\n",
      "6/6 [==============================] - 0s 16ms/step - loss: 1.7910 - categorical_accuracy: 0.1719\n",
      "Epoch 58/1000\n",
      "6/6 [==============================] - 0s 17ms/step - loss: 1.7907 - categorical_accuracy: 0.1719\n",
      "Epoch 59/1000\n",
      "6/6 [==============================] - 0s 17ms/step - loss: 1.7902 - categorical_accuracy: 0.1875\n",
      "Epoch 60/1000\n",
      "6/6 [==============================] - 0s 17ms/step - loss: 1.7894 - categorical_accuracy: 0.2083\n",
      "Epoch 61/1000\n",
      "6/6 [==============================] - 0s 17ms/step - loss: 1.7889 - categorical_accuracy: 0.1667\n",
      "Epoch 62/1000\n",
      "6/6 [==============================] - 0s 16ms/step - loss: 1.7864 - categorical_accuracy: 0.1615\n",
      "Epoch 63/1000\n",
      "6/6 [==============================] - 0s 16ms/step - loss: 1.7837 - categorical_accuracy: 0.2031\n",
      "Epoch 64/1000\n",
      "6/6 [==============================] - 0s 17ms/step - loss: 1.8797 - categorical_accuracy: 0.1771\n",
      "Epoch 65/1000\n",
      "6/6 [==============================] - 0s 16ms/step - loss: 1.7911 - categorical_accuracy: 0.1719\n",
      "Epoch 66/1000\n",
      "6/6 [==============================] - 0s 16ms/step - loss: 1.7913 - categorical_accuracy: 0.1719\n",
      "Epoch 67/1000\n",
      "6/6 [==============================] - 0s 17ms/step - loss: 1.7914 - categorical_accuracy: 0.1719\n",
      "Epoch 68/1000\n",
      "6/6 [==============================] - 0s 17ms/step - loss: 1.7914 - categorical_accuracy: 0.1719\n",
      "Epoch 69/1000\n",
      "6/6 [==============================] - 0s 24ms/step - loss: 1.7913 - categorical_accuracy: 0.1719\n",
      "Epoch 70/1000\n",
      "6/6 [==============================] - 0s 18ms/step - loss: 1.7913 - categorical_accuracy: 0.1719\n",
      "Epoch 71/1000\n",
      "6/6 [==============================] - 0s 16ms/step - loss: 1.7912 - categorical_accuracy: 0.1719\n",
      "Epoch 72/1000\n",
      "6/6 [==============================] - 0s 16ms/step - loss: 1.7914 - categorical_accuracy: 0.1719\n",
      "Epoch 73/1000\n",
      "6/6 [==============================] - 0s 17ms/step - loss: 1.7912 - categorical_accuracy: 0.1719\n",
      "Epoch 74/1000\n",
      "6/6 [==============================] - 0s 17ms/step - loss: 1.7911 - categorical_accuracy: 0.1719\n",
      "Epoch 75/1000\n",
      "6/6 [==============================] - 0s 16ms/step - loss: 1.7910 - categorical_accuracy: 0.1719\n",
      "Epoch 76/1000\n",
      "6/6 [==============================] - 0s 17ms/step - loss: 1.7909 - categorical_accuracy: 0.1719\n",
      "Epoch 77/1000\n",
      "6/6 [==============================] - 0s 18ms/step - loss: 1.7911 - categorical_accuracy: 0.1719\n",
      "Epoch 78/1000\n",
      "6/6 [==============================] - 0s 17ms/step - loss: 1.7910 - categorical_accuracy: 0.1719\n",
      "Epoch 79/1000\n",
      "6/6 [==============================] - 0s 17ms/step - loss: 1.7909 - categorical_accuracy: 0.1719\n",
      "Epoch 80/1000\n",
      "6/6 [==============================] - 0s 18ms/step - loss: 1.7909 - categorical_accuracy: 0.1719\n",
      "Epoch 81/1000\n",
      "6/6 [==============================] - 0s 17ms/step - loss: 1.7909 - categorical_accuracy: 0.1719\n",
      "Epoch 82/1000\n",
      "6/6 [==============================] - 0s 17ms/step - loss: 1.7907 - categorical_accuracy: 0.1719\n",
      "Epoch 83/1000\n",
      "6/6 [==============================] - 0s 17ms/step - loss: 1.7907 - categorical_accuracy: 0.1719\n",
      "Epoch 84/1000\n",
      "6/6 [==============================] - 0s 17ms/step - loss: 1.7904 - categorical_accuracy: 0.1719\n",
      "Epoch 85/1000\n",
      "6/6 [==============================] - 0s 17ms/step - loss: 1.7907 - categorical_accuracy: 0.1719\n",
      "Epoch 86/1000\n",
      "6/6 [==============================] - 0s 17ms/step - loss: 1.7914 - categorical_accuracy: 0.1719\n",
      "Epoch 87/1000\n",
      "6/6 [==============================] - 0s 18ms/step - loss: 1.7906 - categorical_accuracy: 0.1719\n",
      "Epoch 88/1000\n",
      "6/6 [==============================] - 0s 17ms/step - loss: 1.7904 - categorical_accuracy: 0.1719\n",
      "Epoch 89/1000\n",
      "6/6 [==============================] - 0s 20ms/step - loss: 1.7893 - categorical_accuracy: 0.1823\n",
      "Epoch 90/1000\n",
      "6/6 [==============================] - 0s 18ms/step - loss: 1.8490 - categorical_accuracy: 0.1823\n",
      "Epoch 91/1000\n",
      "6/6 [==============================] - 0s 17ms/step - loss: 1.7919 - categorical_accuracy: 0.1719\n",
      "Epoch 92/1000\n",
      "6/6 [==============================] - 0s 17ms/step - loss: 1.7916 - categorical_accuracy: 0.1562\n",
      "Epoch 93/1000\n",
      "6/6 [==============================] - 0s 17ms/step - loss: 1.7933 - categorical_accuracy: 0.1406\n",
      "Epoch 94/1000\n",
      "6/6 [==============================] - 0s 18ms/step - loss: 1.7913 - categorical_accuracy: 0.1719\n",
      "Epoch 95/1000\n",
      "6/6 [==============================] - 0s 17ms/step - loss: 1.7913 - categorical_accuracy: 0.1719\n",
      "Epoch 96/1000\n",
      "6/6 [==============================] - 0s 17ms/step - loss: 1.7913 - categorical_accuracy: 0.1719\n",
      "Epoch 97/1000\n",
      "6/6 [==============================] - 0s 18ms/step - loss: 1.7913 - categorical_accuracy: 0.1719\n",
      "Epoch 98/1000\n",
      "6/6 [==============================] - 0s 17ms/step - loss: 1.7914 - categorical_accuracy: 0.1719\n",
      "Epoch 99/1000\n",
      "6/6 [==============================] - 0s 19ms/step - loss: 1.7913 - categorical_accuracy: 0.1719\n",
      "Epoch 100/1000\n",
      "6/6 [==============================] - 0s 18ms/step - loss: 1.7912 - categorical_accuracy: 0.1719\n",
      "Epoch 101/1000\n",
      "6/6 [==============================] - 0s 18ms/step - loss: 1.7912 - categorical_accuracy: 0.1719\n",
      "Epoch 102/1000\n",
      "6/6 [==============================] - 0s 19ms/step - loss: 1.7913 - categorical_accuracy: 0.1719\n",
      "Epoch 103/1000\n",
      "6/6 [==============================] - 0s 21ms/step - loss: 1.7914 - categorical_accuracy: 0.1458\n",
      "Epoch 104/1000\n",
      "6/6 [==============================] - 0s 18ms/step - loss: 1.7913 - categorical_accuracy: 0.1719\n",
      "Epoch 105/1000\n",
      "6/6 [==============================] - 0s 17ms/step - loss: 1.7914 - categorical_accuracy: 0.1719\n",
      "Epoch 106/1000\n",
      "6/6 [==============================] - 0s 17ms/step - loss: 1.7913 - categorical_accuracy: 0.1719\n",
      "Epoch 107/1000\n",
      "6/6 [==============================] - 0s 17ms/step - loss: 1.7912 - categorical_accuracy: 0.1719\n",
      "Epoch 108/1000\n",
      "6/6 [==============================] - 0s 20ms/step - loss: 1.7912 - categorical_accuracy: 0.1719\n",
      "Epoch 109/1000\n",
      "6/6 [==============================] - 0s 17ms/step - loss: 1.7912 - categorical_accuracy: 0.1719\n",
      "Epoch 110/1000\n",
      "6/6 [==============================] - 0s 17ms/step - loss: 1.7912 - categorical_accuracy: 0.1823\n",
      "Epoch 111/1000\n",
      "6/6 [==============================] - 0s 17ms/step - loss: 1.7913 - categorical_accuracy: 0.1302\n",
      "Epoch 112/1000\n",
      "6/6 [==============================] - 0s 17ms/step - loss: 1.7913 - categorical_accuracy: 0.1719\n",
      "Epoch 113/1000\n",
      "6/6 [==============================] - 0s 17ms/step - loss: 1.7912 - categorical_accuracy: 0.1562\n",
      "Epoch 114/1000\n",
      "6/6 [==============================] - 0s 17ms/step - loss: 1.7911 - categorical_accuracy: 0.1615\n",
      "Epoch 115/1000\n",
      "6/6 [==============================] - 0s 17ms/step - loss: 1.7911 - categorical_accuracy: 0.1719\n",
      "Epoch 116/1000\n",
      "6/6 [==============================] - 0s 17ms/step - loss: 1.7912 - categorical_accuracy: 0.1719\n",
      "Epoch 117/1000\n",
      "6/6 [==============================] - 0s 17ms/step - loss: 1.7913 - categorical_accuracy: 0.1458\n",
      "Epoch 118/1000\n",
      "6/6 [==============================] - 0s 17ms/step - loss: 1.7912 - categorical_accuracy: 0.1615\n",
      "Epoch 119/1000\n",
      "6/6 [==============================] - 0s 17ms/step - loss: 1.7912 - categorical_accuracy: 0.1719\n",
      "Epoch 120/1000\n",
      "6/6 [==============================] - 0s 17ms/step - loss: 1.7913 - categorical_accuracy: 0.1771\n",
      "Epoch 121/1000\n",
      "6/6 [==============================] - 0s 17ms/step - loss: 1.7912 - categorical_accuracy: 0.1510\n",
      "Epoch 122/1000\n",
      "6/6 [==============================] - 0s 17ms/step - loss: 1.7911 - categorical_accuracy: 0.1771\n",
      "Epoch 123/1000\n",
      "6/6 [==============================] - 0s 17ms/step - loss: 1.7912 - categorical_accuracy: 0.1719\n",
      "Epoch 124/1000\n",
      "6/6 [==============================] - 0s 18ms/step - loss: 1.7912 - categorical_accuracy: 0.1667\n",
      "Epoch 125/1000\n",
      "6/6 [==============================] - 0s 17ms/step - loss: 1.7912 - categorical_accuracy: 0.1667\n",
      "Epoch 126/1000\n",
      "6/6 [==============================] - 0s 17ms/step - loss: 1.7911 - categorical_accuracy: 0.1719\n",
      "Epoch 127/1000\n",
      "6/6 [==============================] - 0s 17ms/step - loss: 1.7912 - categorical_accuracy: 0.1719\n",
      "Epoch 128/1000\n",
      "6/6 [==============================] - 0s 22ms/step - loss: 1.7914 - categorical_accuracy: 0.1615\n",
      "Epoch 129/1000\n",
      "6/6 [==============================] - 0s 17ms/step - loss: 1.7913 - categorical_accuracy: 0.1719\n",
      "Epoch 130/1000\n",
      "6/6 [==============================] - 0s 17ms/step - loss: 1.7912 - categorical_accuracy: 0.1719\n",
      "Epoch 131/1000\n",
      "6/6 [==============================] - 0s 18ms/step - loss: 1.7910 - categorical_accuracy: 0.1719\n",
      "Epoch 132/1000\n",
      "6/6 [==============================] - 0s 17ms/step - loss: 1.7912 - categorical_accuracy: 0.1719\n",
      "Epoch 133/1000\n",
      "6/6 [==============================] - 0s 17ms/step - loss: 1.7910 - categorical_accuracy: 0.1771\n",
      "Epoch 134/1000\n",
      "6/6 [==============================] - 0s 23ms/step - loss: 1.7908 - categorical_accuracy: 0.1771\n",
      "Epoch 135/1000\n",
      "6/6 [==============================] - 0s 18ms/step - loss: 1.7946 - categorical_accuracy: 0.1615\n",
      "Epoch 136/1000\n",
      "6/6 [==============================] - 0s 18ms/step - loss: 1.7913 - categorical_accuracy: 0.1667\n",
      "Epoch 137/1000\n",
      "6/6 [==============================] - 0s 18ms/step - loss: 1.7913 - categorical_accuracy: 0.1354\n",
      "Epoch 138/1000\n",
      "6/6 [==============================] - 0s 17ms/step - loss: 1.7912 - categorical_accuracy: 0.1667\n",
      "Epoch 139/1000\n",
      "6/6 [==============================] - 0s 18ms/step - loss: 1.7915 - categorical_accuracy: 0.1719\n",
      "Epoch 140/1000\n",
      "6/6 [==============================] - 0s 17ms/step - loss: 1.7912 - categorical_accuracy: 0.1562\n",
      "Epoch 141/1000\n",
      "6/6 [==============================] - 0s 17ms/step - loss: 1.7914 - categorical_accuracy: 0.1354\n",
      "Epoch 142/1000\n",
      "6/6 [==============================] - 0s 18ms/step - loss: 1.7911 - categorical_accuracy: 0.1719\n",
      "Epoch 143/1000\n",
      "6/6 [==============================] - 0s 18ms/step - loss: 1.7911 - categorical_accuracy: 0.1719\n",
      "Epoch 144/1000\n",
      "6/6 [==============================] - 0s 17ms/step - loss: 1.7914 - categorical_accuracy: 0.1406\n",
      "Epoch 145/1000\n",
      "6/6 [==============================] - 0s 17ms/step - loss: 1.7914 - categorical_accuracy: 0.1719\n",
      "Epoch 146/1000\n",
      "6/6 [==============================] - 0s 17ms/step - loss: 1.7912 - categorical_accuracy: 0.1354\n",
      "Epoch 147/1000\n",
      "6/6 [==============================] - 0s 21ms/step - loss: 1.7917 - categorical_accuracy: 0.1719\n",
      "Epoch 148/1000\n",
      "6/6 [==============================] - 0s 17ms/step - loss: 1.7910 - categorical_accuracy: 0.1719\n",
      "Epoch 149/1000\n",
      "6/6 [==============================] - 0s 18ms/step - loss: 1.7910 - categorical_accuracy: 0.1719\n",
      "Epoch 150/1000\n",
      "6/6 [==============================] - 0s 18ms/step - loss: 1.7912 - categorical_accuracy: 0.1719\n",
      "Epoch 151/1000\n",
      "6/6 [==============================] - 0s 17ms/step - loss: 1.7913 - categorical_accuracy: 0.1719\n",
      "Epoch 152/1000\n",
      "6/6 [==============================] - 0s 20ms/step - loss: 1.7910 - categorical_accuracy: 0.1823\n",
      "Epoch 153/1000\n",
      "6/6 [==============================] - 0s 17ms/step - loss: 1.7913 - categorical_accuracy: 0.1927\n",
      "Epoch 154/1000\n",
      "6/6 [==============================] - 0s 19ms/step - loss: 1.7910 - categorical_accuracy: 0.1719\n",
      "Epoch 155/1000\n",
      "6/6 [==============================] - 0s 17ms/step - loss: 1.7910 - categorical_accuracy: 0.1719\n",
      "Epoch 156/1000\n",
      "6/6 [==============================] - 0s 18ms/step - loss: 1.7913 - categorical_accuracy: 0.1823\n",
      "Epoch 157/1000\n",
      "6/6 [==============================] - 0s 17ms/step - loss: 1.7910 - categorical_accuracy: 0.1719\n",
      "Epoch 158/1000\n",
      "6/6 [==============================] - 0s 18ms/step - loss: 1.7916 - categorical_accuracy: 0.1458\n",
      "Epoch 159/1000\n",
      "6/6 [==============================] - 0s 17ms/step - loss: 1.7911 - categorical_accuracy: 0.1719\n",
      "Epoch 160/1000\n",
      "6/6 [==============================] - 0s 17ms/step - loss: 1.7911 - categorical_accuracy: 0.1719\n",
      "Epoch 161/1000\n",
      "6/6 [==============================] - 0s 21ms/step - loss: 1.7907 - categorical_accuracy: 0.1823\n",
      "Epoch 162/1000\n",
      "6/6 [==============================] - 0s 18ms/step - loss: 1.7909 - categorical_accuracy: 0.1771\n",
      "Epoch 163/1000\n",
      "6/6 [==============================] - 0s 18ms/step - loss: 1.7906 - categorical_accuracy: 0.1458\n",
      "Epoch 164/1000\n",
      "6/6 [==============================] - 0s 18ms/step - loss: 1.7920 - categorical_accuracy: 0.1667\n",
      "Epoch 165/1000\n",
      "6/6 [==============================] - 0s 18ms/step - loss: 1.7907 - categorical_accuracy: 0.1823\n",
      "Epoch 166/1000\n",
      "6/6 [==============================] - 0s 21ms/step - loss: 1.7903 - categorical_accuracy: 0.1875\n",
      "Epoch 167/1000\n",
      "6/6 [==============================] - 0s 17ms/step - loss: 1.7903 - categorical_accuracy: 0.1562\n",
      "Epoch 168/1000\n",
      "6/6 [==============================] - 0s 17ms/step - loss: 1.7910 - categorical_accuracy: 0.1719\n",
      "Epoch 169/1000\n",
      "6/6 [==============================] - 0s 18ms/step - loss: 1.7892 - categorical_accuracy: 0.1719\n",
      "Epoch 170/1000\n",
      "6/6 [==============================] - 0s 17ms/step - loss: 1.7870 - categorical_accuracy: 0.1667\n",
      "Epoch 171/1000\n",
      "6/6 [==============================] - 0s 18ms/step - loss: 1.7853 - categorical_accuracy: 0.2396\n",
      "Epoch 172/1000\n",
      "6/6 [==============================] - 0s 17ms/step - loss: 1.7932 - categorical_accuracy: 0.1719\n",
      "Epoch 173/1000\n",
      "6/6 [==============================] - 0s 18ms/step - loss: 1.7910 - categorical_accuracy: 0.1562\n",
      "Epoch 174/1000\n",
      "6/6 [==============================] - 0s 18ms/step - loss: 1.7913 - categorical_accuracy: 0.1771\n",
      "Epoch 175/1000\n",
      "6/6 [==============================] - 0s 18ms/step - loss: 1.7917 - categorical_accuracy: 0.1719\n",
      "Epoch 176/1000\n",
      "6/6 [==============================] - 0s 17ms/step - loss: 1.7915 - categorical_accuracy: 0.1719\n",
      "Epoch 177/1000\n",
      "6/6 [==============================] - 0s 18ms/step - loss: 1.7914 - categorical_accuracy: 0.1719\n",
      "Epoch 178/1000\n",
      "6/6 [==============================] - 0s 18ms/step - loss: 1.7915 - categorical_accuracy: 0.1719\n",
      "Epoch 179/1000\n",
      "6/6 [==============================] - 0s 17ms/step - loss: 1.7914 - categorical_accuracy: 0.1719\n",
      "Epoch 180/1000\n",
      "6/6 [==============================] - 0s 18ms/step - loss: 1.7913 - categorical_accuracy: 0.1719\n",
      "Epoch 181/1000\n",
      "6/6 [==============================] - 0s 17ms/step - loss: 1.7913 - categorical_accuracy: 0.1719\n",
      "Epoch 182/1000\n",
      "6/6 [==============================] - 0s 18ms/step - loss: 1.7913 - categorical_accuracy: 0.1719\n",
      "Epoch 183/1000\n",
      "6/6 [==============================] - 0s 17ms/step - loss: 1.7912 - categorical_accuracy: 0.1719\n",
      "Epoch 184/1000\n",
      "6/6 [==============================] - 0s 17ms/step - loss: 1.7912 - categorical_accuracy: 0.1719\n",
      "Epoch 185/1000\n",
      "6/6 [==============================] - 0s 21ms/step - loss: 1.7912 - categorical_accuracy: 0.1719\n",
      "Epoch 186/1000\n",
      "6/6 [==============================] - 0s 20ms/step - loss: 1.7913 - categorical_accuracy: 0.1719\n",
      "Epoch 187/1000\n",
      "6/6 [==============================] - 0s 18ms/step - loss: 1.7912 - categorical_accuracy: 0.1719\n",
      "Epoch 188/1000\n",
      "6/6 [==============================] - 0s 17ms/step - loss: 1.7911 - categorical_accuracy: 0.1771\n",
      "Epoch 189/1000\n",
      "6/6 [==============================] - 0s 17ms/step - loss: 1.7911 - categorical_accuracy: 0.1771\n",
      "Epoch 190/1000\n",
      "6/6 [==============================] - 0s 18ms/step - loss: 1.7911 - categorical_accuracy: 0.1719\n",
      "Epoch 191/1000\n",
      "6/6 [==============================] - 0s 18ms/step - loss: 1.7911 - categorical_accuracy: 0.1771\n",
      "Epoch 192/1000\n",
      "6/6 [==============================] - 0s 17ms/step - loss: 1.7910 - categorical_accuracy: 0.1615\n",
      "Epoch 193/1000\n",
      "6/6 [==============================] - 0s 18ms/step - loss: 1.7911 - categorical_accuracy: 0.1719\n",
      "Epoch 194/1000\n",
      "6/6 [==============================] - 0s 19ms/step - loss: 1.7910 - categorical_accuracy: 0.1615\n",
      "Epoch 195/1000\n",
      "6/6 [==============================] - 0s 17ms/step - loss: 1.7910 - categorical_accuracy: 0.1771\n",
      "Epoch 196/1000\n",
      "6/6 [==============================] - 0s 18ms/step - loss: 1.7909 - categorical_accuracy: 0.1719\n",
      "Epoch 197/1000\n",
      "6/6 [==============================] - 0s 17ms/step - loss: 1.7910 - categorical_accuracy: 0.1771\n",
      "Epoch 198/1000\n",
      "6/6 [==============================] - 0s 18ms/step - loss: 1.7910 - categorical_accuracy: 0.1719\n",
      "Epoch 199/1000\n",
      "6/6 [==============================] - 0s 17ms/step - loss: 1.7911 - categorical_accuracy: 0.1719\n",
      "Epoch 200/1000\n",
      "6/6 [==============================] - 0s 18ms/step - loss: 1.7911 - categorical_accuracy: 0.1719\n",
      "Epoch 201/1000\n",
      "6/6 [==============================] - 0s 18ms/step - loss: 1.7911 - categorical_accuracy: 0.1458\n",
      "Epoch 202/1000\n",
      "6/6 [==============================] - 0s 18ms/step - loss: 1.7913 - categorical_accuracy: 0.1615\n",
      "Epoch 203/1000\n",
      "6/6 [==============================] - 0s 19ms/step - loss: 1.7910 - categorical_accuracy: 0.1771\n",
      "Epoch 204/1000\n",
      "6/6 [==============================] - 0s 20ms/step - loss: 1.7907 - categorical_accuracy: 0.1719\n",
      "Epoch 205/1000\n",
      "6/6 [==============================] - 0s 19ms/step - loss: 1.7908 - categorical_accuracy: 0.1823\n",
      "Epoch 206/1000\n",
      "6/6 [==============================] - 0s 18ms/step - loss: 1.7906 - categorical_accuracy: 0.1927\n",
      "Epoch 207/1000\n",
      "6/6 [==============================] - 0s 18ms/step - loss: 1.7907 - categorical_accuracy: 0.1771\n",
      "Epoch 208/1000\n",
      "6/6 [==============================] - 0s 18ms/step - loss: 1.7912 - categorical_accuracy: 0.1562\n",
      "Epoch 209/1000\n",
      "6/6 [==============================] - 0s 23ms/step - loss: 1.7902 - categorical_accuracy: 0.1927\n",
      "Epoch 210/1000\n",
      "6/6 [==============================] - 0s 19ms/step - loss: 1.7903 - categorical_accuracy: 0.1927\n",
      "Epoch 211/1000\n",
      "6/6 [==============================] - 0s 18ms/step - loss: 1.7904 - categorical_accuracy: 0.1979\n",
      "Epoch 212/1000\n",
      "6/6 [==============================] - 0s 19ms/step - loss: 1.7906 - categorical_accuracy: 0.1562\n",
      "Epoch 213/1000\n",
      "6/6 [==============================] - 0s 18ms/step - loss: 1.7899 - categorical_accuracy: 0.1823\n",
      "Epoch 214/1000\n",
      "6/6 [==============================] - 0s 18ms/step - loss: 1.7899 - categorical_accuracy: 0.1875\n",
      "Epoch 215/1000\n",
      "6/6 [==============================] - 0s 17ms/step - loss: 1.7884 - categorical_accuracy: 0.1823\n",
      "Epoch 216/1000\n",
      "6/6 [==============================] - 0s 20ms/step - loss: 1.7891 - categorical_accuracy: 0.1771\n",
      "Epoch 217/1000\n",
      "6/6 [==============================] - 0s 18ms/step - loss: 1.7897 - categorical_accuracy: 0.1875\n",
      "Epoch 218/1000\n",
      "6/6 [==============================] - 0s 17ms/step - loss: 1.7864 - categorical_accuracy: 0.1875\n",
      "Epoch 219/1000\n",
      "6/6 [==============================] - 0s 18ms/step - loss: 1.7919 - categorical_accuracy: 0.1719\n",
      "Epoch 220/1000\n",
      "6/6 [==============================] - 0s 18ms/step - loss: 1.7925 - categorical_accuracy: 0.1719\n",
      "Epoch 221/1000\n",
      "6/6 [==============================] - 0s 18ms/step - loss: 1.7921 - categorical_accuracy: 0.1719\n",
      "Epoch 222/1000\n",
      "6/6 [==============================] - 0s 19ms/step - loss: 1.7921 - categorical_accuracy: 0.1719\n",
      "Epoch 223/1000\n",
      "6/6 [==============================] - 0s 19ms/step - loss: 1.7918 - categorical_accuracy: 0.1719\n",
      "Epoch 224/1000\n",
      "6/6 [==============================] - 0s 17ms/step - loss: 1.7921 - categorical_accuracy: 0.1719\n",
      "Epoch 225/1000\n",
      "6/6 [==============================] - 0s 18ms/step - loss: 1.7917 - categorical_accuracy: 0.1719\n",
      "Epoch 226/1000\n",
      "6/6 [==============================] - 0s 18ms/step - loss: 1.7915 - categorical_accuracy: 0.1719\n",
      "Epoch 227/1000\n",
      "6/6 [==============================] - 0s 18ms/step - loss: 1.7914 - categorical_accuracy: 0.1719\n",
      "Epoch 228/1000\n",
      "6/6 [==============================] - 0s 18ms/step - loss: 1.7915 - categorical_accuracy: 0.1719\n",
      "Epoch 229/1000\n",
      "6/6 [==============================] - 0s 18ms/step - loss: 1.7913 - categorical_accuracy: 0.1719\n",
      "Epoch 230/1000\n",
      "6/6 [==============================] - 0s 19ms/step - loss: 1.7914 - categorical_accuracy: 0.1719\n",
      "Epoch 231/1000\n",
      "6/6 [==============================] - 0s 20ms/step - loss: 1.7914 - categorical_accuracy: 0.1719\n",
      "Epoch 232/1000\n",
      "6/6 [==============================] - 0s 18ms/step - loss: 1.7914 - categorical_accuracy: 0.1719\n",
      "Epoch 233/1000\n",
      "6/6 [==============================] - 0s 18ms/step - loss: 1.7915 - categorical_accuracy: 0.1719\n",
      "Epoch 234/1000\n",
      "6/6 [==============================] - 0s 18ms/step - loss: 1.7913 - categorical_accuracy: 0.1719\n",
      "Epoch 235/1000\n",
      "6/6 [==============================] - 0s 17ms/step - loss: 1.7914 - categorical_accuracy: 0.1719\n",
      "Epoch 236/1000\n",
      "6/6 [==============================] - 0s 18ms/step - loss: 1.7915 - categorical_accuracy: 0.1719\n",
      "Epoch 237/1000\n",
      "6/6 [==============================] - 0s 18ms/step - loss: 1.7913 - categorical_accuracy: 0.1719\n",
      "Epoch 238/1000\n",
      "6/6 [==============================] - 0s 17ms/step - loss: 1.7913 - categorical_accuracy: 0.1719\n",
      "Epoch 239/1000\n",
      "6/6 [==============================] - 0s 18ms/step - loss: 1.7914 - categorical_accuracy: 0.1354\n",
      "Epoch 240/1000\n",
      "6/6 [==============================] - 0s 19ms/step - loss: 1.7914 - categorical_accuracy: 0.1510\n",
      "Epoch 241/1000\n",
      "6/6 [==============================] - 0s 21ms/step - loss: 1.7914 - categorical_accuracy: 0.1719\n",
      "Epoch 242/1000\n",
      "6/6 [==============================] - 0s 18ms/step - loss: 1.7912 - categorical_accuracy: 0.1667\n",
      "Epoch 243/1000\n",
      "6/6 [==============================] - 0s 18ms/step - loss: 1.7913 - categorical_accuracy: 0.1719\n",
      "Epoch 244/1000\n",
      "6/6 [==============================] - 0s 19ms/step - loss: 1.7913 - categorical_accuracy: 0.1719\n",
      "Epoch 245/1000\n",
      "6/6 [==============================] - 0s 20ms/step - loss: 1.7915 - categorical_accuracy: 0.1719\n",
      "Epoch 246/1000\n",
      "6/6 [==============================] - 0s 20ms/step - loss: 1.7914 - categorical_accuracy: 0.1719\n",
      "Epoch 247/1000\n",
      "6/6 [==============================] - 0s 18ms/step - loss: 1.7913 - categorical_accuracy: 0.1719\n",
      "Epoch 248/1000\n",
      "6/6 [==============================] - 0s 19ms/step - loss: 1.7913 - categorical_accuracy: 0.1719\n",
      "Epoch 249/1000\n",
      "6/6 [==============================] - 0s 19ms/step - loss: 1.7912 - categorical_accuracy: 0.1719\n",
      "Epoch 250/1000\n",
      "6/6 [==============================] - 0s 18ms/step - loss: 1.7914 - categorical_accuracy: 0.1354\n",
      "Epoch 251/1000\n",
      "6/6 [==============================] - 0s 18ms/step - loss: 1.7913 - categorical_accuracy: 0.1458\n",
      "Epoch 252/1000\n",
      "6/6 [==============================] - 0s 24ms/step - loss: 1.7913 - categorical_accuracy: 0.1406\n",
      "Epoch 253/1000\n",
      "6/6 [==============================] - 0s 18ms/step - loss: 1.7913 - categorical_accuracy: 0.1719\n",
      "Epoch 254/1000\n",
      "6/6 [==============================] - 0s 20ms/step - loss: 1.7913 - categorical_accuracy: 0.1406\n",
      "Epoch 255/1000\n",
      "6/6 [==============================] - 0s 20ms/step - loss: 1.7913 - categorical_accuracy: 0.1719\n",
      "Epoch 256/1000\n",
      "6/6 [==============================] - 0s 18ms/step - loss: 1.7913 - categorical_accuracy: 0.1719\n",
      "Epoch 257/1000\n",
      "6/6 [==============================] - 0s 21ms/step - loss: 1.7913 - categorical_accuracy: 0.1198\n",
      "Epoch 258/1000\n",
      "6/6 [==============================] - 0s 23ms/step - loss: 1.7915 - categorical_accuracy: 0.1719\n",
      "Epoch 259/1000\n",
      "6/6 [==============================] - 0s 24ms/step - loss: 1.7914 - categorical_accuracy: 0.1250\n",
      "Epoch 260/1000\n",
      "6/6 [==============================] - 0s 26ms/step - loss: 1.7913 - categorical_accuracy: 0.1719\n",
      "Epoch 261/1000\n",
      "6/6 [==============================] - 0s 23ms/step - loss: 1.7912 - categorical_accuracy: 0.1719\n",
      "Epoch 262/1000\n",
      "6/6 [==============================] - 0s 24ms/step - loss: 1.7913 - categorical_accuracy: 0.1719\n",
      "Epoch 263/1000\n",
      "6/6 [==============================] - 0s 23ms/step - loss: 1.7912 - categorical_accuracy: 0.1719\n",
      "Epoch 264/1000\n",
      "6/6 [==============================] - 0s 25ms/step - loss: 1.7912 - categorical_accuracy: 0.1198\n",
      "Epoch 265/1000\n",
      "6/6 [==============================] - 0s 24ms/step - loss: 1.7912 - categorical_accuracy: 0.1562\n",
      "Epoch 266/1000\n",
      "6/6 [==============================] - 0s 24ms/step - loss: 1.7914 - categorical_accuracy: 0.1250\n",
      "Epoch 267/1000\n",
      "6/6 [==============================] - 0s 23ms/step - loss: 1.7912 - categorical_accuracy: 0.1719\n",
      "Epoch 268/1000\n",
      "6/6 [==============================] - 0s 25ms/step - loss: 1.7913 - categorical_accuracy: 0.1719\n",
      "Epoch 269/1000\n",
      "6/6 [==============================] - 0s 23ms/step - loss: 1.7912 - categorical_accuracy: 0.1719\n",
      "Epoch 270/1000\n",
      "6/6 [==============================] - 0s 24ms/step - loss: 1.7912 - categorical_accuracy: 0.1406\n",
      "Epoch 271/1000\n",
      "6/6 [==============================] - 0s 32ms/step - loss: 1.7915 - categorical_accuracy: 0.1094\n",
      "Epoch 272/1000\n",
      "6/6 [==============================] - 0s 24ms/step - loss: 1.7912 - categorical_accuracy: 0.1719\n",
      "Epoch 273/1000\n",
      "6/6 [==============================] - 0s 26ms/step - loss: 1.7913 - categorical_accuracy: 0.1719\n",
      "Epoch 274/1000\n",
      "6/6 [==============================] - 0s 24ms/step - loss: 1.7912 - categorical_accuracy: 0.1719\n",
      "Epoch 275/1000\n",
      "6/6 [==============================] - 0s 24ms/step - loss: 1.7912 - categorical_accuracy: 0.1719\n",
      "Epoch 276/1000\n",
      "6/6 [==============================] - 0s 23ms/step - loss: 1.7912 - categorical_accuracy: 0.1719\n",
      "Epoch 277/1000\n",
      "6/6 [==============================] - 0s 24ms/step - loss: 1.7912 - categorical_accuracy: 0.1615\n",
      "Epoch 278/1000\n",
      "6/6 [==============================] - 0s 25ms/step - loss: 1.7913 - categorical_accuracy: 0.1094\n",
      "Epoch 279/1000\n",
      "6/6 [==============================] - 0s 24ms/step - loss: 1.7913 - categorical_accuracy: 0.1719\n",
      "Epoch 280/1000\n",
      "6/6 [==============================] - 0s 24ms/step - loss: 1.7913 - categorical_accuracy: 0.1719\n",
      "Epoch 281/1000\n",
      "6/6 [==============================] - 0s 24ms/step - loss: 1.7912 - categorical_accuracy: 0.1719\n",
      "Epoch 282/1000\n",
      "6/6 [==============================] - 0s 24ms/step - loss: 1.7912 - categorical_accuracy: 0.1719\n",
      "Epoch 283/1000\n",
      "6/6 [==============================] - 0s 24ms/step - loss: 1.7912 - categorical_accuracy: 0.1719\n",
      "Epoch 284/1000\n",
      "6/6 [==============================] - 0s 24ms/step - loss: 1.7913 - categorical_accuracy: 0.1510\n",
      "Epoch 285/1000\n",
      "6/6 [==============================] - 0s 28ms/step - loss: 1.7913 - categorical_accuracy: 0.1406\n",
      "Epoch 286/1000\n",
      "6/6 [==============================] - 0s 24ms/step - loss: 1.7913 - categorical_accuracy: 0.1302\n",
      "Epoch 287/1000\n",
      "6/6 [==============================] - 0s 25ms/step - loss: 1.7912 - categorical_accuracy: 0.1562\n",
      "Epoch 288/1000\n",
      "6/6 [==============================] - 0s 24ms/step - loss: 1.7912 - categorical_accuracy: 0.1406\n",
      "Epoch 289/1000\n",
      "6/6 [==============================] - 0s 24ms/step - loss: 1.7913 - categorical_accuracy: 0.1458\n",
      "Epoch 290/1000\n",
      "6/6 [==============================] - 0s 31ms/step - loss: 1.7913 - categorical_accuracy: 0.1719\n",
      "Epoch 291/1000\n",
      "6/6 [==============================] - 0s 25ms/step - loss: 1.7912 - categorical_accuracy: 0.1719\n",
      "Epoch 292/1000\n",
      "6/6 [==============================] - 0s 23ms/step - loss: 1.7912 - categorical_accuracy: 0.1458\n",
      "Epoch 293/1000\n",
      "6/6 [==============================] - 0s 24ms/step - loss: 1.7912 - categorical_accuracy: 0.1406\n",
      "Epoch 294/1000\n",
      "6/6 [==============================] - 0s 24ms/step - loss: 1.7912 - categorical_accuracy: 0.1719\n",
      "Epoch 295/1000\n",
      "6/6 [==============================] - 0s 24ms/step - loss: 1.7914 - categorical_accuracy: 0.1719\n",
      "Epoch 296/1000\n",
      "6/6 [==============================] - 0s 23ms/step - loss: 1.7913 - categorical_accuracy: 0.1458\n",
      "Epoch 297/1000\n",
      "6/6 [==============================] - 0s 24ms/step - loss: 1.7913 - categorical_accuracy: 0.1562\n",
      "Epoch 298/1000\n",
      "6/6 [==============================] - 0s 25ms/step - loss: 1.7913 - categorical_accuracy: 0.1406\n",
      "Epoch 299/1000\n",
      "6/6 [==============================] - 0s 23ms/step - loss: 1.7912 - categorical_accuracy: 0.1562\n",
      "Epoch 300/1000\n",
      "6/6 [==============================] - 0s 26ms/step - loss: 1.7914 - categorical_accuracy: 0.1302\n",
      "Epoch 301/1000\n",
      "6/6 [==============================] - 0s 25ms/step - loss: 1.7912 - categorical_accuracy: 0.1510\n",
      "Epoch 302/1000\n",
      "6/6 [==============================] - 0s 24ms/step - loss: 1.7913 - categorical_accuracy: 0.1719\n",
      "Epoch 303/1000\n",
      "6/6 [==============================] - 0s 24ms/step - loss: 1.7912 - categorical_accuracy: 0.1719\n",
      "Epoch 304/1000\n",
      "6/6 [==============================] - 0s 26ms/step - loss: 1.7913 - categorical_accuracy: 0.1719\n",
      "Epoch 305/1000\n",
      "6/6 [==============================] - 0s 29ms/step - loss: 1.7913 - categorical_accuracy: 0.1354\n",
      "Epoch 306/1000\n",
      "6/6 [==============================] - 0s 26ms/step - loss: 1.7913 - categorical_accuracy: 0.1719\n",
      "Epoch 307/1000\n",
      "6/6 [==============================] - 0s 25ms/step - loss: 1.7912 - categorical_accuracy: 0.1719\n",
      "Epoch 308/1000\n",
      "6/6 [==============================] - 0s 23ms/step - loss: 1.7913 - categorical_accuracy: 0.1719\n",
      "Epoch 309/1000\n",
      "6/6 [==============================] - 0s 23ms/step - loss: 1.7912 - categorical_accuracy: 0.1406\n",
      "Epoch 310/1000\n",
      "6/6 [==============================] - 0s 23ms/step - loss: 1.7912 - categorical_accuracy: 0.1719\n",
      "Epoch 311/1000\n",
      "6/6 [==============================] - 0s 23ms/step - loss: 1.7913 - categorical_accuracy: 0.1406\n",
      "Epoch 312/1000\n",
      "6/6 [==============================] - 0s 25ms/step - loss: 1.7912 - categorical_accuracy: 0.1562\n",
      "Epoch 313/1000\n",
      "6/6 [==============================] - 0s 24ms/step - loss: 1.7912 - categorical_accuracy: 0.1719\n",
      "Epoch 314/1000\n",
      "6/6 [==============================] - 0s 28ms/step - loss: 1.7913 - categorical_accuracy: 0.1719\n",
      "Epoch 315/1000\n",
      "6/6 [==============================] - 0s 24ms/step - loss: 1.7912 - categorical_accuracy: 0.1719\n",
      "Epoch 316/1000\n",
      "6/6 [==============================] - 0s 25ms/step - loss: 1.7912 - categorical_accuracy: 0.1719\n",
      "Epoch 317/1000\n",
      "6/6 [==============================] - 0s 23ms/step - loss: 1.7914 - categorical_accuracy: 0.1510\n",
      "Epoch 318/1000\n",
      "6/6 [==============================] - 0s 23ms/step - loss: 1.7912 - categorical_accuracy: 0.1667\n",
      "Epoch 319/1000\n",
      "6/6 [==============================] - 0s 24ms/step - loss: 1.7912 - categorical_accuracy: 0.1667\n",
      "Epoch 320/1000\n",
      "6/6 [==============================] - 0s 29ms/step - loss: 1.7912 - categorical_accuracy: 0.1719\n",
      "Epoch 321/1000\n",
      "6/6 [==============================] - 0s 24ms/step - loss: 1.7913 - categorical_accuracy: 0.1406\n",
      "Epoch 322/1000\n",
      "6/6 [==============================] - 0s 24ms/step - loss: 1.7912 - categorical_accuracy: 0.1719\n",
      "Epoch 323/1000\n",
      "6/6 [==============================] - 0s 30ms/step - loss: 1.7912 - categorical_accuracy: 0.1719\n",
      "Epoch 324/1000\n",
      "6/6 [==============================] - 0s 24ms/step - loss: 1.7913 - categorical_accuracy: 0.1406\n",
      "Epoch 325/1000\n",
      "6/6 [==============================] - 0s 26ms/step - loss: 1.7915 - categorical_accuracy: 0.1719\n",
      "Epoch 326/1000\n",
      "6/6 [==============================] - 0s 24ms/step - loss: 1.7913 - categorical_accuracy: 0.1719\n",
      "Epoch 327/1000\n",
      "6/6 [==============================] - 0s 26ms/step - loss: 1.7912 - categorical_accuracy: 0.1719\n",
      "Epoch 328/1000\n",
      "6/6 [==============================] - 0s 27ms/step - loss: 1.7912 - categorical_accuracy: 0.1719\n",
      "Epoch 329/1000\n",
      "6/6 [==============================] - 0s 25ms/step - loss: 1.7913 - categorical_accuracy: 0.1719\n",
      "Epoch 330/1000\n",
      "6/6 [==============================] - 0s 24ms/step - loss: 1.7913 - categorical_accuracy: 0.1510\n",
      "Epoch 331/1000\n",
      "6/6 [==============================] - 0s 25ms/step - loss: 1.7913 - categorical_accuracy: 0.1719\n",
      "Epoch 332/1000\n",
      "6/6 [==============================] - 0s 24ms/step - loss: 1.7912 - categorical_accuracy: 0.1719\n",
      "Epoch 333/1000\n",
      "6/6 [==============================] - 0s 25ms/step - loss: 1.7914 - categorical_accuracy: 0.1719\n",
      "Epoch 334/1000\n",
      "6/6 [==============================] - 0s 26ms/step - loss: 1.7912 - categorical_accuracy: 0.1719\n",
      "Epoch 335/1000\n",
      "6/6 [==============================] - 0s 25ms/step - loss: 1.7912 - categorical_accuracy: 0.1719\n",
      "Epoch 336/1000\n",
      "6/6 [==============================] - 0s 27ms/step - loss: 1.7912 - categorical_accuracy: 0.1562\n",
      "Epoch 337/1000\n",
      "6/6 [==============================] - 0s 24ms/step - loss: 1.7913 - categorical_accuracy: 0.1198\n",
      "Epoch 338/1000\n",
      "6/6 [==============================] - 0s 24ms/step - loss: 1.7912 - categorical_accuracy: 0.1719\n",
      "Epoch 339/1000\n",
      "6/6 [==============================] - 0s 24ms/step - loss: 1.7911 - categorical_accuracy: 0.1615\n",
      "Epoch 340/1000\n",
      "6/6 [==============================] - 0s 24ms/step - loss: 1.7912 - categorical_accuracy: 0.1510\n",
      "Epoch 341/1000\n",
      "6/6 [==============================] - 0s 26ms/step - loss: 1.7912 - categorical_accuracy: 0.1719\n",
      "Epoch 342/1000\n",
      "6/6 [==============================] - 0s 23ms/step - loss: 1.7912 - categorical_accuracy: 0.1719\n",
      "Epoch 343/1000\n",
      "6/6 [==============================] - 0s 23ms/step - loss: 1.7912 - categorical_accuracy: 0.1719\n",
      "Epoch 344/1000\n",
      "6/6 [==============================] - 0s 24ms/step - loss: 1.7912 - categorical_accuracy: 0.1719\n",
      "Epoch 345/1000\n",
      "6/6 [==============================] - 0s 26ms/step - loss: 1.7912 - categorical_accuracy: 0.1719\n",
      "Epoch 346/1000\n",
      "6/6 [==============================] - 0s 24ms/step - loss: 1.7911 - categorical_accuracy: 0.1719\n",
      "Epoch 347/1000\n",
      "6/6 [==============================] - 0s 24ms/step - loss: 1.7912 - categorical_accuracy: 0.1615\n",
      "Epoch 348/1000\n",
      "6/6 [==============================] - 0s 24ms/step - loss: 1.7912 - categorical_accuracy: 0.1615\n",
      "Epoch 349/1000\n",
      "6/6 [==============================] - 0s 28ms/step - loss: 1.7912 - categorical_accuracy: 0.1354\n",
      "Epoch 350/1000\n",
      "6/6 [==============================] - 0s 24ms/step - loss: 1.7913 - categorical_accuracy: 0.1719\n",
      "Epoch 351/1000\n",
      "6/6 [==============================] - 0s 24ms/step - loss: 1.7912 - categorical_accuracy: 0.1719\n",
      "Epoch 352/1000\n",
      "6/6 [==============================] - 0s 26ms/step - loss: 1.7912 - categorical_accuracy: 0.1719\n",
      "Epoch 353/1000\n",
      "6/6 [==============================] - 0s 26ms/step - loss: 1.7912 - categorical_accuracy: 0.1406\n",
      "Epoch 354/1000\n",
      "6/6 [==============================] - 0s 26ms/step - loss: 1.7912 - categorical_accuracy: 0.1719\n",
      "Epoch 355/1000\n",
      "6/6 [==============================] - 0s 33ms/step - loss: 1.7913 - categorical_accuracy: 0.1354\n",
      "Epoch 356/1000\n",
      "6/6 [==============================] - 0s 24ms/step - loss: 1.7912 - categorical_accuracy: 0.1719\n",
      "Epoch 357/1000\n",
      "6/6 [==============================] - 0s 24ms/step - loss: 1.7912 - categorical_accuracy: 0.1562\n",
      "Epoch 358/1000\n",
      "6/6 [==============================] - 0s 27ms/step - loss: 1.7912 - categorical_accuracy: 0.1719\n",
      "Epoch 359/1000\n",
      "6/6 [==============================] - 0s 24ms/step - loss: 1.7912 - categorical_accuracy: 0.1719\n",
      "Epoch 360/1000\n",
      "6/6 [==============================] - 0s 24ms/step - loss: 1.7912 - categorical_accuracy: 0.1719\n",
      "Epoch 361/1000\n",
      "6/6 [==============================] - 0s 24ms/step - loss: 1.7912 - categorical_accuracy: 0.1719\n",
      "Epoch 362/1000\n",
      "6/6 [==============================] - 0s 23ms/step - loss: 1.7912 - categorical_accuracy: 0.1406\n",
      "Epoch 363/1000\n",
      "6/6 [==============================] - 0s 23ms/step - loss: 1.7912 - categorical_accuracy: 0.1406\n",
      "Epoch 364/1000\n",
      "6/6 [==============================] - 0s 23ms/step - loss: 1.7912 - categorical_accuracy: 0.1719\n",
      "Epoch 365/1000\n",
      "6/6 [==============================] - 0s 24ms/step - loss: 1.7912 - categorical_accuracy: 0.1510\n",
      "Epoch 366/1000\n",
      "6/6 [==============================] - 0s 36ms/step - loss: 1.7913 - categorical_accuracy: 0.1719\n",
      "Epoch 367/1000\n",
      "6/6 [==============================] - 0s 23ms/step - loss: 1.7912 - categorical_accuracy: 0.1719\n",
      "Epoch 368/1000\n",
      "6/6 [==============================] - 0s 24ms/step - loss: 1.7912 - categorical_accuracy: 0.1719\n",
      "Epoch 369/1000\n",
      "6/6 [==============================] - 0s 24ms/step - loss: 1.7912 - categorical_accuracy: 0.1719\n",
      "Epoch 370/1000\n",
      "6/6 [==============================] - 0s 26ms/step - loss: 1.7914 - categorical_accuracy: 0.1458\n",
      "Epoch 371/1000\n",
      "6/6 [==============================] - 0s 24ms/step - loss: 1.7913 - categorical_accuracy: 0.1719\n",
      "Epoch 372/1000\n",
      "6/6 [==============================] - 0s 26ms/step - loss: 1.7912 - categorical_accuracy: 0.1719\n",
      "Epoch 373/1000\n",
      "6/6 [==============================] - 0s 23ms/step - loss: 1.7913 - categorical_accuracy: 0.1615\n",
      "Epoch 374/1000\n",
      "6/6 [==============================] - 0s 23ms/step - loss: 1.7912 - categorical_accuracy: 0.1719\n",
      "Epoch 375/1000\n",
      "6/6 [==============================] - 0s 23ms/step - loss: 1.7912 - categorical_accuracy: 0.1354\n",
      "Epoch 376/1000\n",
      "6/6 [==============================] - 0s 23ms/step - loss: 1.7912 - categorical_accuracy: 0.1406\n",
      "Epoch 377/1000\n",
      "6/6 [==============================] - 0s 23ms/step - loss: 1.7912 - categorical_accuracy: 0.1510\n",
      "Epoch 378/1000\n",
      "6/6 [==============================] - 0s 23ms/step - loss: 1.7912 - categorical_accuracy: 0.1927\n",
      "Epoch 379/1000\n",
      "6/6 [==============================] - 0s 25ms/step - loss: 1.7912 - categorical_accuracy: 0.1615\n",
      "Epoch 380/1000\n",
      "6/6 [==============================] - 0s 23ms/step - loss: 1.7912 - categorical_accuracy: 0.1510\n",
      "Epoch 381/1000\n",
      "6/6 [==============================] - 0s 23ms/step - loss: 1.7912 - categorical_accuracy: 0.1667\n",
      "Epoch 382/1000\n",
      "6/6 [==============================] - 0s 24ms/step - loss: 1.7912 - categorical_accuracy: 0.1719\n",
      "Epoch 383/1000\n",
      "6/6 [==============================] - 0s 27ms/step - loss: 1.7912 - categorical_accuracy: 0.1719\n",
      "Epoch 384/1000\n",
      "6/6 [==============================] - 0s 24ms/step - loss: 1.7912 - categorical_accuracy: 0.1510\n",
      "Epoch 385/1000\n",
      "6/6 [==============================] - 0s 31ms/step - loss: 1.7912 - categorical_accuracy: 0.1719\n",
      "Epoch 386/1000\n",
      "6/6 [==============================] - 0s 24ms/step - loss: 1.7912 - categorical_accuracy: 0.1719\n",
      "Epoch 387/1000\n",
      "6/6 [==============================] - 0s 24ms/step - loss: 1.7912 - categorical_accuracy: 0.1719\n",
      "Epoch 388/1000\n",
      "6/6 [==============================] - 0s 25ms/step - loss: 1.7911 - categorical_accuracy: 0.1615\n",
      "Epoch 389/1000\n",
      "6/6 [==============================] - 0s 25ms/step - loss: 1.7912 - categorical_accuracy: 0.1719\n",
      "Epoch 390/1000\n",
      "6/6 [==============================] - 0s 25ms/step - loss: 1.7912 - categorical_accuracy: 0.1719\n",
      "Epoch 391/1000\n",
      "6/6 [==============================] - 0s 25ms/step - loss: 1.7912 - categorical_accuracy: 0.1719\n",
      "Epoch 392/1000\n",
      "6/6 [==============================] - 0s 32ms/step - loss: 1.7912 - categorical_accuracy: 0.1719\n",
      "Epoch 393/1000\n",
      "6/6 [==============================] - 0s 37ms/step - loss: 1.7913 - categorical_accuracy: 0.1719\n",
      "Epoch 394/1000\n",
      "6/6 [==============================] - 0s 25ms/step - loss: 1.7912 - categorical_accuracy: 0.1719\n",
      "Epoch 395/1000\n",
      "6/6 [==============================] - 0s 34ms/step - loss: 1.7912 - categorical_accuracy: 0.1667\n",
      "Epoch 396/1000\n",
      "6/6 [==============================] - 0s 25ms/step - loss: 1.7912 - categorical_accuracy: 0.1719\n",
      "Epoch 397/1000\n",
      "6/6 [==============================] - 0s 27ms/step - loss: 1.7911 - categorical_accuracy: 0.1719\n",
      "Epoch 398/1000\n",
      "6/6 [==============================] - 0s 27ms/step - loss: 1.7912 - categorical_accuracy: 0.1615\n",
      "Epoch 399/1000\n",
      "6/6 [==============================] - 0s 25ms/step - loss: 1.7912 - categorical_accuracy: 0.1771\n",
      "Epoch 400/1000\n",
      "6/6 [==============================] - 0s 25ms/step - loss: 1.7912 - categorical_accuracy: 0.1458\n",
      "Epoch 401/1000\n",
      "6/6 [==============================] - 0s 24ms/step - loss: 1.7912 - categorical_accuracy: 0.1719\n",
      "Epoch 402/1000\n",
      "6/6 [==============================] - 0s 24ms/step - loss: 1.7911 - categorical_accuracy: 0.1719\n",
      "Epoch 403/1000\n",
      "6/6 [==============================] - 0s 24ms/step - loss: 1.7912 - categorical_accuracy: 0.1719\n",
      "Epoch 404/1000\n",
      "6/6 [==============================] - 0s 24ms/step - loss: 1.7911 - categorical_accuracy: 0.1719\n",
      "Epoch 405/1000\n",
      "6/6 [==============================] - 0s 26ms/step - loss: 1.7912 - categorical_accuracy: 0.1667\n",
      "Epoch 406/1000\n",
      "6/6 [==============================] - 0s 23ms/step - loss: 1.7913 - categorical_accuracy: 0.1719\n",
      "Epoch 407/1000\n",
      "6/6 [==============================] - 0s 24ms/step - loss: 1.7912 - categorical_accuracy: 0.1406\n",
      "Epoch 408/1000\n",
      "6/6 [==============================] - 0s 24ms/step - loss: 1.7912 - categorical_accuracy: 0.1198\n",
      "Epoch 409/1000\n",
      "6/6 [==============================] - 0s 28ms/step - loss: 1.7913 - categorical_accuracy: 0.1719\n",
      "Epoch 410/1000\n",
      "6/6 [==============================] - 0s 23ms/step - loss: 1.7912 - categorical_accuracy: 0.1198\n",
      "Epoch 411/1000\n",
      "6/6 [==============================] - 0s 28ms/step - loss: 1.7912 - categorical_accuracy: 0.1458\n",
      "Epoch 412/1000\n",
      "6/6 [==============================] - 0s 23ms/step - loss: 1.7912 - categorical_accuracy: 0.1719\n",
      "Epoch 413/1000\n",
      "6/6 [==============================] - 0s 23ms/step - loss: 1.7913 - categorical_accuracy: 0.1719\n",
      "Epoch 414/1000\n",
      "6/6 [==============================] - 0s 23ms/step - loss: 1.7913 - categorical_accuracy: 0.1354\n",
      "Epoch 415/1000\n",
      "6/6 [==============================] - 0s 23ms/step - loss: 1.7911 - categorical_accuracy: 0.1771\n",
      "Epoch 416/1000\n",
      "6/6 [==============================] - 0s 23ms/step - loss: 1.7912 - categorical_accuracy: 0.1719\n",
      "Epoch 417/1000\n",
      "6/6 [==============================] - 0s 23ms/step - loss: 1.7912 - categorical_accuracy: 0.1719\n",
      "Epoch 418/1000\n",
      "6/6 [==============================] - 0s 23ms/step - loss: 1.7912 - categorical_accuracy: 0.1615\n",
      "Epoch 419/1000\n",
      "6/6 [==============================] - 0s 26ms/step - loss: 1.7911 - categorical_accuracy: 0.1719\n",
      "Epoch 420/1000\n",
      "6/6 [==============================] - 0s 23ms/step - loss: 1.7912 - categorical_accuracy: 0.1354\n",
      "Epoch 421/1000\n",
      "6/6 [==============================] - 0s 23ms/step - loss: 1.7911 - categorical_accuracy: 0.1458\n",
      "Epoch 422/1000\n",
      "6/6 [==============================] - 0s 24ms/step - loss: 1.7912 - categorical_accuracy: 0.1615\n",
      "Epoch 423/1000\n",
      "6/6 [==============================] - 0s 25ms/step - loss: 1.7913 - categorical_accuracy: 0.1354\n",
      "Epoch 424/1000\n",
      "6/6 [==============================] - 0s 23ms/step - loss: 1.7911 - categorical_accuracy: 0.1719\n",
      "Epoch 425/1000\n",
      "6/6 [==============================] - 0s 29ms/step - loss: 1.7911 - categorical_accuracy: 0.1615\n",
      "Epoch 426/1000\n",
      "6/6 [==============================] - 0s 26ms/step - loss: 1.7911 - categorical_accuracy: 0.1615\n",
      "Epoch 427/1000\n",
      "6/6 [==============================] - 0s 24ms/step - loss: 1.7911 - categorical_accuracy: 0.1771\n",
      "Epoch 428/1000\n",
      "6/6 [==============================] - 0s 24ms/step - loss: 1.7911 - categorical_accuracy: 0.1771\n",
      "Epoch 429/1000\n",
      "6/6 [==============================] - 0s 24ms/step - loss: 1.7912 - categorical_accuracy: 0.1719\n",
      "Epoch 430/1000\n",
      "6/6 [==============================] - 0s 24ms/step - loss: 1.7912 - categorical_accuracy: 0.1719\n",
      "Epoch 431/1000\n",
      "6/6 [==============================] - 0s 23ms/step - loss: 1.7911 - categorical_accuracy: 0.1719\n",
      "Epoch 432/1000\n",
      "6/6 [==============================] - 0s 24ms/step - loss: 1.7912 - categorical_accuracy: 0.1510\n",
      "Epoch 433/1000\n",
      "6/6 [==============================] - 0s 26ms/step - loss: 1.7912 - categorical_accuracy: 0.1458\n",
      "Epoch 434/1000\n",
      "6/6 [==============================] - 0s 24ms/step - loss: 1.7911 - categorical_accuracy: 0.1667\n",
      "Epoch 435/1000\n",
      "6/6 [==============================] - 0s 24ms/step - loss: 1.7911 - categorical_accuracy: 0.1667\n",
      "Epoch 436/1000\n",
      "6/6 [==============================] - 0s 24ms/step - loss: 1.7911 - categorical_accuracy: 0.1771\n",
      "Epoch 437/1000\n",
      "6/6 [==============================] - 0s 30ms/step - loss: 1.7911 - categorical_accuracy: 0.1406\n",
      "Epoch 438/1000\n",
      "6/6 [==============================] - 0s 34ms/step - loss: 1.7914 - categorical_accuracy: 0.1562\n",
      "Epoch 439/1000\n",
      "6/6 [==============================] - 0s 25ms/step - loss: 1.7909 - categorical_accuracy: 0.1719\n",
      "Epoch 440/1000\n",
      "6/6 [==============================] - 0s 26ms/step - loss: 1.7910 - categorical_accuracy: 0.1510\n",
      "Epoch 441/1000\n",
      "6/6 [==============================] - 0s 26ms/step - loss: 1.7909 - categorical_accuracy: 0.1771\n",
      "Epoch 442/1000\n",
      "6/6 [==============================] - 0s 27ms/step - loss: 1.7907 - categorical_accuracy: 0.1875\n",
      "Epoch 443/1000\n",
      "6/6 [==============================] - 0s 27ms/step - loss: 1.7882 - categorical_accuracy: 0.1771\n",
      "Epoch 444/1000\n",
      "6/6 [==============================] - 0s 28ms/step - loss: 1.7910 - categorical_accuracy: 0.1771\n",
      "Epoch 445/1000\n",
      "6/6 [==============================] - 0s 29ms/step - loss: 1.7912 - categorical_accuracy: 0.1719\n",
      "Epoch 446/1000\n",
      "6/6 [==============================] - 0s 24ms/step - loss: 1.7913 - categorical_accuracy: 0.1719\n",
      "Epoch 447/1000\n",
      "6/6 [==============================] - 0s 26ms/step - loss: 1.7913 - categorical_accuracy: 0.1719\n",
      "Epoch 448/1000\n",
      "6/6 [==============================] - 0s 23ms/step - loss: 1.7912 - categorical_accuracy: 0.1667\n",
      "Epoch 449/1000\n",
      "6/6 [==============================] - 0s 24ms/step - loss: 1.7913 - categorical_accuracy: 0.1458\n",
      "Epoch 450/1000\n",
      "6/6 [==============================] - 0s 34ms/step - loss: 1.7917 - categorical_accuracy: 0.1562\n",
      "Epoch 451/1000\n",
      "6/6 [==============================] - 0s 25ms/step - loss: 1.7912 - categorical_accuracy: 0.1719\n",
      "Epoch 452/1000\n",
      "6/6 [==============================] - 0s 27ms/step - loss: 1.7913 - categorical_accuracy: 0.1719\n",
      "Epoch 453/1000\n",
      "6/6 [==============================] - 0s 28ms/step - loss: 1.7912 - categorical_accuracy: 0.1719\n",
      "Epoch 454/1000\n",
      "6/6 [==============================] - 0s 27ms/step - loss: 1.7913 - categorical_accuracy: 0.1719\n",
      "Epoch 455/1000\n",
      "6/6 [==============================] - 0s 26ms/step - loss: 1.7912 - categorical_accuracy: 0.1719\n",
      "Epoch 456/1000\n",
      "6/6 [==============================] - 0s 25ms/step - loss: 1.7913 - categorical_accuracy: 0.1250\n",
      "Epoch 457/1000\n",
      "6/6 [==============================] - 0s 25ms/step - loss: 1.7912 - categorical_accuracy: 0.1615\n",
      "Epoch 458/1000\n",
      "6/6 [==============================] - 0s 25ms/step - loss: 1.7912 - categorical_accuracy: 0.1719\n",
      "Epoch 459/1000\n",
      "6/6 [==============================] - 0s 24ms/step - loss: 1.7913 - categorical_accuracy: 0.1719\n",
      "Epoch 460/1000\n",
      "6/6 [==============================] - 0s 25ms/step - loss: 1.7913 - categorical_accuracy: 0.1406\n",
      "Epoch 461/1000\n",
      "6/6 [==============================] - 0s 24ms/step - loss: 1.7914 - categorical_accuracy: 0.1302\n",
      "Epoch 462/1000\n",
      "6/6 [==============================] - 0s 25ms/step - loss: 1.7914 - categorical_accuracy: 0.1667\n",
      "Epoch 463/1000\n",
      "6/6 [==============================] - 0s 33ms/step - loss: 1.7912 - categorical_accuracy: 0.1719\n",
      "Epoch 464/1000\n",
      "6/6 [==============================] - 0s 25ms/step - loss: 1.7914 - categorical_accuracy: 0.1719\n",
      "Epoch 465/1000\n",
      "6/6 [==============================] - 0s 24ms/step - loss: 1.7913 - categorical_accuracy: 0.1719\n",
      "Epoch 466/1000\n",
      "6/6 [==============================] - 0s 32ms/step - loss: 1.7912 - categorical_accuracy: 0.1719\n",
      "Epoch 467/1000\n",
      "6/6 [==============================] - 0s 23ms/step - loss: 1.7912 - categorical_accuracy: 0.1719\n",
      "Epoch 468/1000\n",
      "6/6 [==============================] - 0s 25ms/step - loss: 1.7913 - categorical_accuracy: 0.1719\n",
      "Epoch 469/1000\n",
      "6/6 [==============================] - 0s 24ms/step - loss: 1.7912 - categorical_accuracy: 0.1719\n",
      "Epoch 470/1000\n",
      "6/6 [==============================] - 0s 24ms/step - loss: 1.7912 - categorical_accuracy: 0.1719\n",
      "Epoch 471/1000\n",
      "6/6 [==============================] - 0s 27ms/step - loss: 1.7912 - categorical_accuracy: 0.1719\n",
      "Epoch 472/1000\n",
      "6/6 [==============================] - 0s 24ms/step - loss: 1.7913 - categorical_accuracy: 0.1719\n",
      "Epoch 473/1000\n",
      "6/6 [==============================] - 0s 27ms/step - loss: 1.7912 - categorical_accuracy: 0.1719\n",
      "Epoch 474/1000\n",
      "6/6 [==============================] - 0s 26ms/step - loss: 1.7912 - categorical_accuracy: 0.1719\n",
      "Epoch 475/1000\n",
      "6/6 [==============================] - 0s 31ms/step - loss: 1.7912 - categorical_accuracy: 0.1719\n",
      "Epoch 476/1000\n",
      "6/6 [==============================] - 0s 28ms/step - loss: 1.7912 - categorical_accuracy: 0.1719\n",
      "Epoch 477/1000\n",
      "6/6 [==============================] - 0s 26ms/step - loss: 1.7913 - categorical_accuracy: 0.1719\n",
      "Epoch 478/1000\n",
      "6/6 [==============================] - 0s 26ms/step - loss: 1.7911 - categorical_accuracy: 0.1719\n",
      "Epoch 479/1000\n",
      "6/6 [==============================] - 0s 26ms/step - loss: 1.7912 - categorical_accuracy: 0.1719\n",
      "Epoch 480/1000\n",
      "6/6 [==============================] - 0s 27ms/step - loss: 1.7912 - categorical_accuracy: 0.1719\n",
      "Epoch 481/1000\n",
      "6/6 [==============================] - 0s 24ms/step - loss: 1.7912 - categorical_accuracy: 0.1719\n",
      "Epoch 482/1000\n",
      "6/6 [==============================] - 0s 34ms/step - loss: 1.7912 - categorical_accuracy: 0.1354\n",
      "Epoch 483/1000\n",
      "6/6 [==============================] - 0s 27ms/step - loss: 1.7912 - categorical_accuracy: 0.1510\n",
      "Epoch 484/1000\n",
      "6/6 [==============================] - 0s 24ms/step - loss: 1.7913 - categorical_accuracy: 0.1719\n",
      "Epoch 485/1000\n",
      "6/6 [==============================] - 0s 25ms/step - loss: 1.7913 - categorical_accuracy: 0.1406\n",
      "Epoch 486/1000\n",
      "6/6 [==============================] - 0s 28ms/step - loss: 1.7912 - categorical_accuracy: 0.1615\n",
      "Epoch 487/1000\n",
      "6/6 [==============================] - 0s 25ms/step - loss: 1.7912 - categorical_accuracy: 0.1719\n",
      "Epoch 488/1000\n",
      "6/6 [==============================] - 0s 25ms/step - loss: 1.7912 - categorical_accuracy: 0.1615\n",
      "Epoch 489/1000\n",
      "6/6 [==============================] - 0s 27ms/step - loss: 1.7912 - categorical_accuracy: 0.1615\n",
      "Epoch 490/1000\n",
      "6/6 [==============================] - 0s 28ms/step - loss: 1.7912 - categorical_accuracy: 0.1562\n",
      "Epoch 491/1000\n",
      "6/6 [==============================] - 0s 26ms/step - loss: 1.7912 - categorical_accuracy: 0.1719\n",
      "Epoch 492/1000\n",
      "6/6 [==============================] - 0s 27ms/step - loss: 1.7912 - categorical_accuracy: 0.1719\n",
      "Epoch 493/1000\n",
      "6/6 [==============================] - 0s 26ms/step - loss: 1.7912 - categorical_accuracy: 0.1719\n",
      "Epoch 494/1000\n",
      "6/6 [==============================] - 0s 25ms/step - loss: 1.7912 - categorical_accuracy: 0.1615\n",
      "Epoch 495/1000\n",
      "6/6 [==============================] - 0s 24ms/step - loss: 1.7912 - categorical_accuracy: 0.1719\n",
      "Epoch 496/1000\n",
      "6/6 [==============================] - 0s 31ms/step - loss: 1.7912 - categorical_accuracy: 0.1719\n",
      "Epoch 497/1000\n",
      "6/6 [==============================] - 0s 25ms/step - loss: 1.7912 - categorical_accuracy: 0.1510\n",
      "Epoch 498/1000\n",
      "6/6 [==============================] - 0s 24ms/step - loss: 1.7912 - categorical_accuracy: 0.1719\n",
      "Epoch 499/1000\n",
      "6/6 [==============================] - 0s 25ms/step - loss: 1.7912 - categorical_accuracy: 0.1719\n",
      "Epoch 500/1000\n",
      "6/6 [==============================] - 0s 24ms/step - loss: 1.7912 - categorical_accuracy: 0.1562\n",
      "Epoch 501/1000\n",
      "6/6 [==============================] - 0s 24ms/step - loss: 1.7912 - categorical_accuracy: 0.1771\n",
      "Epoch 502/1000\n",
      "6/6 [==============================] - 0s 28ms/step - loss: 1.7912 - categorical_accuracy: 0.1719\n",
      "Epoch 503/1000\n",
      "6/6 [==============================] - 0s 25ms/step - loss: 1.7911 - categorical_accuracy: 0.1719\n",
      "Epoch 504/1000\n",
      "6/6 [==============================] - 0s 25ms/step - loss: 1.7911 - categorical_accuracy: 0.1719\n",
      "Epoch 505/1000\n",
      "6/6 [==============================] - 0s 24ms/step - loss: 1.7911 - categorical_accuracy: 0.1510\n",
      "Epoch 506/1000\n",
      "6/6 [==============================] - 0s 24ms/step - loss: 1.7917 - categorical_accuracy: 0.1719\n",
      "Epoch 507/1000\n",
      "6/6 [==============================] - 0s 24ms/step - loss: 1.7911 - categorical_accuracy: 0.1719\n",
      "Epoch 508/1000\n",
      "6/6 [==============================] - 0s 23ms/step - loss: 1.7914 - categorical_accuracy: 0.1719\n",
      "Epoch 509/1000\n",
      "6/6 [==============================] - 0s 30ms/step - loss: 1.7911 - categorical_accuracy: 0.1719\n",
      "Epoch 510/1000\n",
      "6/6 [==============================] - 0s 23ms/step - loss: 1.7911 - categorical_accuracy: 0.1615\n",
      "Epoch 511/1000\n",
      "6/6 [==============================] - 0s 26ms/step - loss: 1.7909 - categorical_accuracy: 0.1667\n",
      "Epoch 512/1000\n",
      "6/6 [==============================] - 0s 27ms/step - loss: 1.7901 - categorical_accuracy: 0.1771\n",
      "Epoch 513/1000\n",
      "6/6 [==============================] - 0s 26ms/step - loss: 1.7859 - categorical_accuracy: 0.1771\n",
      "Epoch 514/1000\n",
      "6/6 [==============================] - 0s 27ms/step - loss: 1.8503 - categorical_accuracy: 0.1875\n",
      "Epoch 515/1000\n",
      "6/6 [==============================] - 0s 25ms/step - loss: 1.7913 - categorical_accuracy: 0.1719\n",
      "Epoch 516/1000\n",
      "6/6 [==============================] - 0s 30ms/step - loss: 1.7901 - categorical_accuracy: 0.1719\n",
      "Epoch 517/1000\n",
      "6/6 [==============================] - 0s 27ms/step - loss: 1.7932 - categorical_accuracy: 0.1667\n",
      "Epoch 518/1000\n",
      "6/6 [==============================] - 0s 23ms/step - loss: 1.7920 - categorical_accuracy: 0.1719\n",
      "Epoch 519/1000\n",
      "6/6 [==============================] - 0s 32ms/step - loss: 1.7910 - categorical_accuracy: 0.1719\n",
      "Epoch 520/1000\n",
      "6/6 [==============================] - 0s 23ms/step - loss: 1.7907 - categorical_accuracy: 0.1667\n",
      "Epoch 521/1000\n",
      "6/6 [==============================] - 0s 23ms/step - loss: 1.7902 - categorical_accuracy: 0.1823\n",
      "Epoch 522/1000\n",
      "6/6 [==============================] - 0s 23ms/step - loss: 1.7898 - categorical_accuracy: 0.1875\n",
      "Epoch 523/1000\n",
      "6/6 [==============================] - 0s 23ms/step - loss: 1.7885 - categorical_accuracy: 0.1771\n",
      "Epoch 524/1000\n",
      "6/6 [==============================] - 0s 24ms/step - loss: 1.7855 - categorical_accuracy: 0.2135\n",
      "Epoch 525/1000\n",
      "6/6 [==============================] - 0s 23ms/step - loss: 1.8900 - categorical_accuracy: 0.1979\n",
      "Epoch 526/1000\n",
      "6/6 [==============================] - 0s 23ms/step - loss: 1.7875 - categorical_accuracy: 0.1615\n",
      "Epoch 527/1000\n",
      "6/6 [==============================] - 0s 29ms/step - loss: 1.7923 - categorical_accuracy: 0.1927\n",
      "Epoch 528/1000\n",
      "6/6 [==============================] - 0s 23ms/step - loss: 1.7906 - categorical_accuracy: 0.1562\n",
      "Epoch 529/1000\n",
      "6/6 [==============================] - 0s 26ms/step - loss: 1.7917 - categorical_accuracy: 0.1198\n",
      "Epoch 530/1000\n",
      "6/6 [==============================] - 0s 25ms/step - loss: 1.7914 - categorical_accuracy: 0.1875\n",
      "Epoch 531/1000\n",
      "6/6 [==============================] - 0s 23ms/step - loss: 1.7903 - categorical_accuracy: 0.1771\n",
      "Epoch 532/1000\n",
      "6/6 [==============================] - 0s 23ms/step - loss: 1.7881 - categorical_accuracy: 0.1719\n",
      "Epoch 533/1000\n",
      "6/6 [==============================] - 0s 23ms/step - loss: 1.7841 - categorical_accuracy: 0.1719\n",
      "Epoch 534/1000\n",
      "6/6 [==============================] - 0s 23ms/step - loss: 1.7717 - categorical_accuracy: 0.2135\n",
      "Epoch 535/1000\n",
      "6/6 [==============================] - 0s 25ms/step - loss: 1.7809 - categorical_accuracy: 0.1979\n",
      "Epoch 536/1000\n",
      "6/6 [==============================] - 0s 25ms/step - loss: 1.7889 - categorical_accuracy: 0.2031\n",
      "Epoch 537/1000\n",
      "6/6 [==============================] - 0s 24ms/step - loss: 1.7826 - categorical_accuracy: 0.2135\n",
      "Epoch 538/1000\n",
      "6/6 [==============================] - 0s 26ms/step - loss: 1.7813 - categorical_accuracy: 0.2083\n",
      "Epoch 539/1000\n",
      "6/6 [==============================] - 0s 24ms/step - loss: 1.7772 - categorical_accuracy: 0.2292\n",
      "Epoch 540/1000\n",
      "6/6 [==============================] - 0s 23ms/step - loss: 1.7711 - categorical_accuracy: 0.2396\n",
      "Epoch 541/1000\n",
      "6/6 [==============================] - 0s 23ms/step - loss: 1.7554 - categorical_accuracy: 0.2396\n",
      "Epoch 542/1000\n",
      "6/6 [==============================] - 0s 30ms/step - loss: 1.7496 - categorical_accuracy: 0.2448\n",
      "Epoch 543/1000\n",
      "6/6 [==============================] - 0s 25ms/step - loss: 1.7366 - categorical_accuracy: 0.2604\n",
      "Epoch 544/1000\n",
      "6/6 [==============================] - 0s 23ms/step - loss: 1.7774 - categorical_accuracy: 0.2083\n",
      "Epoch 545/1000\n",
      "6/6 [==============================] - 0s 23ms/step - loss: 1.7449 - categorical_accuracy: 0.2240\n",
      "Epoch 546/1000\n",
      "6/6 [==============================] - 0s 23ms/step - loss: 1.7568 - categorical_accuracy: 0.2292\n",
      "Epoch 547/1000\n",
      "6/6 [==============================] - 0s 23ms/step - loss: 1.7429 - categorical_accuracy: 0.2604\n",
      "Epoch 548/1000\n",
      "6/6 [==============================] - 0s 24ms/step - loss: 1.7374 - categorical_accuracy: 0.2031\n",
      "Epoch 549/1000\n",
      "6/6 [==============================] - 0s 23ms/step - loss: 1.7364 - categorical_accuracy: 0.2240\n",
      "Epoch 550/1000\n",
      "6/6 [==============================] - 0s 24ms/step - loss: 1.7352 - categorical_accuracy: 0.2188\n",
      "Epoch 551/1000\n",
      "6/6 [==============================] - 0s 23ms/step - loss: 1.7220 - categorical_accuracy: 0.2240\n",
      "Epoch 552/1000\n",
      "6/6 [==============================] - 0s 23ms/step - loss: 1.7166 - categorical_accuracy: 0.2604\n",
      "Epoch 553/1000\n",
      "6/6 [==============================] - 0s 23ms/step - loss: 1.7180 - categorical_accuracy: 0.2552\n",
      "Epoch 554/1000\n",
      "6/6 [==============================] - 0s 27ms/step - loss: 1.7224 - categorical_accuracy: 0.2656\n",
      "Epoch 555/1000\n",
      "6/6 [==============================] - 0s 23ms/step - loss: 1.7179 - categorical_accuracy: 0.2604\n",
      "Epoch 556/1000\n",
      "6/6 [==============================] - 0s 23ms/step - loss: 1.7162 - categorical_accuracy: 0.2500\n",
      "Epoch 557/1000\n",
      "6/6 [==============================] - 0s 28ms/step - loss: 1.7049 - categorical_accuracy: 0.2656\n",
      "Epoch 558/1000\n",
      "6/6 [==============================] - 0s 24ms/step - loss: 1.6982 - categorical_accuracy: 0.2552\n",
      "Epoch 559/1000\n",
      "6/6 [==============================] - 0s 23ms/step - loss: 1.6861 - categorical_accuracy: 0.2708\n",
      "Epoch 560/1000\n",
      "6/6 [==============================] - 0s 23ms/step - loss: 1.6783 - categorical_accuracy: 0.2656\n",
      "Epoch 561/1000\n",
      "6/6 [==============================] - 0s 23ms/step - loss: 1.6732 - categorical_accuracy: 0.2708\n",
      "Epoch 562/1000\n",
      "6/6 [==============================] - 0s 22ms/step - loss: 1.6784 - categorical_accuracy: 0.2708\n",
      "Epoch 563/1000\n",
      "6/6 [==============================] - 0s 23ms/step - loss: 1.6948 - categorical_accuracy: 0.2552\n",
      "Epoch 564/1000\n",
      "6/6 [==============================] - 0s 24ms/step - loss: 1.7008 - categorical_accuracy: 0.2500\n",
      "Epoch 565/1000\n",
      "6/6 [==============================] - 0s 27ms/step - loss: 1.6909 - categorical_accuracy: 0.2656\n",
      "Epoch 566/1000\n",
      "6/6 [==============================] - 0s 24ms/step - loss: 1.7096 - categorical_accuracy: 0.2188\n",
      "Epoch 567/1000\n",
      "6/6 [==============================] - 0s 24ms/step - loss: 1.6864 - categorical_accuracy: 0.2656\n",
      "Epoch 568/1000\n",
      "6/6 [==============================] - 0s 23ms/step - loss: 1.6884 - categorical_accuracy: 0.2656\n",
      "Epoch 569/1000\n",
      "6/6 [==============================] - 0s 23ms/step - loss: 1.6874 - categorical_accuracy: 0.2656\n",
      "Epoch 570/1000\n",
      "6/6 [==============================] - 0s 24ms/step - loss: 1.6819 - categorical_accuracy: 0.2708\n",
      "Epoch 571/1000\n",
      "6/6 [==============================] - 0s 23ms/step - loss: 1.6848 - categorical_accuracy: 0.2708\n",
      "Epoch 572/1000\n",
      "6/6 [==============================] - 0s 26ms/step - loss: 1.6715 - categorical_accuracy: 0.2708\n",
      "Epoch 573/1000\n",
      "6/6 [==============================] - 0s 23ms/step - loss: 1.6705 - categorical_accuracy: 0.2760\n",
      "Epoch 574/1000\n",
      "6/6 [==============================] - 0s 23ms/step - loss: 1.6685 - categorical_accuracy: 0.2812\n",
      "Epoch 575/1000\n",
      "6/6 [==============================] - 0s 32ms/step - loss: 1.6777 - categorical_accuracy: 0.2656\n",
      "Epoch 576/1000\n",
      "6/6 [==============================] - 0s 24ms/step - loss: 1.6889 - categorical_accuracy: 0.2552\n",
      "Epoch 577/1000\n",
      "6/6 [==============================] - 0s 23ms/step - loss: 1.6855 - categorical_accuracy: 0.2604\n",
      "Epoch 578/1000\n",
      "6/6 [==============================] - 0s 25ms/step - loss: 1.6812 - categorical_accuracy: 0.2552\n",
      "Epoch 579/1000\n",
      "6/6 [==============================] - 0s 23ms/step - loss: 1.6599 - categorical_accuracy: 0.2760\n",
      "Epoch 580/1000\n",
      "6/6 [==============================] - 0s 23ms/step - loss: 1.6853 - categorical_accuracy: 0.2656\n",
      "Epoch 581/1000\n",
      "6/6 [==============================] - 0s 23ms/step - loss: 1.6830 - categorical_accuracy: 0.2708\n",
      "Epoch 582/1000\n",
      "6/6 [==============================] - 0s 23ms/step - loss: 1.6564 - categorical_accuracy: 0.2812\n",
      "Epoch 583/1000\n",
      "6/6 [==============================] - 0s 25ms/step - loss: 1.6512 - categorical_accuracy: 0.2865\n",
      "Epoch 584/1000\n",
      "6/6 [==============================] - 0s 23ms/step - loss: 1.6573 - categorical_accuracy: 0.2656\n",
      "Epoch 585/1000\n",
      "6/6 [==============================] - 0s 24ms/step - loss: 1.6675 - categorical_accuracy: 0.2656\n",
      "Epoch 586/1000\n",
      "6/6 [==============================] - 0s 25ms/step - loss: 1.6428 - categorical_accuracy: 0.2865\n",
      "Epoch 587/1000\n",
      "6/6 [==============================] - 0s 30ms/step - loss: 1.6642 - categorical_accuracy: 0.2708\n",
      "Epoch 588/1000\n",
      "6/6 [==============================] - 0s 25ms/step - loss: 1.6433 - categorical_accuracy: 0.2969\n",
      "Epoch 589/1000\n",
      "6/6 [==============================] - 0s 23ms/step - loss: 1.6410 - categorical_accuracy: 0.2865\n",
      "Epoch 590/1000\n",
      "6/6 [==============================] - 0s 24ms/step - loss: 1.6396 - categorical_accuracy: 0.2708\n",
      "Epoch 591/1000\n",
      "6/6 [==============================] - 0s 24ms/step - loss: 1.6402 - categorical_accuracy: 0.2708\n",
      "Epoch 592/1000\n",
      "6/6 [==============================] - 0s 27ms/step - loss: 1.6374 - categorical_accuracy: 0.2917\n",
      "Epoch 593/1000\n",
      "6/6 [==============================] - 0s 23ms/step - loss: 1.6376 - categorical_accuracy: 0.2865\n",
      "Epoch 594/1000\n",
      "6/6 [==============================] - 0s 25ms/step - loss: 1.6332 - categorical_accuracy: 0.2760\n",
      "Epoch 595/1000\n",
      "6/6 [==============================] - 0s 24ms/step - loss: 1.6329 - categorical_accuracy: 0.2760\n",
      "Epoch 596/1000\n",
      "6/6 [==============================] - 0s 23ms/step - loss: 1.6288 - categorical_accuracy: 0.3021\n",
      "Epoch 597/1000\n",
      "6/6 [==============================] - 0s 30ms/step - loss: 1.6280 - categorical_accuracy: 0.2812\n",
      "Epoch 598/1000\n",
      "6/6 [==============================] - 0s 30ms/step - loss: 1.6240 - categorical_accuracy: 0.2760\n",
      "Epoch 599/1000\n",
      "6/6 [==============================] - 0s 28ms/step - loss: 1.6314 - categorical_accuracy: 0.2760\n",
      "Epoch 600/1000\n",
      "6/6 [==============================] - 0s 23ms/step - loss: 1.6241 - categorical_accuracy: 0.2917\n",
      "Epoch 601/1000\n",
      "6/6 [==============================] - 0s 23ms/step - loss: 1.6200 - categorical_accuracy: 0.2812\n",
      "Epoch 602/1000\n",
      "6/6 [==============================] - 0s 24ms/step - loss: 1.6675 - categorical_accuracy: 0.2656\n",
      "Epoch 603/1000\n",
      "6/6 [==============================] - 0s 24ms/step - loss: 1.7799 - categorical_accuracy: 0.1979\n",
      "Epoch 604/1000\n",
      "6/6 [==============================] - 0s 23ms/step - loss: 1.7403 - categorical_accuracy: 0.2083\n",
      "Epoch 605/1000\n",
      "6/6 [==============================] - 0s 30ms/step - loss: 1.6961 - categorical_accuracy: 0.2344\n",
      "Epoch 606/1000\n",
      "6/6 [==============================] - 0s 22ms/step - loss: 1.6550 - categorical_accuracy: 0.2656\n",
      "Epoch 607/1000\n",
      "6/6 [==============================] - 0s 22ms/step - loss: 1.6451 - categorical_accuracy: 0.2760\n",
      "Epoch 608/1000\n",
      "6/6 [==============================] - 0s 23ms/step - loss: 1.6229 - categorical_accuracy: 0.2708\n",
      "Epoch 609/1000\n",
      "6/6 [==============================] - 0s 24ms/step - loss: 1.6204 - categorical_accuracy: 0.2812\n",
      "Epoch 610/1000\n",
      "6/6 [==============================] - 0s 22ms/step - loss: 1.6260 - categorical_accuracy: 0.2760\n",
      "Epoch 611/1000\n",
      "6/6 [==============================] - 0s 22ms/step - loss: 1.6218 - categorical_accuracy: 0.2708\n",
      "Epoch 612/1000\n",
      "6/6 [==============================] - 0s 26ms/step - loss: 1.6134 - categorical_accuracy: 0.2604\n",
      "Epoch 613/1000\n",
      "6/6 [==============================] - 0s 24ms/step - loss: 1.6351 - categorical_accuracy: 0.2708\n",
      "Epoch 614/1000\n",
      "6/6 [==============================] - 0s 23ms/step - loss: 1.6457 - categorical_accuracy: 0.2760\n",
      "Epoch 615/1000\n",
      "6/6 [==============================] - 0s 22ms/step - loss: 1.6130 - categorical_accuracy: 0.2812\n",
      "Epoch 616/1000\n",
      "6/6 [==============================] - 0s 22ms/step - loss: 1.6378 - categorical_accuracy: 0.2656\n",
      "Epoch 617/1000\n",
      "6/6 [==============================] - 0s 22ms/step - loss: 1.6299 - categorical_accuracy: 0.2812\n",
      "Epoch 618/1000\n",
      "6/6 [==============================] - 0s 23ms/step - loss: 1.6123 - categorical_accuracy: 0.2917\n",
      "Epoch 619/1000\n",
      "6/6 [==============================] - 0s 21ms/step - loss: 1.6163 - categorical_accuracy: 0.2760\n",
      "Epoch 620/1000\n",
      "6/6 [==============================] - 0s 22ms/step - loss: 1.6225 - categorical_accuracy: 0.3021\n",
      "Epoch 621/1000\n",
      "6/6 [==============================] - 0s 23ms/step - loss: 1.5954 - categorical_accuracy: 0.3073\n",
      "Epoch 622/1000\n",
      "6/6 [==============================] - 0s 25ms/step - loss: 1.6092 - categorical_accuracy: 0.3073\n",
      "Epoch 623/1000\n",
      "6/6 [==============================] - 0s 34ms/step - loss: 1.6131 - categorical_accuracy: 0.2865\n",
      "Epoch 624/1000\n",
      "6/6 [==============================] - 0s 23ms/step - loss: 1.6066 - categorical_accuracy: 0.2865\n",
      "Epoch 625/1000\n",
      "6/6 [==============================] - 0s 22ms/step - loss: 1.5878 - categorical_accuracy: 0.2969\n",
      "Epoch 626/1000\n",
      "6/6 [==============================] - 0s 22ms/step - loss: 1.5874 - categorical_accuracy: 0.2969\n",
      "Epoch 627/1000\n",
      "6/6 [==============================] - 0s 23ms/step - loss: 1.5947 - categorical_accuracy: 0.3021\n",
      "Epoch 628/1000\n",
      "6/6 [==============================] - 0s 23ms/step - loss: 1.6931 - categorical_accuracy: 0.2552\n",
      "Epoch 629/1000\n",
      "6/6 [==============================] - 0s 22ms/step - loss: 1.6408 - categorical_accuracy: 0.2812\n",
      "Epoch 630/1000\n",
      "6/6 [==============================] - 0s 22ms/step - loss: 1.6188 - categorical_accuracy: 0.2917\n",
      "Epoch 631/1000\n",
      "6/6 [==============================] - 0s 22ms/step - loss: 1.5965 - categorical_accuracy: 0.2917\n",
      "Epoch 632/1000\n",
      "6/6 [==============================] - 0s 22ms/step - loss: 1.5784 - categorical_accuracy: 0.2917\n",
      "Epoch 633/1000\n",
      "6/6 [==============================] - 0s 22ms/step - loss: 1.5817 - categorical_accuracy: 0.2969\n",
      "Epoch 634/1000\n",
      "6/6 [==============================] - 0s 25ms/step - loss: 1.5906 - categorical_accuracy: 0.2917\n",
      "Epoch 635/1000\n",
      "6/6 [==============================] - 0s 23ms/step - loss: 1.6292 - categorical_accuracy: 0.2812\n",
      "Epoch 636/1000\n",
      "6/6 [==============================] - 0s 22ms/step - loss: 1.5982 - categorical_accuracy: 0.2969\n",
      "Epoch 637/1000\n",
      "6/6 [==============================] - 0s 22ms/step - loss: 1.6036 - categorical_accuracy: 0.2917\n",
      "Epoch 638/1000\n",
      "6/6 [==============================] - 0s 22ms/step - loss: 1.5804 - categorical_accuracy: 0.2917\n",
      "Epoch 639/1000\n",
      "6/6 [==============================] - 0s 22ms/step - loss: 1.5746 - categorical_accuracy: 0.2917\n",
      "Epoch 640/1000\n",
      "6/6 [==============================] - 0s 23ms/step - loss: 1.5624 - categorical_accuracy: 0.3125\n",
      "Epoch 641/1000\n",
      "6/6 [==============================] - 0s 24ms/step - loss: 1.5667 - categorical_accuracy: 0.3281\n",
      "Epoch 642/1000\n",
      "6/6 [==============================] - 0s 22ms/step - loss: 1.5660 - categorical_accuracy: 0.2865\n",
      "Epoch 643/1000\n",
      "6/6 [==============================] - 0s 26ms/step - loss: 1.5523 - categorical_accuracy: 0.2969\n",
      "Epoch 644/1000\n",
      "6/6 [==============================] - 0s 27ms/step - loss: 1.5535 - categorical_accuracy: 0.3385\n",
      "Epoch 645/1000\n",
      "6/6 [==============================] - 0s 23ms/step - loss: 1.5374 - categorical_accuracy: 0.3021\n",
      "Epoch 646/1000\n",
      "6/6 [==============================] - 0s 22ms/step - loss: 1.5519 - categorical_accuracy: 0.3385\n",
      "Epoch 647/1000\n",
      "6/6 [==============================] - 0s 22ms/step - loss: 1.5472 - categorical_accuracy: 0.2865\n",
      "Epoch 648/1000\n",
      "6/6 [==============================] - 0s 24ms/step - loss: 1.5561 - categorical_accuracy: 0.3698\n",
      "Epoch 649/1000\n",
      "6/6 [==============================] - 0s 23ms/step - loss: 1.5441 - categorical_accuracy: 0.3177\n",
      "Epoch 650/1000\n",
      "6/6 [==============================] - 0s 23ms/step - loss: 1.5426 - categorical_accuracy: 0.3333\n",
      "Epoch 651/1000\n",
      "6/6 [==============================] - 0s 22ms/step - loss: 1.5750 - categorical_accuracy: 0.2917\n",
      "Epoch 652/1000\n",
      "6/6 [==============================] - 0s 23ms/step - loss: 1.5404 - categorical_accuracy: 0.3385\n",
      "Epoch 653/1000\n",
      "6/6 [==============================] - 0s 23ms/step - loss: 1.5374 - categorical_accuracy: 0.3177\n",
      "Epoch 654/1000\n",
      "6/6 [==============================] - 0s 26ms/step - loss: 1.5274 - categorical_accuracy: 0.3438\n",
      "Epoch 655/1000\n",
      "6/6 [==============================] - 0s 23ms/step - loss: 1.5226 - categorical_accuracy: 0.3438\n",
      "Epoch 656/1000\n",
      "6/6 [==============================] - 0s 23ms/step - loss: 1.5134 - categorical_accuracy: 0.3385\n",
      "Epoch 657/1000\n",
      "6/6 [==============================] - 0s 24ms/step - loss: 1.5198 - categorical_accuracy: 0.3490\n",
      "Epoch 658/1000\n",
      "6/6 [==============================] - 0s 24ms/step - loss: 1.5420 - categorical_accuracy: 0.3281\n",
      "Epoch 659/1000\n",
      "6/6 [==============================] - 0s 23ms/step - loss: 1.5300 - categorical_accuracy: 0.3698\n",
      "Epoch 660/1000\n",
      "6/6 [==============================] - 0s 23ms/step - loss: 1.5379 - categorical_accuracy: 0.3229\n",
      "Epoch 661/1000\n",
      "6/6 [==============================] - 0s 26ms/step - loss: 1.5183 - categorical_accuracy: 0.3542\n",
      "Epoch 662/1000\n",
      "6/6 [==============================] - 0s 27ms/step - loss: 1.5684 - categorical_accuracy: 0.3073\n",
      "Epoch 663/1000\n",
      "6/6 [==============================] - 0s 26ms/step - loss: 1.5478 - categorical_accuracy: 0.3438\n",
      "Epoch 664/1000\n",
      "6/6 [==============================] - 0s 36ms/step - loss: 1.5240 - categorical_accuracy: 0.3177\n",
      "Epoch 665/1000\n",
      "6/6 [==============================] - 0s 27ms/step - loss: 1.5281 - categorical_accuracy: 0.3542\n",
      "Epoch 666/1000\n",
      "6/6 [==============================] - 0s 24ms/step - loss: 1.5032 - categorical_accuracy: 0.3385\n",
      "Epoch 667/1000\n",
      "6/6 [==============================] - 0s 28ms/step - loss: 1.5116 - categorical_accuracy: 0.3594\n",
      "Epoch 668/1000\n",
      "6/6 [==============================] - 0s 26ms/step - loss: 1.5060 - categorical_accuracy: 0.3854\n",
      "Epoch 669/1000\n",
      "6/6 [==============================] - 0s 25ms/step - loss: 1.4956 - categorical_accuracy: 0.3906\n",
      "Epoch 670/1000\n",
      "6/6 [==============================] - 0s 47ms/step - loss: 1.5007 - categorical_accuracy: 0.3750\n",
      "Epoch 671/1000\n",
      "6/6 [==============================] - 0s 24ms/step - loss: 1.4900 - categorical_accuracy: 0.3698\n",
      "Epoch 672/1000\n",
      "6/6 [==============================] - 0s 27ms/step - loss: 1.4882 - categorical_accuracy: 0.3854\n",
      "Epoch 673/1000\n",
      "6/6 [==============================] - 0s 30ms/step - loss: 1.4855 - categorical_accuracy: 0.3854\n",
      "Epoch 674/1000\n",
      "6/6 [==============================] - 0s 25ms/step - loss: 1.5162 - categorical_accuracy: 0.3594\n",
      "Epoch 675/1000\n",
      "6/6 [==============================] - 0s 26ms/step - loss: 1.5298 - categorical_accuracy: 0.3594\n",
      "Epoch 676/1000\n",
      "6/6 [==============================] - 0s 34ms/step - loss: 1.5262 - categorical_accuracy: 0.3333\n",
      "Epoch 677/1000\n",
      "6/6 [==============================] - 0s 26ms/step - loss: 1.5129 - categorical_accuracy: 0.3542\n",
      "Epoch 678/1000\n",
      "6/6 [==============================] - 0s 23ms/step - loss: 1.5082 - categorical_accuracy: 0.3490\n",
      "Epoch 679/1000\n",
      "6/6 [==============================] - 0s 23ms/step - loss: 1.4871 - categorical_accuracy: 0.3542\n",
      "Epoch 680/1000\n",
      "6/6 [==============================] - 0s 24ms/step - loss: 1.4907 - categorical_accuracy: 0.3750\n",
      "Epoch 681/1000\n",
      "6/6 [==============================] - 0s 28ms/step - loss: 1.4720 - categorical_accuracy: 0.4010\n",
      "Epoch 682/1000\n",
      "6/6 [==============================] - 0s 25ms/step - loss: 1.4878 - categorical_accuracy: 0.3854\n",
      "Epoch 683/1000\n",
      "6/6 [==============================] - 0s 33ms/step - loss: 1.5044 - categorical_accuracy: 0.3646\n",
      "Epoch 684/1000\n",
      "6/6 [==============================] - 0s 24ms/step - loss: 1.4780 - categorical_accuracy: 0.3854\n",
      "Epoch 685/1000\n",
      "6/6 [==============================] - 0s 24ms/step - loss: 1.4695 - categorical_accuracy: 0.4010\n",
      "Epoch 686/1000\n",
      "6/6 [==============================] - 0s 24ms/step - loss: 1.4727 - categorical_accuracy: 0.4115\n",
      "Epoch 687/1000\n",
      "6/6 [==============================] - 0s 25ms/step - loss: 1.4529 - categorical_accuracy: 0.3958\n",
      "Epoch 688/1000\n",
      "6/6 [==============================] - 0s 24ms/step - loss: 1.4295 - categorical_accuracy: 0.4062\n",
      "Epoch 689/1000\n",
      "6/6 [==============================] - 0s 25ms/step - loss: 1.4469 - categorical_accuracy: 0.4115\n",
      "Epoch 690/1000\n",
      "6/6 [==============================] - 0s 30ms/step - loss: 1.4384 - categorical_accuracy: 0.4115\n",
      "Epoch 691/1000\n",
      "6/6 [==============================] - 0s 23ms/step - loss: 1.4224 - categorical_accuracy: 0.4062\n",
      "Epoch 692/1000\n",
      "6/6 [==============================] - 0s 23ms/step - loss: 1.4185 - categorical_accuracy: 0.4010\n",
      "Epoch 693/1000\n",
      "6/6 [==============================] - 0s 23ms/step - loss: 1.4476 - categorical_accuracy: 0.4010\n",
      "Epoch 694/1000\n",
      "6/6 [==============================] - 0s 24ms/step - loss: 1.4332 - categorical_accuracy: 0.4219\n",
      "Epoch 695/1000\n",
      "6/6 [==============================] - 0s 24ms/step - loss: 1.4147 - categorical_accuracy: 0.4271\n",
      "Epoch 696/1000\n",
      "6/6 [==============================] - 0s 24ms/step - loss: 1.4261 - categorical_accuracy: 0.3906\n",
      "Epoch 697/1000\n",
      "6/6 [==============================] - 0s 27ms/step - loss: 1.3966 - categorical_accuracy: 0.3906\n",
      "Epoch 698/1000\n",
      "6/6 [==============================] - 0s 26ms/step - loss: 1.4704 - categorical_accuracy: 0.3542\n",
      "Epoch 699/1000\n",
      "6/6 [==============================] - 0s 26ms/step - loss: 1.4460 - categorical_accuracy: 0.3958\n",
      "Epoch 700/1000\n",
      "6/6 [==============================] - 0s 30ms/step - loss: 1.4337 - categorical_accuracy: 0.4062\n",
      "Epoch 701/1000\n",
      "6/6 [==============================] - 0s 27ms/step - loss: 1.4136 - categorical_accuracy: 0.3958\n",
      "Epoch 702/1000\n",
      "6/6 [==============================] - 0s 25ms/step - loss: 1.4147 - categorical_accuracy: 0.3906\n",
      "Epoch 703/1000\n",
      "6/6 [==============================] - 0s 23ms/step - loss: 1.4056 - categorical_accuracy: 0.4219\n",
      "Epoch 704/1000\n",
      "6/6 [==============================] - 0s 24ms/step - loss: 1.4098 - categorical_accuracy: 0.4479\n",
      "Epoch 705/1000\n",
      "6/6 [==============================] - 0s 24ms/step - loss: 1.3791 - categorical_accuracy: 0.4427\n",
      "Epoch 706/1000\n",
      "6/6 [==============================] - 0s 23ms/step - loss: 1.3833 - categorical_accuracy: 0.4427\n",
      "Epoch 707/1000\n",
      "6/6 [==============================] - 0s 24ms/step - loss: 1.3612 - categorical_accuracy: 0.4323\n",
      "Epoch 708/1000\n",
      "6/6 [==============================] - 0s 24ms/step - loss: 1.3630 - categorical_accuracy: 0.4427\n",
      "Epoch 709/1000\n",
      "6/6 [==============================] - 0s 28ms/step - loss: 1.3898 - categorical_accuracy: 0.4375\n",
      "Epoch 710/1000\n",
      "6/6 [==============================] - 0s 29ms/step - loss: 1.4341 - categorical_accuracy: 0.3958\n",
      "Epoch 711/1000\n",
      "6/6 [==============================] - 0s 30ms/step - loss: 1.3941 - categorical_accuracy: 0.3958\n",
      "Epoch 712/1000\n",
      "6/6 [==============================] - 0s 26ms/step - loss: 1.3869 - categorical_accuracy: 0.4271\n",
      "Epoch 713/1000\n",
      "6/6 [==============================] - 0s 29ms/step - loss: 1.4069 - categorical_accuracy: 0.4323\n",
      "Epoch 714/1000\n",
      "6/6 [==============================] - 0s 33ms/step - loss: 1.3388 - categorical_accuracy: 0.4427\n",
      "Epoch 715/1000\n",
      "6/6 [==============================] - 0s 26ms/step - loss: 1.3211 - categorical_accuracy: 0.4531\n",
      "Epoch 716/1000\n",
      "6/6 [==============================] - 0s 24ms/step - loss: 1.3274 - categorical_accuracy: 0.4479\n",
      "Epoch 717/1000\n",
      "6/6 [==============================] - 0s 33ms/step - loss: 1.3327 - categorical_accuracy: 0.4688\n",
      "Epoch 718/1000\n",
      "6/6 [==============================] - 0s 25ms/step - loss: 1.3259 - categorical_accuracy: 0.4531\n",
      "Epoch 719/1000\n",
      "6/6 [==============================] - 0s 28ms/step - loss: 1.3059 - categorical_accuracy: 0.4844\n",
      "Epoch 720/1000\n",
      "6/6 [==============================] - 0s 26ms/step - loss: 1.2987 - categorical_accuracy: 0.4792\n",
      "Epoch 721/1000\n",
      "6/6 [==============================] - 0s 32ms/step - loss: 1.3016 - categorical_accuracy: 0.4583\n",
      "Epoch 722/1000\n",
      "6/6 [==============================] - 0s 37ms/step - loss: 1.3117 - categorical_accuracy: 0.4583\n",
      "Epoch 723/1000\n",
      "6/6 [==============================] - 0s 29ms/step - loss: 1.3482 - categorical_accuracy: 0.4375\n",
      "Epoch 724/1000\n",
      "6/6 [==============================] - 0s 39ms/step - loss: 1.4499 - categorical_accuracy: 0.4115\n",
      "Epoch 725/1000\n",
      "6/6 [==============================] - 0s 29ms/step - loss: 1.4347 - categorical_accuracy: 0.4323\n",
      "Epoch 726/1000\n",
      "6/6 [==============================] - 0s 26ms/step - loss: 1.4738 - categorical_accuracy: 0.4167\n",
      "Epoch 727/1000\n",
      "6/6 [==============================] - 0s 23ms/step - loss: 1.5420 - categorical_accuracy: 0.3750\n",
      "Epoch 728/1000\n",
      "6/6 [==============================] - 0s 27ms/step - loss: 1.5651 - categorical_accuracy: 0.3490\n",
      "Epoch 729/1000\n",
      "6/6 [==============================] - 0s 28ms/step - loss: 1.5165 - categorical_accuracy: 0.3906\n",
      "Epoch 730/1000\n",
      "6/6 [==============================] - 0s 28ms/step - loss: 1.4616 - categorical_accuracy: 0.4323\n",
      "Epoch 731/1000\n",
      "6/6 [==============================] - 0s 34ms/step - loss: 1.4415 - categorical_accuracy: 0.4323\n",
      "Epoch 732/1000\n",
      "6/6 [==============================] - 0s 37ms/step - loss: 1.4352 - categorical_accuracy: 0.4219\n",
      "Epoch 733/1000\n",
      "6/6 [==============================] - 0s 31ms/step - loss: 1.4152 - categorical_accuracy: 0.4271\n",
      "Epoch 734/1000\n",
      "6/6 [==============================] - 0s 27ms/step - loss: 1.3769 - categorical_accuracy: 0.4635\n",
      "Epoch 735/1000\n",
      "6/6 [==============================] - 0s 26ms/step - loss: 1.3742 - categorical_accuracy: 0.4427\n",
      "Epoch 736/1000\n",
      "6/6 [==============================] - 0s 44ms/step - loss: 1.3412 - categorical_accuracy: 0.4479\n",
      "Epoch 737/1000\n",
      "6/6 [==============================] - 0s 25ms/step - loss: 1.3747 - categorical_accuracy: 0.4167\n",
      "Epoch 738/1000\n",
      "6/6 [==============================] - 0s 26ms/step - loss: 1.3471 - categorical_accuracy: 0.4375\n",
      "Epoch 739/1000\n",
      "6/6 [==============================] - 0s 26ms/step - loss: 1.3416 - categorical_accuracy: 0.4740\n",
      "Epoch 740/1000\n",
      "6/6 [==============================] - 0s 30ms/step - loss: 1.3472 - categorical_accuracy: 0.4531\n",
      "Epoch 741/1000\n",
      "6/6 [==============================] - 0s 32ms/step - loss: 1.3695 - categorical_accuracy: 0.4479\n",
      "Epoch 742/1000\n",
      "6/6 [==============================] - 0s 27ms/step - loss: 1.3413 - categorical_accuracy: 0.4167\n",
      "Epoch 743/1000\n",
      "6/6 [==============================] - 0s 24ms/step - loss: 1.4018 - categorical_accuracy: 0.4010\n",
      "Epoch 744/1000\n",
      "6/6 [==============================] - 0s 29ms/step - loss: 1.3812 - categorical_accuracy: 0.4271\n",
      "Epoch 745/1000\n",
      "6/6 [==============================] - 0s 36ms/step - loss: 1.3235 - categorical_accuracy: 0.4375\n",
      "Epoch 746/1000\n",
      "6/6 [==============================] - 0s 35ms/step - loss: 1.3326 - categorical_accuracy: 0.4583\n",
      "Epoch 747/1000\n",
      "6/6 [==============================] - 0s 28ms/step - loss: 1.3648 - categorical_accuracy: 0.4375\n",
      "Epoch 748/1000\n",
      "6/6 [==============================] - 0s 35ms/step - loss: 1.3923 - categorical_accuracy: 0.4062\n",
      "Epoch 749/1000\n",
      "6/6 [==============================] - 0s 29ms/step - loss: 1.3052 - categorical_accuracy: 0.5000\n",
      "Epoch 750/1000\n",
      "6/6 [==============================] - 0s 32ms/step - loss: 1.2954 - categorical_accuracy: 0.4635\n",
      "Epoch 751/1000\n",
      "6/6 [==============================] - 0s 33ms/step - loss: 1.3758 - categorical_accuracy: 0.4115\n",
      "Epoch 752/1000\n",
      "6/6 [==============================] - 0s 39ms/step - loss: 1.3611 - categorical_accuracy: 0.4427\n",
      "Epoch 753/1000\n",
      "6/6 [==============================] - 0s 26ms/step - loss: 1.3465 - categorical_accuracy: 0.4635\n",
      "Epoch 754/1000\n",
      "6/6 [==============================] - 0s 27ms/step - loss: 1.3660 - categorical_accuracy: 0.4115\n",
      "Epoch 755/1000\n",
      "6/6 [==============================] - 0s 34ms/step - loss: 1.3590 - categorical_accuracy: 0.4375\n",
      "Epoch 756/1000\n",
      "6/6 [==============================] - 0s 29ms/step - loss: 1.3178 - categorical_accuracy: 0.4531\n",
      "Epoch 757/1000\n",
      "6/6 [==============================] - 0s 31ms/step - loss: 1.2809 - categorical_accuracy: 0.4948\n",
      "Epoch 758/1000\n",
      "6/6 [==============================] - 0s 29ms/step - loss: 1.2757 - categorical_accuracy: 0.5156\n",
      "Epoch 759/1000\n",
      "6/6 [==============================] - 0s 28ms/step - loss: 1.2655 - categorical_accuracy: 0.4896\n",
      "Epoch 760/1000\n",
      "6/6 [==============================] - 0s 32ms/step - loss: 1.2620 - categorical_accuracy: 0.4688\n",
      "Epoch 761/1000\n",
      "6/6 [==============================] - 0s 29ms/step - loss: 1.2450 - categorical_accuracy: 0.5000\n",
      "Epoch 762/1000\n",
      "6/6 [==============================] - 0s 30ms/step - loss: 1.2872 - categorical_accuracy: 0.4792\n",
      "Epoch 763/1000\n",
      "6/6 [==============================] - 0s 37ms/step - loss: 1.2380 - categorical_accuracy: 0.4896\n",
      "Epoch 764/1000\n",
      "6/6 [==============================] - 0s 30ms/step - loss: 1.2842 - categorical_accuracy: 0.4844\n",
      "Epoch 765/1000\n",
      "6/6 [==============================] - 0s 28ms/step - loss: 1.2629 - categorical_accuracy: 0.4896\n",
      "Epoch 766/1000\n",
      "6/6 [==============================] - 0s 27ms/step - loss: 1.2878 - categorical_accuracy: 0.4688\n",
      "Epoch 767/1000\n",
      "6/6 [==============================] - 0s 34ms/step - loss: 1.2335 - categorical_accuracy: 0.5208\n",
      "Epoch 768/1000\n",
      "6/6 [==============================] - 0s 28ms/step - loss: 1.2498 - categorical_accuracy: 0.5000\n",
      "Epoch 769/1000\n",
      "6/6 [==============================] - 0s 30ms/step - loss: 1.2495 - categorical_accuracy: 0.4948\n",
      "Epoch 770/1000\n",
      "6/6 [==============================] - 0s 30ms/step - loss: 1.2669 - categorical_accuracy: 0.4583\n",
      "Epoch 771/1000\n",
      "6/6 [==============================] - 0s 30ms/step - loss: 1.2529 - categorical_accuracy: 0.5000\n",
      "Epoch 772/1000\n",
      "6/6 [==============================] - 0s 28ms/step - loss: 1.1885 - categorical_accuracy: 0.5312\n",
      "Epoch 773/1000\n",
      "6/6 [==============================] - 0s 27ms/step - loss: 1.1962 - categorical_accuracy: 0.5208\n",
      "Epoch 774/1000\n",
      "6/6 [==============================] - 0s 26ms/step - loss: 1.2047 - categorical_accuracy: 0.5365\n",
      "Epoch 775/1000\n",
      "6/6 [==============================] - 0s 26ms/step - loss: 1.2196 - categorical_accuracy: 0.5417\n",
      "Epoch 776/1000\n",
      "6/6 [==============================] - 0s 30ms/step - loss: 1.2128 - categorical_accuracy: 0.5260\n",
      "Epoch 777/1000\n",
      "6/6 [==============================] - 0s 38ms/step - loss: 1.1973 - categorical_accuracy: 0.5260\n",
      "Epoch 778/1000\n",
      "6/6 [==============================] - 0s 33ms/step - loss: 1.1844 - categorical_accuracy: 0.5625\n",
      "Epoch 779/1000\n",
      "6/6 [==============================] - 0s 27ms/step - loss: 1.1764 - categorical_accuracy: 0.5417\n",
      "Epoch 780/1000\n",
      "6/6 [==============================] - 0s 28ms/step - loss: 1.1961 - categorical_accuracy: 0.5521\n",
      "Epoch 781/1000\n",
      "6/6 [==============================] - 0s 30ms/step - loss: 1.2761 - categorical_accuracy: 0.5000\n",
      "Epoch 782/1000\n",
      "6/6 [==============================] - 0s 24ms/step - loss: 1.3375 - categorical_accuracy: 0.4427\n",
      "Epoch 783/1000\n",
      "6/6 [==============================] - 0s 26ms/step - loss: 1.3115 - categorical_accuracy: 0.4531\n",
      "Epoch 784/1000\n",
      "6/6 [==============================] - 0s 27ms/step - loss: 2.0245 - categorical_accuracy: 0.4167\n",
      "Epoch 785/1000\n",
      "6/6 [==============================] - 0s 33ms/step - loss: 1.7082 - categorical_accuracy: 0.3073\n",
      "Epoch 786/1000\n",
      "6/6 [==============================] - 0s 25ms/step - loss: 1.6143 - categorical_accuracy: 0.2760\n",
      "Epoch 787/1000\n",
      "6/6 [==============================] - 0s 30ms/step - loss: 1.5480 - categorical_accuracy: 0.2969\n",
      "Epoch 788/1000\n",
      "6/6 [==============================] - 0s 27ms/step - loss: 1.5311 - categorical_accuracy: 0.3438\n",
      "Epoch 789/1000\n",
      "6/6 [==============================] - 0s 24ms/step - loss: 1.4378 - categorical_accuracy: 0.4427\n",
      "Epoch 790/1000\n",
      "6/6 [==============================] - 0s 26ms/step - loss: 1.4073 - categorical_accuracy: 0.4167\n",
      "Epoch 791/1000\n",
      "6/6 [==============================] - 0s 29ms/step - loss: 1.3905 - categorical_accuracy: 0.4427\n",
      "Epoch 792/1000\n",
      "6/6 [==============================] - 0s 31ms/step - loss: 1.3773 - categorical_accuracy: 0.4583\n",
      "Epoch 793/1000\n",
      "6/6 [==============================] - 0s 25ms/step - loss: 1.3408 - categorical_accuracy: 0.4635\n",
      "Epoch 794/1000\n",
      "6/6 [==============================] - 0s 24ms/step - loss: 1.3406 - categorical_accuracy: 0.4531\n",
      "Epoch 795/1000\n",
      "6/6 [==============================] - 0s 22ms/step - loss: 1.3539 - categorical_accuracy: 0.4844\n",
      "Epoch 796/1000\n",
      "6/6 [==============================] - 0s 23ms/step - loss: 1.3451 - categorical_accuracy: 0.4531\n",
      "Epoch 797/1000\n",
      "6/6 [==============================] - 0s 22ms/step - loss: 1.2942 - categorical_accuracy: 0.4896\n",
      "Epoch 798/1000\n",
      "6/6 [==============================] - 0s 24ms/step - loss: 1.2875 - categorical_accuracy: 0.4948\n",
      "Epoch 799/1000\n",
      "6/6 [==============================] - 0s 23ms/step - loss: 1.2625 - categorical_accuracy: 0.5052\n",
      "Epoch 800/1000\n",
      "6/6 [==============================] - 0s 29ms/step - loss: 1.2375 - categorical_accuracy: 0.5104\n",
      "Epoch 801/1000\n",
      "6/6 [==============================] - 0s 24ms/step - loss: 1.4603 - categorical_accuracy: 0.5156\n",
      "Epoch 802/1000\n",
      "6/6 [==============================] - 0s 23ms/step - loss: 1.2673 - categorical_accuracy: 0.4479\n",
      "Epoch 803/1000\n",
      "6/6 [==============================] - 0s 23ms/step - loss: 1.3239 - categorical_accuracy: 0.4583\n",
      "Epoch 804/1000\n",
      "6/6 [==============================] - 0s 23ms/step - loss: 1.3000 - categorical_accuracy: 0.4740\n",
      "Epoch 805/1000\n",
      "6/6 [==============================] - 0s 25ms/step - loss: 1.4066 - categorical_accuracy: 0.4531\n",
      "Epoch 806/1000\n",
      "6/6 [==============================] - 0s 25ms/step - loss: 1.2988 - categorical_accuracy: 0.4844\n",
      "Epoch 807/1000\n",
      "6/6 [==============================] - 0s 24ms/step - loss: 1.2596 - categorical_accuracy: 0.5000\n",
      "Epoch 808/1000\n",
      "6/6 [==============================] - 0s 24ms/step - loss: 1.2599 - categorical_accuracy: 0.5000\n",
      "Epoch 809/1000\n",
      "6/6 [==============================] - 0s 30ms/step - loss: 1.3637 - categorical_accuracy: 0.4323\n",
      "Epoch 810/1000\n",
      "6/6 [==============================] - 0s 24ms/step - loss: 1.3369 - categorical_accuracy: 0.4479\n",
      "Epoch 811/1000\n",
      "6/6 [==============================] - 0s 24ms/step - loss: 1.2270 - categorical_accuracy: 0.4844\n",
      "Epoch 812/1000\n",
      "6/6 [==============================] - 0s 27ms/step - loss: 1.2440 - categorical_accuracy: 0.4844\n",
      "Epoch 813/1000\n",
      "6/6 [==============================] - 0s 22ms/step - loss: 1.2194 - categorical_accuracy: 0.5104\n",
      "Epoch 814/1000\n",
      "6/6 [==============================] - 0s 23ms/step - loss: 1.2114 - categorical_accuracy: 0.5000\n",
      "Epoch 815/1000\n",
      "6/6 [==============================] - 0s 23ms/step - loss: 1.1859 - categorical_accuracy: 0.5365\n",
      "Epoch 816/1000\n",
      "6/6 [==============================] - 0s 23ms/step - loss: 1.1818 - categorical_accuracy: 0.5365\n",
      "Epoch 817/1000\n",
      "6/6 [==============================] - 0s 23ms/step - loss: 1.1797 - categorical_accuracy: 0.5156\n",
      "Epoch 818/1000\n",
      "6/6 [==============================] - 0s 31ms/step - loss: 1.1867 - categorical_accuracy: 0.5365\n",
      "Epoch 819/1000\n",
      "6/6 [==============================] - 0s 24ms/step - loss: 1.1896 - categorical_accuracy: 0.5052\n",
      "Epoch 820/1000\n",
      "6/6 [==============================] - 0s 24ms/step - loss: 1.1889 - categorical_accuracy: 0.4948\n",
      "Epoch 821/1000\n",
      "6/6 [==============================] - 0s 24ms/step - loss: 1.1521 - categorical_accuracy: 0.5104\n",
      "Epoch 822/1000\n",
      "6/6 [==============================] - 0s 23ms/step - loss: 1.1203 - categorical_accuracy: 0.5729\n",
      "Epoch 823/1000\n",
      "6/6 [==============================] - 0s 22ms/step - loss: 1.1337 - categorical_accuracy: 0.5260\n",
      "Epoch 824/1000\n",
      "6/6 [==============================] - 0s 27ms/step - loss: 1.1497 - categorical_accuracy: 0.5208\n",
      "Epoch 825/1000\n",
      "6/6 [==============================] - 0s 23ms/step - loss: 1.1388 - categorical_accuracy: 0.5104\n",
      "Epoch 826/1000\n",
      "6/6 [==============================] - 0s 29ms/step - loss: 1.1482 - categorical_accuracy: 0.5000\n",
      "Epoch 827/1000\n",
      "6/6 [==============================] - 0s 24ms/step - loss: 1.1844 - categorical_accuracy: 0.5052\n",
      "Epoch 828/1000\n",
      "6/6 [==============================] - 0s 24ms/step - loss: 1.2050 - categorical_accuracy: 0.4844\n",
      "Epoch 829/1000\n",
      "6/6 [==============================] - 0s 24ms/step - loss: 1.1840 - categorical_accuracy: 0.5208\n",
      "Epoch 830/1000\n",
      "6/6 [==============================] - 0s 23ms/step - loss: 1.1950 - categorical_accuracy: 0.4948\n",
      "Epoch 831/1000\n",
      "6/6 [==============================] - 0s 22ms/step - loss: 1.1737 - categorical_accuracy: 0.5312\n",
      "Epoch 832/1000\n",
      "6/6 [==============================] - 0s 23ms/step - loss: 1.1427 - categorical_accuracy: 0.5156\n",
      "Epoch 833/1000\n",
      "6/6 [==============================] - 0s 23ms/step - loss: 1.1745 - categorical_accuracy: 0.5000\n",
      "Epoch 834/1000\n",
      "6/6 [==============================] - 0s 28ms/step - loss: 1.1568 - categorical_accuracy: 0.5208\n",
      "Epoch 835/1000\n",
      "6/6 [==============================] - 0s 24ms/step - loss: 1.1058 - categorical_accuracy: 0.5417\n",
      "Epoch 836/1000\n",
      "6/6 [==============================] - 0s 25ms/step - loss: 1.0871 - categorical_accuracy: 0.5417\n",
      "Epoch 837/1000\n",
      "6/6 [==============================] - 0s 23ms/step - loss: 1.0786 - categorical_accuracy: 0.5573\n",
      "Epoch 838/1000\n",
      "6/6 [==============================] - 0s 25ms/step - loss: 1.1233 - categorical_accuracy: 0.5208\n",
      "Epoch 839/1000\n",
      "6/6 [==============================] - 0s 24ms/step - loss: 1.1233 - categorical_accuracy: 0.5208\n",
      "Epoch 840/1000\n",
      "6/6 [==============================] - 0s 23ms/step - loss: 1.0845 - categorical_accuracy: 0.5521\n",
      "Epoch 841/1000\n",
      "6/6 [==============================] - 0s 25ms/step - loss: 1.1137 - categorical_accuracy: 0.5625\n",
      "Epoch 842/1000\n",
      "6/6 [==============================] - 0s 31ms/step - loss: 1.0763 - categorical_accuracy: 0.5677\n",
      "Epoch 843/1000\n",
      "6/6 [==============================] - 0s 24ms/step - loss: 1.1056 - categorical_accuracy: 0.5417\n",
      "Epoch 844/1000\n",
      "6/6 [==============================] - 0s 25ms/step - loss: 1.0957 - categorical_accuracy: 0.5417\n",
      "Epoch 845/1000\n",
      "6/6 [==============================] - 0s 24ms/step - loss: 1.0681 - categorical_accuracy: 0.5729\n",
      "Epoch 846/1000\n",
      "6/6 [==============================] - 0s 30ms/step - loss: 1.0704 - categorical_accuracy: 0.5677\n",
      "Epoch 847/1000\n",
      "6/6 [==============================] - 0s 23ms/step - loss: 1.1067 - categorical_accuracy: 0.5781\n",
      "Epoch 848/1000\n",
      "6/6 [==============================] - 0s 23ms/step - loss: 1.0842 - categorical_accuracy: 0.5573\n",
      "Epoch 849/1000\n",
      "6/6 [==============================] - 0s 22ms/step - loss: 1.0709 - categorical_accuracy: 0.5365\n",
      "Epoch 850/1000\n",
      "6/6 [==============================] - 0s 26ms/step - loss: 1.1563 - categorical_accuracy: 0.5365\n",
      "Epoch 851/1000\n",
      "6/6 [==============================] - 0s 22ms/step - loss: 1.1876 - categorical_accuracy: 0.5156\n",
      "Epoch 852/1000\n",
      "6/6 [==============================] - 0s 24ms/step - loss: 1.0915 - categorical_accuracy: 0.5521\n",
      "Epoch 853/1000\n",
      "6/6 [==============================] - 0s 25ms/step - loss: 1.0684 - categorical_accuracy: 0.5469\n",
      "Epoch 854/1000\n",
      "6/6 [==============================] - 0s 22ms/step - loss: 1.0765 - categorical_accuracy: 0.5677\n",
      "Epoch 855/1000\n",
      "6/6 [==============================] - 0s 23ms/step - loss: 1.0533 - categorical_accuracy: 0.5781\n",
      "Epoch 856/1000\n",
      "6/6 [==============================] - 0s 24ms/step - loss: 1.0699 - categorical_accuracy: 0.5417\n",
      "Epoch 857/1000\n",
      "6/6 [==============================] - 0s 24ms/step - loss: 1.0864 - categorical_accuracy: 0.5469\n",
      "Epoch 858/1000\n",
      "6/6 [==============================] - 0s 25ms/step - loss: 1.0935 - categorical_accuracy: 0.5469\n",
      "Epoch 859/1000\n",
      "6/6 [==============================] - 0s 22ms/step - loss: 1.0488 - categorical_accuracy: 0.5521\n",
      "Epoch 860/1000\n",
      "6/6 [==============================] - 0s 27ms/step - loss: 1.0662 - categorical_accuracy: 0.5365\n",
      "Epoch 861/1000\n",
      "6/6 [==============================] - 0s 22ms/step - loss: 1.1348 - categorical_accuracy: 0.5469\n",
      "Epoch 862/1000\n",
      "6/6 [==============================] - 0s 22ms/step - loss: 1.1527 - categorical_accuracy: 0.5208\n",
      "Epoch 863/1000\n",
      "6/6 [==============================] - 0s 25ms/step - loss: 1.0714 - categorical_accuracy: 0.5677\n",
      "Epoch 864/1000\n",
      "6/6 [==============================] - 0s 32ms/step - loss: 1.0995 - categorical_accuracy: 0.5312\n",
      "Epoch 865/1000\n",
      "6/6 [==============================] - 0s 31ms/step - loss: 1.1195 - categorical_accuracy: 0.5521\n",
      "Epoch 866/1000\n",
      "6/6 [==============================] - 0s 29ms/step - loss: 1.0855 - categorical_accuracy: 0.5625\n",
      "Epoch 867/1000\n",
      "6/6 [==============================] - 0s 23ms/step - loss: 1.0741 - categorical_accuracy: 0.5521\n",
      "Epoch 868/1000\n",
      "6/6 [==============================] - 0s 29ms/step - loss: 1.0756 - categorical_accuracy: 0.5729\n",
      "Epoch 869/1000\n",
      "6/6 [==============================] - 0s 24ms/step - loss: 1.0593 - categorical_accuracy: 0.5417\n",
      "Epoch 870/1000\n",
      "6/6 [==============================] - 0s 24ms/step - loss: 1.0420 - categorical_accuracy: 0.5677\n",
      "Epoch 871/1000\n",
      "6/6 [==============================] - 0s 23ms/step - loss: 1.0275 - categorical_accuracy: 0.6042\n",
      "Epoch 872/1000\n",
      "6/6 [==============================] - 0s 22ms/step - loss: 1.0233 - categorical_accuracy: 0.5885\n",
      "Epoch 873/1000\n",
      "6/6 [==============================] - 0s 24ms/step - loss: 1.0195 - categorical_accuracy: 0.5521\n",
      "Epoch 874/1000\n",
      "6/6 [==============================] - 0s 26ms/step - loss: 1.0446 - categorical_accuracy: 0.5573\n",
      "Epoch 875/1000\n",
      "6/6 [==============================] - 0s 23ms/step - loss: 0.9856 - categorical_accuracy: 0.5833\n",
      "Epoch 876/1000\n",
      "6/6 [==============================] - 0s 23ms/step - loss: 0.9929 - categorical_accuracy: 0.5990\n",
      "Epoch 877/1000\n",
      "6/6 [==============================] - 0s 23ms/step - loss: 1.1403 - categorical_accuracy: 0.5365\n",
      "Epoch 878/1000\n",
      "6/6 [==============================] - 0s 23ms/step - loss: 1.1103 - categorical_accuracy: 0.5365\n",
      "Epoch 879/1000\n",
      "6/6 [==============================] - 0s 22ms/step - loss: 1.0594 - categorical_accuracy: 0.5521\n",
      "Epoch 880/1000\n",
      "6/6 [==============================] - 0s 23ms/step - loss: 0.9975 - categorical_accuracy: 0.5833\n",
      "Epoch 881/1000\n",
      "6/6 [==============================] - 0s 22ms/step - loss: 0.9959 - categorical_accuracy: 0.5521\n",
      "Epoch 882/1000\n",
      "6/6 [==============================] - 0s 29ms/step - loss: 1.0198 - categorical_accuracy: 0.5729\n",
      "Epoch 883/1000\n",
      "6/6 [==============================] - 0s 23ms/step - loss: 1.0044 - categorical_accuracy: 0.5990\n",
      "Epoch 884/1000\n",
      "6/6 [==============================] - 0s 22ms/step - loss: 0.9802 - categorical_accuracy: 0.5885\n",
      "Epoch 885/1000\n",
      "6/6 [==============================] - 0s 22ms/step - loss: 1.0121 - categorical_accuracy: 0.5573\n",
      "Epoch 886/1000\n",
      "6/6 [==============================] - 0s 23ms/step - loss: 1.0283 - categorical_accuracy: 0.5469\n",
      "Epoch 887/1000\n",
      "6/6 [==============================] - 0s 24ms/step - loss: 1.1112 - categorical_accuracy: 0.5417\n",
      "Epoch 888/1000\n",
      "6/6 [==============================] - 0s 26ms/step - loss: 1.0705 - categorical_accuracy: 0.5417\n",
      "Epoch 889/1000\n",
      "6/6 [==============================] - 0s 22ms/step - loss: 0.9892 - categorical_accuracy: 0.5625\n",
      "Epoch 890/1000\n",
      "6/6 [==============================] - 0s 25ms/step - loss: 1.0587 - categorical_accuracy: 0.5625\n",
      "Epoch 891/1000\n",
      "6/6 [==============================] - 0s 22ms/step - loss: 1.0671 - categorical_accuracy: 0.5312\n",
      "Epoch 892/1000\n",
      "6/6 [==============================] - 0s 22ms/step - loss: 1.0684 - categorical_accuracy: 0.5260\n",
      "Epoch 893/1000\n",
      "6/6 [==============================] - 0s 23ms/step - loss: 0.9658 - categorical_accuracy: 0.6042\n",
      "Epoch 894/1000\n",
      "6/6 [==============================] - 0s 22ms/step - loss: 0.9605 - categorical_accuracy: 0.5990\n",
      "Epoch 895/1000\n",
      "6/6 [==============================] - 0s 22ms/step - loss: 0.9905 - categorical_accuracy: 0.6042\n",
      "Epoch 896/1000\n",
      "6/6 [==============================] - 0s 23ms/step - loss: 0.9325 - categorical_accuracy: 0.6198\n",
      "Epoch 897/1000\n",
      "6/6 [==============================] - 0s 22ms/step - loss: 0.9716 - categorical_accuracy: 0.6094\n",
      "Epoch 898/1000\n",
      "6/6 [==============================] - 0s 22ms/step - loss: 1.0421 - categorical_accuracy: 0.5781\n",
      "Epoch 899/1000\n",
      "6/6 [==============================] - 0s 28ms/step - loss: 1.0449 - categorical_accuracy: 0.5781\n",
      "Epoch 900/1000\n",
      "6/6 [==============================] - 0s 22ms/step - loss: 1.1483 - categorical_accuracy: 0.5365\n",
      "Epoch 901/1000\n",
      "6/6 [==============================] - 0s 22ms/step - loss: 1.1143 - categorical_accuracy: 0.5312\n",
      "Epoch 902/1000\n",
      "6/6 [==============================] - 0s 23ms/step - loss: 1.0857 - categorical_accuracy: 0.5312\n",
      "Epoch 903/1000\n",
      "6/6 [==============================] - 0s 25ms/step - loss: 0.9930 - categorical_accuracy: 0.5781\n",
      "Epoch 904/1000\n",
      "6/6 [==============================] - 0s 23ms/step - loss: 1.0009 - categorical_accuracy: 0.5677\n",
      "Epoch 905/1000\n",
      "6/6 [==============================] - 0s 23ms/step - loss: 0.9730 - categorical_accuracy: 0.5938\n",
      "Epoch 906/1000\n",
      "6/6 [==============================] - 0s 24ms/step - loss: 0.9399 - categorical_accuracy: 0.6042\n",
      "Epoch 907/1000\n",
      "6/6 [==============================] - 0s 23ms/step - loss: 0.9258 - categorical_accuracy: 0.6406\n",
      "Epoch 908/1000\n",
      "6/6 [==============================] - 0s 28ms/step - loss: 0.9165 - categorical_accuracy: 0.6302\n",
      "Epoch 909/1000\n",
      "6/6 [==============================] - 0s 25ms/step - loss: 0.9220 - categorical_accuracy: 0.6042\n",
      "Epoch 910/1000\n",
      "6/6 [==============================] - 0s 22ms/step - loss: 0.9383 - categorical_accuracy: 0.6146\n",
      "Epoch 911/1000\n",
      "6/6 [==============================] - 0s 23ms/step - loss: 0.9093 - categorical_accuracy: 0.6354\n",
      "Epoch 912/1000\n",
      "6/6 [==============================] - 0s 23ms/step - loss: 1.0914 - categorical_accuracy: 0.5990\n",
      "Epoch 913/1000\n",
      "6/6 [==============================] - 0s 22ms/step - loss: 0.9716 - categorical_accuracy: 0.5990\n",
      "Epoch 914/1000\n",
      "6/6 [==============================] - 0s 22ms/step - loss: 1.0049 - categorical_accuracy: 0.5990\n",
      "Epoch 915/1000\n",
      "6/6 [==============================] - 0s 23ms/step - loss: 1.0695 - categorical_accuracy: 0.5521\n",
      "Epoch 916/1000\n",
      "6/6 [==============================] - 0s 33ms/step - loss: 1.1893 - categorical_accuracy: 0.5156\n",
      "Epoch 917/1000\n",
      "6/6 [==============================] - 0s 27ms/step - loss: 1.1560 - categorical_accuracy: 0.5156\n",
      "Epoch 918/1000\n",
      "6/6 [==============================] - 0s 25ms/step - loss: 1.1919 - categorical_accuracy: 0.5000\n",
      "Epoch 919/1000\n",
      "6/6 [==============================] - 0s 22ms/step - loss: 1.1161 - categorical_accuracy: 0.5521\n",
      "Epoch 920/1000\n",
      "6/6 [==============================] - 0s 23ms/step - loss: 1.0974 - categorical_accuracy: 0.5469\n",
      "Epoch 921/1000\n",
      "6/6 [==============================] - 0s 23ms/step - loss: 1.0262 - categorical_accuracy: 0.5677\n",
      "Epoch 922/1000\n",
      "6/6 [==============================] - 0s 22ms/step - loss: 1.0696 - categorical_accuracy: 0.5469\n",
      "Epoch 923/1000\n",
      "6/6 [==============================] - 0s 29ms/step - loss: 1.0017 - categorical_accuracy: 0.5729\n",
      "Epoch 924/1000\n",
      "6/6 [==============================] - 0s 22ms/step - loss: 1.0124 - categorical_accuracy: 0.6094\n",
      "Epoch 925/1000\n",
      "6/6 [==============================] - 0s 24ms/step - loss: 0.9776 - categorical_accuracy: 0.5833\n",
      "Epoch 926/1000\n",
      "6/6 [==============================] - 0s 22ms/step - loss: 0.9550 - categorical_accuracy: 0.6042\n",
      "Epoch 927/1000\n",
      "6/6 [==============================] - 0s 24ms/step - loss: 0.9273 - categorical_accuracy: 0.6198\n",
      "Epoch 928/1000\n",
      "6/6 [==============================] - 0s 22ms/step - loss: 0.9719 - categorical_accuracy: 0.5938\n",
      "Epoch 929/1000\n",
      "6/6 [==============================] - 0s 22ms/step - loss: 0.9856 - categorical_accuracy: 0.6146\n",
      "Epoch 930/1000\n",
      "6/6 [==============================] - 0s 27ms/step - loss: 1.1336 - categorical_accuracy: 0.5365\n",
      "Epoch 931/1000\n",
      "6/6 [==============================] - 0s 23ms/step - loss: 1.0568 - categorical_accuracy: 0.5833\n",
      "Epoch 932/1000\n",
      "6/6 [==============================] - 0s 23ms/step - loss: 1.0402 - categorical_accuracy: 0.5365\n",
      "Epoch 933/1000\n",
      "6/6 [==============================] - 0s 23ms/step - loss: 1.0221 - categorical_accuracy: 0.5729\n",
      "Epoch 934/1000\n",
      "6/6 [==============================] - 0s 23ms/step - loss: 1.2303 - categorical_accuracy: 0.5365\n",
      "Epoch 935/1000\n",
      "6/6 [==============================] - 0s 22ms/step - loss: 1.5661 - categorical_accuracy: 0.4010\n",
      "Epoch 936/1000\n",
      "6/6 [==============================] - 0s 22ms/step - loss: 1.6641 - categorical_accuracy: 0.3698\n",
      "Epoch 937/1000\n",
      "6/6 [==============================] - 0s 25ms/step - loss: 1.5546 - categorical_accuracy: 0.3854\n",
      "Epoch 938/1000\n",
      "6/6 [==============================] - 0s 24ms/step - loss: 1.5963 - categorical_accuracy: 0.3594\n",
      "Epoch 939/1000\n",
      "6/6 [==============================] - 0s 22ms/step - loss: 1.5095 - categorical_accuracy: 0.3906\n",
      "Epoch 940/1000\n",
      "6/6 [==============================] - 0s 23ms/step - loss: 1.4460 - categorical_accuracy: 0.3906\n",
      "Epoch 941/1000\n",
      "6/6 [==============================] - 0s 22ms/step - loss: 1.4448 - categorical_accuracy: 0.3698\n",
      "Epoch 942/1000\n",
      "6/6 [==============================] - 0s 22ms/step - loss: 1.4294 - categorical_accuracy: 0.4010\n",
      "Epoch 943/1000\n",
      "6/6 [==============================] - 0s 22ms/step - loss: 1.4104 - categorical_accuracy: 0.3906\n",
      "Epoch 944/1000\n",
      "6/6 [==============================] - 0s 23ms/step - loss: 1.3999 - categorical_accuracy: 0.3958\n",
      "Epoch 945/1000\n",
      "6/6 [==============================] - 0s 27ms/step - loss: 1.4065 - categorical_accuracy: 0.3802\n",
      "Epoch 946/1000\n",
      "6/6 [==============================] - 0s 24ms/step - loss: 1.3917 - categorical_accuracy: 0.3906\n",
      "Epoch 947/1000\n",
      "6/6 [==============================] - 0s 22ms/step - loss: 1.3825 - categorical_accuracy: 0.3906\n",
      "Epoch 948/1000\n",
      "6/6 [==============================] - 0s 22ms/step - loss: 1.3894 - categorical_accuracy: 0.3958\n",
      "Epoch 949/1000\n",
      "6/6 [==============================] - 0s 23ms/step - loss: 1.3838 - categorical_accuracy: 0.4167\n",
      "Epoch 950/1000\n",
      "6/6 [==============================] - 0s 22ms/step - loss: 1.3816 - categorical_accuracy: 0.4271\n",
      "Epoch 951/1000\n",
      "6/6 [==============================] - 0s 22ms/step - loss: 1.3658 - categorical_accuracy: 0.4375\n",
      "Epoch 952/1000\n",
      "6/6 [==============================] - 0s 22ms/step - loss: 1.3605 - categorical_accuracy: 0.4062\n",
      "Epoch 953/1000\n",
      "6/6 [==============================] - 0s 23ms/step - loss: 1.3392 - categorical_accuracy: 0.4115\n",
      "Epoch 954/1000\n",
      "6/6 [==============================] - 0s 22ms/step - loss: 1.3301 - categorical_accuracy: 0.4323\n",
      "Epoch 955/1000\n",
      "6/6 [==============================] - 0s 22ms/step - loss: 1.3167 - categorical_accuracy: 0.4271\n",
      "Epoch 956/1000\n",
      "6/6 [==============================] - 0s 22ms/step - loss: 1.3047 - categorical_accuracy: 0.4375\n",
      "Epoch 957/1000\n",
      "6/6 [==============================] - 0s 22ms/step - loss: 1.3008 - categorical_accuracy: 0.4375\n",
      "Epoch 958/1000\n",
      "6/6 [==============================] - 0s 22ms/step - loss: 1.2856 - categorical_accuracy: 0.4583\n",
      "Epoch 959/1000\n",
      "6/6 [==============================] - 0s 27ms/step - loss: 1.2680 - categorical_accuracy: 0.4896\n",
      "Epoch 960/1000\n",
      "6/6 [==============================] - 0s 29ms/step - loss: 1.2619 - categorical_accuracy: 0.4635\n",
      "Epoch 961/1000\n",
      "6/6 [==============================] - 0s 33ms/step - loss: 1.2463 - categorical_accuracy: 0.4896\n",
      "Epoch 962/1000\n",
      "6/6 [==============================] - 0s 22ms/step - loss: 1.2180 - categorical_accuracy: 0.4844\n",
      "Epoch 963/1000\n",
      "6/6 [==============================] - 0s 22ms/step - loss: 1.2090 - categorical_accuracy: 0.5000\n",
      "Epoch 964/1000\n",
      "6/6 [==============================] - 0s 22ms/step - loss: 1.2295 - categorical_accuracy: 0.4740\n",
      "Epoch 965/1000\n",
      "6/6 [==============================] - 0s 23ms/step - loss: 1.2141 - categorical_accuracy: 0.4792\n",
      "Epoch 966/1000\n",
      "6/6 [==============================] - 0s 23ms/step - loss: 1.1861 - categorical_accuracy: 0.5000\n",
      "Epoch 967/1000\n",
      "6/6 [==============================] - 0s 28ms/step - loss: 1.2114 - categorical_accuracy: 0.4792\n",
      "Epoch 968/1000\n",
      "6/6 [==============================] - 0s 22ms/step - loss: 1.2802 - categorical_accuracy: 0.4271\n",
      "Epoch 969/1000\n",
      "6/6 [==============================] - 0s 22ms/step - loss: 1.2259 - categorical_accuracy: 0.4688\n",
      "Epoch 970/1000\n",
      "6/6 [==============================] - 0s 22ms/step - loss: 1.2595 - categorical_accuracy: 0.4740\n",
      "Epoch 971/1000\n",
      "6/6 [==============================] - 0s 23ms/step - loss: 1.2635 - categorical_accuracy: 0.4583\n",
      "Epoch 972/1000\n",
      "6/6 [==============================] - 0s 22ms/step - loss: 1.2175 - categorical_accuracy: 0.4948\n",
      "Epoch 973/1000\n",
      "6/6 [==============================] - 0s 22ms/step - loss: 1.2307 - categorical_accuracy: 0.4635\n",
      "Epoch 974/1000\n",
      "6/6 [==============================] - 0s 27ms/step - loss: 1.2564 - categorical_accuracy: 0.4740\n",
      "Epoch 975/1000\n",
      "6/6 [==============================] - 0s 25ms/step - loss: 1.2506 - categorical_accuracy: 0.4844\n",
      "Epoch 976/1000\n",
      "6/6 [==============================] - 0s 30ms/step - loss: 1.1630 - categorical_accuracy: 0.4948\n",
      "Epoch 977/1000\n",
      "6/6 [==============================] - 0s 36ms/step - loss: 1.1357 - categorical_accuracy: 0.5156\n",
      "Epoch 978/1000\n",
      "6/6 [==============================] - 0s 30ms/step - loss: 1.1085 - categorical_accuracy: 0.5104\n",
      "Epoch 979/1000\n",
      "6/6 [==============================] - 0s 27ms/step - loss: 1.1150 - categorical_accuracy: 0.5417\n",
      "Epoch 980/1000\n",
      "6/6 [==============================] - 0s 26ms/step - loss: 1.0811 - categorical_accuracy: 0.5521\n",
      "Epoch 981/1000\n",
      "6/6 [==============================] - 0s 29ms/step - loss: 1.1132 - categorical_accuracy: 0.5417\n",
      "Epoch 982/1000\n",
      "6/6 [==============================] - 0s 23ms/step - loss: 1.0803 - categorical_accuracy: 0.5469\n",
      "Epoch 983/1000\n",
      "6/6 [==============================] - 0s 25ms/step - loss: 1.0565 - categorical_accuracy: 0.5781\n",
      "Epoch 984/1000\n",
      "6/6 [==============================] - 0s 24ms/step - loss: 1.0631 - categorical_accuracy: 0.5573\n",
      "Epoch 985/1000\n",
      "6/6 [==============================] - 0s 24ms/step - loss: 1.0702 - categorical_accuracy: 0.5260\n",
      "Epoch 986/1000\n",
      "6/6 [==============================] - 0s 23ms/step - loss: 1.1086 - categorical_accuracy: 0.5312\n",
      "Epoch 987/1000\n",
      "6/6 [==============================] - 0s 22ms/step - loss: 1.0462 - categorical_accuracy: 0.5469\n",
      "Epoch 988/1000\n",
      "6/6 [==============================] - 0s 30ms/step - loss: 1.1005 - categorical_accuracy: 0.5208\n",
      "Epoch 989/1000\n",
      "6/6 [==============================] - 0s 23ms/step - loss: 1.0485 - categorical_accuracy: 0.5312\n",
      "Epoch 990/1000\n",
      "6/6 [==============================] - 0s 24ms/step - loss: 1.0394 - categorical_accuracy: 0.5625\n",
      "Epoch 991/1000\n",
      "6/6 [==============================] - 0s 22ms/step - loss: 1.0365 - categorical_accuracy: 0.5677\n",
      "Epoch 992/1000\n",
      "6/6 [==============================] - 0s 23ms/step - loss: 1.0470 - categorical_accuracy: 0.5521\n",
      "Epoch 993/1000\n",
      "6/6 [==============================] - 0s 22ms/step - loss: 1.1428 - categorical_accuracy: 0.5104\n",
      "Epoch 994/1000\n",
      "6/6 [==============================] - 0s 22ms/step - loss: 1.0411 - categorical_accuracy: 0.5990\n",
      "Epoch 995/1000\n",
      "6/6 [==============================] - 0s 28ms/step - loss: 1.0423 - categorical_accuracy: 0.5781\n",
      "Epoch 996/1000\n",
      "6/6 [==============================] - 0s 22ms/step - loss: 1.0452 - categorical_accuracy: 0.5469\n",
      "Epoch 997/1000\n",
      "6/6 [==============================] - 0s 22ms/step - loss: 1.0540 - categorical_accuracy: 0.5365\n",
      "Epoch 998/1000\n",
      "6/6 [==============================] - 0s 22ms/step - loss: 1.1848 - categorical_accuracy: 0.4948\n",
      "Epoch 999/1000\n",
      "6/6 [==============================] - 0s 22ms/step - loss: 1.2794 - categorical_accuracy: 0.4792\n",
      "Epoch 1000/1000\n",
      "6/6 [==============================] - 0s 23ms/step - loss: 1.3204 - categorical_accuracy: 0.4531\n"
     ]
    },
    {
     "data": {
      "text/plain": [
       "<keras.src.callbacks.History at 0x7f7464419000>"
      ]
     },
     "execution_count": 23,
     "metadata": {},
     "output_type": "execute_result"
    }
   ],
   "source": [
    "model.fit(X_train, y_train, epochs=1000, callbacks=[tb_callback])"
   ]
  },
  {
   "cell_type": "code",
   "execution_count": 24,
   "metadata": {},
   "outputs": [
    {
     "name": "stdout",
     "output_type": "stream",
     "text": [
      "2/2 [==============================] - 1s 53ms/step\n"
     ]
    }
   ],
   "source": [
    "res = model.predict(X_test)"
   ]
  },
  {
   "cell_type": "code",
   "execution_count": 48,
   "metadata": {},
   "outputs": [
    {
     "data": {
      "text/plain": [
       "'sitting'"
      ]
     },
     "execution_count": 48,
     "metadata": {},
     "output_type": "execute_result"
    }
   ],
   "source": [
    "actions[np.argmax(res[3])]"
   ]
  },
  {
   "cell_type": "code",
   "execution_count": 49,
   "metadata": {},
   "outputs": [
    {
     "data": {
      "text/plain": [
       "'sitting'"
      ]
     },
     "execution_count": 49,
     "metadata": {},
     "output_type": "execute_result"
    }
   ],
   "source": [
    "actions[np.argmax(y_test[3])]"
   ]
  },
  {
   "cell_type": "code",
   "execution_count": 50,
   "metadata": {},
   "outputs": [],
   "source": [
    "model.save('action.h5')"
   ]
  },
  {
   "cell_type": "code",
   "execution_count": 51,
   "metadata": {},
   "outputs": [],
   "source": [
    "model.load_weights('action.h5')"
   ]
  },
  {
   "cell_type": "code",
   "execution_count": 30,
   "metadata": {},
   "outputs": [],
   "source": [
    "colors = [(245,117,16), (117,245,16), (16,117,245)]\n",
    "def prob_viz(res, actions, input_frame, colors):\n",
    "    output_frame = input_frame.copy()\n",
    "    for num, prob in enumerate(res):\n",
    "        cv2.rectangle(output_frame, (0,60+num*40), (int(prob*100), 90+num*40), colors[num], -1)\n",
    "        cv2.putText(output_frame, actions[num], (0, 85+num*40), cv2.FONT_HERSHEY_SIMPLEX, 1, (255,255,255), 2, cv2.LINE_AA)\n",
    "        \n",
    "    return output_frame"
   ]
  },
  {
   "cell_type": "code",
   "execution_count": 32,
   "metadata": {},
   "outputs": [
    {
     "name": "stderr",
     "output_type": "stream",
     "text": [
      "\n"
     ]
    },
    {
     "name": "stderr",
     "output_type": "stream",
     "text": [
      "0: 384x640 1 person, 50.8ms\n",
      "Speed: 2.2ms preprocess, 50.8ms inference, 0.8ms postprocess per image at shape (1, 3, 384, 640)\n",
      "\n",
      "0: 384x640 1 person, 51.4ms\n",
      "Speed: 1.9ms preprocess, 51.4ms inference, 1.1ms postprocess per image at shape (1, 3, 384, 640)\n",
      "\n",
      "0: 384x640 1 person, 46.5ms\n",
      "Speed: 1.5ms preprocess, 46.5ms inference, 0.7ms postprocess per image at shape (1, 3, 384, 640)\n",
      "\n",
      "0: 384x640 1 person, 47.1ms\n",
      "Speed: 1.5ms preprocess, 47.1ms inference, 0.8ms postprocess per image at shape (1, 3, 384, 640)\n",
      "\n",
      "0: 384x640 1 person, 62.6ms\n",
      "Speed: 2.3ms preprocess, 62.6ms inference, 1.1ms postprocess per image at shape (1, 3, 384, 640)\n",
      "\n",
      "0: 384x640 1 person, 32.0ms\n",
      "Speed: 1.8ms preprocess, 32.0ms inference, 0.6ms postprocess per image at shape (1, 3, 384, 640)\n",
      "\n",
      "0: 384x640 1 person, 33.3ms\n",
      "Speed: 1.5ms preprocess, 33.3ms inference, 0.6ms postprocess per image at shape (1, 3, 384, 640)\n",
      "\n",
      "0: 384x640 1 person, 49.6ms\n",
      "Speed: 1.6ms preprocess, 49.6ms inference, 0.7ms postprocess per image at shape (1, 3, 384, 640)\n",
      "\n",
      "0: 384x640 1 person, 48.9ms\n",
      "Speed: 1.6ms preprocess, 48.9ms inference, 0.8ms postprocess per image at shape (1, 3, 384, 640)\n",
      "\n",
      "0: 384x640 1 person, 47.0ms\n",
      "Speed: 1.4ms preprocess, 47.0ms inference, 0.6ms postprocess per image at shape (1, 3, 384, 640)\n",
      "\n",
      "0: 384x640 1 person, 33.4ms\n",
      "Speed: 1.9ms preprocess, 33.4ms inference, 0.6ms postprocess per image at shape (1, 3, 384, 640)\n",
      "\n",
      "0: 384x640 1 person, 48.0ms\n",
      "Speed: 1.4ms preprocess, 48.0ms inference, 0.7ms postprocess per image at shape (1, 3, 384, 640)\n",
      "\n",
      "0: 384x640 1 person, 42.6ms\n",
      "Speed: 2.4ms preprocess, 42.6ms inference, 0.6ms postprocess per image at shape (1, 3, 384, 640)\n",
      "\n",
      "0: 384x640 1 person, 33.0ms\n",
      "Speed: 1.8ms preprocess, 33.0ms inference, 0.6ms postprocess per image at shape (1, 3, 384, 640)\n",
      "\n",
      "0: 384x640 2 persons, 49.3ms\n",
      "Speed: 1.3ms preprocess, 49.3ms inference, 0.7ms postprocess per image at shape (1, 3, 384, 640)\n",
      "\n",
      "0: 384x640 2 persons, 48.8ms\n",
      "Speed: 1.4ms preprocess, 48.8ms inference, 0.7ms postprocess per image at shape (1, 3, 384, 640)\n",
      "\n",
      "0: 384x640 1 person, 47.6ms\n",
      "Speed: 1.8ms preprocess, 47.6ms inference, 0.8ms postprocess per image at shape (1, 3, 384, 640)\n",
      "\n",
      "0: 384x640 1 person, 47.2ms\n",
      "Speed: 1.5ms preprocess, 47.2ms inference, 0.7ms postprocess per image at shape (1, 3, 384, 640)\n",
      "\n",
      "0: 384x640 1 person, 31.5ms\n",
      "Speed: 1.6ms preprocess, 31.5ms inference, 0.7ms postprocess per image at shape (1, 3, 384, 640)\n",
      "\n",
      "0: 384x640 1 person, 30.8ms\n",
      "Speed: 1.4ms preprocess, 30.8ms inference, 0.7ms postprocess per image at shape (1, 3, 384, 640)\n",
      "\n",
      "0: 384x640 1 person, 31.1ms\n",
      "Speed: 1.6ms preprocess, 31.1ms inference, 0.7ms postprocess per image at shape (1, 3, 384, 640)\n",
      "\n",
      "0: 384x640 1 person, 44.7ms\n",
      "Speed: 1.5ms preprocess, 44.7ms inference, 0.8ms postprocess per image at shape (1, 3, 384, 640)\n",
      "\n",
      "0: 384x640 1 person, 29.6ms\n",
      "Speed: 1.3ms preprocess, 29.6ms inference, 0.6ms postprocess per image at shape (1, 3, 384, 640)\n",
      "\n",
      "0: 384x640 1 person, 30.1ms\n",
      "Speed: 2.3ms preprocess, 30.1ms inference, 0.7ms postprocess per image at shape (1, 3, 384, 640)\n",
      "\n",
      "0: 384x640 1 person, 47.2ms\n",
      "Speed: 1.6ms preprocess, 47.2ms inference, 0.7ms postprocess per image at shape (1, 3, 384, 640)\n",
      "\n",
      "0: 384x640 1 person, 45.8ms\n",
      "Speed: 1.4ms preprocess, 45.8ms inference, 0.7ms postprocess per image at shape (1, 3, 384, 640)\n",
      "\n",
      "0: 384x640 1 person, 44.0ms\n",
      "Speed: 1.9ms preprocess, 44.0ms inference, 0.6ms postprocess per image at shape (1, 3, 384, 640)\n",
      "\n",
      "0: 384x640 1 person, 45.5ms\n",
      "Speed: 1.8ms preprocess, 45.5ms inference, 0.7ms postprocess per image at shape (1, 3, 384, 640)\n",
      "\n",
      "0: 384x640 1 person, 32.9ms\n",
      "Speed: 1.6ms preprocess, 32.9ms inference, 0.7ms postprocess per image at shape (1, 3, 384, 640)\n",
      "\n",
      "0: 384x640 1 person, 33.6ms\n",
      "Speed: 1.6ms preprocess, 33.6ms inference, 0.9ms postprocess per image at shape (1, 3, 384, 640)\n"
     ]
    },
    {
     "name": "stdout",
     "output_type": "stream",
     "text": [
      "1/1 [==============================] - 0s 15ms/step\n"
     ]
    },
    {
     "name": "stderr",
     "output_type": "stream",
     "text": [
      "\n",
      "0: 384x640 1 person, 36.4ms\n",
      "Speed: 1.4ms preprocess, 36.4ms inference, 0.6ms postprocess per image at shape (1, 3, 384, 640)\n"
     ]
    },
    {
     "name": "stdout",
     "output_type": "stream",
     "text": [
      "barbell biceps curl\n",
      "1/1 [==============================] - 0s 15ms/step\n"
     ]
    },
    {
     "name": "stderr",
     "output_type": "stream",
     "text": [
      "\n",
      "0: 384x640 1 person, 45.8ms\n",
      "Speed: 1.7ms preprocess, 45.8ms inference, 0.8ms postprocess per image at shape (1, 3, 384, 640)\n"
     ]
    },
    {
     "name": "stdout",
     "output_type": "stream",
     "text": [
      "barbell biceps curl\n",
      "1/1 [==============================] - 0s 16ms/step\n"
     ]
    },
    {
     "name": "stderr",
     "output_type": "stream",
     "text": [
      "\n",
      "0: 384x640 1 person, 47.9ms\n",
      "Speed: 1.5ms preprocess, 47.9ms inference, 0.7ms postprocess per image at shape (1, 3, 384, 640)\n"
     ]
    },
    {
     "name": "stdout",
     "output_type": "stream",
     "text": [
      "barbell biceps curl\n",
      "1/1 [==============================] - 0s 14ms/step\n"
     ]
    },
    {
     "name": "stderr",
     "output_type": "stream",
     "text": [
      "\n",
      "0: 384x640 1 person, 46.2ms\n",
      "Speed: 1.2ms preprocess, 46.2ms inference, 0.7ms postprocess per image at shape (1, 3, 384, 640)\n"
     ]
    },
    {
     "name": "stdout",
     "output_type": "stream",
     "text": [
      "barbell biceps curl\n",
      "1/1 [==============================] - 0s 15ms/step\n"
     ]
    },
    {
     "name": "stderr",
     "output_type": "stream",
     "text": [
      "\n",
      "0: 384x640 1 person, 46.8ms\n",
      "Speed: 1.2ms preprocess, 46.8ms inference, 0.8ms postprocess per image at shape (1, 3, 384, 640)\n"
     ]
    },
    {
     "name": "stdout",
     "output_type": "stream",
     "text": [
      "barbell biceps curl\n",
      "1/1 [==============================] - 0s 15ms/step\n"
     ]
    },
    {
     "name": "stderr",
     "output_type": "stream",
     "text": [
      "\n",
      "0: 384x640 1 person, 30.3ms\n",
      "Speed: 1.3ms preprocess, 30.3ms inference, 0.7ms postprocess per image at shape (1, 3, 384, 640)\n"
     ]
    },
    {
     "name": "stdout",
     "output_type": "stream",
     "text": [
      "barbell biceps curl\n",
      "1/1 [==============================] - 0s 15ms/step\n"
     ]
    },
    {
     "name": "stderr",
     "output_type": "stream",
     "text": [
      "\n",
      "0: 384x640 1 person, 44.0ms\n",
      "Speed: 1.3ms preprocess, 44.0ms inference, 0.7ms postprocess per image at shape (1, 3, 384, 640)\n"
     ]
    },
    {
     "name": "stdout",
     "output_type": "stream",
     "text": [
      "barbell biceps curl\n",
      "1/1 [==============================] - 0s 17ms/step\n"
     ]
    },
    {
     "name": "stderr",
     "output_type": "stream",
     "text": [
      "\n",
      "0: 384x640 1 person, 46.6ms\n",
      "Speed: 1.4ms preprocess, 46.6ms inference, 0.7ms postprocess per image at shape (1, 3, 384, 640)\n"
     ]
    },
    {
     "name": "stdout",
     "output_type": "stream",
     "text": [
      "barbell biceps curl\n",
      "1/1 [==============================] - 0s 16ms/step\n"
     ]
    },
    {
     "name": "stderr",
     "output_type": "stream",
     "text": [
      "\n",
      "0: 384x640 1 person, 43.2ms\n",
      "Speed: 1.6ms preprocess, 43.2ms inference, 0.7ms postprocess per image at shape (1, 3, 384, 640)\n"
     ]
    },
    {
     "name": "stdout",
     "output_type": "stream",
     "text": [
      "barbell biceps curl\n",
      "1/1 [==============================] - 0s 15ms/step\n"
     ]
    },
    {
     "name": "stderr",
     "output_type": "stream",
     "text": [
      "\n",
      "0: 384x640 1 person, 45.9ms\n",
      "Speed: 1.5ms preprocess, 45.9ms inference, 0.7ms postprocess per image at shape (1, 3, 384, 640)\n"
     ]
    },
    {
     "name": "stdout",
     "output_type": "stream",
     "text": [
      "barbell biceps curl\n",
      "1/1 [==============================] - 0s 15ms/step\n"
     ]
    },
    {
     "name": "stderr",
     "output_type": "stream",
     "text": [
      "\n",
      "0: 384x640 1 person, 45.4ms\n",
      "Speed: 2.0ms preprocess, 45.4ms inference, 0.6ms postprocess per image at shape (1, 3, 384, 640)\n"
     ]
    },
    {
     "name": "stdout",
     "output_type": "stream",
     "text": [
      "barbell biceps curl\n",
      "1/1 [==============================] - 0s 15ms/step\n"
     ]
    },
    {
     "name": "stderr",
     "output_type": "stream",
     "text": [
      "\n"
     ]
    },
    {
     "name": "stdout",
     "output_type": "stream",
     "text": [
      "barbell biceps curl\n"
     ]
    },
    {
     "name": "stderr",
     "output_type": "stream",
     "text": [
      "0: 384x640 1 person, 52.2ms\n",
      "Speed: 1.4ms preprocess, 52.2ms inference, 0.6ms postprocess per image at shape (1, 3, 384, 640)\n"
     ]
    },
    {
     "name": "stdout",
     "output_type": "stream",
     "text": [
      "1/1 [==============================] - 0s 25ms/step\n"
     ]
    },
    {
     "name": "stderr",
     "output_type": "stream",
     "text": [
      "\n"
     ]
    },
    {
     "name": "stdout",
     "output_type": "stream",
     "text": [
      "barbell biceps curl\n"
     ]
    },
    {
     "name": "stderr",
     "output_type": "stream",
     "text": [
      "0: 384x640 1 person, 55.3ms\n",
      "Speed: 2.7ms preprocess, 55.3ms inference, 0.8ms postprocess per image at shape (1, 3, 384, 640)\n"
     ]
    },
    {
     "name": "stdout",
     "output_type": "stream",
     "text": [
      "1/1 [==============================] - 0s 17ms/step\n"
     ]
    },
    {
     "name": "stderr",
     "output_type": "stream",
     "text": [
      "\n"
     ]
    },
    {
     "name": "stdout",
     "output_type": "stream",
     "text": [
      "barbell biceps curl\n"
     ]
    },
    {
     "name": "stderr",
     "output_type": "stream",
     "text": [
      "0: 384x640 1 person, 50.5ms\n",
      "Speed: 1.5ms preprocess, 50.5ms inference, 1.6ms postprocess per image at shape (1, 3, 384, 640)\n"
     ]
    },
    {
     "name": "stdout",
     "output_type": "stream",
     "text": [
      "1/1 [==============================] - 0s 16ms/step\n"
     ]
    },
    {
     "name": "stderr",
     "output_type": "stream",
     "text": [
      "\n",
      "0: 384x640 1 person, 36.3ms\n",
      "Speed: 2.0ms preprocess, 36.3ms inference, 0.7ms postprocess per image at shape (1, 3, 384, 640)\n"
     ]
    },
    {
     "name": "stdout",
     "output_type": "stream",
     "text": [
      "barbell biceps curl\n",
      "1/1 [==============================] - 0s 18ms/step\n"
     ]
    },
    {
     "name": "stderr",
     "output_type": "stream",
     "text": [
      "\n",
      "0: 384x640 1 person, 47.6ms\n",
      "Speed: 1.4ms preprocess, 47.6ms inference, 0.7ms postprocess per image at shape (1, 3, 384, 640)\n"
     ]
    },
    {
     "name": "stdout",
     "output_type": "stream",
     "text": [
      "barbell biceps curl\n",
      "1/1 [==============================] - 0s 17ms/step\n"
     ]
    },
    {
     "name": "stderr",
     "output_type": "stream",
     "text": [
      "\n",
      "0: 384x640 1 person, 36.1ms\n",
      "Speed: 1.6ms preprocess, 36.1ms inference, 0.9ms postprocess per image at shape (1, 3, 384, 640)\n"
     ]
    },
    {
     "name": "stdout",
     "output_type": "stream",
     "text": [
      "barbell biceps curl\n",
      "1/1 [==============================] - 0s 33ms/step\n"
     ]
    },
    {
     "name": "stderr",
     "output_type": "stream",
     "text": [
      "\n"
     ]
    },
    {
     "name": "stdout",
     "output_type": "stream",
     "text": [
      "barbell biceps curl\n"
     ]
    },
    {
     "name": "stderr",
     "output_type": "stream",
     "text": [
      "0: 384x640 1 person, 56.0ms\n",
      "Speed: 9.0ms preprocess, 56.0ms inference, 0.8ms postprocess per image at shape (1, 3, 384, 640)\n"
     ]
    },
    {
     "name": "stdout",
     "output_type": "stream",
     "text": [
      "1/1 [==============================] - 0s 16ms/step\n"
     ]
    },
    {
     "name": "stderr",
     "output_type": "stream",
     "text": [
      "\n"
     ]
    },
    {
     "name": "stdout",
     "output_type": "stream",
     "text": [
      "barbell biceps curl\n"
     ]
    },
    {
     "name": "stderr",
     "output_type": "stream",
     "text": [
      "0: 384x640 1 person, 46.8ms\n",
      "Speed: 2.3ms preprocess, 46.8ms inference, 0.7ms postprocess per image at shape (1, 3, 384, 640)\n"
     ]
    },
    {
     "name": "stdout",
     "output_type": "stream",
     "text": [
      "1/1 [==============================] - 0s 25ms/step\n"
     ]
    },
    {
     "name": "stderr",
     "output_type": "stream",
     "text": [
      "\n"
     ]
    },
    {
     "name": "stdout",
     "output_type": "stream",
     "text": [
      "barbell biceps curl\n"
     ]
    },
    {
     "name": "stderr",
     "output_type": "stream",
     "text": [
      "0: 384x640 1 person, 51.2ms\n",
      "Speed: 3.0ms preprocess, 51.2ms inference, 8.7ms postprocess per image at shape (1, 3, 384, 640)\n"
     ]
    },
    {
     "name": "stdout",
     "output_type": "stream",
     "text": [
      "1/1 [==============================] - 0s 27ms/step\n"
     ]
    },
    {
     "name": "stderr",
     "output_type": "stream",
     "text": [
      "\n"
     ]
    },
    {
     "name": "stdout",
     "output_type": "stream",
     "text": [
      "barbell biceps curl\n"
     ]
    },
    {
     "name": "stderr",
     "output_type": "stream",
     "text": [
      "0: 384x640 1 person, 91.8ms\n",
      "Speed: 5.1ms preprocess, 91.8ms inference, 0.7ms postprocess per image at shape (1, 3, 384, 640)\n"
     ]
    },
    {
     "name": "stdout",
     "output_type": "stream",
     "text": [
      "1/1 [==============================] - 0s 19ms/step\n",
      "barbell biceps curl\n"
     ]
    },
    {
     "name": "stderr",
     "output_type": "stream",
     "text": [
      "\n",
      "0: 384x640 1 person, 50.9ms\n",
      "Speed: 3.0ms preprocess, 50.9ms inference, 0.7ms postprocess per image at shape (1, 3, 384, 640)\n"
     ]
    },
    {
     "name": "stdout",
     "output_type": "stream",
     "text": [
      "1/1 [==============================] - 0s 16ms/step\n"
     ]
    },
    {
     "name": "stderr",
     "output_type": "stream",
     "text": [
      "\n"
     ]
    },
    {
     "name": "stdout",
     "output_type": "stream",
     "text": [
      "barbell biceps curl\n"
     ]
    },
    {
     "name": "stderr",
     "output_type": "stream",
     "text": [
      "0: 384x640 1 person, 54.2ms\n",
      "Speed: 1.3ms preprocess, 54.2ms inference, 0.8ms postprocess per image at shape (1, 3, 384, 640)\n"
     ]
    },
    {
     "name": "stdout",
     "output_type": "stream",
     "text": [
      "1/1 [==============================] - 0s 18ms/step\n"
     ]
    },
    {
     "name": "stderr",
     "output_type": "stream",
     "text": [
      "\n"
     ]
    },
    {
     "name": "stdout",
     "output_type": "stream",
     "text": [
      "barbell biceps curl\n"
     ]
    },
    {
     "name": "stderr",
     "output_type": "stream",
     "text": [
      "0: 384x640 1 person, 100.3ms\n",
      "Speed: 2.2ms preprocess, 100.3ms inference, 1.0ms postprocess per image at shape (1, 3, 384, 640)\n"
     ]
    },
    {
     "name": "stdout",
     "output_type": "stream",
     "text": [
      "1/1 [==============================] - 0s 18ms/step\n"
     ]
    },
    {
     "name": "stderr",
     "output_type": "stream",
     "text": [
      "\n"
     ]
    },
    {
     "name": "stdout",
     "output_type": "stream",
     "text": [
      "barbell biceps curl\n"
     ]
    },
    {
     "name": "stderr",
     "output_type": "stream",
     "text": [
      "0: 384x640 1 person, 55.7ms\n",
      "Speed: 1.4ms preprocess, 55.7ms inference, 0.8ms postprocess per image at shape (1, 3, 384, 640)\n"
     ]
    },
    {
     "name": "stdout",
     "output_type": "stream",
     "text": [
      "1/1 [==============================] - 0s 17ms/step\n"
     ]
    },
    {
     "name": "stderr",
     "output_type": "stream",
     "text": [
      "\n",
      "0: 384x640 1 person, 36.2ms\n",
      "Speed: 1.4ms preprocess, 36.2ms inference, 0.6ms postprocess per image at shape (1, 3, 384, 640)\n"
     ]
    },
    {
     "name": "stdout",
     "output_type": "stream",
     "text": [
      "barbell biceps curl\n",
      "1/1 [==============================] - 0s 17ms/step\n"
     ]
    },
    {
     "name": "stderr",
     "output_type": "stream",
     "text": [
      "\n",
      "0: 384x640 1 person, 47.0ms\n",
      "Speed: 1.3ms preprocess, 47.0ms inference, 0.8ms postprocess per image at shape (1, 3, 384, 640)\n"
     ]
    },
    {
     "name": "stdout",
     "output_type": "stream",
     "text": [
      "barbell biceps curl\n",
      "1/1 [==============================] - 0s 18ms/step\n"
     ]
    },
    {
     "name": "stderr",
     "output_type": "stream",
     "text": [
      "\n",
      "0: 384x640 1 person, 36.9ms\n",
      "Speed: 1.7ms preprocess, 36.9ms inference, 0.9ms postprocess per image at shape (1, 3, 384, 640)\n"
     ]
    },
    {
     "name": "stdout",
     "output_type": "stream",
     "text": [
      "barbell biceps curl\n",
      "1/1 [==============================] - 0s 17ms/step\n"
     ]
    },
    {
     "name": "stderr",
     "output_type": "stream",
     "text": [
      "\n",
      "0: 384x640 1 person, 52.9ms\n",
      "Speed: 1.3ms preprocess, 52.9ms inference, 0.8ms postprocess per image at shape (1, 3, 384, 640)\n"
     ]
    },
    {
     "name": "stdout",
     "output_type": "stream",
     "text": [
      "barbell biceps curl\n",
      "1/1 [==============================] - 0s 17ms/step\n"
     ]
    },
    {
     "name": "stderr",
     "output_type": "stream",
     "text": [
      "\n",
      "0: 384x640 1 person, 36.9ms\n",
      "Speed: 1.3ms preprocess, 36.9ms inference, 0.8ms postprocess per image at shape (1, 3, 384, 640)\n"
     ]
    },
    {
     "name": "stdout",
     "output_type": "stream",
     "text": [
      "barbell biceps curl\n",
      "1/1 [==============================] - 0s 16ms/step\n"
     ]
    },
    {
     "name": "stderr",
     "output_type": "stream",
     "text": [
      "\n",
      "0: 384x640 1 person, 49.6ms\n",
      "Speed: 1.3ms preprocess, 49.6ms inference, 0.7ms postprocess per image at shape (1, 3, 384, 640)\n"
     ]
    },
    {
     "name": "stdout",
     "output_type": "stream",
     "text": [
      "Squat\n",
      "1/1 [==============================] - 0s 16ms/step\n"
     ]
    },
    {
     "name": "stderr",
     "output_type": "stream",
     "text": [
      "\n"
     ]
    },
    {
     "name": "stdout",
     "output_type": "stream",
     "text": [
      "Squat\n"
     ]
    },
    {
     "name": "stderr",
     "output_type": "stream",
     "text": [
      "0: 384x640 1 person, 52.8ms\n",
      "Speed: 2.0ms preprocess, 52.8ms inference, 0.8ms postprocess per image at shape (1, 3, 384, 640)\n"
     ]
    },
    {
     "name": "stdout",
     "output_type": "stream",
     "text": [
      "1/1 [==============================] - 0s 26ms/step\n"
     ]
    },
    {
     "name": "stderr",
     "output_type": "stream",
     "text": [
      "\n"
     ]
    },
    {
     "name": "stdout",
     "output_type": "stream",
     "text": [
      "Squat\n"
     ]
    },
    {
     "name": "stderr",
     "output_type": "stream",
     "text": [
      "0: 384x640 1 person, 63.6ms\n",
      "Speed: 1.6ms preprocess, 63.6ms inference, 1.0ms postprocess per image at shape (1, 3, 384, 640)\n"
     ]
    },
    {
     "name": "stdout",
     "output_type": "stream",
     "text": [
      "1/1 [==============================] - 0s 19ms/step\n"
     ]
    },
    {
     "name": "stderr",
     "output_type": "stream",
     "text": [
      "\n"
     ]
    },
    {
     "name": "stdout",
     "output_type": "stream",
     "text": [
      "barbell biceps curl\n"
     ]
    },
    {
     "name": "stderr",
     "output_type": "stream",
     "text": [
      "0: 384x640 1 person, 54.7ms\n",
      "Speed: 5.1ms preprocess, 54.7ms inference, 0.8ms postprocess per image at shape (1, 3, 384, 640)\n"
     ]
    },
    {
     "name": "stdout",
     "output_type": "stream",
     "text": [
      "1/1 [==============================] - 0s 16ms/step\n"
     ]
    },
    {
     "name": "stderr",
     "output_type": "stream",
     "text": [
      "\n"
     ]
    },
    {
     "name": "stdout",
     "output_type": "stream",
     "text": [
      "barbell biceps curl\n"
     ]
    },
    {
     "name": "stderr",
     "output_type": "stream",
     "text": [
      "0: 384x640 1 person, 52.5ms\n",
      "Speed: 4.5ms preprocess, 52.5ms inference, 1.0ms postprocess per image at shape (1, 3, 384, 640)\n"
     ]
    },
    {
     "name": "stdout",
     "output_type": "stream",
     "text": [
      "1/1 [==============================] - 0s 19ms/step\n"
     ]
    },
    {
     "name": "stderr",
     "output_type": "stream",
     "text": [
      "\n"
     ]
    },
    {
     "name": "stdout",
     "output_type": "stream",
     "text": [
      "barbell biceps curl\n"
     ]
    },
    {
     "name": "stderr",
     "output_type": "stream",
     "text": [
      "0: 384x640 1 person, 51.1ms\n",
      "Speed: 1.3ms preprocess, 51.1ms inference, 0.7ms postprocess per image at shape (1, 3, 384, 640)\n"
     ]
    },
    {
     "name": "stdout",
     "output_type": "stream",
     "text": [
      "1/1 [==============================] - 0s 17ms/step\n"
     ]
    },
    {
     "name": "stderr",
     "output_type": "stream",
     "text": [
      "\n",
      "0: 384x640 1 person, 37.4ms\n",
      "Speed: 1.5ms preprocess, 37.4ms inference, 0.9ms postprocess per image at shape (1, 3, 384, 640)\n"
     ]
    },
    {
     "name": "stdout",
     "output_type": "stream",
     "text": [
      "barbell biceps curl\n",
      "1/1 [==============================] - 0s 17ms/step\n"
     ]
    },
    {
     "name": "stderr",
     "output_type": "stream",
     "text": [
      "\n",
      "0: 384x640 1 person, 50.4ms\n",
      "Speed: 1.4ms preprocess, 50.4ms inference, 0.8ms postprocess per image at shape (1, 3, 384, 640)\n"
     ]
    },
    {
     "name": "stdout",
     "output_type": "stream",
     "text": [
      "barbell biceps curl\n",
      "1/1 [==============================] - 0s 15ms/step\n"
     ]
    },
    {
     "name": "stderr",
     "output_type": "stream",
     "text": [
      "\n"
     ]
    },
    {
     "name": "stdout",
     "output_type": "stream",
     "text": [
      "barbell biceps curl\n"
     ]
    },
    {
     "name": "stderr",
     "output_type": "stream",
     "text": [
      "0: 384x640 1 person, 70.7ms\n",
      "Speed: 1.6ms preprocess, 70.7ms inference, 0.8ms postprocess per image at shape (1, 3, 384, 640)\n"
     ]
    },
    {
     "name": "stdout",
     "output_type": "stream",
     "text": [
      "1/1 [==============================] - 0s 17ms/step\n",
      "barbell biceps curl\n"
     ]
    },
    {
     "name": "stderr",
     "output_type": "stream",
     "text": [
      "\n",
      "0: 384x640 1 person, 61.5ms\n",
      "Speed: 1.5ms preprocess, 61.5ms inference, 1.0ms postprocess per image at shape (1, 3, 384, 640)\n"
     ]
    },
    {
     "name": "stdout",
     "output_type": "stream",
     "text": [
      "1/1 [==============================] - 0s 17ms/step\n"
     ]
    },
    {
     "name": "stderr",
     "output_type": "stream",
     "text": [
      "\n"
     ]
    },
    {
     "name": "stdout",
     "output_type": "stream",
     "text": [
      "barbell biceps curl\n"
     ]
    },
    {
     "name": "stderr",
     "output_type": "stream",
     "text": [
      "0: 384x640 1 person, 54.5ms\n",
      "Speed: 1.7ms preprocess, 54.5ms inference, 0.7ms postprocess per image at shape (1, 3, 384, 640)\n"
     ]
    },
    {
     "name": "stdout",
     "output_type": "stream",
     "text": [
      "1/1 [==============================] - 0s 17ms/step\n"
     ]
    },
    {
     "name": "stderr",
     "output_type": "stream",
     "text": [
      "\n"
     ]
    },
    {
     "name": "stdout",
     "output_type": "stream",
     "text": [
      "barbell biceps curl\n"
     ]
    },
    {
     "name": "stderr",
     "output_type": "stream",
     "text": [
      "0: 384x640 1 person, 50.3ms\n",
      "Speed: 6.1ms preprocess, 50.3ms inference, 0.6ms postprocess per image at shape (1, 3, 384, 640)\n"
     ]
    },
    {
     "name": "stdout",
     "output_type": "stream",
     "text": [
      "1/1 [==============================] - 0s 17ms/step\n"
     ]
    },
    {
     "name": "stderr",
     "output_type": "stream",
     "text": [
      "\n"
     ]
    },
    {
     "name": "stdout",
     "output_type": "stream",
     "text": [
      "barbell biceps curl\n"
     ]
    },
    {
     "name": "stderr",
     "output_type": "stream",
     "text": [
      "0: 384x640 1 person, 51.7ms\n",
      "Speed: 1.7ms preprocess, 51.7ms inference, 0.8ms postprocess per image at shape (1, 3, 384, 640)\n"
     ]
    },
    {
     "name": "stdout",
     "output_type": "stream",
     "text": [
      "1/1 [==============================] - 0s 19ms/step\n"
     ]
    },
    {
     "name": "stderr",
     "output_type": "stream",
     "text": [
      "\n"
     ]
    },
    {
     "name": "stdout",
     "output_type": "stream",
     "text": [
      "barbell biceps curl\n"
     ]
    },
    {
     "name": "stderr",
     "output_type": "stream",
     "text": [
      "0: 384x640 1 person, 50.1ms\n",
      "Speed: 1.5ms preprocess, 50.1ms inference, 0.7ms postprocess per image at shape (1, 3, 384, 640)\n"
     ]
    },
    {
     "name": "stdout",
     "output_type": "stream",
     "text": [
      "1/1 [==============================] - 0s 26ms/step\n"
     ]
    },
    {
     "name": "stderr",
     "output_type": "stream",
     "text": [
      "\n"
     ]
    },
    {
     "name": "stdout",
     "output_type": "stream",
     "text": [
      "barbell biceps curl\n"
     ]
    },
    {
     "name": "stderr",
     "output_type": "stream",
     "text": [
      "0: 384x640 1 person, 55.3ms\n",
      "Speed: 3.0ms preprocess, 55.3ms inference, 1.1ms postprocess per image at shape (1, 3, 384, 640)\n"
     ]
    },
    {
     "name": "stdout",
     "output_type": "stream",
     "text": [
      "1/1 [==============================] - 0s 17ms/step\n"
     ]
    },
    {
     "name": "stderr",
     "output_type": "stream",
     "text": [
      "\n"
     ]
    },
    {
     "name": "stdout",
     "output_type": "stream",
     "text": [
      "barbell biceps curl\n"
     ]
    },
    {
     "name": "stderr",
     "output_type": "stream",
     "text": [
      "0: 384x640 1 person, 52.7ms\n",
      "Speed: 1.4ms preprocess, 52.7ms inference, 0.8ms postprocess per image at shape (1, 3, 384, 640)\n"
     ]
    },
    {
     "name": "stdout",
     "output_type": "stream",
     "text": [
      "1/1 [==============================] - 0s 17ms/step\n"
     ]
    },
    {
     "name": "stderr",
     "output_type": "stream",
     "text": [
      "\n"
     ]
    },
    {
     "name": "stdout",
     "output_type": "stream",
     "text": [
      "barbell biceps curl\n"
     ]
    },
    {
     "name": "stderr",
     "output_type": "stream",
     "text": [
      "0: 384x640 1 person, 52.5ms\n",
      "Speed: 2.0ms preprocess, 52.5ms inference, 0.8ms postprocess per image at shape (1, 3, 384, 640)\n"
     ]
    },
    {
     "name": "stdout",
     "output_type": "stream",
     "text": [
      "1/1 [==============================] - 0s 18ms/step\n"
     ]
    },
    {
     "name": "stderr",
     "output_type": "stream",
     "text": [
      "WARNING ⚠️ 'source' is missing. Using 'source=/home/samarth5854/anaconda3/envs/ModelEnv/lib/python3.10/site-packages/ultralytics/assets'.\n",
      "\n"
     ]
    },
    {
     "name": "stdout",
     "output_type": "stream",
     "text": [
      "barbell biceps curl\n"
     ]
    },
    {
     "name": "stderr",
     "output_type": "stream",
     "text": [
      "image 1/2 /home/samarth5854/anaconda3/envs/ModelEnv/lib/python3.10/site-packages/ultralytics/assets/bus.jpg: 640x480 4 persons, 47.7ms\n",
      "image 2/2 /home/samarth5854/anaconda3/envs/ModelEnv/lib/python3.10/site-packages/ultralytics/assets/zidane.jpg: 384x640 2 persons, 38.4ms\n",
      "Speed: 1.4ms preprocess, 43.0ms inference, 1.0ms postprocess per image at shape (1, 3, 384, 640)\n"
     ]
    },
    {
     "name": "stdout",
     "output_type": "stream",
     "text": [
      "1/1 [==============================] - 0s 16ms/step\n",
      "barbell biceps curl\n"
     ]
    },
    {
     "ename": "AttributeError",
     "evalue": "'NoneType' object has no attribute 'copy'",
     "output_type": "error",
     "traceback": [
      "\u001b[0;31m---------------------------------------------------------------------------\u001b[0m",
      "\u001b[0;31mAttributeError\u001b[0m                            Traceback (most recent call last)",
      "Cell \u001b[0;32mIn[32], line 41\u001b[0m\n\u001b[1;32m     38\u001b[0m         sentence \u001b[39m=\u001b[39m sentence[\u001b[39m-\u001b[39m\u001b[39m5\u001b[39m:]\n\u001b[1;32m     40\u001b[0m     \u001b[39m# Viz probabilities\u001b[39;00m\n\u001b[0;32m---> 41\u001b[0m     image \u001b[39m=\u001b[39m prob_viz(res, actions, image, colors)\n\u001b[1;32m     43\u001b[0m cv2\u001b[39m.\u001b[39mrectangle(image, (\u001b[39m0\u001b[39m,\u001b[39m0\u001b[39m), (\u001b[39m640\u001b[39m, \u001b[39m40\u001b[39m), (\u001b[39m245\u001b[39m, \u001b[39m117\u001b[39m, \u001b[39m16\u001b[39m), \u001b[39m-\u001b[39m\u001b[39m1\u001b[39m)\n\u001b[1;32m     44\u001b[0m cv2\u001b[39m.\u001b[39mputText(image, \u001b[39m'\u001b[39m\u001b[39m \u001b[39m\u001b[39m'\u001b[39m\u001b[39m.\u001b[39mjoin(sentence), (\u001b[39m3\u001b[39m,\u001b[39m30\u001b[39m), \n\u001b[1;32m     45\u001b[0m                 cv2\u001b[39m.\u001b[39mFONT_HERSHEY_SIMPLEX, \u001b[39m1\u001b[39m, (\u001b[39m255\u001b[39m, \u001b[39m255\u001b[39m, \u001b[39m255\u001b[39m), \u001b[39m2\u001b[39m, cv2\u001b[39m.\u001b[39mLINE_AA)\n",
      "Cell \u001b[0;32mIn[30], line 3\u001b[0m, in \u001b[0;36mprob_viz\u001b[0;34m(res, actions, input_frame, colors)\u001b[0m\n\u001b[1;32m      2\u001b[0m \u001b[39mdef\u001b[39;00m \u001b[39mprob_viz\u001b[39m(res, actions, input_frame, colors):\n\u001b[0;32m----> 3\u001b[0m     output_frame \u001b[39m=\u001b[39m input_frame\u001b[39m.\u001b[39;49mcopy()\n\u001b[1;32m      4\u001b[0m     \u001b[39mfor\u001b[39;00m num, prob \u001b[39min\u001b[39;00m \u001b[39menumerate\u001b[39m(res):\n\u001b[1;32m      5\u001b[0m         cv2\u001b[39m.\u001b[39mrectangle(output_frame, (\u001b[39m0\u001b[39m,\u001b[39m60\u001b[39m\u001b[39m+\u001b[39mnum\u001b[39m*\u001b[39m\u001b[39m40\u001b[39m), (\u001b[39mint\u001b[39m(prob\u001b[39m*\u001b[39m\u001b[39m100\u001b[39m), \u001b[39m90\u001b[39m\u001b[39m+\u001b[39mnum\u001b[39m*\u001b[39m\u001b[39m40\u001b[39m), colors[num], \u001b[39m-\u001b[39m\u001b[39m1\u001b[39m)\n",
      "\u001b[0;31mAttributeError\u001b[0m: 'NoneType' object has no attribute 'copy'"
     ]
    },
    {
     "ename": "",
     "evalue": "",
     "output_type": "error",
     "traceback": [
      "\u001b[1;31mThe Kernel crashed while executing code in the the current cell or a previous cell. Please review the code in the cell(s) to identify a possible cause of the failure. Click <a href='https://aka.ms/vscodeJupyterKernelCrash'>here</a> for more info. View Jupyter <a href='command:jupyter.viewOutput'>log</a> for further details."
     ]
    }
   ],
   "source": [
    "# 1. New detection variables\n",
    "import cv2\n",
    "sequence = []\n",
    "sentence = []\n",
    "threshold = 0.8\n",
    "\n",
    "cap = cv2.VideoCapture(\"Dataset/barbell biceps curl/barbell biceps curl_2.mp43\")\n",
    "# Set mediapipe model \n",
    "\n",
    "while cap.isOpened():\n",
    "\n",
    "    # Read feed\n",
    "    ret, frame = cap.read()\n",
    "\n",
    "    if not ret:\n",
    "        print(\"No frames left in video. Exiting...\")\n",
    "        break\n",
    "    \n",
    "    image = frame\n",
    "\n",
    "    # Make detections\n",
    "    results = modelpose.predict(frame)\n",
    "    # Flatten keypoints\n",
    "    keypoints = np.array(results[0][0].keypoints.xyn).flatten()\n",
    "\n",
    "    sequence.append(keypoints)\n",
    "    sequence = sequence[-30:]\n",
    "    \n",
    "    if len(sequence) == 30:\n",
    "        res = model.predict(np.expand_dims(sequence, axis=0))[0]\n",
    "        print(actions[np.argmax(res)])\n",
    "        \n",
    "        \n",
    "    #3. Viz logic\n",
    "        if res[np.argmax(res)] > threshold: \n",
    "            if len(sentence) > 0: \n",
    "                if actions[np.argmax(res)] != sentence[-1]:\n",
    "                    sentence.append(actions[np.argmax(res)])\n",
    "            else:\n",
    "                sentence.append(actions[np.argmax(res)])\n",
    "\n",
    "        if len(sentence) > 5: \n",
    "            sentence = sentence[-5:]\n",
    "\n",
    "        # Viz probabilities\n",
    "        image = prob_viz(res, actions, image, colors)\n",
    "        \n",
    "    cv2.rectangle(image, (0,0), (640, 40), (245, 117, 16), -1)\n",
    "    cv2.putText(image, ' '.join(sentence), (3,30), \n",
    "                    cv2.FONT_HERSHEY_SIMPLEX, 1, (255, 255, 255), 2, cv2.LINE_AA)\n",
    "    \n",
    "    # Show to screen\n",
    "    cv2.imshow('OpenCV Feed', image)\n",
    "\n",
    "    # Break gracefully\n",
    "    if cv2.waitKey(10) & 0xFF == ord('q'):\n",
    "        break\n",
    "cap.release()\n",
    "cv2.destroyAllWindows()"
   ]
  },
  {
   "cell_type": "code",
   "execution_count": null,
   "metadata": {},
   "outputs": [],
   "source": []
  },
  {
   "cell_type": "code",
   "execution_count": null,
   "metadata": {},
   "outputs": [],
   "source": []
  }
 ],
 "metadata": {
  "kernelspec": {
   "display_name": "ModelEnv",
   "language": "python",
   "name": "python3"
  },
  "language_info": {
   "codemirror_mode": {
    "name": "ipython",
    "version": 3
   },
   "file_extension": ".py",
   "mimetype": "text/x-python",
   "name": "python",
   "nbconvert_exporter": "python",
   "pygments_lexer": "ipython3",
   "version": "3.10.12"
  },
  "orig_nbformat": 4
 },
 "nbformat": 4,
 "nbformat_minor": 2
}
